{
 "cells": [
  {
   "cell_type": "code",
   "execution_count": 1,
   "metadata": {},
   "outputs": [],
   "source": [
    "## Get dependencies ##\n",
    "\n",
    "import string\n",
    "import math\n",
    "import sys\n",
    "import matplotlib.pyplot as plt\n",
    "import matplotlib\n",
    "import seaborn as sn\n",
    "sys.path.append('..')\n",
    "from GIR import *\n",
    "import scipy as sp\n",
    "import pickle\n",
    "import time\n",
    "import scipy as sp\n",
    "from scipy import ndimage\n",
    "from scipy import signal\n",
    "import os\n",
    "import statsmodels.api as sm\n",
    "from mpl_toolkits.axes_grid1.inset_locator import inset_axes\n",
    "import glob\n",
    "import requests\n",
    "import ftplib\n",
    "import PyPDF2\n",
    "import io\n",
    "import cmocean\n",
    "import multiprocessing\n",
    "import xarray as xr\n",
    "import numpy as np\n",
    "import pandas as pd\n",
    "import requests\n",
    "import xml.etree.ElementTree as ET\n",
    "import zarr\n",
    "import gcsfs\n",
    "import multiprocessing"
   ]
  },
  {
   "cell_type": "code",
   "execution_count": 2,
   "metadata": {},
   "outputs": [],
   "source": [
    "def esgf_search(server=\"https://esgf-node.llnl.gov/esg-search/search\",\n",
    "                files_type=\"OPENDAP\", local_node=True, project=\"CMIP6\",\n",
    "                verbose=False,url_verbose=False, format=\"application%2Fsolr%2Bjson\",\n",
    "                use_csrf=False, **search):\n",
    "    client = requests.session()\n",
    "    payload = search\n",
    "    payload[\"project\"] = project\n",
    "    payload[\"type\"]= \"File\"\n",
    "    if local_node:\n",
    "        payload[\"distrib\"] = \"false\"\n",
    "    if use_csrf:\n",
    "        client.get(server)\n",
    "        if 'csrftoken' in client.cookies:\n",
    "            # Django 1.6 and up\n",
    "            csrftoken = client.cookies['csrftoken']\n",
    "        else:\n",
    "            # older versions\n",
    "            csrftoken = client.cookies['csrf']\n",
    "        payload[\"csrfmiddlewaretoken\"] = csrftoken\n",
    "\n",
    "    payload[\"format\"] = format\n",
    "\n",
    "    offset = 0\n",
    "    numFound = 10000\n",
    "    all_files = []\n",
    "    files_type = files_type.upper()\n",
    "    while offset < numFound:\n",
    "        payload[\"offset\"] = offset\n",
    "        url_keys = [] \n",
    "        for k in payload:\n",
    "            url_keys += [\"{}={}\".format(k, payload[k])]\n",
    "\n",
    "        url = \"{}/?{}\".format(server, \"&\".join(url_keys))\n",
    "        if url_verbose:\n",
    "            print(url)\n",
    "        r = client.get(url)\n",
    "        r.raise_for_status()\n",
    "        resp = r.json()[\"response\"]\n",
    "        numFound = int(resp[\"numFound\"])\n",
    "        resp = resp[\"docs\"]\n",
    "        offset += len(resp)\n",
    "        for d in resp:\n",
    "            if verbose:\n",
    "                for k in d:\n",
    "                    print(\"{}: {}\".format(k,d[k]))\n",
    "            url = d[\"url\"]\n",
    "            for f in d[\"url\"]:\n",
    "                sp = f.split(\"|\")\n",
    "                if sp[-1] == files_type:\n",
    "                    all_files.append(sp[0].split(\".html\")[0])\n",
    "    return sorted(all_files)"
   ]
  },
  {
   "cell_type": "code",
   "execution_count": 3,
   "metadata": {},
   "outputs": [],
   "source": [
    "def get_annual_CMIP6_data_esgf(activity, table, variable, experiment, institution, source, member):\n",
    "    # eg activity='CMIP', table='Amon', variable='tas', experiment='historical', institution=\"NCAR\", source=\"CESM2\", member=\"r10i1p1f1\"\n",
    "    \n",
    "    result = esgf_search(activity_id=activity, table_id=table, variable_id=variable, experiment_id=experiment,institution_id=institution, source_id=source, member_id=member)\n",
    "    \n",
    "    if not result:\n",
    "        print('No results for this request')\n",
    "        return None\n",
    "    \n",
    "    # select results with only the latest datestamp:\n",
    "    latest = sorted([x.split('/')[15] for x in result])[-1]\n",
    "    result = [x for x in result if x.split('/')[15]==latest]\n",
    "    \n",
    "    # remove duplicate results\n",
    "    result_1 = []\n",
    "\n",
    "    for item in result:\n",
    "        if item.split('/')[-1] in [x.split('/')[-1] for x in result_1]:\n",
    "            continue\n",
    "        else:\n",
    "            result_1 += [item]\n",
    "\n",
    "    ds = xr.open_mfdataset(result_1, combine='by_coords')\n",
    "    \n",
    "    files_area = esgf_search(variable_id='areacella', activity_id=activity, institution_id=institution, source_id=source)\n",
    "    \n",
    "    if not files_area:\n",
    "        print('No areacella for this request')\n",
    "        return None\n",
    "    \n",
    "    ds_area = xr.open_dataset(files_area[0])\n",
    "    \n",
    "    coords = list(ds[variable].coords.keys())\n",
    "    if 'lat' in coords:\n",
    "        dims = ['lat','lon']\n",
    "    else:\n",
    "        dims = ['latitude','longitude']\n",
    "    \n",
    "    total_area = ds_area.areacella.sum(dim=dims)\n",
    "    ta_timeseries = (ds[variable] * ds_area.areacella).sum(dim=dims) / total_area\n",
    "    \n",
    "    return ta_timeseries.groupby('time.year').mean('time').to_pandas().rename(institution+'_'+source+'_'+member)"
   ]
  },
  {
   "cell_type": "code",
   "execution_count": 4,
   "metadata": {},
   "outputs": [
    {
     "name": "stderr",
     "output_type": "stream",
     "text": [
      "/home/leachl/miniconda3/lib/python3.7/site-packages/IPython/core/interactiveshell.py:3072: DtypeWarning: Columns (10) have mixed types.Specify dtype option on import or set low_memory=False.\n",
      "  interactivity=interactivity, compiler=compiler, result=result)\n"
     ]
    }
   ],
   "source": [
    "gs_stores = pd.read_csv('gs://cmip6/cmip6-zarr-consolidated-stores.csv')\n",
    "gcs = gcsfs.GCSFileSystem(token='anon')\n",
    "gs_stores.loc[:,'ism'] = gs_stores.loc[:,'institution_id'] + '_' + gs_stores.loc[:,'source_id'] + '_' + gs_stores.loc[:,'member_id']\n",
    "\n",
    "def get_annual_CMIP6_data_gstore(activity, table, variable, experiment, institution, source, member):\n",
    "    # eg activity='CMIP', table='Amon', variable='tas', experiment='historical', institution=\"NCAR\", source=\"CESM2\", member=\"r10i1p1f1\"\n",
    "    \n",
    "    try:\n",
    "    \n",
    "        query = gs_stores.query(\"activity_id==\\'\"+activity+\"\\' & table_id==\\'\"+table+\"\\' & variable_id==\\'\"+variable+\"\\' & experiment_id==\\'\"+experiment+\"\\' & institution_id==\\'\"+institution+\"\\' & source_id==\\'\"+source+\"\\' & member_id==\\'\"+member+\"\\'\")\n",
    "\n",
    "        if query.empty:\n",
    "            print('No results for this request')\n",
    "            return None\n",
    "\n",
    "        # create a mutable-mapping-style interface to the store\n",
    "        mapper = gcs.get_mapper(query.zstore.values[0])\n",
    "\n",
    "        # open it using xarray and zarr\n",
    "        ds = xr.open_zarr(mapper, consolidated=True)\n",
    "\n",
    "        dims = list(ds[variable].dims)\n",
    "        dims.remove('time')\n",
    "\n",
    "        lat_dim_name = [x for x in dims if 'lat' in x][0]\n",
    "\n",
    "        weights = np.cos(np.deg2rad(ds[variable][lat_dim_name]))\n",
    "        weights.name = \"weights\"\n",
    "\n",
    "        ta_timeseries = ds[variable].weighted(weights).mean(dims)\n",
    "\n",
    "        return ta_timeseries.groupby('time.year').mean('time').to_pandas().rename(institution+'_'+source+'_'+member+'_'+variable+'_'+experiment)\n",
    "    \n",
    "    except:\n",
    "        print('retrieval failed')\n",
    "        return None"
   ]
  },
  {
   "cell_type": "code",
   "execution_count": 44,
   "metadata": {},
   "outputs": [
    {
     "name": "stdout",
     "output_type": "stream",
     "text": [
      "getting AS-RCEC_TaiESM1_r1i1p1f1_rlut\n",
      "getting AS-RCEC_TaiESM1_r1i1p1f1_rsut\n",
      "getting AS-RCEC_TaiESM1_r1i1p1f1_tas\n",
      "getting AWI_AWI-CM-1-1-MR_r1i1p1f1_rlut\n",
      "getting AWI_AWI-CM-1-1-MR_r1i1p1f1_rsut\n",
      "getting AWI_AWI-CM-1-1-MR_r1i1p1f1_tas\n",
      "getting BCC_BCC-CSM2-MR_r1i1p1f1_rlut\n",
      "getting BCC_BCC-CSM2-MR_r1i1p1f1_rsdt\n",
      "getting BCC_BCC-CSM2-MR_r1i1p1f1_rsut\n",
      "getting BCC_BCC-CSM2-MR_r1i1p1f1_tas\n",
      "getting BCC_BCC-ESM1_r1i1p1f1_rlut\n",
      "getting BCC_BCC-ESM1_r1i1p1f1_rsdt\n",
      "getting BCC_BCC-ESM1_r1i1p1f1_rsut\n",
      "getting BCC_BCC-ESM1_r1i1p1f1_tas\n",
      "getting CAMS_CAMS-CSM1-0_r1i1p1f1_rlut\n",
      "getting CAMS_CAMS-CSM1-0_r1i1p1f1_rsdt\n",
      "getting CAMS_CAMS-CSM1-0_r1i1p1f1_rsut\n",
      "getting CAMS_CAMS-CSM1-0_r1i1p1f1_tas\n",
      "getting CAMS_CAMS-CSM1-0_r2i1p1f1_rlut\n",
      "getting CAMS_CAMS-CSM1-0_r2i1p1f1_rsdt\n",
      "getting CAMS_CAMS-CSM1-0_r2i1p1f1_rsut\n",
      "getting CAMS_CAMS-CSM1-0_r2i1p1f1_tas\n",
      "getting CAS_CAS-ESM2-0_r1i1p1f1_tas\n",
      "getting CAS_FGOALS-f3-L_r1i1p1f1_rlut\n",
      "getting CAS_FGOALS-f3-L_r1i1p1f1_rsut\n",
      "getting CAS_FGOALS-f3-L_r1i1p1f1_tas\n",
      "getting CAS_FGOALS-f3-L_r2i1p1f1_tas\n",
      "getting CAS_FGOALS-f3-L_r3i1p1f1_tas\n",
      "getting CAS_FGOALS-g3_r1i1p1f1_tas\n",
      "getting CAS_FGOALS-g3_r2i1p1f1_tas\n",
      "getting CAS_FGOALS-g3_r3i1p1f1_tas\n",
      "getting CCCma_CanESM5-CanOE_r1i1p2f1_rlut\n",
      "getting CCCma_CanESM5-CanOE_r1i1p2f1_rsut\n",
      "getting CCCma_CanESM5-CanOE_r1i1p2f1_tas\n",
      "getting CCCma_CanESM5_r1i1p1f1_rlut\n",
      "getting CCCma_CanESM5_r1i1p1f1_rsdt\n",
      "getting CCCma_CanESM5_r1i1p1f1_rsut\n",
      "getting CCCma_CanESM5_r1i1p1f1_tas\n",
      "getting CCCma_CanESM5_r1i1p2f1_rlut\n",
      "getting CCCma_CanESM5_r1i1p2f1_rsdt\n",
      "getting CCCma_CanESM5_r1i1p2f1_rsut\n",
      "getting CCCma_CanESM5_r1i1p2f1_tas\n",
      "getting CCCma_CanESM5_r2i1p1f1_rlut\n",
      "getting CCCma_CanESM5_r2i1p1f1_rsdt\n",
      "getting CCCma_CanESM5_r2i1p1f1_rsut\n",
      "getting CCCma_CanESM5_r2i1p1f1_tas\n",
      "getting CCCma_CanESM5_r2i1p2f1_rlut\n",
      "getting CCCma_CanESM5_r2i1p2f1_rsdt\n",
      "getting CCCma_CanESM5_r2i1p2f1_rsut\n",
      "getting CCCma_CanESM5_r2i1p2f1_tas\n",
      "getting CCCma_CanESM5_r3i1p1f1_rlut\n",
      "getting CCCma_CanESM5_r3i1p1f1_rsdt\n",
      "getting CCCma_CanESM5_r3i1p1f1_rsut\n",
      "getting CCCma_CanESM5_r3i1p1f1_tas\n",
      "getting CCCma_CanESM5_r3i1p2f1_rlut\n",
      "getting CCCma_CanESM5_r3i1p2f1_rsdt\n",
      "getting CCCma_CanESM5_r3i1p2f1_rsut\n",
      "getting CCCma_CanESM5_r3i1p2f1_tas\n",
      "getting CCCR-IITM_IITM-ESM_r1i1p1f1_tas\n",
      "getting CMCC_CMCC-CM2-SR5_r1i1p1f1_tas\n",
      "getting CNRM-CERFACS_CNRM-CM6-1-HR_r1i1p1f2_rlut\n",
      "getting CNRM-CERFACS_CNRM-CM6-1-HR_r1i1p1f2_rsut\n",
      "getting CNRM-CERFACS_CNRM-CM6-1-HR_r1i1p1f2_tas\n",
      "getting CNRM-CERFACS_CNRM-CM6-1_r1i1p1f2_rlut\n",
      "getting CNRM-CERFACS_CNRM-CM6-1_r1i1p1f2_rsdt\n",
      "getting CNRM-CERFACS_CNRM-CM6-1_r1i1p1f2_rsut\n",
      "getting CNRM-CERFACS_CNRM-CM6-1_r1i1p1f2_tas\n",
      "getting CNRM-CERFACS_CNRM-ESM2-1_r10i1p1f2_tas\n",
      "getting CNRM-CERFACS_CNRM-ESM2-1_r1i1p1f2_rlut\n",
      "getting CNRM-CERFACS_CNRM-ESM2-1_r1i1p1f2_rsdt\n",
      "getting CNRM-CERFACS_CNRM-ESM2-1_r1i1p1f2_rsut\n",
      "getting CNRM-CERFACS_CNRM-ESM2-1_r1i1p1f2_tas\n",
      "getting CNRM-CERFACS_CNRM-ESM2-1_r2i1p1f2_rlut\n",
      "getting CNRM-CERFACS_CNRM-ESM2-1_r2i1p1f2_rsdt\n",
      "getting CNRM-CERFACS_CNRM-ESM2-1_r2i1p1f2_rsut\n",
      "getting CNRM-CERFACS_CNRM-ESM2-1_r2i1p1f2_tas\n",
      "getting CNRM-CERFACS_CNRM-ESM2-1_r3i1p1f2_rlut\n",
      "getting CNRM-CERFACS_CNRM-ESM2-1_r3i1p1f2_rsdt\n",
      "getting CNRM-CERFACS_CNRM-ESM2-1_r3i1p1f2_rsut\n",
      "getting CNRM-CERFACS_CNRM-ESM2-1_r3i1p1f2_tas\n",
      "getting CNRM-CERFACS_CNRM-ESM2-1_r4i1p1f2_rlut\n",
      "getting CNRM-CERFACS_CNRM-ESM2-1_r4i1p1f2_rsdt\n",
      "getting CNRM-CERFACS_CNRM-ESM2-1_r4i1p1f2_rsut\n",
      "getting CNRM-CERFACS_CNRM-ESM2-1_r4i1p1f2_tas\n",
      "getting CNRM-CERFACS_CNRM-ESM2-1_r5i1p1f2_tas\n",
      "getting CNRM-CERFACS_CNRM-ESM2-1_r6i1p1f2_tas\n",
      "getting CNRM-CERFACS_CNRM-ESM2-1_r7i1p1f2_tas\n",
      "getting CNRM-CERFACS_CNRM-ESM2-1_r8i1p1f2_tas\n",
      "getting CNRM-CERFACS_CNRM-ESM2-1_r9i1p1f2_tas\n",
      "getting CSIRO-ARCCSS_ACCESS-CM2_r1i1p1f1_rlut\n"
     ]
    },
    {
     "name": "stderr",
     "output_type": "stream",
     "text": [
      "/home/leachl/miniconda3/lib/python3.7/site-packages/xarray/coding/times.py:427: SerializationWarning: Unable to decode time axis into full numpy.datetime64 objects, continuing using cftime.datetime objects instead, reason: dates out of range\n",
      "  dtype = _decode_cf_datetime_dtype(data, units, calendar, self.use_cftime)\n",
      "/home/leachl/miniconda3/lib/python3.7/site-packages/numpy/core/_asarray.py:83: SerializationWarning: Unable to decode time axis into full numpy.datetime64 objects, continuing using cftime.datetime objects instead, reason: dates out of range\n",
      "  return array(a, dtype, copy=False, order=order)\n"
     ]
    },
    {
     "name": "stdout",
     "output_type": "stream",
     "text": [
      "getting CSIRO-ARCCSS_ACCESS-CM2_r1i1p1f1_rsdt\n"
     ]
    },
    {
     "name": "stderr",
     "output_type": "stream",
     "text": [
      "/home/leachl/miniconda3/lib/python3.7/site-packages/xarray/coding/times.py:427: SerializationWarning: Unable to decode time axis into full numpy.datetime64 objects, continuing using cftime.datetime objects instead, reason: dates out of range\n",
      "  dtype = _decode_cf_datetime_dtype(data, units, calendar, self.use_cftime)\n",
      "/home/leachl/miniconda3/lib/python3.7/site-packages/numpy/core/_asarray.py:83: SerializationWarning: Unable to decode time axis into full numpy.datetime64 objects, continuing using cftime.datetime objects instead, reason: dates out of range\n",
      "  return array(a, dtype, copy=False, order=order)\n"
     ]
    },
    {
     "name": "stdout",
     "output_type": "stream",
     "text": [
      "getting CSIRO-ARCCSS_ACCESS-CM2_r1i1p1f1_rsut\n"
     ]
    },
    {
     "name": "stderr",
     "output_type": "stream",
     "text": [
      "/home/leachl/miniconda3/lib/python3.7/site-packages/xarray/coding/times.py:427: SerializationWarning: Unable to decode time axis into full numpy.datetime64 objects, continuing using cftime.datetime objects instead, reason: dates out of range\n",
      "  dtype = _decode_cf_datetime_dtype(data, units, calendar, self.use_cftime)\n",
      "/home/leachl/miniconda3/lib/python3.7/site-packages/numpy/core/_asarray.py:83: SerializationWarning: Unable to decode time axis into full numpy.datetime64 objects, continuing using cftime.datetime objects instead, reason: dates out of range\n",
      "  return array(a, dtype, copy=False, order=order)\n"
     ]
    },
    {
     "name": "stdout",
     "output_type": "stream",
     "text": [
      "getting CSIRO-ARCCSS_ACCESS-CM2_r1i1p1f1_tas\n"
     ]
    },
    {
     "name": "stderr",
     "output_type": "stream",
     "text": [
      "/home/leachl/miniconda3/lib/python3.7/site-packages/xarray/coding/times.py:427: SerializationWarning: Unable to decode time axis into full numpy.datetime64 objects, continuing using cftime.datetime objects instead, reason: dates out of range\n",
      "  dtype = _decode_cf_datetime_dtype(data, units, calendar, self.use_cftime)\n",
      "/home/leachl/miniconda3/lib/python3.7/site-packages/numpy/core/_asarray.py:83: SerializationWarning: Unable to decode time axis into full numpy.datetime64 objects, continuing using cftime.datetime objects instead, reason: dates out of range\n",
      "  return array(a, dtype, copy=False, order=order)\n"
     ]
    },
    {
     "name": "stdout",
     "output_type": "stream",
     "text": [
      "getting CSIRO_ACCESS-ESM1-5_r1i1p1f1_rlut\n"
     ]
    },
    {
     "name": "stderr",
     "output_type": "stream",
     "text": [
      "/home/leachl/miniconda3/lib/python3.7/site-packages/xarray/coding/times.py:427: SerializationWarning: Unable to decode time axis into full numpy.datetime64 objects, continuing using cftime.datetime objects instead, reason: dates out of range\n",
      "  dtype = _decode_cf_datetime_dtype(data, units, calendar, self.use_cftime)\n",
      "/home/leachl/miniconda3/lib/python3.7/site-packages/numpy/core/_asarray.py:83: SerializationWarning: Unable to decode time axis into full numpy.datetime64 objects, continuing using cftime.datetime objects instead, reason: dates out of range\n",
      "  return array(a, dtype, copy=False, order=order)\n"
     ]
    },
    {
     "name": "stdout",
     "output_type": "stream",
     "text": [
      "getting CSIRO_ACCESS-ESM1-5_r1i1p1f1_rsdt\n"
     ]
    },
    {
     "name": "stderr",
     "output_type": "stream",
     "text": [
      "/home/leachl/miniconda3/lib/python3.7/site-packages/xarray/coding/times.py:427: SerializationWarning: Unable to decode time axis into full numpy.datetime64 objects, continuing using cftime.datetime objects instead, reason: dates out of range\n",
      "  dtype = _decode_cf_datetime_dtype(data, units, calendar, self.use_cftime)\n",
      "/home/leachl/miniconda3/lib/python3.7/site-packages/numpy/core/_asarray.py:83: SerializationWarning: Unable to decode time axis into full numpy.datetime64 objects, continuing using cftime.datetime objects instead, reason: dates out of range\n",
      "  return array(a, dtype, copy=False, order=order)\n"
     ]
    },
    {
     "name": "stdout",
     "output_type": "stream",
     "text": [
      "getting CSIRO_ACCESS-ESM1-5_r1i1p1f1_rsut\n"
     ]
    },
    {
     "name": "stderr",
     "output_type": "stream",
     "text": [
      "/home/leachl/miniconda3/lib/python3.7/site-packages/xarray/coding/times.py:427: SerializationWarning: Unable to decode time axis into full numpy.datetime64 objects, continuing using cftime.datetime objects instead, reason: dates out of range\n",
      "  dtype = _decode_cf_datetime_dtype(data, units, calendar, self.use_cftime)\n",
      "/home/leachl/miniconda3/lib/python3.7/site-packages/numpy/core/_asarray.py:83: SerializationWarning: Unable to decode time axis into full numpy.datetime64 objects, continuing using cftime.datetime objects instead, reason: dates out of range\n",
      "  return array(a, dtype, copy=False, order=order)\n"
     ]
    },
    {
     "name": "stdout",
     "output_type": "stream",
     "text": [
      "getting CSIRO_ACCESS-ESM1-5_r1i1p1f1_tas\n"
     ]
    },
    {
     "name": "stderr",
     "output_type": "stream",
     "text": [
      "/home/leachl/miniconda3/lib/python3.7/site-packages/xarray/coding/times.py:427: SerializationWarning: Unable to decode time axis into full numpy.datetime64 objects, continuing using cftime.datetime objects instead, reason: dates out of range\n",
      "  dtype = _decode_cf_datetime_dtype(data, units, calendar, self.use_cftime)\n",
      "/home/leachl/miniconda3/lib/python3.7/site-packages/numpy/core/_asarray.py:83: SerializationWarning: Unable to decode time axis into full numpy.datetime64 objects, continuing using cftime.datetime objects instead, reason: dates out of range\n",
      "  return array(a, dtype, copy=False, order=order)\n"
     ]
    },
    {
     "name": "stdout",
     "output_type": "stream",
     "text": [
      "getting E3SM-Project_E3SM-1-0_r1i1p1f1_rlut\n",
      "getting E3SM-Project_E3SM-1-0_r1i1p1f1_rsdt\n",
      "getting E3SM-Project_E3SM-1-0_r1i1p1f1_rsut\n",
      "getting E3SM-Project_E3SM-1-0_r1i1p1f1_tas\n",
      "getting EC-Earth-Consortium_EC-Earth3-Veg_r1i1p1f1_rlut\n",
      "getting EC-Earth-Consortium_EC-Earth3-Veg_r1i1p1f1_rsdt\n",
      "getting EC-Earth-Consortium_EC-Earth3-Veg_r1i1p1f1_rsut\n",
      "getting EC-Earth-Consortium_EC-Earth3-Veg_r1i1p1f1_tas\n",
      "getting FIO-QLNM_FIO-ESM-2-0_r1i1p1f1_rlut\n",
      "getting FIO-QLNM_FIO-ESM-2-0_r1i1p1f1_tas\n",
      "getting FIO-QLNM_FIO-ESM-2-0_r2i1p1f1_tas\n",
      "getting FIO-QLNM_FIO-ESM-2-0_r3i1p1f1_tas\n",
      "getting HAMMOZ-Consortium_MPI-ESM-1-2-HAM_r1i1p1f1_tas\n",
      "getting INM_INM-CM4-8_r1i1p1f1_rlut\n",
      "getting INM_INM-CM4-8_r1i1p1f1_rsdt\n",
      "getting INM_INM-CM4-8_r1i1p1f1_rsut\n",
      "getting INM_INM-CM4-8_r1i1p1f1_tas\n",
      "getting INM_INM-CM5-0_r1i1p1f1_rlut\n",
      "getting INM_INM-CM5-0_r1i1p1f1_rsut\n",
      "getting INM_INM-CM5-0_r1i1p1f1_tas\n",
      "getting IPSL_IPSL-CM6A-LR_r1i1p1f1_rlut\n",
      "getting IPSL_IPSL-CM6A-LR_r1i1p1f1_rsdt\n",
      "getting IPSL_IPSL-CM6A-LR_r1i1p1f1_rsut\n",
      "getting IPSL_IPSL-CM6A-LR_r1i1p1f1_tas\n",
      "getting MIROC_MIROC-ES2L_r1i1p1f2_rlut\n",
      "getting MIROC_MIROC-ES2L_r1i1p1f2_rsdt\n",
      "getting MIROC_MIROC-ES2L_r1i1p1f2_rsut\n",
      "getting MIROC_MIROC-ES2L_r1i1p1f2_tas\n",
      "getting MIROC_MIROC6_r1i1p1f1_rlut\n"
     ]
    },
    {
     "name": "stderr",
     "output_type": "stream",
     "text": [
      "/home/leachl/miniconda3/lib/python3.7/site-packages/xarray/coding/times.py:427: SerializationWarning: Unable to decode time axis into full numpy.datetime64 objects, continuing using cftime.datetime objects instead, reason: dates out of range\n",
      "  dtype = _decode_cf_datetime_dtype(data, units, calendar, self.use_cftime)\n",
      "/home/leachl/miniconda3/lib/python3.7/site-packages/numpy/core/_asarray.py:83: SerializationWarning: Unable to decode time axis into full numpy.datetime64 objects, continuing using cftime.datetime objects instead, reason: dates out of range\n",
      "  return array(a, dtype, copy=False, order=order)\n"
     ]
    },
    {
     "name": "stdout",
     "output_type": "stream",
     "text": [
      "getting MIROC_MIROC6_r1i1p1f1_rsdt\n"
     ]
    },
    {
     "name": "stderr",
     "output_type": "stream",
     "text": [
      "/home/leachl/miniconda3/lib/python3.7/site-packages/xarray/coding/times.py:427: SerializationWarning: Unable to decode time axis into full numpy.datetime64 objects, continuing using cftime.datetime objects instead, reason: dates out of range\n",
      "  dtype = _decode_cf_datetime_dtype(data, units, calendar, self.use_cftime)\n",
      "/home/leachl/miniconda3/lib/python3.7/site-packages/numpy/core/_asarray.py:83: SerializationWarning: Unable to decode time axis into full numpy.datetime64 objects, continuing using cftime.datetime objects instead, reason: dates out of range\n",
      "  return array(a, dtype, copy=False, order=order)\n"
     ]
    },
    {
     "name": "stdout",
     "output_type": "stream",
     "text": [
      "getting MIROC_MIROC6_r1i1p1f1_rsut\n"
     ]
    },
    {
     "name": "stderr",
     "output_type": "stream",
     "text": [
      "/home/leachl/miniconda3/lib/python3.7/site-packages/xarray/coding/times.py:427: SerializationWarning: Unable to decode time axis into full numpy.datetime64 objects, continuing using cftime.datetime objects instead, reason: dates out of range\n",
      "  dtype = _decode_cf_datetime_dtype(data, units, calendar, self.use_cftime)\n",
      "/home/leachl/miniconda3/lib/python3.7/site-packages/numpy/core/_asarray.py:83: SerializationWarning: Unable to decode time axis into full numpy.datetime64 objects, continuing using cftime.datetime objects instead, reason: dates out of range\n",
      "  return array(a, dtype, copy=False, order=order)\n"
     ]
    },
    {
     "name": "stdout",
     "output_type": "stream",
     "text": [
      "getting MIROC_MIROC6_r1i1p1f1_tas\n"
     ]
    },
    {
     "name": "stderr",
     "output_type": "stream",
     "text": [
      "/home/leachl/miniconda3/lib/python3.7/site-packages/xarray/coding/times.py:427: SerializationWarning: Unable to decode time axis into full numpy.datetime64 objects, continuing using cftime.datetime objects instead, reason: dates out of range\n",
      "  dtype = _decode_cf_datetime_dtype(data, units, calendar, self.use_cftime)\n",
      "/home/leachl/miniconda3/lib/python3.7/site-packages/numpy/core/_asarray.py:83: SerializationWarning: Unable to decode time axis into full numpy.datetime64 objects, continuing using cftime.datetime objects instead, reason: dates out of range\n",
      "  return array(a, dtype, copy=False, order=order)\n"
     ]
    },
    {
     "name": "stdout",
     "output_type": "stream",
     "text": [
      "getting MOHC_HadGEM3-GC31-LL_r1i1p1f3_rlut\n",
      "getting MOHC_HadGEM3-GC31-LL_r1i1p1f3_rsdt\n",
      "getting MOHC_HadGEM3-GC31-LL_r1i1p1f3_rsut\n",
      "getting MOHC_HadGEM3-GC31-LL_r1i1p1f3_tas\n",
      "getting MOHC_HadGEM3-GC31-LL_r2i1p1f3_rlut\n",
      "getting MOHC_HadGEM3-GC31-LL_r2i1p1f3_rsdt\n",
      "getting MOHC_HadGEM3-GC31-LL_r2i1p1f3_rsut\n",
      "getting MOHC_HadGEM3-GC31-LL_r2i1p1f3_tas\n",
      "getting MOHC_HadGEM3-GC31-LL_r3i1p1f3_rlut\n",
      "getting MOHC_HadGEM3-GC31-LL_r3i1p1f3_rsdt\n",
      "getting MOHC_HadGEM3-GC31-LL_r3i1p1f3_rsut\n",
      "getting MOHC_HadGEM3-GC31-LL_r3i1p1f3_tas\n",
      "getting MOHC_HadGEM3-GC31-LL_r4i1p1f3_rlut\n",
      "getting MOHC_HadGEM3-GC31-LL_r4i1p1f3_rsdt\n",
      "getting MOHC_HadGEM3-GC31-LL_r4i1p1f3_rsut\n",
      "getting MOHC_HadGEM3-GC31-LL_r4i1p1f3_tas\n",
      "getting MOHC_HadGEM3-GC31-MM_r1i1p1f3_rlut\n",
      "getting MOHC_HadGEM3-GC31-MM_r1i1p1f3_rsut\n",
      "getting MOHC_HadGEM3-GC31-MM_r1i1p1f3_tas\n",
      "getting MOHC_UKESM1-0-LL_r1i1p1f2_rlut\n",
      "getting MOHC_UKESM1-0-LL_r1i1p1f2_rsdt\n",
      "getting MOHC_UKESM1-0-LL_r1i1p1f2_rsut\n",
      "getting MOHC_UKESM1-0-LL_r1i1p1f2_tas\n",
      "getting MOHC_UKESM1-0-LL_r2i1p1f2_rlut\n",
      "getting MOHC_UKESM1-0-LL_r2i1p1f2_rsdt\n",
      "getting MOHC_UKESM1-0-LL_r2i1p1f2_rsut\n",
      "getting MOHC_UKESM1-0-LL_r2i1p1f2_tas\n",
      "getting MOHC_UKESM1-0-LL_r3i1p1f2_rlut\n",
      "getting MOHC_UKESM1-0-LL_r3i1p1f2_rsdt\n",
      "getting MOHC_UKESM1-0-LL_r3i1p1f2_rsut\n",
      "getting MOHC_UKESM1-0-LL_r3i1p1f2_tas\n",
      "getting MOHC_UKESM1-0-LL_r4i1p1f2_rlut\n",
      "getting MOHC_UKESM1-0-LL_r4i1p1f2_rsdt\n",
      "getting MOHC_UKESM1-0-LL_r4i1p1f2_rsut\n",
      "getting MOHC_UKESM1-0-LL_r4i1p1f2_tas\n",
      "getting MPI-M_MPI-ESM1-2-HR_r1i1p1f1_rlut\n",
      "getting MPI-M_MPI-ESM1-2-HR_r1i1p1f1_rsdt\n",
      "getting MPI-M_MPI-ESM1-2-HR_r1i1p1f1_rsut\n",
      "getting MPI-M_MPI-ESM1-2-HR_r1i1p1f1_tas\n",
      "getting MPI-M_MPI-ESM1-2-LR_r1i1p1f1_rlut\n",
      "getting MPI-M_MPI-ESM1-2-LR_r1i1p1f1_rsdt\n",
      "getting MPI-M_MPI-ESM1-2-LR_r1i1p1f1_rsut\n",
      "getting MPI-M_MPI-ESM1-2-LR_r1i1p1f1_tas\n",
      "getting MRI_MRI-ESM2-0_r1i1p1f1_rlut\n",
      "getting MRI_MRI-ESM2-0_r1i1p1f1_rsdt\n",
      "getting MRI_MRI-ESM2-0_r1i1p1f1_rsut\n",
      "getting MRI_MRI-ESM2-0_r1i1p1f1_tas\n",
      "getting MRI_MRI-ESM2-0_r1i2p1f1_rlut\n",
      "getting MRI_MRI-ESM2-0_r1i2p1f1_rsdt\n",
      "getting MRI_MRI-ESM2-0_r1i2p1f1_rsut\n",
      "getting MRI_MRI-ESM2-0_r1i2p1f1_tas\n",
      "getting NASA-GISS_GISS-E2-1-G_r101i1p1f1_rlut\n",
      "getting NASA-GISS_GISS-E2-1-G_r101i1p1f1_rsdt\n",
      "getting NASA-GISS_GISS-E2-1-G_r101i1p1f1_rsut\n",
      "getting NASA-GISS_GISS-E2-1-G_r101i1p1f1_tas\n",
      "getting NASA-GISS_GISS-E2-1-G_r102i1p1f1_rlut\n",
      "getting NASA-GISS_GISS-E2-1-G_r102i1p1f1_rsdt\n",
      "getting NASA-GISS_GISS-E2-1-G_r102i1p1f1_rsut\n",
      "getting NASA-GISS_GISS-E2-1-G_r102i1p1f1_tas\n",
      "getting NASA-GISS_GISS-E2-1-G_r1i1p1f1_rlut\n",
      "getting NASA-GISS_GISS-E2-1-G_r1i1p1f1_rsdt\n",
      "getting NASA-GISS_GISS-E2-1-G_r1i1p1f1_rsut\n",
      "getting NASA-GISS_GISS-E2-1-G_r1i1p1f1_tas\n",
      "getting NASA-GISS_GISS-E2-1-G_r1i1p3f1_rlut\n",
      "getting NASA-GISS_GISS-E2-1-G_r1i1p3f1_rsdt\n",
      "getting NASA-GISS_GISS-E2-1-G_r1i1p3f1_rsut\n",
      "getting NASA-GISS_GISS-E2-1-G_r1i1p3f1_tas\n",
      "getting NASA-GISS_GISS-E2-1-G_r1i1p5f1_tas\n",
      "getting NASA-GISS_GISS-E2-1-H_r1i1p1f1_rlut\n",
      "getting NASA-GISS_GISS-E2-1-H_r1i1p1f1_rsdt\n",
      "getting NASA-GISS_GISS-E2-1-H_r1i1p1f1_rsut\n",
      "getting NASA-GISS_GISS-E2-1-H_r1i1p1f1_tas\n",
      "getting NASA-GISS_GISS-E2-2-G_r1i1p1f1_rlut\n",
      "getting NASA-GISS_GISS-E2-2-G_r1i1p1f1_rsdt\n",
      "getting NASA-GISS_GISS-E2-2-G_r1i1p1f1_rsut\n",
      "getting NASA-GISS_GISS-E2-2-G_r1i1p1f1_tas\n",
      "getting NCAR_CESM2-FV2_r1i1p1f1_rlut\n",
      "getting NCAR_CESM2-FV2_r1i1p1f1_rsut\n",
      "getting NCAR_CESM2-FV2_r1i1p1f1_tas\n",
      "getting NCAR_CESM2-WACCM-FV2_r1i1p1f1_rlut\n",
      "getting NCAR_CESM2-WACCM-FV2_r1i1p1f1_rsut\n",
      "getting NCAR_CESM2-WACCM-FV2_r1i1p1f1_tas\n",
      "getting NCAR_CESM2-WACCM_r1i1p1f1_rlut\n",
      "getting NCAR_CESM2-WACCM_r1i1p1f1_rsdt\n",
      "getting NCAR_CESM2-WACCM_r1i1p1f1_rsut\n",
      "getting NCAR_CESM2-WACCM_r1i1p1f1_tas\n",
      "getting NCAR_CESM2_r1i1p1f1_rlut\n",
      "getting NCAR_CESM2_r1i1p1f1_rsdt\n",
      "getting NCAR_CESM2_r1i1p1f1_rsut\n",
      "getting NCAR_CESM2_r1i1p1f1_tas\n",
      "getting NCC_NorCPM1_r1i1p1f1_rlut\n",
      "getting NCC_NorCPM1_r1i1p1f1_rsdt\n",
      "getting NCC_NorCPM1_r1i1p1f1_rsut\n",
      "getting NCC_NorCPM1_r1i1p1f1_tas\n",
      "getting NCC_NorESM2-LM_r1i1p1f1_rlut\n",
      "getting NCC_NorESM2-LM_r1i1p1f1_rsdt\n",
      "getting NCC_NorESM2-LM_r1i1p1f1_rsut\n",
      "getting NCC_NorESM2-LM_r1i1p1f1_tas\n",
      "getting NCC_NorESM2-MM_r1i1p1f1_rlut\n",
      "getting NCC_NorESM2-MM_r1i1p1f1_rsut\n",
      "getting NCC_NorESM2-MM_r1i1p1f1_tas\n",
      "getting NIMS-KMA_KACE-1-0-G_r1i1p1f1_rlut\n",
      "getting NIMS-KMA_KACE-1-0-G_r1i1p1f1_rsdt\n",
      "getting NIMS-KMA_KACE-1-0-G_r1i1p1f1_rsut\n",
      "getting NIMS-KMA_KACE-1-0-G_r1i1p1f1_tas\n",
      "getting NOAA-GFDL_GFDL-CM4_r1i1p1f1_rlut\n",
      "getting NOAA-GFDL_GFDL-CM4_r1i1p1f1_rsdt\n",
      "getting NOAA-GFDL_GFDL-CM4_r1i1p1f1_rsut\n",
      "getting NOAA-GFDL_GFDL-CM4_r1i1p1f1_tas\n",
      "getting NOAA-GFDL_GFDL-ESM4_r1i1p1f1_tas\n",
      "getting NUIST_NESM3_r1i1p1f1_rlut\n",
      "getting NUIST_NESM3_r1i1p1f1_rsdt\n",
      "getting NUIST_NESM3_r1i1p1f1_rsut\n",
      "getting NUIST_NESM3_r1i1p1f1_tas\n",
      "getting SNU_SAM0-UNICON_r1i1p1f1_rlut\n",
      "getting SNU_SAM0-UNICON_r1i1p1f1_rsdt\n",
      "getting SNU_SAM0-UNICON_r1i1p1f1_rsut\n",
      "getting SNU_SAM0-UNICON_r1i1p1f1_tas\n",
      "getting THU_CIESM_r1i1p1f1_rlut\n",
      "getting THU_CIESM_r1i1p1f1_rsut\n",
      "getting THU_CIESM_r1i1p1f1_tas\n",
      "getting UA_MCM-UA-1-0_r1i1p1f1_rlut\n",
      "getting UA_MCM-UA-1-0_r1i1p1f1_tas\n"
     ]
    }
   ],
   "source": [
    "onepct_info = gs_stores.loc[(gs_stores.experiment_id=='1pctCO2')&(gs_stores.variable_id.isin(['tas','rlut','rsut','rsdt']))&(gs_stores.table_id=='Amon')]\n",
    "\n",
    "onepct_data=[]\n",
    "\n",
    "for index,row in onepct_info.iterrows():\n",
    "    print('getting '+row.loc['ism']+'_'+row.loc['variable_id'])\n",
    "    onepct_data += [get_annual_CMIP6_data_gstore(row.loc['activity_id'], row.loc['table_id'], row.loc['variable_id'], row.loc['experiment_id'], row.loc['institution_id'], row.loc['source_id'], row.loc['member_id'])]"
   ]
  },
  {
   "cell_type": "code",
   "execution_count": 45,
   "metadata": {},
   "outputs": [],
   "source": [
    "pd.concat(onepct_data,axis=1).to_csv('./cmip6_data/onepct.csv')"
   ]
  },
  {
   "cell_type": "code",
   "execution_count": 46,
   "metadata": {},
   "outputs": [
    {
     "name": "stdout",
     "output_type": "stream",
     "text": [
      "getting AS-RCEC_TaiESM1_r1i1p1f1_rlut\n",
      "getting AS-RCEC_TaiESM1_r1i1p1f1_rsut\n",
      "getting AS-RCEC_TaiESM1_r1i1p1f1_tas\n",
      "getting AWI_AWI-CM-1-1-MR_r1i1p1f1_rlut\n",
      "getting AWI_AWI-CM-1-1-MR_r1i1p1f1_rsdt\n",
      "getting AWI_AWI-CM-1-1-MR_r1i1p1f1_rsut\n",
      "getting AWI_AWI-CM-1-1-MR_r1i1p1f1_tas\n",
      "getting BCC_BCC-CSM2-MR_r1i1p1f1_rlut\n",
      "getting BCC_BCC-CSM2-MR_r1i1p1f1_rsdt\n",
      "getting BCC_BCC-CSM2-MR_r1i1p1f1_rsut\n",
      "getting BCC_BCC-CSM2-MR_r1i1p1f1_tas\n",
      "getting BCC_BCC-ESM1_r1i1p1f1_rlut\n",
      "getting BCC_BCC-ESM1_r1i1p1f1_rsdt\n",
      "getting BCC_BCC-ESM1_r1i1p1f1_rsut\n",
      "getting BCC_BCC-ESM1_r1i1p1f1_tas\n",
      "getting CAMS_CAMS-CSM1-0_r1i1p1f1_rlut\n",
      "getting CAMS_CAMS-CSM1-0_r1i1p1f1_rsdt\n",
      "getting CAMS_CAMS-CSM1-0_r1i1p1f1_rsut\n",
      "getting CAMS_CAMS-CSM1-0_r1i1p1f1_tas\n",
      "getting CAMS_CAMS-CSM1-0_r2i1p1f1_rlut\n",
      "getting CAMS_CAMS-CSM1-0_r2i1p1f1_rsdt\n",
      "getting CAMS_CAMS-CSM1-0_r2i1p1f1_rsut\n",
      "getting CAMS_CAMS-CSM1-0_r2i1p1f1_tas\n",
      "getting CAS_CAS-ESM2-0_r1i1p1f1_tas\n",
      "getting CAS_FGOALS-f3-L_r1i1p1f1_tas\n",
      "getting CAS_FGOALS-f3-L_r2i1p1f1_tas\n",
      "getting CAS_FGOALS-f3-L_r3i1p1f1_tas\n",
      "getting CAS_FGOALS-g3_r1i1p1f1_tas\n",
      "getting CCCma_CanESM5_r1i1p1f1_rlut\n",
      "getting CCCma_CanESM5_r1i1p1f1_rsdt\n",
      "getting CCCma_CanESM5_r1i1p1f1_rsut\n",
      "getting CCCma_CanESM5_r1i1p1f1_tas\n",
      "getting CCCma_CanESM5_r1i1p2f1_rlut\n",
      "getting CCCma_CanESM5_r1i1p2f1_rsdt\n",
      "getting CCCma_CanESM5_r1i1p2f1_rsut\n",
      "getting CCCma_CanESM5_r1i1p2f1_tas\n",
      "getting CCCR-IITM_IITM-ESM_r1i1p1f1_tas\n",
      "getting CMCC_CMCC-CM2-SR5_r1i1p1f1_tas\n",
      "getting CNRM-CERFACS_CNRM-CM6-1-HR_r1i1p1f2_rlut\n",
      "getting CNRM-CERFACS_CNRM-CM6-1-HR_r1i1p1f2_rsdt\n",
      "getting CNRM-CERFACS_CNRM-CM6-1-HR_r1i1p1f2_rsut\n",
      "getting CNRM-CERFACS_CNRM-CM6-1-HR_r1i1p1f2_tas\n",
      "getting CNRM-CERFACS_CNRM-CM6-1_r1i1p1f2_rlut\n",
      "getting CNRM-CERFACS_CNRM-CM6-1_r1i1p1f2_rsdt\n",
      "getting CNRM-CERFACS_CNRM-CM6-1_r1i1p1f2_rsut\n",
      "getting CNRM-CERFACS_CNRM-CM6-1_r1i1p1f2_tas\n",
      "getting CNRM-CERFACS_CNRM-CM6-1_r2i1p1f2_rlut\n",
      "getting CNRM-CERFACS_CNRM-CM6-1_r2i1p1f2_rsdt\n",
      "getting CNRM-CERFACS_CNRM-CM6-1_r2i1p1f2_rsut\n",
      "getting CNRM-CERFACS_CNRM-CM6-1_r2i1p1f2_tas\n",
      "getting CNRM-CERFACS_CNRM-CM6-1_r3i1p1f2_rlut\n",
      "getting CNRM-CERFACS_CNRM-CM6-1_r3i1p1f2_rsdt\n",
      "getting CNRM-CERFACS_CNRM-CM6-1_r3i1p1f2_rsut\n",
      "getting CNRM-CERFACS_CNRM-CM6-1_r3i1p1f2_tas\n",
      "getting CNRM-CERFACS_CNRM-CM6-1_r4i1p1f2_rlut\n",
      "getting CNRM-CERFACS_CNRM-CM6-1_r4i1p1f2_rsdt\n",
      "getting CNRM-CERFACS_CNRM-CM6-1_r4i1p1f2_rsut\n",
      "getting CNRM-CERFACS_CNRM-CM6-1_r4i1p1f2_tas\n",
      "getting CNRM-CERFACS_CNRM-CM6-1_r5i1p1f2_rlut\n",
      "getting CNRM-CERFACS_CNRM-CM6-1_r5i1p1f2_rsdt\n",
      "getting CNRM-CERFACS_CNRM-CM6-1_r5i1p1f2_rsut\n",
      "getting CNRM-CERFACS_CNRM-CM6-1_r5i1p1f2_tas\n",
      "getting CNRM-CERFACS_CNRM-CM6-1_r6i1p1f2_rlut\n",
      "getting CNRM-CERFACS_CNRM-CM6-1_r6i1p1f2_rsdt\n",
      "getting CNRM-CERFACS_CNRM-CM6-1_r6i1p1f2_rsut\n",
      "getting CNRM-CERFACS_CNRM-CM6-1_r6i1p1f2_tas\n",
      "getting CNRM-CERFACS_CNRM-ESM2-1_r1i1p1f2_rlut\n",
      "getting CNRM-CERFACS_CNRM-ESM2-1_r1i1p1f2_rsdt\n",
      "getting CNRM-CERFACS_CNRM-ESM2-1_r1i1p1f2_rsut\n",
      "getting CNRM-CERFACS_CNRM-ESM2-1_r1i1p1f2_tas\n",
      "getting CNRM-CERFACS_CNRM-ESM2-1_r2i1p1f2_rlut\n",
      "getting CNRM-CERFACS_CNRM-ESM2-1_r2i1p1f2_rsdt\n",
      "getting CNRM-CERFACS_CNRM-ESM2-1_r2i1p1f2_rsut\n",
      "getting CNRM-CERFACS_CNRM-ESM2-1_r2i1p1f2_tas\n",
      "getting CNRM-CERFACS_CNRM-ESM2-1_r3i1p1f2_rlut\n",
      "getting CNRM-CERFACS_CNRM-ESM2-1_r3i1p1f2_rsdt\n",
      "getting CNRM-CERFACS_CNRM-ESM2-1_r3i1p1f2_rsut\n",
      "getting CNRM-CERFACS_CNRM-ESM2-1_r3i1p1f2_tas\n",
      "getting CSIRO-ARCCSS_ACCESS-CM2_r1i1p1f1_rlut\n"
     ]
    },
    {
     "name": "stderr",
     "output_type": "stream",
     "text": [
      "/home/leachl/miniconda3/lib/python3.7/site-packages/xarray/coding/times.py:427: SerializationWarning: Unable to decode time axis into full numpy.datetime64 objects, continuing using cftime.datetime objects instead, reason: dates out of range\n",
      "  dtype = _decode_cf_datetime_dtype(data, units, calendar, self.use_cftime)\n",
      "/home/leachl/miniconda3/lib/python3.7/site-packages/numpy/core/_asarray.py:83: SerializationWarning: Unable to decode time axis into full numpy.datetime64 objects, continuing using cftime.datetime objects instead, reason: dates out of range\n",
      "  return array(a, dtype, copy=False, order=order)\n"
     ]
    },
    {
     "name": "stdout",
     "output_type": "stream",
     "text": [
      "getting CSIRO-ARCCSS_ACCESS-CM2_r1i1p1f1_rsdt\n"
     ]
    },
    {
     "name": "stderr",
     "output_type": "stream",
     "text": [
      "/home/leachl/miniconda3/lib/python3.7/site-packages/xarray/coding/times.py:427: SerializationWarning: Unable to decode time axis into full numpy.datetime64 objects, continuing using cftime.datetime objects instead, reason: dates out of range\n",
      "  dtype = _decode_cf_datetime_dtype(data, units, calendar, self.use_cftime)\n",
      "/home/leachl/miniconda3/lib/python3.7/site-packages/numpy/core/_asarray.py:83: SerializationWarning: Unable to decode time axis into full numpy.datetime64 objects, continuing using cftime.datetime objects instead, reason: dates out of range\n",
      "  return array(a, dtype, copy=False, order=order)\n"
     ]
    },
    {
     "name": "stdout",
     "output_type": "stream",
     "text": [
      "getting CSIRO-ARCCSS_ACCESS-CM2_r1i1p1f1_rsut\n"
     ]
    },
    {
     "name": "stderr",
     "output_type": "stream",
     "text": [
      "/home/leachl/miniconda3/lib/python3.7/site-packages/xarray/coding/times.py:427: SerializationWarning: Unable to decode time axis into full numpy.datetime64 objects, continuing using cftime.datetime objects instead, reason: dates out of range\n",
      "  dtype = _decode_cf_datetime_dtype(data, units, calendar, self.use_cftime)\n",
      "/home/leachl/miniconda3/lib/python3.7/site-packages/numpy/core/_asarray.py:83: SerializationWarning: Unable to decode time axis into full numpy.datetime64 objects, continuing using cftime.datetime objects instead, reason: dates out of range\n",
      "  return array(a, dtype, copy=False, order=order)\n"
     ]
    },
    {
     "name": "stdout",
     "output_type": "stream",
     "text": [
      "getting CSIRO-ARCCSS_ACCESS-CM2_r1i1p1f1_tas\n"
     ]
    },
    {
     "name": "stderr",
     "output_type": "stream",
     "text": [
      "/home/leachl/miniconda3/lib/python3.7/site-packages/xarray/coding/times.py:427: SerializationWarning: Unable to decode time axis into full numpy.datetime64 objects, continuing using cftime.datetime objects instead, reason: dates out of range\n",
      "  dtype = _decode_cf_datetime_dtype(data, units, calendar, self.use_cftime)\n",
      "/home/leachl/miniconda3/lib/python3.7/site-packages/numpy/core/_asarray.py:83: SerializationWarning: Unable to decode time axis into full numpy.datetime64 objects, continuing using cftime.datetime objects instead, reason: dates out of range\n",
      "  return array(a, dtype, copy=False, order=order)\n"
     ]
    },
    {
     "name": "stdout",
     "output_type": "stream",
     "text": [
      "getting CSIRO_ACCESS-ESM1-5_r1i1p1f1_rlut\n"
     ]
    },
    {
     "name": "stderr",
     "output_type": "stream",
     "text": [
      "/home/leachl/miniconda3/lib/python3.7/site-packages/xarray/coding/times.py:427: SerializationWarning: Unable to decode time axis into full numpy.datetime64 objects, continuing using cftime.datetime objects instead, reason: dates out of range\n",
      "  dtype = _decode_cf_datetime_dtype(data, units, calendar, self.use_cftime)\n",
      "/home/leachl/miniconda3/lib/python3.7/site-packages/numpy/core/_asarray.py:83: SerializationWarning: Unable to decode time axis into full numpy.datetime64 objects, continuing using cftime.datetime objects instead, reason: dates out of range\n",
      "  return array(a, dtype, copy=False, order=order)\n"
     ]
    },
    {
     "name": "stdout",
     "output_type": "stream",
     "text": [
      "getting CSIRO_ACCESS-ESM1-5_r1i1p1f1_rsdt\n"
     ]
    },
    {
     "name": "stderr",
     "output_type": "stream",
     "text": [
      "/home/leachl/miniconda3/lib/python3.7/site-packages/xarray/coding/times.py:427: SerializationWarning: Unable to decode time axis into full numpy.datetime64 objects, continuing using cftime.datetime objects instead, reason: dates out of range\n",
      "  dtype = _decode_cf_datetime_dtype(data, units, calendar, self.use_cftime)\n",
      "/home/leachl/miniconda3/lib/python3.7/site-packages/numpy/core/_asarray.py:83: SerializationWarning: Unable to decode time axis into full numpy.datetime64 objects, continuing using cftime.datetime objects instead, reason: dates out of range\n",
      "  return array(a, dtype, copy=False, order=order)\n"
     ]
    },
    {
     "name": "stdout",
     "output_type": "stream",
     "text": [
      "getting CSIRO_ACCESS-ESM1-5_r1i1p1f1_rsut\n"
     ]
    },
    {
     "name": "stderr",
     "output_type": "stream",
     "text": [
      "/home/leachl/miniconda3/lib/python3.7/site-packages/xarray/coding/times.py:427: SerializationWarning: Unable to decode time axis into full numpy.datetime64 objects, continuing using cftime.datetime objects instead, reason: dates out of range\n",
      "  dtype = _decode_cf_datetime_dtype(data, units, calendar, self.use_cftime)\n",
      "/home/leachl/miniconda3/lib/python3.7/site-packages/numpy/core/_asarray.py:83: SerializationWarning: Unable to decode time axis into full numpy.datetime64 objects, continuing using cftime.datetime objects instead, reason: dates out of range\n",
      "  return array(a, dtype, copy=False, order=order)\n"
     ]
    },
    {
     "name": "stdout",
     "output_type": "stream",
     "text": [
      "getting CSIRO_ACCESS-ESM1-5_r1i1p1f1_tas\n"
     ]
    },
    {
     "name": "stderr",
     "output_type": "stream",
     "text": [
      "/home/leachl/miniconda3/lib/python3.7/site-packages/xarray/coding/times.py:427: SerializationWarning: Unable to decode time axis into full numpy.datetime64 objects, continuing using cftime.datetime objects instead, reason: dates out of range\n",
      "  dtype = _decode_cf_datetime_dtype(data, units, calendar, self.use_cftime)\n",
      "/home/leachl/miniconda3/lib/python3.7/site-packages/numpy/core/_asarray.py:83: SerializationWarning: Unable to decode time axis into full numpy.datetime64 objects, continuing using cftime.datetime objects instead, reason: dates out of range\n",
      "  return array(a, dtype, copy=False, order=order)\n"
     ]
    },
    {
     "name": "stdout",
     "output_type": "stream",
     "text": [
      "getting E3SM-Project_E3SM-1-0_r1i1p1f1_rlut\n",
      "getting E3SM-Project_E3SM-1-0_r1i1p1f1_rsdt\n",
      "getting E3SM-Project_E3SM-1-0_r1i1p1f1_rsut\n",
      "getting E3SM-Project_E3SM-1-0_r1i1p1f1_tas\n",
      "getting EC-Earth-Consortium_EC-Earth3-Veg_r1i1p1f1_rlut\n",
      "getting EC-Earth-Consortium_EC-Earth3-Veg_r1i1p1f1_rsdt\n",
      "getting EC-Earth-Consortium_EC-Earth3-Veg_r1i1p1f1_rsut\n",
      "getting EC-Earth-Consortium_EC-Earth3-Veg_r1i1p1f1_tas\n",
      "getting EC-Earth-Consortium_EC-Earth3_r8i1p1f1_rlut\n",
      "getting EC-Earth-Consortium_EC-Earth3_r8i1p1f1_rsdt\n",
      "getting EC-Earth-Consortium_EC-Earth3_r8i1p1f1_rsut\n",
      "getting EC-Earth-Consortium_EC-Earth3_r8i1p1f1_tas\n",
      "getting FIO-QLNM_FIO-ESM-2-0_r1i1p1f1_rlut\n",
      "getting FIO-QLNM_FIO-ESM-2-0_r1i1p1f1_tas\n",
      "getting FIO-QLNM_FIO-ESM-2-0_r2i1p1f1_rlut\n",
      "getting FIO-QLNM_FIO-ESM-2-0_r2i1p1f1_tas\n",
      "getting FIO-QLNM_FIO-ESM-2-0_r3i1p1f1_rlut\n",
      "getting FIO-QLNM_FIO-ESM-2-0_r3i1p1f1_tas\n",
      "getting HAMMOZ-Consortium_MPI-ESM-1-2-HAM_r1i1p1f1_tas\n",
      "getting INM_INM-CM4-8_r1i1p1f1_rlut\n",
      "getting INM_INM-CM4-8_r1i1p1f1_rsdt\n",
      "getting INM_INM-CM4-8_r1i1p1f1_rsut\n",
      "getting INM_INM-CM4-8_r1i1p1f1_tas\n",
      "getting INM_INM-CM5-0_r1i1p1f1_rlut\n",
      "getting INM_INM-CM5-0_r1i1p1f1_rsdt\n",
      "getting INM_INM-CM5-0_r1i1p1f1_rsut\n",
      "getting INM_INM-CM5-0_r1i1p1f1_tas\n",
      "getting IPSL_IPSL-CM6A-LR_r10i1p1f1_rlut\n",
      "getting IPSL_IPSL-CM6A-LR_r10i1p1f1_rsdt\n",
      "getting IPSL_IPSL-CM6A-LR_r10i1p1f1_rsut\n",
      "getting IPSL_IPSL-CM6A-LR_r10i1p1f1_tas\n",
      "getting IPSL_IPSL-CM6A-LR_r11i1p1f1_rlut\n",
      "getting IPSL_IPSL-CM6A-LR_r11i1p1f1_rsdt\n",
      "getting IPSL_IPSL-CM6A-LR_r11i1p1f1_rsut\n",
      "getting IPSL_IPSL-CM6A-LR_r11i1p1f1_tas\n",
      "getting IPSL_IPSL-CM6A-LR_r12i1p1f1_rlut\n",
      "getting IPSL_IPSL-CM6A-LR_r12i1p1f1_rsdt\n",
      "getting IPSL_IPSL-CM6A-LR_r12i1p1f1_rsut\n",
      "getting IPSL_IPSL-CM6A-LR_r12i1p1f1_tas\n",
      "getting IPSL_IPSL-CM6A-LR_r1i1p1f1_rlut\n"
     ]
    },
    {
     "name": "stderr",
     "output_type": "stream",
     "text": [
      "/home/leachl/miniconda3/lib/python3.7/site-packages/xarray/coding/times.py:427: SerializationWarning: Unable to decode time axis into full numpy.datetime64 objects, continuing using cftime.datetime objects instead, reason: dates out of range\n",
      "  dtype = _decode_cf_datetime_dtype(data, units, calendar, self.use_cftime)\n",
      "/home/leachl/miniconda3/lib/python3.7/site-packages/xarray/coding/times.py:427: SerializationWarning: Unable to decode time axis into full numpy.datetime64 objects, continuing using cftime.datetime objects instead, reason: dates out of range\n",
      "  dtype = _decode_cf_datetime_dtype(data, units, calendar, self.use_cftime)\n",
      "/home/leachl/miniconda3/lib/python3.7/site-packages/numpy/core/_asarray.py:83: SerializationWarning: Unable to decode time axis into full numpy.datetime64 objects, continuing using cftime.datetime objects instead, reason: dates out of range\n",
      "  return array(a, dtype, copy=False, order=order)\n"
     ]
    },
    {
     "name": "stdout",
     "output_type": "stream",
     "text": [
      "getting IPSL_IPSL-CM6A-LR_r1i1p1f1_rsdt\n",
      "getting IPSL_IPSL-CM6A-LR_r1i1p1f1_rsut\n",
      "getting IPSL_IPSL-CM6A-LR_r1i1p1f1_tas\n",
      "getting IPSL_IPSL-CM6A-LR_r2i1p1f1_rlut\n",
      "getting IPSL_IPSL-CM6A-LR_r2i1p1f1_rsdt\n",
      "getting IPSL_IPSL-CM6A-LR_r2i1p1f1_rsut\n",
      "getting IPSL_IPSL-CM6A-LR_r2i1p1f1_tas\n",
      "getting IPSL_IPSL-CM6A-LR_r3i1p1f1_rlut\n",
      "getting IPSL_IPSL-CM6A-LR_r3i1p1f1_rsdt\n",
      "getting IPSL_IPSL-CM6A-LR_r3i1p1f1_rsut\n",
      "getting IPSL_IPSL-CM6A-LR_r3i1p1f1_tas\n",
      "getting IPSL_IPSL-CM6A-LR_r4i1p1f1_rlut\n",
      "getting IPSL_IPSL-CM6A-LR_r4i1p1f1_rsdt\n",
      "getting IPSL_IPSL-CM6A-LR_r4i1p1f1_rsut\n",
      "getting IPSL_IPSL-CM6A-LR_r4i1p1f1_tas\n",
      "getting IPSL_IPSL-CM6A-LR_r5i1p1f1_rlut\n",
      "getting IPSL_IPSL-CM6A-LR_r5i1p1f1_rsdt\n",
      "getting IPSL_IPSL-CM6A-LR_r5i1p1f1_rsut\n",
      "getting IPSL_IPSL-CM6A-LR_r5i1p1f1_tas\n",
      "getting IPSL_IPSL-CM6A-LR_r6i1p1f1_rlut\n",
      "getting IPSL_IPSL-CM6A-LR_r6i1p1f1_rsdt\n",
      "getting IPSL_IPSL-CM6A-LR_r6i1p1f1_rsut\n",
      "getting IPSL_IPSL-CM6A-LR_r6i1p1f1_tas\n",
      "getting IPSL_IPSL-CM6A-LR_r7i1p1f1_rlut\n",
      "getting IPSL_IPSL-CM6A-LR_r7i1p1f1_rsdt\n",
      "getting IPSL_IPSL-CM6A-LR_r7i1p1f1_rsut\n",
      "getting IPSL_IPSL-CM6A-LR_r7i1p1f1_tas\n",
      "getting IPSL_IPSL-CM6A-LR_r8i1p1f1_rlut\n",
      "getting IPSL_IPSL-CM6A-LR_r8i1p1f1_rsdt\n",
      "getting IPSL_IPSL-CM6A-LR_r8i1p1f1_rsut\n",
      "getting IPSL_IPSL-CM6A-LR_r8i1p1f1_tas\n",
      "getting IPSL_IPSL-CM6A-LR_r9i1p1f1_rlut\n",
      "getting IPSL_IPSL-CM6A-LR_r9i1p1f1_rsdt\n",
      "getting IPSL_IPSL-CM6A-LR_r9i1p1f1_rsut\n",
      "getting IPSL_IPSL-CM6A-LR_r9i1p1f1_tas\n",
      "getting MIROC_MIROC-ES2L_r1i1p1f2_rlut\n",
      "getting MIROC_MIROC-ES2L_r1i1p1f2_rsdt\n",
      "getting MIROC_MIROC-ES2L_r1i1p1f2_rsut\n",
      "getting MIROC_MIROC-ES2L_r1i1p1f2_tas\n",
      "getting MIROC_MIROC6_r1i1p1f1_rlut\n"
     ]
    },
    {
     "name": "stderr",
     "output_type": "stream",
     "text": [
      "/home/leachl/miniconda3/lib/python3.7/site-packages/xarray/coding/times.py:427: SerializationWarning: Unable to decode time axis into full numpy.datetime64 objects, continuing using cftime.datetime objects instead, reason: dates out of range\n",
      "  dtype = _decode_cf_datetime_dtype(data, units, calendar, self.use_cftime)\n",
      "/home/leachl/miniconda3/lib/python3.7/site-packages/numpy/core/_asarray.py:83: SerializationWarning: Unable to decode time axis into full numpy.datetime64 objects, continuing using cftime.datetime objects instead, reason: dates out of range\n",
      "  return array(a, dtype, copy=False, order=order)\n"
     ]
    },
    {
     "name": "stdout",
     "output_type": "stream",
     "text": [
      "getting MIROC_MIROC6_r1i1p1f1_rsdt\n"
     ]
    },
    {
     "name": "stderr",
     "output_type": "stream",
     "text": [
      "/home/leachl/miniconda3/lib/python3.7/site-packages/xarray/coding/times.py:427: SerializationWarning: Unable to decode time axis into full numpy.datetime64 objects, continuing using cftime.datetime objects instead, reason: dates out of range\n",
      "  dtype = _decode_cf_datetime_dtype(data, units, calendar, self.use_cftime)\n",
      "/home/leachl/miniconda3/lib/python3.7/site-packages/numpy/core/_asarray.py:83: SerializationWarning: Unable to decode time axis into full numpy.datetime64 objects, continuing using cftime.datetime objects instead, reason: dates out of range\n",
      "  return array(a, dtype, copy=False, order=order)\n"
     ]
    },
    {
     "name": "stdout",
     "output_type": "stream",
     "text": [
      "getting MIROC_MIROC6_r1i1p1f1_rsut\n"
     ]
    },
    {
     "name": "stderr",
     "output_type": "stream",
     "text": [
      "/home/leachl/miniconda3/lib/python3.7/site-packages/xarray/coding/times.py:427: SerializationWarning: Unable to decode time axis into full numpy.datetime64 objects, continuing using cftime.datetime objects instead, reason: dates out of range\n",
      "  dtype = _decode_cf_datetime_dtype(data, units, calendar, self.use_cftime)\n",
      "/home/leachl/miniconda3/lib/python3.7/site-packages/numpy/core/_asarray.py:83: SerializationWarning: Unable to decode time axis into full numpy.datetime64 objects, continuing using cftime.datetime objects instead, reason: dates out of range\n",
      "  return array(a, dtype, copy=False, order=order)\n"
     ]
    },
    {
     "name": "stdout",
     "output_type": "stream",
     "text": [
      "getting MIROC_MIROC6_r1i1p1f1_tas\n"
     ]
    },
    {
     "name": "stderr",
     "output_type": "stream",
     "text": [
      "/home/leachl/miniconda3/lib/python3.7/site-packages/xarray/coding/times.py:427: SerializationWarning: Unable to decode time axis into full numpy.datetime64 objects, continuing using cftime.datetime objects instead, reason: dates out of range\n",
      "  dtype = _decode_cf_datetime_dtype(data, units, calendar, self.use_cftime)\n",
      "/home/leachl/miniconda3/lib/python3.7/site-packages/numpy/core/_asarray.py:83: SerializationWarning: Unable to decode time axis into full numpy.datetime64 objects, continuing using cftime.datetime objects instead, reason: dates out of range\n",
      "  return array(a, dtype, copy=False, order=order)\n"
     ]
    },
    {
     "name": "stdout",
     "output_type": "stream",
     "text": [
      "getting MOHC_HadGEM3-GC31-LL_r1i1p1f3_rlut\n",
      "getting MOHC_HadGEM3-GC31-LL_r1i1p1f3_rsdt\n",
      "getting MOHC_HadGEM3-GC31-LL_r1i1p1f3_rsut\n",
      "getting MOHC_HadGEM3-GC31-LL_r1i1p1f3_tas\n",
      "getting MOHC_HadGEM3-GC31-MM_r1i1p1f3_rlut\n",
      "getting MOHC_HadGEM3-GC31-MM_r1i1p1f3_rsdt\n",
      "getting MOHC_HadGEM3-GC31-MM_r1i1p1f3_rsut\n",
      "getting MOHC_HadGEM3-GC31-MM_r1i1p1f3_tas\n",
      "getting MOHC_UKESM1-0-LL_r1i1p1f2_rlut\n",
      "getting MOHC_UKESM1-0-LL_r1i1p1f2_rsdt\n",
      "getting MOHC_UKESM1-0-LL_r1i1p1f2_rsut\n",
      "getting MOHC_UKESM1-0-LL_r1i1p1f2_tas\n",
      "getting MPI-M_MPI-ESM1-2-HR_r1i1p1f1_rlut\n",
      "getting MPI-M_MPI-ESM1-2-HR_r1i1p1f1_rsdt\n",
      "getting MPI-M_MPI-ESM1-2-HR_r1i1p1f1_rsut\n",
      "getting MPI-M_MPI-ESM1-2-HR_r1i1p1f1_tas\n",
      "getting MPI-M_MPI-ESM1-2-LR_r1i1p1f1_rlut\n",
      "getting MPI-M_MPI-ESM1-2-LR_r1i1p1f1_rsdt\n",
      "getting MPI-M_MPI-ESM1-2-LR_r1i1p1f1_rsut\n",
      "getting MPI-M_MPI-ESM1-2-LR_r1i1p1f1_tas\n",
      "getting MRI_MRI-ESM2-0_r10i1p1f1_rlut\n",
      "getting MRI_MRI-ESM2-0_r10i1p1f1_rsdt\n",
      "getting MRI_MRI-ESM2-0_r10i1p1f1_rsut\n",
      "getting MRI_MRI-ESM2-0_r10i1p1f1_tas\n",
      "getting MRI_MRI-ESM2-0_r11i1p1f1_rlut\n",
      "getting MRI_MRI-ESM2-0_r11i1p1f1_rsdt\n",
      "getting MRI_MRI-ESM2-0_r11i1p1f1_rsut\n",
      "getting MRI_MRI-ESM2-0_r11i1p1f1_tas\n",
      "getting MRI_MRI-ESM2-0_r12i1p1f1_rlut\n",
      "getting MRI_MRI-ESM2-0_r12i1p1f1_rsdt\n",
      "getting MRI_MRI-ESM2-0_r12i1p1f1_rsut\n",
      "getting MRI_MRI-ESM2-0_r12i1p1f1_tas\n",
      "getting MRI_MRI-ESM2-0_r13i1p1f1_rlut\n",
      "getting MRI_MRI-ESM2-0_r13i1p1f1_rsdt\n",
      "getting MRI_MRI-ESM2-0_r13i1p1f1_rsut\n",
      "getting MRI_MRI-ESM2-0_r13i1p1f1_tas\n",
      "getting MRI_MRI-ESM2-0_r1i1p1f1_rlut\n",
      "getting MRI_MRI-ESM2-0_r1i1p1f1_rsdt\n",
      "getting MRI_MRI-ESM2-0_r1i1p1f1_rsut\n",
      "getting MRI_MRI-ESM2-0_r1i1p1f1_tas\n",
      "getting MRI_MRI-ESM2-0_r1i2p1f1_rlut\n",
      "getting MRI_MRI-ESM2-0_r1i2p1f1_rsdt\n",
      "getting MRI_MRI-ESM2-0_r1i2p1f1_rsut\n",
      "getting MRI_MRI-ESM2-0_r1i2p1f1_tas\n",
      "getting MRI_MRI-ESM2-0_r2i1p1f1_rlut\n",
      "getting MRI_MRI-ESM2-0_r2i1p1f1_rsdt\n",
      "getting MRI_MRI-ESM2-0_r2i1p1f1_rsut\n",
      "getting MRI_MRI-ESM2-0_r2i1p1f1_tas\n",
      "getting MRI_MRI-ESM2-0_r3i1p1f1_rlut\n",
      "getting MRI_MRI-ESM2-0_r3i1p1f1_rsdt\n",
      "getting MRI_MRI-ESM2-0_r3i1p1f1_rsut\n",
      "getting MRI_MRI-ESM2-0_r3i1p1f1_tas\n",
      "getting MRI_MRI-ESM2-0_r4i1p1f1_rlut\n",
      "getting MRI_MRI-ESM2-0_r4i1p1f1_rsdt\n",
      "getting MRI_MRI-ESM2-0_r4i1p1f1_rsut\n",
      "getting MRI_MRI-ESM2-0_r4i1p1f1_tas\n",
      "getting MRI_MRI-ESM2-0_r5i1p1f1_rlut\n",
      "getting MRI_MRI-ESM2-0_r5i1p1f1_rsdt\n",
      "getting MRI_MRI-ESM2-0_r5i1p1f1_rsut\n",
      "getting MRI_MRI-ESM2-0_r5i1p1f1_tas\n",
      "getting MRI_MRI-ESM2-0_r6i1p1f1_rlut\n",
      "getting MRI_MRI-ESM2-0_r6i1p1f1_rsdt\n",
      "getting MRI_MRI-ESM2-0_r6i1p1f1_rsut\n",
      "getting MRI_MRI-ESM2-0_r6i1p1f1_tas\n",
      "getting MRI_MRI-ESM2-0_r7i1p1f1_rlut\n",
      "getting MRI_MRI-ESM2-0_r7i1p1f1_rsdt\n",
      "getting MRI_MRI-ESM2-0_r7i1p1f1_rsut\n",
      "getting MRI_MRI-ESM2-0_r7i1p1f1_tas\n",
      "getting MRI_MRI-ESM2-0_r8i1p1f1_rlut\n",
      "getting MRI_MRI-ESM2-0_r8i1p1f1_rsdt\n",
      "getting MRI_MRI-ESM2-0_r8i1p1f1_rsut\n",
      "getting MRI_MRI-ESM2-0_r8i1p1f1_tas\n",
      "getting MRI_MRI-ESM2-0_r9i1p1f1_rlut\n",
      "getting MRI_MRI-ESM2-0_r9i1p1f1_rsdt\n",
      "getting MRI_MRI-ESM2-0_r9i1p1f1_rsut\n",
      "getting MRI_MRI-ESM2-0_r9i1p1f1_tas\n",
      "getting NASA-GISS_GISS-E2-1-G_r102i1p1f1_rlut\n",
      "getting NASA-GISS_GISS-E2-1-G_r102i1p1f1_rsdt\n",
      "getting NASA-GISS_GISS-E2-1-G_r102i1p1f1_rsut\n",
      "getting NASA-GISS_GISS-E2-1-G_r102i1p1f1_tas\n",
      "getting NASA-GISS_GISS-E2-1-G_r1i1p1f1_rlut\n",
      "getting NASA-GISS_GISS-E2-1-G_r1i1p1f1_rsdt\n",
      "getting NASA-GISS_GISS-E2-1-G_r1i1p1f1_rsut\n",
      "getting NASA-GISS_GISS-E2-1-G_r1i1p1f1_tas\n",
      "getting NASA-GISS_GISS-E2-1-G_r1i1p1f3_rlut\n",
      "getting NASA-GISS_GISS-E2-1-G_r1i1p1f3_rsdt\n",
      "getting NASA-GISS_GISS-E2-1-G_r1i1p1f3_rsut\n",
      "getting NASA-GISS_GISS-E2-1-G_r1i1p1f3_tas\n",
      "getting NASA-GISS_GISS-E2-1-G_r1i1p3f1_rlut\n",
      "getting NASA-GISS_GISS-E2-1-G_r1i1p3f1_rsdt\n",
      "getting NASA-GISS_GISS-E2-1-G_r1i1p3f1_rsut\n",
      "getting NASA-GISS_GISS-E2-1-G_r1i1p3f1_tas\n",
      "getting NASA-GISS_GISS-E2-1-G_r1i1p5f1_rlut\n",
      "getting NASA-GISS_GISS-E2-1-G_r1i1p5f1_rsdt\n",
      "getting NASA-GISS_GISS-E2-1-G_r1i1p5f1_rsut\n",
      "getting NASA-GISS_GISS-E2-1-G_r1i1p5f1_tas\n",
      "getting NASA-GISS_GISS-E2-1-H_r1i1p1f1_rlut\n",
      "getting NASA-GISS_GISS-E2-1-H_r1i1p1f1_rsdt\n",
      "getting NASA-GISS_GISS-E2-1-H_r1i1p1f1_rsut\n",
      "getting NASA-GISS_GISS-E2-1-H_r1i1p1f1_tas\n",
      "getting NASA-GISS_GISS-E2-1-H_r1i1p3f1_tas\n",
      "getting NASA-GISS_GISS-E2-2-G_r1i1p1f1_rlut\n",
      "getting NASA-GISS_GISS-E2-2-G_r1i1p1f1_rsut\n",
      "getting NASA-GISS_GISS-E2-2-G_r1i1p1f1_tas\n",
      "getting NCAR_CESM2-FV2_r1i1p1f1_rlut\n",
      "getting NCAR_CESM2-FV2_r1i1p1f1_rsut\n",
      "getting NCAR_CESM2-FV2_r1i1p1f1_tas\n",
      "getting NCAR_CESM2-WACCM-FV2_r1i1p1f1_rlut\n",
      "getting NCAR_CESM2-WACCM-FV2_r1i1p1f1_rsut\n",
      "getting NCAR_CESM2-WACCM-FV2_r1i1p1f1_tas\n",
      "getting NCAR_CESM2-WACCM_r1i1p1f1_rlut\n",
      "getting NCAR_CESM2-WACCM_r1i1p1f1_rsdt\n",
      "getting NCAR_CESM2-WACCM_r1i1p1f1_rsut\n",
      "getting NCAR_CESM2-WACCM_r1i1p1f1_tas\n",
      "getting NCAR_CESM2_r1i1p1f1_rlut\n",
      "getting NCAR_CESM2_r1i1p1f1_rsdt\n",
      "getting NCAR_CESM2_r1i1p1f1_rsut\n",
      "getting NCAR_CESM2_r1i1p1f1_tas\n",
      "getting NCC_NorCPM1_r1i1p1f1_rlut\n",
      "getting NCC_NorCPM1_r1i1p1f1_rsdt\n",
      "getting NCC_NorCPM1_r1i1p1f1_rsut\n",
      "getting NCC_NorCPM1_r1i1p1f1_tas\n",
      "getting NCC_NorESM2-LM_r1i1p1f1_rlut\n",
      "getting NCC_NorESM2-LM_r1i1p1f1_rsdt\n",
      "getting NCC_NorESM2-LM_r1i1p1f1_rsut\n",
      "getting NCC_NorESM2-LM_r1i1p1f1_tas\n",
      "getting NCC_NorESM2-MM_r1i1p1f1_rlut\n",
      "getting NCC_NorESM2-MM_r1i1p1f1_rsdt\n",
      "getting NCC_NorESM2-MM_r1i1p1f1_rsut\n",
      "getting NCC_NorESM2-MM_r1i1p1f1_tas\n",
      "getting NIMS-KMA_KACE-1-0-G_r1i1p1f1_rlut\n",
      "getting NIMS-KMA_KACE-1-0-G_r1i1p1f1_rsdt\n",
      "getting NIMS-KMA_KACE-1-0-G_r1i1p1f1_rsut\n",
      "getting NIMS-KMA_KACE-1-0-G_r1i1p1f1_tas\n",
      "getting NOAA-GFDL_GFDL-CM4_r1i1p1f1_rlut\n",
      "getting NOAA-GFDL_GFDL-CM4_r1i1p1f1_rsdt\n",
      "getting NOAA-GFDL_GFDL-CM4_r1i1p1f1_rsut\n",
      "getting NOAA-GFDL_GFDL-CM4_r1i1p1f1_tas\n",
      "getting NOAA-GFDL_GFDL-ESM4_r1i1p1f1_rlut\n",
      "getting NOAA-GFDL_GFDL-ESM4_r1i1p1f1_rsdt\n",
      "getting NOAA-GFDL_GFDL-ESM4_r1i1p1f1_rsut\n",
      "getting NOAA-GFDL_GFDL-ESM4_r1i1p1f1_tas\n",
      "getting NUIST_NESM3_r1i1p1f1_rlut\n",
      "getting NUIST_NESM3_r1i1p1f1_rsdt\n",
      "getting NUIST_NESM3_r1i1p1f1_rsut\n",
      "getting NUIST_NESM3_r1i1p1f1_tas\n",
      "getting SNU_SAM0-UNICON_r1i1p1f1_rlut\n",
      "getting SNU_SAM0-UNICON_r1i1p1f1_rsdt\n",
      "getting SNU_SAM0-UNICON_r1i1p1f1_rsut\n",
      "getting SNU_SAM0-UNICON_r1i1p1f1_tas\n",
      "getting THU_CIESM_r1i1p1f1_rlut\n",
      "getting THU_CIESM_r1i1p1f1_rsut\n",
      "getting THU_CIESM_r1i1p1f1_tas\n",
      "getting UA_MCM-UA-1-0_r1i1p1f1_rlut\n",
      "getting UA_MCM-UA-1-0_r1i1p1f1_tas\n"
     ]
    }
   ],
   "source": [
    "abrupt_info = gs_stores.loc[(gs_stores.experiment_id=='abrupt-4xCO2')&(gs_stores.variable_id.isin(['tas','rlut','rsut','rsdt']))&(gs_stores.table_id=='Amon')]\n",
    "\n",
    "abrupt_data=[]\n",
    "\n",
    "for index,row in abrupt_info.iterrows():\n",
    "    print('getting '+row.loc['ism']+'_'+row.loc['variable_id'])\n",
    "    abrupt_data += [get_annual_CMIP6_data_gstore(row.loc['activity_id'], row.loc['table_id'], row.loc['variable_id'], row.loc['experiment_id'], row.loc['institution_id'], row.loc['source_id'], row.loc['member_id'])]"
   ]
  },
  {
   "cell_type": "code",
   "execution_count": 47,
   "metadata": {},
   "outputs": [],
   "source": [
    "pd.concat(abrupt_data,axis=1).to_csv('./cmip6_data/abrupt-4xCO2.csv')"
   ]
  },
  {
   "cell_type": "code",
   "execution_count": 64,
   "metadata": {},
   "outputs": [
    {
     "name": "stdout",
     "output_type": "stream",
     "text": [
      "getting EC-Earth-Consortium_EC-Earth3-LR_r1i1p1f1_rlut\n",
      "retrieval failed\n",
      "getting EC-Earth-Consortium_EC-Earth3-LR_r1i1p1f1_rsdt\n",
      "retrieval failed\n",
      "getting EC-Earth-Consortium_EC-Earth3-LR_r1i1p1f1_rsut\n",
      "retrieval failed\n",
      "getting EC-Earth-Consortium_EC-Earth3-LR_r1i1p1f1_tas\n"
     ]
    },
    {
     "name": "stderr",
     "output_type": "stream",
     "text": [
      "/home/leachl/miniconda3/lib/python3.7/site-packages/xarray/coding/times.py:427: SerializationWarning: Unable to decode time axis into full numpy.datetime64 objects, continuing using cftime.datetime objects instead, reason: dates out of range\n",
      "  dtype = _decode_cf_datetime_dtype(data, units, calendar, self.use_cftime)\n",
      "/home/leachl/miniconda3/lib/python3.7/site-packages/xarray/coding/times.py:427: SerializationWarning: Unable to decode time axis into full numpy.datetime64 objects, continuing using cftime.datetime objects instead, reason: dates out of range\n",
      "  dtype = _decode_cf_datetime_dtype(data, units, calendar, self.use_cftime)\n",
      "/home/leachl/miniconda3/lib/python3.7/site-packages/numpy/core/_asarray.py:83: SerializationWarning: Unable to decode time axis into full numpy.datetime64 objects, continuing using cftime.datetime objects instead, reason: dates out of range\n",
      "  return array(a, dtype, copy=False, order=order)\n"
     ]
    },
    {
     "name": "stdout",
     "output_type": "stream",
     "text": [
      "getting EC-Earth-Consortium_EC-Earth3-Veg-LR_r1i1p1f1_rsut\n"
     ]
    },
    {
     "name": "stderr",
     "output_type": "stream",
     "text": [
      "/home/leachl/miniconda3/lib/python3.7/site-packages/xarray/coding/times.py:427: SerializationWarning: Unable to decode time axis into full numpy.datetime64 objects, continuing using cftime.datetime objects instead, reason: dates out of range\n",
      "  dtype = _decode_cf_datetime_dtype(data, units, calendar, self.use_cftime)\n",
      "/home/leachl/miniconda3/lib/python3.7/site-packages/numpy/core/_asarray.py:83: SerializationWarning: Unable to decode time axis into full numpy.datetime64 objects, continuing using cftime.datetime objects instead, reason: dates out of range\n",
      "  return array(a, dtype, copy=False, order=order)\n"
     ]
    },
    {
     "name": "stdout",
     "output_type": "stream",
     "text": [
      "getting EC-Earth-Consortium_EC-Earth3-Veg-LR_r1i1p1f1_tas\n"
     ]
    },
    {
     "name": "stderr",
     "output_type": "stream",
     "text": [
      "/home/leachl/miniconda3/lib/python3.7/site-packages/xarray/coding/times.py:427: SerializationWarning: Unable to decode time axis into full numpy.datetime64 objects, continuing using cftime.datetime objects instead, reason: dates out of range\n",
      "  dtype = _decode_cf_datetime_dtype(data, units, calendar, self.use_cftime)\n",
      "/home/leachl/miniconda3/lib/python3.7/site-packages/numpy/core/_asarray.py:83: SerializationWarning: Unable to decode time axis into full numpy.datetime64 objects, continuing using cftime.datetime objects instead, reason: dates out of range\n",
      "  return array(a, dtype, copy=False, order=order)\n"
     ]
    },
    {
     "name": "stdout",
     "output_type": "stream",
     "text": [
      "getting EC-Earth-Consortium_EC-Earth3-Veg_r1i1p1f1_rlut\n"
     ]
    },
    {
     "name": "stderr",
     "output_type": "stream",
     "text": [
      "/home/leachl/miniconda3/lib/python3.7/site-packages/xarray/coding/times.py:427: SerializationWarning: Unable to decode time axis into full numpy.datetime64 objects, continuing using cftime.datetime objects instead, reason: dates out of range\n",
      "  dtype = _decode_cf_datetime_dtype(data, units, calendar, self.use_cftime)\n",
      "/home/leachl/miniconda3/lib/python3.7/site-packages/xarray/coding/times.py:427: SerializationWarning: Unable to decode time axis into full numpy.datetime64 objects, continuing using cftime.datetime objects instead, reason: dates out of range\n",
      "  dtype = _decode_cf_datetime_dtype(data, units, calendar, self.use_cftime)\n",
      "/home/leachl/miniconda3/lib/python3.7/site-packages/numpy/core/_asarray.py:83: SerializationWarning: Unable to decode time axis into full numpy.datetime64 objects, continuing using cftime.datetime objects instead, reason: dates out of range\n",
      "  return array(a, dtype, copy=False, order=order)\n"
     ]
    },
    {
     "name": "stdout",
     "output_type": "stream",
     "text": [
      "getting EC-Earth-Consortium_EC-Earth3-Veg_r1i1p1f1_rsdt\n"
     ]
    },
    {
     "name": "stderr",
     "output_type": "stream",
     "text": [
      "/home/leachl/miniconda3/lib/python3.7/site-packages/xarray/coding/times.py:427: SerializationWarning: Unable to decode time axis into full numpy.datetime64 objects, continuing using cftime.datetime objects instead, reason: dates out of range\n",
      "  dtype = _decode_cf_datetime_dtype(data, units, calendar, self.use_cftime)\n",
      "/home/leachl/miniconda3/lib/python3.7/site-packages/xarray/coding/times.py:427: SerializationWarning: Unable to decode time axis into full numpy.datetime64 objects, continuing using cftime.datetime objects instead, reason: dates out of range\n",
      "  dtype = _decode_cf_datetime_dtype(data, units, calendar, self.use_cftime)\n",
      "/home/leachl/miniconda3/lib/python3.7/site-packages/numpy/core/_asarray.py:83: SerializationWarning: Unable to decode time axis into full numpy.datetime64 objects, continuing using cftime.datetime objects instead, reason: dates out of range\n",
      "  return array(a, dtype, copy=False, order=order)\n"
     ]
    },
    {
     "name": "stdout",
     "output_type": "stream",
     "text": [
      "getting EC-Earth-Consortium_EC-Earth3-Veg_r1i1p1f1_rsut\n"
     ]
    },
    {
     "name": "stderr",
     "output_type": "stream",
     "text": [
      "/home/leachl/miniconda3/lib/python3.7/site-packages/xarray/coding/times.py:427: SerializationWarning: Unable to decode time axis into full numpy.datetime64 objects, continuing using cftime.datetime objects instead, reason: dates out of range\n",
      "  dtype = _decode_cf_datetime_dtype(data, units, calendar, self.use_cftime)\n",
      "/home/leachl/miniconda3/lib/python3.7/site-packages/xarray/coding/times.py:427: SerializationWarning: Unable to decode time axis into full numpy.datetime64 objects, continuing using cftime.datetime objects instead, reason: dates out of range\n",
      "  dtype = _decode_cf_datetime_dtype(data, units, calendar, self.use_cftime)\n",
      "/home/leachl/miniconda3/lib/python3.7/site-packages/numpy/core/_asarray.py:83: SerializationWarning: Unable to decode time axis into full numpy.datetime64 objects, continuing using cftime.datetime objects instead, reason: dates out of range\n",
      "  return array(a, dtype, copy=False, order=order)\n"
     ]
    },
    {
     "name": "stdout",
     "output_type": "stream",
     "text": [
      "getting EC-Earth-Consortium_EC-Earth3-Veg_r1i1p1f1_tas\n"
     ]
    },
    {
     "name": "stderr",
     "output_type": "stream",
     "text": [
      "/home/leachl/miniconda3/lib/python3.7/site-packages/xarray/coding/times.py:427: SerializationWarning: Unable to decode time axis into full numpy.datetime64 objects, continuing using cftime.datetime objects instead, reason: dates out of range\n",
      "  dtype = _decode_cf_datetime_dtype(data, units, calendar, self.use_cftime)\n",
      "/home/leachl/miniconda3/lib/python3.7/site-packages/xarray/coding/times.py:427: SerializationWarning: Unable to decode time axis into full numpy.datetime64 objects, continuing using cftime.datetime objects instead, reason: dates out of range\n",
      "  dtype = _decode_cf_datetime_dtype(data, units, calendar, self.use_cftime)\n",
      "/home/leachl/miniconda3/lib/python3.7/site-packages/numpy/core/_asarray.py:83: SerializationWarning: Unable to decode time axis into full numpy.datetime64 objects, continuing using cftime.datetime objects instead, reason: dates out of range\n",
      "  return array(a, dtype, copy=False, order=order)\n"
     ]
    },
    {
     "name": "stdout",
     "output_type": "stream",
     "text": [
      "getting EC-Earth-Consortium_EC-Earth3_r1i1p1f1_rlut\n"
     ]
    },
    {
     "name": "stderr",
     "output_type": "stream",
     "text": [
      "/home/leachl/miniconda3/lib/python3.7/site-packages/xarray/coding/times.py:427: SerializationWarning: Unable to decode time axis into full numpy.datetime64 objects, continuing using cftime.datetime objects instead, reason: dates out of range\n",
      "  dtype = _decode_cf_datetime_dtype(data, units, calendar, self.use_cftime)\n",
      "/home/leachl/miniconda3/lib/python3.7/site-packages/xarray/coding/times.py:427: SerializationWarning: Unable to decode time axis into full numpy.datetime64 objects, continuing using cftime.datetime objects instead, reason: dates out of range\n",
      "  dtype = _decode_cf_datetime_dtype(data, units, calendar, self.use_cftime)\n",
      "/home/leachl/miniconda3/lib/python3.7/site-packages/numpy/core/_asarray.py:83: SerializationWarning: Unable to decode time axis into full numpy.datetime64 objects, continuing using cftime.datetime objects instead, reason: dates out of range\n",
      "  return array(a, dtype, copy=False, order=order)\n"
     ]
    },
    {
     "name": "stdout",
     "output_type": "stream",
     "text": [
      "getting EC-Earth-Consortium_EC-Earth3_r1i1p1f1_rsdt\n"
     ]
    },
    {
     "name": "stderr",
     "output_type": "stream",
     "text": [
      "/home/leachl/miniconda3/lib/python3.7/site-packages/xarray/coding/times.py:427: SerializationWarning: Unable to decode time axis into full numpy.datetime64 objects, continuing using cftime.datetime objects instead, reason: dates out of range\n",
      "  dtype = _decode_cf_datetime_dtype(data, units, calendar, self.use_cftime)\n",
      "/home/leachl/miniconda3/lib/python3.7/site-packages/xarray/coding/times.py:427: SerializationWarning: Unable to decode time axis into full numpy.datetime64 objects, continuing using cftime.datetime objects instead, reason: dates out of range\n",
      "  dtype = _decode_cf_datetime_dtype(data, units, calendar, self.use_cftime)\n",
      "/home/leachl/miniconda3/lib/python3.7/site-packages/numpy/core/_asarray.py:83: SerializationWarning: Unable to decode time axis into full numpy.datetime64 objects, continuing using cftime.datetime objects instead, reason: dates out of range\n",
      "  return array(a, dtype, copy=False, order=order)\n"
     ]
    },
    {
     "name": "stdout",
     "output_type": "stream",
     "text": [
      "getting EC-Earth-Consortium_EC-Earth3_r1i1p1f1_rsut\n"
     ]
    },
    {
     "name": "stderr",
     "output_type": "stream",
     "text": [
      "/home/leachl/miniconda3/lib/python3.7/site-packages/xarray/coding/times.py:427: SerializationWarning: Unable to decode time axis into full numpy.datetime64 objects, continuing using cftime.datetime objects instead, reason: dates out of range\n",
      "  dtype = _decode_cf_datetime_dtype(data, units, calendar, self.use_cftime)\n",
      "/home/leachl/miniconda3/lib/python3.7/site-packages/xarray/coding/times.py:427: SerializationWarning: Unable to decode time axis into full numpy.datetime64 objects, continuing using cftime.datetime objects instead, reason: dates out of range\n",
      "  dtype = _decode_cf_datetime_dtype(data, units, calendar, self.use_cftime)\n",
      "/home/leachl/miniconda3/lib/python3.7/site-packages/numpy/core/_asarray.py:83: SerializationWarning: Unable to decode time axis into full numpy.datetime64 objects, continuing using cftime.datetime objects instead, reason: dates out of range\n",
      "  return array(a, dtype, copy=False, order=order)\n"
     ]
    },
    {
     "name": "stdout",
     "output_type": "stream",
     "text": [
      "retrieval failed\n",
      "getting EC-Earth-Consortium_EC-Earth3_r1i1p1f1_tas\n"
     ]
    },
    {
     "name": "stderr",
     "output_type": "stream",
     "text": [
      "/home/leachl/miniconda3/lib/python3.7/site-packages/xarray/coding/times.py:427: SerializationWarning: Unable to decode time axis into full numpy.datetime64 objects, continuing using cftime.datetime objects instead, reason: dates out of range\n",
      "  dtype = _decode_cf_datetime_dtype(data, units, calendar, self.use_cftime)\n",
      "/home/leachl/miniconda3/lib/python3.7/site-packages/xarray/coding/times.py:427: SerializationWarning: Unable to decode time axis into full numpy.datetime64 objects, continuing using cftime.datetime objects instead, reason: dates out of range\n",
      "  dtype = _decode_cf_datetime_dtype(data, units, calendar, self.use_cftime)\n",
      "/home/leachl/miniconda3/lib/python3.7/site-packages/numpy/core/_asarray.py:83: SerializationWarning: Unable to decode time axis into full numpy.datetime64 objects, continuing using cftime.datetime objects instead, reason: dates out of range\n",
      "  return array(a, dtype, copy=False, order=order)\n"
     ]
    },
    {
     "name": "stdout",
     "output_type": "stream",
     "text": [
      "getting EC-Earth-Consortium_EC-Earth3_r2i1p1f1_rlut\n"
     ]
    },
    {
     "name": "stderr",
     "output_type": "stream",
     "text": [
      "/home/leachl/miniconda3/lib/python3.7/site-packages/xarray/coding/times.py:427: SerializationWarning: Unable to decode time axis into full numpy.datetime64 objects, continuing using cftime.datetime objects instead, reason: dates out of range\n",
      "  dtype = _decode_cf_datetime_dtype(data, units, calendar, self.use_cftime)\n",
      "/home/leachl/miniconda3/lib/python3.7/site-packages/xarray/coding/times.py:427: SerializationWarning: Unable to decode time axis into full numpy.datetime64 objects, continuing using cftime.datetime objects instead, reason: dates out of range\n",
      "  dtype = _decode_cf_datetime_dtype(data, units, calendar, self.use_cftime)\n",
      "/home/leachl/miniconda3/lib/python3.7/site-packages/numpy/core/_asarray.py:83: SerializationWarning: Unable to decode time axis into full numpy.datetime64 objects, continuing using cftime.datetime objects instead, reason: dates out of range\n",
      "  return array(a, dtype, copy=False, order=order)\n"
     ]
    },
    {
     "name": "stdout",
     "output_type": "stream",
     "text": [
      "getting EC-Earth-Consortium_EC-Earth3_r2i1p1f1_rsdt\n"
     ]
    },
    {
     "name": "stderr",
     "output_type": "stream",
     "text": [
      "/home/leachl/miniconda3/lib/python3.7/site-packages/xarray/coding/times.py:427: SerializationWarning: Unable to decode time axis into full numpy.datetime64 objects, continuing using cftime.datetime objects instead, reason: dates out of range\n",
      "  dtype = _decode_cf_datetime_dtype(data, units, calendar, self.use_cftime)\n",
      "/home/leachl/miniconda3/lib/python3.7/site-packages/xarray/coding/times.py:427: SerializationWarning: Unable to decode time axis into full numpy.datetime64 objects, continuing using cftime.datetime objects instead, reason: dates out of range\n",
      "  dtype = _decode_cf_datetime_dtype(data, units, calendar, self.use_cftime)\n",
      "/home/leachl/miniconda3/lib/python3.7/site-packages/numpy/core/_asarray.py:83: SerializationWarning: Unable to decode time axis into full numpy.datetime64 objects, continuing using cftime.datetime objects instead, reason: dates out of range\n",
      "  return array(a, dtype, copy=False, order=order)\n"
     ]
    },
    {
     "name": "stdout",
     "output_type": "stream",
     "text": [
      "getting EC-Earth-Consortium_EC-Earth3_r2i1p1f1_rsut\n"
     ]
    },
    {
     "name": "stderr",
     "output_type": "stream",
     "text": [
      "/home/leachl/miniconda3/lib/python3.7/site-packages/xarray/coding/times.py:427: SerializationWarning: Unable to decode time axis into full numpy.datetime64 objects, continuing using cftime.datetime objects instead, reason: dates out of range\n",
      "  dtype = _decode_cf_datetime_dtype(data, units, calendar, self.use_cftime)\n",
      "/home/leachl/miniconda3/lib/python3.7/site-packages/xarray/coding/times.py:427: SerializationWarning: Unable to decode time axis into full numpy.datetime64 objects, continuing using cftime.datetime objects instead, reason: dates out of range\n",
      "  dtype = _decode_cf_datetime_dtype(data, units, calendar, self.use_cftime)\n",
      "/home/leachl/miniconda3/lib/python3.7/site-packages/numpy/core/_asarray.py:83: SerializationWarning: Unable to decode time axis into full numpy.datetime64 objects, continuing using cftime.datetime objects instead, reason: dates out of range\n",
      "  return array(a, dtype, copy=False, order=order)\n"
     ]
    },
    {
     "name": "stdout",
     "output_type": "stream",
     "text": [
      "retrieval failed\n",
      "getting EC-Earth-Consortium_EC-Earth3_r2i1p1f1_tas\n"
     ]
    },
    {
     "name": "stderr",
     "output_type": "stream",
     "text": [
      "/home/leachl/miniconda3/lib/python3.7/site-packages/xarray/coding/times.py:427: SerializationWarning: Unable to decode time axis into full numpy.datetime64 objects, continuing using cftime.datetime objects instead, reason: dates out of range\n",
      "  dtype = _decode_cf_datetime_dtype(data, units, calendar, self.use_cftime)\n",
      "/home/leachl/miniconda3/lib/python3.7/site-packages/xarray/coding/times.py:427: SerializationWarning: Unable to decode time axis into full numpy.datetime64 objects, continuing using cftime.datetime objects instead, reason: dates out of range\n",
      "  dtype = _decode_cf_datetime_dtype(data, units, calendar, self.use_cftime)\n",
      "/home/leachl/miniconda3/lib/python3.7/site-packages/numpy/core/_asarray.py:83: SerializationWarning: Unable to decode time axis into full numpy.datetime64 objects, continuing using cftime.datetime objects instead, reason: dates out of range\n",
      "  return array(a, dtype, copy=False, order=order)\n"
     ]
    },
    {
     "name": "stdout",
     "output_type": "stream",
     "text": [
      "getting FIO-QLNM_FIO-ESM-2-0_r1i1p1f1_rsut\n",
      "getting FIO-QLNM_FIO-ESM-2-0_r1i1p1f1_tas\n",
      "getting HAMMOZ-Consortium_MPI-ESM-1-2-HAM_r1i1p1f1_rlut\n"
     ]
    },
    {
     "name": "stderr",
     "output_type": "stream",
     "text": [
      "/home/leachl/miniconda3/lib/python3.7/site-packages/xarray/coding/times.py:427: SerializationWarning: Unable to decode time axis into full numpy.datetime64 objects, continuing using cftime.datetime objects instead, reason: dates out of range\n",
      "  dtype = _decode_cf_datetime_dtype(data, units, calendar, self.use_cftime)\n",
      "/home/leachl/miniconda3/lib/python3.7/site-packages/xarray/coding/times.py:427: SerializationWarning: Unable to decode time axis into full numpy.datetime64 objects, continuing using cftime.datetime objects instead, reason: dates out of range\n",
      "  dtype = _decode_cf_datetime_dtype(data, units, calendar, self.use_cftime)\n",
      "/home/leachl/miniconda3/lib/python3.7/site-packages/numpy/core/_asarray.py:83: SerializationWarning: Unable to decode time axis into full numpy.datetime64 objects, continuing using cftime.datetime objects instead, reason: dates out of range\n",
      "  return array(a, dtype, copy=False, order=order)\n"
     ]
    },
    {
     "name": "stdout",
     "output_type": "stream",
     "text": [
      "getting HAMMOZ-Consortium_MPI-ESM-1-2-HAM_r1i1p1f1_rsdt\n"
     ]
    },
    {
     "name": "stderr",
     "output_type": "stream",
     "text": [
      "/home/leachl/miniconda3/lib/python3.7/site-packages/xarray/coding/times.py:427: SerializationWarning: Unable to decode time axis into full numpy.datetime64 objects, continuing using cftime.datetime objects instead, reason: dates out of range\n",
      "  dtype = _decode_cf_datetime_dtype(data, units, calendar, self.use_cftime)\n",
      "/home/leachl/miniconda3/lib/python3.7/site-packages/xarray/coding/times.py:427: SerializationWarning: Unable to decode time axis into full numpy.datetime64 objects, continuing using cftime.datetime objects instead, reason: dates out of range\n",
      "  dtype = _decode_cf_datetime_dtype(data, units, calendar, self.use_cftime)\n",
      "/home/leachl/miniconda3/lib/python3.7/site-packages/numpy/core/_asarray.py:83: SerializationWarning: Unable to decode time axis into full numpy.datetime64 objects, continuing using cftime.datetime objects instead, reason: dates out of range\n",
      "  return array(a, dtype, copy=False, order=order)\n"
     ]
    },
    {
     "name": "stdout",
     "output_type": "stream",
     "text": [
      "getting HAMMOZ-Consortium_MPI-ESM-1-2-HAM_r1i1p1f1_rsut\n"
     ]
    },
    {
     "name": "stderr",
     "output_type": "stream",
     "text": [
      "/home/leachl/miniconda3/lib/python3.7/site-packages/xarray/coding/times.py:427: SerializationWarning: Unable to decode time axis into full numpy.datetime64 objects, continuing using cftime.datetime objects instead, reason: dates out of range\n",
      "  dtype = _decode_cf_datetime_dtype(data, units, calendar, self.use_cftime)\n",
      "/home/leachl/miniconda3/lib/python3.7/site-packages/xarray/coding/times.py:427: SerializationWarning: Unable to decode time axis into full numpy.datetime64 objects, continuing using cftime.datetime objects instead, reason: dates out of range\n",
      "  dtype = _decode_cf_datetime_dtype(data, units, calendar, self.use_cftime)\n",
      "/home/leachl/miniconda3/lib/python3.7/site-packages/numpy/core/_asarray.py:83: SerializationWarning: Unable to decode time axis into full numpy.datetime64 objects, continuing using cftime.datetime objects instead, reason: dates out of range\n",
      "  return array(a, dtype, copy=False, order=order)\n"
     ]
    },
    {
     "name": "stdout",
     "output_type": "stream",
     "text": [
      "retrieval failed\n",
      "getting HAMMOZ-Consortium_MPI-ESM-1-2-HAM_r1i1p1f1_tas\n"
     ]
    },
    {
     "name": "stderr",
     "output_type": "stream",
     "text": [
      "/home/leachl/miniconda3/lib/python3.7/site-packages/xarray/coding/times.py:427: SerializationWarning: Unable to decode time axis into full numpy.datetime64 objects, continuing using cftime.datetime objects instead, reason: dates out of range\n",
      "  dtype = _decode_cf_datetime_dtype(data, units, calendar, self.use_cftime)\n",
      "/home/leachl/miniconda3/lib/python3.7/site-packages/xarray/coding/times.py:427: SerializationWarning: Unable to decode time axis into full numpy.datetime64 objects, continuing using cftime.datetime objects instead, reason: dates out of range\n",
      "  dtype = _decode_cf_datetime_dtype(data, units, calendar, self.use_cftime)\n",
      "/home/leachl/miniconda3/lib/python3.7/site-packages/numpy/core/_asarray.py:83: SerializationWarning: Unable to decode time axis into full numpy.datetime64 objects, continuing using cftime.datetime objects instead, reason: dates out of range\n",
      "  return array(a, dtype, copy=False, order=order)\n"
     ]
    },
    {
     "name": "stdout",
     "output_type": "stream",
     "text": [
      "getting INM_INM-CM4-8_r1i1p1f1_rlut\n",
      "getting INM_INM-CM4-8_r1i1p1f1_rsdt\n",
      "getting INM_INM-CM4-8_r1i1p1f1_rsut\n",
      "getting INM_INM-CM4-8_r1i1p1f1_tas\n",
      "getting INM_INM-CM5-0_r1i1p1f1_rlut\n",
      "getting INM_INM-CM5-0_r1i1p1f1_rsdt\n",
      "getting INM_INM-CM5-0_r1i1p1f1_rsut\n",
      "getting INM_INM-CM5-0_r1i1p1f1_tas\n",
      "getting IPSL_IPSL-CM6A-LR_r1i1p1f1_rlut\n"
     ]
    },
    {
     "name": "stderr",
     "output_type": "stream",
     "text": [
      "/home/leachl/miniconda3/lib/python3.7/site-packages/xarray/coding/times.py:427: SerializationWarning: Unable to decode time axis into full numpy.datetime64 objects, continuing using cftime.datetime objects instead, reason: dates out of range\n",
      "  dtype = _decode_cf_datetime_dtype(data, units, calendar, self.use_cftime)\n",
      "/home/leachl/miniconda3/lib/python3.7/site-packages/numpy/core/_asarray.py:83: SerializationWarning: Unable to decode time axis into full numpy.datetime64 objects, continuing using cftime.datetime objects instead, reason: dates out of range\n",
      "  return array(a, dtype, copy=False, order=order)\n"
     ]
    },
    {
     "name": "stdout",
     "output_type": "stream",
     "text": [
      "getting IPSL_IPSL-CM6A-LR_r1i1p1f1_rsdt\n"
     ]
    },
    {
     "name": "stderr",
     "output_type": "stream",
     "text": [
      "/home/leachl/miniconda3/lib/python3.7/site-packages/xarray/coding/times.py:427: SerializationWarning: Unable to decode time axis into full numpy.datetime64 objects, continuing using cftime.datetime objects instead, reason: dates out of range\n",
      "  dtype = _decode_cf_datetime_dtype(data, units, calendar, self.use_cftime)\n",
      "/home/leachl/miniconda3/lib/python3.7/site-packages/numpy/core/_asarray.py:83: SerializationWarning: Unable to decode time axis into full numpy.datetime64 objects, continuing using cftime.datetime objects instead, reason: dates out of range\n",
      "  return array(a, dtype, copy=False, order=order)\n"
     ]
    },
    {
     "name": "stdout",
     "output_type": "stream",
     "text": [
      "getting IPSL_IPSL-CM6A-LR_r1i1p1f1_rsut\n"
     ]
    },
    {
     "name": "stderr",
     "output_type": "stream",
     "text": [
      "/home/leachl/miniconda3/lib/python3.7/site-packages/xarray/coding/times.py:427: SerializationWarning: Unable to decode time axis into full numpy.datetime64 objects, continuing using cftime.datetime objects instead, reason: dates out of range\n",
      "  dtype = _decode_cf_datetime_dtype(data, units, calendar, self.use_cftime)\n",
      "/home/leachl/miniconda3/lib/python3.7/site-packages/numpy/core/_asarray.py:83: SerializationWarning: Unable to decode time axis into full numpy.datetime64 objects, continuing using cftime.datetime objects instead, reason: dates out of range\n",
      "  return array(a, dtype, copy=False, order=order)\n"
     ]
    },
    {
     "name": "stdout",
     "output_type": "stream",
     "text": [
      "getting IPSL_IPSL-CM6A-LR_r1i1p1f1_tas\n"
     ]
    },
    {
     "name": "stderr",
     "output_type": "stream",
     "text": [
      "/home/leachl/miniconda3/lib/python3.7/site-packages/xarray/coding/times.py:427: SerializationWarning: Unable to decode time axis into full numpy.datetime64 objects, continuing using cftime.datetime objects instead, reason: dates out of range\n",
      "  dtype = _decode_cf_datetime_dtype(data, units, calendar, self.use_cftime)\n",
      "/home/leachl/miniconda3/lib/python3.7/site-packages/numpy/core/_asarray.py:83: SerializationWarning: Unable to decode time axis into full numpy.datetime64 objects, continuing using cftime.datetime objects instead, reason: dates out of range\n",
      "  return array(a, dtype, copy=False, order=order)\n"
     ]
    },
    {
     "name": "stdout",
     "output_type": "stream",
     "text": [
      "getting IPSL_IPSL-CM6A-LR_r1i2p1f1_rlut\n",
      "getting IPSL_IPSL-CM6A-LR_r1i2p1f1_rsdt\n",
      "getting IPSL_IPSL-CM6A-LR_r1i2p1f1_rsut\n",
      "getting IPSL_IPSL-CM6A-LR_r1i2p1f1_tas\n",
      "getting MIROC_MIROC-ES2L_r1i1p1f2_rlut\n"
     ]
    },
    {
     "name": "stderr",
     "output_type": "stream",
     "text": [
      "/home/leachl/miniconda3/lib/python3.7/site-packages/xarray/coding/times.py:427: SerializationWarning: Unable to decode time axis into full numpy.datetime64 objects, continuing using cftime.datetime objects instead, reason: dates out of range\n",
      "  dtype = _decode_cf_datetime_dtype(data, units, calendar, self.use_cftime)\n",
      "/home/leachl/miniconda3/lib/python3.7/site-packages/xarray/coding/times.py:427: SerializationWarning: Unable to decode time axis into full numpy.datetime64 objects, continuing using cftime.datetime objects instead, reason: dates out of range\n",
      "  dtype = _decode_cf_datetime_dtype(data, units, calendar, self.use_cftime)\n",
      "/home/leachl/miniconda3/lib/python3.7/site-packages/numpy/core/_asarray.py:83: SerializationWarning: Unable to decode time axis into full numpy.datetime64 objects, continuing using cftime.datetime objects instead, reason: dates out of range\n",
      "  return array(a, dtype, copy=False, order=order)\n"
     ]
    },
    {
     "name": "stdout",
     "output_type": "stream",
     "text": [
      "getting MIROC_MIROC-ES2L_r1i1p1f2_rsdt\n"
     ]
    },
    {
     "name": "stderr",
     "output_type": "stream",
     "text": [
      "/home/leachl/miniconda3/lib/python3.7/site-packages/xarray/coding/times.py:427: SerializationWarning: Unable to decode time axis into full numpy.datetime64 objects, continuing using cftime.datetime objects instead, reason: dates out of range\n",
      "  dtype = _decode_cf_datetime_dtype(data, units, calendar, self.use_cftime)\n",
      "/home/leachl/miniconda3/lib/python3.7/site-packages/xarray/coding/times.py:427: SerializationWarning: Unable to decode time axis into full numpy.datetime64 objects, continuing using cftime.datetime objects instead, reason: dates out of range\n",
      "  dtype = _decode_cf_datetime_dtype(data, units, calendar, self.use_cftime)\n",
      "/home/leachl/miniconda3/lib/python3.7/site-packages/numpy/core/_asarray.py:83: SerializationWarning: Unable to decode time axis into full numpy.datetime64 objects, continuing using cftime.datetime objects instead, reason: dates out of range\n",
      "  return array(a, dtype, copy=False, order=order)\n"
     ]
    },
    {
     "name": "stdout",
     "output_type": "stream",
     "text": [
      "getting MIROC_MIROC-ES2L_r1i1p1f2_rsut\n"
     ]
    },
    {
     "name": "stderr",
     "output_type": "stream",
     "text": [
      "/home/leachl/miniconda3/lib/python3.7/site-packages/xarray/coding/times.py:427: SerializationWarning: Unable to decode time axis into full numpy.datetime64 objects, continuing using cftime.datetime objects instead, reason: dates out of range\n",
      "  dtype = _decode_cf_datetime_dtype(data, units, calendar, self.use_cftime)\n",
      "/home/leachl/miniconda3/lib/python3.7/site-packages/xarray/coding/times.py:427: SerializationWarning: Unable to decode time axis into full numpy.datetime64 objects, continuing using cftime.datetime objects instead, reason: dates out of range\n",
      "  dtype = _decode_cf_datetime_dtype(data, units, calendar, self.use_cftime)\n",
      "/home/leachl/miniconda3/lib/python3.7/site-packages/numpy/core/_asarray.py:83: SerializationWarning: Unable to decode time axis into full numpy.datetime64 objects, continuing using cftime.datetime objects instead, reason: dates out of range\n",
      "  return array(a, dtype, copy=False, order=order)\n"
     ]
    },
    {
     "name": "stdout",
     "output_type": "stream",
     "text": [
      "getting MIROC_MIROC-ES2L_r1i1p1f2_tas\n"
     ]
    },
    {
     "name": "stderr",
     "output_type": "stream",
     "text": [
      "/home/leachl/miniconda3/lib/python3.7/site-packages/xarray/coding/times.py:427: SerializationWarning: Unable to decode time axis into full numpy.datetime64 objects, continuing using cftime.datetime objects instead, reason: dates out of range\n",
      "  dtype = _decode_cf_datetime_dtype(data, units, calendar, self.use_cftime)\n",
      "/home/leachl/miniconda3/lib/python3.7/site-packages/xarray/coding/times.py:427: SerializationWarning: Unable to decode time axis into full numpy.datetime64 objects, continuing using cftime.datetime objects instead, reason: dates out of range\n",
      "  dtype = _decode_cf_datetime_dtype(data, units, calendar, self.use_cftime)\n",
      "/home/leachl/miniconda3/lib/python3.7/site-packages/numpy/core/_asarray.py:83: SerializationWarning: Unable to decode time axis into full numpy.datetime64 objects, continuing using cftime.datetime objects instead, reason: dates out of range\n",
      "  return array(a, dtype, copy=False, order=order)\n"
     ]
    },
    {
     "name": "stdout",
     "output_type": "stream",
     "text": [
      "getting MIROC_MIROC6_r1i1p1f1_rlut\n"
     ]
    },
    {
     "name": "stderr",
     "output_type": "stream",
     "text": [
      "/home/leachl/miniconda3/lib/python3.7/site-packages/xarray/coding/times.py:427: SerializationWarning: Unable to decode time axis into full numpy.datetime64 objects, continuing using cftime.datetime objects instead, reason: dates out of range\n",
      "  dtype = _decode_cf_datetime_dtype(data, units, calendar, self.use_cftime)\n",
      "/home/leachl/miniconda3/lib/python3.7/site-packages/numpy/core/_asarray.py:83: SerializationWarning: Unable to decode time axis into full numpy.datetime64 objects, continuing using cftime.datetime objects instead, reason: dates out of range\n",
      "  return array(a, dtype, copy=False, order=order)\n"
     ]
    },
    {
     "name": "stdout",
     "output_type": "stream",
     "text": [
      "getting MIROC_MIROC6_r1i1p1f1_rsdt\n"
     ]
    },
    {
     "name": "stderr",
     "output_type": "stream",
     "text": [
      "/home/leachl/miniconda3/lib/python3.7/site-packages/xarray/coding/times.py:427: SerializationWarning: Unable to decode time axis into full numpy.datetime64 objects, continuing using cftime.datetime objects instead, reason: dates out of range\n",
      "  dtype = _decode_cf_datetime_dtype(data, units, calendar, self.use_cftime)\n",
      "/home/leachl/miniconda3/lib/python3.7/site-packages/numpy/core/_asarray.py:83: SerializationWarning: Unable to decode time axis into full numpy.datetime64 objects, continuing using cftime.datetime objects instead, reason: dates out of range\n",
      "  return array(a, dtype, copy=False, order=order)\n"
     ]
    },
    {
     "name": "stdout",
     "output_type": "stream",
     "text": [
      "getting MIROC_MIROC6_r1i1p1f1_rsut\n"
     ]
    },
    {
     "name": "stderr",
     "output_type": "stream",
     "text": [
      "/home/leachl/miniconda3/lib/python3.7/site-packages/xarray/coding/times.py:427: SerializationWarning: Unable to decode time axis into full numpy.datetime64 objects, continuing using cftime.datetime objects instead, reason: dates out of range\n",
      "  dtype = _decode_cf_datetime_dtype(data, units, calendar, self.use_cftime)\n",
      "/home/leachl/miniconda3/lib/python3.7/site-packages/numpy/core/_asarray.py:83: SerializationWarning: Unable to decode time axis into full numpy.datetime64 objects, continuing using cftime.datetime objects instead, reason: dates out of range\n",
      "  return array(a, dtype, copy=False, order=order)\n"
     ]
    },
    {
     "name": "stdout",
     "output_type": "stream",
     "text": [
      "getting MIROC_MIROC6_r1i1p1f1_tas\n"
     ]
    },
    {
     "name": "stderr",
     "output_type": "stream",
     "text": [
      "/home/leachl/miniconda3/lib/python3.7/site-packages/xarray/coding/times.py:427: SerializationWarning: Unable to decode time axis into full numpy.datetime64 objects, continuing using cftime.datetime objects instead, reason: dates out of range\n",
      "  dtype = _decode_cf_datetime_dtype(data, units, calendar, self.use_cftime)\n",
      "/home/leachl/miniconda3/lib/python3.7/site-packages/numpy/core/_asarray.py:83: SerializationWarning: Unable to decode time axis into full numpy.datetime64 objects, continuing using cftime.datetime objects instead, reason: dates out of range\n",
      "  return array(a, dtype, copy=False, order=order)\n"
     ]
    },
    {
     "name": "stdout",
     "output_type": "stream",
     "text": [
      "getting MOHC_HadGEM3-GC31-LL_r1i1p1f1_rlut\n",
      "getting MOHC_HadGEM3-GC31-LL_r1i1p1f1_rsdt\n",
      "getting MOHC_HadGEM3-GC31-LL_r1i1p1f1_rsut\n",
      "getting MOHC_HadGEM3-GC31-LL_r1i1p1f1_tas\n",
      "getting MOHC_HadGEM3-GC31-MM_r1i1p1f1_rlut\n",
      "getting MOHC_HadGEM3-GC31-MM_r1i1p1f1_rsdt\n",
      "getting MOHC_HadGEM3-GC31-MM_r1i1p1f1_rsut\n",
      "getting MOHC_HadGEM3-GC31-MM_r1i1p1f1_tas\n",
      "getting MOHC_UKESM1-0-LL_r1i1p1f2_rlut\n",
      "getting MOHC_UKESM1-0-LL_r1i1p1f2_rsdt\n",
      "getting MOHC_UKESM1-0-LL_r1i1p1f2_rsut\n",
      "getting MOHC_UKESM1-0-LL_r1i1p1f2_tas\n",
      "getting MPI-M_MPI-ESM1-2-HR_r1i1p1f1_rlut\n"
     ]
    },
    {
     "name": "stderr",
     "output_type": "stream",
     "text": [
      "/home/leachl/miniconda3/lib/python3.7/site-packages/xarray/coding/times.py:427: SerializationWarning: Unable to decode time axis into full numpy.datetime64 objects, continuing using cftime.datetime objects instead, reason: dates out of range\n",
      "  dtype = _decode_cf_datetime_dtype(data, units, calendar, self.use_cftime)\n",
      "/home/leachl/miniconda3/lib/python3.7/site-packages/xarray/coding/times.py:427: SerializationWarning: Unable to decode time axis into full numpy.datetime64 objects, continuing using cftime.datetime objects instead, reason: dates out of range\n",
      "  dtype = _decode_cf_datetime_dtype(data, units, calendar, self.use_cftime)\n",
      "/home/leachl/miniconda3/lib/python3.7/site-packages/numpy/core/_asarray.py:83: SerializationWarning: Unable to decode time axis into full numpy.datetime64 objects, continuing using cftime.datetime objects instead, reason: dates out of range\n",
      "  return array(a, dtype, copy=False, order=order)\n"
     ]
    },
    {
     "name": "stdout",
     "output_type": "stream",
     "text": [
      "getting MPI-M_MPI-ESM1-2-HR_r1i1p1f1_rsdt\n"
     ]
    },
    {
     "name": "stderr",
     "output_type": "stream",
     "text": [
      "/home/leachl/miniconda3/lib/python3.7/site-packages/xarray/coding/times.py:427: SerializationWarning: Unable to decode time axis into full numpy.datetime64 objects, continuing using cftime.datetime objects instead, reason: dates out of range\n",
      "  dtype = _decode_cf_datetime_dtype(data, units, calendar, self.use_cftime)\n",
      "/home/leachl/miniconda3/lib/python3.7/site-packages/xarray/coding/times.py:427: SerializationWarning: Unable to decode time axis into full numpy.datetime64 objects, continuing using cftime.datetime objects instead, reason: dates out of range\n",
      "  dtype = _decode_cf_datetime_dtype(data, units, calendar, self.use_cftime)\n",
      "/home/leachl/miniconda3/lib/python3.7/site-packages/numpy/core/_asarray.py:83: SerializationWarning: Unable to decode time axis into full numpy.datetime64 objects, continuing using cftime.datetime objects instead, reason: dates out of range\n",
      "  return array(a, dtype, copy=False, order=order)\n"
     ]
    },
    {
     "name": "stdout",
     "output_type": "stream",
     "text": [
      "getting MPI-M_MPI-ESM1-2-HR_r1i1p1f1_rsut\n"
     ]
    },
    {
     "name": "stderr",
     "output_type": "stream",
     "text": [
      "/home/leachl/miniconda3/lib/python3.7/site-packages/xarray/coding/times.py:427: SerializationWarning: Unable to decode time axis into full numpy.datetime64 objects, continuing using cftime.datetime objects instead, reason: dates out of range\n",
      "  dtype = _decode_cf_datetime_dtype(data, units, calendar, self.use_cftime)\n",
      "/home/leachl/miniconda3/lib/python3.7/site-packages/xarray/coding/times.py:427: SerializationWarning: Unable to decode time axis into full numpy.datetime64 objects, continuing using cftime.datetime objects instead, reason: dates out of range\n",
      "  dtype = _decode_cf_datetime_dtype(data, units, calendar, self.use_cftime)\n",
      "/home/leachl/miniconda3/lib/python3.7/site-packages/numpy/core/_asarray.py:83: SerializationWarning: Unable to decode time axis into full numpy.datetime64 objects, continuing using cftime.datetime objects instead, reason: dates out of range\n",
      "  return array(a, dtype, copy=False, order=order)\n"
     ]
    },
    {
     "name": "stdout",
     "output_type": "stream",
     "text": [
      "getting MPI-M_MPI-ESM1-2-HR_r1i1p1f1_tas\n"
     ]
    },
    {
     "name": "stderr",
     "output_type": "stream",
     "text": [
      "/home/leachl/miniconda3/lib/python3.7/site-packages/xarray/coding/times.py:427: SerializationWarning: Unable to decode time axis into full numpy.datetime64 objects, continuing using cftime.datetime objects instead, reason: dates out of range\n",
      "  dtype = _decode_cf_datetime_dtype(data, units, calendar, self.use_cftime)\n",
      "/home/leachl/miniconda3/lib/python3.7/site-packages/xarray/coding/times.py:427: SerializationWarning: Unable to decode time axis into full numpy.datetime64 objects, continuing using cftime.datetime objects instead, reason: dates out of range\n",
      "  dtype = _decode_cf_datetime_dtype(data, units, calendar, self.use_cftime)\n",
      "/home/leachl/miniconda3/lib/python3.7/site-packages/numpy/core/_asarray.py:83: SerializationWarning: Unable to decode time axis into full numpy.datetime64 objects, continuing using cftime.datetime objects instead, reason: dates out of range\n",
      "  return array(a, dtype, copy=False, order=order)\n"
     ]
    },
    {
     "name": "stdout",
     "output_type": "stream",
     "text": [
      "getting MPI-M_MPI-ESM1-2-LR_r1i1p1f1_rlut\n"
     ]
    },
    {
     "name": "stderr",
     "output_type": "stream",
     "text": [
      "/home/leachl/miniconda3/lib/python3.7/site-packages/xarray/coding/times.py:427: SerializationWarning: Unable to decode time axis into full numpy.datetime64 objects, continuing using cftime.datetime objects instead, reason: dates out of range\n",
      "  dtype = _decode_cf_datetime_dtype(data, units, calendar, self.use_cftime)\n",
      "/home/leachl/miniconda3/lib/python3.7/site-packages/xarray/coding/times.py:427: SerializationWarning: Unable to decode time axis into full numpy.datetime64 objects, continuing using cftime.datetime objects instead, reason: dates out of range\n",
      "  dtype = _decode_cf_datetime_dtype(data, units, calendar, self.use_cftime)\n",
      "/home/leachl/miniconda3/lib/python3.7/site-packages/numpy/core/_asarray.py:83: SerializationWarning: Unable to decode time axis into full numpy.datetime64 objects, continuing using cftime.datetime objects instead, reason: dates out of range\n",
      "  return array(a, dtype, copy=False, order=order)\n"
     ]
    },
    {
     "name": "stdout",
     "output_type": "stream",
     "text": [
      "getting MPI-M_MPI-ESM1-2-LR_r1i1p1f1_rsdt\n"
     ]
    },
    {
     "name": "stderr",
     "output_type": "stream",
     "text": [
      "/home/leachl/miniconda3/lib/python3.7/site-packages/xarray/coding/times.py:427: SerializationWarning: Unable to decode time axis into full numpy.datetime64 objects, continuing using cftime.datetime objects instead, reason: dates out of range\n",
      "  dtype = _decode_cf_datetime_dtype(data, units, calendar, self.use_cftime)\n",
      "/home/leachl/miniconda3/lib/python3.7/site-packages/xarray/coding/times.py:427: SerializationWarning: Unable to decode time axis into full numpy.datetime64 objects, continuing using cftime.datetime objects instead, reason: dates out of range\n",
      "  dtype = _decode_cf_datetime_dtype(data, units, calendar, self.use_cftime)\n",
      "/home/leachl/miniconda3/lib/python3.7/site-packages/numpy/core/_asarray.py:83: SerializationWarning: Unable to decode time axis into full numpy.datetime64 objects, continuing using cftime.datetime objects instead, reason: dates out of range\n",
      "  return array(a, dtype, copy=False, order=order)\n"
     ]
    },
    {
     "name": "stdout",
     "output_type": "stream",
     "text": [
      "getting MPI-M_MPI-ESM1-2-LR_r1i1p1f1_rsut\n"
     ]
    },
    {
     "name": "stderr",
     "output_type": "stream",
     "text": [
      "/home/leachl/miniconda3/lib/python3.7/site-packages/xarray/coding/times.py:427: SerializationWarning: Unable to decode time axis into full numpy.datetime64 objects, continuing using cftime.datetime objects instead, reason: dates out of range\n",
      "  dtype = _decode_cf_datetime_dtype(data, units, calendar, self.use_cftime)\n",
      "/home/leachl/miniconda3/lib/python3.7/site-packages/xarray/coding/times.py:427: SerializationWarning: Unable to decode time axis into full numpy.datetime64 objects, continuing using cftime.datetime objects instead, reason: dates out of range\n",
      "  dtype = _decode_cf_datetime_dtype(data, units, calendar, self.use_cftime)\n",
      "/home/leachl/miniconda3/lib/python3.7/site-packages/numpy/core/_asarray.py:83: SerializationWarning: Unable to decode time axis into full numpy.datetime64 objects, continuing using cftime.datetime objects instead, reason: dates out of range\n",
      "  return array(a, dtype, copy=False, order=order)\n"
     ]
    },
    {
     "name": "stdout",
     "output_type": "stream",
     "text": [
      "getting MPI-M_MPI-ESM1-2-LR_r1i1p1f1_tas\n"
     ]
    },
    {
     "name": "stderr",
     "output_type": "stream",
     "text": [
      "/home/leachl/miniconda3/lib/python3.7/site-packages/xarray/coding/times.py:427: SerializationWarning: Unable to decode time axis into full numpy.datetime64 objects, continuing using cftime.datetime objects instead, reason: dates out of range\n",
      "  dtype = _decode_cf_datetime_dtype(data, units, calendar, self.use_cftime)\n",
      "/home/leachl/miniconda3/lib/python3.7/site-packages/xarray/coding/times.py:427: SerializationWarning: Unable to decode time axis into full numpy.datetime64 objects, continuing using cftime.datetime objects instead, reason: dates out of range\n",
      "  dtype = _decode_cf_datetime_dtype(data, units, calendar, self.use_cftime)\n",
      "/home/leachl/miniconda3/lib/python3.7/site-packages/numpy/core/_asarray.py:83: SerializationWarning: Unable to decode time axis into full numpy.datetime64 objects, continuing using cftime.datetime objects instead, reason: dates out of range\n",
      "  return array(a, dtype, copy=False, order=order)\n"
     ]
    },
    {
     "name": "stdout",
     "output_type": "stream",
     "text": [
      "getting MPI-M_MPI-ESM1-2-LR_r2i1p1f1_rlut\n",
      "getting MPI-M_MPI-ESM1-2-LR_r2i1p1f1_rsdt\n",
      "getting MPI-M_MPI-ESM1-2-LR_r2i1p1f1_rsut\n",
      "getting MPI-M_MPI-ESM1-2-LR_r2i1p1f1_tas\n",
      "getting MRI_MRI-ESM2-0_r1i1p1f1_rlut\n",
      "getting MRI_MRI-ESM2-0_r1i1p1f1_rsdt\n",
      "getting MRI_MRI-ESM2-0_r1i1p1f1_rsut\n",
      "getting MRI_MRI-ESM2-0_r1i1p1f1_tas\n",
      "getting MRI_MRI-ESM2-0_r1i2p1f1_rlut\n",
      "getting MRI_MRI-ESM2-0_r1i2p1f1_rsdt\n",
      "getting MRI_MRI-ESM2-0_r1i2p1f1_rsut\n",
      "getting MRI_MRI-ESM2-0_r1i2p1f1_tas\n",
      "getting NASA-GISS_GISS-E2-1-G-CC_r1i1p1f1_rlut\n",
      "getting NASA-GISS_GISS-E2-1-G-CC_r1i1p1f1_rsdt\n",
      "getting NASA-GISS_GISS-E2-1-G-CC_r1i1p1f1_rsut\n",
      "getting NASA-GISS_GISS-E2-1-G-CC_r1i1p1f1_tas\n",
      "getting NASA-GISS_GISS-E2-1-G_r101i1p1f1_rlut\n",
      "getting NASA-GISS_GISS-E2-1-G_r101i1p1f1_rsdt\n",
      "getting NASA-GISS_GISS-E2-1-G_r101i1p1f1_rsut\n",
      "getting NASA-GISS_GISS-E2-1-G_r101i1p1f1_tas\n",
      "getting NASA-GISS_GISS-E2-1-G_r102i1p1f1_rlut\n",
      "getting NASA-GISS_GISS-E2-1-G_r102i1p1f1_rsdt\n",
      "getting NASA-GISS_GISS-E2-1-G_r102i1p1f1_rsut\n",
      "getting NASA-GISS_GISS-E2-1-G_r102i1p1f1_tas\n",
      "getting NASA-GISS_GISS-E2-1-G_r1i1p1f1_rlut\n",
      "getting NASA-GISS_GISS-E2-1-G_r1i1p1f1_rsdt\n",
      "getting NASA-GISS_GISS-E2-1-G_r1i1p1f1_rsut\n",
      "getting NASA-GISS_GISS-E2-1-G_r1i1p1f1_tas\n",
      "getting NASA-GISS_GISS-E2-1-G_r1i1p1f2_rlut\n",
      "getting NASA-GISS_GISS-E2-1-G_r1i1p1f2_rsdt\n",
      "getting NASA-GISS_GISS-E2-1-G_r1i1p1f2_rsut\n",
      "getting NASA-GISS_GISS-E2-1-G_r1i1p1f2_tas\n",
      "getting NASA-GISS_GISS-E2-1-G_r1i1p1f3_rlut\n",
      "getting NASA-GISS_GISS-E2-1-G_r1i1p1f3_rsdt\n",
      "getting NASA-GISS_GISS-E2-1-G_r1i1p1f3_rsut\n",
      "getting NASA-GISS_GISS-E2-1-G_r1i1p1f3_tas\n",
      "getting NASA-GISS_GISS-E2-1-G_r1i1p3f1_rlut\n",
      "getting NASA-GISS_GISS-E2-1-G_r1i1p3f1_rsdt\n",
      "getting NASA-GISS_GISS-E2-1-G_r1i1p3f1_rsut\n",
      "getting NASA-GISS_GISS-E2-1-G_r1i1p3f1_tas\n",
      "getting NASA-GISS_GISS-E2-1-G_r1i1p5f1_rlut\n",
      "getting NASA-GISS_GISS-E2-1-G_r1i1p5f1_rsdt\n",
      "getting NASA-GISS_GISS-E2-1-G_r1i1p5f1_rsut\n",
      "getting NASA-GISS_GISS-E2-1-G_r1i1p5f1_tas\n",
      "getting NASA-GISS_GISS-E2-1-G_r2i1p1f1_rlut\n",
      "getting NASA-GISS_GISS-E2-1-G_r2i1p1f1_rsdt\n",
      "getting NASA-GISS_GISS-E2-1-G_r2i1p1f1_rsut\n",
      "getting NASA-GISS_GISS-E2-1-G_r2i1p1f1_tas\n",
      "getting NASA-GISS_GISS-E2-1-H_r1i1p1f1_rlut\n",
      "getting NASA-GISS_GISS-E2-1-H_r1i1p1f1_rsdt\n",
      "getting NASA-GISS_GISS-E2-1-H_r1i1p1f1_rsut\n",
      "getting NASA-GISS_GISS-E2-1-H_r1i1p1f1_tas\n",
      "getting NASA-GISS_GISS-E2-1-H_r1i1p3f1_tas\n",
      "getting NASA-GISS_GISS-E2-2-G_r1i1p1f1_rlut\n",
      "getting NASA-GISS_GISS-E2-2-G_r1i1p1f1_rsdt\n",
      "getting NASA-GISS_GISS-E2-2-G_r1i1p1f1_rsut\n",
      "getting NASA-GISS_GISS-E2-2-G_r1i1p1f1_tas\n",
      "getting NCAR_CESM2-FV2_r1i1p1f1_rlut\n",
      "getting NCAR_CESM2-FV2_r1i1p1f1_rsdt\n",
      "getting NCAR_CESM2-FV2_r1i1p1f1_rsut\n",
      "getting NCAR_CESM2-FV2_r1i1p1f1_tas\n",
      "getting NCAR_CESM2-WACCM-FV2_r1i1p1f1_rlut\n",
      "getting NCAR_CESM2-WACCM-FV2_r1i1p1f1_rsdt\n",
      "getting NCAR_CESM2-WACCM-FV2_r1i1p1f1_rsut\n",
      "getting NCAR_CESM2-WACCM-FV2_r1i1p1f1_tas\n",
      "getting NCAR_CESM2-WACCM_r1i1p1f1_rlut\n",
      "getting NCAR_CESM2-WACCM_r1i1p1f1_rsdt\n",
      "getting NCAR_CESM2-WACCM_r1i1p1f1_rsut\n",
      "getting NCAR_CESM2-WACCM_r1i1p1f1_tas\n",
      "getting NCAR_CESM2_r1i1p1f1_rlut\n",
      "getting NCAR_CESM2_r1i1p1f1_rsdt\n",
      "getting NCAR_CESM2_r1i1p1f1_rsut\n",
      "getting NCAR_CESM2_r1i1p1f1_tas\n",
      "getting NCC_NorCPM1_r1i1p1f1_rlut\n",
      "getting NCC_NorCPM1_r1i1p1f1_rsdt\n",
      "getting NCC_NorCPM1_r1i1p1f1_rsut\n",
      "getting NCC_NorCPM1_r1i1p1f1_tas\n",
      "getting NCC_NorCPM1_r2i1p1f1_rlut\n",
      "getting NCC_NorCPM1_r2i1p1f1_rsdt\n",
      "getting NCC_NorCPM1_r2i1p1f1_rsut\n",
      "getting NCC_NorCPM1_r2i1p1f1_tas\n",
      "getting NCC_NorCPM1_r3i1p1f1_rlut\n",
      "getting NCC_NorCPM1_r3i1p1f1_rsdt\n",
      "getting NCC_NorCPM1_r3i1p1f1_rsut\n",
      "getting NCC_NorCPM1_r3i1p1f1_tas\n",
      "getting NCC_NorESM1-F_r1i1p1f1_rlut\n",
      "getting NCC_NorESM1-F_r1i1p1f1_rsdt\n",
      "getting NCC_NorESM1-F_r1i1p1f1_rsut\n",
      "getting NCC_NorESM1-F_r1i1p1f1_tas\n",
      "getting NCC_NorESM2-LM_r1i1p1f1_rlut\n",
      "getting NCC_NorESM2-LM_r1i1p1f1_rsdt\n",
      "getting NCC_NorESM2-LM_r1i1p1f1_rsut\n",
      "getting NCC_NorESM2-LM_r1i1p1f1_tas\n",
      "getting NCC_NorESM2-MM_r1i1p1f1_rlut\n",
      "getting NCC_NorESM2-MM_r1i1p1f1_rsdt\n",
      "getting NCC_NorESM2-MM_r1i1p1f1_rsut\n",
      "getting NCC_NorESM2-MM_r1i1p1f1_tas\n",
      "getting NIMS-KMA_KACE-1-0-G_r1i1p1f1_rlut\n",
      "getting NIMS-KMA_KACE-1-0-G_r1i1p1f1_rsdt\n",
      "getting NIMS-KMA_KACE-1-0-G_r1i1p1f1_rsut\n",
      "getting NIMS-KMA_KACE-1-0-G_r1i1p1f1_tas\n",
      "getting NOAA-GFDL_GFDL-CM4_r1i1p1f1_rlut\n",
      "getting NOAA-GFDL_GFDL-CM4_r1i1p1f1_rsdt\n",
      "getting NOAA-GFDL_GFDL-CM4_r1i1p1f1_rsut\n",
      "getting NOAA-GFDL_GFDL-CM4_r1i1p1f1_tas\n",
      "getting NOAA-GFDL_GFDL-ESM4_r1i1p1f1_rlut\n",
      "getting NOAA-GFDL_GFDL-ESM4_r1i1p1f1_rsdt\n",
      "getting NOAA-GFDL_GFDL-ESM4_r1i1p1f1_rsut\n",
      "getting NOAA-GFDL_GFDL-ESM4_r1i1p1f1_tas\n",
      "getting NUIST_NESM3_r1i1p1f1_rlut\n"
     ]
    },
    {
     "name": "stderr",
     "output_type": "stream",
     "text": [
      "/home/leachl/miniconda3/lib/python3.7/site-packages/xarray/coding/times.py:427: SerializationWarning: Unable to decode time axis into full numpy.datetime64 objects, continuing using cftime.datetime objects instead, reason: dates out of range\n",
      "  dtype = _decode_cf_datetime_dtype(data, units, calendar, self.use_cftime)\n",
      "/home/leachl/miniconda3/lib/python3.7/site-packages/numpy/core/_asarray.py:83: SerializationWarning: Unable to decode time axis into full numpy.datetime64 objects, continuing using cftime.datetime objects instead, reason: dates out of range\n",
      "  return array(a, dtype, copy=False, order=order)\n"
     ]
    },
    {
     "name": "stdout",
     "output_type": "stream",
     "text": [
      "getting NUIST_NESM3_r1i1p1f1_rsdt\n"
     ]
    },
    {
     "name": "stderr",
     "output_type": "stream",
     "text": [
      "/home/leachl/miniconda3/lib/python3.7/site-packages/xarray/coding/times.py:427: SerializationWarning: Unable to decode time axis into full numpy.datetime64 objects, continuing using cftime.datetime objects instead, reason: dates out of range\n",
      "  dtype = _decode_cf_datetime_dtype(data, units, calendar, self.use_cftime)\n",
      "/home/leachl/miniconda3/lib/python3.7/site-packages/numpy/core/_asarray.py:83: SerializationWarning: Unable to decode time axis into full numpy.datetime64 objects, continuing using cftime.datetime objects instead, reason: dates out of range\n",
      "  return array(a, dtype, copy=False, order=order)\n"
     ]
    },
    {
     "name": "stdout",
     "output_type": "stream",
     "text": [
      "getting NUIST_NESM3_r1i1p1f1_rsut\n"
     ]
    },
    {
     "name": "stderr",
     "output_type": "stream",
     "text": [
      "/home/leachl/miniconda3/lib/python3.7/site-packages/xarray/coding/times.py:427: SerializationWarning: Unable to decode time axis into full numpy.datetime64 objects, continuing using cftime.datetime objects instead, reason: dates out of range\n",
      "  dtype = _decode_cf_datetime_dtype(data, units, calendar, self.use_cftime)\n",
      "/home/leachl/miniconda3/lib/python3.7/site-packages/numpy/core/_asarray.py:83: SerializationWarning: Unable to decode time axis into full numpy.datetime64 objects, continuing using cftime.datetime objects instead, reason: dates out of range\n",
      "  return array(a, dtype, copy=False, order=order)\n"
     ]
    },
    {
     "name": "stdout",
     "output_type": "stream",
     "text": [
      "getting NUIST_NESM3_r1i1p1f1_tas\n"
     ]
    },
    {
     "name": "stderr",
     "output_type": "stream",
     "text": [
      "/home/leachl/miniconda3/lib/python3.7/site-packages/xarray/coding/times.py:427: SerializationWarning: Unable to decode time axis into full numpy.datetime64 objects, continuing using cftime.datetime objects instead, reason: dates out of range\n",
      "  dtype = _decode_cf_datetime_dtype(data, units, calendar, self.use_cftime)\n",
      "/home/leachl/miniconda3/lib/python3.7/site-packages/numpy/core/_asarray.py:83: SerializationWarning: Unable to decode time axis into full numpy.datetime64 objects, continuing using cftime.datetime objects instead, reason: dates out of range\n",
      "  return array(a, dtype, copy=False, order=order)\n"
     ]
    },
    {
     "name": "stdout",
     "output_type": "stream",
     "text": [
      "getting SNU_SAM0-UNICON_r1i1p1f1_rlut\n",
      "getting SNU_SAM0-UNICON_r1i1p1f1_rsdt\n",
      "getting SNU_SAM0-UNICON_r1i1p1f1_rsut\n",
      "getting SNU_SAM0-UNICON_r1i1p1f1_tas\n",
      "getting THU_CIESM_r1i1p1f1_rlut\n",
      "getting THU_CIESM_r1i1p1f1_rsut\n",
      "getting THU_CIESM_r1i1p1f1_tas\n",
      "getting UA_MCM-UA-1-0_r1i1p1f1_rlut\n",
      "getting UA_MCM-UA-1-0_r1i1p1f1_tas\n"
     ]
    }
   ],
   "source": [
    "# piControl_info = gs_stores.loc[(gs_stores.experiment_id=='piControl')&(gs_stores.variable_id.isin(['tas','rlut','rsut','rsdt']))&(gs_stores.table_id=='Amon')]\n",
    "\n",
    "# piControl_data=[]\n",
    "\n",
    "for index,row in piControl_info.loc[26752:].iterrows():\n",
    "    print('getting '+row.loc['ism']+'_'+row.loc['variable_id'])\n",
    "    piControl_data += [get_annual_CMIP6_data_gstore(row.loc['activity_id'], row.loc['table_id'], row.loc['variable_id'], row.loc['experiment_id'], row.loc['institution_id'], row.loc['source_id'], row.loc['member_id'])]"
   ]
  },
  {
   "cell_type": "code",
   "execution_count": 68,
   "metadata": {},
   "outputs": [
    {
     "data": {
      "text/html": [
       "<div>\n",
       "<style scoped>\n",
       "    .dataframe tbody tr th:only-of-type {\n",
       "        vertical-align: middle;\n",
       "    }\n",
       "\n",
       "    .dataframe tbody tr th {\n",
       "        vertical-align: top;\n",
       "    }\n",
       "\n",
       "    .dataframe thead th {\n",
       "        text-align: right;\n",
       "    }\n",
       "</style>\n",
       "<table border=\"1\" class=\"dataframe\">\n",
       "  <thead>\n",
       "    <tr style=\"text-align: right;\">\n",
       "      <th></th>\n",
       "      <th>AS-RCEC_TaiESM1_r1i1p1f1_rlut_piControl</th>\n",
       "      <th>AS-RCEC_TaiESM1_r1i1p1f1_rsdt_piControl</th>\n",
       "      <th>AS-RCEC_TaiESM1_r1i1p1f1_rsut_piControl</th>\n",
       "      <th>AS-RCEC_TaiESM1_r1i1p1f1_tas_piControl</th>\n",
       "      <th>AWI_AWI-CM-1-1-MR_r1i1p1f1_rlut_piControl</th>\n",
       "      <th>AWI_AWI-CM-1-1-MR_r1i1p1f1_rsdt_piControl</th>\n",
       "      <th>AWI_AWI-CM-1-1-MR_r1i1p1f1_rsut_piControl</th>\n",
       "      <th>AWI_AWI-CM-1-1-MR_r1i1p1f1_tas_piControl</th>\n",
       "      <th>AWI_AWI-ESM-1-1-LR_r1i1p1f1_rlut_piControl</th>\n",
       "      <th>AWI_AWI-ESM-1-1-LR_r1i1p1f1_rsdt_piControl</th>\n",
       "      <th>...</th>\n",
       "      <th>NUIST_NESM3_r1i1p1f1_tas_piControl</th>\n",
       "      <th>SNU_SAM0-UNICON_r1i1p1f1_rlut_piControl</th>\n",
       "      <th>SNU_SAM0-UNICON_r1i1p1f1_rsdt_piControl</th>\n",
       "      <th>SNU_SAM0-UNICON_r1i1p1f1_rsut_piControl</th>\n",
       "      <th>SNU_SAM0-UNICON_r1i1p1f1_tas_piControl</th>\n",
       "      <th>THU_CIESM_r1i1p1f1_rlut_piControl</th>\n",
       "      <th>THU_CIESM_r1i1p1f1_rsut_piControl</th>\n",
       "      <th>THU_CIESM_r1i1p1f1_tas_piControl</th>\n",
       "      <th>UA_MCM-UA-1-0_r1i1p1f1_rlut_piControl</th>\n",
       "      <th>UA_MCM-UA-1-0_r1i1p1f1_tas_piControl</th>\n",
       "    </tr>\n",
       "    <tr>\n",
       "      <th>year</th>\n",
       "      <th></th>\n",
       "      <th></th>\n",
       "      <th></th>\n",
       "      <th></th>\n",
       "      <th></th>\n",
       "      <th></th>\n",
       "      <th></th>\n",
       "      <th></th>\n",
       "      <th></th>\n",
       "      <th></th>\n",
       "      <th></th>\n",
       "      <th></th>\n",
       "      <th></th>\n",
       "      <th></th>\n",
       "      <th></th>\n",
       "      <th></th>\n",
       "      <th></th>\n",
       "      <th></th>\n",
       "      <th></th>\n",
       "      <th></th>\n",
       "      <th></th>\n",
       "    </tr>\n",
       "  </thead>\n",
       "  <tbody>\n",
       "    <tr>\n",
       "      <th>1</th>\n",
       "      <td>NaN</td>\n",
       "      <td>NaN</td>\n",
       "      <td>NaN</td>\n",
       "      <td>NaN</td>\n",
       "      <td>NaN</td>\n",
       "      <td>NaN</td>\n",
       "      <td>NaN</td>\n",
       "      <td>NaN</td>\n",
       "      <td>NaN</td>\n",
       "      <td>NaN</td>\n",
       "      <td>...</td>\n",
       "      <td>NaN</td>\n",
       "      <td>239.733699</td>\n",
       "      <td>340.255945</td>\n",
       "      <td>99.093400</td>\n",
       "      <td>286.443988</td>\n",
       "      <td>238.297752</td>\n",
       "      <td>99.629425</td>\n",
       "      <td>287.442646</td>\n",
       "      <td>236.211120</td>\n",
       "      <td>286.627679</td>\n",
       "    </tr>\n",
       "    <tr>\n",
       "      <th>2</th>\n",
       "      <td>NaN</td>\n",
       "      <td>NaN</td>\n",
       "      <td>NaN</td>\n",
       "      <td>NaN</td>\n",
       "      <td>NaN</td>\n",
       "      <td>NaN</td>\n",
       "      <td>NaN</td>\n",
       "      <td>NaN</td>\n",
       "      <td>NaN</td>\n",
       "      <td>NaN</td>\n",
       "      <td>...</td>\n",
       "      <td>NaN</td>\n",
       "      <td>239.785330</td>\n",
       "      <td>340.255945</td>\n",
       "      <td>99.236269</td>\n",
       "      <td>286.455807</td>\n",
       "      <td>237.707992</td>\n",
       "      <td>99.515046</td>\n",
       "      <td>287.395520</td>\n",
       "      <td>236.050251</td>\n",
       "      <td>286.624886</td>\n",
       "    </tr>\n",
       "    <tr>\n",
       "      <th>3</th>\n",
       "      <td>NaN</td>\n",
       "      <td>NaN</td>\n",
       "      <td>NaN</td>\n",
       "      <td>NaN</td>\n",
       "      <td>NaN</td>\n",
       "      <td>NaN</td>\n",
       "      <td>NaN</td>\n",
       "      <td>NaN</td>\n",
       "      <td>NaN</td>\n",
       "      <td>NaN</td>\n",
       "      <td>...</td>\n",
       "      <td>NaN</td>\n",
       "      <td>239.303222</td>\n",
       "      <td>340.255945</td>\n",
       "      <td>99.008129</td>\n",
       "      <td>286.355158</td>\n",
       "      <td>238.188282</td>\n",
       "      <td>99.093707</td>\n",
       "      <td>287.237164</td>\n",
       "      <td>235.778744</td>\n",
       "      <td>286.535365</td>\n",
       "    </tr>\n",
       "    <tr>\n",
       "      <th>4</th>\n",
       "      <td>NaN</td>\n",
       "      <td>NaN</td>\n",
       "      <td>NaN</td>\n",
       "      <td>NaN</td>\n",
       "      <td>NaN</td>\n",
       "      <td>NaN</td>\n",
       "      <td>NaN</td>\n",
       "      <td>NaN</td>\n",
       "      <td>NaN</td>\n",
       "      <td>NaN</td>\n",
       "      <td>...</td>\n",
       "      <td>NaN</td>\n",
       "      <td>239.485249</td>\n",
       "      <td>340.255945</td>\n",
       "      <td>99.087453</td>\n",
       "      <td>286.369920</td>\n",
       "      <td>238.684758</td>\n",
       "      <td>99.138385</td>\n",
       "      <td>287.292015</td>\n",
       "      <td>235.929275</td>\n",
       "      <td>286.624112</td>\n",
       "    </tr>\n",
       "    <tr>\n",
       "      <th>5</th>\n",
       "      <td>NaN</td>\n",
       "      <td>NaN</td>\n",
       "      <td>NaN</td>\n",
       "      <td>NaN</td>\n",
       "      <td>NaN</td>\n",
       "      <td>NaN</td>\n",
       "      <td>NaN</td>\n",
       "      <td>NaN</td>\n",
       "      <td>NaN</td>\n",
       "      <td>NaN</td>\n",
       "      <td>...</td>\n",
       "      <td>NaN</td>\n",
       "      <td>239.179624</td>\n",
       "      <td>340.255945</td>\n",
       "      <td>99.294687</td>\n",
       "      <td>286.261834</td>\n",
       "      <td>238.582403</td>\n",
       "      <td>99.193333</td>\n",
       "      <td>287.388300</td>\n",
       "      <td>236.302278</td>\n",
       "      <td>286.838261</td>\n",
       "    </tr>\n",
       "    <tr>\n",
       "      <th>...</th>\n",
       "      <td>...</td>\n",
       "      <td>...</td>\n",
       "      <td>...</td>\n",
       "      <td>...</td>\n",
       "      <td>...</td>\n",
       "      <td>...</td>\n",
       "      <td>...</td>\n",
       "      <td>...</td>\n",
       "      <td>...</td>\n",
       "      <td>...</td>\n",
       "      <td>...</td>\n",
       "      <td>...</td>\n",
       "      <td>...</td>\n",
       "      <td>...</td>\n",
       "      <td>...</td>\n",
       "      <td>...</td>\n",
       "      <td>...</td>\n",
       "      <td>...</td>\n",
       "      <td>...</td>\n",
       "      <td>...</td>\n",
       "      <td>...</td>\n",
       "    </tr>\n",
       "    <tr>\n",
       "      <th>7890</th>\n",
       "      <td>NaN</td>\n",
       "      <td>NaN</td>\n",
       "      <td>NaN</td>\n",
       "      <td>NaN</td>\n",
       "      <td>NaN</td>\n",
       "      <td>NaN</td>\n",
       "      <td>NaN</td>\n",
       "      <td>NaN</td>\n",
       "      <td>NaN</td>\n",
       "      <td>NaN</td>\n",
       "      <td>...</td>\n",
       "      <td>NaN</td>\n",
       "      <td>NaN</td>\n",
       "      <td>NaN</td>\n",
       "      <td>NaN</td>\n",
       "      <td>NaN</td>\n",
       "      <td>NaN</td>\n",
       "      <td>NaN</td>\n",
       "      <td>NaN</td>\n",
       "      <td>NaN</td>\n",
       "      <td>NaN</td>\n",
       "    </tr>\n",
       "    <tr>\n",
       "      <th>7891</th>\n",
       "      <td>NaN</td>\n",
       "      <td>NaN</td>\n",
       "      <td>NaN</td>\n",
       "      <td>NaN</td>\n",
       "      <td>NaN</td>\n",
       "      <td>NaN</td>\n",
       "      <td>NaN</td>\n",
       "      <td>NaN</td>\n",
       "      <td>NaN</td>\n",
       "      <td>NaN</td>\n",
       "      <td>...</td>\n",
       "      <td>NaN</td>\n",
       "      <td>NaN</td>\n",
       "      <td>NaN</td>\n",
       "      <td>NaN</td>\n",
       "      <td>NaN</td>\n",
       "      <td>NaN</td>\n",
       "      <td>NaN</td>\n",
       "      <td>NaN</td>\n",
       "      <td>NaN</td>\n",
       "      <td>NaN</td>\n",
       "    </tr>\n",
       "    <tr>\n",
       "      <th>7892</th>\n",
       "      <td>NaN</td>\n",
       "      <td>NaN</td>\n",
       "      <td>NaN</td>\n",
       "      <td>NaN</td>\n",
       "      <td>NaN</td>\n",
       "      <td>NaN</td>\n",
       "      <td>NaN</td>\n",
       "      <td>NaN</td>\n",
       "      <td>NaN</td>\n",
       "      <td>NaN</td>\n",
       "      <td>...</td>\n",
       "      <td>NaN</td>\n",
       "      <td>NaN</td>\n",
       "      <td>NaN</td>\n",
       "      <td>NaN</td>\n",
       "      <td>NaN</td>\n",
       "      <td>NaN</td>\n",
       "      <td>NaN</td>\n",
       "      <td>NaN</td>\n",
       "      <td>NaN</td>\n",
       "      <td>NaN</td>\n",
       "    </tr>\n",
       "    <tr>\n",
       "      <th>7893</th>\n",
       "      <td>NaN</td>\n",
       "      <td>NaN</td>\n",
       "      <td>NaN</td>\n",
       "      <td>NaN</td>\n",
       "      <td>NaN</td>\n",
       "      <td>NaN</td>\n",
       "      <td>NaN</td>\n",
       "      <td>NaN</td>\n",
       "      <td>NaN</td>\n",
       "      <td>NaN</td>\n",
       "      <td>...</td>\n",
       "      <td>NaN</td>\n",
       "      <td>NaN</td>\n",
       "      <td>NaN</td>\n",
       "      <td>NaN</td>\n",
       "      <td>NaN</td>\n",
       "      <td>NaN</td>\n",
       "      <td>NaN</td>\n",
       "      <td>NaN</td>\n",
       "      <td>NaN</td>\n",
       "      <td>NaN</td>\n",
       "    </tr>\n",
       "    <tr>\n",
       "      <th>7894</th>\n",
       "      <td>NaN</td>\n",
       "      <td>NaN</td>\n",
       "      <td>NaN</td>\n",
       "      <td>NaN</td>\n",
       "      <td>NaN</td>\n",
       "      <td>NaN</td>\n",
       "      <td>NaN</td>\n",
       "      <td>NaN</td>\n",
       "      <td>NaN</td>\n",
       "      <td>NaN</td>\n",
       "      <td>...</td>\n",
       "      <td>NaN</td>\n",
       "      <td>NaN</td>\n",
       "      <td>NaN</td>\n",
       "      <td>NaN</td>\n",
       "      <td>NaN</td>\n",
       "      <td>NaN</td>\n",
       "      <td>NaN</td>\n",
       "      <td>NaN</td>\n",
       "      <td>NaN</td>\n",
       "      <td>NaN</td>\n",
       "    </tr>\n",
       "  </tbody>\n",
       "</table>\n",
       "<p>6595 rows × 263 columns</p>\n",
       "</div>"
      ],
      "text/plain": [
       "      AS-RCEC_TaiESM1_r1i1p1f1_rlut_piControl  \\\n",
       "year                                            \n",
       "1                                         NaN   \n",
       "2                                         NaN   \n",
       "3                                         NaN   \n",
       "4                                         NaN   \n",
       "5                                         NaN   \n",
       "...                                       ...   \n",
       "7890                                      NaN   \n",
       "7891                                      NaN   \n",
       "7892                                      NaN   \n",
       "7893                                      NaN   \n",
       "7894                                      NaN   \n",
       "\n",
       "      AS-RCEC_TaiESM1_r1i1p1f1_rsdt_piControl  \\\n",
       "year                                            \n",
       "1                                         NaN   \n",
       "2                                         NaN   \n",
       "3                                         NaN   \n",
       "4                                         NaN   \n",
       "5                                         NaN   \n",
       "...                                       ...   \n",
       "7890                                      NaN   \n",
       "7891                                      NaN   \n",
       "7892                                      NaN   \n",
       "7893                                      NaN   \n",
       "7894                                      NaN   \n",
       "\n",
       "      AS-RCEC_TaiESM1_r1i1p1f1_rsut_piControl  \\\n",
       "year                                            \n",
       "1                                         NaN   \n",
       "2                                         NaN   \n",
       "3                                         NaN   \n",
       "4                                         NaN   \n",
       "5                                         NaN   \n",
       "...                                       ...   \n",
       "7890                                      NaN   \n",
       "7891                                      NaN   \n",
       "7892                                      NaN   \n",
       "7893                                      NaN   \n",
       "7894                                      NaN   \n",
       "\n",
       "      AS-RCEC_TaiESM1_r1i1p1f1_tas_piControl  \\\n",
       "year                                           \n",
       "1                                        NaN   \n",
       "2                                        NaN   \n",
       "3                                        NaN   \n",
       "4                                        NaN   \n",
       "5                                        NaN   \n",
       "...                                      ...   \n",
       "7890                                     NaN   \n",
       "7891                                     NaN   \n",
       "7892                                     NaN   \n",
       "7893                                     NaN   \n",
       "7894                                     NaN   \n",
       "\n",
       "      AWI_AWI-CM-1-1-MR_r1i1p1f1_rlut_piControl  \\\n",
       "year                                              \n",
       "1                                           NaN   \n",
       "2                                           NaN   \n",
       "3                                           NaN   \n",
       "4                                           NaN   \n",
       "5                                           NaN   \n",
       "...                                         ...   \n",
       "7890                                        NaN   \n",
       "7891                                        NaN   \n",
       "7892                                        NaN   \n",
       "7893                                        NaN   \n",
       "7894                                        NaN   \n",
       "\n",
       "      AWI_AWI-CM-1-1-MR_r1i1p1f1_rsdt_piControl  \\\n",
       "year                                              \n",
       "1                                           NaN   \n",
       "2                                           NaN   \n",
       "3                                           NaN   \n",
       "4                                           NaN   \n",
       "5                                           NaN   \n",
       "...                                         ...   \n",
       "7890                                        NaN   \n",
       "7891                                        NaN   \n",
       "7892                                        NaN   \n",
       "7893                                        NaN   \n",
       "7894                                        NaN   \n",
       "\n",
       "      AWI_AWI-CM-1-1-MR_r1i1p1f1_rsut_piControl  \\\n",
       "year                                              \n",
       "1                                           NaN   \n",
       "2                                           NaN   \n",
       "3                                           NaN   \n",
       "4                                           NaN   \n",
       "5                                           NaN   \n",
       "...                                         ...   \n",
       "7890                                        NaN   \n",
       "7891                                        NaN   \n",
       "7892                                        NaN   \n",
       "7893                                        NaN   \n",
       "7894                                        NaN   \n",
       "\n",
       "      AWI_AWI-CM-1-1-MR_r1i1p1f1_tas_piControl  \\\n",
       "year                                             \n",
       "1                                          NaN   \n",
       "2                                          NaN   \n",
       "3                                          NaN   \n",
       "4                                          NaN   \n",
       "5                                          NaN   \n",
       "...                                        ...   \n",
       "7890                                       NaN   \n",
       "7891                                       NaN   \n",
       "7892                                       NaN   \n",
       "7893                                       NaN   \n",
       "7894                                       NaN   \n",
       "\n",
       "      AWI_AWI-ESM-1-1-LR_r1i1p1f1_rlut_piControl  \\\n",
       "year                                               \n",
       "1                                            NaN   \n",
       "2                                            NaN   \n",
       "3                                            NaN   \n",
       "4                                            NaN   \n",
       "5                                            NaN   \n",
       "...                                          ...   \n",
       "7890                                         NaN   \n",
       "7891                                         NaN   \n",
       "7892                                         NaN   \n",
       "7893                                         NaN   \n",
       "7894                                         NaN   \n",
       "\n",
       "      AWI_AWI-ESM-1-1-LR_r1i1p1f1_rsdt_piControl  ...  \\\n",
       "year                                              ...   \n",
       "1                                            NaN  ...   \n",
       "2                                            NaN  ...   \n",
       "3                                            NaN  ...   \n",
       "4                                            NaN  ...   \n",
       "5                                            NaN  ...   \n",
       "...                                          ...  ...   \n",
       "7890                                         NaN  ...   \n",
       "7891                                         NaN  ...   \n",
       "7892                                         NaN  ...   \n",
       "7893                                         NaN  ...   \n",
       "7894                                         NaN  ...   \n",
       "\n",
       "      NUIST_NESM3_r1i1p1f1_tas_piControl  \\\n",
       "year                                       \n",
       "1                                    NaN   \n",
       "2                                    NaN   \n",
       "3                                    NaN   \n",
       "4                                    NaN   \n",
       "5                                    NaN   \n",
       "...                                  ...   \n",
       "7890                                 NaN   \n",
       "7891                                 NaN   \n",
       "7892                                 NaN   \n",
       "7893                                 NaN   \n",
       "7894                                 NaN   \n",
       "\n",
       "      SNU_SAM0-UNICON_r1i1p1f1_rlut_piControl  \\\n",
       "year                                            \n",
       "1                                  239.733699   \n",
       "2                                  239.785330   \n",
       "3                                  239.303222   \n",
       "4                                  239.485249   \n",
       "5                                  239.179624   \n",
       "...                                       ...   \n",
       "7890                                      NaN   \n",
       "7891                                      NaN   \n",
       "7892                                      NaN   \n",
       "7893                                      NaN   \n",
       "7894                                      NaN   \n",
       "\n",
       "      SNU_SAM0-UNICON_r1i1p1f1_rsdt_piControl  \\\n",
       "year                                            \n",
       "1                                  340.255945   \n",
       "2                                  340.255945   \n",
       "3                                  340.255945   \n",
       "4                                  340.255945   \n",
       "5                                  340.255945   \n",
       "...                                       ...   \n",
       "7890                                      NaN   \n",
       "7891                                      NaN   \n",
       "7892                                      NaN   \n",
       "7893                                      NaN   \n",
       "7894                                      NaN   \n",
       "\n",
       "      SNU_SAM0-UNICON_r1i1p1f1_rsut_piControl  \\\n",
       "year                                            \n",
       "1                                   99.093400   \n",
       "2                                   99.236269   \n",
       "3                                   99.008129   \n",
       "4                                   99.087453   \n",
       "5                                   99.294687   \n",
       "...                                       ...   \n",
       "7890                                      NaN   \n",
       "7891                                      NaN   \n",
       "7892                                      NaN   \n",
       "7893                                      NaN   \n",
       "7894                                      NaN   \n",
       "\n",
       "      SNU_SAM0-UNICON_r1i1p1f1_tas_piControl  \\\n",
       "year                                           \n",
       "1                                 286.443988   \n",
       "2                                 286.455807   \n",
       "3                                 286.355158   \n",
       "4                                 286.369920   \n",
       "5                                 286.261834   \n",
       "...                                      ...   \n",
       "7890                                     NaN   \n",
       "7891                                     NaN   \n",
       "7892                                     NaN   \n",
       "7893                                     NaN   \n",
       "7894                                     NaN   \n",
       "\n",
       "      THU_CIESM_r1i1p1f1_rlut_piControl  THU_CIESM_r1i1p1f1_rsut_piControl  \\\n",
       "year                                                                         \n",
       "1                            238.297752                          99.629425   \n",
       "2                            237.707992                          99.515046   \n",
       "3                            238.188282                          99.093707   \n",
       "4                            238.684758                          99.138385   \n",
       "5                            238.582403                          99.193333   \n",
       "...                                 ...                                ...   \n",
       "7890                                NaN                                NaN   \n",
       "7891                                NaN                                NaN   \n",
       "7892                                NaN                                NaN   \n",
       "7893                                NaN                                NaN   \n",
       "7894                                NaN                                NaN   \n",
       "\n",
       "      THU_CIESM_r1i1p1f1_tas_piControl  UA_MCM-UA-1-0_r1i1p1f1_rlut_piControl  \\\n",
       "year                                                                            \n",
       "1                           287.442646                             236.211120   \n",
       "2                           287.395520                             236.050251   \n",
       "3                           287.237164                             235.778744   \n",
       "4                           287.292015                             235.929275   \n",
       "5                           287.388300                             236.302278   \n",
       "...                                ...                                    ...   \n",
       "7890                               NaN                                    NaN   \n",
       "7891                               NaN                                    NaN   \n",
       "7892                               NaN                                    NaN   \n",
       "7893                               NaN                                    NaN   \n",
       "7894                               NaN                                    NaN   \n",
       "\n",
       "      UA_MCM-UA-1-0_r1i1p1f1_tas_piControl  \n",
       "year                                        \n",
       "1                               286.627679  \n",
       "2                               286.624886  \n",
       "3                               286.535365  \n",
       "4                               286.624112  \n",
       "5                               286.838261  \n",
       "...                                    ...  \n",
       "7890                                   NaN  \n",
       "7891                                   NaN  \n",
       "7892                                   NaN  \n",
       "7893                                   NaN  \n",
       "7894                                   NaN  \n",
       "\n",
       "[6595 rows x 263 columns]"
      ]
     },
     "execution_count": 68,
     "metadata": {},
     "output_type": "execute_result"
    }
   ],
   "source": [
    "pd.concat(piControl_data,axis=1)#.to_csv('./cmip6_data/piControl.csv')"
   ]
  },
  {
   "cell_type": "code",
   "execution_count": 22,
   "metadata": {},
   "outputs": [
    {
     "name": "stdout",
     "output_type": "stream",
     "text": [
      "getting MRI_MRI-ESM2-0_r1i1p1f1_tas\n",
      "getting MRI_MRI-ESM2-0_r1i2p1f1_tas\n",
      "getting NASA-GISS_GISS-E2-1-G_r3i1p3f1_tas\n"
     ]
    }
   ],
   "source": [
    "# ssp_list = ['ssp370', 'ssp126', 'ssp245', 'ssp585', 'ssp119', 'ssp434', 'ssp460', 'ssp534-over']\n",
    "# ssp_info = gs_stores.loc[(gs_stores.experiment_id.isin(ssp_list))&(gs_stores.variable_id=='tas')&(gs_stores.table_id=='Amon')]\n",
    "\n",
    "# ssp_data=[]\n",
    "\n",
    "for index,row in ssp_info.iterrows():\n",
    "    print('getting '+row.loc['ism']+'_'+row.loc['variable_id'])\n",
    "    ssp_data += [get_annual_CMIP6_data_gstore(row.loc['activity_id'], row.loc['table_id'], row.loc['variable_id'], row.loc['experiment_id'], row.loc['institution_id'], row.loc['source_id'], row.loc['member_id'])]"
   ]
  },
  {
   "cell_type": "code",
   "execution_count": 23,
   "metadata": {},
   "outputs": [],
   "source": [
    "pd.concat(ssp_data,axis=1).to_csv('./cmip6_data/ssp_tas.csv')"
   ]
  },
  {
   "cell_type": "code",
   "execution_count": 90,
   "metadata": {},
   "outputs": [
    {
     "name": "stdout",
     "output_type": "stream",
     "text": [
      "getting AWI_AWI-CM-1-1-MR_r2i1p1f1_tas\n",
      "getting CAMS_CAMS-CSM1-0_r1i1p1f2_tas\n",
      "getting CNRM-CERFACS_CNRM-CM6-1-HR_r1i1p1f2_tas\n",
      "getting CNRM-CERFACS_CNRM-CM6-1_r10i1p1f2_tas\n",
      "getting EC-Earth-Consortium_EC-Earth3-Veg_r2i1p1f1_tas\n",
      "getting EC-Earth-Consortium_EC-Earth3-Veg_r5i1p1f1_tas\n",
      "getting MIROC_MIROC6_r33i1p1f1_tas\n",
      "getting MIROC_MIROC6_r34i1p1f1_tas\n",
      "getting NCAR_CESM2_r7i1p1f1_tas\n",
      "getting NCAR_CESM2_r8i1p1f1_tas\n"
     ]
    }
   ],
   "source": [
    "# hist_info = gs_stores.loc[(gs_stores.experiment_id=='historical')&(gs_stores.variable_id=='tas')&(gs_stores.table_id=='Amon')]\n",
    "\n",
    "# hist_data=[]\n",
    "\n",
    "for index,row in hist_info.iloc[[i for i,x in enumerate(hist_data) if x is None]].iterrows():\n",
    "    print('getting '+row.loc['ism']+'_'+row.loc['variable_id'])\n",
    "    hist_data += [get_annual_CMIP6_data_gstore(row.loc['activity_id'], row.loc['table_id'], row.loc['variable_id'], row.loc['experiment_id'], row.loc['institution_id'], row.loc['source_id'], row.loc['member_id'])]"
   ]
  },
  {
   "cell_type": "code",
   "execution_count": 95,
   "metadata": {},
   "outputs": [],
   "source": [
    "pd.concat(hist_data,axis=1).to_csv('./cmip6_data/hist_tas.csv')"
   ]
  },
  {
   "cell_type": "code",
   "execution_count": null,
   "metadata": {},
   "outputs": [],
   "source": []
  },
  {
   "cell_type": "code",
   "execution_count": null,
   "metadata": {},
   "outputs": [],
   "source": []
  },
  {
   "cell_type": "code",
   "execution_count": 5,
   "metadata": {},
   "outputs": [],
   "source": [
    "def get_annual_CMIP6_data_gstore_co2(activity, table, variable, experiment, institution, source, member):\n",
    "    # eg activity='CMIP', table='Amon', variable='tas', experiment='historical', institution=\"NCAR\", source=\"CESM2\", member=\"r10i1p1f1\"\n",
    "    \n",
    "    try:\n",
    "    \n",
    "        query = gs_stores.query(\"activity_id==\\'\"+activity+\"\\' & table_id==\\'\"+table+\"\\' & variable_id==\\'\"+variable+\"\\' & experiment_id==\\'\"+experiment+\"\\' & institution_id==\\'\"+institution+\"\\' & source_id==\\'\"+source+\"\\' & member_id==\\'\"+member+\"\\'\")\n",
    "\n",
    "        if query.empty:\n",
    "            print('No results for this request')\n",
    "            return None\n",
    "\n",
    "        # create a mutable-mapping-style interface to the store\n",
    "        mapper = gcs.get_mapper(query.zstore.values[0])\n",
    "\n",
    "        # open it using xarray and zarr\n",
    "        ds = xr.open_zarr(mapper, consolidated=True)\n",
    "\n",
    "        dims = list(ds[variable].dims)\n",
    "        dims.remove('time')\n",
    "\n",
    "        lat_dim_name = [x for x in dims if 'lat' in x][0]\n",
    "\n",
    "        weights = np.cos(np.deg2rad(ds[variable][lat_dim_name]))\n",
    "        weights.name = \"weights\"\n",
    "\n",
    "        ta_timeseries = ds[variable].isel(plev=0).weighted(weights).mean(dims)\n",
    "\n",
    "        return ta_timeseries.groupby('time.year').mean('time').to_pandas().rename(institution+'_'+source+'_'+member+'_'+variable+'_'+experiment)\n",
    "    \n",
    "    except:\n",
    "        print('retrieval failed')\n",
    "        return None"
   ]
  },
  {
   "cell_type": "code",
   "execution_count": 13,
   "metadata": {},
   "outputs": [
    {
     "name": "stdout",
     "output_type": "stream",
     "text": [
      "getting BCC_BCC-CSM2-MR_r1i1p1f1_co2\n",
      "getting BCC_BCC-CSM2-MR_r1i1p1f1_co2\n",
      "getting BCC_BCC-CSM2-MR_r1i1p1f1_co2\n",
      "getting BCC_BCC-CSM2-MR_r2i1p1f1_co2\n",
      "getting BCC_BCC-CSM2-MR_r3i1p1f1_co2\n",
      "getting BCC_BCC-ESM1_r1i1p1f1_co2\n",
      "getting BCC_BCC-ESM1_r2i1p1f1_co2\n",
      "getting BCC_BCC-ESM1_r3i1p1f1_co2\n",
      "getting CNRM-CERFACS_CNRM-ESM2-1_r1i1p1f2_co2\n",
      "getting CNRM-CERFACS_CNRM-ESM2-1_r2i1p1f2_co2\n",
      "getting CNRM-CERFACS_CNRM-ESM2-1_r3i1p1f2_co2\n",
      "getting CNRM-CERFACS_CNRM-ESM2-1_r4i1p1f2_co2\n",
      "getting CNRM-CERFACS_CNRM-ESM2-1_r1i1p1f2_co2\n",
      "getting CNRM-CERFACS_CNRM-ESM2-1_r2i1p1f2_co2\n",
      "getting CNRM-CERFACS_CNRM-ESM2-1_r3i1p1f2_co2\n",
      "getting CNRM-CERFACS_CNRM-ESM2-1_r1i1p1f2_co2\n",
      "getting CNRM-CERFACS_CNRM-ESM2-1_r2i1p1f2_co2\n",
      "getting CNRM-CERFACS_CNRM-ESM2-1_r3i1p1f2_co2\n",
      "getting CNRM-CERFACS_CNRM-ESM2-1_r4i1p1f2_co2\n",
      "getting CNRM-CERFACS_CNRM-ESM2-1_r5i1p1f2_co2\n",
      "getting CNRM-CERFACS_CNRM-ESM2-1_r1i1p1f2_co2\n",
      "getting MRI_MRI-ESM2-0_r1i1p1f1_co2\n",
      "getting MRI_MRI-ESM2-0_r10i1p1f1_co2\n",
      "getting MRI_MRI-ESM2-0_r11i1p1f1_co2\n",
      "getting MRI_MRI-ESM2-0_r12i1p1f1_co2\n",
      "getting MRI_MRI-ESM2-0_r13i1p1f1_co2\n",
      "getting MRI_MRI-ESM2-0_r1i1p1f1_co2\n",
      "getting MRI_MRI-ESM2-0_r2i1p1f1_co2\n",
      "getting MRI_MRI-ESM2-0_r3i1p1f1_co2\n",
      "getting MRI_MRI-ESM2-0_r4i1p1f1_co2\n",
      "getting MRI_MRI-ESM2-0_r5i1p1f1_co2\n",
      "getting MRI_MRI-ESM2-0_r6i1p1f1_co2\n",
      "getting MRI_MRI-ESM2-0_r7i1p1f1_co2\n",
      "getting MRI_MRI-ESM2-0_r8i1p1f1_co2\n",
      "getting MRI_MRI-ESM2-0_r9i1p1f1_co2\n",
      "getting MRI_MRI-ESM2-0_r1i1p1f1_co2\n",
      "getting MRI_MRI-ESM2-0_r2i1p1f1_co2\n",
      "getting MRI_MRI-ESM2-0_r3i1p1f1_co2\n",
      "getting MRI_MRI-ESM2-0_r4i1p1f1_co2\n",
      "getting MRI_MRI-ESM2-0_r5i1p1f1_co2\n",
      "getting MRI_MRI-ESM2-0_r1i1p1f1_co2\n",
      "getting NCAR_CESM2-WACCM_r1i1p1f1_co2\n",
      "getting NCAR_CESM2-WACCM_r1i1p1f1_co2\n",
      "getting NCAR_CESM2-WACCM_r1i1p1f1_co2\n",
      "getting NCAR_CESM2-WACCM_r2i1p1f1_co2\n",
      "getting NCAR_CESM2-WACCM_r3i1p1f1_co2\n",
      "getting NCAR_CESM2-WACCM_r1i1p1f1_co2\n",
      "getting NCAR_CESM2_r1i1p1f1_co2\n",
      "getting NCAR_CESM2_r1i1p1f1_co2\n",
      "getting NCAR_CESM2_r10i1p1f1_co2\n",
      "getting NCAR_CESM2_r11i1p1f1_co2\n",
      "getting NCAR_CESM2_r1i1p1f1_co2\n",
      "getting NCAR_CESM2_r2i1p1f1_co2\n",
      "getting NCAR_CESM2_r3i1p1f1_co2\n",
      "getting NCAR_CESM2_r4i1p1f1_co2\n",
      "getting NCAR_CESM2_r5i1p1f1_co2\n",
      "getting NCAR_CESM2_r6i1p1f1_co2\n",
      "getting NCAR_CESM2_r7i1p1f1_co2\n",
      "getting NCAR_CESM2_r8i1p1f1_co2\n",
      "getting NCAR_CESM2_r9i1p1f1_co2\n",
      "getting NCAR_CESM2_r1i1p1f1_co2\n",
      "retrieval failed\n",
      "getting NOAA-GFDL_GFDL-ESM4_r1i1p1f1_co2\n",
      "retrieval failed\n",
      "getting NOAA-GFDL_GFDL-ESM4_r1i1p1f1_co2\n"
     ]
    }
   ],
   "source": [
    "co2_info = gs_stores.loc[(gs_stores.experiment_id.isin(['abrupt-4xCO2','1pctCO2','historical','piControl']))&(gs_stores.variable_id=='co2')&(gs_stores.table_id=='Amon')]\n",
    "\n",
    "co2_data=[]\n",
    "\n",
    "for index,row in co2_info.iterrows():\n",
    "    print('getting '+row.loc['ism']+'_'+row.loc['variable_id'])\n",
    "    co2_data += [get_annual_CMIP6_data_gstore_co2(row.loc['activity_id'], row.loc['table_id'], row.loc['variable_id'], row.loc['experiment_id'], row.loc['institution_id'], row.loc['source_id'], row.loc['member_id'])]"
   ]
  },
  {
   "cell_type": "code",
   "execution_count": 14,
   "metadata": {},
   "outputs": [],
   "source": [
    "pd.concat(co2_data,axis=1).to_csv('./cmip6_data/co2.csv')"
   ]
  },
  {
   "cell_type": "code",
   "execution_count": 15,
   "metadata": {},
   "outputs": [],
   "source": [
    "def get_annual_CMIP6_data_gstore_co2mass(activity, table, variable, experiment, institution, source, member):\n",
    "    # eg activity='CMIP', table='Amon', variable='tas', experiment='historical', institution=\"NCAR\", source=\"CESM2\", member=\"r10i1p1f1\"\n",
    "    \n",
    "    try:\n",
    "    \n",
    "        query = gs_stores.query(\"activity_id==\\'\"+activity+\"\\' & table_id==\\'\"+table+\"\\' & variable_id==\\'\"+variable+\"\\' & experiment_id==\\'\"+experiment+\"\\' & institution_id==\\'\"+institution+\"\\' & source_id==\\'\"+source+\"\\' & member_id==\\'\"+member+\"\\'\")\n",
    "\n",
    "        if query.empty:\n",
    "            print('No results for this request')\n",
    "            return None\n",
    "\n",
    "        # create a mutable-mapping-style interface to the store\n",
    "        mapper = gcs.get_mapper(query.zstore.values[0])\n",
    "\n",
    "        # open it using xarray and zarr\n",
    "        ds = xr.open_zarr(mapper, consolidated=True)\n",
    "\n",
    "        return ds[variable].groupby('time.year').mean('time').to_pandas().rename(institution+'_'+source+'_'+member+'_'+variable+'_'+experiment)\n",
    "    \n",
    "    except:\n",
    "        print('retrieval failed')\n",
    "        return None"
   ]
  },
  {
   "cell_type": "code",
   "execution_count": 16,
   "metadata": {},
   "outputs": [
    {
     "name": "stdout",
     "output_type": "stream",
     "text": [
      "getting AS-RCEC_TaiESM1_r1i1p1f1_co2mass\n",
      "getting AS-RCEC_TaiESM1_r1i1p1f1_co2mass\n",
      "getting CNRM-CERFACS_CNRM-CM6-1-HR_r1i1p1f2_co2mass\n",
      "getting CNRM-CERFACS_CNRM-CM6-1-HR_r1i1p1f2_co2mass\n",
      "getting CNRM-CERFACS_CNRM-CM6-1_r1i1p1f2_co2mass\n",
      "getting CNRM-CERFACS_CNRM-CM6-1_r1i1p1f2_co2mass\n",
      "getting CNRM-CERFACS_CNRM-CM6-1_r2i1p1f2_co2mass\n",
      "getting CNRM-CERFACS_CNRM-CM6-1_r3i1p1f2_co2mass\n",
      "getting CNRM-CERFACS_CNRM-CM6-1_r4i1p1f2_co2mass\n",
      "getting CNRM-CERFACS_CNRM-CM6-1_r5i1p1f2_co2mass\n",
      "getting CNRM-CERFACS_CNRM-CM6-1_r6i1p1f2_co2mass\n",
      "getting IPSL_IPSL-CM6A-LR_r1i1p1f1_co2mass\n",
      "getting IPSL_IPSL-CM6A-LR_r10i1p1f1_co2mass\n",
      "getting IPSL_IPSL-CM6A-LR_r11i1p1f1_co2mass\n",
      "getting IPSL_IPSL-CM6A-LR_r12i1p1f1_co2mass\n",
      "getting IPSL_IPSL-CM6A-LR_r1i1p1f1_co2mass\n"
     ]
    },
    {
     "name": "stderr",
     "output_type": "stream",
     "text": [
      "/home/leachl/miniconda3/lib/python3.7/site-packages/xarray/coding/times.py:427: SerializationWarning: Unable to decode time axis into full numpy.datetime64 objects, continuing using cftime.datetime objects instead, reason: dates out of range\n",
      "  dtype = _decode_cf_datetime_dtype(data, units, calendar, self.use_cftime)\n",
      "/home/leachl/miniconda3/lib/python3.7/site-packages/xarray/coding/times.py:427: SerializationWarning: Unable to decode time axis into full numpy.datetime64 objects, continuing using cftime.datetime objects instead, reason: dates out of range\n",
      "  dtype = _decode_cf_datetime_dtype(data, units, calendar, self.use_cftime)\n",
      "/home/leachl/miniconda3/lib/python3.7/site-packages/numpy/core/_asarray.py:83: SerializationWarning: Unable to decode time axis into full numpy.datetime64 objects, continuing using cftime.datetime objects instead, reason: dates out of range\n",
      "  return array(a, dtype, copy=False, order=order)\n"
     ]
    },
    {
     "name": "stdout",
     "output_type": "stream",
     "text": [
      "getting IPSL_IPSL-CM6A-LR_r2i1p1f1_co2mass\n",
      "getting IPSL_IPSL-CM6A-LR_r3i1p1f1_co2mass\n",
      "getting IPSL_IPSL-CM6A-LR_r4i1p1f1_co2mass\n",
      "getting IPSL_IPSL-CM6A-LR_r5i1p1f1_co2mass\n",
      "getting IPSL_IPSL-CM6A-LR_r6i1p1f1_co2mass\n",
      "getting IPSL_IPSL-CM6A-LR_r7i1p1f1_co2mass\n",
      "getting IPSL_IPSL-CM6A-LR_r8i1p1f1_co2mass\n",
      "getting IPSL_IPSL-CM6A-LR_r9i1p1f1_co2mass\n",
      "getting MOHC_UKESM1-0-LL_r1i1p1f2_co2mass\n",
      "getting MOHC_UKESM1-0-LL_r2i1p1f2_co2mass\n",
      "getting MOHC_UKESM1-0-LL_r3i1p1f2_co2mass\n",
      "getting MOHC_UKESM1-0-LL_r4i1p1f2_co2mass\n",
      "getting MPI-M_MPI-ESM1-2-HR_r1i1p1f1_co2mass\n",
      "getting MPI-M_MPI-ESM1-2-HR_r1i1p1f1_co2mass\n",
      "getting MPI-M_MPI-ESM1-2-LR_r1i1p1f1_co2mass\n",
      "getting MPI-M_MPI-ESM1-2-LR_r1i1p1f1_co2mass\n",
      "getting NCAR_CESM2-FV2_r1i1p1f1_co2mass\n",
      "getting NCAR_CESM2-WACCM-FV2_r1i1p1f1_co2mass\n",
      "getting NCAR_CESM2-WACCM_r1i1p1f1_co2mass\n",
      "getting NCAR_CESM2-WACCM_r1i1p1f1_co2mass\n",
      "getting NCAR_CESM2_r1i1p1f1_co2mass\n",
      "getting NCAR_CESM2_r1i1p1f1_co2mass\n",
      "getting NCC_NorCPM1_r1i1p1f1_co2mass\n",
      "getting NCC_NorCPM1_r1i1p1f1_co2mass\n",
      "getting NCC_NorESM2-LM_r1i1p1f1_co2mass\n",
      "getting NCC_NorESM2-LM_r1i1p1f1_co2mass\n",
      "getting NCC_NorESM2-MM_r1i1p1f1_co2mass\n",
      "getting NCC_NorESM2-MM_r1i1p1f1_co2mass\n",
      "getting NOAA-GFDL_GFDL-CM4_r1i1p1f1_co2mass\n",
      "getting NOAA-GFDL_GFDL-ESM4_r1i1p1f1_co2mass\n",
      "getting NOAA-GFDL_GFDL-ESM4_r1i1p1f1_co2mass\n",
      "getting SNU_SAM0-UNICON_r1i1p1f1_co2mass\n",
      "getting SNU_SAM0-UNICON_r1i1p1f1_co2mass\n"
     ]
    }
   ],
   "source": [
    "co2mass_info = gs_stores.loc[(gs_stores.experiment_id.isin(['abrupt-4xCO2','1pctCO2','historical','piControl']))&(gs_stores.variable_id=='co2mass')&(gs_stores.table_id=='Amon')]\n",
    "\n",
    "co2mass_data=[]\n",
    "\n",
    "for index,row in co2mass_info.iterrows():\n",
    "    print('getting '+row.loc['ism']+'_'+row.loc['variable_id'])\n",
    "    co2mass_data += [get_annual_CMIP6_data_gstore_co2mass(row.loc['activity_id'], row.loc['table_id'], row.loc['variable_id'], row.loc['experiment_id'], row.loc['institution_id'], row.loc['source_id'], row.loc['member_id'])]"
   ]
  },
  {
   "cell_type": "code",
   "execution_count": 17,
   "metadata": {},
   "outputs": [],
   "source": [
    "pd.concat(co2mass_data,axis=1).to_csv('./cmip6_data/co2mass.csv')"
   ]
  },
  {
   "cell_type": "code",
   "execution_count": 25,
   "metadata": {},
   "outputs": [
    {
     "name": "stdout",
     "output_type": "stream",
     "text": [
      "getting CCCma_CanESM5_r1i1p1f1_nbp\n",
      "getting CCCma_CanESM5_r2i1p1f1_nbp\n",
      "getting CCCma_CanESM5_r3i1p1f1_nbp\n",
      "getting CSIRO_ACCESS-ESM1-5_r1i1p1f1_nbp\n",
      "getting CSIRO_ACCESS-ESM1-5_r2i1p1f1_nbp\n",
      "getting CSIRO_ACCESS-ESM1-5_r3i1p1f1_nbp\n",
      "getting CCCma_CanESM5_r1i1p1f1_nbp\n",
      "getting CCCma_CanESM5_r2i1p1f1_nbp\n",
      "getting CCCma_CanESM5_r3i1p1f1_nbp\n",
      "getting CCCma_CanESM5_r4i1p1f1_nbp\n",
      "getting CCCma_CanESM5_r5i1p1f1_nbp\n",
      "getting CCCma_CanESM5_r10i1p1f1_nbp\n",
      "getting CCCma_CanESM5_r11i1p1f1_nbp\n",
      "getting CCCma_CanESM5_r12i1p1f1_nbp\n",
      "getting CCCma_CanESM5_r13i1p1f1_nbp\n",
      "getting CCCma_CanESM5_r14i1p1f1_nbp\n",
      "getting CCCma_CanESM5_r15i1p1f1_nbp\n",
      "getting CCCma_CanESM5_r16i1p1f1_nbp\n",
      "getting CCCma_CanESM5_r17i1p1f1_nbp\n",
      "getting CCCma_CanESM5_r18i1p1f1_nbp\n",
      "getting CCCma_CanESM5_r19i1p1f1_nbp\n",
      "getting CCCma_CanESM5_r1i1p1f1_nbp\n",
      "getting CCCma_CanESM5_r1i1p2f1_nbp\n",
      "getting CCCma_CanESM5_r20i1p1f1_nbp\n",
      "getting CCCma_CanESM5_r21i1p1f1_nbp\n",
      "getting CCCma_CanESM5_r22i1p1f1_nbp\n",
      "getting CCCma_CanESM5_r23i1p1f1_nbp\n",
      "getting CCCma_CanESM5_r24i1p1f1_nbp\n",
      "getting CCCma_CanESM5_r25i1p1f1_nbp\n",
      "getting CCCma_CanESM5_r2i1p1f1_nbp\n",
      "getting CCCma_CanESM5_r2i1p2f1_nbp\n",
      "getting CCCma_CanESM5_r3i1p1f1_nbp\n",
      "getting CCCma_CanESM5_r3i1p2f1_nbp\n",
      "getting CCCma_CanESM5_r4i1p1f1_nbp\n",
      "getting CCCma_CanESM5_r4i1p2f1_nbp\n",
      "getting CCCma_CanESM5_r5i1p1f1_nbp\n",
      "getting CCCma_CanESM5_r6i1p1f1_nbp\n",
      "getting CCCma_CanESM5_r6i1p2f1_nbp\n",
      "getting CCCma_CanESM5_r7i1p1f1_nbp\n",
      "getting CCCma_CanESM5_r7i1p2f1_nbp\n",
      "getting CCCma_CanESM5_r8i1p1f1_nbp\n",
      "getting CCCma_CanESM5_r8i1p2f1_nbp\n",
      "getting CCCma_CanESM5_r9i1p1f1_nbp\n",
      "getting CNRM-CERFACS_CNRM-ESM2-1_r1i1p1f2_nbp\n",
      "getting CNRM-CERFACS_CNRM-ESM2-1_r1i1p1f2_nbp\n",
      "getting CNRM-CERFACS_CNRM-ESM2-1_r2i1p1f2_nbp\n",
      "getting CNRM-CERFACS_CNRM-ESM2-1_r3i1p1f2_nbp\n",
      "getting CNRM-CERFACS_CNRM-ESM2-1_r4i1p1f2_nbp\n",
      "getting CNRM-CERFACS_CNRM-ESM2-1_r5i1p1f2_nbp\n",
      "getting EC-Earth-Consortium_EC-Earth3-Veg_r1i1p1f1_nbp\n",
      "getting IPSL_IPSL-CM6A-LR_r10i1p1f1_nbp\n",
      "getting IPSL_IPSL-CM6A-LR_r11i1p1f1_nbp\n",
      "getting IPSL_IPSL-CM6A-LR_r12i1p1f1_nbp\n",
      "getting IPSL_IPSL-CM6A-LR_r13i1p1f1_nbp\n",
      "getting IPSL_IPSL-CM6A-LR_r14i1p1f1_nbp\n",
      "getting IPSL_IPSL-CM6A-LR_r15i1p1f1_nbp\n",
      "getting IPSL_IPSL-CM6A-LR_r16i1p1f1_nbp\n",
      "getting IPSL_IPSL-CM6A-LR_r17i1p1f1_nbp\n",
      "getting IPSL_IPSL-CM6A-LR_r18i1p1f1_nbp\n",
      "getting IPSL_IPSL-CM6A-LR_r19i1p1f1_nbp\n",
      "getting IPSL_IPSL-CM6A-LR_r1i1p1f1_nbp\n",
      "getting IPSL_IPSL-CM6A-LR_r20i1p1f1_nbp\n",
      "getting IPSL_IPSL-CM6A-LR_r21i1p1f1_nbp\n",
      "getting IPSL_IPSL-CM6A-LR_r22i1p1f1_nbp\n",
      "getting IPSL_IPSL-CM6A-LR_r23i1p1f1_nbp\n",
      "getting IPSL_IPSL-CM6A-LR_r24i1p1f1_nbp\n",
      "getting IPSL_IPSL-CM6A-LR_r25i1p1f1_nbp\n",
      "getting IPSL_IPSL-CM6A-LR_r26i1p1f1_nbp\n",
      "getting IPSL_IPSL-CM6A-LR_r27i1p1f1_nbp\n",
      "getting IPSL_IPSL-CM6A-LR_r28i1p1f1_nbp\n",
      "getting IPSL_IPSL-CM6A-LR_r29i1p1f1_nbp\n",
      "getting IPSL_IPSL-CM6A-LR_r2i1p1f1_nbp\n",
      "getting IPSL_IPSL-CM6A-LR_r30i1p1f1_nbp\n",
      "getting IPSL_IPSL-CM6A-LR_r31i1p1f1_nbp\n",
      "getting IPSL_IPSL-CM6A-LR_r3i1p1f1_nbp\n",
      "getting IPSL_IPSL-CM6A-LR_r4i1p1f1_nbp\n",
      "getting IPSL_IPSL-CM6A-LR_r5i1p1f1_nbp\n",
      "getting IPSL_IPSL-CM6A-LR_r6i1p1f1_nbp\n",
      "getting IPSL_IPSL-CM6A-LR_r7i1p1f1_nbp\n",
      "getting IPSL_IPSL-CM6A-LR_r8i1p1f1_nbp\n",
      "getting IPSL_IPSL-CM6A-LR_r9i1p1f1_nbp\n",
      "getting MIROC_MIROC-ES2L_r1i1p1f2_nbp\n",
      "getting MIROC_MIROC-ES2L_r2i1p1f2_nbp\n",
      "getting MIROC_MIROC-ES2L_r3i1p1f2_nbp\n",
      "getting MOHC_UKESM1-0-LL_r1i1p1f2_nbp\n",
      "getting MOHC_UKESM1-0-LL_r1i1p1f2_nbp\n",
      "getting MOHC_UKESM1-0-LL_r2i1p1f2_nbp\n",
      "getting MOHC_UKESM1-0-LL_r3i1p1f2_nbp\n",
      "getting MOHC_UKESM1-0-LL_r4i1p1f2_nbp\n",
      "getting MOHC_UKESM1-0-LL_r8i1p1f2_nbp\n",
      "getting NASA-GISS_GISS-E2-1-G_r10i1p1f1_nbp\n",
      "getting NASA-GISS_GISS-E2-1-G_r1i1p1f1_nbp\n",
      "getting NASA-GISS_GISS-E2-1-G_r2i1p1f1_nbp\n",
      "getting NASA-GISS_GISS-E2-1-G_r3i1p1f1_nbp\n",
      "getting NASA-GISS_GISS-E2-1-G_r4i1p1f1_nbp\n",
      "getting NASA-GISS_GISS-E2-1-G_r5i1p1f1_nbp\n",
      "getting NASA-GISS_GISS-E2-1-G_r6i1p1f1_nbp\n",
      "getting NASA-GISS_GISS-E2-1-G_r7i1p1f1_nbp\n",
      "getting NASA-GISS_GISS-E2-1-G_r8i1p1f1_nbp\n",
      "getting NASA-GISS_GISS-E2-1-G_r9i1p1f1_nbp\n",
      "getting NASA-GISS_GISS-E2-1-H_r10i1p1f1_nbp\n",
      "getting NASA-GISS_GISS-E2-1-H_r1i1p1f1_nbp\n",
      "getting NASA-GISS_GISS-E2-1-H_r2i1p1f1_nbp\n",
      "getting NASA-GISS_GISS-E2-1-H_r3i1p1f1_nbp\n",
      "getting NASA-GISS_GISS-E2-1-H_r4i1p1f1_nbp\n",
      "getting NASA-GISS_GISS-E2-1-H_r5i1p1f1_nbp\n",
      "getting NASA-GISS_GISS-E2-1-H_r6i1p1f1_nbp\n",
      "getting NASA-GISS_GISS-E2-1-H_r7i1p1f1_nbp\n",
      "getting NASA-GISS_GISS-E2-1-H_r8i1p1f1_nbp\n",
      "getting NASA-GISS_GISS-E2-1-H_r9i1p1f1_nbp\n",
      "getting NCAR_CESM2-WACCM_r1i1p1f1_nbp\n",
      "getting NCAR_CESM2-WACCM_r2i1p1f1_nbp\n",
      "getting NCAR_CESM2-WACCM_r3i1p1f1_nbp\n",
      "getting NCAR_CESM2_r10i1p1f1_nbp\n",
      "getting NCAR_CESM2_r11i1p1f1_nbp\n",
      "getting NCAR_CESM2_r1i1p1f1_nbp\n",
      "getting NCAR_CESM2_r2i1p1f1_nbp\n",
      "getting NCAR_CESM2_r3i1p1f1_nbp\n",
      "getting NCAR_CESM2_r4i1p1f1_nbp\n",
      "getting NCAR_CESM2_r5i1p1f1_nbp\n",
      "getting NCAR_CESM2_r6i1p1f1_nbp\n",
      "getting NCAR_CESM2_r7i1p1f1_nbp\n",
      "getting NCAR_CESM2_r8i1p1f1_nbp\n",
      "getting NCAR_CESM2_r9i1p1f1_nbp\n",
      "getting SNU_SAM0-UNICON_r1i1p1f1_nbp\n",
      "getting CCCma_CanESM5-CanOE_r1i1p2f1_nbp\n",
      "getting CCCma_CanESM5-CanOE_r2i1p2f1_nbp\n",
      "getting CCCma_CanESM5-CanOE_r3i1p2f1_nbp\n",
      "getting CCCma_CanESM5_r10i1p1f1_nbp\n",
      "getting CCCma_CanESM5_r10i1p2f1_nbp\n",
      "getting CCCma_CanESM5_r1i1p1f1_nbp\n",
      "getting CCCma_CanESM5_r1i1p2f1_nbp\n",
      "getting CCCma_CanESM5_r2i1p1f1_nbp\n",
      "getting CCCma_CanESM5_r2i1p2f1_nbp\n",
      "getting CCCma_CanESM5_r3i1p1f1_nbp\n",
      "getting CCCma_CanESM5_r3i1p2f1_nbp\n",
      "getting CCCma_CanESM5_r4i1p1f1_nbp\n",
      "getting CCCma_CanESM5_r4i1p2f1_nbp\n",
      "getting CCCma_CanESM5_r5i1p1f1_nbp\n",
      "getting CCCma_CanESM5_r5i1p2f1_nbp\n",
      "getting CCCma_CanESM5_r6i1p1f1_nbp\n",
      "getting CCCma_CanESM5_r6i1p2f1_nbp\n",
      "getting CCCma_CanESM5_r7i1p1f1_nbp\n",
      "getting CCCma_CanESM5_r7i1p2f1_nbp\n",
      "getting CCCma_CanESM5_r8i1p1f1_nbp\n",
      "getting CCCma_CanESM5_r8i1p2f1_nbp\n",
      "getting CCCma_CanESM5_r9i1p1f1_nbp\n",
      "getting CCCma_CanESM5_r9i1p2f1_nbp\n",
      "getting CCCma_CanESM5_r10i1p1f1_nbp\n",
      "getting CCCma_CanESM5_r10i1p2f1_nbp\n",
      "getting CCCma_CanESM5_r11i1p1f1_nbp\n",
      "getting CCCma_CanESM5_r11i1p2f1_nbp\n",
      "getting CCCma_CanESM5_r12i1p1f1_nbp\n",
      "getting CCCma_CanESM5_r12i1p2f1_nbp\n",
      "getting CCCma_CanESM5_r13i1p1f1_nbp\n",
      "getting CCCma_CanESM5_r13i1p2f1_nbp\n",
      "getting CCCma_CanESM5_r14i1p1f1_nbp\n",
      "getting CCCma_CanESM5_r14i1p2f1_nbp\n",
      "getting CCCma_CanESM5_r15i1p1f1_nbp\n",
      "getting CCCma_CanESM5_r15i1p2f1_nbp\n",
      "getting CCCma_CanESM5_r16i1p1f1_nbp\n",
      "getting CCCma_CanESM5_r16i1p2f1_nbp\n",
      "getting CCCma_CanESM5_r17i1p1f1_nbp\n",
      "getting CCCma_CanESM5_r17i1p2f1_nbp\n",
      "getting CCCma_CanESM5_r18i1p1f1_nbp\n",
      "getting CCCma_CanESM5_r18i1p2f1_nbp\n",
      "getting CCCma_CanESM5_r19i1p1f1_nbp\n",
      "getting CCCma_CanESM5_r19i1p2f1_nbp\n",
      "getting CCCma_CanESM5_r1i1p1f1_nbp\n",
      "getting CCCma_CanESM5_r1i1p2f1_nbp\n",
      "getting CCCma_CanESM5_r20i1p1f1_nbp\n",
      "getting CCCma_CanESM5_r20i1p2f1_nbp\n",
      "getting CCCma_CanESM5_r21i1p1f1_nbp\n",
      "getting CCCma_CanESM5_r21i1p2f1_nbp\n",
      "getting CCCma_CanESM5_r22i1p1f1_nbp\n",
      "getting CCCma_CanESM5_r22i1p2f1_nbp\n",
      "getting CCCma_CanESM5_r23i1p1f1_nbp\n",
      "getting CCCma_CanESM5_r23i1p2f1_nbp\n",
      "getting CCCma_CanESM5_r24i1p1f1_nbp\n",
      "getting CCCma_CanESM5_r24i1p2f1_nbp\n",
      "getting CCCma_CanESM5_r25i1p1f1_nbp\n",
      "getting CCCma_CanESM5_r25i1p2f1_nbp\n",
      "getting CCCma_CanESM5_r2i1p1f1_nbp\n",
      "getting CCCma_CanESM5_r2i1p2f1_nbp\n",
      "getting CCCma_CanESM5_r3i1p1f1_nbp\n",
      "getting CCCma_CanESM5_r3i1p2f1_nbp\n",
      "getting CCCma_CanESM5_r4i1p1f1_nbp\n",
      "getting CCCma_CanESM5_r4i1p2f1_nbp\n",
      "getting CCCma_CanESM5_r5i1p1f1_nbp\n",
      "getting CCCma_CanESM5_r5i1p2f1_nbp\n",
      "getting CCCma_CanESM5_r6i1p1f1_nbp\n",
      "getting CCCma_CanESM5_r6i1p2f1_nbp\n",
      "getting CCCma_CanESM5_r7i1p1f1_nbp\n",
      "getting CCCma_CanESM5_r7i1p2f1_nbp\n",
      "getting CCCma_CanESM5_r8i1p1f1_nbp\n",
      "getting CCCma_CanESM5_r8i1p2f1_nbp\n",
      "getting CCCma_CanESM5_r9i1p1f1_nbp\n",
      "getting CCCma_CanESM5_r9i1p2f1_nbp\n",
      "getting CNRM-CERFACS_CNRM-ESM2-1_r1i1p1f2_nbp\n",
      "getting CNRM-CERFACS_CNRM-ESM2-1_r2i1p1f2_nbp\n",
      "getting CNRM-CERFACS_CNRM-ESM2-1_r3i1p1f2_nbp\n",
      "getting CNRM-CERFACS_CNRM-ESM2-1_r4i1p1f2_nbp\n",
      "getting CNRM-CERFACS_CNRM-ESM2-1_r5i1p1f2_nbp\n",
      "getting CNRM-CERFACS_CNRM-ESM2-1_r1i1p1f2_nbp\n",
      "getting CNRM-CERFACS_CNRM-ESM2-1_r2i1p1f2_nbp\n",
      "getting CNRM-CERFACS_CNRM-ESM2-1_r3i1p1f2_nbp\n",
      "getting CNRM-CERFACS_CNRM-ESM2-1_r4i1p1f2_nbp\n",
      "getting CNRM-CERFACS_CNRM-ESM2-1_r5i1p1f2_nbp\n",
      "getting CSIRO_ACCESS-ESM1-5_r1i1p1f1_nbp\n",
      "getting CSIRO_ACCESS-ESM1-5_r2i1p1f1_nbp\n",
      "getting CSIRO_ACCESS-ESM1-5_r3i1p1f1_nbp\n",
      "getting EC-Earth-Consortium_EC-Earth3-Veg_r1i1p1f1_nbp\n",
      "getting EC-Earth-Consortium_EC-Earth3-Veg_r2i1p1f1_nbp\n",
      "getting IPSL_IPSL-CM6A-LR_r1i1p1f1_nbp\n",
      "getting IPSL_IPSL-CM6A-LR_r2i1p1f1_nbp\n",
      "getting IPSL_IPSL-CM6A-LR_r14i1p1f1_nbp\n",
      "getting IPSL_IPSL-CM6A-LR_r1i1p1f1_nbp\n",
      "getting IPSL_IPSL-CM6A-LR_r2i1p1f1_nbp\n",
      "getting IPSL_IPSL-CM6A-LR_r3i1p1f1_nbp\n",
      "getting IPSL_IPSL-CM6A-LR_r4i1p1f1_nbp\n",
      "getting IPSL_IPSL-CM6A-LR_r6i1p1f1_nbp\n",
      "getting MIROC_MIROC-ES2L_r1i1p1f2_nbp\n",
      "getting MOHC_UKESM1-0-LL_r1i1p1f2_nbp\n",
      "getting MOHC_UKESM1-0-LL_r2i1p1f2_nbp\n",
      "getting MOHC_UKESM1-0-LL_r3i1p1f2_nbp\n",
      "getting MOHC_UKESM1-0-LL_r4i1p1f2_nbp\n",
      "getting MOHC_UKESM1-0-LL_r8i1p1f2_nbp\n",
      "getting NCAR_CESM2-WACCM_r1i1p1f1_nbp\n",
      "getting NCAR_CESM2-WACCM_r2i1p1f1_nbp\n",
      "getting NCAR_CESM2-WACCM_r3i1p1f1_nbp\n",
      "getting NCAR_CESM2-WACCM_r4i1p1f1_nbp\n",
      "getting NCAR_CESM2-WACCM_r5i1p1f1_nbp\n"
     ]
    }
   ],
   "source": [
    "nbp_info = gs_stores.loc[(gs_stores.experiment_id.isin(['esm-ssp585', 'esm-hist', 'historical', 'ssp585', 'ssp245']))&(gs_stores.variable_id=='nbp')&(gs_stores.table_id=='Lmon')]\n",
    "\n",
    "nbp_data=[]\n",
    "\n",
    "for index,row in nbp_info.iterrows():\n",
    "    print('getting '+row.loc['ism']+'_'+row.loc['variable_id'])\n",
    "    nbp_data += [get_annual_CMIP6_data_gstore(row.loc['activity_id'], row.loc['table_id'], row.loc['variable_id'], row.loc['experiment_id'], row.loc['institution_id'], row.loc['source_id'], row.loc['member_id'])]"
   ]
  },
  {
   "cell_type": "code",
   "execution_count": 28,
   "metadata": {},
   "outputs": [],
   "source": [
    "pd.concat(nbp_data,axis=1).to_csv('./cmip6_data/nbp.csv')"
   ]
  },
  {
   "cell_type": "markdown",
   "metadata": {},
   "source": [
    "### Getting 1pct nbp / nep / fgco2 / tas data from esgf"
   ]
  },
  {
   "cell_type": "code",
   "execution_count": null,
   "metadata": {
    "jupyter": {
     "source_hidden": true
    }
   },
   "outputs": [],
   "source": [
    "def get_annual_CMIP6_data_esgf(activity, table, variable, experiment, institution, source, member):\n",
    "    # eg activity='CMIP', table='Amon', variable='tas', experiment='historical', institution=\"NCAR\", source=\"CESM2\", member=\"r10i1p1f1\"\n",
    "    \n",
    "    try:\n",
    "    \n",
    "        result = esgf_search(activity_id=activity, table_id=table, variable_id=variable, experiment_id=experiment,institution_id=institution, source_id=source, member_id=member)\n",
    "\n",
    "        if not result:\n",
    "            print('No results for this request')\n",
    "            return None\n",
    "\n",
    "        # select results with only the latest datestamp:\n",
    "        latest = sorted([x.split('/')[15] for x in result])[-1]\n",
    "        result = [x for x in result if x.split('/')[15]==latest]\n",
    "\n",
    "        # remove duplicate results\n",
    "        result_1 = []\n",
    "\n",
    "        for item in result:\n",
    "            if item.split('/')[-1] in [x.split('/')[-1] for x in result_1]:\n",
    "                continue\n",
    "            else:\n",
    "                result_1 += [item]\n",
    "\n",
    "        ds = xr.open_mfdataset(result_1, combine='by_coords')\n",
    "\n",
    "        dims = list(ds[variable].dims)\n",
    "        dims.remove('time')\n",
    "\n",
    "        lat_dim_name = [x for x in dims if 'lat' in x][0]\n",
    "\n",
    "        weights = np.cos(np.deg2rad(ds[variable][lat_dim_name]))\n",
    "        weights.name = \"weights\"\n",
    "\n",
    "        ta_timeseries = ds[variable].weighted(weights).mean(dims)\n",
    "\n",
    "        return ta_timeseries.groupby('time.year').mean('time').to_pandas().rename(institution+'_'+source+'_'+member+'_'+variable+'_'+experiment)\n",
    "    \n",
    "    except:\n",
    "        print('retrieval failed')\n",
    "        return None"
   ]
  },
  {
   "cell_type": "code",
   "execution_count": 17,
   "metadata": {},
   "outputs": [
    {
     "data": {
      "text/plain": [
       "0    v20190306\n",
       "1    v20200429\n",
       "dtype: object"
      ]
     },
     "execution_count": 17,
     "metadata": {},
     "output_type": "execute_result"
    }
   ],
   "source": [
    "pd.Series(['v20190306','v20200429']).sort_values()"
   ]
  },
  {
   "cell_type": "code",
   "execution_count": 24,
   "metadata": {},
   "outputs": [],
   "source": [
    "search_results = esgf_search(table_id='Lmon', variable_id='nbp',experiment_id='1pctCO2-bgc')\n",
    "search_df = pd.DataFrame([x.split('/')[-10:-1] for x in search_results],columns=['activity','institution','source','experiment','member','table','variable','grid','date'])\n",
    "chosen_indices = []\n",
    "for i,row in search_df.iterrows():\n",
    "    duplicates = search_df.query(\"activity==\\'\"+row.loc['activity']+\"\\' & table==\\'\"+row.loc['table']+\"\\' & variable==\\'\"+row.loc['variable']+\"\\' & experiment==\\'\"+row.loc['experiment']+\"\\' & institution==\\'\"+row.loc['institution']+\"\\' & source==\\'\"+row.loc['source']+\"\\' & member==\\'\"+row.loc['member']+\"\\' & grid==\\'\"+row.loc['grid']+\"\\'\")\n",
    "    duplicate_dates = duplicates.loc[:,'date'].sort_values()\n",
    "    latest_date = duplicate_dates.iloc[-1]\n",
    "    if row.loc['date'] == latest_date:\n",
    "        chosen_indices += [i]\n",
    "    else:\n",
    "        continue\n",
    "search_df = search_df.loc[chosen_indices].drop_duplicates()"
   ]
  },
  {
   "cell_type": "code",
   "execution_count": 60,
   "metadata": {},
   "outputs": [],
   "source": [
    "experiments = ['1pctCO2','1pctCO2-bgc','1pctCO2-rad']\n",
    "variables = ['nep','nbp','fgco2','fco2nat','tas']\n",
    "tables = dict(zip(variables,['Emon','Lmon','Omon','Amon','Amon']))\n",
    "search_dfs = []\n",
    "for experiment in experiments:\n",
    "    for variable in variables:\n",
    "        search_results = esgf_search(table_id=tables[variable], variable_id=variable,experiment_id=experiment)\n",
    "        search_df = pd.DataFrame([x.split('/')[-10:-1] for x in search_results],columns=['activity','institution','source','experiment','member','table','variable','grid','date'])\n",
    "        chosen_indices = []\n",
    "        for i,row in search_df.iterrows():\n",
    "            duplicates = search_df.query(\"activity==\\'\"+row.loc['activity']+\"\\' & table==\\'\"+row.loc['table']+\"\\' & variable==\\'\"+row.loc['variable']+\"\\' & experiment==\\'\"+row.loc['experiment']+\"\\' & institution==\\'\"+row.loc['institution']+\"\\' & source==\\'\"+row.loc['source']+\"\\' & member==\\'\"+row.loc['member']+\"\\' & grid==\\'\"+row.loc['grid']+\"\\'\")\n",
    "            duplicate_dates = duplicates.loc[:,'date'].sort_values()\n",
    "            latest_date = duplicate_dates.iloc[-1]\n",
    "            if row.loc['date'] == latest_date:\n",
    "                chosen_indices += [i]\n",
    "            else:\n",
    "                continue\n",
    "        search_df = search_df.loc[chosen_indices].drop_duplicates()\n",
    "        search_dfs += [search_df]"
   ]
  },
  {
   "cell_type": "code",
   "execution_count": 61,
   "metadata": {},
   "outputs": [],
   "source": [
    "search_df = pd.concat(search_dfs,axis=0)"
   ]
  },
  {
   "cell_type": "code",
   "execution_count": 71,
   "metadata": {},
   "outputs": [],
   "source": [
    "# filter search results by date\n",
    "chosen_models = search_df.loc[(search_df.experiment.isin(['1pctCO2-bgc','1pctCO2-rad']))&(search_df.variable.isin(['fco2nat','fgco2']))].source.unique()"
   ]
  },
  {
   "cell_type": "code",
   "execution_count": 84,
   "metadata": {},
   "outputs": [
    {
     "data": {
      "text/plain": [
       "array(['BCC-CSM2-MR', 'CanESM5', 'CNRM-ESM2-1', 'GISS-E2-1-G',\n",
       "       'IPSL-CM6A-LR', 'MPI-ESM1-2-LR', 'MRI-ESM2-0', 'CESM2',\n",
       "       'ACCESS-ESM1-5', 'MIROC-ES2L', 'UKESM1-0-LL', 'GFDL-ESM4',\n",
       "       'NorESM2-LM'], dtype=object)"
      ]
     },
     "execution_count": 84,
     "metadata": {},
     "output_type": "execute_result"
    }
   ],
   "source": [
    "search_df.loc[(search_df.experiment.isin(['1pctCO2-bgc','1pctCO2-rad']))].source.unique()"
   ]
  },
  {
   "cell_type": "code",
   "execution_count": 74,
   "metadata": {},
   "outputs": [],
   "source": [
    "# get area weights for each model\n",
    "def get_model_area(source,area_var='areacella'):\n",
    "    \n",
    "    try:\n",
    "    \n",
    "        files_area = esgf_search(variable_id=area_var, source_id=source)\n",
    "\n",
    "        ds_area = xr.open_dataset(files_area[0])\n",
    "\n",
    "        return ds_area\n",
    "    \n",
    "    except:\n",
    "        print('retrieval failed')\n",
    "        return None"
   ]
  },
  {
   "cell_type": "code",
   "execution_count": 75,
   "metadata": {},
   "outputs": [
    {
     "name": "stdout",
     "output_type": "stream",
     "text": [
      "getting CNRM-ESM2-1 areacella\n",
      "getting GISS-E2-1-G areacella\n",
      "getting CESM2 areacella\n",
      "getting CanESM5 areacella\n",
      "getting ACCESS-ESM1-5 areacella\n",
      "getting IPSL-CM6A-LR areacella\n",
      "getting MIROC-ES2L areacella\n",
      "getting MPI-ESM1-2-LR areacella\n",
      "getting MRI-ESM2-0 areacella\n",
      "getting GFDL-ESM4 areacella\n",
      "getting BCC-CSM2-MR areacella\n",
      "getting NorESM2-LM areacella\n"
     ]
    }
   ],
   "source": [
    "model_areacella = {}\n",
    "for model in chosen_models:\n",
    "    print('getting '+model+' areacella')\n",
    "    model_areacella[model] = get_model_areacella(model)"
   ]
  },
  {
   "cell_type": "code",
   "execution_count": 76,
   "metadata": {},
   "outputs": [
    {
     "name": "stdout",
     "output_type": "stream",
     "text": [
      "getting CNRM-ESM2-1 areacello\n",
      "getting GISS-E2-1-G areacello\n",
      "getting CESM2 areacello\n"
     ]
    },
    {
     "name": "stderr",
     "output_type": "stream",
     "text": [
      "/home/leachl/miniconda3/lib/python3.7/site-packages/xarray/conventions.py:498: SerializationWarning: variable 'areacello' has multiple fill values {1e+20, 1e+20}, decoding all values to NaN.\n",
      "  decode_timedelta=decode_timedelta,\n"
     ]
    },
    {
     "name": "stdout",
     "output_type": "stream",
     "text": [
      "getting CanESM5 areacello\n",
      "getting ACCESS-ESM1-5 areacello\n",
      "getting IPSL-CM6A-LR areacello\n",
      "getting MIROC-ES2L areacello\n",
      "getting MPI-ESM1-2-LR areacello\n",
      "getting MRI-ESM2-0 areacello\n",
      "getting GFDL-ESM4 areacello\n",
      "getting BCC-CSM2-MR areacello\n",
      "getting NorESM2-LM areacello\n"
     ]
    }
   ],
   "source": [
    "model_areacello = {}\n",
    "for model in chosen_models:\n",
    "    print('getting '+model+' areacello')\n",
    "    model_areacello[model] = get_model_area(model,'areacello')"
   ]
  },
  {
   "cell_type": "code",
   "execution_count": null,
   "metadata": {},
   "outputs": [],
   "source": [
    "## switches:\n",
    "## if gr available, get that"
   ]
  },
  {
   "cell_type": "code",
   "execution_count": null,
   "metadata": {},
   "outputs": [],
   "source": []
  },
  {
   "cell_type": "code",
   "execution_count": null,
   "metadata": {},
   "outputs": [],
   "source": []
  },
  {
   "cell_type": "code",
   "execution_count": null,
   "metadata": {},
   "outputs": [],
   "source": []
  },
  {
   "cell_type": "code",
   "execution_count": null,
   "metadata": {},
   "outputs": [],
   "source": []
  },
  {
   "cell_type": "code",
   "execution_count": null,
   "metadata": {},
   "outputs": [],
   "source": []
  },
  {
   "cell_type": "code",
   "execution_count": null,
   "metadata": {},
   "outputs": [],
   "source": []
  },
  {
   "cell_type": "code",
   "execution_count": null,
   "metadata": {},
   "outputs": [],
   "source": []
  },
  {
   "cell_type": "code",
   "execution_count": null,
   "metadata": {},
   "outputs": [],
   "source": []
  },
  {
   "cell_type": "code",
   "execution_count": null,
   "metadata": {},
   "outputs": [],
   "source": []
  },
  {
   "cell_type": "code",
   "execution_count": null,
   "metadata": {},
   "outputs": [],
   "source": []
  },
  {
   "cell_type": "code",
   "execution_count": null,
   "metadata": {},
   "outputs": [],
   "source": []
  },
  {
   "cell_type": "code",
   "execution_count": null,
   "metadata": {},
   "outputs": [],
   "source": []
  },
  {
   "cell_type": "code",
   "execution_count": null,
   "metadata": {},
   "outputs": [],
   "source": []
  },
  {
   "cell_type": "code",
   "execution_count": 28,
   "metadata": {},
   "outputs": [],
   "source": [
    "hist_info = gs_stores.loc[(gs_stores.experiment_id=='historical')&(gs_stores.variable_id=='tas')&(gs_stores.table_id=='Amon')]"
   ]
  },
  {
   "cell_type": "code",
   "execution_count": 29,
   "metadata": {},
   "outputs": [
    {
     "name": "stdout",
     "output_type": "stream",
     "text": [
      "No areacella for this request\n",
      "No areacella for this request\n",
      "No areacella for this request\n",
      "No areacella for this request\n",
      "No areacella for this request\n",
      "No areacella for this request\n",
      "No areacella for this request\n",
      "No areacella for this request\n",
      "No areacella for this request\n",
      "No areacella for this request\n",
      "No areacella for this request\n",
      "No areacella for this request\n",
      "No areacella for this request\n",
      "No areacella for this request\n",
      "No areacella for this request\n",
      "No areacella for this request\n",
      "No areacella for this request\n",
      "No areacella for this request\n",
      "No areacella for this request\n",
      "No areacella for this request\n",
      "No areacella for this request\n",
      "No areacella for this request\n",
      "No areacella for this request\n",
      "No areacella for this request\n",
      "No areacella for this request\n",
      "No areacella for this request\n",
      "No areacella for this request\n",
      "No areacella for this request\n",
      "No areacella for this request\n",
      "No areacella for this request\n",
      "No areacella for this request\n",
      "No areacella for this request\n",
      "No areacella for this request\n",
      "No areacella for this request\n",
      "No areacella for this request\n",
      "No areacella for this request\n",
      "No areacella for this request\n",
      "No areacella for this request\n",
      "No areacella for this request\n",
      "No areacella for this request\n",
      "No areacella for this request\n",
      "No areacella for this request\n",
      "No areacella for this request\n",
      "No areacella for this request\n",
      "No areacella for this request\n",
      "No areacella for this request\n",
      "No areacella for this request\n",
      "No areacella for this request\n",
      "No areacella for this request\n",
      "No areacella for this request\n",
      "No areacella for this request\n",
      "No areacella for this request\n",
      "No areacella for this request\n",
      "No areacella for this request\n",
      "No areacella for this request\n",
      "No areacella for this request\n",
      "No areacella for this request\n",
      "No areacella for this request\n",
      "No areacella for this request\n",
      "No areacella for this request\n",
      "No areacella for this request\n",
      "No areacella for this request\n",
      "No areacella for this request\n",
      "No areacella for this request\n",
      "No areacella for this request\n",
      "No areacella for this request\n",
      "No areacella for this request\n",
      "No areacella for this request\n",
      "No areacella for this request\n",
      "No areacella for this request\n",
      "No areacella for this request\n",
      "No areacella for this request\n",
      "No areacella for this request\n",
      "No areacella for this request\n",
      "No areacella for this request\n",
      "No areacella for this request\n",
      "No areacella for this request\n",
      "No areacella for this request\n",
      "No areacella for this request\n",
      "No areacella for this request\n",
      "No areacella for this request\n",
      "No areacella for this request\n",
      "No areacella for this request\n",
      "No areacella for this request\n",
      "No areacella for this request\n",
      "No areacella for this request\n",
      "No areacella for this request\n",
      "No areacella for this request\n",
      "No areacella for this request\n",
      "No areacella for this request\n",
      "No areacella for this request\n",
      "No areacella for this request\n",
      "No areacella for this request\n",
      "No areacella for this request\n",
      "No areacella for this request\n",
      "No areacella for this request\n",
      "No areacella for this request\n",
      "No areacella for this request\n",
      "No areacella for this request\n",
      "No areacella for this request\n",
      "No areacella for this request\n",
      "No areacella for this request\n",
      "No areacella for this request\n",
      "No areacella for this request\n",
      "No areacella for this request\n",
      "No areacella for this request\n",
      "No areacella for this request\n",
      "No areacella for this request\n",
      "No areacella for this request\n",
      "No areacella for this request\n",
      "No areacella for this request\n"
     ]
    }
   ],
   "source": [
    "hist_data = []\n",
    "\n",
    "for index,row in hist_info.iterrows():\n",
    "    hist_data += [get_annual_CMIP6_data_gstore(row.loc['activity_id'], row.loc['table_id'], row.loc['variable_id'], row.loc['experiment_id'], row.loc['institution_id'], row.loc['source_id'], row.loc['member_id'])]"
   ]
  },
  {
   "cell_type": "code",
   "execution_count": 54,
   "metadata": {},
   "outputs": [],
   "source": [
    "pd.concat(hist_data,axis=1).to_csv('./cmip6_data/historical_tas.csv')"
   ]
  },
  {
   "cell_type": "code",
   "execution_count": 113,
   "metadata": {},
   "outputs": [],
   "source": [
    "def get_annual_CMIP6_data_gstore_nbp(activity, table, variable, experiment, institution, source, member):\n",
    "    # eg activity='CMIP', table='Amon', variable='tas', experiment='historical', institution=\"NCAR\", source=\"CESM2\", member=\"r10i1p1f1\"\n",
    "    \n",
    "    area_query = gs_stores.query(\"variable_id=='areacella' & source_id==\\'\"+source+\"\\'\")\n",
    "    \n",
    "    if area_query.empty:\n",
    "        files_area = esgf_search(variable_id='areacella', activity_id=activity, institution_id=institution, source_id=source)\n",
    "        if not files_area:\n",
    "            print('No areacella for this request')\n",
    "            return None\n",
    "        ds_area = xr.open_dataset(files_area[0])\n",
    "    else:\n",
    "        ds_area = xr.open_zarr(gcs.get_mapper(area_query.zstore.values[0]), consolidated=True)\n",
    "    \n",
    "    query = gs_stores.query(\"activity_id==\\'\"+activity+\"\\' & table_id==\\'\"+table+\"\\' & variable_id==\\'\"+variable+\"\\' & experiment_id==\\'\"+experiment+\"\\' & institution_id==\\'\"+institution+\"\\' & source_id==\\'\"+source+\"\\' & member_id==\\'\"+member+\"\\'\")\n",
    "    \n",
    "    if query.empty:\n",
    "        print('No results for this request')\n",
    "        return None\n",
    "\n",
    "    # create a mutable-mapping-style interface to the store\n",
    "    mapper = gcs.get_mapper(query.zstore.values[0])\n",
    "\n",
    "    # open it using xarray and zarr\n",
    "    ds = xr.open_zarr(mapper, consolidated=True)\n",
    "    \n",
    "    if source=='E3SM-1-1' and variable=='tas' and experiment=='piControl':\n",
    "        ds = xr.open_mfdataset(esgf_search(activity_id=activity, table_id=table, variable_id=variable, experiment_id=experiment, institution_id=institution, source_id=source, member_id=member)[7:],combine='by_coords')\n",
    "    \n",
    "    coords = list(ds[variable].coords.keys())\n",
    "    if 'latitude' in coords:\n",
    "        dims = ['latitude','longitude']\n",
    "        _dims = ['lat','lon']\n",
    "    else:\n",
    "        dims = ['lat','lon']\n",
    "        _dims = ['latitude','longitude']\n",
    "        \n",
    "    if not dims[0] in list(ds_area['areacella'].coords.keys()):\n",
    "        ds_area = ds_area.rename(dict(zip(_dims,dims)))\n",
    "    \n",
    "    total_area = ds_area.areacella.sum(dim=dims)\n",
    "    ta_timeseries = (ds[variable] * ds_area.areacella).sum(dim=dims)\n",
    "    \n",
    "    return ta_timeseries.groupby('time.year').mean('time').to_pandas().rename(institution+'_'+source+'_'+member+'_'+experiment)"
   ]
  },
  {
   "cell_type": "code",
   "execution_count": 9,
   "metadata": {},
   "outputs": [],
   "source": [
    "nbp_cmip6=gs_stores.loc[(gs_stores.variable_id=='nbp')&(gs_stores.table_id=='Lmon')]\n",
    "\n",
    "# nbp_data = []\n",
    "\n",
    "# for index,row in nbp_cmip6.iterrows():\n",
    "#     nbp_data += [get_annual_CMIP6_data_gstore_nbp(row.loc['activity_id'], row.loc['table_id'], row.loc['variable_id'], row.loc['experiment_id'], row.loc['institution_id'], row.loc['source_id'], row.loc['member_id'])]"
   ]
  },
  {
   "cell_type": "code",
   "execution_count": 119,
   "metadata": {},
   "outputs": [],
   "source": [
    "pd.concat(nbp_data,axis=1).to_csv('./cmip6_data/nbp.csv')"
   ]
  },
  {
   "cell_type": "code",
   "execution_count": 5,
   "metadata": {},
   "outputs": [],
   "source": [
    "def get_annual_CMIP6_data_gstore_fgco2(activity, table, variable, experiment, institution, source, member):\n",
    "    # eg activity='CMIP', table='Amon', variable='tas', experiment='historical', institution=\"NCAR\", source=\"CESM2\", member=\"r10i1p1f1\"\n",
    "    \n",
    "    area_query = gs_stores.query(\"variable_id=='areacello' & source_id==\\'\"+source+\"\\'\")\n",
    "\n",
    "    if area_query.empty:\n",
    "        files_area = esgf_search(variable_id='areacello', activity_id=activity, institution_id=institution, source_id=source)\n",
    "        if not files_area:\n",
    "            print('No areacello for this request')\n",
    "            return None\n",
    "        ds_area = xr.open_dataset(files_area[0])\n",
    "    else:\n",
    "        ds_area = xr.open_zarr(gcs.get_mapper(area_query.zstore.values[0]), consolidated=True)\n",
    "\n",
    "    query = gs_stores.query(\"activity_id==\\'\"+activity+\"\\' & table_id==\\'\"+table+\"\\' & variable_id==\\'\"+variable+\"\\' & experiment_id==\\'\"+experiment+\"\\' & institution_id==\\'\"+institution+\"\\' & source_id==\\'\"+source+\"\\' & member_id==\\'\"+member+\"\\'\")\n",
    "\n",
    "    if query.empty:\n",
    "        print('No results for this request')\n",
    "        return None\n",
    "\n",
    "    # create a mutable-mapping-style interface to the store\n",
    "    mapper = gcs.get_mapper(query.zstore.values[0])\n",
    "\n",
    "    # open it using xarray and zarr\n",
    "    ds = xr.open_zarr(mapper, consolidated=True)\n",
    "\n",
    "    if source=='E3SM-1-1' and variable=='tas' and experiment=='piControl':\n",
    "        ds = xr.open_mfdataset(esgf_search(activity_id=activity, table_id=table, variable_id=variable, experiment_id=experiment, institution_id=institution, source_id=source, member_id=member)[7:],combine='by_coords')\n",
    "\n",
    "    dims = list(ds[variable].dims)\n",
    "    dims.remove('time')\n",
    "#     total_area = ds_area.areacello.sum(dim=dims)\n",
    "\n",
    "    ta_timeseries = (ds[variable] * ds_area.areacello).sum(dim=dims)\n",
    "\n",
    "    return ta_timeseries.groupby('time.year').mean('time').to_pandas().rename(institution+'_'+source+'_'+member+'_'+experiment)"
   ]
  },
  {
   "cell_type": "code",
   "execution_count": 7,
   "metadata": {},
   "outputs": [],
   "source": [
    "gs_stores['isme'] = gs_stores['ism']+'_'+gs_stores['experiment_id']"
   ]
  },
  {
   "cell_type": "code",
   "execution_count": 10,
   "metadata": {},
   "outputs": [
    {
     "ename": "ValueError",
     "evalue": "destination buffer too small; expected at least 838080, got 419040",
     "output_type": "error",
     "traceback": [
      "\u001b[0;31m---------------------------------------------------------------------------\u001b[0m",
      "\u001b[0;31mValueError\u001b[0m                                Traceback (most recent call last)",
      "\u001b[0;32m<ipython-input-10-04213d46428e>\u001b[0m in \u001b[0;36m<module>\u001b[0;34m\u001b[0m\n\u001b[1;32m      4\u001b[0m \u001b[0;34m\u001b[0m\u001b[0m\n\u001b[1;32m      5\u001b[0m \u001b[0;32mfor\u001b[0m \u001b[0mindex\u001b[0m\u001b[0;34m,\u001b[0m\u001b[0mrow\u001b[0m \u001b[0;32min\u001b[0m \u001b[0mfgco2_cmip6\u001b[0m\u001b[0;34m.\u001b[0m\u001b[0mloc\u001b[0m\u001b[0;34m[\u001b[0m\u001b[0;36m237786\u001b[0m\u001b[0;34m:\u001b[0m\u001b[0;34m]\u001b[0m\u001b[0;34m.\u001b[0m\u001b[0miterrows\u001b[0m\u001b[0;34m(\u001b[0m\u001b[0;34m)\u001b[0m\u001b[0;34m:\u001b[0m\u001b[0;34m\u001b[0m\u001b[0;34m\u001b[0m\u001b[0m\n\u001b[0;32m----> 6\u001b[0;31m     \u001b[0mfgco2_data\u001b[0m \u001b[0;34m+=\u001b[0m \u001b[0;34m[\u001b[0m\u001b[0mget_annual_CMIP6_data_gstore_fgco2\u001b[0m\u001b[0;34m(\u001b[0m\u001b[0mrow\u001b[0m\u001b[0;34m.\u001b[0m\u001b[0mloc\u001b[0m\u001b[0;34m[\u001b[0m\u001b[0;34m'activity_id'\u001b[0m\u001b[0;34m]\u001b[0m\u001b[0;34m,\u001b[0m \u001b[0mrow\u001b[0m\u001b[0;34m.\u001b[0m\u001b[0mloc\u001b[0m\u001b[0;34m[\u001b[0m\u001b[0;34m'table_id'\u001b[0m\u001b[0;34m]\u001b[0m\u001b[0;34m,\u001b[0m \u001b[0mrow\u001b[0m\u001b[0;34m.\u001b[0m\u001b[0mloc\u001b[0m\u001b[0;34m[\u001b[0m\u001b[0;34m'variable_id'\u001b[0m\u001b[0;34m]\u001b[0m\u001b[0;34m,\u001b[0m \u001b[0mrow\u001b[0m\u001b[0;34m.\u001b[0m\u001b[0mloc\u001b[0m\u001b[0;34m[\u001b[0m\u001b[0;34m'experiment_id'\u001b[0m\u001b[0;34m]\u001b[0m\u001b[0;34m,\u001b[0m \u001b[0mrow\u001b[0m\u001b[0;34m.\u001b[0m\u001b[0mloc\u001b[0m\u001b[0;34m[\u001b[0m\u001b[0;34m'institution_id'\u001b[0m\u001b[0;34m]\u001b[0m\u001b[0;34m,\u001b[0m \u001b[0mrow\u001b[0m\u001b[0;34m.\u001b[0m\u001b[0mloc\u001b[0m\u001b[0;34m[\u001b[0m\u001b[0;34m'source_id'\u001b[0m\u001b[0;34m]\u001b[0m\u001b[0;34m,\u001b[0m \u001b[0mrow\u001b[0m\u001b[0;34m.\u001b[0m\u001b[0mloc\u001b[0m\u001b[0;34m[\u001b[0m\u001b[0;34m'member_id'\u001b[0m\u001b[0;34m]\u001b[0m\u001b[0;34m)\u001b[0m\u001b[0;34m]\u001b[0m\u001b[0;34m\u001b[0m\u001b[0;34m\u001b[0m\u001b[0m\n\u001b[0m",
      "\u001b[0;32m<ipython-input-5-b0ea63e39ed1>\u001b[0m in \u001b[0;36mget_annual_CMIP6_data_gstore_fgco2\u001b[0;34m(activity, table, variable, experiment, institution, source, member)\u001b[0m\n\u001b[1;32m     32\u001b[0m \u001b[0;31m#     total_area = ds_area.areacello.sum(dim=dims)\u001b[0m\u001b[0;34m\u001b[0m\u001b[0;34m\u001b[0m\u001b[0;34m\u001b[0m\u001b[0m\n\u001b[1;32m     33\u001b[0m \u001b[0;34m\u001b[0m\u001b[0m\n\u001b[0;32m---> 34\u001b[0;31m     \u001b[0mta_timeseries\u001b[0m \u001b[0;34m=\u001b[0m \u001b[0;34m(\u001b[0m\u001b[0mds\u001b[0m\u001b[0;34m[\u001b[0m\u001b[0mvariable\u001b[0m\u001b[0;34m]\u001b[0m \u001b[0;34m*\u001b[0m \u001b[0mds_area\u001b[0m\u001b[0;34m.\u001b[0m\u001b[0mareacello\u001b[0m\u001b[0;34m)\u001b[0m\u001b[0;34m.\u001b[0m\u001b[0msum\u001b[0m\u001b[0;34m(\u001b[0m\u001b[0mdim\u001b[0m\u001b[0;34m=\u001b[0m\u001b[0mdims\u001b[0m\u001b[0;34m)\u001b[0m\u001b[0;34m\u001b[0m\u001b[0;34m\u001b[0m\u001b[0m\n\u001b[0m\u001b[1;32m     35\u001b[0m \u001b[0;34m\u001b[0m\u001b[0m\n\u001b[1;32m     36\u001b[0m     \u001b[0;32mreturn\u001b[0m \u001b[0mta_timeseries\u001b[0m\u001b[0;34m.\u001b[0m\u001b[0mgroupby\u001b[0m\u001b[0;34m(\u001b[0m\u001b[0;34m'time.year'\u001b[0m\u001b[0;34m)\u001b[0m\u001b[0;34m.\u001b[0m\u001b[0mmean\u001b[0m\u001b[0;34m(\u001b[0m\u001b[0;34m'time'\u001b[0m\u001b[0;34m)\u001b[0m\u001b[0;34m.\u001b[0m\u001b[0mto_pandas\u001b[0m\u001b[0;34m(\u001b[0m\u001b[0;34m)\u001b[0m\u001b[0;34m.\u001b[0m\u001b[0mrename\u001b[0m\u001b[0;34m(\u001b[0m\u001b[0minstitution\u001b[0m\u001b[0;34m+\u001b[0m\u001b[0;34m'_'\u001b[0m\u001b[0;34m+\u001b[0m\u001b[0msource\u001b[0m\u001b[0;34m+\u001b[0m\u001b[0;34m'_'\u001b[0m\u001b[0;34m+\u001b[0m\u001b[0mmember\u001b[0m\u001b[0;34m+\u001b[0m\u001b[0;34m'_'\u001b[0m\u001b[0;34m+\u001b[0m\u001b[0mexperiment\u001b[0m\u001b[0;34m)\u001b[0m\u001b[0;34m\u001b[0m\u001b[0;34m\u001b[0m\u001b[0m\n",
      "\u001b[0;32m~/miniconda3/lib/python3.7/site-packages/xarray/core/dataarray.py\u001b[0m in \u001b[0;36mfunc\u001b[0;34m(self, other)\u001b[0m\n\u001b[1;32m   2692\u001b[0m                 \u001b[0;32melse\u001b[0m \u001b[0mf\u001b[0m\u001b[0;34m(\u001b[0m\u001b[0mother_variable\u001b[0m\u001b[0;34m,\u001b[0m \u001b[0mself\u001b[0m\u001b[0;34m.\u001b[0m\u001b[0mvariable\u001b[0m\u001b[0;34m)\u001b[0m\u001b[0;34m\u001b[0m\u001b[0;34m\u001b[0m\u001b[0m\n\u001b[1;32m   2693\u001b[0m             )\n\u001b[0;32m-> 2694\u001b[0;31m             \u001b[0mcoords\u001b[0m\u001b[0;34m,\u001b[0m \u001b[0mindexes\u001b[0m \u001b[0;34m=\u001b[0m \u001b[0mself\u001b[0m\u001b[0;34m.\u001b[0m\u001b[0mcoords\u001b[0m\u001b[0;34m.\u001b[0m\u001b[0m_merge_raw\u001b[0m\u001b[0;34m(\u001b[0m\u001b[0mother_coords\u001b[0m\u001b[0;34m)\u001b[0m\u001b[0;34m\u001b[0m\u001b[0;34m\u001b[0m\u001b[0m\n\u001b[0m\u001b[1;32m   2695\u001b[0m             \u001b[0mname\u001b[0m \u001b[0;34m=\u001b[0m \u001b[0mself\u001b[0m\u001b[0;34m.\u001b[0m\u001b[0m_result_name\u001b[0m\u001b[0;34m(\u001b[0m\u001b[0mother\u001b[0m\u001b[0;34m)\u001b[0m\u001b[0;34m\u001b[0m\u001b[0;34m\u001b[0m\u001b[0m\n\u001b[1;32m   2696\u001b[0m \u001b[0;34m\u001b[0m\u001b[0m\n",
      "\u001b[0;32m~/miniconda3/lib/python3.7/site-packages/xarray/core/coordinates.py\u001b[0m in \u001b[0;36m_merge_raw\u001b[0;34m(self, other)\u001b[0m\n\u001b[1;32m    124\u001b[0m             \u001b[0mindexes\u001b[0m \u001b[0;34m=\u001b[0m \u001b[0mdict\u001b[0m\u001b[0;34m(\u001b[0m\u001b[0mself\u001b[0m\u001b[0;34m.\u001b[0m\u001b[0mindexes\u001b[0m\u001b[0;34m)\u001b[0m\u001b[0;34m\u001b[0m\u001b[0;34m\u001b[0m\u001b[0m\n\u001b[1;32m    125\u001b[0m         \u001b[0;32melse\u001b[0m\u001b[0;34m:\u001b[0m\u001b[0;34m\u001b[0m\u001b[0;34m\u001b[0m\u001b[0m\n\u001b[0;32m--> 126\u001b[0;31m             \u001b[0mvariables\u001b[0m\u001b[0;34m,\u001b[0m \u001b[0mindexes\u001b[0m \u001b[0;34m=\u001b[0m \u001b[0mmerge_coordinates_without_align\u001b[0m\u001b[0;34m(\u001b[0m\u001b[0;34m[\u001b[0m\u001b[0mself\u001b[0m\u001b[0;34m,\u001b[0m \u001b[0mother\u001b[0m\u001b[0;34m]\u001b[0m\u001b[0;34m)\u001b[0m\u001b[0;34m\u001b[0m\u001b[0;34m\u001b[0m\u001b[0m\n\u001b[0m\u001b[1;32m    127\u001b[0m         \u001b[0;32mreturn\u001b[0m \u001b[0mvariables\u001b[0m\u001b[0;34m,\u001b[0m \u001b[0mindexes\u001b[0m\u001b[0;34m\u001b[0m\u001b[0;34m\u001b[0m\u001b[0m\n\u001b[1;32m    128\u001b[0m \u001b[0;34m\u001b[0m\u001b[0m\n",
      "\u001b[0;32m~/miniconda3/lib/python3.7/site-packages/xarray/core/merge.py\u001b[0m in \u001b[0;36mmerge_coordinates_without_align\u001b[0;34m(objects, prioritized, exclude_dims)\u001b[0m\n\u001b[1;32m    326\u001b[0m         \u001b[0mfiltered\u001b[0m \u001b[0;34m=\u001b[0m \u001b[0mcollected\u001b[0m\u001b[0;34m\u001b[0m\u001b[0;34m\u001b[0m\u001b[0m\n\u001b[1;32m    327\u001b[0m \u001b[0;34m\u001b[0m\u001b[0m\n\u001b[0;32m--> 328\u001b[0;31m     \u001b[0;32mreturn\u001b[0m \u001b[0mmerge_collected\u001b[0m\u001b[0;34m(\u001b[0m\u001b[0mfiltered\u001b[0m\u001b[0;34m,\u001b[0m \u001b[0mprioritized\u001b[0m\u001b[0;34m)\u001b[0m\u001b[0;34m\u001b[0m\u001b[0;34m\u001b[0m\u001b[0m\n\u001b[0m\u001b[1;32m    329\u001b[0m \u001b[0;34m\u001b[0m\u001b[0m\n\u001b[1;32m    330\u001b[0m \u001b[0;34m\u001b[0m\u001b[0m\n",
      "\u001b[0;32m~/miniconda3/lib/python3.7/site-packages/xarray/core/merge.py\u001b[0m in \u001b[0;36mmerge_collected\u001b[0;34m(grouped, prioritized, compat)\u001b[0m\n\u001b[1;32m    226\u001b[0m                 \u001b[0mvariables\u001b[0m \u001b[0;34m=\u001b[0m \u001b[0;34m[\u001b[0m\u001b[0mvariable\u001b[0m \u001b[0;32mfor\u001b[0m \u001b[0mvariable\u001b[0m\u001b[0;34m,\u001b[0m \u001b[0m_\u001b[0m \u001b[0;32min\u001b[0m \u001b[0melements_list\u001b[0m\u001b[0;34m]\u001b[0m\u001b[0;34m\u001b[0m\u001b[0;34m\u001b[0m\u001b[0m\n\u001b[1;32m    227\u001b[0m                 \u001b[0;32mtry\u001b[0m\u001b[0;34m:\u001b[0m\u001b[0;34m\u001b[0m\u001b[0;34m\u001b[0m\u001b[0m\n\u001b[0;32m--> 228\u001b[0;31m                     \u001b[0mmerged_vars\u001b[0m\u001b[0;34m[\u001b[0m\u001b[0mname\u001b[0m\u001b[0;34m]\u001b[0m \u001b[0;34m=\u001b[0m \u001b[0munique_variable\u001b[0m\u001b[0;34m(\u001b[0m\u001b[0mname\u001b[0m\u001b[0;34m,\u001b[0m \u001b[0mvariables\u001b[0m\u001b[0;34m,\u001b[0m \u001b[0mcompat\u001b[0m\u001b[0;34m)\u001b[0m\u001b[0;34m\u001b[0m\u001b[0;34m\u001b[0m\u001b[0m\n\u001b[0m\u001b[1;32m    229\u001b[0m                 \u001b[0;32mexcept\u001b[0m \u001b[0mMergeError\u001b[0m\u001b[0;34m:\u001b[0m\u001b[0;34m\u001b[0m\u001b[0;34m\u001b[0m\u001b[0m\n\u001b[1;32m    230\u001b[0m                     \u001b[0;32mif\u001b[0m \u001b[0mcompat\u001b[0m \u001b[0;34m!=\u001b[0m \u001b[0;34m\"minimal\"\u001b[0m\u001b[0;34m:\u001b[0m\u001b[0;34m\u001b[0m\u001b[0;34m\u001b[0m\u001b[0m\n",
      "\u001b[0;32m~/miniconda3/lib/python3.7/site-packages/xarray/core/merge.py\u001b[0m in \u001b[0;36munique_variable\u001b[0;34m(name, variables, compat, equals)\u001b[0m\n\u001b[1;32m    133\u001b[0m         \u001b[0;32mif\u001b[0m \u001b[0mequals\u001b[0m \u001b[0;32mis\u001b[0m \u001b[0;32mNone\u001b[0m\u001b[0;34m:\u001b[0m\u001b[0;34m\u001b[0m\u001b[0;34m\u001b[0m\u001b[0m\n\u001b[1;32m    134\u001b[0m             \u001b[0;31m# now compare values with minimum number of computes\u001b[0m\u001b[0;34m\u001b[0m\u001b[0;34m\u001b[0m\u001b[0;34m\u001b[0m\u001b[0m\n\u001b[0;32m--> 135\u001b[0;31m             \u001b[0mout\u001b[0m \u001b[0;34m=\u001b[0m \u001b[0mout\u001b[0m\u001b[0;34m.\u001b[0m\u001b[0mcompute\u001b[0m\u001b[0;34m(\u001b[0m\u001b[0;34m)\u001b[0m\u001b[0;34m\u001b[0m\u001b[0;34m\u001b[0m\u001b[0m\n\u001b[0m\u001b[1;32m    136\u001b[0m             \u001b[0;32mfor\u001b[0m \u001b[0mvar\u001b[0m \u001b[0;32min\u001b[0m \u001b[0mvariables\u001b[0m\u001b[0;34m[\u001b[0m\u001b[0;36m1\u001b[0m\u001b[0;34m:\u001b[0m\u001b[0;34m]\u001b[0m\u001b[0;34m:\u001b[0m\u001b[0;34m\u001b[0m\u001b[0;34m\u001b[0m\u001b[0m\n\u001b[1;32m    137\u001b[0m                 \u001b[0mequals\u001b[0m \u001b[0;34m=\u001b[0m \u001b[0mgetattr\u001b[0m\u001b[0;34m(\u001b[0m\u001b[0mout\u001b[0m\u001b[0;34m,\u001b[0m \u001b[0mcompat\u001b[0m\u001b[0;34m)\u001b[0m\u001b[0;34m(\u001b[0m\u001b[0mvar\u001b[0m\u001b[0;34m)\u001b[0m\u001b[0;34m\u001b[0m\u001b[0;34m\u001b[0m\u001b[0m\n",
      "\u001b[0;32m~/miniconda3/lib/python3.7/site-packages/xarray/core/variable.py\u001b[0m in \u001b[0;36mcompute\u001b[0;34m(self, **kwargs)\u001b[0m\n\u001b[1;32m    401\u001b[0m         \"\"\"\n\u001b[1;32m    402\u001b[0m         \u001b[0mnew\u001b[0m \u001b[0;34m=\u001b[0m \u001b[0mself\u001b[0m\u001b[0;34m.\u001b[0m\u001b[0mcopy\u001b[0m\u001b[0;34m(\u001b[0m\u001b[0mdeep\u001b[0m\u001b[0;34m=\u001b[0m\u001b[0;32mFalse\u001b[0m\u001b[0;34m)\u001b[0m\u001b[0;34m\u001b[0m\u001b[0;34m\u001b[0m\u001b[0m\n\u001b[0;32m--> 403\u001b[0;31m         \u001b[0;32mreturn\u001b[0m \u001b[0mnew\u001b[0m\u001b[0;34m.\u001b[0m\u001b[0mload\u001b[0m\u001b[0;34m(\u001b[0m\u001b[0;34m**\u001b[0m\u001b[0mkwargs\u001b[0m\u001b[0;34m)\u001b[0m\u001b[0;34m\u001b[0m\u001b[0;34m\u001b[0m\u001b[0m\n\u001b[0m\u001b[1;32m    404\u001b[0m \u001b[0;34m\u001b[0m\u001b[0m\n\u001b[1;32m    405\u001b[0m     \u001b[0;32mdef\u001b[0m \u001b[0m__dask_tokenize__\u001b[0m\u001b[0;34m(\u001b[0m\u001b[0mself\u001b[0m\u001b[0;34m)\u001b[0m\u001b[0;34m:\u001b[0m\u001b[0;34m\u001b[0m\u001b[0;34m\u001b[0m\u001b[0m\n",
      "\u001b[0;32m~/miniconda3/lib/python3.7/site-packages/xarray/core/variable.py\u001b[0m in \u001b[0;36mload\u001b[0;34m(self, **kwargs)\u001b[0m\n\u001b[1;32m    377\u001b[0m         \"\"\"\n\u001b[1;32m    378\u001b[0m         \u001b[0;32mif\u001b[0m \u001b[0misinstance\u001b[0m\u001b[0;34m(\u001b[0m\u001b[0mself\u001b[0m\u001b[0;34m.\u001b[0m\u001b[0m_data\u001b[0m\u001b[0;34m,\u001b[0m \u001b[0mdask_array_type\u001b[0m\u001b[0;34m)\u001b[0m\u001b[0;34m:\u001b[0m\u001b[0;34m\u001b[0m\u001b[0;34m\u001b[0m\u001b[0m\n\u001b[0;32m--> 379\u001b[0;31m             \u001b[0mself\u001b[0m\u001b[0;34m.\u001b[0m\u001b[0m_data\u001b[0m \u001b[0;34m=\u001b[0m \u001b[0mas_compatible_data\u001b[0m\u001b[0;34m(\u001b[0m\u001b[0mself\u001b[0m\u001b[0;34m.\u001b[0m\u001b[0m_data\u001b[0m\u001b[0;34m.\u001b[0m\u001b[0mcompute\u001b[0m\u001b[0;34m(\u001b[0m\u001b[0;34m**\u001b[0m\u001b[0mkwargs\u001b[0m\u001b[0;34m)\u001b[0m\u001b[0;34m)\u001b[0m\u001b[0;34m\u001b[0m\u001b[0;34m\u001b[0m\u001b[0m\n\u001b[0m\u001b[1;32m    380\u001b[0m         \u001b[0;32melif\u001b[0m \u001b[0;32mnot\u001b[0m \u001b[0mhasattr\u001b[0m\u001b[0;34m(\u001b[0m\u001b[0mself\u001b[0m\u001b[0;34m.\u001b[0m\u001b[0m_data\u001b[0m\u001b[0;34m,\u001b[0m \u001b[0;34m\"__array_function__\"\u001b[0m\u001b[0;34m)\u001b[0m\u001b[0;34m:\u001b[0m\u001b[0;34m\u001b[0m\u001b[0;34m\u001b[0m\u001b[0m\n\u001b[1;32m    381\u001b[0m             \u001b[0mself\u001b[0m\u001b[0;34m.\u001b[0m\u001b[0m_data\u001b[0m \u001b[0;34m=\u001b[0m \u001b[0mnp\u001b[0m\u001b[0;34m.\u001b[0m\u001b[0masarray\u001b[0m\u001b[0;34m(\u001b[0m\u001b[0mself\u001b[0m\u001b[0;34m.\u001b[0m\u001b[0m_data\u001b[0m\u001b[0;34m)\u001b[0m\u001b[0;34m\u001b[0m\u001b[0;34m\u001b[0m\u001b[0m\n",
      "\u001b[0;32m~/miniconda3/lib/python3.7/site-packages/dask/base.py\u001b[0m in \u001b[0;36mcompute\u001b[0;34m(self, **kwargs)\u001b[0m\n\u001b[1;32m    165\u001b[0m         \u001b[0mdask\u001b[0m\u001b[0;34m.\u001b[0m\u001b[0mbase\u001b[0m\u001b[0;34m.\u001b[0m\u001b[0mcompute\u001b[0m\u001b[0;34m\u001b[0m\u001b[0;34m\u001b[0m\u001b[0m\n\u001b[1;32m    166\u001b[0m         \"\"\"\n\u001b[0;32m--> 167\u001b[0;31m         \u001b[0;34m(\u001b[0m\u001b[0mresult\u001b[0m\u001b[0;34m,\u001b[0m\u001b[0;34m)\u001b[0m \u001b[0;34m=\u001b[0m \u001b[0mcompute\u001b[0m\u001b[0;34m(\u001b[0m\u001b[0mself\u001b[0m\u001b[0;34m,\u001b[0m \u001b[0mtraverse\u001b[0m\u001b[0;34m=\u001b[0m\u001b[0;32mFalse\u001b[0m\u001b[0;34m,\u001b[0m \u001b[0;34m**\u001b[0m\u001b[0mkwargs\u001b[0m\u001b[0;34m)\u001b[0m\u001b[0;34m\u001b[0m\u001b[0;34m\u001b[0m\u001b[0m\n\u001b[0m\u001b[1;32m    168\u001b[0m         \u001b[0;32mreturn\u001b[0m \u001b[0mresult\u001b[0m\u001b[0;34m\u001b[0m\u001b[0;34m\u001b[0m\u001b[0m\n\u001b[1;32m    169\u001b[0m \u001b[0;34m\u001b[0m\u001b[0m\n",
      "\u001b[0;32m~/miniconda3/lib/python3.7/site-packages/dask/base.py\u001b[0m in \u001b[0;36mcompute\u001b[0;34m(*args, **kwargs)\u001b[0m\n\u001b[1;32m    445\u001b[0m         \u001b[0mpostcomputes\u001b[0m\u001b[0;34m.\u001b[0m\u001b[0mappend\u001b[0m\u001b[0;34m(\u001b[0m\u001b[0mx\u001b[0m\u001b[0;34m.\u001b[0m\u001b[0m__dask_postcompute__\u001b[0m\u001b[0;34m(\u001b[0m\u001b[0;34m)\u001b[0m\u001b[0;34m)\u001b[0m\u001b[0;34m\u001b[0m\u001b[0;34m\u001b[0m\u001b[0m\n\u001b[1;32m    446\u001b[0m \u001b[0;34m\u001b[0m\u001b[0m\n\u001b[0;32m--> 447\u001b[0;31m     \u001b[0mresults\u001b[0m \u001b[0;34m=\u001b[0m \u001b[0mschedule\u001b[0m\u001b[0;34m(\u001b[0m\u001b[0mdsk\u001b[0m\u001b[0;34m,\u001b[0m \u001b[0mkeys\u001b[0m\u001b[0;34m,\u001b[0m \u001b[0;34m**\u001b[0m\u001b[0mkwargs\u001b[0m\u001b[0;34m)\u001b[0m\u001b[0;34m\u001b[0m\u001b[0;34m\u001b[0m\u001b[0m\n\u001b[0m\u001b[1;32m    448\u001b[0m     \u001b[0;32mreturn\u001b[0m \u001b[0mrepack\u001b[0m\u001b[0;34m(\u001b[0m\u001b[0;34m[\u001b[0m\u001b[0mf\u001b[0m\u001b[0;34m(\u001b[0m\u001b[0mr\u001b[0m\u001b[0;34m,\u001b[0m \u001b[0;34m*\u001b[0m\u001b[0ma\u001b[0m\u001b[0;34m)\u001b[0m \u001b[0;32mfor\u001b[0m \u001b[0mr\u001b[0m\u001b[0;34m,\u001b[0m \u001b[0;34m(\u001b[0m\u001b[0mf\u001b[0m\u001b[0;34m,\u001b[0m \u001b[0ma\u001b[0m\u001b[0;34m)\u001b[0m \u001b[0;32min\u001b[0m \u001b[0mzip\u001b[0m\u001b[0;34m(\u001b[0m\u001b[0mresults\u001b[0m\u001b[0;34m,\u001b[0m \u001b[0mpostcomputes\u001b[0m\u001b[0;34m)\u001b[0m\u001b[0;34m]\u001b[0m\u001b[0;34m)\u001b[0m\u001b[0;34m\u001b[0m\u001b[0;34m\u001b[0m\u001b[0m\n\u001b[1;32m    449\u001b[0m \u001b[0;34m\u001b[0m\u001b[0m\n",
      "\u001b[0;32m~/miniconda3/lib/python3.7/site-packages/dask/threaded.py\u001b[0m in \u001b[0;36mget\u001b[0;34m(dsk, result, cache, num_workers, pool, **kwargs)\u001b[0m\n\u001b[1;32m     82\u001b[0m         \u001b[0mget_id\u001b[0m\u001b[0;34m=\u001b[0m\u001b[0m_thread_get_id\u001b[0m\u001b[0;34m,\u001b[0m\u001b[0;34m\u001b[0m\u001b[0;34m\u001b[0m\u001b[0m\n\u001b[1;32m     83\u001b[0m         \u001b[0mpack_exception\u001b[0m\u001b[0;34m=\u001b[0m\u001b[0mpack_exception\u001b[0m\u001b[0;34m,\u001b[0m\u001b[0;34m\u001b[0m\u001b[0;34m\u001b[0m\u001b[0m\n\u001b[0;32m---> 84\u001b[0;31m         \u001b[0;34m**\u001b[0m\u001b[0mkwargs\u001b[0m\u001b[0;34m\u001b[0m\u001b[0;34m\u001b[0m\u001b[0m\n\u001b[0m\u001b[1;32m     85\u001b[0m     )\n\u001b[1;32m     86\u001b[0m \u001b[0;34m\u001b[0m\u001b[0m\n",
      "\u001b[0;32m~/miniconda3/lib/python3.7/site-packages/dask/local.py\u001b[0m in \u001b[0;36mget_async\u001b[0;34m(apply_async, num_workers, dsk, result, cache, get_id, rerun_exceptions_locally, pack_exception, raise_exception, callbacks, dumps, loads, **kwargs)\u001b[0m\n\u001b[1;32m    484\u001b[0m                         \u001b[0m_execute_task\u001b[0m\u001b[0;34m(\u001b[0m\u001b[0mtask\u001b[0m\u001b[0;34m,\u001b[0m \u001b[0mdata\u001b[0m\u001b[0;34m)\u001b[0m  \u001b[0;31m# Re-execute locally\u001b[0m\u001b[0;34m\u001b[0m\u001b[0;34m\u001b[0m\u001b[0m\n\u001b[1;32m    485\u001b[0m                     \u001b[0;32melse\u001b[0m\u001b[0;34m:\u001b[0m\u001b[0;34m\u001b[0m\u001b[0;34m\u001b[0m\u001b[0m\n\u001b[0;32m--> 486\u001b[0;31m                         \u001b[0mraise_exception\u001b[0m\u001b[0;34m(\u001b[0m\u001b[0mexc\u001b[0m\u001b[0;34m,\u001b[0m \u001b[0mtb\u001b[0m\u001b[0;34m)\u001b[0m\u001b[0;34m\u001b[0m\u001b[0;34m\u001b[0m\u001b[0m\n\u001b[0m\u001b[1;32m    487\u001b[0m                 \u001b[0mres\u001b[0m\u001b[0;34m,\u001b[0m \u001b[0mworker_id\u001b[0m \u001b[0;34m=\u001b[0m \u001b[0mloads\u001b[0m\u001b[0;34m(\u001b[0m\u001b[0mres_info\u001b[0m\u001b[0;34m)\u001b[0m\u001b[0;34m\u001b[0m\u001b[0;34m\u001b[0m\u001b[0m\n\u001b[1;32m    488\u001b[0m                 \u001b[0mstate\u001b[0m\u001b[0;34m[\u001b[0m\u001b[0;34m\"cache\"\u001b[0m\u001b[0;34m]\u001b[0m\u001b[0;34m[\u001b[0m\u001b[0mkey\u001b[0m\u001b[0;34m]\u001b[0m \u001b[0;34m=\u001b[0m \u001b[0mres\u001b[0m\u001b[0;34m\u001b[0m\u001b[0;34m\u001b[0m\u001b[0m\n",
      "\u001b[0;32m~/miniconda3/lib/python3.7/site-packages/dask/local.py\u001b[0m in \u001b[0;36mreraise\u001b[0;34m(exc, tb)\u001b[0m\n\u001b[1;32m    314\u001b[0m     \u001b[0;32mif\u001b[0m \u001b[0mexc\u001b[0m\u001b[0;34m.\u001b[0m\u001b[0m__traceback__\u001b[0m \u001b[0;32mis\u001b[0m \u001b[0;32mnot\u001b[0m \u001b[0mtb\u001b[0m\u001b[0;34m:\u001b[0m\u001b[0;34m\u001b[0m\u001b[0;34m\u001b[0m\u001b[0m\n\u001b[1;32m    315\u001b[0m         \u001b[0;32mraise\u001b[0m \u001b[0mexc\u001b[0m\u001b[0;34m.\u001b[0m\u001b[0mwith_traceback\u001b[0m\u001b[0;34m(\u001b[0m\u001b[0mtb\u001b[0m\u001b[0;34m)\u001b[0m\u001b[0;34m\u001b[0m\u001b[0;34m\u001b[0m\u001b[0m\n\u001b[0;32m--> 316\u001b[0;31m     \u001b[0;32mraise\u001b[0m \u001b[0mexc\u001b[0m\u001b[0;34m\u001b[0m\u001b[0;34m\u001b[0m\u001b[0m\n\u001b[0m\u001b[1;32m    317\u001b[0m \u001b[0;34m\u001b[0m\u001b[0m\n\u001b[1;32m    318\u001b[0m \u001b[0;34m\u001b[0m\u001b[0m\n",
      "\u001b[0;32m~/miniconda3/lib/python3.7/site-packages/dask/local.py\u001b[0m in \u001b[0;36mexecute_task\u001b[0;34m(key, task_info, dumps, loads, get_id, pack_exception)\u001b[0m\n\u001b[1;32m    220\u001b[0m     \u001b[0;32mtry\u001b[0m\u001b[0;34m:\u001b[0m\u001b[0;34m\u001b[0m\u001b[0;34m\u001b[0m\u001b[0m\n\u001b[1;32m    221\u001b[0m         \u001b[0mtask\u001b[0m\u001b[0;34m,\u001b[0m \u001b[0mdata\u001b[0m \u001b[0;34m=\u001b[0m \u001b[0mloads\u001b[0m\u001b[0;34m(\u001b[0m\u001b[0mtask_info\u001b[0m\u001b[0;34m)\u001b[0m\u001b[0;34m\u001b[0m\u001b[0;34m\u001b[0m\u001b[0m\n\u001b[0;32m--> 222\u001b[0;31m         \u001b[0mresult\u001b[0m \u001b[0;34m=\u001b[0m \u001b[0m_execute_task\u001b[0m\u001b[0;34m(\u001b[0m\u001b[0mtask\u001b[0m\u001b[0;34m,\u001b[0m \u001b[0mdata\u001b[0m\u001b[0;34m)\u001b[0m\u001b[0;34m\u001b[0m\u001b[0;34m\u001b[0m\u001b[0m\n\u001b[0m\u001b[1;32m    223\u001b[0m         \u001b[0mid\u001b[0m \u001b[0;34m=\u001b[0m \u001b[0mget_id\u001b[0m\u001b[0;34m(\u001b[0m\u001b[0;34m)\u001b[0m\u001b[0;34m\u001b[0m\u001b[0;34m\u001b[0m\u001b[0m\n\u001b[1;32m    224\u001b[0m         \u001b[0mresult\u001b[0m \u001b[0;34m=\u001b[0m \u001b[0mdumps\u001b[0m\u001b[0;34m(\u001b[0m\u001b[0;34m(\u001b[0m\u001b[0mresult\u001b[0m\u001b[0;34m,\u001b[0m \u001b[0mid\u001b[0m\u001b[0;34m)\u001b[0m\u001b[0;34m)\u001b[0m\u001b[0;34m\u001b[0m\u001b[0;34m\u001b[0m\u001b[0m\n",
      "\u001b[0;32m~/miniconda3/lib/python3.7/site-packages/dask/core.py\u001b[0m in \u001b[0;36m_execute_task\u001b[0;34m(arg, cache, dsk)\u001b[0m\n\u001b[1;32m    119\u001b[0m         \u001b[0;31m# temporaries by their reference count and can execute certain\u001b[0m\u001b[0;34m\u001b[0m\u001b[0;34m\u001b[0m\u001b[0;34m\u001b[0m\u001b[0m\n\u001b[1;32m    120\u001b[0m         \u001b[0;31m# operations in-place.\u001b[0m\u001b[0;34m\u001b[0m\u001b[0;34m\u001b[0m\u001b[0;34m\u001b[0m\u001b[0m\n\u001b[0;32m--> 121\u001b[0;31m         \u001b[0;32mreturn\u001b[0m \u001b[0mfunc\u001b[0m\u001b[0;34m(\u001b[0m\u001b[0;34m*\u001b[0m\u001b[0;34m(\u001b[0m\u001b[0m_execute_task\u001b[0m\u001b[0;34m(\u001b[0m\u001b[0ma\u001b[0m\u001b[0;34m,\u001b[0m \u001b[0mcache\u001b[0m\u001b[0;34m)\u001b[0m \u001b[0;32mfor\u001b[0m \u001b[0ma\u001b[0m \u001b[0;32min\u001b[0m \u001b[0margs\u001b[0m\u001b[0;34m)\u001b[0m\u001b[0;34m)\u001b[0m\u001b[0;34m\u001b[0m\u001b[0;34m\u001b[0m\u001b[0m\n\u001b[0m\u001b[1;32m    122\u001b[0m     \u001b[0;32melif\u001b[0m \u001b[0;32mnot\u001b[0m \u001b[0mishashable\u001b[0m\u001b[0;34m(\u001b[0m\u001b[0marg\u001b[0m\u001b[0;34m)\u001b[0m\u001b[0;34m:\u001b[0m\u001b[0;34m\u001b[0m\u001b[0;34m\u001b[0m\u001b[0m\n\u001b[1;32m    123\u001b[0m         \u001b[0;32mreturn\u001b[0m \u001b[0marg\u001b[0m\u001b[0;34m\u001b[0m\u001b[0;34m\u001b[0m\u001b[0m\n",
      "\u001b[0;32m~/miniconda3/lib/python3.7/site-packages/dask/array/core.py\u001b[0m in \u001b[0;36mgetter\u001b[0;34m(a, b, asarray, lock)\u001b[0m\n\u001b[1;32m     98\u001b[0m         \u001b[0mc\u001b[0m \u001b[0;34m=\u001b[0m \u001b[0ma\u001b[0m\u001b[0;34m[\u001b[0m\u001b[0mb\u001b[0m\u001b[0;34m]\u001b[0m\u001b[0;34m\u001b[0m\u001b[0;34m\u001b[0m\u001b[0m\n\u001b[1;32m     99\u001b[0m         \u001b[0;32mif\u001b[0m \u001b[0masarray\u001b[0m\u001b[0;34m:\u001b[0m\u001b[0;34m\u001b[0m\u001b[0;34m\u001b[0m\u001b[0m\n\u001b[0;32m--> 100\u001b[0;31m             \u001b[0mc\u001b[0m \u001b[0;34m=\u001b[0m \u001b[0mnp\u001b[0m\u001b[0;34m.\u001b[0m\u001b[0masarray\u001b[0m\u001b[0;34m(\u001b[0m\u001b[0mc\u001b[0m\u001b[0;34m)\u001b[0m\u001b[0;34m\u001b[0m\u001b[0;34m\u001b[0m\u001b[0m\n\u001b[0m\u001b[1;32m    101\u001b[0m     \u001b[0;32mfinally\u001b[0m\u001b[0;34m:\u001b[0m\u001b[0;34m\u001b[0m\u001b[0;34m\u001b[0m\u001b[0m\n\u001b[1;32m    102\u001b[0m         \u001b[0;32mif\u001b[0m \u001b[0mlock\u001b[0m\u001b[0;34m:\u001b[0m\u001b[0;34m\u001b[0m\u001b[0;34m\u001b[0m\u001b[0m\n",
      "\u001b[0;32m~/miniconda3/lib/python3.7/site-packages/numpy/core/_asarray.py\u001b[0m in \u001b[0;36masarray\u001b[0;34m(a, dtype, order)\u001b[0m\n\u001b[1;32m     81\u001b[0m \u001b[0;34m\u001b[0m\u001b[0m\n\u001b[1;32m     82\u001b[0m     \"\"\"\n\u001b[0;32m---> 83\u001b[0;31m     \u001b[0;32mreturn\u001b[0m \u001b[0marray\u001b[0m\u001b[0;34m(\u001b[0m\u001b[0ma\u001b[0m\u001b[0;34m,\u001b[0m \u001b[0mdtype\u001b[0m\u001b[0;34m,\u001b[0m \u001b[0mcopy\u001b[0m\u001b[0;34m=\u001b[0m\u001b[0;32mFalse\u001b[0m\u001b[0;34m,\u001b[0m \u001b[0morder\u001b[0m\u001b[0;34m=\u001b[0m\u001b[0morder\u001b[0m\u001b[0;34m)\u001b[0m\u001b[0;34m\u001b[0m\u001b[0;34m\u001b[0m\u001b[0m\n\u001b[0m\u001b[1;32m     84\u001b[0m \u001b[0;34m\u001b[0m\u001b[0m\n\u001b[1;32m     85\u001b[0m \u001b[0;34m\u001b[0m\u001b[0m\n",
      "\u001b[0;32m~/miniconda3/lib/python3.7/site-packages/xarray/core/indexing.py\u001b[0m in \u001b[0;36m__array__\u001b[0;34m(self, dtype)\u001b[0m\n\u001b[1;32m    489\u001b[0m \u001b[0;34m\u001b[0m\u001b[0m\n\u001b[1;32m    490\u001b[0m     \u001b[0;32mdef\u001b[0m \u001b[0m__array__\u001b[0m\u001b[0;34m(\u001b[0m\u001b[0mself\u001b[0m\u001b[0;34m,\u001b[0m \u001b[0mdtype\u001b[0m\u001b[0;34m=\u001b[0m\u001b[0;32mNone\u001b[0m\u001b[0;34m)\u001b[0m\u001b[0;34m:\u001b[0m\u001b[0;34m\u001b[0m\u001b[0;34m\u001b[0m\u001b[0m\n\u001b[0;32m--> 491\u001b[0;31m         \u001b[0;32mreturn\u001b[0m \u001b[0mnp\u001b[0m\u001b[0;34m.\u001b[0m\u001b[0masarray\u001b[0m\u001b[0;34m(\u001b[0m\u001b[0mself\u001b[0m\u001b[0;34m.\u001b[0m\u001b[0marray\u001b[0m\u001b[0;34m,\u001b[0m \u001b[0mdtype\u001b[0m\u001b[0;34m=\u001b[0m\u001b[0mdtype\u001b[0m\u001b[0;34m)\u001b[0m\u001b[0;34m\u001b[0m\u001b[0;34m\u001b[0m\u001b[0m\n\u001b[0m\u001b[1;32m    492\u001b[0m \u001b[0;34m\u001b[0m\u001b[0m\n\u001b[1;32m    493\u001b[0m     \u001b[0;32mdef\u001b[0m \u001b[0m__getitem__\u001b[0m\u001b[0;34m(\u001b[0m\u001b[0mself\u001b[0m\u001b[0;34m,\u001b[0m \u001b[0mkey\u001b[0m\u001b[0;34m)\u001b[0m\u001b[0;34m:\u001b[0m\u001b[0;34m\u001b[0m\u001b[0;34m\u001b[0m\u001b[0m\n",
      "\u001b[0;32m~/miniconda3/lib/python3.7/site-packages/numpy/core/_asarray.py\u001b[0m in \u001b[0;36masarray\u001b[0;34m(a, dtype, order)\u001b[0m\n\u001b[1;32m     81\u001b[0m \u001b[0;34m\u001b[0m\u001b[0m\n\u001b[1;32m     82\u001b[0m     \"\"\"\n\u001b[0;32m---> 83\u001b[0;31m     \u001b[0;32mreturn\u001b[0m \u001b[0marray\u001b[0m\u001b[0;34m(\u001b[0m\u001b[0ma\u001b[0m\u001b[0;34m,\u001b[0m \u001b[0mdtype\u001b[0m\u001b[0;34m,\u001b[0m \u001b[0mcopy\u001b[0m\u001b[0;34m=\u001b[0m\u001b[0;32mFalse\u001b[0m\u001b[0;34m,\u001b[0m \u001b[0morder\u001b[0m\u001b[0;34m=\u001b[0m\u001b[0morder\u001b[0m\u001b[0;34m)\u001b[0m\u001b[0;34m\u001b[0m\u001b[0;34m\u001b[0m\u001b[0m\n\u001b[0m\u001b[1;32m     84\u001b[0m \u001b[0;34m\u001b[0m\u001b[0m\n\u001b[1;32m     85\u001b[0m \u001b[0;34m\u001b[0m\u001b[0m\n",
      "\u001b[0;32m~/miniconda3/lib/python3.7/site-packages/xarray/core/indexing.py\u001b[0m in \u001b[0;36m__array__\u001b[0;34m(self, dtype)\u001b[0m\n\u001b[1;32m    555\u001b[0m     \u001b[0;32mdef\u001b[0m \u001b[0m__array__\u001b[0m\u001b[0;34m(\u001b[0m\u001b[0mself\u001b[0m\u001b[0;34m,\u001b[0m \u001b[0mdtype\u001b[0m\u001b[0;34m=\u001b[0m\u001b[0;32mNone\u001b[0m\u001b[0;34m)\u001b[0m\u001b[0;34m:\u001b[0m\u001b[0;34m\u001b[0m\u001b[0;34m\u001b[0m\u001b[0m\n\u001b[1;32m    556\u001b[0m         \u001b[0marray\u001b[0m \u001b[0;34m=\u001b[0m \u001b[0mas_indexable\u001b[0m\u001b[0;34m(\u001b[0m\u001b[0mself\u001b[0m\u001b[0;34m.\u001b[0m\u001b[0marray\u001b[0m\u001b[0;34m)\u001b[0m\u001b[0;34m\u001b[0m\u001b[0;34m\u001b[0m\u001b[0m\n\u001b[0;32m--> 557\u001b[0;31m         \u001b[0;32mreturn\u001b[0m \u001b[0mnp\u001b[0m\u001b[0;34m.\u001b[0m\u001b[0masarray\u001b[0m\u001b[0;34m(\u001b[0m\u001b[0marray\u001b[0m\u001b[0;34m[\u001b[0m\u001b[0mself\u001b[0m\u001b[0;34m.\u001b[0m\u001b[0mkey\u001b[0m\u001b[0;34m]\u001b[0m\u001b[0;34m,\u001b[0m \u001b[0mdtype\u001b[0m\u001b[0;34m=\u001b[0m\u001b[0;32mNone\u001b[0m\u001b[0;34m)\u001b[0m\u001b[0;34m\u001b[0m\u001b[0;34m\u001b[0m\u001b[0m\n\u001b[0m\u001b[1;32m    558\u001b[0m \u001b[0;34m\u001b[0m\u001b[0m\n\u001b[1;32m    559\u001b[0m     \u001b[0;32mdef\u001b[0m \u001b[0mtranspose\u001b[0m\u001b[0;34m(\u001b[0m\u001b[0mself\u001b[0m\u001b[0;34m,\u001b[0m \u001b[0morder\u001b[0m\u001b[0;34m)\u001b[0m\u001b[0;34m:\u001b[0m\u001b[0;34m\u001b[0m\u001b[0;34m\u001b[0m\u001b[0m\n",
      "\u001b[0;32m~/miniconda3/lib/python3.7/site-packages/numpy/core/_asarray.py\u001b[0m in \u001b[0;36masarray\u001b[0;34m(a, dtype, order)\u001b[0m\n\u001b[1;32m     81\u001b[0m \u001b[0;34m\u001b[0m\u001b[0m\n\u001b[1;32m     82\u001b[0m     \"\"\"\n\u001b[0;32m---> 83\u001b[0;31m     \u001b[0;32mreturn\u001b[0m \u001b[0marray\u001b[0m\u001b[0;34m(\u001b[0m\u001b[0ma\u001b[0m\u001b[0;34m,\u001b[0m \u001b[0mdtype\u001b[0m\u001b[0;34m,\u001b[0m \u001b[0mcopy\u001b[0m\u001b[0;34m=\u001b[0m\u001b[0;32mFalse\u001b[0m\u001b[0;34m,\u001b[0m \u001b[0morder\u001b[0m\u001b[0;34m=\u001b[0m\u001b[0morder\u001b[0m\u001b[0;34m)\u001b[0m\u001b[0;34m\u001b[0m\u001b[0;34m\u001b[0m\u001b[0m\n\u001b[0m\u001b[1;32m     84\u001b[0m \u001b[0;34m\u001b[0m\u001b[0m\n\u001b[1;32m     85\u001b[0m \u001b[0;34m\u001b[0m\u001b[0m\n",
      "\u001b[0;32m~/miniconda3/lib/python3.7/site-packages/xarray/coding/variables.py\u001b[0m in \u001b[0;36m__array__\u001b[0;34m(self, dtype)\u001b[0m\n\u001b[1;32m     70\u001b[0m \u001b[0;34m\u001b[0m\u001b[0m\n\u001b[1;32m     71\u001b[0m     \u001b[0;32mdef\u001b[0m \u001b[0m__array__\u001b[0m\u001b[0;34m(\u001b[0m\u001b[0mself\u001b[0m\u001b[0;34m,\u001b[0m \u001b[0mdtype\u001b[0m\u001b[0;34m=\u001b[0m\u001b[0;32mNone\u001b[0m\u001b[0;34m)\u001b[0m\u001b[0;34m:\u001b[0m\u001b[0;34m\u001b[0m\u001b[0;34m\u001b[0m\u001b[0m\n\u001b[0;32m---> 72\u001b[0;31m         \u001b[0;32mreturn\u001b[0m \u001b[0mself\u001b[0m\u001b[0;34m.\u001b[0m\u001b[0mfunc\u001b[0m\u001b[0;34m(\u001b[0m\u001b[0mself\u001b[0m\u001b[0;34m.\u001b[0m\u001b[0marray\u001b[0m\u001b[0;34m)\u001b[0m\u001b[0;34m\u001b[0m\u001b[0;34m\u001b[0m\u001b[0m\n\u001b[0m\u001b[1;32m     73\u001b[0m \u001b[0;34m\u001b[0m\u001b[0m\n\u001b[1;32m     74\u001b[0m     \u001b[0;32mdef\u001b[0m \u001b[0m__repr__\u001b[0m\u001b[0;34m(\u001b[0m\u001b[0mself\u001b[0m\u001b[0;34m)\u001b[0m\u001b[0;34m:\u001b[0m\u001b[0;34m\u001b[0m\u001b[0;34m\u001b[0m\u001b[0m\n",
      "\u001b[0;32m~/miniconda3/lib/python3.7/site-packages/xarray/coding/variables.py\u001b[0m in \u001b[0;36m_apply_mask\u001b[0;34m(data, encoded_fill_values, decoded_fill_value, dtype)\u001b[0m\n\u001b[1;32m    136\u001b[0m ) -> np.ndarray:\n\u001b[1;32m    137\u001b[0m     \u001b[0;34m\"\"\"Mask all matching values in a NumPy arrays.\"\"\"\u001b[0m\u001b[0;34m\u001b[0m\u001b[0;34m\u001b[0m\u001b[0m\n\u001b[0;32m--> 138\u001b[0;31m     \u001b[0mdata\u001b[0m \u001b[0;34m=\u001b[0m \u001b[0mnp\u001b[0m\u001b[0;34m.\u001b[0m\u001b[0masarray\u001b[0m\u001b[0;34m(\u001b[0m\u001b[0mdata\u001b[0m\u001b[0;34m,\u001b[0m \u001b[0mdtype\u001b[0m\u001b[0;34m=\u001b[0m\u001b[0mdtype\u001b[0m\u001b[0;34m)\u001b[0m\u001b[0;34m\u001b[0m\u001b[0;34m\u001b[0m\u001b[0m\n\u001b[0m\u001b[1;32m    139\u001b[0m     \u001b[0mcondition\u001b[0m \u001b[0;34m=\u001b[0m \u001b[0;32mFalse\u001b[0m\u001b[0;34m\u001b[0m\u001b[0;34m\u001b[0m\u001b[0m\n\u001b[1;32m    140\u001b[0m     \u001b[0;32mfor\u001b[0m \u001b[0mfv\u001b[0m \u001b[0;32min\u001b[0m \u001b[0mencoded_fill_values\u001b[0m\u001b[0;34m:\u001b[0m\u001b[0;34m\u001b[0m\u001b[0;34m\u001b[0m\u001b[0m\n",
      "\u001b[0;32m~/miniconda3/lib/python3.7/site-packages/numpy/core/_asarray.py\u001b[0m in \u001b[0;36masarray\u001b[0;34m(a, dtype, order)\u001b[0m\n\u001b[1;32m     81\u001b[0m \u001b[0;34m\u001b[0m\u001b[0m\n\u001b[1;32m     82\u001b[0m     \"\"\"\n\u001b[0;32m---> 83\u001b[0;31m     \u001b[0;32mreturn\u001b[0m \u001b[0marray\u001b[0m\u001b[0;34m(\u001b[0m\u001b[0ma\u001b[0m\u001b[0;34m,\u001b[0m \u001b[0mdtype\u001b[0m\u001b[0;34m,\u001b[0m \u001b[0mcopy\u001b[0m\u001b[0;34m=\u001b[0m\u001b[0;32mFalse\u001b[0m\u001b[0;34m,\u001b[0m \u001b[0morder\u001b[0m\u001b[0;34m=\u001b[0m\u001b[0morder\u001b[0m\u001b[0;34m)\u001b[0m\u001b[0;34m\u001b[0m\u001b[0;34m\u001b[0m\u001b[0m\n\u001b[0m\u001b[1;32m     84\u001b[0m \u001b[0;34m\u001b[0m\u001b[0m\n\u001b[1;32m     85\u001b[0m \u001b[0;34m\u001b[0m\u001b[0m\n",
      "\u001b[0;32m~/miniconda3/lib/python3.7/site-packages/xarray/core/indexing.py\u001b[0m in \u001b[0;36m__array__\u001b[0;34m(self, dtype)\u001b[0m\n\u001b[1;32m    555\u001b[0m     \u001b[0;32mdef\u001b[0m \u001b[0m__array__\u001b[0m\u001b[0;34m(\u001b[0m\u001b[0mself\u001b[0m\u001b[0;34m,\u001b[0m \u001b[0mdtype\u001b[0m\u001b[0;34m=\u001b[0m\u001b[0;32mNone\u001b[0m\u001b[0;34m)\u001b[0m\u001b[0;34m:\u001b[0m\u001b[0;34m\u001b[0m\u001b[0;34m\u001b[0m\u001b[0m\n\u001b[1;32m    556\u001b[0m         \u001b[0marray\u001b[0m \u001b[0;34m=\u001b[0m \u001b[0mas_indexable\u001b[0m\u001b[0;34m(\u001b[0m\u001b[0mself\u001b[0m\u001b[0;34m.\u001b[0m\u001b[0marray\u001b[0m\u001b[0;34m)\u001b[0m\u001b[0;34m\u001b[0m\u001b[0;34m\u001b[0m\u001b[0m\n\u001b[0;32m--> 557\u001b[0;31m         \u001b[0;32mreturn\u001b[0m \u001b[0mnp\u001b[0m\u001b[0;34m.\u001b[0m\u001b[0masarray\u001b[0m\u001b[0;34m(\u001b[0m\u001b[0marray\u001b[0m\u001b[0;34m[\u001b[0m\u001b[0mself\u001b[0m\u001b[0;34m.\u001b[0m\u001b[0mkey\u001b[0m\u001b[0;34m]\u001b[0m\u001b[0;34m,\u001b[0m \u001b[0mdtype\u001b[0m\u001b[0;34m=\u001b[0m\u001b[0;32mNone\u001b[0m\u001b[0;34m)\u001b[0m\u001b[0;34m\u001b[0m\u001b[0;34m\u001b[0m\u001b[0m\n\u001b[0m\u001b[1;32m    558\u001b[0m \u001b[0;34m\u001b[0m\u001b[0m\n\u001b[1;32m    559\u001b[0m     \u001b[0;32mdef\u001b[0m \u001b[0mtranspose\u001b[0m\u001b[0;34m(\u001b[0m\u001b[0mself\u001b[0m\u001b[0;34m,\u001b[0m \u001b[0morder\u001b[0m\u001b[0;34m)\u001b[0m\u001b[0;34m:\u001b[0m\u001b[0;34m\u001b[0m\u001b[0;34m\u001b[0m\u001b[0m\n",
      "\u001b[0;32m~/miniconda3/lib/python3.7/site-packages/xarray/backends/zarr.py\u001b[0m in \u001b[0;36m__getitem__\u001b[0;34m(self, key)\u001b[0m\n\u001b[1;32m     54\u001b[0m         \u001b[0marray\u001b[0m \u001b[0;34m=\u001b[0m \u001b[0mself\u001b[0m\u001b[0;34m.\u001b[0m\u001b[0mget_array\u001b[0m\u001b[0;34m(\u001b[0m\u001b[0;34m)\u001b[0m\u001b[0;34m\u001b[0m\u001b[0;34m\u001b[0m\u001b[0m\n\u001b[1;32m     55\u001b[0m         \u001b[0;32mif\u001b[0m \u001b[0misinstance\u001b[0m\u001b[0;34m(\u001b[0m\u001b[0mkey\u001b[0m\u001b[0;34m,\u001b[0m \u001b[0mindexing\u001b[0m\u001b[0;34m.\u001b[0m\u001b[0mBasicIndexer\u001b[0m\u001b[0;34m)\u001b[0m\u001b[0;34m:\u001b[0m\u001b[0;34m\u001b[0m\u001b[0;34m\u001b[0m\u001b[0m\n\u001b[0;32m---> 56\u001b[0;31m             \u001b[0;32mreturn\u001b[0m \u001b[0marray\u001b[0m\u001b[0;34m[\u001b[0m\u001b[0mkey\u001b[0m\u001b[0;34m.\u001b[0m\u001b[0mtuple\u001b[0m\u001b[0;34m]\u001b[0m\u001b[0;34m\u001b[0m\u001b[0;34m\u001b[0m\u001b[0m\n\u001b[0m\u001b[1;32m     57\u001b[0m         \u001b[0;32melif\u001b[0m \u001b[0misinstance\u001b[0m\u001b[0;34m(\u001b[0m\u001b[0mkey\u001b[0m\u001b[0;34m,\u001b[0m \u001b[0mindexing\u001b[0m\u001b[0;34m.\u001b[0m\u001b[0mVectorizedIndexer\u001b[0m\u001b[0;34m)\u001b[0m\u001b[0;34m:\u001b[0m\u001b[0;34m\u001b[0m\u001b[0;34m\u001b[0m\u001b[0m\n\u001b[1;32m     58\u001b[0m             return array.vindex[\n",
      "\u001b[0;32m~/miniconda3/lib/python3.7/site-packages/zarr/core.py\u001b[0m in \u001b[0;36m__getitem__\u001b[0;34m(self, selection)\u001b[0m\n\u001b[1;32m    570\u001b[0m \u001b[0;34m\u001b[0m\u001b[0m\n\u001b[1;32m    571\u001b[0m         \u001b[0mfields\u001b[0m\u001b[0;34m,\u001b[0m \u001b[0mselection\u001b[0m \u001b[0;34m=\u001b[0m \u001b[0mpop_fields\u001b[0m\u001b[0;34m(\u001b[0m\u001b[0mselection\u001b[0m\u001b[0;34m)\u001b[0m\u001b[0;34m\u001b[0m\u001b[0;34m\u001b[0m\u001b[0m\n\u001b[0;32m--> 572\u001b[0;31m         \u001b[0;32mreturn\u001b[0m \u001b[0mself\u001b[0m\u001b[0;34m.\u001b[0m\u001b[0mget_basic_selection\u001b[0m\u001b[0;34m(\u001b[0m\u001b[0mselection\u001b[0m\u001b[0;34m,\u001b[0m \u001b[0mfields\u001b[0m\u001b[0;34m=\u001b[0m\u001b[0mfields\u001b[0m\u001b[0;34m)\u001b[0m\u001b[0;34m\u001b[0m\u001b[0;34m\u001b[0m\u001b[0m\n\u001b[0m\u001b[1;32m    573\u001b[0m \u001b[0;34m\u001b[0m\u001b[0m\n\u001b[1;32m    574\u001b[0m     \u001b[0;32mdef\u001b[0m \u001b[0mget_basic_selection\u001b[0m\u001b[0;34m(\u001b[0m\u001b[0mself\u001b[0m\u001b[0;34m,\u001b[0m \u001b[0mselection\u001b[0m\u001b[0;34m=\u001b[0m\u001b[0mEllipsis\u001b[0m\u001b[0;34m,\u001b[0m \u001b[0mout\u001b[0m\u001b[0;34m=\u001b[0m\u001b[0;32mNone\u001b[0m\u001b[0;34m,\u001b[0m \u001b[0mfields\u001b[0m\u001b[0;34m=\u001b[0m\u001b[0;32mNone\u001b[0m\u001b[0;34m)\u001b[0m\u001b[0;34m:\u001b[0m\u001b[0;34m\u001b[0m\u001b[0;34m\u001b[0m\u001b[0m\n",
      "\u001b[0;32m~/miniconda3/lib/python3.7/site-packages/zarr/core.py\u001b[0m in \u001b[0;36mget_basic_selection\u001b[0;34m(self, selection, out, fields)\u001b[0m\n\u001b[1;32m    696\u001b[0m         \u001b[0;32melse\u001b[0m\u001b[0;34m:\u001b[0m\u001b[0;34m\u001b[0m\u001b[0;34m\u001b[0m\u001b[0m\n\u001b[1;32m    697\u001b[0m             return self._get_basic_selection_nd(selection=selection, out=out,\n\u001b[0;32m--> 698\u001b[0;31m                                                 fields=fields)\n\u001b[0m\u001b[1;32m    699\u001b[0m \u001b[0;34m\u001b[0m\u001b[0m\n\u001b[1;32m    700\u001b[0m     \u001b[0;32mdef\u001b[0m \u001b[0m_get_basic_selection_zd\u001b[0m\u001b[0;34m(\u001b[0m\u001b[0mself\u001b[0m\u001b[0;34m,\u001b[0m \u001b[0mselection\u001b[0m\u001b[0;34m,\u001b[0m \u001b[0mout\u001b[0m\u001b[0;34m=\u001b[0m\u001b[0;32mNone\u001b[0m\u001b[0;34m,\u001b[0m \u001b[0mfields\u001b[0m\u001b[0;34m=\u001b[0m\u001b[0;32mNone\u001b[0m\u001b[0;34m)\u001b[0m\u001b[0;34m:\u001b[0m\u001b[0;34m\u001b[0m\u001b[0;34m\u001b[0m\u001b[0m\n",
      "\u001b[0;32m~/miniconda3/lib/python3.7/site-packages/zarr/core.py\u001b[0m in \u001b[0;36m_get_basic_selection_nd\u001b[0;34m(self, selection, out, fields)\u001b[0m\n\u001b[1;32m    738\u001b[0m         \u001b[0mindexer\u001b[0m \u001b[0;34m=\u001b[0m \u001b[0mBasicIndexer\u001b[0m\u001b[0;34m(\u001b[0m\u001b[0mselection\u001b[0m\u001b[0;34m,\u001b[0m \u001b[0mself\u001b[0m\u001b[0;34m)\u001b[0m\u001b[0;34m\u001b[0m\u001b[0;34m\u001b[0m\u001b[0m\n\u001b[1;32m    739\u001b[0m \u001b[0;34m\u001b[0m\u001b[0m\n\u001b[0;32m--> 740\u001b[0;31m         \u001b[0;32mreturn\u001b[0m \u001b[0mself\u001b[0m\u001b[0;34m.\u001b[0m\u001b[0m_get_selection\u001b[0m\u001b[0;34m(\u001b[0m\u001b[0mindexer\u001b[0m\u001b[0;34m=\u001b[0m\u001b[0mindexer\u001b[0m\u001b[0;34m,\u001b[0m \u001b[0mout\u001b[0m\u001b[0;34m=\u001b[0m\u001b[0mout\u001b[0m\u001b[0;34m,\u001b[0m \u001b[0mfields\u001b[0m\u001b[0;34m=\u001b[0m\u001b[0mfields\u001b[0m\u001b[0;34m)\u001b[0m\u001b[0;34m\u001b[0m\u001b[0;34m\u001b[0m\u001b[0m\n\u001b[0m\u001b[1;32m    741\u001b[0m \u001b[0;34m\u001b[0m\u001b[0m\n\u001b[1;32m    742\u001b[0m     \u001b[0;32mdef\u001b[0m \u001b[0mget_orthogonal_selection\u001b[0m\u001b[0;34m(\u001b[0m\u001b[0mself\u001b[0m\u001b[0;34m,\u001b[0m \u001b[0mselection\u001b[0m\u001b[0;34m,\u001b[0m \u001b[0mout\u001b[0m\u001b[0;34m=\u001b[0m\u001b[0;32mNone\u001b[0m\u001b[0;34m,\u001b[0m \u001b[0mfields\u001b[0m\u001b[0;34m=\u001b[0m\u001b[0;32mNone\u001b[0m\u001b[0;34m)\u001b[0m\u001b[0;34m:\u001b[0m\u001b[0;34m\u001b[0m\u001b[0;34m\u001b[0m\u001b[0m\n",
      "\u001b[0;32m~/miniconda3/lib/python3.7/site-packages/zarr/core.py\u001b[0m in \u001b[0;36m_get_selection\u001b[0;34m(self, indexer, out, fields)\u001b[0m\n\u001b[1;32m   1026\u001b[0m             \u001b[0;31m# load chunk selection into output array\u001b[0m\u001b[0;34m\u001b[0m\u001b[0;34m\u001b[0m\u001b[0;34m\u001b[0m\u001b[0m\n\u001b[1;32m   1027\u001b[0m             self._chunk_getitem(chunk_coords, chunk_selection, out, out_selection,\n\u001b[0;32m-> 1028\u001b[0;31m                                 drop_axes=indexer.drop_axes, fields=fields)\n\u001b[0m\u001b[1;32m   1029\u001b[0m \u001b[0;34m\u001b[0m\u001b[0m\n\u001b[1;32m   1030\u001b[0m         \u001b[0;32mif\u001b[0m \u001b[0mout\u001b[0m\u001b[0;34m.\u001b[0m\u001b[0mshape\u001b[0m\u001b[0;34m:\u001b[0m\u001b[0;34m\u001b[0m\u001b[0;34m\u001b[0m\u001b[0m\n",
      "\u001b[0;32m~/miniconda3/lib/python3.7/site-packages/zarr/core.py\u001b[0m in \u001b[0;36m_chunk_getitem\u001b[0;34m(self, chunk_coords, chunk_selection, out, out_selection, drop_axes, fields)\u001b[0m\n\u001b[1;32m   1619\u001b[0m \u001b[0;34m\u001b[0m\u001b[0m\n\u001b[1;32m   1620\u001b[0m                     \u001b[0;32mif\u001b[0m \u001b[0mself\u001b[0m\u001b[0;34m.\u001b[0m\u001b[0m_compressor\u001b[0m\u001b[0;34m:\u001b[0m\u001b[0;34m\u001b[0m\u001b[0;34m\u001b[0m\u001b[0m\n\u001b[0;32m-> 1621\u001b[0;31m                         \u001b[0mself\u001b[0m\u001b[0;34m.\u001b[0m\u001b[0m_compressor\u001b[0m\u001b[0;34m.\u001b[0m\u001b[0mdecode\u001b[0m\u001b[0;34m(\u001b[0m\u001b[0mcdata\u001b[0m\u001b[0;34m,\u001b[0m \u001b[0mdest\u001b[0m\u001b[0;34m)\u001b[0m\u001b[0;34m\u001b[0m\u001b[0;34m\u001b[0m\u001b[0m\n\u001b[0m\u001b[1;32m   1622\u001b[0m                     \u001b[0;32melse\u001b[0m\u001b[0;34m:\u001b[0m\u001b[0;34m\u001b[0m\u001b[0;34m\u001b[0m\u001b[0m\n\u001b[1;32m   1623\u001b[0m                         \u001b[0mchunk\u001b[0m \u001b[0;34m=\u001b[0m \u001b[0mensure_ndarray\u001b[0m\u001b[0;34m(\u001b[0m\u001b[0mcdata\u001b[0m\u001b[0;34m)\u001b[0m\u001b[0;34m.\u001b[0m\u001b[0mview\u001b[0m\u001b[0;34m(\u001b[0m\u001b[0mself\u001b[0m\u001b[0;34m.\u001b[0m\u001b[0m_dtype\u001b[0m\u001b[0;34m)\u001b[0m\u001b[0;34m\u001b[0m\u001b[0;34m\u001b[0m\u001b[0m\n",
      "\u001b[0;32mnumcodecs/blosc.pyx\u001b[0m in \u001b[0;36mnumcodecs.blosc.Blosc.decode\u001b[0;34m()\u001b[0m\n",
      "\u001b[0;32mnumcodecs/blosc.pyx\u001b[0m in \u001b[0;36mnumcodecs.blosc.decompress\u001b[0;34m()\u001b[0m\n",
      "\u001b[0;31mValueError\u001b[0m: destination buffer too small; expected at least 838080, got 419040"
     ]
    }
   ],
   "source": [
    "fgco2_cmip6=gs_stores.loc[(gs_stores.variable_id=='fgco2')&(gs_stores.table_id=='Omon')&(gs_stores.grid_label=='gn')&(gs_stores.isme.isin(nbp_cmip6.isme))]\n",
    "\n",
    "fgco2_data = []\n",
    "\n",
    "for index,row in fgco2_cmip6.loc[237786:].iterrows():\n",
    "    fgco2_data += [get_annual_CMIP6_data_gstore_fgco2(row.loc['activity_id'], row.loc['table_id'], row.loc['variable_id'], row.loc['experiment_id'], row.loc['institution_id'], row.loc['source_id'], row.loc['member_id'])]"
   ]
  },
  {
   "cell_type": "code",
   "execution_count": 162,
   "metadata": {},
   "outputs": [],
   "source": [
    "activity, table, variable, experiment, institution, source, member = row.loc['activity_id'], row.loc['table_id'], row.loc['variable_id'], row.loc['experiment_id'], row.loc['institution_id'], row.loc['source_id'], row.loc['member_id']\n",
    "\n",
    "area_query = gs_stores.query(\"variable_id=='areacello' & source_id==\\'\"+source+\"\\'\")\n",
    "\n",
    "if area_query.empty:\n",
    "    files_area = esgf_search(variable_id='areacello', activity_id=activity, institution_id=institution, source_id=source)\n",
    "    if not files_area:\n",
    "        print('No areacello for this request')\n",
    "#         return None\n",
    "    ds_area = xr.open_dataset(files_area[0])\n",
    "else:\n",
    "    ds_area = xr.open_zarr(gcs.get_mapper(area_query.zstore.values[0]), consolidated=True)\n",
    "\n",
    "query = gs_stores.query(\"activity_id==\\'\"+activity+\"\\' & table_id==\\'\"+table+\"\\' & variable_id==\\'\"+variable+\"\\' & experiment_id==\\'\"+experiment+\"\\' & institution_id==\\'\"+institution+\"\\' & source_id==\\'\"+source+\"\\' & member_id==\\'\"+member+\"\\'\")\n",
    "\n",
    "if query.empty:\n",
    "    print('No results for this request')\n",
    "#     return None\n",
    "\n",
    "# create a mutable-mapping-style interface to the store\n",
    "mapper = gcs.get_mapper(query.zstore.values[0])\n",
    "\n",
    "# open it using xarray and zarr\n",
    "ds = xr.open_zarr(mapper, consolidated=True)\n",
    "\n",
    "if source=='E3SM-1-1' and variable=='tas' and experiment=='piControl':\n",
    "    ds = xr.open_mfdataset(esgf_search(activity_id=activity, table_id=table, variable_id=variable, experiment_id=experiment, institution_id=institution, source_id=source, member_id=member)[7:],combine='by_coords')\n",
    "\n",
    "dims = list(ds[variable].dims)\n",
    "dims.remove('time')\n",
    "\n",
    "total_area = ds_area.areacello.sum(dim=dims)\n",
    "ta_timeseries = (ds[variable] * ds_area.areacello).sum(dim=dims)"
   ]
  },
  {
   "cell_type": "code",
   "execution_count": null,
   "metadata": {},
   "outputs": [],
   "source": [
    "pd.concat(fgco2_data,axis=1).to_csv('./cmip6_data/fgco2.csv')"
   ]
  },
  {
   "cell_type": "code",
   "execution_count": null,
   "metadata": {},
   "outputs": [],
   "source": []
  },
  {
   "cell_type": "code",
   "execution_count": null,
   "metadata": {},
   "outputs": [],
   "source": []
  },
  {
   "cell_type": "code",
   "execution_count": null,
   "metadata": {},
   "outputs": [],
   "source": []
  },
  {
   "cell_type": "code",
   "execution_count": 5,
   "metadata": {},
   "outputs": [],
   "source": [
    "abrupt_4x_ism = gs_stores.loc[(gs_stores.experiment_id=='abrupt-4xCO2')&(gs_stores.variable_id.isin(['tas','rlut','rsdt','rsut']))]\n",
    "abrupt_4x_ism = list(set([x for x in abrupt_4x_ism.ism if abrupt_4x_ism.loc[abrupt_4x_ism.ism==x].shape[0]>=4]))"
   ]
  },
  {
   "cell_type": "code",
   "execution_count": 6,
   "metadata": {},
   "outputs": [],
   "source": [
    "onepct_ism = gs_stores.loc[(gs_stores.experiment_id=='1pctCO2')&(gs_stores.variable_id.isin(['tas','rlut','rsdt','rsut']))]\n",
    "onepct_ism = list(set([x for x in onepct_ism.ism if onepct_ism.loc[onepct_ism.ism==x].shape[0]>=4]))"
   ]
  },
  {
   "cell_type": "code",
   "execution_count": 7,
   "metadata": {},
   "outputs": [],
   "source": [
    "piControl_ism = gs_stores.loc[(gs_stores.experiment_id=='piControl')&(gs_stores.variable_id=='tas')]\n",
    "piControl_ism = list(set(piControl_ism.ism))"
   ]
  },
  {
   "cell_type": "code",
   "execution_count": 8,
   "metadata": {},
   "outputs": [],
   "source": [
    "areacella_s_gs = [x.split('_')[1] for x in list(set(gs_stores.loc[(gs_stores.variable_id=='areacella')].ism))]"
   ]
  },
  {
   "cell_type": "code",
   "execution_count": 9,
   "metadata": {},
   "outputs": [],
   "source": [
    "areacella_list = esgf_search(activity_id='CMIP', variable_id='areacella')\n",
    "areacella_list_nodupl = []\n",
    "\n",
    "for item in areacella_list:\n",
    "    if item.split('/')[-1] in [x.split('/')[-1] for x in areacella_list_nodupl]:\n",
    "        continue\n",
    "    else:\n",
    "        areacella_list_nodupl += [item]\n",
    "    \n",
    "areacella_ism_list = list(set([x.split('/')[8]+'_'+x.split('/')[9]+'_'+x.split('/')[11] for x in areacella_list_nodupl]))\n",
    "areacella_s_esgf = list(set([x.split('_')[1] for x in areacella_ism_list]))"
   ]
  },
  {
   "cell_type": "code",
   "execution_count": 10,
   "metadata": {},
   "outputs": [],
   "source": [
    "areacella_s_all = list(set(areacella_s_gs).union(areacella_s_esgf))"
   ]
  },
  {
   "cell_type": "code",
   "execution_count": 11,
   "metadata": {},
   "outputs": [],
   "source": [
    "abrupt_4x_ism_areacella_exist = [x for x in abrupt_4x_ism if x.split('_')[1] in areacella_s_all]\n",
    "onepct_ism_areacella_exist = [x for x in onepct_ism if x.split('_')[1] in areacella_s_all]\n",
    "piControl_ism_areacella_exist = [x for x in piControl_ism if x.split('_')[1] in areacella_s_all]"
   ]
  },
  {
   "cell_type": "code",
   "execution_count": 12,
   "metadata": {},
   "outputs": [],
   "source": [
    "def get_cmip6_data_gs(ism,var,exp):\n",
    "    print('getting '+ism+' '+var)\n",
    "    ism_split = ism.split('_')\n",
    "    _out = get_annual_CMIP6_data_gstore('CMIP', 'Amon', var, exp, ism_split[0], ism_split[1], ism_split[2])\n",
    "    print('got '+ism)\n",
    "    return _out"
   ]
  },
  {
   "cell_type": "code",
   "execution_count": 13,
   "metadata": {},
   "outputs": [
    {
     "name": "stdout",
     "output_type": "stream",
     "text": [
      "getting CSIRO_ACCESS-ESM1-5_r1i1p1f1 tas\n"
     ]
    },
    {
     "name": "stderr",
     "output_type": "stream",
     "text": [
      "/home/leachl/miniconda3/lib/python3.7/site-packages/xarray/coding/times.py:427: SerializationWarning: Unable to decode time axis into full numpy.datetime64 objects, continuing using cftime.datetime objects instead, reason: dates out of range\n",
      "  dtype = _decode_cf_datetime_dtype(data, units, calendar, self.use_cftime)\n",
      "/home/leachl/miniconda3/lib/python3.7/site-packages/numpy/core/_asarray.py:83: SerializationWarning: Unable to decode time axis into full numpy.datetime64 objects, continuing using cftime.datetime objects instead, reason: dates out of range\n",
      "  return array(a, dtype, copy=False, order=order)\n"
     ]
    },
    {
     "name": "stdout",
     "output_type": "stream",
     "text": [
      "got CSIRO_ACCESS-ESM1-5_r1i1p1f1\n",
      "getting MOHC_HadGEM3-GC31-LL_r3i1p1f3 tas\n",
      "got MOHC_HadGEM3-GC31-LL_r3i1p1f3\n",
      "getting CCCma_CanESM5_r2i1p1f1 tas\n",
      "got CCCma_CanESM5_r2i1p1f1\n",
      "getting MOHC_HadGEM3-GC31-LL_r4i1p1f3 tas\n",
      "got MOHC_HadGEM3-GC31-LL_r4i1p1f3\n",
      "getting NOAA-GFDL_GFDL-CM4_r1i1p1f1 tas\n",
      "got NOAA-GFDL_GFDL-CM4_r1i1p1f1\n",
      "getting MIROC_MIROC-ES2L_r1i1p1f2 tas\n",
      "got MIROC_MIROC-ES2L_r1i1p1f2\n",
      "getting MOHC_UKESM1-0-LL_r1i1p1f2 tas\n",
      "got MOHC_UKESM1-0-LL_r1i1p1f2\n",
      "getting NCC_NorCPM1_r1i1p1f1 tas\n",
      "got NCC_NorCPM1_r1i1p1f1\n",
      "getting NCC_NorESM2-LM_r1i1p1f1 tas\n",
      "got NCC_NorESM2-LM_r1i1p1f1\n",
      "getting CCCma_CanESM5_r2i1p2f1 tas\n",
      "got CCCma_CanESM5_r2i1p2f1\n",
      "getting CAMS_CAMS-CSM1-0_r2i1p1f1 tas\n",
      "got CAMS_CAMS-CSM1-0_r2i1p1f1\n",
      "getting MIROC_MIROC6_r1i1p1f1 tas\n"
     ]
    },
    {
     "name": "stderr",
     "output_type": "stream",
     "text": [
      "/home/leachl/miniconda3/lib/python3.7/site-packages/xarray/coding/times.py:427: SerializationWarning: Unable to decode time axis into full numpy.datetime64 objects, continuing using cftime.datetime objects instead, reason: dates out of range\n",
      "  dtype = _decode_cf_datetime_dtype(data, units, calendar, self.use_cftime)\n",
      "/home/leachl/miniconda3/lib/python3.7/site-packages/numpy/core/_asarray.py:83: SerializationWarning: Unable to decode time axis into full numpy.datetime64 objects, continuing using cftime.datetime objects instead, reason: dates out of range\n",
      "  return array(a, dtype, copy=False, order=order)\n"
     ]
    },
    {
     "name": "stdout",
     "output_type": "stream",
     "text": [
      "got MIROC_MIROC6_r1i1p1f1\n",
      "getting MOHC_HadGEM3-GC31-LL_r2i1p1f3 tas\n",
      "got MOHC_HadGEM3-GC31-LL_r2i1p1f3\n",
      "getting CSIRO-ARCCSS_ACCESS-CM2_r1i1p1f1 tas\n"
     ]
    },
    {
     "name": "stderr",
     "output_type": "stream",
     "text": [
      "/home/leachl/miniconda3/lib/python3.7/site-packages/xarray/coding/times.py:427: SerializationWarning: Unable to decode time axis into full numpy.datetime64 objects, continuing using cftime.datetime objects instead, reason: dates out of range\n",
      "  dtype = _decode_cf_datetime_dtype(data, units, calendar, self.use_cftime)\n",
      "/home/leachl/miniconda3/lib/python3.7/site-packages/numpy/core/_asarray.py:83: SerializationWarning: Unable to decode time axis into full numpy.datetime64 objects, continuing using cftime.datetime objects instead, reason: dates out of range\n",
      "  return array(a, dtype, copy=False, order=order)\n"
     ]
    },
    {
     "name": "stdout",
     "output_type": "stream",
     "text": [
      "got CSIRO-ARCCSS_ACCESS-CM2_r1i1p1f1\n",
      "getting IPSL_IPSL-CM6A-LR_r1i1p1f1 tas\n",
      "got IPSL_IPSL-CM6A-LR_r1i1p1f1\n",
      "getting MOHC_UKESM1-0-LL_r2i1p1f2 tas\n",
      "got MOHC_UKESM1-0-LL_r2i1p1f2\n",
      "getting CNRM-CERFACS_CNRM-CM6-1_r1i1p1f2 tas\n",
      "got CNRM-CERFACS_CNRM-CM6-1_r1i1p1f2\n",
      "getting MRI_MRI-ESM2-0_r1i2p1f1 tas\n",
      "got MRI_MRI-ESM2-0_r1i2p1f1\n",
      "getting CCCma_CanESM5_r1i1p2f1 tas\n",
      "got CCCma_CanESM5_r1i1p2f1\n",
      "getting MOHC_HadGEM3-GC31-LL_r1i1p1f3 tas\n",
      "got MOHC_HadGEM3-GC31-LL_r1i1p1f3\n",
      "getting MOHC_UKESM1-0-LL_r3i1p1f2 tas\n",
      "got MOHC_UKESM1-0-LL_r3i1p1f2\n",
      "getting MRI_MRI-ESM2-0_r1i1p1f1 tas\n",
      "got MRI_MRI-ESM2-0_r1i1p1f1\n",
      "getting CCCma_CanESM5_r3i1p1f1 tas\n",
      "got CCCma_CanESM5_r3i1p1f1\n",
      "getting NASA-GISS_GISS-E2-1-H_r1i1p1f1 tas\n",
      "got NASA-GISS_GISS-E2-1-H_r1i1p1f1\n",
      "getting INM_INM-CM4-8_r1i1p1f1 tas\n",
      "got INM_INM-CM4-8_r1i1p1f1\n",
      "getting CNRM-CERFACS_CNRM-ESM2-1_r4i1p1f2 tas\n",
      "got CNRM-CERFACS_CNRM-ESM2-1_r4i1p1f2\n",
      "getting CCCma_CanESM5_r3i1p2f1 tas\n",
      "got CCCma_CanESM5_r3i1p2f1\n",
      "getting NCAR_CESM2-WACCM_r1i1p1f1 tas\n",
      "got NCAR_CESM2-WACCM_r1i1p1f1\n",
      "getting CNRM-CERFACS_CNRM-ESM2-1_r3i1p1f2 tas\n",
      "got CNRM-CERFACS_CNRM-ESM2-1_r3i1p1f2\n",
      "getting NASA-GISS_GISS-E2-1-G_r102i1p1f1 tas\n",
      "got NASA-GISS_GISS-E2-1-G_r102i1p1f1\n",
      "getting MOHC_UKESM1-0-LL_r4i1p1f2 tas\n",
      "got MOHC_UKESM1-0-LL_r4i1p1f2\n",
      "getting E3SM-Project_E3SM-1-0_r1i1p1f1 tas\n",
      "got E3SM-Project_E3SM-1-0_r1i1p1f1\n",
      "getting CCCma_CanESM5_r1i1p1f1 tas\n",
      "got CCCma_CanESM5_r1i1p1f1\n",
      "getting BCC_BCC-ESM1_r1i1p1f1 tas\n",
      "got BCC_BCC-ESM1_r1i1p1f1\n",
      "getting NASA-GISS_GISS-E2-1-G_r101i1p1f1 tas\n",
      "got NASA-GISS_GISS-E2-1-G_r101i1p1f1\n",
      "getting NASA-GISS_GISS-E2-1-G_r1i1p3f1 tas\n",
      "got NASA-GISS_GISS-E2-1-G_r1i1p3f1\n",
      "getting MPI-M_MPI-ESM1-2-HR_r1i1p1f1 tas\n",
      "got MPI-M_MPI-ESM1-2-HR_r1i1p1f1\n",
      "getting CNRM-CERFACS_CNRM-ESM2-1_r2i1p1f2 tas\n",
      "got CNRM-CERFACS_CNRM-ESM2-1_r2i1p1f2\n",
      "getting MPI-M_MPI-ESM1-2-LR_r1i1p1f1 tas\n",
      "got MPI-M_MPI-ESM1-2-LR_r1i1p1f1\n",
      "getting NASA-GISS_GISS-E2-1-G_r1i1p1f1 tas\n",
      "got NASA-GISS_GISS-E2-1-G_r1i1p1f1\n",
      "getting CAMS_CAMS-CSM1-0_r1i1p1f1 tas\n",
      "got CAMS_CAMS-CSM1-0_r1i1p1f1\n",
      "getting SNU_SAM0-UNICON_r1i1p1f1 tas\n",
      "got SNU_SAM0-UNICON_r1i1p1f1\n",
      "getting NCAR_CESM2_r1i1p1f1 tas\n",
      "got NCAR_CESM2_r1i1p1f1\n",
      "getting CNRM-CERFACS_CNRM-ESM2-1_r1i1p1f2 tas\n",
      "got CNRM-CERFACS_CNRM-ESM2-1_r1i1p1f2\n",
      "getting CSIRO_ACCESS-ESM1-5_r1i1p1f1 rlut\n"
     ]
    },
    {
     "name": "stderr",
     "output_type": "stream",
     "text": [
      "/home/leachl/miniconda3/lib/python3.7/site-packages/xarray/coding/times.py:427: SerializationWarning: Unable to decode time axis into full numpy.datetime64 objects, continuing using cftime.datetime objects instead, reason: dates out of range\n",
      "  dtype = _decode_cf_datetime_dtype(data, units, calendar, self.use_cftime)\n",
      "/home/leachl/miniconda3/lib/python3.7/site-packages/numpy/core/_asarray.py:83: SerializationWarning: Unable to decode time axis into full numpy.datetime64 objects, continuing using cftime.datetime objects instead, reason: dates out of range\n",
      "  return array(a, dtype, copy=False, order=order)\n"
     ]
    },
    {
     "name": "stdout",
     "output_type": "stream",
     "text": [
      "got CSIRO_ACCESS-ESM1-5_r1i1p1f1\n",
      "getting MOHC_HadGEM3-GC31-LL_r3i1p1f3 rlut\n",
      "got MOHC_HadGEM3-GC31-LL_r3i1p1f3\n",
      "getting CCCma_CanESM5_r2i1p1f1 rlut\n",
      "got CCCma_CanESM5_r2i1p1f1\n",
      "getting MOHC_HadGEM3-GC31-LL_r4i1p1f3 rlut\n",
      "got MOHC_HadGEM3-GC31-LL_r4i1p1f3\n",
      "getting NOAA-GFDL_GFDL-CM4_r1i1p1f1 rlut\n",
      "got NOAA-GFDL_GFDL-CM4_r1i1p1f1\n",
      "getting MIROC_MIROC-ES2L_r1i1p1f2 rlut\n",
      "got MIROC_MIROC-ES2L_r1i1p1f2\n",
      "getting MOHC_UKESM1-0-LL_r1i1p1f2 rlut\n",
      "got MOHC_UKESM1-0-LL_r1i1p1f2\n",
      "getting NCC_NorCPM1_r1i1p1f1 rlut\n",
      "got NCC_NorCPM1_r1i1p1f1\n",
      "getting NCC_NorESM2-LM_r1i1p1f1 rlut\n",
      "got NCC_NorESM2-LM_r1i1p1f1\n",
      "getting CCCma_CanESM5_r2i1p2f1 rlut\n",
      "got CCCma_CanESM5_r2i1p2f1\n",
      "getting CAMS_CAMS-CSM1-0_r2i1p1f1 rlut\n",
      "got CAMS_CAMS-CSM1-0_r2i1p1f1\n",
      "getting MIROC_MIROC6_r1i1p1f1 rlut\n"
     ]
    },
    {
     "name": "stderr",
     "output_type": "stream",
     "text": [
      "/home/leachl/miniconda3/lib/python3.7/site-packages/xarray/coding/times.py:427: SerializationWarning: Unable to decode time axis into full numpy.datetime64 objects, continuing using cftime.datetime objects instead, reason: dates out of range\n",
      "  dtype = _decode_cf_datetime_dtype(data, units, calendar, self.use_cftime)\n",
      "/home/leachl/miniconda3/lib/python3.7/site-packages/numpy/core/_asarray.py:83: SerializationWarning: Unable to decode time axis into full numpy.datetime64 objects, continuing using cftime.datetime objects instead, reason: dates out of range\n",
      "  return array(a, dtype, copy=False, order=order)\n"
     ]
    },
    {
     "name": "stdout",
     "output_type": "stream",
     "text": [
      "got MIROC_MIROC6_r1i1p1f1\n",
      "getting MOHC_HadGEM3-GC31-LL_r2i1p1f3 rlut\n",
      "got MOHC_HadGEM3-GC31-LL_r2i1p1f3\n",
      "getting CSIRO-ARCCSS_ACCESS-CM2_r1i1p1f1 rlut\n"
     ]
    },
    {
     "name": "stderr",
     "output_type": "stream",
     "text": [
      "/home/leachl/miniconda3/lib/python3.7/site-packages/xarray/coding/times.py:427: SerializationWarning: Unable to decode time axis into full numpy.datetime64 objects, continuing using cftime.datetime objects instead, reason: dates out of range\n",
      "  dtype = _decode_cf_datetime_dtype(data, units, calendar, self.use_cftime)\n",
      "/home/leachl/miniconda3/lib/python3.7/site-packages/numpy/core/_asarray.py:83: SerializationWarning: Unable to decode time axis into full numpy.datetime64 objects, continuing using cftime.datetime objects instead, reason: dates out of range\n",
      "  return array(a, dtype, copy=False, order=order)\n"
     ]
    },
    {
     "name": "stdout",
     "output_type": "stream",
     "text": [
      "got CSIRO-ARCCSS_ACCESS-CM2_r1i1p1f1\n",
      "getting IPSL_IPSL-CM6A-LR_r1i1p1f1 rlut\n",
      "got IPSL_IPSL-CM6A-LR_r1i1p1f1\n",
      "getting MOHC_UKESM1-0-LL_r2i1p1f2 rlut\n",
      "got MOHC_UKESM1-0-LL_r2i1p1f2\n",
      "getting CNRM-CERFACS_CNRM-CM6-1_r1i1p1f2 rlut\n",
      "got CNRM-CERFACS_CNRM-CM6-1_r1i1p1f2\n",
      "getting MRI_MRI-ESM2-0_r1i2p1f1 rlut\n",
      "got MRI_MRI-ESM2-0_r1i2p1f1\n",
      "getting CCCma_CanESM5_r1i1p2f1 rlut\n",
      "got CCCma_CanESM5_r1i1p2f1\n",
      "getting MOHC_HadGEM3-GC31-LL_r1i1p1f3 rlut\n",
      "got MOHC_HadGEM3-GC31-LL_r1i1p1f3\n",
      "getting MOHC_UKESM1-0-LL_r3i1p1f2 rlut\n",
      "got MOHC_UKESM1-0-LL_r3i1p1f2\n",
      "getting MRI_MRI-ESM2-0_r1i1p1f1 rlut\n",
      "got MRI_MRI-ESM2-0_r1i1p1f1\n",
      "getting CCCma_CanESM5_r3i1p1f1 rlut\n",
      "got CCCma_CanESM5_r3i1p1f1\n",
      "getting NASA-GISS_GISS-E2-1-H_r1i1p1f1 rlut\n",
      "got NASA-GISS_GISS-E2-1-H_r1i1p1f1\n",
      "getting INM_INM-CM4-8_r1i1p1f1 rlut\n",
      "got INM_INM-CM4-8_r1i1p1f1\n",
      "getting CNRM-CERFACS_CNRM-ESM2-1_r4i1p1f2 rlut\n",
      "got CNRM-CERFACS_CNRM-ESM2-1_r4i1p1f2\n",
      "getting CCCma_CanESM5_r3i1p2f1 rlut\n",
      "got CCCma_CanESM5_r3i1p2f1\n",
      "getting NCAR_CESM2-WACCM_r1i1p1f1 rlut\n",
      "got NCAR_CESM2-WACCM_r1i1p1f1\n",
      "getting CNRM-CERFACS_CNRM-ESM2-1_r3i1p1f2 rlut\n",
      "got CNRM-CERFACS_CNRM-ESM2-1_r3i1p1f2\n",
      "getting NASA-GISS_GISS-E2-1-G_r102i1p1f1 rlut\n",
      "got NASA-GISS_GISS-E2-1-G_r102i1p1f1\n",
      "getting MOHC_UKESM1-0-LL_r4i1p1f2 rlut\n",
      "got MOHC_UKESM1-0-LL_r4i1p1f2\n",
      "getting E3SM-Project_E3SM-1-0_r1i1p1f1 rlut\n",
      "got E3SM-Project_E3SM-1-0_r1i1p1f1\n",
      "getting CCCma_CanESM5_r1i1p1f1 rlut\n",
      "got CCCma_CanESM5_r1i1p1f1\n",
      "getting BCC_BCC-ESM1_r1i1p1f1 rlut\n",
      "got BCC_BCC-ESM1_r1i1p1f1\n",
      "getting NASA-GISS_GISS-E2-1-G_r101i1p1f1 rlut\n",
      "got NASA-GISS_GISS-E2-1-G_r101i1p1f1\n",
      "getting NASA-GISS_GISS-E2-1-G_r1i1p3f1 rlut\n",
      "got NASA-GISS_GISS-E2-1-G_r1i1p3f1\n",
      "getting MPI-M_MPI-ESM1-2-HR_r1i1p1f1 rlut\n",
      "got MPI-M_MPI-ESM1-2-HR_r1i1p1f1\n",
      "getting CNRM-CERFACS_CNRM-ESM2-1_r2i1p1f2 rlut\n",
      "got CNRM-CERFACS_CNRM-ESM2-1_r2i1p1f2\n",
      "getting MPI-M_MPI-ESM1-2-LR_r1i1p1f1 rlut\n",
      "got MPI-M_MPI-ESM1-2-LR_r1i1p1f1\n",
      "getting NASA-GISS_GISS-E2-1-G_r1i1p1f1 rlut\n",
      "got NASA-GISS_GISS-E2-1-G_r1i1p1f1\n",
      "getting CAMS_CAMS-CSM1-0_r1i1p1f1 rlut\n",
      "got CAMS_CAMS-CSM1-0_r1i1p1f1\n",
      "getting SNU_SAM0-UNICON_r1i1p1f1 rlut\n",
      "got SNU_SAM0-UNICON_r1i1p1f1\n",
      "getting NCAR_CESM2_r1i1p1f1 rlut\n",
      "got NCAR_CESM2_r1i1p1f1\n",
      "getting CNRM-CERFACS_CNRM-ESM2-1_r1i1p1f2 rlut\n",
      "got CNRM-CERFACS_CNRM-ESM2-1_r1i1p1f2\n",
      "getting CSIRO_ACCESS-ESM1-5_r1i1p1f1 rsut\n"
     ]
    },
    {
     "name": "stderr",
     "output_type": "stream",
     "text": [
      "/home/leachl/miniconda3/lib/python3.7/site-packages/xarray/coding/times.py:427: SerializationWarning: Unable to decode time axis into full numpy.datetime64 objects, continuing using cftime.datetime objects instead, reason: dates out of range\n",
      "  dtype = _decode_cf_datetime_dtype(data, units, calendar, self.use_cftime)\n",
      "/home/leachl/miniconda3/lib/python3.7/site-packages/numpy/core/_asarray.py:83: SerializationWarning: Unable to decode time axis into full numpy.datetime64 objects, continuing using cftime.datetime objects instead, reason: dates out of range\n",
      "  return array(a, dtype, copy=False, order=order)\n"
     ]
    },
    {
     "name": "stdout",
     "output_type": "stream",
     "text": [
      "got CSIRO_ACCESS-ESM1-5_r1i1p1f1\n",
      "getting MOHC_HadGEM3-GC31-LL_r3i1p1f3 rsut\n",
      "got MOHC_HadGEM3-GC31-LL_r3i1p1f3\n",
      "getting CCCma_CanESM5_r2i1p1f1 rsut\n",
      "got CCCma_CanESM5_r2i1p1f1\n",
      "getting MOHC_HadGEM3-GC31-LL_r4i1p1f3 rsut\n",
      "got MOHC_HadGEM3-GC31-LL_r4i1p1f3\n",
      "getting NOAA-GFDL_GFDL-CM4_r1i1p1f1 rsut\n",
      "got NOAA-GFDL_GFDL-CM4_r1i1p1f1\n",
      "getting MIROC_MIROC-ES2L_r1i1p1f2 rsut\n",
      "got MIROC_MIROC-ES2L_r1i1p1f2\n",
      "getting MOHC_UKESM1-0-LL_r1i1p1f2 rsut\n",
      "got MOHC_UKESM1-0-LL_r1i1p1f2\n",
      "getting NCC_NorCPM1_r1i1p1f1 rsut\n",
      "got NCC_NorCPM1_r1i1p1f1\n",
      "getting NCC_NorESM2-LM_r1i1p1f1 rsut\n",
      "got NCC_NorESM2-LM_r1i1p1f1\n",
      "getting CCCma_CanESM5_r2i1p2f1 rsut\n",
      "got CCCma_CanESM5_r2i1p2f1\n",
      "getting CAMS_CAMS-CSM1-0_r2i1p1f1 rsut\n",
      "got CAMS_CAMS-CSM1-0_r2i1p1f1\n",
      "getting MIROC_MIROC6_r1i1p1f1 rsut\n"
     ]
    },
    {
     "name": "stderr",
     "output_type": "stream",
     "text": [
      "/home/leachl/miniconda3/lib/python3.7/site-packages/xarray/coding/times.py:427: SerializationWarning: Unable to decode time axis into full numpy.datetime64 objects, continuing using cftime.datetime objects instead, reason: dates out of range\n",
      "  dtype = _decode_cf_datetime_dtype(data, units, calendar, self.use_cftime)\n",
      "/home/leachl/miniconda3/lib/python3.7/site-packages/numpy/core/_asarray.py:83: SerializationWarning: Unable to decode time axis into full numpy.datetime64 objects, continuing using cftime.datetime objects instead, reason: dates out of range\n",
      "  return array(a, dtype, copy=False, order=order)\n"
     ]
    },
    {
     "name": "stdout",
     "output_type": "stream",
     "text": [
      "got MIROC_MIROC6_r1i1p1f1\n",
      "getting MOHC_HadGEM3-GC31-LL_r2i1p1f3 rsut\n",
      "got MOHC_HadGEM3-GC31-LL_r2i1p1f3\n",
      "getting CSIRO-ARCCSS_ACCESS-CM2_r1i1p1f1 rsut\n"
     ]
    },
    {
     "name": "stderr",
     "output_type": "stream",
     "text": [
      "/home/leachl/miniconda3/lib/python3.7/site-packages/xarray/coding/times.py:427: SerializationWarning: Unable to decode time axis into full numpy.datetime64 objects, continuing using cftime.datetime objects instead, reason: dates out of range\n",
      "  dtype = _decode_cf_datetime_dtype(data, units, calendar, self.use_cftime)\n",
      "/home/leachl/miniconda3/lib/python3.7/site-packages/numpy/core/_asarray.py:83: SerializationWarning: Unable to decode time axis into full numpy.datetime64 objects, continuing using cftime.datetime objects instead, reason: dates out of range\n",
      "  return array(a, dtype, copy=False, order=order)\n"
     ]
    },
    {
     "name": "stdout",
     "output_type": "stream",
     "text": [
      "got CSIRO-ARCCSS_ACCESS-CM2_r1i1p1f1\n",
      "getting IPSL_IPSL-CM6A-LR_r1i1p1f1 rsut\n",
      "got IPSL_IPSL-CM6A-LR_r1i1p1f1\n",
      "getting MOHC_UKESM1-0-LL_r2i1p1f2 rsut\n",
      "got MOHC_UKESM1-0-LL_r2i1p1f2\n",
      "getting CNRM-CERFACS_CNRM-CM6-1_r1i1p1f2 rsut\n",
      "got CNRM-CERFACS_CNRM-CM6-1_r1i1p1f2\n",
      "getting MRI_MRI-ESM2-0_r1i2p1f1 rsut\n",
      "got MRI_MRI-ESM2-0_r1i2p1f1\n",
      "getting CCCma_CanESM5_r1i1p2f1 rsut\n",
      "got CCCma_CanESM5_r1i1p2f1\n",
      "getting MOHC_HadGEM3-GC31-LL_r1i1p1f3 rsut\n",
      "got MOHC_HadGEM3-GC31-LL_r1i1p1f3\n",
      "getting MOHC_UKESM1-0-LL_r3i1p1f2 rsut\n",
      "got MOHC_UKESM1-0-LL_r3i1p1f2\n",
      "getting MRI_MRI-ESM2-0_r1i1p1f1 rsut\n",
      "got MRI_MRI-ESM2-0_r1i1p1f1\n",
      "getting CCCma_CanESM5_r3i1p1f1 rsut\n",
      "got CCCma_CanESM5_r3i1p1f1\n",
      "getting NASA-GISS_GISS-E2-1-H_r1i1p1f1 rsut\n",
      "got NASA-GISS_GISS-E2-1-H_r1i1p1f1\n",
      "getting INM_INM-CM4-8_r1i1p1f1 rsut\n",
      "got INM_INM-CM4-8_r1i1p1f1\n",
      "getting CNRM-CERFACS_CNRM-ESM2-1_r4i1p1f2 rsut\n",
      "got CNRM-CERFACS_CNRM-ESM2-1_r4i1p1f2\n",
      "getting CCCma_CanESM5_r3i1p2f1 rsut\n",
      "got CCCma_CanESM5_r3i1p2f1\n",
      "getting NCAR_CESM2-WACCM_r1i1p1f1 rsut\n",
      "got NCAR_CESM2-WACCM_r1i1p1f1\n",
      "getting CNRM-CERFACS_CNRM-ESM2-1_r3i1p1f2 rsut\n",
      "got CNRM-CERFACS_CNRM-ESM2-1_r3i1p1f2\n",
      "getting NASA-GISS_GISS-E2-1-G_r102i1p1f1 rsut\n",
      "got NASA-GISS_GISS-E2-1-G_r102i1p1f1\n",
      "getting MOHC_UKESM1-0-LL_r4i1p1f2 rsut\n",
      "got MOHC_UKESM1-0-LL_r4i1p1f2\n",
      "getting E3SM-Project_E3SM-1-0_r1i1p1f1 rsut\n",
      "got E3SM-Project_E3SM-1-0_r1i1p1f1\n",
      "getting CCCma_CanESM5_r1i1p1f1 rsut\n",
      "got CCCma_CanESM5_r1i1p1f1\n",
      "getting BCC_BCC-ESM1_r1i1p1f1 rsut\n",
      "got BCC_BCC-ESM1_r1i1p1f1\n",
      "getting NASA-GISS_GISS-E2-1-G_r101i1p1f1 rsut\n",
      "got NASA-GISS_GISS-E2-1-G_r101i1p1f1\n",
      "getting NASA-GISS_GISS-E2-1-G_r1i1p3f1 rsut\n",
      "got NASA-GISS_GISS-E2-1-G_r1i1p3f1\n",
      "getting MPI-M_MPI-ESM1-2-HR_r1i1p1f1 rsut\n",
      "got MPI-M_MPI-ESM1-2-HR_r1i1p1f1\n",
      "getting CNRM-CERFACS_CNRM-ESM2-1_r2i1p1f2 rsut\n",
      "got CNRM-CERFACS_CNRM-ESM2-1_r2i1p1f2\n",
      "getting MPI-M_MPI-ESM1-2-LR_r1i1p1f1 rsut\n",
      "got MPI-M_MPI-ESM1-2-LR_r1i1p1f1\n",
      "getting NASA-GISS_GISS-E2-1-G_r1i1p1f1 rsut\n",
      "got NASA-GISS_GISS-E2-1-G_r1i1p1f1\n",
      "getting CAMS_CAMS-CSM1-0_r1i1p1f1 rsut\n",
      "got CAMS_CAMS-CSM1-0_r1i1p1f1\n",
      "getting SNU_SAM0-UNICON_r1i1p1f1 rsut\n",
      "got SNU_SAM0-UNICON_r1i1p1f1\n",
      "getting NCAR_CESM2_r1i1p1f1 rsut\n",
      "got NCAR_CESM2_r1i1p1f1\n",
      "getting CNRM-CERFACS_CNRM-ESM2-1_r1i1p1f2 rsut\n",
      "got CNRM-CERFACS_CNRM-ESM2-1_r1i1p1f2\n",
      "getting CSIRO_ACCESS-ESM1-5_r1i1p1f1 rsdt\n"
     ]
    },
    {
     "name": "stderr",
     "output_type": "stream",
     "text": [
      "/home/leachl/miniconda3/lib/python3.7/site-packages/xarray/coding/times.py:427: SerializationWarning: Unable to decode time axis into full numpy.datetime64 objects, continuing using cftime.datetime objects instead, reason: dates out of range\n",
      "  dtype = _decode_cf_datetime_dtype(data, units, calendar, self.use_cftime)\n",
      "/home/leachl/miniconda3/lib/python3.7/site-packages/numpy/core/_asarray.py:83: SerializationWarning: Unable to decode time axis into full numpy.datetime64 objects, continuing using cftime.datetime objects instead, reason: dates out of range\n",
      "  return array(a, dtype, copy=False, order=order)\n"
     ]
    },
    {
     "name": "stdout",
     "output_type": "stream",
     "text": [
      "got CSIRO_ACCESS-ESM1-5_r1i1p1f1\n",
      "getting MOHC_HadGEM3-GC31-LL_r3i1p1f3 rsdt\n",
      "got MOHC_HadGEM3-GC31-LL_r3i1p1f3\n",
      "getting CCCma_CanESM5_r2i1p1f1 rsdt\n",
      "got CCCma_CanESM5_r2i1p1f1\n",
      "getting MOHC_HadGEM3-GC31-LL_r4i1p1f3 rsdt\n",
      "got MOHC_HadGEM3-GC31-LL_r4i1p1f3\n",
      "getting NOAA-GFDL_GFDL-CM4_r1i1p1f1 rsdt\n",
      "got NOAA-GFDL_GFDL-CM4_r1i1p1f1\n",
      "getting MIROC_MIROC-ES2L_r1i1p1f2 rsdt\n",
      "got MIROC_MIROC-ES2L_r1i1p1f2\n",
      "getting MOHC_UKESM1-0-LL_r1i1p1f2 rsdt\n",
      "got MOHC_UKESM1-0-LL_r1i1p1f2\n",
      "getting NCC_NorCPM1_r1i1p1f1 rsdt\n",
      "got NCC_NorCPM1_r1i1p1f1\n",
      "getting NCC_NorESM2-LM_r1i1p1f1 rsdt\n",
      "got NCC_NorESM2-LM_r1i1p1f1\n",
      "getting CCCma_CanESM5_r2i1p2f1 rsdt\n",
      "got CCCma_CanESM5_r2i1p2f1\n",
      "getting CAMS_CAMS-CSM1-0_r2i1p1f1 rsdt\n",
      "got CAMS_CAMS-CSM1-0_r2i1p1f1\n",
      "getting MIROC_MIROC6_r1i1p1f1 rsdt\n"
     ]
    },
    {
     "name": "stderr",
     "output_type": "stream",
     "text": [
      "/home/leachl/miniconda3/lib/python3.7/site-packages/xarray/coding/times.py:427: SerializationWarning: Unable to decode time axis into full numpy.datetime64 objects, continuing using cftime.datetime objects instead, reason: dates out of range\n",
      "  dtype = _decode_cf_datetime_dtype(data, units, calendar, self.use_cftime)\n",
      "/home/leachl/miniconda3/lib/python3.7/site-packages/numpy/core/_asarray.py:83: SerializationWarning: Unable to decode time axis into full numpy.datetime64 objects, continuing using cftime.datetime objects instead, reason: dates out of range\n",
      "  return array(a, dtype, copy=False, order=order)\n"
     ]
    },
    {
     "name": "stdout",
     "output_type": "stream",
     "text": [
      "got MIROC_MIROC6_r1i1p1f1\n",
      "getting MOHC_HadGEM3-GC31-LL_r2i1p1f3 rsdt\n",
      "got MOHC_HadGEM3-GC31-LL_r2i1p1f3\n",
      "getting CSIRO-ARCCSS_ACCESS-CM2_r1i1p1f1 rsdt\n"
     ]
    },
    {
     "name": "stderr",
     "output_type": "stream",
     "text": [
      "/home/leachl/miniconda3/lib/python3.7/site-packages/xarray/coding/times.py:427: SerializationWarning: Unable to decode time axis into full numpy.datetime64 objects, continuing using cftime.datetime objects instead, reason: dates out of range\n",
      "  dtype = _decode_cf_datetime_dtype(data, units, calendar, self.use_cftime)\n",
      "/home/leachl/miniconda3/lib/python3.7/site-packages/numpy/core/_asarray.py:83: SerializationWarning: Unable to decode time axis into full numpy.datetime64 objects, continuing using cftime.datetime objects instead, reason: dates out of range\n",
      "  return array(a, dtype, copy=False, order=order)\n"
     ]
    },
    {
     "name": "stdout",
     "output_type": "stream",
     "text": [
      "got CSIRO-ARCCSS_ACCESS-CM2_r1i1p1f1\n",
      "getting IPSL_IPSL-CM6A-LR_r1i1p1f1 rsdt\n",
      "got IPSL_IPSL-CM6A-LR_r1i1p1f1\n",
      "getting MOHC_UKESM1-0-LL_r2i1p1f2 rsdt\n",
      "got MOHC_UKESM1-0-LL_r2i1p1f2\n",
      "getting CNRM-CERFACS_CNRM-CM6-1_r1i1p1f2 rsdt\n",
      "got CNRM-CERFACS_CNRM-CM6-1_r1i1p1f2\n",
      "getting MRI_MRI-ESM2-0_r1i2p1f1 rsdt\n",
      "got MRI_MRI-ESM2-0_r1i2p1f1\n",
      "getting CCCma_CanESM5_r1i1p2f1 rsdt\n",
      "got CCCma_CanESM5_r1i1p2f1\n",
      "getting MOHC_HadGEM3-GC31-LL_r1i1p1f3 rsdt\n",
      "got MOHC_HadGEM3-GC31-LL_r1i1p1f3\n",
      "getting MOHC_UKESM1-0-LL_r3i1p1f2 rsdt\n",
      "got MOHC_UKESM1-0-LL_r3i1p1f2\n",
      "getting MRI_MRI-ESM2-0_r1i1p1f1 rsdt\n",
      "got MRI_MRI-ESM2-0_r1i1p1f1\n",
      "getting CCCma_CanESM5_r3i1p1f1 rsdt\n",
      "got CCCma_CanESM5_r3i1p1f1\n",
      "getting NASA-GISS_GISS-E2-1-H_r1i1p1f1 rsdt\n",
      "got NASA-GISS_GISS-E2-1-H_r1i1p1f1\n",
      "getting INM_INM-CM4-8_r1i1p1f1 rsdt\n",
      "got INM_INM-CM4-8_r1i1p1f1\n",
      "getting CNRM-CERFACS_CNRM-ESM2-1_r4i1p1f2 rsdt\n",
      "got CNRM-CERFACS_CNRM-ESM2-1_r4i1p1f2\n",
      "getting CCCma_CanESM5_r3i1p2f1 rsdt\n",
      "got CCCma_CanESM5_r3i1p2f1\n",
      "getting NCAR_CESM2-WACCM_r1i1p1f1 rsdt\n",
      "got NCAR_CESM2-WACCM_r1i1p1f1\n",
      "getting CNRM-CERFACS_CNRM-ESM2-1_r3i1p1f2 rsdt\n",
      "got CNRM-CERFACS_CNRM-ESM2-1_r3i1p1f2\n",
      "getting NASA-GISS_GISS-E2-1-G_r102i1p1f1 rsdt\n",
      "got NASA-GISS_GISS-E2-1-G_r102i1p1f1\n",
      "getting MOHC_UKESM1-0-LL_r4i1p1f2 rsdt\n",
      "got MOHC_UKESM1-0-LL_r4i1p1f2\n",
      "getting E3SM-Project_E3SM-1-0_r1i1p1f1 rsdt\n",
      "got E3SM-Project_E3SM-1-0_r1i1p1f1\n",
      "getting CCCma_CanESM5_r1i1p1f1 rsdt\n",
      "got CCCma_CanESM5_r1i1p1f1\n",
      "getting BCC_BCC-ESM1_r1i1p1f1 rsdt\n",
      "got BCC_BCC-ESM1_r1i1p1f1\n",
      "getting NASA-GISS_GISS-E2-1-G_r101i1p1f1 rsdt\n",
      "got NASA-GISS_GISS-E2-1-G_r101i1p1f1\n",
      "getting NASA-GISS_GISS-E2-1-G_r1i1p3f1 rsdt\n",
      "got NASA-GISS_GISS-E2-1-G_r1i1p3f1\n",
      "getting MPI-M_MPI-ESM1-2-HR_r1i1p1f1 rsdt\n",
      "got MPI-M_MPI-ESM1-2-HR_r1i1p1f1\n",
      "getting CNRM-CERFACS_CNRM-ESM2-1_r2i1p1f2 rsdt\n",
      "got CNRM-CERFACS_CNRM-ESM2-1_r2i1p1f2\n",
      "getting MPI-M_MPI-ESM1-2-LR_r1i1p1f1 rsdt\n",
      "got MPI-M_MPI-ESM1-2-LR_r1i1p1f1\n",
      "getting NASA-GISS_GISS-E2-1-G_r1i1p1f1 rsdt\n",
      "got NASA-GISS_GISS-E2-1-G_r1i1p1f1\n",
      "getting CAMS_CAMS-CSM1-0_r1i1p1f1 rsdt\n",
      "got CAMS_CAMS-CSM1-0_r1i1p1f1\n",
      "getting SNU_SAM0-UNICON_r1i1p1f1 rsdt\n",
      "got SNU_SAM0-UNICON_r1i1p1f1\n",
      "getting NCAR_CESM2_r1i1p1f1 rsdt\n",
      "got NCAR_CESM2_r1i1p1f1\n",
      "getting CNRM-CERFACS_CNRM-ESM2-1_r1i1p1f2 rsdt\n",
      "got CNRM-CERFACS_CNRM-ESM2-1_r1i1p1f2\n"
     ]
    }
   ],
   "source": [
    "onepct_tas_df_list = []\n",
    "for ism in onepct_ism_areacella_exist:\n",
    "    onepct_tas_df_list += [get_cmip6_data_gs(ism,'tas','1pctCO2')]\n",
    "\n",
    "onepct_rlut_df_list = []\n",
    "for ism in onepct_ism_areacella_exist:\n",
    "    onepct_rlut_df_list += [get_cmip6_data_gs(ism,'rlut','1pctCO2')]\n",
    "    \n",
    "onepct_rsut_df_list = []\n",
    "for ism in onepct_ism_areacella_exist:\n",
    "    onepct_rsut_df_list += [get_cmip6_data_gs(ism,'rsut','1pctCO2')]\n",
    "    \n",
    "onepct_rsdt_df_list = []\n",
    "for ism in onepct_ism_areacella_exist:\n",
    "    onepct_rsdt_df_list += [get_cmip6_data_gs(ism,'rsdt','1pctCO2')]"
   ]
  },
  {
   "cell_type": "code",
   "execution_count": 36,
   "metadata": {},
   "outputs": [],
   "source": [
    "def get_annual_CMIP6_data_gstore_co2mass(activity, table, variable, experiment, institution, source, member):\n",
    "    # eg activity='CMIP', table='Amon', variable='tas', experiment='historical', institution=\"NCAR\", source=\"CESM2\", member=\"r10i1p1f1\"\n",
    "    \n",
    "    query = gs_stores.query(\"activity_id==\\'\"+activity+\"\\' & table_id==\\'\"+table+\"\\' & variable_id==\\'\"+variable+\"\\' & experiment_id==\\'\"+experiment+\"\\' & institution_id==\\'\"+institution+\"\\' & source_id==\\'\"+source+\"\\' & member_id==\\'\"+member+\"\\'\")\n",
    "    \n",
    "    if query.empty:\n",
    "        print('No results for this request')\n",
    "        return None\n",
    "\n",
    "    # create a mutable-mapping-style interface to the store\n",
    "    mapper = gcs.get_mapper(query.zstore.values[0])\n",
    "\n",
    "    # open it using xarray and zarr\n",
    "    ds = xr.open_zarr(mapper, consolidated=True)\n",
    "    \n",
    "    return ds[variable].groupby('time.year').mean('time').to_pandas().rename(institution+'_'+source+'_'+member)\n",
    "\n",
    "onepct_co2mass_ism = gs_stores.loc[(gs_stores.experiment_id=='1pctCO2')&(gs_stores.variable_id=='co2mass')].ism\n",
    "\n",
    "def get_cmip6_data_gs_co2mass(ism,var,exp):\n",
    "    print('getting '+ism+' '+var)\n",
    "    ism_split = ism.split('_')\n",
    "    _out = get_annual_CMIP6_data_gstore_co2mass('CMIP', 'Amon', var, exp, ism_split[0], ism_split[1], ism_split[2])\n",
    "    print('got '+ism)\n",
    "    return _out\n",
    "\n",
    "onepct_co2mass_df_list = []\n",
    "for ism in onepct_co2mass_ism:\n",
    "    onepct_co2mass_df_list += [get_cmip6_data_gs_co2mass(ism,'co2mass','1pctCO2')]\n",
    "    \n",
    "onepct_co2_esgf_results = esgf_search(activity_id='CMIP', table_id='Amon', variable_id='co2mass', experiment_id='1pctCO2')\n",
    "onepct_co2_esgf_ism = [x.split('/')[8]+'_'+x.split('/')[9]+'_'+x.split('/')[11] for x in onepct_co2_esgf_results]\n",
    "onepct_co2_esgf_ism = [x for x in onepct_co2_esgf_ism if not x in list(onepct_co2mass_ism)]\n",
    "\n",
    "def get_annual_CMIP6_data_esgf_co2mass(activity, table, variable, experiment, institution, source, member):\n",
    "    # eg activity='CMIP', table='Amon', variable='tas', experiment='historical', institution=\"NCAR\", source=\"CESM2\", member=\"r10i1p1f1\"\n",
    "    \n",
    "    result = esgf_search(activity_id=activity, table_id=table, variable_id=variable, experiment_id=experiment,institution_id=institution, source_id=source, member_id=member)\n",
    "    \n",
    "    if not result:\n",
    "        print('No results for this request')\n",
    "        return None\n",
    "    \n",
    "    # select results with only the latest datestamp:\n",
    "    latest = sorted([x.split('/')[15] for x in result])[-1]\n",
    "    result = [x for x in result if x.split('/')[15]==latest]\n",
    "    \n",
    "    # remove duplicate results\n",
    "    result_1 = []\n",
    "\n",
    "    for item in result:\n",
    "        if item.split('/')[-1] in [x.split('/')[-1] for x in result_1]:\n",
    "            continue\n",
    "        else:\n",
    "            result_1 += [item]\n",
    "\n",
    "    ds = xr.open_mfdataset(result_1, combine='by_coords')\n",
    "    \n",
    "    return ds[variable].groupby('time.year').mean('time').to_pandas().rename(institution+'_'+source+'_'+member)\n",
    "\n",
    "for x in onepct_co2_esgf_ism:\n",
    "    onepct_co2mass_df_list += [get_annual_CMIP6_data_esgf_co2mass('CMIP','Amon','co2mass','1pctCO2',x.split('_')[0],x.split('_')[1],x.split('_')[2])]"
   ]
  },
  {
   "cell_type": "code",
   "execution_count": 62,
   "metadata": {},
   "outputs": [
    {
     "name": "stdout",
     "output_type": "stream",
     "text": [
      "getting CNRM-CERFACS_CNRM-ESM2-1_r1i1p1f2 co2\n",
      "got CNRM-CERFACS_CNRM-ESM2-1_r1i1p1f2\n",
      "getting CNRM-CERFACS_CNRM-ESM2-1_r2i1p1f2 co2\n",
      "got CNRM-CERFACS_CNRM-ESM2-1_r2i1p1f2\n",
      "getting CNRM-CERFACS_CNRM-ESM2-1_r3i1p1f2 co2\n",
      "got CNRM-CERFACS_CNRM-ESM2-1_r3i1p1f2\n",
      "getting CNRM-CERFACS_CNRM-ESM2-1_r4i1p1f2 co2\n",
      "got CNRM-CERFACS_CNRM-ESM2-1_r4i1p1f2\n",
      "getting MRI_MRI-ESM2-0_r1i1p1f1 co2\n",
      "got MRI_MRI-ESM2-0_r1i1p1f1\n",
      "getting NCAR_CESM2-WACCM_r1i1p1f1 co2\n",
      "got NCAR_CESM2-WACCM_r1i1p1f1\n",
      "getting NCAR_CESM2_r1i1p1f1 co2\n",
      "got NCAR_CESM2_r1i1p1f1\n",
      "getting NOAA-GFDL_GFDL-ESM4_r1i1p1f1 co2\n",
      "got NOAA-GFDL_GFDL-ESM4_r1i1p1f1\n"
     ]
    }
   ],
   "source": [
    "def get_annual_CMIP6_data_gstore_co2(activity, table, variable, experiment, institution, source, member):\n",
    "    # eg activity='CMIP', table='Amon', variable='tas', experiment='historical', institution=\"NCAR\", source=\"CESM2\", member=\"r10i1p1f1\"\n",
    "    \n",
    "    query = gs_stores.query(\"activity_id==\\'\"+activity+\"\\' & table_id==\\'\"+table+\"\\' & variable_id==\\'\"+variable+\"\\' & experiment_id==\\'\"+experiment+\"\\' & institution_id==\\'\"+institution+\"\\' & source_id==\\'\"+source+\"\\' & member_id==\\'\"+member+\"\\'\")\n",
    "    \n",
    "    if query.empty:\n",
    "        print('No results for this request')\n",
    "        return None\n",
    "\n",
    "    # create a mutable-mapping-style interface to the store\n",
    "    mapper = gcs.get_mapper(query.zstore.values[0])\n",
    "\n",
    "    # open it using xarray and zarr\n",
    "    ds = xr.open_zarr(mapper, consolidated=True)\n",
    "    \n",
    "    area_query = gs_stores.query(\"variable_id=='areacella' & source_id==\\'\"+source+\"\\'\")\n",
    "    \n",
    "    if area_query.empty:\n",
    "        files_area = esgf_search(variable_id='areacella', activity_id=activity, institution_id=institution, source_id=source)\n",
    "        if not files_area:\n",
    "            print('No areacella for this request')\n",
    "            return None\n",
    "        ds_area = xr.open_dataset(files_area[0])\n",
    "    else:\n",
    "        ds_area = xr.open_zarr(gcs.get_mapper(area_query.zstore.values[0]), consolidated=True)\n",
    "    \n",
    "    coords = list(ds[variable].coords.keys())\n",
    "    if 'lat' in coords:\n",
    "        dims = ['lat','lon']\n",
    "    else:\n",
    "        dims = ['latitude','longitude']\n",
    "    \n",
    "    total_area = ds_area.areacella.sum(dim=dims)\n",
    "    ta_timeseries = (ds[variable].isel(plev=0) * ds_area.areacella).sum(dim=dims) / total_area\n",
    "    \n",
    "    return ta_timeseries.groupby('time.year').mean('time').to_pandas().rename(institution+'_'+source+'_'+member)\n",
    "\n",
    "onepct_co2_ism = gs_stores.loc[(gs_stores.experiment_id=='1pctCO2')&(gs_stores.variable_id=='co2')].ism\n",
    "\n",
    "def get_cmip6_data_gs_co2(ism,var,exp):\n",
    "    print('getting '+ism+' '+var)\n",
    "    ism_split = ism.split('_')\n",
    "    _out = get_annual_CMIP6_data_gstore_co2('CMIP', 'Amon', var, exp, ism_split[0], ism_split[1], ism_split[2])\n",
    "    print('got '+ism)\n",
    "    return _out\n",
    "\n",
    "onepct_co2_ism_areacella_exist = [x for x in onepct_co2_ism if x.split('_')[1] in areacella_s_all]\n",
    "\n",
    "onepct_co2_df_list = []\n",
    "for ism in onepct_co2_ism_areacella_exist:\n",
    "    onepct_co2_df_list += [get_cmip6_data_gs_co2(ism,'co2','1pctCO2')]"
   ]
  },
  {
   "cell_type": "code",
   "execution_count": 65,
   "metadata": {},
   "outputs": [],
   "source": [
    "def get_annual_CMIP6_data_esgf_co2(activity, table, variable, experiment, institution, source, member):\n",
    "    # eg activity='CMIP', table='Amon', variable='tas', experiment='historical', institution=\"NCAR\", source=\"CESM2\", member=\"r10i1p1f1\"\n",
    "    \n",
    "    result = esgf_search(activity_id=activity, table_id=table, variable_id=variable, experiment_id=experiment,institution_id=institution, source_id=source, member_id=member)\n",
    "    \n",
    "    if not result:\n",
    "        print('No results for this request')\n",
    "        return None\n",
    "    \n",
    "    # select results with only the latest datestamp:\n",
    "    latest = sorted([x.split('/')[15] for x in result])[-1]\n",
    "    result = [x for x in result if x.split('/')[15]==latest]\n",
    "    \n",
    "    # remove duplicate results\n",
    "    result_1 = []\n",
    "\n",
    "    for item in result:\n",
    "        if item.split('/')[-1] in [x.split('/')[-1] for x in result_1]:\n",
    "            continue\n",
    "        else:\n",
    "            result_1 += [item]\n",
    "\n",
    "    ds = xr.open_mfdataset(result_1, combine='by_coords')\n",
    "    \n",
    "    files_area = esgf_search(variable_id='areacella', activity_id=activity, institution_id=institution, source_id=source)\n",
    "    \n",
    "    if not files_area:\n",
    "        print('No areacella for this request')\n",
    "        return None\n",
    "    \n",
    "    ds_area = xr.open_dataset(files_area[0])\n",
    "    \n",
    "    coords = list(ds[variable].coords.keys())\n",
    "    if 'lat' in coords:\n",
    "        dims = ['lat','lon']\n",
    "    else:\n",
    "        dims = ['latitude','longitude']\n",
    "    \n",
    "    total_area = ds_area.areacella.sum(dim=dims)\n",
    "    ta_timeseries = (ds[variable].isel(plev=0) * ds_area.areacella).sum(dim=dims) / total_area\n",
    "    \n",
    "    return ta_timeseries.groupby('time.year').mean('time').to_pandas().rename(institution+'_'+source+'_'+member)"
   ]
  },
  {
   "cell_type": "code",
   "execution_count": 66,
   "metadata": {},
   "outputs": [],
   "source": [
    "onepct_co2_esgf_results = esgf_search(activity_id='CMIP', table_id='Amon', variable_id='co2', experiment_id='1pctCO2')\n",
    "onepct_co2_esgf_ism = [x.split('/')[8]+'_'+x.split('/')[9]+'_'+x.split('/')[11] for x in onepct_co2_esgf_results]"
   ]
  },
  {
   "cell_type": "code",
   "execution_count": 69,
   "metadata": {},
   "outputs": [
    {
     "name": "stdout",
     "output_type": "stream",
     "text": [
      "getting BCC_BCC-CSM2-MR_r1i1p1f1\n",
      "No areacella for this request\n",
      "getting MRI_MRI-ESM2-0_r1i2p1f1\n",
      "getting NCAR_CESM2-FV2_r1i1p1f1\n"
     ]
    },
    {
     "name": "stderr",
     "output_type": "stream",
     "text": [
      "/home/leachl/miniconda3/lib/python3.7/site-packages/xarray/conventions.py:498: SerializationWarning: variable 'co2' has multiple fill values {1e+20, 1e+20}, decoding all values to NaN.\n",
      "  decode_timedelta=decode_timedelta,\n",
      "/home/leachl/miniconda3/lib/python3.7/site-packages/xarray/conventions.py:498: SerializationWarning: variable 'areacella' has multiple fill values {1e+20, 1e+20}, decoding all values to NaN.\n",
      "  decode_timedelta=decode_timedelta,\n"
     ]
    },
    {
     "name": "stdout",
     "output_type": "stream",
     "text": [
      "getting NCAR_CESM2-WACCM-FV2_r1i1p1f1\n"
     ]
    },
    {
     "name": "stderr",
     "output_type": "stream",
     "text": [
      "/home/leachl/miniconda3/lib/python3.7/site-packages/xarray/conventions.py:498: SerializationWarning: variable 'co2' has multiple fill values {1e+20, 1e+20}, decoding all values to NaN.\n",
      "  decode_timedelta=decode_timedelta,\n",
      "/home/leachl/miniconda3/lib/python3.7/site-packages/xarray/conventions.py:498: SerializationWarning: variable 'areacella' has multiple fill values {1e+20, 1e+20}, decoding all values to NaN.\n",
      "  decode_timedelta=decode_timedelta,\n"
     ]
    },
    {
     "name": "stdout",
     "output_type": "stream",
     "text": [
      "getting NCC_NorESM2-LM_r1i1p1f1\n",
      "getting BCC-CSM2-MR_1pctCO2_Amon\n",
      "No results for this request\n",
      "getting NCC_NorESM2-MM_r1i1p1f1\n"
     ]
    }
   ],
   "source": [
    "for ism in [x for x in set(onepct_co2_esgf_ism) if not x in onepct_co2_ism_areacella_exist]:\n",
    "    print('getting '+ism)\n",
    "    onepct_co2_df_list += [get_annual_CMIP6_data_esgf_co2('CMIP', 'Amon', 'co2', '1pctCO2', ism.split('_')[0], ism.split('_')[1], ism.split('_')[2])]"
   ]
  },
  {
   "cell_type": "code",
   "execution_count": 73,
   "metadata": {},
   "outputs": [],
   "source": [
    "pd.concat(onepct_co2_df_list,axis=1).to_csv('./cmip6_data/onepct_co2.csv')"
   ]
  },
  {
   "cell_type": "code",
   "execution_count": null,
   "metadata": {},
   "outputs": [],
   "source": []
  },
  {
   "cell_type": "code",
   "execution_count": null,
   "metadata": {},
   "outputs": [],
   "source": []
  },
  {
   "cell_type": "code",
   "execution_count": null,
   "metadata": {},
   "outputs": [],
   "source": []
  },
  {
   "cell_type": "code",
   "execution_count": null,
   "metadata": {},
   "outputs": [],
   "source": []
  },
  {
   "cell_type": "code",
   "execution_count": null,
   "metadata": {},
   "outputs": [],
   "source": []
  },
  {
   "cell_type": "code",
   "execution_count": 72,
   "metadata": {},
   "outputs": [
    {
     "name": "stdout",
     "output_type": "stream",
     "text": [
      "getting E3SM-Project_E3SM-1-1-ECA_r1i1p1f1\n",
      "got E3SM-Project_E3SM-1-1-ECA_r1i1p1f1\n",
      "getting NASA-GISS_GISS-E2-1-G_r1i1p1f3\n",
      "got NASA-GISS_GISS-E2-1-G_r1i1p1f3\n",
      "getting MOHC_HadGEM3-GC31-MM_r1i1p1f1\n",
      "got MOHC_HadGEM3-GC31-MM_r1i1p1f1\n",
      "getting NOAA-GFDL_GFDL-ESM4_r1i1p1f1\n",
      "got NOAA-GFDL_GFDL-ESM4_r1i1p1f1\n",
      "getting NASA-GISS_GISS-E2-1-G_r101i1p1f1\n",
      "got NASA-GISS_GISS-E2-1-G_r101i1p1f1\n",
      "getting IPSL_IPSL-CM6A-LR_r1i2p1f1\n",
      "got IPSL_IPSL-CM6A-LR_r1i2p1f1\n",
      "getting NCAR_CESM2-FV2_r1i1p1f1\n",
      "got NCAR_CESM2-FV2_r1i1p1f1\n",
      "getting E3SM-Project_E3SM-1-1_r1i1p1f1\n",
      "got E3SM-Project_E3SM-1-1_r1i1p1f1\n",
      "getting MPI-M_MPI-ESM1-2-HR_r1i1p1f1\n"
     ]
    },
    {
     "name": "stderr",
     "output_type": "stream",
     "text": [
      "/home/leachl/miniconda3/lib/python3.7/site-packages/xarray/coding/times.py:426: SerializationWarning: Unable to decode time axis into full numpy.datetime64 objects, continuing using cftime.datetime objects instead, reason: dates out of range\n",
      "  dtype = _decode_cf_datetime_dtype(data, units, calendar, self.use_cftime)\n",
      "/home/leachl/miniconda3/lib/python3.7/site-packages/xarray/coding/times.py:426: SerializationWarning: Unable to decode time axis into full numpy.datetime64 objects, continuing using cftime.datetime objects instead, reason: dates out of range\n",
      "  dtype = _decode_cf_datetime_dtype(data, units, calendar, self.use_cftime)\n",
      "/home/leachl/miniconda3/lib/python3.7/site-packages/numpy/core/_asarray.py:85: SerializationWarning: Unable to decode time axis into full numpy.datetime64 objects, continuing using cftime.datetime objects instead, reason: dates out of range\n",
      "  return array(a, dtype, copy=False, order=order)\n"
     ]
    },
    {
     "name": "stdout",
     "output_type": "stream",
     "text": [
      "got MPI-M_MPI-ESM1-2-HR_r1i1p1f1\n",
      "getting NCC_NorCPM1_r3i1p1f1\n",
      "got NCC_NorCPM1_r3i1p1f1\n",
      "getting E3SM-Project_E3SM-1-0_r1i1p1f1\n",
      "got E3SM-Project_E3SM-1-0_r1i1p1f1\n",
      "getting MRI_MRI-ESM2-0_r1i2p1f1\n",
      "got MRI_MRI-ESM2-0_r1i2p1f1\n",
      "getting CNRM-CERFACS_CNRM-ESM2-1_r1i1p1f2\n",
      "got CNRM-CERFACS_CNRM-ESM2-1_r1i1p1f2\n",
      "getting CCCma_CanESM5_r1i1p2f1\n",
      "got CCCma_CanESM5_r1i1p2f1\n",
      "getting IPSL_IPSL-CM6A-LR_r1i1p1f1\n"
     ]
    },
    {
     "name": "stderr",
     "output_type": "stream",
     "text": [
      "/home/leachl/miniconda3/lib/python3.7/site-packages/xarray/coding/times.py:426: SerializationWarning: Unable to decode time axis into full numpy.datetime64 objects, continuing using cftime.datetime objects instead, reason: dates out of range\n",
      "  dtype = _decode_cf_datetime_dtype(data, units, calendar, self.use_cftime)\n",
      "/home/leachl/miniconda3/lib/python3.7/site-packages/numpy/core/_asarray.py:85: SerializationWarning: Unable to decode time axis into full numpy.datetime64 objects, continuing using cftime.datetime objects instead, reason: dates out of range\n",
      "  return array(a, dtype, copy=False, order=order)\n"
     ]
    },
    {
     "name": "stdout",
     "output_type": "stream",
     "text": [
      "got IPSL_IPSL-CM6A-LR_r1i1p1f1\n",
      "getting MIROC_MIROC-ES2L_r1i1p1f2\n"
     ]
    },
    {
     "name": "stderr",
     "output_type": "stream",
     "text": [
      "/home/leachl/miniconda3/lib/python3.7/site-packages/xarray/coding/times.py:426: SerializationWarning: Unable to decode time axis into full numpy.datetime64 objects, continuing using cftime.datetime objects instead, reason: dates out of range\n",
      "  dtype = _decode_cf_datetime_dtype(data, units, calendar, self.use_cftime)\n",
      "/home/leachl/miniconda3/lib/python3.7/site-packages/xarray/coding/times.py:426: SerializationWarning: Unable to decode time axis into full numpy.datetime64 objects, continuing using cftime.datetime objects instead, reason: dates out of range\n",
      "  dtype = _decode_cf_datetime_dtype(data, units, calendar, self.use_cftime)\n",
      "/home/leachl/miniconda3/lib/python3.7/site-packages/numpy/core/_asarray.py:85: SerializationWarning: Unable to decode time axis into full numpy.datetime64 objects, continuing using cftime.datetime objects instead, reason: dates out of range\n",
      "  return array(a, dtype, copy=False, order=order)\n"
     ]
    },
    {
     "name": "stdout",
     "output_type": "stream",
     "text": [
      "got MIROC_MIROC-ES2L_r1i1p1f2\n",
      "getting NOAA-GFDL_GFDL-CM4_r1i1p1f1\n",
      "got NOAA-GFDL_GFDL-CM4_r1i1p1f1\n",
      "getting AWI_AWI-ESM-1-1-LR_r1i1p1f1\n",
      "got AWI_AWI-ESM-1-1-LR_r1i1p1f1\n",
      "getting INM_INM-CM5-0_r1i1p1f1\n",
      "got INM_INM-CM5-0_r1i1p1f1\n",
      "getting CSIRO_ACCESS-ESM1-5_r1i1p1f1\n"
     ]
    },
    {
     "name": "stderr",
     "output_type": "stream",
     "text": [
      "/home/leachl/miniconda3/lib/python3.7/site-packages/xarray/coding/times.py:426: SerializationWarning: Unable to decode time axis into full numpy.datetime64 objects, continuing using cftime.datetime objects instead, reason: dates out of range\n",
      "  dtype = _decode_cf_datetime_dtype(data, units, calendar, self.use_cftime)\n",
      "/home/leachl/miniconda3/lib/python3.7/site-packages/numpy/core/_asarray.py:85: SerializationWarning: Unable to decode time axis into full numpy.datetime64 objects, continuing using cftime.datetime objects instead, reason: dates out of range\n",
      "  return array(a, dtype, copy=False, order=order)\n"
     ]
    },
    {
     "name": "stdout",
     "output_type": "stream",
     "text": [
      "got CSIRO_ACCESS-ESM1-5_r1i1p1f1\n",
      "getting MIROC_MIROC6_r1i1p1f1\n"
     ]
    },
    {
     "name": "stderr",
     "output_type": "stream",
     "text": [
      "/home/leachl/miniconda3/lib/python3.7/site-packages/xarray/coding/times.py:426: SerializationWarning: Unable to decode time axis into full numpy.datetime64 objects, continuing using cftime.datetime objects instead, reason: dates out of range\n",
      "  dtype = _decode_cf_datetime_dtype(data, units, calendar, self.use_cftime)\n",
      "/home/leachl/miniconda3/lib/python3.7/site-packages/numpy/core/_asarray.py:85: SerializationWarning: Unable to decode time axis into full numpy.datetime64 objects, continuing using cftime.datetime objects instead, reason: dates out of range\n",
      "  return array(a, dtype, copy=False, order=order)\n"
     ]
    },
    {
     "name": "stdout",
     "output_type": "stream",
     "text": [
      "got MIROC_MIROC6_r1i1p1f1\n",
      "getting NCC_NorESM1-F_r1i1p1f1\n",
      "got NCC_NorESM1-F_r1i1p1f1\n",
      "getting NCAR_CESM2_r1i1p1f1\n",
      "got NCAR_CESM2_r1i1p1f1\n",
      "getting MRI_MRI-ESM2-0_r1i1p1f1\n",
      "got MRI_MRI-ESM2-0_r1i1p1f1\n",
      "getting MPI-M_MPI-ESM1-2-LR_r1i1p1f1\n"
     ]
    },
    {
     "name": "stderr",
     "output_type": "stream",
     "text": [
      "/home/leachl/miniconda3/lib/python3.7/site-packages/xarray/coding/times.py:426: SerializationWarning: Unable to decode time axis into full numpy.datetime64 objects, continuing using cftime.datetime objects instead, reason: dates out of range\n",
      "  dtype = _decode_cf_datetime_dtype(data, units, calendar, self.use_cftime)\n",
      "/home/leachl/miniconda3/lib/python3.7/site-packages/xarray/coding/times.py:426: SerializationWarning: Unable to decode time axis into full numpy.datetime64 objects, continuing using cftime.datetime objects instead, reason: dates out of range\n",
      "  dtype = _decode_cf_datetime_dtype(data, units, calendar, self.use_cftime)\n",
      "/home/leachl/miniconda3/lib/python3.7/site-packages/numpy/core/_asarray.py:85: SerializationWarning: Unable to decode time axis into full numpy.datetime64 objects, continuing using cftime.datetime objects instead, reason: dates out of range\n",
      "  return array(a, dtype, copy=False, order=order)\n"
     ]
    },
    {
     "name": "stdout",
     "output_type": "stream",
     "text": [
      "got MPI-M_MPI-ESM1-2-LR_r1i1p1f1\n",
      "getting NASA-GISS_GISS-E2-1-H_r1i1p1f1\n",
      "got NASA-GISS_GISS-E2-1-H_r1i1p1f1\n",
      "getting AS-RCEC_TaiESM1_r1i1p1f1\n",
      "got AS-RCEC_TaiESM1_r1i1p1f1\n",
      "getting CNRM-CERFACS_CNRM-CM6-1-HR_r1i1p1f2\n",
      "got CNRM-CERFACS_CNRM-CM6-1-HR_r1i1p1f2\n",
      "getting NASA-GISS_GISS-E2-1-H_r1i1p3f1\n",
      "got NASA-GISS_GISS-E2-1-H_r1i1p3f1\n",
      "getting MPI-M_MPI-ESM1-2-LR_r2i1p1f1\n",
      "got MPI-M_MPI-ESM1-2-LR_r2i1p1f1\n",
      "getting NCC_NorESM2-LM_r1i1p1f1\n",
      "got NCC_NorESM2-LM_r1i1p1f1\n",
      "getting CMCC_CMCC-CM2-SR5_r1i1p1f1\n",
      "got CMCC_CMCC-CM2-SR5_r1i1p1f1\n",
      "getting NASA-GISS_GISS-E2-1-G-CC_r1i1p1f1\n",
      "got NASA-GISS_GISS-E2-1-G-CC_r1i1p1f1\n",
      "getting BCC_BCC-ESM1_r1i1p1f1\n",
      "got BCC_BCC-ESM1_r1i1p1f1\n",
      "getting MOHC_HadGEM3-GC31-LL_r1i1p1f1\n",
      "got MOHC_HadGEM3-GC31-LL_r1i1p1f1\n",
      "getting HAMMOZ-Consortium_MPI-ESM-1-2-HAM_r1i1p1f1\n"
     ]
    },
    {
     "name": "stderr",
     "output_type": "stream",
     "text": [
      "/home/leachl/miniconda3/lib/python3.7/site-packages/xarray/coding/times.py:426: SerializationWarning: Unable to decode time axis into full numpy.datetime64 objects, continuing using cftime.datetime objects instead, reason: dates out of range\n",
      "  dtype = _decode_cf_datetime_dtype(data, units, calendar, self.use_cftime)\n",
      "/home/leachl/miniconda3/lib/python3.7/site-packages/xarray/coding/times.py:426: SerializationWarning: Unable to decode time axis into full numpy.datetime64 objects, continuing using cftime.datetime objects instead, reason: dates out of range\n",
      "  dtype = _decode_cf_datetime_dtype(data, units, calendar, self.use_cftime)\n",
      "/home/leachl/miniconda3/lib/python3.7/site-packages/numpy/core/_asarray.py:85: SerializationWarning: Unable to decode time axis into full numpy.datetime64 objects, continuing using cftime.datetime objects instead, reason: dates out of range\n",
      "  return array(a, dtype, copy=False, order=order)\n"
     ]
    },
    {
     "name": "stdout",
     "output_type": "stream",
     "text": [
      "got HAMMOZ-Consortium_MPI-ESM-1-2-HAM_r1i1p1f1\n",
      "getting NCC_NorCPM1_r1i1p1f1\n",
      "got NCC_NorCPM1_r1i1p1f1\n",
      "getting NCC_NorESM2-MM_r1i1p1f1\n",
      "got NCC_NorESM2-MM_r1i1p1f1\n",
      "getting NCAR_CESM2-WACCM_r1i1p1f1\n",
      "got NCAR_CESM2-WACCM_r1i1p1f1\n",
      "getting EC-Earth-Consortium_EC-Earth3-Veg-LR_r1i1p1f1\n"
     ]
    },
    {
     "name": "stderr",
     "output_type": "stream",
     "text": [
      "/home/leachl/miniconda3/lib/python3.7/site-packages/xarray/coding/times.py:426: SerializationWarning: Unable to decode time axis into full numpy.datetime64 objects, continuing using cftime.datetime objects instead, reason: dates out of range\n",
      "  dtype = _decode_cf_datetime_dtype(data, units, calendar, self.use_cftime)\n",
      "/home/leachl/miniconda3/lib/python3.7/site-packages/numpy/core/_asarray.py:85: SerializationWarning: Unable to decode time axis into full numpy.datetime64 objects, continuing using cftime.datetime objects instead, reason: dates out of range\n",
      "  return array(a, dtype, copy=False, order=order)\n"
     ]
    },
    {
     "name": "stdout",
     "output_type": "stream",
     "text": [
      "got EC-Earth-Consortium_EC-Earth3-Veg-LR_r1i1p1f1\n",
      "getting SNU_SAM0-UNICON_r1i1p1f1\n",
      "got SNU_SAM0-UNICON_r1i1p1f1\n",
      "getting NASA-GISS_GISS-E2-1-G_r1i1p5f1\n",
      "got NASA-GISS_GISS-E2-1-G_r1i1p5f1\n",
      "getting MOHC_UKESM1-0-LL_r1i1p1f2\n",
      "got MOHC_UKESM1-0-LL_r1i1p1f2\n",
      "getting NASA-GISS_GISS-E2-1-G_r102i1p1f1\n",
      "got NASA-GISS_GISS-E2-1-G_r102i1p1f1\n",
      "getting CNRM-CERFACS_CNRM-CM6-1_r1i1p1f2\n"
     ]
    },
    {
     "name": "stderr",
     "output_type": "stream",
     "text": [
      "/home/leachl/miniconda3/lib/python3.7/site-packages/xarray/coding/times.py:426: SerializationWarning: Unable to decode time axis into full numpy.datetime64 objects, continuing using cftime.datetime objects instead, reason: dates out of range\n",
      "  dtype = _decode_cf_datetime_dtype(data, units, calendar, self.use_cftime)\n",
      "/home/leachl/miniconda3/lib/python3.7/site-packages/numpy/core/_asarray.py:85: SerializationWarning: Unable to decode time axis into full numpy.datetime64 objects, continuing using cftime.datetime objects instead, reason: dates out of range\n",
      "  return array(a, dtype, copy=False, order=order)\n"
     ]
    },
    {
     "name": "stdout",
     "output_type": "stream",
     "text": [
      "got CNRM-CERFACS_CNRM-CM6-1_r1i1p1f2\n",
      "getting NASA-GISS_GISS-E2-1-G_r1i1p3f1\n",
      "got NASA-GISS_GISS-E2-1-G_r1i1p3f1\n",
      "getting NCAR_CESM2-WACCM-FV2_r1i1p1f1\n",
      "got NCAR_CESM2-WACCM-FV2_r1i1p1f1\n",
      "getting NASA-GISS_GISS-E2-1-G_r1i1p1f2\n",
      "got NASA-GISS_GISS-E2-1-G_r1i1p1f2\n",
      "getting UA_MCM-UA-1-0_r1i1p1f1\n",
      "got UA_MCM-UA-1-0_r1i1p1f1\n",
      "getting NASA-GISS_GISS-E2-1-G_r1i1p1f1\n",
      "got NASA-GISS_GISS-E2-1-G_r1i1p1f1\n",
      "getting INM_INM-CM4-8_r1i1p1f1\n",
      "got INM_INM-CM4-8_r1i1p1f1\n"
     ]
    }
   ],
   "source": [
    "# piControl_df_list = []\n",
    "for ism in piControl_ism_areacella_exist:\n",
    "    piControl_df_list += [get_cmip6_data_gs(ism,'tas','piControl')]"
   ]
  },
  {
   "cell_type": "code",
   "execution_count": 18,
   "metadata": {},
   "outputs": [],
   "source": [
    "ESM3_picontrol = xr.open_mfdataset(esgf_search(activity_id='CMIP', table_id='Amon', variable_id='tas', experiment_id='piControl', institution_id='E3SM-Project', source_id='E3SM-1-0', member_id='r1i1p1f1'),combine='by_coords')"
   ]
  },
  {
   "cell_type": "code",
   "execution_count": 19,
   "metadata": {},
   "outputs": [],
   "source": [
    "# ds_area = xr.open_dataset(files_area[0])\n",
    "\n",
    "# coords = list(ds[variable].coords.keys())\n",
    "# if 'lat' in coords:\n",
    "#     dims = ['lat','lon']\n",
    "# else:\n",
    "#     dims = ['latitude','longitude']\n",
    "\n",
    "# total_area = ds_area.areacella.sum(dim=dims)\n",
    "# ta_timeseries = (ds[variable].isel(plev=0) * ds_area.areacella).sum(dim=dims) / total_area\n",
    "\n",
    "# return ta_timeseries.groupby('time.year').mean('time').to_pandas().rename(institution+'_'+source+'_'+member)\n",
    "\n",
    "ESM3_area = xr.open_dataset(esgf_search(activity_id='CMIP', variable_id='areacella',source_id='E3SM-1-0')[-1])"
   ]
  },
  {
   "cell_type": "code",
   "execution_count": 20,
   "metadata": {},
   "outputs": [],
   "source": [
    "dims=['lat','lon']\n",
    "total_area = ESM3_area.areacella.sum(dim=dims)\n",
    "ta_timeseries = (ESM3_picontrol['tas'] * ESM3_area.areacella).sum(dim=dims) / total_area\n",
    "ESM3_picontrol_tas = ta_timeseries.groupby('time.year').mean('time').to_pandas().rename('E3SM-Project_E3SM-1-0_r1i1p1f1')"
   ]
  },
  {
   "cell_type": "code",
   "execution_count": 21,
   "metadata": {},
   "outputs": [
    {
     "data": {
      "text/plain": [
       "<AxesSubplot:xlabel='year'>"
      ]
     },
     "execution_count": 21,
     "metadata": {},
     "output_type": "execute_result"
    },
    {
     "data": {
      "image/png": "[encoded data removed]",
      "text/plain": [
       "<Figure size 432x288 with 1 Axes>"
      ]
     },
     "metadata": {
      "needs_background": "light"
     },
     "output_type": "display_data"
    }
   ],
   "source": [
    "ESM3_picontrol_tas.plot()"
   ]
  },
  {
   "cell_type": "code",
   "execution_count": 93,
   "metadata": {},
   "outputs": [
    {
     "name": "stdout",
     "output_type": "stream",
     "text": [
      "getting NCC_NorCPM1_r2i1p1f1\n",
      "got NCC_NorCPM1_r2i1p1f1\n",
      "getting CCCma_CanESM5_r1i1p1f1\n",
      "got CCCma_CanESM5_r1i1p1f1\n",
      "getting NASA-GISS_GISS-E2-1-G_r2i1p1f1\n",
      "got NASA-GISS_GISS-E2-1-G_r2i1p1f1\n",
      "getting CSIRO-ARCCSS_ACCESS-CM2_r1i1p1f1\n"
     ]
    },
    {
     "name": "stderr",
     "output_type": "stream",
     "text": [
      "/home/leachl/miniconda3/lib/python3.7/site-packages/xarray/coding/times.py:426: SerializationWarning: Unable to decode time axis into full numpy.datetime64 objects, continuing using cftime.datetime objects instead, reason: dates out of range\n",
      "  dtype = _decode_cf_datetime_dtype(data, units, calendar, self.use_cftime)\n",
      "/home/leachl/miniconda3/lib/python3.7/site-packages/numpy/core/_asarray.py:85: SerializationWarning: Unable to decode time axis into full numpy.datetime64 objects, continuing using cftime.datetime objects instead, reason: dates out of range\n",
      "  return array(a, dtype, copy=False, order=order)\n"
     ]
    },
    {
     "name": "stdout",
     "output_type": "stream",
     "text": [
      "got CSIRO-ARCCSS_ACCESS-CM2_r1i1p1f1\n",
      "getting CAMS_CAMS-CSM1-0_r1i1p1f1\n",
      "got CAMS_CAMS-CSM1-0_r1i1p1f1\n",
      "getting NASA-GISS_GISS-E2-1-H_r1i1p3f1\n",
      "No results for this request\n",
      "got NASA-GISS_GISS-E2-1-H_r1i1p3f1\n",
      "getting CMCC_CMCC-CM2-SR5_r1i1p1f1\n",
      "No results for this request\n",
      "got CMCC_CMCC-CM2-SR5_r1i1p1f1\n",
      "getting EC-Earth-Consortium_EC-Earth3-Veg-LR_r1i1p1f1\n",
      "No results for this request\n",
      "got EC-Earth-Consortium_EC-Earth3-Veg-LR_r1i1p1f1\n"
     ]
    }
   ],
   "source": [
    "piControl_rlut_df_list = []\n",
    "for ism in piControl_ism_areacella_exist:\n",
    "    piControl_rlut_df_list += [get_cmip6_data_gs(ism,'rlut','piControl')]"
   ]
  },
  {
   "cell_type": "code",
   "execution_count": 94,
   "metadata": {},
   "outputs": [
    {
     "name": "stdout",
     "output_type": "stream",
     "text": [
      "getting NCC_NorCPM1_r2i1p1f1\n",
      "got NCC_NorCPM1_r2i1p1f1\n",
      "getting CCCma_CanESM5_r1i1p1f1\n",
      "got CCCma_CanESM5_r1i1p1f1\n",
      "getting NASA-GISS_GISS-E2-1-G_r2i1p1f1\n",
      "got NASA-GISS_GISS-E2-1-G_r2i1p1f1\n",
      "getting CSIRO-ARCCSS_ACCESS-CM2_r1i1p1f1\n"
     ]
    },
    {
     "name": "stderr",
     "output_type": "stream",
     "text": [
      "/home/leachl/miniconda3/lib/python3.7/site-packages/xarray/coding/times.py:426: SerializationWarning: Unable to decode time axis into full numpy.datetime64 objects, continuing using cftime.datetime objects instead, reason: dates out of range\n",
      "  dtype = _decode_cf_datetime_dtype(data, units, calendar, self.use_cftime)\n",
      "/home/leachl/miniconda3/lib/python3.7/site-packages/numpy/core/_asarray.py:85: SerializationWarning: Unable to decode time axis into full numpy.datetime64 objects, continuing using cftime.datetime objects instead, reason: dates out of range\n",
      "  return array(a, dtype, copy=False, order=order)\n"
     ]
    },
    {
     "name": "stdout",
     "output_type": "stream",
     "text": [
      "got CSIRO-ARCCSS_ACCESS-CM2_r1i1p1f1\n",
      "getting CAMS_CAMS-CSM1-0_r1i1p1f1\n",
      "got CAMS_CAMS-CSM1-0_r1i1p1f1\n",
      "getting NASA-GISS_GISS-E2-1-H_r1i1p3f1\n",
      "No results for this request\n",
      "got NASA-GISS_GISS-E2-1-H_r1i1p3f1\n",
      "getting CMCC_CMCC-CM2-SR5_r1i1p1f1\n",
      "No results for this request\n",
      "got CMCC_CMCC-CM2-SR5_r1i1p1f1\n",
      "getting UA_MCM-UA-1-0_r1i1p1f1\n",
      "No results for this request\n",
      "got UA_MCM-UA-1-0_r1i1p1f1\n"
     ]
    }
   ],
   "source": [
    "piControl_rsut_df_list = []\n",
    "for ism in piControl_ism_areacella_exist:\n",
    "    piControl_rsut_df_list += [get_cmip6_data_gs(ism,'rsut','piControl')]"
   ]
  },
  {
   "cell_type": "code",
   "execution_count": 95,
   "metadata": {},
   "outputs": [
    {
     "name": "stdout",
     "output_type": "stream",
     "text": [
      "getting NCC_NorCPM1_r2i1p1f1\n",
      "got NCC_NorCPM1_r2i1p1f1\n",
      "getting CCCma_CanESM5_r1i1p1f1\n",
      "got CCCma_CanESM5_r1i1p1f1\n",
      "getting NASA-GISS_GISS-E2-1-G_r2i1p1f1\n",
      "got NASA-GISS_GISS-E2-1-G_r2i1p1f1\n",
      "getting CSIRO-ARCCSS_ACCESS-CM2_r1i1p1f1\n"
     ]
    },
    {
     "name": "stderr",
     "output_type": "stream",
     "text": [
      "/home/leachl/miniconda3/lib/python3.7/site-packages/xarray/coding/times.py:426: SerializationWarning: Unable to decode time axis into full numpy.datetime64 objects, continuing using cftime.datetime objects instead, reason: dates out of range\n",
      "  dtype = _decode_cf_datetime_dtype(data, units, calendar, self.use_cftime)\n",
      "/home/leachl/miniconda3/lib/python3.7/site-packages/numpy/core/_asarray.py:85: SerializationWarning: Unable to decode time axis into full numpy.datetime64 objects, continuing using cftime.datetime objects instead, reason: dates out of range\n",
      "  return array(a, dtype, copy=False, order=order)\n"
     ]
    },
    {
     "name": "stdout",
     "output_type": "stream",
     "text": [
      "got CSIRO-ARCCSS_ACCESS-CM2_r1i1p1f1\n",
      "getting CAMS_CAMS-CSM1-0_r1i1p1f1\n",
      "got CAMS_CAMS-CSM1-0_r1i1p1f1\n",
      "getting NASA-GISS_GISS-E2-1-H_r1i1p3f1\n",
      "No results for this request\n",
      "got NASA-GISS_GISS-E2-1-H_r1i1p3f1\n",
      "getting CMCC_CMCC-CM2-SR5_r1i1p1f1\n",
      "No results for this request\n",
      "got CMCC_CMCC-CM2-SR5_r1i1p1f1\n",
      "getting EC-Earth-Consortium_EC-Earth3-Veg-LR_r1i1p1f1\n",
      "No results for this request\n",
      "got EC-Earth-Consortium_EC-Earth3-Veg-LR_r1i1p1f1\n",
      "getting UA_MCM-UA-1-0_r1i1p1f1\n",
      "No results for this request\n",
      "got UA_MCM-UA-1-0_r1i1p1f1\n"
     ]
    }
   ],
   "source": [
    "piControl_rsdt_df_list = []\n",
    "for ism in piControl_ism_areacella_exist:\n",
    "    piControl_rsdt_df_list += [get_cmip6_data_gs(ism,'rsdt','piControl')]"
   ]
  },
  {
   "cell_type": "code",
   "execution_count": 73,
   "metadata": {},
   "outputs": [
    {
     "name": "stdout",
     "output_type": "stream",
     "text": [
      "getting IPSL_IPSL-CM6A-LR_r3i1p1f1\n",
      "got IPSL_IPSL-CM6A-LR_r3i1p1f1\n",
      "getting CCCma_CanESM5_r1i1p1f1\n",
      "got CCCma_CanESM5_r1i1p1f1\n",
      "getting CNRM-CERFACS_CNRM-CM6-1_r6i1p1f2\n",
      "got CNRM-CERFACS_CNRM-CM6-1_r6i1p1f2\n",
      "getting CNRM-CERFACS_CNRM-ESM2-1_r3i1p1f2\n",
      "got CNRM-CERFACS_CNRM-ESM2-1_r3i1p1f2\n",
      "getting CSIRO-ARCCSS_ACCESS-CM2_r1i1p1f1\n"
     ]
    },
    {
     "name": "stderr",
     "output_type": "stream",
     "text": [
      "/home/leachl/miniconda3/lib/python3.7/site-packages/xarray/coding/times.py:426: SerializationWarning: Unable to decode time axis into full numpy.datetime64 objects, continuing using cftime.datetime objects instead, reason: dates out of range\n",
      "  dtype = _decode_cf_datetime_dtype(data, units, calendar, self.use_cftime)\n",
      "/home/leachl/miniconda3/lib/python3.7/site-packages/numpy/core/_asarray.py:85: SerializationWarning: Unable to decode time axis into full numpy.datetime64 objects, continuing using cftime.datetime objects instead, reason: dates out of range\n",
      "  return array(a, dtype, copy=False, order=order)\n"
     ]
    },
    {
     "name": "stdout",
     "output_type": "stream",
     "text": [
      "got CSIRO-ARCCSS_ACCESS-CM2_r1i1p1f1\n",
      "getting CAMS_CAMS-CSM1-0_r1i1p1f1\n",
      "got CAMS_CAMS-CSM1-0_r1i1p1f1\n",
      "getting IPSL_IPSL-CM6A-LR_r2i1p1f1\n",
      "got IPSL_IPSL-CM6A-LR_r2i1p1f1\n",
      "getting IPSL_IPSL-CM6A-LR_r6i1p1f1\n",
      "got IPSL_IPSL-CM6A-LR_r6i1p1f1\n",
      "getting IPSL_IPSL-CM6A-LR_r9i1p1f1\n",
      "got IPSL_IPSL-CM6A-LR_r9i1p1f1\n",
      "getting NASA-GISS_GISS-E2-1-G_r1i1p1f3\n",
      "got NASA-GISS_GISS-E2-1-G_r1i1p1f3\n",
      "getting NOAA-GFDL_GFDL-ESM4_r1i1p1f1\n",
      "got NOAA-GFDL_GFDL-ESM4_r1i1p1f1\n",
      "getting MRI_MRI-ESM2-0_r11i1p1f1\n",
      "got MRI_MRI-ESM2-0_r11i1p1f1\n",
      "getting MRI_MRI-ESM2-0_r3i1p1f1\n",
      "got MRI_MRI-ESM2-0_r3i1p1f1\n",
      "getting CNRM-CERFACS_CNRM-CM6-1_r3i1p1f2\n",
      "got CNRM-CERFACS_CNRM-CM6-1_r3i1p1f2\n",
      "getting MPI-M_MPI-ESM1-2-HR_r1i1p1f1\n",
      "got MPI-M_MPI-ESM1-2-HR_r1i1p1f1\n",
      "getting MRI_MRI-ESM2-0_r6i1p1f1\n",
      "got MRI_MRI-ESM2-0_r6i1p1f1\n",
      "getting E3SM-Project_E3SM-1-0_r1i1p1f1\n",
      "got E3SM-Project_E3SM-1-0_r1i1p1f1\n",
      "getting IPSL_IPSL-CM6A-LR_r10i1p1f1\n",
      "got IPSL_IPSL-CM6A-LR_r10i1p1f1\n",
      "getting MRI_MRI-ESM2-0_r1i2p1f1\n",
      "got MRI_MRI-ESM2-0_r1i2p1f1\n",
      "getting MRI_MRI-ESM2-0_r12i1p1f1\n",
      "got MRI_MRI-ESM2-0_r12i1p1f1\n",
      "getting CNRM-CERFACS_CNRM-ESM2-1_r1i1p1f2\n",
      "got CNRM-CERFACS_CNRM-ESM2-1_r1i1p1f2\n",
      "getting CCCma_CanESM5_r1i1p2f1\n",
      "got CCCma_CanESM5_r1i1p2f1\n",
      "getting IPSL_IPSL-CM6A-LR_r1i1p1f1\n",
      "got IPSL_IPSL-CM6A-LR_r1i1p1f1\n",
      "getting MIROC_MIROC-ES2L_r1i1p1f2\n",
      "got MIROC_MIROC-ES2L_r1i1p1f2\n",
      "getting NOAA-GFDL_GFDL-CM4_r1i1p1f1\n",
      "got NOAA-GFDL_GFDL-CM4_r1i1p1f1\n",
      "getting INM_INM-CM5-0_r1i1p1f1\n",
      "got INM_INM-CM5-0_r1i1p1f1\n",
      "getting IPSL_IPSL-CM6A-LR_r5i1p1f1\n",
      "got IPSL_IPSL-CM6A-LR_r5i1p1f1\n",
      "getting CSIRO_ACCESS-ESM1-5_r1i1p1f1\n"
     ]
    },
    {
     "name": "stderr",
     "output_type": "stream",
     "text": [
      "/home/leachl/miniconda3/lib/python3.7/site-packages/xarray/coding/times.py:426: SerializationWarning: Unable to decode time axis into full numpy.datetime64 objects, continuing using cftime.datetime objects instead, reason: dates out of range\n",
      "  dtype = _decode_cf_datetime_dtype(data, units, calendar, self.use_cftime)\n",
      "/home/leachl/miniconda3/lib/python3.7/site-packages/numpy/core/_asarray.py:85: SerializationWarning: Unable to decode time axis into full numpy.datetime64 objects, continuing using cftime.datetime objects instead, reason: dates out of range\n",
      "  return array(a, dtype, copy=False, order=order)\n"
     ]
    },
    {
     "name": "stdout",
     "output_type": "stream",
     "text": [
      "got CSIRO_ACCESS-ESM1-5_r1i1p1f1\n",
      "getting MIROC_MIROC6_r1i1p1f1\n"
     ]
    },
    {
     "name": "stderr",
     "output_type": "stream",
     "text": [
      "/home/leachl/miniconda3/lib/python3.7/site-packages/xarray/coding/times.py:426: SerializationWarning: Unable to decode time axis into full numpy.datetime64 objects, continuing using cftime.datetime objects instead, reason: dates out of range\n",
      "  dtype = _decode_cf_datetime_dtype(data, units, calendar, self.use_cftime)\n",
      "/home/leachl/miniconda3/lib/python3.7/site-packages/numpy/core/_asarray.py:85: SerializationWarning: Unable to decode time axis into full numpy.datetime64 objects, continuing using cftime.datetime objects instead, reason: dates out of range\n",
      "  return array(a, dtype, copy=False, order=order)\n"
     ]
    },
    {
     "name": "stdout",
     "output_type": "stream",
     "text": [
      "got MIROC_MIROC6_r1i1p1f1\n",
      "getting MRI_MRI-ESM2-0_r13i1p1f1\n",
      "got MRI_MRI-ESM2-0_r13i1p1f1\n",
      "getting MRI_MRI-ESM2-0_r10i1p1f1\n",
      "got MRI_MRI-ESM2-0_r10i1p1f1\n",
      "getting NCAR_CESM2_r1i1p1f1\n",
      "got NCAR_CESM2_r1i1p1f1\n",
      "getting CNRM-CERFACS_CNRM-CM6-1_r2i1p1f2\n",
      "got CNRM-CERFACS_CNRM-CM6-1_r2i1p1f2\n",
      "getting MRI_MRI-ESM2-0_r1i1p1f1\n",
      "got MRI_MRI-ESM2-0_r1i1p1f1\n",
      "getting MPI-M_MPI-ESM1-2-LR_r1i1p1f1\n",
      "got MPI-M_MPI-ESM1-2-LR_r1i1p1f1\n",
      "getting NASA-GISS_GISS-E2-1-H_r1i1p1f1\n",
      "got NASA-GISS_GISS-E2-1-H_r1i1p1f1\n",
      "getting CNRM-CERFACS_CNRM-CM6-1-HR_r1i1p1f2\n",
      "got CNRM-CERFACS_CNRM-CM6-1-HR_r1i1p1f2\n",
      "getting MOHC_HadGEM3-GC31-LL_r1i1p1f3\n",
      "got MOHC_HadGEM3-GC31-LL_r1i1p1f3\n",
      "getting NCC_NorESM2-LM_r1i1p1f1\n",
      "got NCC_NorESM2-LM_r1i1p1f1\n",
      "getting MRI_MRI-ESM2-0_r4i1p1f1\n",
      "got MRI_MRI-ESM2-0_r4i1p1f1\n",
      "getting IPSL_IPSL-CM6A-LR_r12i1p1f1\n",
      "got IPSL_IPSL-CM6A-LR_r12i1p1f1\n",
      "getting MOHC_HadGEM3-GC31-MM_r1i1p1f3\n",
      "got MOHC_HadGEM3-GC31-MM_r1i1p1f3\n",
      "getting BCC_BCC-ESM1_r1i1p1f1\n",
      "got BCC_BCC-ESM1_r1i1p1f1\n",
      "getting CNRM-CERFACS_CNRM-CM6-1_r5i1p1f2\n",
      "got CNRM-CERFACS_CNRM-CM6-1_r5i1p1f2\n",
      "getting IPSL_IPSL-CM6A-LR_r7i1p1f1\n",
      "got IPSL_IPSL-CM6A-LR_r7i1p1f1\n",
      "getting MRI_MRI-ESM2-0_r2i1p1f1\n",
      "got MRI_MRI-ESM2-0_r2i1p1f1\n",
      "getting NCC_NorCPM1_r1i1p1f1\n",
      "got NCC_NorCPM1_r1i1p1f1\n",
      "getting NCC_NorESM2-MM_r1i1p1f1\n",
      "got NCC_NorESM2-MM_r1i1p1f1\n",
      "getting CNRM-CERFACS_CNRM-ESM2-1_r2i1p1f2\n",
      "got CNRM-CERFACS_CNRM-ESM2-1_r2i1p1f2\n",
      "getting IPSL_IPSL-CM6A-LR_r4i1p1f1\n",
      "got IPSL_IPSL-CM6A-LR_r4i1p1f1\n",
      "getting NCAR_CESM2-WACCM_r1i1p1f1\n",
      "got NCAR_CESM2-WACCM_r1i1p1f1\n",
      "getting IPSL_IPSL-CM6A-LR_r11i1p1f1\n",
      "got IPSL_IPSL-CM6A-LR_r11i1p1f1\n",
      "getting MRI_MRI-ESM2-0_r5i1p1f1\n",
      "got MRI_MRI-ESM2-0_r5i1p1f1\n",
      "getting MRI_MRI-ESM2-0_r7i1p1f1\n",
      "got MRI_MRI-ESM2-0_r7i1p1f1\n",
      "getting SNU_SAM0-UNICON_r1i1p1f1\n",
      "got SNU_SAM0-UNICON_r1i1p1f1\n",
      "getting NASA-GISS_GISS-E2-1-G_r1i1p5f1\n",
      "got NASA-GISS_GISS-E2-1-G_r1i1p5f1\n",
      "getting MOHC_UKESM1-0-LL_r1i1p1f2\n",
      "got MOHC_UKESM1-0-LL_r1i1p1f2\n",
      "getting NASA-GISS_GISS-E2-1-G_r102i1p1f1\n",
      "got NASA-GISS_GISS-E2-1-G_r102i1p1f1\n",
      "getting CNRM-CERFACS_CNRM-CM6-1_r1i1p1f2\n",
      "got CNRM-CERFACS_CNRM-CM6-1_r1i1p1f2\n",
      "getting NASA-GISS_GISS-E2-1-G_r1i1p3f1\n",
      "got NASA-GISS_GISS-E2-1-G_r1i1p3f1\n",
      "getting IPSL_IPSL-CM6A-LR_r8i1p1f1\n",
      "got IPSL_IPSL-CM6A-LR_r8i1p1f1\n",
      "getting CNRM-CERFACS_CNRM-CM6-1_r4i1p1f2\n",
      "got CNRM-CERFACS_CNRM-CM6-1_r4i1p1f2\n",
      "getting MRI_MRI-ESM2-0_r9i1p1f1\n",
      "got MRI_MRI-ESM2-0_r9i1p1f1\n",
      "getting NASA-GISS_GISS-E2-1-G_r1i1p1f1\n",
      "got NASA-GISS_GISS-E2-1-G_r1i1p1f1\n",
      "getting MRI_MRI-ESM2-0_r8i1p1f1\n",
      "got MRI_MRI-ESM2-0_r8i1p1f1\n",
      "getting INM_INM-CM4-8_r1i1p1f1\n",
      "got INM_INM-CM4-8_r1i1p1f1\n",
      "getting CAMS_CAMS-CSM1-0_r2i1p1f1\n",
      "got CAMS_CAMS-CSM1-0_r2i1p1f1\n"
     ]
    }
   ],
   "source": [
    "abrutp4x_tas_df_list = []\n",
    "for ism in abrupt_4x_ism_areacella_exist:\n",
    "    abrutp4x_tas_df_list += [get_cmip6_data_gs(ism,'tas','abrupt-4xCO2')]"
   ]
  },
  {
   "cell_type": "code",
   "execution_count": 77,
   "metadata": {},
   "outputs": [
    {
     "name": "stdout",
     "output_type": "stream",
     "text": [
      "getting IPSL_IPSL-CM6A-LR_r3i1p1f1\n",
      "got IPSL_IPSL-CM6A-LR_r3i1p1f1\n",
      "getting CCCma_CanESM5_r1i1p1f1\n",
      "got CCCma_CanESM5_r1i1p1f1\n",
      "getting CNRM-CERFACS_CNRM-CM6-1_r6i1p1f2\n",
      "got CNRM-CERFACS_CNRM-CM6-1_r6i1p1f2\n",
      "getting CNRM-CERFACS_CNRM-ESM2-1_r3i1p1f2\n",
      "got CNRM-CERFACS_CNRM-ESM2-1_r3i1p1f2\n",
      "getting CSIRO-ARCCSS_ACCESS-CM2_r1i1p1f1\n"
     ]
    },
    {
     "name": "stderr",
     "output_type": "stream",
     "text": [
      "/home/leachl/miniconda3/lib/python3.7/site-packages/xarray/coding/times.py:426: SerializationWarning: Unable to decode time axis into full numpy.datetime64 objects, continuing using cftime.datetime objects instead, reason: dates out of range\n",
      "  dtype = _decode_cf_datetime_dtype(data, units, calendar, self.use_cftime)\n",
      "/home/leachl/miniconda3/lib/python3.7/site-packages/numpy/core/_asarray.py:85: SerializationWarning: Unable to decode time axis into full numpy.datetime64 objects, continuing using cftime.datetime objects instead, reason: dates out of range\n",
      "  return array(a, dtype, copy=False, order=order)\n"
     ]
    },
    {
     "name": "stdout",
     "output_type": "stream",
     "text": [
      "got CSIRO-ARCCSS_ACCESS-CM2_r1i1p1f1\n",
      "getting CAMS_CAMS-CSM1-0_r1i1p1f1\n",
      "got CAMS_CAMS-CSM1-0_r1i1p1f1\n",
      "getting IPSL_IPSL-CM6A-LR_r2i1p1f1\n",
      "got IPSL_IPSL-CM6A-LR_r2i1p1f1\n",
      "getting IPSL_IPSL-CM6A-LR_r6i1p1f1\n",
      "got IPSL_IPSL-CM6A-LR_r6i1p1f1\n",
      "getting IPSL_IPSL-CM6A-LR_r9i1p1f1\n",
      "got IPSL_IPSL-CM6A-LR_r9i1p1f1\n",
      "getting NASA-GISS_GISS-E2-1-G_r1i1p1f3\n",
      "got NASA-GISS_GISS-E2-1-G_r1i1p1f3\n",
      "getting NOAA-GFDL_GFDL-ESM4_r1i1p1f1\n",
      "got NOAA-GFDL_GFDL-ESM4_r1i1p1f1\n",
      "getting MRI_MRI-ESM2-0_r11i1p1f1\n",
      "got MRI_MRI-ESM2-0_r11i1p1f1\n",
      "getting MRI_MRI-ESM2-0_r3i1p1f1\n",
      "got MRI_MRI-ESM2-0_r3i1p1f1\n",
      "getting CNRM-CERFACS_CNRM-CM6-1_r3i1p1f2\n",
      "got CNRM-CERFACS_CNRM-CM6-1_r3i1p1f2\n",
      "getting MPI-M_MPI-ESM1-2-HR_r1i1p1f1\n",
      "got MPI-M_MPI-ESM1-2-HR_r1i1p1f1\n",
      "getting MRI_MRI-ESM2-0_r6i1p1f1\n",
      "got MRI_MRI-ESM2-0_r6i1p1f1\n",
      "getting E3SM-Project_E3SM-1-0_r1i1p1f1\n",
      "got E3SM-Project_E3SM-1-0_r1i1p1f1\n",
      "getting IPSL_IPSL-CM6A-LR_r10i1p1f1\n",
      "got IPSL_IPSL-CM6A-LR_r10i1p1f1\n",
      "getting MRI_MRI-ESM2-0_r1i2p1f1\n",
      "got MRI_MRI-ESM2-0_r1i2p1f1\n",
      "getting MRI_MRI-ESM2-0_r12i1p1f1\n",
      "got MRI_MRI-ESM2-0_r12i1p1f1\n",
      "getting CNRM-CERFACS_CNRM-ESM2-1_r1i1p1f2\n",
      "got CNRM-CERFACS_CNRM-ESM2-1_r1i1p1f2\n",
      "getting CCCma_CanESM5_r1i1p2f1\n",
      "got CCCma_CanESM5_r1i1p2f1\n",
      "getting IPSL_IPSL-CM6A-LR_r1i1p1f1\n"
     ]
    },
    {
     "name": "stderr",
     "output_type": "stream",
     "text": [
      "/home/leachl/miniconda3/lib/python3.7/site-packages/xarray/coding/times.py:426: SerializationWarning: Unable to decode time axis into full numpy.datetime64 objects, continuing using cftime.datetime objects instead, reason: dates out of range\n",
      "  dtype = _decode_cf_datetime_dtype(data, units, calendar, self.use_cftime)\n",
      "/home/leachl/miniconda3/lib/python3.7/site-packages/xarray/coding/times.py:426: SerializationWarning: Unable to decode time axis into full numpy.datetime64 objects, continuing using cftime.datetime objects instead, reason: dates out of range\n",
      "  dtype = _decode_cf_datetime_dtype(data, units, calendar, self.use_cftime)\n",
      "/home/leachl/miniconda3/lib/python3.7/site-packages/numpy/core/_asarray.py:85: SerializationWarning: Unable to decode time axis into full numpy.datetime64 objects, continuing using cftime.datetime objects instead, reason: dates out of range\n",
      "  return array(a, dtype, copy=False, order=order)\n"
     ]
    },
    {
     "name": "stdout",
     "output_type": "stream",
     "text": [
      "got IPSL_IPSL-CM6A-LR_r1i1p1f1\n",
      "getting MIROC_MIROC-ES2L_r1i1p1f2\n",
      "got MIROC_MIROC-ES2L_r1i1p1f2\n",
      "getting NOAA-GFDL_GFDL-CM4_r1i1p1f1\n",
      "got NOAA-GFDL_GFDL-CM4_r1i1p1f1\n",
      "getting INM_INM-CM5-0_r1i1p1f1\n",
      "got INM_INM-CM5-0_r1i1p1f1\n",
      "getting IPSL_IPSL-CM6A-LR_r5i1p1f1\n",
      "got IPSL_IPSL-CM6A-LR_r5i1p1f1\n",
      "getting CSIRO_ACCESS-ESM1-5_r1i1p1f1\n"
     ]
    },
    {
     "name": "stderr",
     "output_type": "stream",
     "text": [
      "/home/leachl/miniconda3/lib/python3.7/site-packages/xarray/coding/times.py:426: SerializationWarning: Unable to decode time axis into full numpy.datetime64 objects, continuing using cftime.datetime objects instead, reason: dates out of range\n",
      "  dtype = _decode_cf_datetime_dtype(data, units, calendar, self.use_cftime)\n",
      "/home/leachl/miniconda3/lib/python3.7/site-packages/numpy/core/_asarray.py:85: SerializationWarning: Unable to decode time axis into full numpy.datetime64 objects, continuing using cftime.datetime objects instead, reason: dates out of range\n",
      "  return array(a, dtype, copy=False, order=order)\n"
     ]
    },
    {
     "name": "stdout",
     "output_type": "stream",
     "text": [
      "got CSIRO_ACCESS-ESM1-5_r1i1p1f1\n",
      "getting MIROC_MIROC6_r1i1p1f1\n"
     ]
    },
    {
     "name": "stderr",
     "output_type": "stream",
     "text": [
      "/home/leachl/miniconda3/lib/python3.7/site-packages/xarray/coding/times.py:426: SerializationWarning: Unable to decode time axis into full numpy.datetime64 objects, continuing using cftime.datetime objects instead, reason: dates out of range\n",
      "  dtype = _decode_cf_datetime_dtype(data, units, calendar, self.use_cftime)\n",
      "/home/leachl/miniconda3/lib/python3.7/site-packages/numpy/core/_asarray.py:85: SerializationWarning: Unable to decode time axis into full numpy.datetime64 objects, continuing using cftime.datetime objects instead, reason: dates out of range\n",
      "  return array(a, dtype, copy=False, order=order)\n"
     ]
    },
    {
     "name": "stdout",
     "output_type": "stream",
     "text": [
      "got MIROC_MIROC6_r1i1p1f1\n",
      "getting MRI_MRI-ESM2-0_r13i1p1f1\n",
      "got MRI_MRI-ESM2-0_r13i1p1f1\n",
      "getting MRI_MRI-ESM2-0_r10i1p1f1\n",
      "got MRI_MRI-ESM2-0_r10i1p1f1\n",
      "getting NCAR_CESM2_r1i1p1f1\n",
      "got NCAR_CESM2_r1i1p1f1\n",
      "getting CNRM-CERFACS_CNRM-CM6-1_r2i1p1f2\n",
      "got CNRM-CERFACS_CNRM-CM6-1_r2i1p1f2\n",
      "getting MRI_MRI-ESM2-0_r1i1p1f1\n",
      "got MRI_MRI-ESM2-0_r1i1p1f1\n",
      "getting MPI-M_MPI-ESM1-2-LR_r1i1p1f1\n",
      "got MPI-M_MPI-ESM1-2-LR_r1i1p1f1\n",
      "getting NASA-GISS_GISS-E2-1-H_r1i1p1f1\n",
      "got NASA-GISS_GISS-E2-1-H_r1i1p1f1\n",
      "getting CNRM-CERFACS_CNRM-CM6-1-HR_r1i1p1f2\n",
      "got CNRM-CERFACS_CNRM-CM6-1-HR_r1i1p1f2\n",
      "getting MOHC_HadGEM3-GC31-LL_r1i1p1f3\n",
      "got MOHC_HadGEM3-GC31-LL_r1i1p1f3\n",
      "getting NCC_NorESM2-LM_r1i1p1f1\n",
      "got NCC_NorESM2-LM_r1i1p1f1\n",
      "getting MRI_MRI-ESM2-0_r4i1p1f1\n",
      "got MRI_MRI-ESM2-0_r4i1p1f1\n",
      "getting IPSL_IPSL-CM6A-LR_r12i1p1f1\n",
      "got IPSL_IPSL-CM6A-LR_r12i1p1f1\n",
      "getting MOHC_HadGEM3-GC31-MM_r1i1p1f3\n",
      "got MOHC_HadGEM3-GC31-MM_r1i1p1f3\n",
      "getting BCC_BCC-ESM1_r1i1p1f1\n",
      "got BCC_BCC-ESM1_r1i1p1f1\n",
      "getting CNRM-CERFACS_CNRM-CM6-1_r5i1p1f2\n",
      "got CNRM-CERFACS_CNRM-CM6-1_r5i1p1f2\n",
      "getting IPSL_IPSL-CM6A-LR_r7i1p1f1\n",
      "got IPSL_IPSL-CM6A-LR_r7i1p1f1\n",
      "getting MRI_MRI-ESM2-0_r2i1p1f1\n",
      "got MRI_MRI-ESM2-0_r2i1p1f1\n",
      "getting NCC_NorCPM1_r1i1p1f1\n",
      "got NCC_NorCPM1_r1i1p1f1\n",
      "getting NCC_NorESM2-MM_r1i1p1f1\n",
      "got NCC_NorESM2-MM_r1i1p1f1\n",
      "getting CNRM-CERFACS_CNRM-ESM2-1_r2i1p1f2\n",
      "got CNRM-CERFACS_CNRM-ESM2-1_r2i1p1f2\n",
      "getting IPSL_IPSL-CM6A-LR_r4i1p1f1\n",
      "got IPSL_IPSL-CM6A-LR_r4i1p1f1\n",
      "getting NCAR_CESM2-WACCM_r1i1p1f1\n",
      "got NCAR_CESM2-WACCM_r1i1p1f1\n",
      "getting IPSL_IPSL-CM6A-LR_r11i1p1f1\n",
      "got IPSL_IPSL-CM6A-LR_r11i1p1f1\n",
      "getting MRI_MRI-ESM2-0_r5i1p1f1\n",
      "got MRI_MRI-ESM2-0_r5i1p1f1\n",
      "getting MRI_MRI-ESM2-0_r7i1p1f1\n",
      "got MRI_MRI-ESM2-0_r7i1p1f1\n",
      "getting SNU_SAM0-UNICON_r1i1p1f1\n",
      "got SNU_SAM0-UNICON_r1i1p1f1\n",
      "getting NASA-GISS_GISS-E2-1-G_r1i1p5f1\n",
      "got NASA-GISS_GISS-E2-1-G_r1i1p5f1\n",
      "getting MOHC_UKESM1-0-LL_r1i1p1f2\n",
      "got MOHC_UKESM1-0-LL_r1i1p1f2\n",
      "getting NASA-GISS_GISS-E2-1-G_r102i1p1f1\n",
      "got NASA-GISS_GISS-E2-1-G_r102i1p1f1\n",
      "getting CNRM-CERFACS_CNRM-CM6-1_r1i1p1f2\n",
      "got CNRM-CERFACS_CNRM-CM6-1_r1i1p1f2\n",
      "getting NASA-GISS_GISS-E2-1-G_r1i1p3f1\n",
      "got NASA-GISS_GISS-E2-1-G_r1i1p3f1\n",
      "getting IPSL_IPSL-CM6A-LR_r8i1p1f1\n",
      "got IPSL_IPSL-CM6A-LR_r8i1p1f1\n",
      "getting CNRM-CERFACS_CNRM-CM6-1_r4i1p1f2\n",
      "got CNRM-CERFACS_CNRM-CM6-1_r4i1p1f2\n",
      "getting MRI_MRI-ESM2-0_r9i1p1f1\n",
      "got MRI_MRI-ESM2-0_r9i1p1f1\n",
      "getting NASA-GISS_GISS-E2-1-G_r1i1p1f1\n",
      "got NASA-GISS_GISS-E2-1-G_r1i1p1f1\n",
      "getting MRI_MRI-ESM2-0_r8i1p1f1\n",
      "got MRI_MRI-ESM2-0_r8i1p1f1\n",
      "getting INM_INM-CM4-8_r1i1p1f1\n",
      "got INM_INM-CM4-8_r1i1p1f1\n",
      "getting CAMS_CAMS-CSM1-0_r2i1p1f1\n",
      "got CAMS_CAMS-CSM1-0_r2i1p1f1\n"
     ]
    }
   ],
   "source": [
    "abrutp4x_rlut_df_list = []\n",
    "for ism in abrupt_4x_ism_areacella_exist:\n",
    "    abrutp4x_rlut_df_list += [get_cmip6_data_gs(ism,'rlut','abrupt-4xCO2')]"
   ]
  },
  {
   "cell_type": "code",
   "execution_count": 75,
   "metadata": {},
   "outputs": [
    {
     "name": "stdout",
     "output_type": "stream",
     "text": [
      "getting IPSL_IPSL-CM6A-LR_r3i1p1f1\n",
      "got IPSL_IPSL-CM6A-LR_r3i1p1f1\n",
      "getting CCCma_CanESM5_r1i1p1f1\n",
      "got CCCma_CanESM5_r1i1p1f1\n",
      "getting CNRM-CERFACS_CNRM-CM6-1_r6i1p1f2\n",
      "got CNRM-CERFACS_CNRM-CM6-1_r6i1p1f2\n",
      "getting CNRM-CERFACS_CNRM-ESM2-1_r3i1p1f2\n",
      "got CNRM-CERFACS_CNRM-ESM2-1_r3i1p1f2\n",
      "getting CSIRO-ARCCSS_ACCESS-CM2_r1i1p1f1\n"
     ]
    },
    {
     "name": "stderr",
     "output_type": "stream",
     "text": [
      "/home/leachl/miniconda3/lib/python3.7/site-packages/xarray/coding/times.py:426: SerializationWarning: Unable to decode time axis into full numpy.datetime64 objects, continuing using cftime.datetime objects instead, reason: dates out of range\n",
      "  dtype = _decode_cf_datetime_dtype(data, units, calendar, self.use_cftime)\n",
      "/home/leachl/miniconda3/lib/python3.7/site-packages/numpy/core/_asarray.py:85: SerializationWarning: Unable to decode time axis into full numpy.datetime64 objects, continuing using cftime.datetime objects instead, reason: dates out of range\n",
      "  return array(a, dtype, copy=False, order=order)\n"
     ]
    },
    {
     "name": "stdout",
     "output_type": "stream",
     "text": [
      "got CSIRO-ARCCSS_ACCESS-CM2_r1i1p1f1\n",
      "getting CAMS_CAMS-CSM1-0_r1i1p1f1\n",
      "got CAMS_CAMS-CSM1-0_r1i1p1f1\n",
      "getting IPSL_IPSL-CM6A-LR_r2i1p1f1\n",
      "got IPSL_IPSL-CM6A-LR_r2i1p1f1\n",
      "getting IPSL_IPSL-CM6A-LR_r6i1p1f1\n",
      "got IPSL_IPSL-CM6A-LR_r6i1p1f1\n",
      "getting IPSL_IPSL-CM6A-LR_r9i1p1f1\n",
      "got IPSL_IPSL-CM6A-LR_r9i1p1f1\n",
      "getting NASA-GISS_GISS-E2-1-G_r1i1p1f3\n",
      "got NASA-GISS_GISS-E2-1-G_r1i1p1f3\n",
      "getting NOAA-GFDL_GFDL-ESM4_r1i1p1f1\n",
      "got NOAA-GFDL_GFDL-ESM4_r1i1p1f1\n",
      "getting MRI_MRI-ESM2-0_r11i1p1f1\n",
      "got MRI_MRI-ESM2-0_r11i1p1f1\n",
      "getting MRI_MRI-ESM2-0_r3i1p1f1\n",
      "got MRI_MRI-ESM2-0_r3i1p1f1\n",
      "getting CNRM-CERFACS_CNRM-CM6-1_r3i1p1f2\n",
      "got CNRM-CERFACS_CNRM-CM6-1_r3i1p1f2\n",
      "getting MPI-M_MPI-ESM1-2-HR_r1i1p1f1\n",
      "got MPI-M_MPI-ESM1-2-HR_r1i1p1f1\n",
      "getting MRI_MRI-ESM2-0_r6i1p1f1\n",
      "got MRI_MRI-ESM2-0_r6i1p1f1\n",
      "getting E3SM-Project_E3SM-1-0_r1i1p1f1\n",
      "got E3SM-Project_E3SM-1-0_r1i1p1f1\n",
      "getting IPSL_IPSL-CM6A-LR_r10i1p1f1\n",
      "got IPSL_IPSL-CM6A-LR_r10i1p1f1\n",
      "getting MRI_MRI-ESM2-0_r1i2p1f1\n",
      "got MRI_MRI-ESM2-0_r1i2p1f1\n",
      "getting MRI_MRI-ESM2-0_r12i1p1f1\n",
      "got MRI_MRI-ESM2-0_r12i1p1f1\n",
      "getting CNRM-CERFACS_CNRM-ESM2-1_r1i1p1f2\n",
      "got CNRM-CERFACS_CNRM-ESM2-1_r1i1p1f2\n",
      "getting CCCma_CanESM5_r1i1p2f1\n",
      "got CCCma_CanESM5_r1i1p2f1\n",
      "getting IPSL_IPSL-CM6A-LR_r1i1p1f1\n",
      "got IPSL_IPSL-CM6A-LR_r1i1p1f1\n",
      "getting MIROC_MIROC-ES2L_r1i1p1f2\n",
      "got MIROC_MIROC-ES2L_r1i1p1f2\n",
      "getting NOAA-GFDL_GFDL-CM4_r1i1p1f1\n",
      "got NOAA-GFDL_GFDL-CM4_r1i1p1f1\n",
      "getting INM_INM-CM5-0_r1i1p1f1\n",
      "got INM_INM-CM5-0_r1i1p1f1\n",
      "getting IPSL_IPSL-CM6A-LR_r5i1p1f1\n",
      "got IPSL_IPSL-CM6A-LR_r5i1p1f1\n",
      "getting CSIRO_ACCESS-ESM1-5_r1i1p1f1\n"
     ]
    },
    {
     "name": "stderr",
     "output_type": "stream",
     "text": [
      "/home/leachl/miniconda3/lib/python3.7/site-packages/xarray/coding/times.py:426: SerializationWarning: Unable to decode time axis into full numpy.datetime64 objects, continuing using cftime.datetime objects instead, reason: dates out of range\n",
      "  dtype = _decode_cf_datetime_dtype(data, units, calendar, self.use_cftime)\n",
      "/home/leachl/miniconda3/lib/python3.7/site-packages/numpy/core/_asarray.py:85: SerializationWarning: Unable to decode time axis into full numpy.datetime64 objects, continuing using cftime.datetime objects instead, reason: dates out of range\n",
      "  return array(a, dtype, copy=False, order=order)\n"
     ]
    },
    {
     "name": "stdout",
     "output_type": "stream",
     "text": [
      "got CSIRO_ACCESS-ESM1-5_r1i1p1f1\n",
      "getting MIROC_MIROC6_r1i1p1f1\n"
     ]
    },
    {
     "name": "stderr",
     "output_type": "stream",
     "text": [
      "/home/leachl/miniconda3/lib/python3.7/site-packages/xarray/coding/times.py:426: SerializationWarning: Unable to decode time axis into full numpy.datetime64 objects, continuing using cftime.datetime objects instead, reason: dates out of range\n",
      "  dtype = _decode_cf_datetime_dtype(data, units, calendar, self.use_cftime)\n",
      "/home/leachl/miniconda3/lib/python3.7/site-packages/numpy/core/_asarray.py:85: SerializationWarning: Unable to decode time axis into full numpy.datetime64 objects, continuing using cftime.datetime objects instead, reason: dates out of range\n",
      "  return array(a, dtype, copy=False, order=order)\n"
     ]
    },
    {
     "name": "stdout",
     "output_type": "stream",
     "text": [
      "got MIROC_MIROC6_r1i1p1f1\n",
      "getting MRI_MRI-ESM2-0_r13i1p1f1\n",
      "got MRI_MRI-ESM2-0_r13i1p1f1\n",
      "getting MRI_MRI-ESM2-0_r10i1p1f1\n",
      "got MRI_MRI-ESM2-0_r10i1p1f1\n",
      "getting NCAR_CESM2_r1i1p1f1\n",
      "got NCAR_CESM2_r1i1p1f1\n",
      "getting CNRM-CERFACS_CNRM-CM6-1_r2i1p1f2\n",
      "got CNRM-CERFACS_CNRM-CM6-1_r2i1p1f2\n",
      "getting MRI_MRI-ESM2-0_r1i1p1f1\n",
      "got MRI_MRI-ESM2-0_r1i1p1f1\n",
      "getting MPI-M_MPI-ESM1-2-LR_r1i1p1f1\n",
      "got MPI-M_MPI-ESM1-2-LR_r1i1p1f1\n",
      "getting NASA-GISS_GISS-E2-1-H_r1i1p1f1\n",
      "got NASA-GISS_GISS-E2-1-H_r1i1p1f1\n",
      "getting CNRM-CERFACS_CNRM-CM6-1-HR_r1i1p1f2\n",
      "got CNRM-CERFACS_CNRM-CM6-1-HR_r1i1p1f2\n",
      "getting MOHC_HadGEM3-GC31-LL_r1i1p1f3\n",
      "got MOHC_HadGEM3-GC31-LL_r1i1p1f3\n",
      "getting NCC_NorESM2-LM_r1i1p1f1\n",
      "got NCC_NorESM2-LM_r1i1p1f1\n",
      "getting MRI_MRI-ESM2-0_r4i1p1f1\n",
      "got MRI_MRI-ESM2-0_r4i1p1f1\n",
      "getting IPSL_IPSL-CM6A-LR_r12i1p1f1\n",
      "got IPSL_IPSL-CM6A-LR_r12i1p1f1\n",
      "getting MOHC_HadGEM3-GC31-MM_r1i1p1f3\n",
      "got MOHC_HadGEM3-GC31-MM_r1i1p1f3\n",
      "getting BCC_BCC-ESM1_r1i1p1f1\n",
      "got BCC_BCC-ESM1_r1i1p1f1\n",
      "getting CNRM-CERFACS_CNRM-CM6-1_r5i1p1f2\n",
      "got CNRM-CERFACS_CNRM-CM6-1_r5i1p1f2\n",
      "getting IPSL_IPSL-CM6A-LR_r7i1p1f1\n",
      "got IPSL_IPSL-CM6A-LR_r7i1p1f1\n",
      "getting MRI_MRI-ESM2-0_r2i1p1f1\n",
      "got MRI_MRI-ESM2-0_r2i1p1f1\n",
      "getting NCC_NorCPM1_r1i1p1f1\n",
      "got NCC_NorCPM1_r1i1p1f1\n",
      "getting NCC_NorESM2-MM_r1i1p1f1\n",
      "got NCC_NorESM2-MM_r1i1p1f1\n",
      "getting CNRM-CERFACS_CNRM-ESM2-1_r2i1p1f2\n",
      "got CNRM-CERFACS_CNRM-ESM2-1_r2i1p1f2\n",
      "getting IPSL_IPSL-CM6A-LR_r4i1p1f1\n",
      "got IPSL_IPSL-CM6A-LR_r4i1p1f1\n",
      "getting NCAR_CESM2-WACCM_r1i1p1f1\n",
      "got NCAR_CESM2-WACCM_r1i1p1f1\n",
      "getting IPSL_IPSL-CM6A-LR_r11i1p1f1\n",
      "got IPSL_IPSL-CM6A-LR_r11i1p1f1\n",
      "getting MRI_MRI-ESM2-0_r5i1p1f1\n",
      "got MRI_MRI-ESM2-0_r5i1p1f1\n",
      "getting MRI_MRI-ESM2-0_r7i1p1f1\n",
      "got MRI_MRI-ESM2-0_r7i1p1f1\n",
      "getting SNU_SAM0-UNICON_r1i1p1f1\n",
      "got SNU_SAM0-UNICON_r1i1p1f1\n",
      "getting NASA-GISS_GISS-E2-1-G_r1i1p5f1\n",
      "got NASA-GISS_GISS-E2-1-G_r1i1p5f1\n",
      "getting MOHC_UKESM1-0-LL_r1i1p1f2\n",
      "got MOHC_UKESM1-0-LL_r1i1p1f2\n",
      "getting NASA-GISS_GISS-E2-1-G_r102i1p1f1\n",
      "got NASA-GISS_GISS-E2-1-G_r102i1p1f1\n",
      "getting CNRM-CERFACS_CNRM-CM6-1_r1i1p1f2\n",
      "got CNRM-CERFACS_CNRM-CM6-1_r1i1p1f2\n",
      "getting NASA-GISS_GISS-E2-1-G_r1i1p3f1\n",
      "got NASA-GISS_GISS-E2-1-G_r1i1p3f1\n",
      "getting IPSL_IPSL-CM6A-LR_r8i1p1f1\n",
      "got IPSL_IPSL-CM6A-LR_r8i1p1f1\n",
      "getting CNRM-CERFACS_CNRM-CM6-1_r4i1p1f2\n",
      "got CNRM-CERFACS_CNRM-CM6-1_r4i1p1f2\n",
      "getting MRI_MRI-ESM2-0_r9i1p1f1\n",
      "got MRI_MRI-ESM2-0_r9i1p1f1\n",
      "getting NASA-GISS_GISS-E2-1-G_r1i1p1f1\n",
      "got NASA-GISS_GISS-E2-1-G_r1i1p1f1\n",
      "getting MRI_MRI-ESM2-0_r8i1p1f1\n",
      "got MRI_MRI-ESM2-0_r8i1p1f1\n",
      "getting INM_INM-CM4-8_r1i1p1f1\n",
      "got INM_INM-CM4-8_r1i1p1f1\n",
      "getting CAMS_CAMS-CSM1-0_r2i1p1f1\n",
      "got CAMS_CAMS-CSM1-0_r2i1p1f1\n"
     ]
    }
   ],
   "source": [
    "abrutp4x_rsut_df_list = []\n",
    "for ism in abrupt_4x_ism_areacella_exist:\n",
    "    abrutp4x_rsut_df_list += [get_cmip6_data_gs(ism,'rsut','abrupt-4xCO2')]"
   ]
  },
  {
   "cell_type": "code",
   "execution_count": 76,
   "metadata": {},
   "outputs": [
    {
     "name": "stdout",
     "output_type": "stream",
     "text": [
      "getting IPSL_IPSL-CM6A-LR_r3i1p1f1\n",
      "got IPSL_IPSL-CM6A-LR_r3i1p1f1\n",
      "getting CCCma_CanESM5_r1i1p1f1\n",
      "got CCCma_CanESM5_r1i1p1f1\n",
      "getting CNRM-CERFACS_CNRM-CM6-1_r6i1p1f2\n",
      "got CNRM-CERFACS_CNRM-CM6-1_r6i1p1f2\n",
      "getting CNRM-CERFACS_CNRM-ESM2-1_r3i1p1f2\n",
      "got CNRM-CERFACS_CNRM-ESM2-1_r3i1p1f2\n",
      "getting CSIRO-ARCCSS_ACCESS-CM2_r1i1p1f1\n"
     ]
    },
    {
     "name": "stderr",
     "output_type": "stream",
     "text": [
      "/home/leachl/miniconda3/lib/python3.7/site-packages/xarray/coding/times.py:426: SerializationWarning: Unable to decode time axis into full numpy.datetime64 objects, continuing using cftime.datetime objects instead, reason: dates out of range\n",
      "  dtype = _decode_cf_datetime_dtype(data, units, calendar, self.use_cftime)\n",
      "/home/leachl/miniconda3/lib/python3.7/site-packages/numpy/core/_asarray.py:85: SerializationWarning: Unable to decode time axis into full numpy.datetime64 objects, continuing using cftime.datetime objects instead, reason: dates out of range\n",
      "  return array(a, dtype, copy=False, order=order)\n"
     ]
    },
    {
     "name": "stdout",
     "output_type": "stream",
     "text": [
      "got CSIRO-ARCCSS_ACCESS-CM2_r1i1p1f1\n",
      "getting CAMS_CAMS-CSM1-0_r1i1p1f1\n",
      "got CAMS_CAMS-CSM1-0_r1i1p1f1\n",
      "getting IPSL_IPSL-CM6A-LR_r2i1p1f1\n",
      "got IPSL_IPSL-CM6A-LR_r2i1p1f1\n",
      "getting IPSL_IPSL-CM6A-LR_r6i1p1f1\n",
      "got IPSL_IPSL-CM6A-LR_r6i1p1f1\n",
      "getting IPSL_IPSL-CM6A-LR_r9i1p1f1\n",
      "got IPSL_IPSL-CM6A-LR_r9i1p1f1\n",
      "getting NASA-GISS_GISS-E2-1-G_r1i1p1f3\n",
      "got NASA-GISS_GISS-E2-1-G_r1i1p1f3\n",
      "getting NOAA-GFDL_GFDL-ESM4_r1i1p1f1\n",
      "got NOAA-GFDL_GFDL-ESM4_r1i1p1f1\n",
      "getting MRI_MRI-ESM2-0_r11i1p1f1\n",
      "got MRI_MRI-ESM2-0_r11i1p1f1\n",
      "getting MRI_MRI-ESM2-0_r3i1p1f1\n",
      "got MRI_MRI-ESM2-0_r3i1p1f1\n",
      "getting CNRM-CERFACS_CNRM-CM6-1_r3i1p1f2\n",
      "got CNRM-CERFACS_CNRM-CM6-1_r3i1p1f2\n",
      "getting MPI-M_MPI-ESM1-2-HR_r1i1p1f1\n",
      "got MPI-M_MPI-ESM1-2-HR_r1i1p1f1\n",
      "getting MRI_MRI-ESM2-0_r6i1p1f1\n",
      "got MRI_MRI-ESM2-0_r6i1p1f1\n",
      "getting E3SM-Project_E3SM-1-0_r1i1p1f1\n",
      "got E3SM-Project_E3SM-1-0_r1i1p1f1\n",
      "getting IPSL_IPSL-CM6A-LR_r10i1p1f1\n",
      "got IPSL_IPSL-CM6A-LR_r10i1p1f1\n",
      "getting MRI_MRI-ESM2-0_r1i2p1f1\n",
      "got MRI_MRI-ESM2-0_r1i2p1f1\n",
      "getting MRI_MRI-ESM2-0_r12i1p1f1\n",
      "got MRI_MRI-ESM2-0_r12i1p1f1\n",
      "getting CNRM-CERFACS_CNRM-ESM2-1_r1i1p1f2\n",
      "got CNRM-CERFACS_CNRM-ESM2-1_r1i1p1f2\n",
      "getting CCCma_CanESM5_r1i1p2f1\n",
      "got CCCma_CanESM5_r1i1p2f1\n",
      "getting IPSL_IPSL-CM6A-LR_r1i1p1f1\n",
      "got IPSL_IPSL-CM6A-LR_r1i1p1f1\n",
      "getting MIROC_MIROC-ES2L_r1i1p1f2\n",
      "got MIROC_MIROC-ES2L_r1i1p1f2\n",
      "getting NOAA-GFDL_GFDL-CM4_r1i1p1f1\n",
      "got NOAA-GFDL_GFDL-CM4_r1i1p1f1\n",
      "getting INM_INM-CM5-0_r1i1p1f1\n",
      "got INM_INM-CM5-0_r1i1p1f1\n",
      "getting IPSL_IPSL-CM6A-LR_r5i1p1f1\n",
      "got IPSL_IPSL-CM6A-LR_r5i1p1f1\n",
      "getting CSIRO_ACCESS-ESM1-5_r1i1p1f1\n"
     ]
    },
    {
     "name": "stderr",
     "output_type": "stream",
     "text": [
      "/home/leachl/miniconda3/lib/python3.7/site-packages/xarray/coding/times.py:426: SerializationWarning: Unable to decode time axis into full numpy.datetime64 objects, continuing using cftime.datetime objects instead, reason: dates out of range\n",
      "  dtype = _decode_cf_datetime_dtype(data, units, calendar, self.use_cftime)\n",
      "/home/leachl/miniconda3/lib/python3.7/site-packages/numpy/core/_asarray.py:85: SerializationWarning: Unable to decode time axis into full numpy.datetime64 objects, continuing using cftime.datetime objects instead, reason: dates out of range\n",
      "  return array(a, dtype, copy=False, order=order)\n"
     ]
    },
    {
     "name": "stdout",
     "output_type": "stream",
     "text": [
      "got CSIRO_ACCESS-ESM1-5_r1i1p1f1\n",
      "getting MIROC_MIROC6_r1i1p1f1\n"
     ]
    },
    {
     "name": "stderr",
     "output_type": "stream",
     "text": [
      "/home/leachl/miniconda3/lib/python3.7/site-packages/xarray/coding/times.py:426: SerializationWarning: Unable to decode time axis into full numpy.datetime64 objects, continuing using cftime.datetime objects instead, reason: dates out of range\n",
      "  dtype = _decode_cf_datetime_dtype(data, units, calendar, self.use_cftime)\n",
      "/home/leachl/miniconda3/lib/python3.7/site-packages/numpy/core/_asarray.py:85: SerializationWarning: Unable to decode time axis into full numpy.datetime64 objects, continuing using cftime.datetime objects instead, reason: dates out of range\n",
      "  return array(a, dtype, copy=False, order=order)\n"
     ]
    },
    {
     "name": "stdout",
     "output_type": "stream",
     "text": [
      "got MIROC_MIROC6_r1i1p1f1\n",
      "getting MRI_MRI-ESM2-0_r13i1p1f1\n",
      "got MRI_MRI-ESM2-0_r13i1p1f1\n",
      "getting MRI_MRI-ESM2-0_r10i1p1f1\n",
      "got MRI_MRI-ESM2-0_r10i1p1f1\n",
      "getting NCAR_CESM2_r1i1p1f1\n",
      "got NCAR_CESM2_r1i1p1f1\n",
      "getting CNRM-CERFACS_CNRM-CM6-1_r2i1p1f2\n",
      "got CNRM-CERFACS_CNRM-CM6-1_r2i1p1f2\n",
      "getting MRI_MRI-ESM2-0_r1i1p1f1\n",
      "got MRI_MRI-ESM2-0_r1i1p1f1\n",
      "getting MPI-M_MPI-ESM1-2-LR_r1i1p1f1\n",
      "got MPI-M_MPI-ESM1-2-LR_r1i1p1f1\n",
      "getting NASA-GISS_GISS-E2-1-H_r1i1p1f1\n",
      "got NASA-GISS_GISS-E2-1-H_r1i1p1f1\n",
      "getting CNRM-CERFACS_CNRM-CM6-1-HR_r1i1p1f2\n",
      "got CNRM-CERFACS_CNRM-CM6-1-HR_r1i1p1f2\n",
      "getting MOHC_HadGEM3-GC31-LL_r1i1p1f3\n",
      "got MOHC_HadGEM3-GC31-LL_r1i1p1f3\n",
      "getting NCC_NorESM2-LM_r1i1p1f1\n",
      "got NCC_NorESM2-LM_r1i1p1f1\n",
      "getting MRI_MRI-ESM2-0_r4i1p1f1\n",
      "got MRI_MRI-ESM2-0_r4i1p1f1\n",
      "getting IPSL_IPSL-CM6A-LR_r12i1p1f1\n",
      "got IPSL_IPSL-CM6A-LR_r12i1p1f1\n",
      "getting MOHC_HadGEM3-GC31-MM_r1i1p1f3\n",
      "got MOHC_HadGEM3-GC31-MM_r1i1p1f3\n",
      "getting BCC_BCC-ESM1_r1i1p1f1\n",
      "got BCC_BCC-ESM1_r1i1p1f1\n",
      "getting CNRM-CERFACS_CNRM-CM6-1_r5i1p1f2\n",
      "got CNRM-CERFACS_CNRM-CM6-1_r5i1p1f2\n",
      "getting IPSL_IPSL-CM6A-LR_r7i1p1f1\n",
      "got IPSL_IPSL-CM6A-LR_r7i1p1f1\n",
      "getting MRI_MRI-ESM2-0_r2i1p1f1\n",
      "got MRI_MRI-ESM2-0_r2i1p1f1\n",
      "getting NCC_NorCPM1_r1i1p1f1\n",
      "got NCC_NorCPM1_r1i1p1f1\n",
      "getting NCC_NorESM2-MM_r1i1p1f1\n",
      "got NCC_NorESM2-MM_r1i1p1f1\n",
      "getting CNRM-CERFACS_CNRM-ESM2-1_r2i1p1f2\n",
      "got CNRM-CERFACS_CNRM-ESM2-1_r2i1p1f2\n",
      "getting IPSL_IPSL-CM6A-LR_r4i1p1f1\n",
      "got IPSL_IPSL-CM6A-LR_r4i1p1f1\n",
      "getting NCAR_CESM2-WACCM_r1i1p1f1\n",
      "got NCAR_CESM2-WACCM_r1i1p1f1\n",
      "getting IPSL_IPSL-CM6A-LR_r11i1p1f1\n",
      "got IPSL_IPSL-CM6A-LR_r11i1p1f1\n",
      "getting MRI_MRI-ESM2-0_r5i1p1f1\n",
      "got MRI_MRI-ESM2-0_r5i1p1f1\n",
      "getting MRI_MRI-ESM2-0_r7i1p1f1\n",
      "got MRI_MRI-ESM2-0_r7i1p1f1\n",
      "getting SNU_SAM0-UNICON_r1i1p1f1\n",
      "got SNU_SAM0-UNICON_r1i1p1f1\n",
      "getting NASA-GISS_GISS-E2-1-G_r1i1p5f1\n",
      "got NASA-GISS_GISS-E2-1-G_r1i1p5f1\n",
      "getting MOHC_UKESM1-0-LL_r1i1p1f2\n",
      "got MOHC_UKESM1-0-LL_r1i1p1f2\n",
      "getting NASA-GISS_GISS-E2-1-G_r102i1p1f1\n",
      "got NASA-GISS_GISS-E2-1-G_r102i1p1f1\n",
      "getting CNRM-CERFACS_CNRM-CM6-1_r1i1p1f2\n",
      "got CNRM-CERFACS_CNRM-CM6-1_r1i1p1f2\n",
      "getting NASA-GISS_GISS-E2-1-G_r1i1p3f1\n",
      "got NASA-GISS_GISS-E2-1-G_r1i1p3f1\n",
      "getting IPSL_IPSL-CM6A-LR_r8i1p1f1\n",
      "got IPSL_IPSL-CM6A-LR_r8i1p1f1\n",
      "getting CNRM-CERFACS_CNRM-CM6-1_r4i1p1f2\n",
      "got CNRM-CERFACS_CNRM-CM6-1_r4i1p1f2\n",
      "getting MRI_MRI-ESM2-0_r9i1p1f1\n",
      "got MRI_MRI-ESM2-0_r9i1p1f1\n",
      "getting NASA-GISS_GISS-E2-1-G_r1i1p1f1\n",
      "got NASA-GISS_GISS-E2-1-G_r1i1p1f1\n",
      "getting MRI_MRI-ESM2-0_r8i1p1f1\n",
      "got MRI_MRI-ESM2-0_r8i1p1f1\n",
      "getting INM_INM-CM4-8_r1i1p1f1\n",
      "got INM_INM-CM4-8_r1i1p1f1\n",
      "getting CAMS_CAMS-CSM1-0_r2i1p1f1\n",
      "got CAMS_CAMS-CSM1-0_r2i1p1f1\n"
     ]
    }
   ],
   "source": [
    "abrutp4x_rsdt_df_list = []\n",
    "for ism in abrupt_4x_ism_areacella_exist:\n",
    "    abrutp4x_rsdt_df_list += [get_cmip6_data_gs(ism,'rsdt','abrupt-4xCO2')]"
   ]
  },
  {
   "cell_type": "code",
   "execution_count": 80,
   "metadata": {},
   "outputs": [],
   "source": [
    "abrutp4x_rsdt_df = pd.concat(abrutp4x_rsdt_df_list,axis=1)\n",
    "abrutp4x_rsut_df = pd.concat(abrutp4x_rsut_df_list,axis=1)\n",
    "abrutp4x_rlut_df = pd.concat(abrutp4x_rlut_df_list,axis=1)\n",
    "abrutp4x_tas_df = pd.concat(abrutp4x_tas_df_list,axis=1)\n",
    "piControl_tas_df = pd.concat(piControl_df_list,axis=1)\n",
    "piControl_rsdt_df = pd.concat(piControl_rsdt_df_list,axis=1)\n",
    "piControl_rsut_df = pd.concat(piControl_rsut_df_list,axis=1)\n",
    "piControl_rlut_df = pd.concat(piControl_rlut_df_list,axis=1)\n",
    "onepct_tas_df = pd.concat(onepct_tas_df_list,axis=1)\n",
    "onepct_rlut_df = pd.concat(onepct_rlut_df_list,axis=1)\n",
    "onepct_rsut_df = pd.concat(onepct_rsut_df_list,axis=1)\n",
    "onepct_rsdt_df = pd.concat(onepct_rsdt_df_list,axis=1)\n",
    "onepct_co2mass_df = pd.concat(onepct_co2mass_df_list,axis=1)\n",
    "\n",
    "# onepct_co2mass_df.to_csv('./cmip6_data/onepct_co2mass.csv')\n",
    "# onepct_tas_df.to_csv('./cmip6_data/onepct_tas.csv')\n",
    "# onepct_rlut_df.to_csv('./cmip6_data/onepct_rlut.csv')\n",
    "# onepct_rsut_df.to_csv('./cmip6_data/onepct_rsut.csv')\n",
    "# onepct_rsdt_df.to_csv('./cmip6_data/onepct_rsdt.csv')\n",
    "# piControl_rlut_df.to_csv('./cmip6_data/piControl_rlut.csv')\n",
    "# piControl_rsut_df.to_csv('./cmip6_data/piControl_rsut.csv')\n",
    "# piControl_rsdt_df.to_csv('./cmip6_data/piControl_rsdt.csv')\n",
    "# abrutp4x_rsdt_df.to_csv('./cmip6_data/abrupt-4xCO2_rsdt.csv')\n",
    "# abrutp4x_rsut_df.to_csv('./cmip6_data/abrupt-4xCO2_rsut.csv')\n",
    "# abrutp4x_rlut_df.to_csv('./cmip6_data/abrupt-4xCO2_rlut.csv')\n",
    "# abrutp4x_tas_df.to_csv('./cmip6_data/abrupt-4xCO2_tas.csv')\n",
    "# piControl_tas_df.to_csv('./cmip6_data/piControl_tas.csv')"
   ]
  },
  {
   "cell_type": "code",
   "execution_count": 74,
   "metadata": {},
   "outputs": [],
   "source": [
    "def get_annual_CMIP6_data_esgf(activity, table, variable, experiment, institution, source, member):\n",
    "    # eg activity='CMIP', table='Amon', variable='tas', experiment='historical', institution=\"NCAR\", source=\"CESM2\", member=\"r10i1p1f1\"\n",
    "    \n",
    "    result = esgf_search(activity_id=activity, table_id=table, variable_id=variable, experiment_id=experiment,institution_id=institution, source_id=source, member_id=member)\n",
    "    \n",
    "    if not result:\n",
    "        print('No results for this request')\n",
    "        return None\n",
    "    \n",
    "    # select results with only the latest datestamp:\n",
    "    latest = sorted([x.split('/')[15] for x in result])[-1]\n",
    "    result = [x for x in result if x.split('/')[15]==latest]\n",
    "    \n",
    "    # remove duplicate results\n",
    "    result_1 = []\n",
    "\n",
    "    for item in result:\n",
    "        if item.split('/')[-1] in [x.split('/')[-1] for x in result_1]:\n",
    "            continue\n",
    "        else:\n",
    "            result_1 += [item]\n",
    "\n",
    "    ds = xr.open_mfdataset(result_1, combine='by_coords')\n",
    "    \n",
    "    files_area = esgf_search(variable_id='areacella', activity_id=activity, institution_id=institution, source_id=source)\n",
    "    \n",
    "    if not files_area:\n",
    "        print('No areacella for this request')\n",
    "        return None\n",
    "    \n",
    "    ds_area = xr.open_dataset(files_area[0])\n",
    "    \n",
    "    coords = list(ds[variable].coords.keys())\n",
    "    if 'lat' in coords:\n",
    "        dims = ['lat','lon']\n",
    "    else:\n",
    "        dims = ['latitude','longitude']\n",
    "    \n",
    "    total_area = ds_area.areacella.sum(dim=dims)\n",
    "    ta_timeseries = (ds[variable] * ds_area.areacella).sum(dim=dims) / total_area\n",
    "    \n",
    "    return ta_timeseries.groupby('time.year').mean('time').to_pandas().rename(institution+'_'+source+'_'+member)"
   ]
  },
  {
   "cell_type": "code",
   "execution_count": 24,
   "metadata": {
    "jupyter": {
     "source_hidden": true
    }
   },
   "outputs": [],
   "source": [
    "def get_annual_CMIP6_data_esgf_multivar(activity, table, variables, experiment, institution, source, member):\n",
    "    # eg activity='CMIP', table='Amon', variable='tas', experiment='historical', institution=\"NCAR\", source=\"CESM2\", member=\"r10i1p1f1\"\n",
    "    \n",
    "    result = esgf_search(activity_id=activity, table_id=table, experiment_id=experiment,institution_id=institution, source_id=source, member_id=member)\n",
    "    \n",
    "    result = [x for x in result if x.split('/')[13] in variables]\n",
    "    \n",
    "    if not result:\n",
    "        print('No results for this request')\n",
    "        return None\n",
    "    \n",
    "    # select results with only the latest datestamp:\n",
    "#     latest = sorted([x.split('/')[15] for x in result])[-1]\n",
    "#     result = [x for x in result if x.split('/')[15]==latest]\n",
    "    \n",
    "    # remove duplicate results\n",
    "    result_1 = []\n",
    "\n",
    "    for item in result:\n",
    "        if item.split('/')[-1] in [x.split('/')[-1] for x in result_1]:\n",
    "            continue\n",
    "        else:\n",
    "            result_1 += [item]\n",
    "\n",
    "    ds = xr.open_mfdataset(result_1, combine='by_coords')\n",
    "    \n",
    "    files_area = esgf_search(variable_id='areacella', activity_id=activity, institution_id=institution, source_id=source)\n",
    "    \n",
    "    if not files_area:\n",
    "        print('No areacella for this request')\n",
    "        return None\n",
    "    \n",
    "    ds_area = xr.open_dataset(files_area[0])\n",
    "    \n",
    "    coords = list(ds[variables].coords.keys())\n",
    "    if 'lat' in coords:\n",
    "        dims = ['lat','lon']\n",
    "    else:\n",
    "        dims = ['latitude','longitude']\n",
    "    \n",
    "    total_area = ds_area.areacella.sum(dim=dims)\n",
    "    ta_timeseries = (ds[variables] * ds_area.areacella).sum(dim=dims) / total_area\n",
    "    \n",
    "    _out = ta_timeseries.groupby('time.year').mean('time').to_dataframe()[variables]\n",
    "    \n",
    "    return pd.concat([_out],axis=1,keys=[institution+'_'+source+'_'+member])"
   ]
  },
  {
   "cell_type": "code",
   "execution_count": 5,
   "metadata": {
    "jupyter": {
     "source_hidden": true
    }
   },
   "outputs": [],
   "source": [
    "piControl_list = esgf_search(activity_id='CMIP', table_id='Amon', variable_id='tas', experiment_id='piControl')\n",
    "piControl_list_nodupl = []\n",
    "\n",
    "for item in piControl_list:\n",
    "    if item.split('/')[-1] in [x.split('/')[-1] for x in piControl_list_nodupl]:\n",
    "        continue\n",
    "    else:\n",
    "        piControl_list_nodupl += [item]\n",
    "        \n",
    "abrupt4x_list = esgf_search(activity_id='CMIP', table_id='Amon', variable_id='tas', experiment_id='abrupt-4xCO2')\n",
    "abrupt4x_list_nodupl = []\n",
    "\n",
    "for item in abrupt4x_list:\n",
    "    if item.split('/')[-1] in [x.split('/')[-1] for x in abrupt4x_list_nodupl]:\n",
    "        continue\n",
    "    else:\n",
    "        abrupt4x_list_nodupl += [item]\n",
    "        \n",
    "areacella_list = esgf_search(activity_id='CMIP', variable_id='areacella')\n",
    "areacella_list_nodupl = []\n",
    "\n",
    "for item in areacella_list:\n",
    "    if item.split('/')[-1] in [x.split('/')[-1] for x in areacella_list_nodupl]:\n",
    "        continue\n",
    "    else:\n",
    "        areacella_list_nodupl += [item]\n",
    "        \n",
    "abrupt4x_ism_list = list(set([x.split('/')[8]+'_'+x.split('/')[9]+'_'+x.split('/')[11] for x in abrupt4x_list_nodupl]))\n",
    "piControl_ism_list = list(set([x.split('/')[8]+'_'+x.split('/')[9]+'_'+x.split('/')[11] for x in piControl_list_nodupl]))\n",
    "areacella_ism_list = list(set([x.split('/')[8]+'_'+x.split('/')[9]+'_'+x.split('/')[11] for x in areacella_list_nodupl]))\n",
    "areacella_s_list = list(set([x.split('_')[1] for x in areacella_ism_list]))\n",
    "\n",
    "piControl_ism_areacella_exist = [x for x in piControl_ism_list if x.split('_')[1] in areacella_s_list]\n",
    "abrupt4x_ism_areacella_exist = [x for x in abrupt4x_ism_list if x.split('_')[1] in areacella_s_list]"
   ]
  },
  {
   "cell_type": "code",
   "execution_count": 14,
   "metadata": {},
   "outputs": [],
   "source": [
    "abrupt4x_tas_df = pd.read_csv('./cmip6_data/abrupt-4xCO2_tas.csv',index_col=0)\n",
    "esgf_abrupt4x_list = [x for x in abrupt4x_ism_areacella_exist if not x in abrupt4x_tas_df.columns]\n",
    "\n",
    "piControl_tas_df = pd.read_csv('./cmip6_data/piControl_tas.csv',index_col=0)\n",
    "esgf_piControl_list = [x for x in piControl_ism_areacella_exist if not x in piControl_tas_df.columns]"
   ]
  },
  {
   "cell_type": "code",
   "execution_count": 20,
   "metadata": {},
   "outputs": [],
   "source": [
    "def get_CMIP6_data(ism,exp='abrupt-4xCO2',var='tas',multivar=False):\n",
    "    ism_split = ism.split('_')\n",
    "    if multivar:\n",
    "        _out = get_annual_CMIP6_data_esgf_multivar('CMIP', 'Amon', var, exp, ism_split[0], ism_split[1], ism_split[2])\n",
    "    else:\n",
    "        _out = get_annual_CMIP6_data_esgf('CMIP', 'Amon', var, exp, ism_split[0], ism_split[1], ism_split[2])\n",
    "    print(ism+' complete')\n",
    "    return _out"
   ]
  },
  {
   "cell_type": "code",
   "execution_count": 25,
   "metadata": {},
   "outputs": [
    {
     "name": "stdout",
     "output_type": "stream",
     "text": [
      "CAMS_CAMS-CSM1-0_r1i1p1f1 complete\n",
      "IPSL_IPSL-CM6A-LR_r10i1p1f1 complete\n"
     ]
    },
    {
     "name": "stderr",
     "output_type": "stream",
     "text": [
      "/home/leachl/miniconda3/lib/python3.7/site-packages/xarray/coding/times.py:426: SerializationWarning: Unable to decode time axis into full numpy.datetime64 objects, continuing using cftime.datetime objects instead, reason: dates out of range\n",
      "  dtype = _decode_cf_datetime_dtype(data, units, calendar, self.use_cftime)\n",
      "/home/leachl/miniconda3/lib/python3.7/site-packages/xarray/coding/times.py:426: SerializationWarning: Unable to decode time axis into full numpy.datetime64 objects, continuing using cftime.datetime objects instead, reason: dates out of range\n",
      "  dtype = _decode_cf_datetime_dtype(data, units, calendar, self.use_cftime)\n",
      "/home/leachl/miniconda3/lib/python3.7/site-packages/numpy/core/_asarray.py:85: SerializationWarning: Unable to decode time axis into full numpy.datetime64 objects, continuing using cftime.datetime objects instead, reason: dates out of range\n",
      "  return array(a, dtype, copy=False, order=order)\n",
      "/home/leachl/miniconda3/lib/python3.7/site-packages/xarray/coding/times.py:426: SerializationWarning: Unable to decode time axis into full numpy.datetime64 objects, continuing using cftime.datetime objects instead, reason: dates out of range\n",
      "  dtype = _decode_cf_datetime_dtype(data, units, calendar, self.use_cftime)\n",
      "/home/leachl/miniconda3/lib/python3.7/site-packages/xarray/coding/times.py:426: SerializationWarning: Unable to decode time axis into full numpy.datetime64 objects, continuing using cftime.datetime objects instead, reason: dates out of range\n",
      "  dtype = _decode_cf_datetime_dtype(data, units, calendar, self.use_cftime)\n",
      "/home/leachl/miniconda3/lib/python3.7/site-packages/xarray/coding/times.py:426: SerializationWarning: Unable to decode time axis into full numpy.datetime64 objects, continuing using cftime.datetime objects instead, reason: dates out of range\n",
      "  dtype = _decode_cf_datetime_dtype(data, units, calendar, self.use_cftime)\n",
      "/home/leachl/miniconda3/lib/python3.7/site-packages/numpy/core/_asarray.py:85: SerializationWarning: Unable to decode time axis into full numpy.datetime64 objects, continuing using cftime.datetime objects instead, reason: dates out of range\n",
      "  return array(a, dtype, copy=False, order=order)\n",
      "/home/leachl/miniconda3/lib/python3.7/site-packages/xarray/coding/times.py:426: SerializationWarning: Unable to decode time axis into full numpy.datetime64 objects, continuing using cftime.datetime objects instead, reason: dates out of range\n",
      "  dtype = _decode_cf_datetime_dtype(data, units, calendar, self.use_cftime)\n",
      "/home/leachl/miniconda3/lib/python3.7/site-packages/xarray/coding/times.py:426: SerializationWarning: Unable to decode time axis into full numpy.datetime64 objects, continuing using cftime.datetime objects instead, reason: dates out of range\n",
      "  dtype = _decode_cf_datetime_dtype(data, units, calendar, self.use_cftime)\n",
      "/home/leachl/miniconda3/lib/python3.7/site-packages/xarray/coding/times.py:426: SerializationWarning: Unable to decode time axis into full numpy.datetime64 objects, continuing using cftime.datetime objects instead, reason: dates out of range\n",
      "  dtype = _decode_cf_datetime_dtype(data, units, calendar, self.use_cftime)\n",
      "/home/leachl/miniconda3/lib/python3.7/site-packages/numpy/core/_asarray.py:85: SerializationWarning: Unable to decode time axis into full numpy.datetime64 objects, continuing using cftime.datetime objects instead, reason: dates out of range\n",
      "  return array(a, dtype, copy=False, order=order)\n",
      "/home/leachl/miniconda3/lib/python3.7/site-packages/xarray/coding/times.py:426: SerializationWarning: Unable to decode time axis into full numpy.datetime64 objects, continuing using cftime.datetime objects instead, reason: dates out of range\n",
      "  dtype = _decode_cf_datetime_dtype(data, units, calendar, self.use_cftime)\n",
      "/home/leachl/miniconda3/lib/python3.7/site-packages/xarray/coding/times.py:426: SerializationWarning: Unable to decode time axis into full numpy.datetime64 objects, continuing using cftime.datetime objects instead, reason: dates out of range\n",
      "  dtype = _decode_cf_datetime_dtype(data, units, calendar, self.use_cftime)\n",
      "/home/leachl/miniconda3/lib/python3.7/site-packages/xarray/coding/times.py:426: SerializationWarning: Unable to decode time axis into full numpy.datetime64 objects, continuing using cftime.datetime objects instead, reason: dates out of range\n",
      "  dtype = _decode_cf_datetime_dtype(data, units, calendar, self.use_cftime)\n",
      "/home/leachl/miniconda3/lib/python3.7/site-packages/numpy/core/_asarray.py:85: SerializationWarning: Unable to decode time axis into full numpy.datetime64 objects, continuing using cftime.datetime objects instead, reason: dates out of range\n",
      "  return array(a, dtype, copy=False, order=order)\n",
      "/home/leachl/miniconda3/lib/python3.7/site-packages/xarray/coding/times.py:426: SerializationWarning: Unable to decode time axis into full numpy.datetime64 objects, continuing using cftime.datetime objects instead, reason: dates out of range\n",
      "  dtype = _decode_cf_datetime_dtype(data, units, calendar, self.use_cftime)\n"
     ]
    },
    {
     "ename": "OverflowError",
     "evalue": "Python int too large to convert to C long",
     "output_type": "error",
     "traceback": [
      "\u001b[0;31m---------------------------------------------------------------------------\u001b[0m",
      "\u001b[0;31mTypeError\u001b[0m                                 Traceback (most recent call last)",
      "\u001b[0;32mpandas/_libs/tslibs/timedeltas.pyx\u001b[0m in \u001b[0;36mpandas._libs.tslibs.timedeltas.array_to_timedelta64\u001b[0;34m()\u001b[0m\n",
      "\u001b[0;32mpandas/_libs/tslibs/timedeltas.pyx\u001b[0m in \u001b[0;36mpandas._libs.tslibs.timedeltas.parse_timedelta_string\u001b[0;34m()\u001b[0m\n",
      "\u001b[0;31mTypeError\u001b[0m: object of type 'datetime.timedelta' has no len()",
      "\nDuring handling of the above exception, another exception occurred:\n",
      "\u001b[0;31mOverflowError\u001b[0m                             Traceback (most recent call last)",
      "\u001b[0;32m~/miniconda3/lib/python3.7/site-packages/xarray/coding/cftimeindex.py\u001b[0m in \u001b[0;36m__sub__\u001b[0;34m(self, other)\u001b[0m\n\u001b[1;32m    431\u001b[0m \u001b[0;34m\u001b[0m\u001b[0m\n\u001b[1;32m    432\u001b[0m         \u001b[0;32mif\u001b[0m \u001b[0misinstance\u001b[0m\u001b[0;34m(\u001b[0m\u001b[0mother\u001b[0m\u001b[0;34m,\u001b[0m \u001b[0;34m(\u001b[0m\u001b[0mCFTimeIndex\u001b[0m\u001b[0;34m,\u001b[0m \u001b[0mcftime\u001b[0m\u001b[0;34m.\u001b[0m\u001b[0mdatetime\u001b[0m\u001b[0;34m)\u001b[0m\u001b[0;34m)\u001b[0m\u001b[0;34m:\u001b[0m\u001b[0;34m\u001b[0m\u001b[0;34m\u001b[0m\u001b[0m\n\u001b[0;32m--> 433\u001b[0;31m             \u001b[0;32mreturn\u001b[0m \u001b[0mpd\u001b[0m\u001b[0;34m.\u001b[0m\u001b[0mTimedeltaIndex\u001b[0m\u001b[0;34m(\u001b[0m\u001b[0mnp\u001b[0m\u001b[0;34m.\u001b[0m\u001b[0marray\u001b[0m\u001b[0;34m(\u001b[0m\u001b[0mself\u001b[0m\u001b[0;34m)\u001b[0m \u001b[0;34m-\u001b[0m \u001b[0mnp\u001b[0m\u001b[0;34m.\u001b[0m\u001b[0marray\u001b[0m\u001b[0;34m(\u001b[0m\u001b[0mother\u001b[0m\u001b[0;34m)\u001b[0m\u001b[0;34m)\u001b[0m\u001b[0;34m\u001b[0m\u001b[0;34m\u001b[0m\u001b[0m\n\u001b[0m\u001b[1;32m    434\u001b[0m         \u001b[0;32melif\u001b[0m \u001b[0misinstance\u001b[0m\u001b[0;34m(\u001b[0m\u001b[0mother\u001b[0m\u001b[0;34m,\u001b[0m \u001b[0mpd\u001b[0m\u001b[0;34m.\u001b[0m\u001b[0mTimedeltaIndex\u001b[0m\u001b[0;34m)\u001b[0m\u001b[0;34m:\u001b[0m\u001b[0;34m\u001b[0m\u001b[0;34m\u001b[0m\u001b[0m\n\u001b[1;32m    435\u001b[0m             \u001b[0;32mreturn\u001b[0m \u001b[0mCFTimeIndex\u001b[0m\u001b[0;34m(\u001b[0m\u001b[0mnp\u001b[0m\u001b[0;34m.\u001b[0m\u001b[0marray\u001b[0m\u001b[0;34m(\u001b[0m\u001b[0mself\u001b[0m\u001b[0;34m)\u001b[0m \u001b[0;34m-\u001b[0m \u001b[0mother\u001b[0m\u001b[0;34m.\u001b[0m\u001b[0mto_pytimedelta\u001b[0m\u001b[0;34m(\u001b[0m\u001b[0;34m)\u001b[0m\u001b[0;34m)\u001b[0m\u001b[0;34m\u001b[0m\u001b[0;34m\u001b[0m\u001b[0m\n",
      "\u001b[0;32m~/miniconda3/lib/python3.7/site-packages/pandas/core/indexes/timedeltas.py\u001b[0m in \u001b[0;36m__new__\u001b[0;34m(cls, data, unit, freq, start, end, periods, closed, dtype, copy, name, verify_integrity)\u001b[0m\n\u001b[1;32m    256\u001b[0m \u001b[0;34m\u001b[0m\u001b[0m\n\u001b[1;32m    257\u001b[0m         tdarr = TimedeltaArray._from_sequence(\n\u001b[0;32m--> 258\u001b[0;31m             \u001b[0mdata\u001b[0m\u001b[0;34m,\u001b[0m \u001b[0mfreq\u001b[0m\u001b[0;34m=\u001b[0m\u001b[0mfreq\u001b[0m\u001b[0;34m,\u001b[0m \u001b[0munit\u001b[0m\u001b[0;34m=\u001b[0m\u001b[0munit\u001b[0m\u001b[0;34m,\u001b[0m \u001b[0mdtype\u001b[0m\u001b[0;34m=\u001b[0m\u001b[0mdtype\u001b[0m\u001b[0;34m,\u001b[0m \u001b[0mcopy\u001b[0m\u001b[0;34m=\u001b[0m\u001b[0mcopy\u001b[0m\u001b[0;34m\u001b[0m\u001b[0;34m\u001b[0m\u001b[0m\n\u001b[0m\u001b[1;32m    259\u001b[0m         )\n\u001b[1;32m    260\u001b[0m         \u001b[0;32mreturn\u001b[0m \u001b[0mcls\u001b[0m\u001b[0;34m.\u001b[0m\u001b[0m_simple_new\u001b[0m\u001b[0;34m(\u001b[0m\u001b[0mtdarr\u001b[0m\u001b[0;34m.\u001b[0m\u001b[0m_data\u001b[0m\u001b[0;34m,\u001b[0m \u001b[0mfreq\u001b[0m\u001b[0;34m=\u001b[0m\u001b[0mtdarr\u001b[0m\u001b[0;34m.\u001b[0m\u001b[0mfreq\u001b[0m\u001b[0;34m,\u001b[0m \u001b[0mname\u001b[0m\u001b[0;34m=\u001b[0m\u001b[0mname\u001b[0m\u001b[0;34m)\u001b[0m\u001b[0;34m\u001b[0m\u001b[0;34m\u001b[0m\u001b[0m\n",
      "\u001b[0;32m~/miniconda3/lib/python3.7/site-packages/pandas/core/arrays/timedeltas.py\u001b[0m in \u001b[0;36m_from_sequence\u001b[0;34m(cls, data, dtype, copy, freq, unit)\u001b[0m\n\u001b[1;32m    270\u001b[0m         \u001b[0mfreq\u001b[0m\u001b[0;34m,\u001b[0m \u001b[0mfreq_infer\u001b[0m \u001b[0;34m=\u001b[0m \u001b[0mdtl\u001b[0m\u001b[0;34m.\u001b[0m\u001b[0mmaybe_infer_freq\u001b[0m\u001b[0;34m(\u001b[0m\u001b[0mfreq\u001b[0m\u001b[0;34m)\u001b[0m\u001b[0;34m\u001b[0m\u001b[0;34m\u001b[0m\u001b[0m\n\u001b[1;32m    271\u001b[0m \u001b[0;34m\u001b[0m\u001b[0m\n\u001b[0;32m--> 272\u001b[0;31m         \u001b[0mdata\u001b[0m\u001b[0;34m,\u001b[0m \u001b[0minferred_freq\u001b[0m \u001b[0;34m=\u001b[0m \u001b[0msequence_to_td64ns\u001b[0m\u001b[0;34m(\u001b[0m\u001b[0mdata\u001b[0m\u001b[0;34m,\u001b[0m \u001b[0mcopy\u001b[0m\u001b[0;34m=\u001b[0m\u001b[0mcopy\u001b[0m\u001b[0;34m,\u001b[0m \u001b[0munit\u001b[0m\u001b[0;34m=\u001b[0m\u001b[0munit\u001b[0m\u001b[0;34m)\u001b[0m\u001b[0;34m\u001b[0m\u001b[0;34m\u001b[0m\u001b[0m\n\u001b[0m\u001b[1;32m    273\u001b[0m         \u001b[0mfreq\u001b[0m\u001b[0;34m,\u001b[0m \u001b[0mfreq_infer\u001b[0m \u001b[0;34m=\u001b[0m \u001b[0mdtl\u001b[0m\u001b[0;34m.\u001b[0m\u001b[0mvalidate_inferred_freq\u001b[0m\u001b[0;34m(\u001b[0m\u001b[0mfreq\u001b[0m\u001b[0;34m,\u001b[0m \u001b[0minferred_freq\u001b[0m\u001b[0;34m,\u001b[0m \u001b[0mfreq_infer\u001b[0m\u001b[0;34m)\u001b[0m\u001b[0;34m\u001b[0m\u001b[0;34m\u001b[0m\u001b[0m\n\u001b[1;32m    274\u001b[0m \u001b[0;34m\u001b[0m\u001b[0m\n",
      "\u001b[0;32m~/miniconda3/lib/python3.7/site-packages/pandas/core/arrays/timedeltas.py\u001b[0m in \u001b[0;36msequence_to_td64ns\u001b[0;34m(data, copy, unit, errors)\u001b[0m\n\u001b[1;32m    971\u001b[0m     \u001b[0;32mif\u001b[0m \u001b[0mis_object_dtype\u001b[0m\u001b[0;34m(\u001b[0m\u001b[0mdata\u001b[0m\u001b[0;34m.\u001b[0m\u001b[0mdtype\u001b[0m\u001b[0;34m)\u001b[0m \u001b[0;32mor\u001b[0m \u001b[0mis_string_dtype\u001b[0m\u001b[0;34m(\u001b[0m\u001b[0mdata\u001b[0m\u001b[0;34m.\u001b[0m\u001b[0mdtype\u001b[0m\u001b[0;34m)\u001b[0m\u001b[0;34m:\u001b[0m\u001b[0;34m\u001b[0m\u001b[0;34m\u001b[0m\u001b[0m\n\u001b[1;32m    972\u001b[0m         \u001b[0;31m# no need to make a copy, need to convert if string-dtyped\u001b[0m\u001b[0;34m\u001b[0m\u001b[0;34m\u001b[0m\u001b[0;34m\u001b[0m\u001b[0m\n\u001b[0;32m--> 973\u001b[0;31m         \u001b[0mdata\u001b[0m \u001b[0;34m=\u001b[0m \u001b[0mobjects_to_td64ns\u001b[0m\u001b[0;34m(\u001b[0m\u001b[0mdata\u001b[0m\u001b[0;34m,\u001b[0m \u001b[0munit\u001b[0m\u001b[0;34m=\u001b[0m\u001b[0munit\u001b[0m\u001b[0;34m,\u001b[0m \u001b[0merrors\u001b[0m\u001b[0;34m=\u001b[0m\u001b[0merrors\u001b[0m\u001b[0;34m)\u001b[0m\u001b[0;34m\u001b[0m\u001b[0;34m\u001b[0m\u001b[0m\n\u001b[0m\u001b[1;32m    974\u001b[0m         \u001b[0mcopy\u001b[0m \u001b[0;34m=\u001b[0m \u001b[0;32mFalse\u001b[0m\u001b[0;34m\u001b[0m\u001b[0;34m\u001b[0m\u001b[0m\n\u001b[1;32m    975\u001b[0m \u001b[0;34m\u001b[0m\u001b[0m\n",
      "\u001b[0;32m~/miniconda3/lib/python3.7/site-packages/pandas/core/arrays/timedeltas.py\u001b[0m in \u001b[0;36mobjects_to_td64ns\u001b[0;34m(data, unit, errors)\u001b[0m\n\u001b[1;32m   1096\u001b[0m     \u001b[0mvalues\u001b[0m \u001b[0;34m=\u001b[0m \u001b[0mnp\u001b[0m\u001b[0;34m.\u001b[0m\u001b[0marray\u001b[0m\u001b[0;34m(\u001b[0m\u001b[0mdata\u001b[0m\u001b[0;34m,\u001b[0m \u001b[0mdtype\u001b[0m\u001b[0;34m=\u001b[0m\u001b[0mnp\u001b[0m\u001b[0;34m.\u001b[0m\u001b[0mobject_\u001b[0m\u001b[0;34m,\u001b[0m \u001b[0mcopy\u001b[0m\u001b[0;34m=\u001b[0m\u001b[0;32mFalse\u001b[0m\u001b[0;34m)\u001b[0m\u001b[0;34m\u001b[0m\u001b[0;34m\u001b[0m\u001b[0m\n\u001b[1;32m   1097\u001b[0m \u001b[0;34m\u001b[0m\u001b[0m\n\u001b[0;32m-> 1098\u001b[0;31m     \u001b[0mresult\u001b[0m \u001b[0;34m=\u001b[0m \u001b[0marray_to_timedelta64\u001b[0m\u001b[0;34m(\u001b[0m\u001b[0mvalues\u001b[0m\u001b[0;34m,\u001b[0m \u001b[0munit\u001b[0m\u001b[0;34m=\u001b[0m\u001b[0munit\u001b[0m\u001b[0;34m,\u001b[0m \u001b[0merrors\u001b[0m\u001b[0;34m=\u001b[0m\u001b[0merrors\u001b[0m\u001b[0;34m)\u001b[0m\u001b[0;34m\u001b[0m\u001b[0;34m\u001b[0m\u001b[0m\n\u001b[0m\u001b[1;32m   1099\u001b[0m     \u001b[0;32mreturn\u001b[0m \u001b[0mresult\u001b[0m\u001b[0;34m.\u001b[0m\u001b[0mview\u001b[0m\u001b[0;34m(\u001b[0m\u001b[0;34m\"timedelta64[ns]\"\u001b[0m\u001b[0;34m)\u001b[0m\u001b[0;34m\u001b[0m\u001b[0;34m\u001b[0m\u001b[0m\n\u001b[1;32m   1100\u001b[0m \u001b[0;34m\u001b[0m\u001b[0m\n",
      "\u001b[0;32mpandas/_libs/tslibs/timedeltas.pyx\u001b[0m in \u001b[0;36mpandas._libs.tslibs.timedeltas.array_to_timedelta64\u001b[0;34m()\u001b[0m\n",
      "\u001b[0;32mpandas/_libs/tslibs/timedeltas.pyx\u001b[0m in \u001b[0;36mpandas._libs.tslibs.timedeltas.convert_to_timedelta64\u001b[0;34m()\u001b[0m\n",
      "\u001b[0;32mpandas/_libs/tslibs/timedeltas.pyx\u001b[0m in \u001b[0;36mpandas._libs.tslibs.timedeltas.delta_to_nanoseconds\u001b[0;34m()\u001b[0m\n",
      "\u001b[0;31mOverflowError\u001b[0m: Python int too large to convert to C long"
     ]
    },
    {
     "name": "stderr",
     "output_type": "stream",
     "text": [
      "Exception ignored in: 'pandas._libs.algos.are_diff'\n",
      "Traceback (most recent call last):\n",
      "  File \"/home/leachl/miniconda3/lib/python3.7/site-packages/xarray/coding/cftimeindex.py\", line 433, in __sub__\n",
      "    return pd.TimedeltaIndex(np.array(self) - np.array(other))\n",
      "  File \"/home/leachl/miniconda3/lib/python3.7/site-packages/pandas/core/indexes/timedeltas.py\", line 258, in __new__\n",
      "    data, freq=freq, unit=unit, dtype=dtype, copy=copy\n",
      "  File \"/home/leachl/miniconda3/lib/python3.7/site-packages/pandas/core/arrays/timedeltas.py\", line 272, in _from_sequence\n",
      "    data, inferred_freq = sequence_to_td64ns(data, copy=copy, unit=unit)\n",
      "  File \"/home/leachl/miniconda3/lib/python3.7/site-packages/pandas/core/arrays/timedeltas.py\", line 973, in sequence_to_td64ns\n",
      "    data = objects_to_td64ns(data, unit=unit, errors=errors)\n",
      "  File \"/home/leachl/miniconda3/lib/python3.7/site-packages/pandas/core/arrays/timedeltas.py\", line 1098, in objects_to_td64ns\n",
      "    result = array_to_timedelta64(values, unit=unit, errors=errors)\n",
      "  File \"pandas/_libs/tslibs/timedeltas.pyx\", line 236, in pandas._libs.tslibs.timedeltas.array_to_timedelta64\n",
      "  File \"pandas/_libs/tslibs/timedeltas.pyx\", line 199, in pandas._libs.tslibs.timedeltas.convert_to_timedelta64\n",
      "  File \"pandas/_libs/tslibs/timedeltas.pyx\", line 144, in pandas._libs.tslibs.timedeltas.delta_to_nanoseconds\n",
      "OverflowError: Python int too large to convert to C long\n"
     ]
    },
    {
     "ename": "OverflowError",
     "evalue": "Python int too large to convert to C long",
     "output_type": "error",
     "traceback": [
      "\u001b[0;31m---------------------------------------------------------------------------\u001b[0m",
      "\u001b[0;31mTypeError\u001b[0m                                 Traceback (most recent call last)",
      "\u001b[0;32mpandas/_libs/tslibs/timedeltas.pyx\u001b[0m in \u001b[0;36mpandas._libs.tslibs.timedeltas.array_to_timedelta64\u001b[0;34m()\u001b[0m\n",
      "\u001b[0;32mpandas/_libs/tslibs/timedeltas.pyx\u001b[0m in \u001b[0;36mpandas._libs.tslibs.timedeltas.parse_timedelta_string\u001b[0;34m()\u001b[0m\n",
      "\u001b[0;31mTypeError\u001b[0m: object of type 'datetime.timedelta' has no len()",
      "\nDuring handling of the above exception, another exception occurred:\n",
      "\u001b[0;31mOverflowError\u001b[0m                             Traceback (most recent call last)",
      "\u001b[0;32m~/miniconda3/lib/python3.7/site-packages/xarray/coding/cftimeindex.py\u001b[0m in \u001b[0;36m__sub__\u001b[0;34m(self, other)\u001b[0m\n\u001b[1;32m    431\u001b[0m \u001b[0;34m\u001b[0m\u001b[0m\n\u001b[1;32m    432\u001b[0m         \u001b[0;32mif\u001b[0m \u001b[0misinstance\u001b[0m\u001b[0;34m(\u001b[0m\u001b[0mother\u001b[0m\u001b[0;34m,\u001b[0m \u001b[0;34m(\u001b[0m\u001b[0mCFTimeIndex\u001b[0m\u001b[0;34m,\u001b[0m \u001b[0mcftime\u001b[0m\u001b[0;34m.\u001b[0m\u001b[0mdatetime\u001b[0m\u001b[0;34m)\u001b[0m\u001b[0;34m)\u001b[0m\u001b[0;34m:\u001b[0m\u001b[0;34m\u001b[0m\u001b[0;34m\u001b[0m\u001b[0m\n\u001b[0;32m--> 433\u001b[0;31m             \u001b[0;32mreturn\u001b[0m \u001b[0mpd\u001b[0m\u001b[0;34m.\u001b[0m\u001b[0mTimedeltaIndex\u001b[0m\u001b[0;34m(\u001b[0m\u001b[0mnp\u001b[0m\u001b[0;34m.\u001b[0m\u001b[0marray\u001b[0m\u001b[0;34m(\u001b[0m\u001b[0mself\u001b[0m\u001b[0;34m)\u001b[0m \u001b[0;34m-\u001b[0m \u001b[0mnp\u001b[0m\u001b[0;34m.\u001b[0m\u001b[0marray\u001b[0m\u001b[0;34m(\u001b[0m\u001b[0mother\u001b[0m\u001b[0;34m)\u001b[0m\u001b[0;34m)\u001b[0m\u001b[0;34m\u001b[0m\u001b[0;34m\u001b[0m\u001b[0m\n\u001b[0m\u001b[1;32m    434\u001b[0m         \u001b[0;32melif\u001b[0m \u001b[0misinstance\u001b[0m\u001b[0;34m(\u001b[0m\u001b[0mother\u001b[0m\u001b[0;34m,\u001b[0m \u001b[0mpd\u001b[0m\u001b[0;34m.\u001b[0m\u001b[0mTimedeltaIndex\u001b[0m\u001b[0;34m)\u001b[0m\u001b[0;34m:\u001b[0m\u001b[0;34m\u001b[0m\u001b[0;34m\u001b[0m\u001b[0m\n\u001b[1;32m    435\u001b[0m             \u001b[0;32mreturn\u001b[0m \u001b[0mCFTimeIndex\u001b[0m\u001b[0;34m(\u001b[0m\u001b[0mnp\u001b[0m\u001b[0;34m.\u001b[0m\u001b[0marray\u001b[0m\u001b[0;34m(\u001b[0m\u001b[0mself\u001b[0m\u001b[0;34m)\u001b[0m \u001b[0;34m-\u001b[0m \u001b[0mother\u001b[0m\u001b[0;34m.\u001b[0m\u001b[0mto_pytimedelta\u001b[0m\u001b[0;34m(\u001b[0m\u001b[0;34m)\u001b[0m\u001b[0;34m)\u001b[0m\u001b[0;34m\u001b[0m\u001b[0;34m\u001b[0m\u001b[0m\n",
      "\u001b[0;32m~/miniconda3/lib/python3.7/site-packages/pandas/core/indexes/timedeltas.py\u001b[0m in \u001b[0;36m__new__\u001b[0;34m(cls, data, unit, freq, start, end, periods, closed, dtype, copy, name, verify_integrity)\u001b[0m\n\u001b[1;32m    256\u001b[0m \u001b[0;34m\u001b[0m\u001b[0m\n\u001b[1;32m    257\u001b[0m         tdarr = TimedeltaArray._from_sequence(\n\u001b[0;32m--> 258\u001b[0;31m             \u001b[0mdata\u001b[0m\u001b[0;34m,\u001b[0m \u001b[0mfreq\u001b[0m\u001b[0;34m=\u001b[0m\u001b[0mfreq\u001b[0m\u001b[0;34m,\u001b[0m \u001b[0munit\u001b[0m\u001b[0;34m=\u001b[0m\u001b[0munit\u001b[0m\u001b[0;34m,\u001b[0m \u001b[0mdtype\u001b[0m\u001b[0;34m=\u001b[0m\u001b[0mdtype\u001b[0m\u001b[0;34m,\u001b[0m \u001b[0mcopy\u001b[0m\u001b[0;34m=\u001b[0m\u001b[0mcopy\u001b[0m\u001b[0;34m\u001b[0m\u001b[0;34m\u001b[0m\u001b[0m\n\u001b[0m\u001b[1;32m    259\u001b[0m         )\n\u001b[1;32m    260\u001b[0m         \u001b[0;32mreturn\u001b[0m \u001b[0mcls\u001b[0m\u001b[0;34m.\u001b[0m\u001b[0m_simple_new\u001b[0m\u001b[0;34m(\u001b[0m\u001b[0mtdarr\u001b[0m\u001b[0;34m.\u001b[0m\u001b[0m_data\u001b[0m\u001b[0;34m,\u001b[0m \u001b[0mfreq\u001b[0m\u001b[0;34m=\u001b[0m\u001b[0mtdarr\u001b[0m\u001b[0;34m.\u001b[0m\u001b[0mfreq\u001b[0m\u001b[0;34m,\u001b[0m \u001b[0mname\u001b[0m\u001b[0;34m=\u001b[0m\u001b[0mname\u001b[0m\u001b[0;34m)\u001b[0m\u001b[0;34m\u001b[0m\u001b[0;34m\u001b[0m\u001b[0m\n",
      "\u001b[0;32m~/miniconda3/lib/python3.7/site-packages/pandas/core/arrays/timedeltas.py\u001b[0m in \u001b[0;36m_from_sequence\u001b[0;34m(cls, data, dtype, copy, freq, unit)\u001b[0m\n\u001b[1;32m    270\u001b[0m         \u001b[0mfreq\u001b[0m\u001b[0;34m,\u001b[0m \u001b[0mfreq_infer\u001b[0m \u001b[0;34m=\u001b[0m \u001b[0mdtl\u001b[0m\u001b[0;34m.\u001b[0m\u001b[0mmaybe_infer_freq\u001b[0m\u001b[0;34m(\u001b[0m\u001b[0mfreq\u001b[0m\u001b[0;34m)\u001b[0m\u001b[0;34m\u001b[0m\u001b[0;34m\u001b[0m\u001b[0m\n\u001b[1;32m    271\u001b[0m \u001b[0;34m\u001b[0m\u001b[0m\n\u001b[0;32m--> 272\u001b[0;31m         \u001b[0mdata\u001b[0m\u001b[0;34m,\u001b[0m \u001b[0minferred_freq\u001b[0m \u001b[0;34m=\u001b[0m \u001b[0msequence_to_td64ns\u001b[0m\u001b[0;34m(\u001b[0m\u001b[0mdata\u001b[0m\u001b[0;34m,\u001b[0m \u001b[0mcopy\u001b[0m\u001b[0;34m=\u001b[0m\u001b[0mcopy\u001b[0m\u001b[0;34m,\u001b[0m \u001b[0munit\u001b[0m\u001b[0;34m=\u001b[0m\u001b[0munit\u001b[0m\u001b[0;34m)\u001b[0m\u001b[0;34m\u001b[0m\u001b[0;34m\u001b[0m\u001b[0m\n\u001b[0m\u001b[1;32m    273\u001b[0m         \u001b[0mfreq\u001b[0m\u001b[0;34m,\u001b[0m \u001b[0mfreq_infer\u001b[0m \u001b[0;34m=\u001b[0m \u001b[0mdtl\u001b[0m\u001b[0;34m.\u001b[0m\u001b[0mvalidate_inferred_freq\u001b[0m\u001b[0;34m(\u001b[0m\u001b[0mfreq\u001b[0m\u001b[0;34m,\u001b[0m \u001b[0minferred_freq\u001b[0m\u001b[0;34m,\u001b[0m \u001b[0mfreq_infer\u001b[0m\u001b[0;34m)\u001b[0m\u001b[0;34m\u001b[0m\u001b[0;34m\u001b[0m\u001b[0m\n\u001b[1;32m    274\u001b[0m \u001b[0;34m\u001b[0m\u001b[0m\n",
      "\u001b[0;32m~/miniconda3/lib/python3.7/site-packages/pandas/core/arrays/timedeltas.py\u001b[0m in \u001b[0;36msequence_to_td64ns\u001b[0;34m(data, copy, unit, errors)\u001b[0m\n\u001b[1;32m    971\u001b[0m     \u001b[0;32mif\u001b[0m \u001b[0mis_object_dtype\u001b[0m\u001b[0;34m(\u001b[0m\u001b[0mdata\u001b[0m\u001b[0;34m.\u001b[0m\u001b[0mdtype\u001b[0m\u001b[0;34m)\u001b[0m \u001b[0;32mor\u001b[0m \u001b[0mis_string_dtype\u001b[0m\u001b[0;34m(\u001b[0m\u001b[0mdata\u001b[0m\u001b[0;34m.\u001b[0m\u001b[0mdtype\u001b[0m\u001b[0;34m)\u001b[0m\u001b[0;34m:\u001b[0m\u001b[0;34m\u001b[0m\u001b[0;34m\u001b[0m\u001b[0m\n\u001b[1;32m    972\u001b[0m         \u001b[0;31m# no need to make a copy, need to convert if string-dtyped\u001b[0m\u001b[0;34m\u001b[0m\u001b[0;34m\u001b[0m\u001b[0;34m\u001b[0m\u001b[0m\n\u001b[0;32m--> 973\u001b[0;31m         \u001b[0mdata\u001b[0m \u001b[0;34m=\u001b[0m \u001b[0mobjects_to_td64ns\u001b[0m\u001b[0;34m(\u001b[0m\u001b[0mdata\u001b[0m\u001b[0;34m,\u001b[0m \u001b[0munit\u001b[0m\u001b[0;34m=\u001b[0m\u001b[0munit\u001b[0m\u001b[0;34m,\u001b[0m \u001b[0merrors\u001b[0m\u001b[0;34m=\u001b[0m\u001b[0merrors\u001b[0m\u001b[0;34m)\u001b[0m\u001b[0;34m\u001b[0m\u001b[0;34m\u001b[0m\u001b[0m\n\u001b[0m\u001b[1;32m    974\u001b[0m         \u001b[0mcopy\u001b[0m \u001b[0;34m=\u001b[0m \u001b[0;32mFalse\u001b[0m\u001b[0;34m\u001b[0m\u001b[0;34m\u001b[0m\u001b[0m\n\u001b[1;32m    975\u001b[0m \u001b[0;34m\u001b[0m\u001b[0m\n",
      "\u001b[0;32m~/miniconda3/lib/python3.7/site-packages/pandas/core/arrays/timedeltas.py\u001b[0m in \u001b[0;36mobjects_to_td64ns\u001b[0;34m(data, unit, errors)\u001b[0m\n\u001b[1;32m   1096\u001b[0m     \u001b[0mvalues\u001b[0m \u001b[0;34m=\u001b[0m \u001b[0mnp\u001b[0m\u001b[0;34m.\u001b[0m\u001b[0marray\u001b[0m\u001b[0;34m(\u001b[0m\u001b[0mdata\u001b[0m\u001b[0;34m,\u001b[0m \u001b[0mdtype\u001b[0m\u001b[0;34m=\u001b[0m\u001b[0mnp\u001b[0m\u001b[0;34m.\u001b[0m\u001b[0mobject_\u001b[0m\u001b[0;34m,\u001b[0m \u001b[0mcopy\u001b[0m\u001b[0;34m=\u001b[0m\u001b[0;32mFalse\u001b[0m\u001b[0;34m)\u001b[0m\u001b[0;34m\u001b[0m\u001b[0;34m\u001b[0m\u001b[0m\n\u001b[1;32m   1097\u001b[0m \u001b[0;34m\u001b[0m\u001b[0m\n\u001b[0;32m-> 1098\u001b[0;31m     \u001b[0mresult\u001b[0m \u001b[0;34m=\u001b[0m \u001b[0marray_to_timedelta64\u001b[0m\u001b[0;34m(\u001b[0m\u001b[0mvalues\u001b[0m\u001b[0;34m,\u001b[0m \u001b[0munit\u001b[0m\u001b[0;34m=\u001b[0m\u001b[0munit\u001b[0m\u001b[0;34m,\u001b[0m \u001b[0merrors\u001b[0m\u001b[0;34m=\u001b[0m\u001b[0merrors\u001b[0m\u001b[0;34m)\u001b[0m\u001b[0;34m\u001b[0m\u001b[0;34m\u001b[0m\u001b[0m\n\u001b[0m\u001b[1;32m   1099\u001b[0m     \u001b[0;32mreturn\u001b[0m \u001b[0mresult\u001b[0m\u001b[0;34m.\u001b[0m\u001b[0mview\u001b[0m\u001b[0;34m(\u001b[0m\u001b[0;34m\"timedelta64[ns]\"\u001b[0m\u001b[0;34m)\u001b[0m\u001b[0;34m\u001b[0m\u001b[0;34m\u001b[0m\u001b[0m\n\u001b[1;32m   1100\u001b[0m \u001b[0;34m\u001b[0m\u001b[0m\n",
      "\u001b[0;32mpandas/_libs/tslibs/timedeltas.pyx\u001b[0m in \u001b[0;36mpandas._libs.tslibs.timedeltas.array_to_timedelta64\u001b[0;34m()\u001b[0m\n",
      "\u001b[0;32mpandas/_libs/tslibs/timedeltas.pyx\u001b[0m in \u001b[0;36mpandas._libs.tslibs.timedeltas.convert_to_timedelta64\u001b[0;34m()\u001b[0m\n",
      "\u001b[0;32mpandas/_libs/tslibs/timedeltas.pyx\u001b[0m in \u001b[0;36mpandas._libs.tslibs.timedeltas.delta_to_nanoseconds\u001b[0;34m()\u001b[0m\n",
      "\u001b[0;31mOverflowError\u001b[0m: Python int too large to convert to C long"
     ]
    },
    {
     "name": "stderr",
     "output_type": "stream",
     "text": [
      "Exception ignored in: 'pandas._libs.algos.are_diff'\n",
      "Traceback (most recent call last):\n",
      "  File \"/home/leachl/miniconda3/lib/python3.7/site-packages/xarray/coding/cftimeindex.py\", line 433, in __sub__\n",
      "    return pd.TimedeltaIndex(np.array(self) - np.array(other))\n",
      "  File \"/home/leachl/miniconda3/lib/python3.7/site-packages/pandas/core/indexes/timedeltas.py\", line 258, in __new__\n",
      "    data, freq=freq, unit=unit, dtype=dtype, copy=copy\n",
      "  File \"/home/leachl/miniconda3/lib/python3.7/site-packages/pandas/core/arrays/timedeltas.py\", line 272, in _from_sequence\n",
      "    data, inferred_freq = sequence_to_td64ns(data, copy=copy, unit=unit)\n",
      "  File \"/home/leachl/miniconda3/lib/python3.7/site-packages/pandas/core/arrays/timedeltas.py\", line 973, in sequence_to_td64ns\n",
      "    data = objects_to_td64ns(data, unit=unit, errors=errors)\n",
      "  File \"/home/leachl/miniconda3/lib/python3.7/site-packages/pandas/core/arrays/timedeltas.py\", line 1098, in objects_to_td64ns\n",
      "    result = array_to_timedelta64(values, unit=unit, errors=errors)\n",
      "  File \"pandas/_libs/tslibs/timedeltas.pyx\", line 236, in pandas._libs.tslibs.timedeltas.array_to_timedelta64\n",
      "  File \"pandas/_libs/tslibs/timedeltas.pyx\", line 199, in pandas._libs.tslibs.timedeltas.convert_to_timedelta64\n",
      "  File \"pandas/_libs/tslibs/timedeltas.pyx\", line 144, in pandas._libs.tslibs.timedeltas.delta_to_nanoseconds\n",
      "OverflowError: Python int too large to convert to C long\n"
     ]
    },
    {
     "ename": "OverflowError",
     "evalue": "Python int too large to convert to C long",
     "output_type": "error",
     "traceback": [
      "\u001b[0;31m---------------------------------------------------------------------------\u001b[0m",
      "\u001b[0;31mTypeError\u001b[0m                                 Traceback (most recent call last)",
      "\u001b[0;32mpandas/_libs/tslibs/timedeltas.pyx\u001b[0m in \u001b[0;36mpandas._libs.tslibs.timedeltas.array_to_timedelta64\u001b[0;34m()\u001b[0m\n",
      "\u001b[0;32mpandas/_libs/tslibs/timedeltas.pyx\u001b[0m in \u001b[0;36mpandas._libs.tslibs.timedeltas.parse_timedelta_string\u001b[0;34m()\u001b[0m\n",
      "\u001b[0;31mTypeError\u001b[0m: object of type 'datetime.timedelta' has no len()",
      "\nDuring handling of the above exception, another exception occurred:\n",
      "\u001b[0;31mOverflowError\u001b[0m                             Traceback (most recent call last)",
      "\u001b[0;32m~/miniconda3/lib/python3.7/site-packages/xarray/coding/cftimeindex.py\u001b[0m in \u001b[0;36m__sub__\u001b[0;34m(self, other)\u001b[0m\n\u001b[1;32m    431\u001b[0m \u001b[0;34m\u001b[0m\u001b[0m\n\u001b[1;32m    432\u001b[0m         \u001b[0;32mif\u001b[0m \u001b[0misinstance\u001b[0m\u001b[0;34m(\u001b[0m\u001b[0mother\u001b[0m\u001b[0;34m,\u001b[0m \u001b[0;34m(\u001b[0m\u001b[0mCFTimeIndex\u001b[0m\u001b[0;34m,\u001b[0m \u001b[0mcftime\u001b[0m\u001b[0;34m.\u001b[0m\u001b[0mdatetime\u001b[0m\u001b[0;34m)\u001b[0m\u001b[0;34m)\u001b[0m\u001b[0;34m:\u001b[0m\u001b[0;34m\u001b[0m\u001b[0;34m\u001b[0m\u001b[0m\n\u001b[0;32m--> 433\u001b[0;31m             \u001b[0;32mreturn\u001b[0m \u001b[0mpd\u001b[0m\u001b[0;34m.\u001b[0m\u001b[0mTimedeltaIndex\u001b[0m\u001b[0;34m(\u001b[0m\u001b[0mnp\u001b[0m\u001b[0;34m.\u001b[0m\u001b[0marray\u001b[0m\u001b[0;34m(\u001b[0m\u001b[0mself\u001b[0m\u001b[0;34m)\u001b[0m \u001b[0;34m-\u001b[0m \u001b[0mnp\u001b[0m\u001b[0;34m.\u001b[0m\u001b[0marray\u001b[0m\u001b[0;34m(\u001b[0m\u001b[0mother\u001b[0m\u001b[0;34m)\u001b[0m\u001b[0;34m)\u001b[0m\u001b[0;34m\u001b[0m\u001b[0;34m\u001b[0m\u001b[0m\n\u001b[0m\u001b[1;32m    434\u001b[0m         \u001b[0;32melif\u001b[0m \u001b[0misinstance\u001b[0m\u001b[0;34m(\u001b[0m\u001b[0mother\u001b[0m\u001b[0;34m,\u001b[0m \u001b[0mpd\u001b[0m\u001b[0;34m.\u001b[0m\u001b[0mTimedeltaIndex\u001b[0m\u001b[0;34m)\u001b[0m\u001b[0;34m:\u001b[0m\u001b[0;34m\u001b[0m\u001b[0;34m\u001b[0m\u001b[0m\n\u001b[1;32m    435\u001b[0m             \u001b[0;32mreturn\u001b[0m \u001b[0mCFTimeIndex\u001b[0m\u001b[0;34m(\u001b[0m\u001b[0mnp\u001b[0m\u001b[0;34m.\u001b[0m\u001b[0marray\u001b[0m\u001b[0;34m(\u001b[0m\u001b[0mself\u001b[0m\u001b[0;34m)\u001b[0m \u001b[0;34m-\u001b[0m \u001b[0mother\u001b[0m\u001b[0;34m.\u001b[0m\u001b[0mto_pytimedelta\u001b[0m\u001b[0;34m(\u001b[0m\u001b[0;34m)\u001b[0m\u001b[0;34m)\u001b[0m\u001b[0;34m\u001b[0m\u001b[0;34m\u001b[0m\u001b[0m\n",
      "\u001b[0;32m~/miniconda3/lib/python3.7/site-packages/pandas/core/indexes/timedeltas.py\u001b[0m in \u001b[0;36m__new__\u001b[0;34m(cls, data, unit, freq, start, end, periods, closed, dtype, copy, name, verify_integrity)\u001b[0m\n\u001b[1;32m    256\u001b[0m \u001b[0;34m\u001b[0m\u001b[0m\n\u001b[1;32m    257\u001b[0m         tdarr = TimedeltaArray._from_sequence(\n\u001b[0;32m--> 258\u001b[0;31m             \u001b[0mdata\u001b[0m\u001b[0;34m,\u001b[0m \u001b[0mfreq\u001b[0m\u001b[0;34m=\u001b[0m\u001b[0mfreq\u001b[0m\u001b[0;34m,\u001b[0m \u001b[0munit\u001b[0m\u001b[0;34m=\u001b[0m\u001b[0munit\u001b[0m\u001b[0;34m,\u001b[0m \u001b[0mdtype\u001b[0m\u001b[0;34m=\u001b[0m\u001b[0mdtype\u001b[0m\u001b[0;34m,\u001b[0m \u001b[0mcopy\u001b[0m\u001b[0;34m=\u001b[0m\u001b[0mcopy\u001b[0m\u001b[0;34m\u001b[0m\u001b[0;34m\u001b[0m\u001b[0m\n\u001b[0m\u001b[1;32m    259\u001b[0m         )\n\u001b[1;32m    260\u001b[0m         \u001b[0;32mreturn\u001b[0m \u001b[0mcls\u001b[0m\u001b[0;34m.\u001b[0m\u001b[0m_simple_new\u001b[0m\u001b[0;34m(\u001b[0m\u001b[0mtdarr\u001b[0m\u001b[0;34m.\u001b[0m\u001b[0m_data\u001b[0m\u001b[0;34m,\u001b[0m \u001b[0mfreq\u001b[0m\u001b[0;34m=\u001b[0m\u001b[0mtdarr\u001b[0m\u001b[0;34m.\u001b[0m\u001b[0mfreq\u001b[0m\u001b[0;34m,\u001b[0m \u001b[0mname\u001b[0m\u001b[0;34m=\u001b[0m\u001b[0mname\u001b[0m\u001b[0;34m)\u001b[0m\u001b[0;34m\u001b[0m\u001b[0;34m\u001b[0m\u001b[0m\n",
      "\u001b[0;32m~/miniconda3/lib/python3.7/site-packages/pandas/core/arrays/timedeltas.py\u001b[0m in \u001b[0;36m_from_sequence\u001b[0;34m(cls, data, dtype, copy, freq, unit)\u001b[0m\n\u001b[1;32m    270\u001b[0m         \u001b[0mfreq\u001b[0m\u001b[0;34m,\u001b[0m \u001b[0mfreq_infer\u001b[0m \u001b[0;34m=\u001b[0m \u001b[0mdtl\u001b[0m\u001b[0;34m.\u001b[0m\u001b[0mmaybe_infer_freq\u001b[0m\u001b[0;34m(\u001b[0m\u001b[0mfreq\u001b[0m\u001b[0;34m)\u001b[0m\u001b[0;34m\u001b[0m\u001b[0;34m\u001b[0m\u001b[0m\n\u001b[1;32m    271\u001b[0m \u001b[0;34m\u001b[0m\u001b[0m\n\u001b[0;32m--> 272\u001b[0;31m         \u001b[0mdata\u001b[0m\u001b[0;34m,\u001b[0m \u001b[0minferred_freq\u001b[0m \u001b[0;34m=\u001b[0m \u001b[0msequence_to_td64ns\u001b[0m\u001b[0;34m(\u001b[0m\u001b[0mdata\u001b[0m\u001b[0;34m,\u001b[0m \u001b[0mcopy\u001b[0m\u001b[0;34m=\u001b[0m\u001b[0mcopy\u001b[0m\u001b[0;34m,\u001b[0m \u001b[0munit\u001b[0m\u001b[0;34m=\u001b[0m\u001b[0munit\u001b[0m\u001b[0;34m)\u001b[0m\u001b[0;34m\u001b[0m\u001b[0;34m\u001b[0m\u001b[0m\n\u001b[0m\u001b[1;32m    273\u001b[0m         \u001b[0mfreq\u001b[0m\u001b[0;34m,\u001b[0m \u001b[0mfreq_infer\u001b[0m \u001b[0;34m=\u001b[0m \u001b[0mdtl\u001b[0m\u001b[0;34m.\u001b[0m\u001b[0mvalidate_inferred_freq\u001b[0m\u001b[0;34m(\u001b[0m\u001b[0mfreq\u001b[0m\u001b[0;34m,\u001b[0m \u001b[0minferred_freq\u001b[0m\u001b[0;34m,\u001b[0m \u001b[0mfreq_infer\u001b[0m\u001b[0;34m)\u001b[0m\u001b[0;34m\u001b[0m\u001b[0;34m\u001b[0m\u001b[0m\n\u001b[1;32m    274\u001b[0m \u001b[0;34m\u001b[0m\u001b[0m\n",
      "\u001b[0;32m~/miniconda3/lib/python3.7/site-packages/pandas/core/arrays/timedeltas.py\u001b[0m in \u001b[0;36msequence_to_td64ns\u001b[0;34m(data, copy, unit, errors)\u001b[0m\n\u001b[1;32m    971\u001b[0m     \u001b[0;32mif\u001b[0m \u001b[0mis_object_dtype\u001b[0m\u001b[0;34m(\u001b[0m\u001b[0mdata\u001b[0m\u001b[0;34m.\u001b[0m\u001b[0mdtype\u001b[0m\u001b[0;34m)\u001b[0m \u001b[0;32mor\u001b[0m \u001b[0mis_string_dtype\u001b[0m\u001b[0;34m(\u001b[0m\u001b[0mdata\u001b[0m\u001b[0;34m.\u001b[0m\u001b[0mdtype\u001b[0m\u001b[0;34m)\u001b[0m\u001b[0;34m:\u001b[0m\u001b[0;34m\u001b[0m\u001b[0;34m\u001b[0m\u001b[0m\n\u001b[1;32m    972\u001b[0m         \u001b[0;31m# no need to make a copy, need to convert if string-dtyped\u001b[0m\u001b[0;34m\u001b[0m\u001b[0;34m\u001b[0m\u001b[0;34m\u001b[0m\u001b[0m\n\u001b[0;32m--> 973\u001b[0;31m         \u001b[0mdata\u001b[0m \u001b[0;34m=\u001b[0m \u001b[0mobjects_to_td64ns\u001b[0m\u001b[0;34m(\u001b[0m\u001b[0mdata\u001b[0m\u001b[0;34m,\u001b[0m \u001b[0munit\u001b[0m\u001b[0;34m=\u001b[0m\u001b[0munit\u001b[0m\u001b[0;34m,\u001b[0m \u001b[0merrors\u001b[0m\u001b[0;34m=\u001b[0m\u001b[0merrors\u001b[0m\u001b[0;34m)\u001b[0m\u001b[0;34m\u001b[0m\u001b[0;34m\u001b[0m\u001b[0m\n\u001b[0m\u001b[1;32m    974\u001b[0m         \u001b[0mcopy\u001b[0m \u001b[0;34m=\u001b[0m \u001b[0;32mFalse\u001b[0m\u001b[0;34m\u001b[0m\u001b[0;34m\u001b[0m\u001b[0m\n\u001b[1;32m    975\u001b[0m \u001b[0;34m\u001b[0m\u001b[0m\n",
      "\u001b[0;32m~/miniconda3/lib/python3.7/site-packages/pandas/core/arrays/timedeltas.py\u001b[0m in \u001b[0;36mobjects_to_td64ns\u001b[0;34m(data, unit, errors)\u001b[0m\n\u001b[1;32m   1096\u001b[0m     \u001b[0mvalues\u001b[0m \u001b[0;34m=\u001b[0m \u001b[0mnp\u001b[0m\u001b[0;34m.\u001b[0m\u001b[0marray\u001b[0m\u001b[0;34m(\u001b[0m\u001b[0mdata\u001b[0m\u001b[0;34m,\u001b[0m \u001b[0mdtype\u001b[0m\u001b[0;34m=\u001b[0m\u001b[0mnp\u001b[0m\u001b[0;34m.\u001b[0m\u001b[0mobject_\u001b[0m\u001b[0;34m,\u001b[0m \u001b[0mcopy\u001b[0m\u001b[0;34m=\u001b[0m\u001b[0;32mFalse\u001b[0m\u001b[0;34m)\u001b[0m\u001b[0;34m\u001b[0m\u001b[0;34m\u001b[0m\u001b[0m\n\u001b[1;32m   1097\u001b[0m \u001b[0;34m\u001b[0m\u001b[0m\n\u001b[0;32m-> 1098\u001b[0;31m     \u001b[0mresult\u001b[0m \u001b[0;34m=\u001b[0m \u001b[0marray_to_timedelta64\u001b[0m\u001b[0;34m(\u001b[0m\u001b[0mvalues\u001b[0m\u001b[0;34m,\u001b[0m \u001b[0munit\u001b[0m\u001b[0;34m=\u001b[0m\u001b[0munit\u001b[0m\u001b[0;34m,\u001b[0m \u001b[0merrors\u001b[0m\u001b[0;34m=\u001b[0m\u001b[0merrors\u001b[0m\u001b[0;34m)\u001b[0m\u001b[0;34m\u001b[0m\u001b[0;34m\u001b[0m\u001b[0m\n\u001b[0m\u001b[1;32m   1099\u001b[0m     \u001b[0;32mreturn\u001b[0m \u001b[0mresult\u001b[0m\u001b[0;34m.\u001b[0m\u001b[0mview\u001b[0m\u001b[0;34m(\u001b[0m\u001b[0;34m\"timedelta64[ns]\"\u001b[0m\u001b[0;34m)\u001b[0m\u001b[0;34m\u001b[0m\u001b[0;34m\u001b[0m\u001b[0m\n\u001b[1;32m   1100\u001b[0m \u001b[0;34m\u001b[0m\u001b[0m\n",
      "\u001b[0;32mpandas/_libs/tslibs/timedeltas.pyx\u001b[0m in \u001b[0;36mpandas._libs.tslibs.timedeltas.array_to_timedelta64\u001b[0;34m()\u001b[0m\n",
      "\u001b[0;32mpandas/_libs/tslibs/timedeltas.pyx\u001b[0m in \u001b[0;36mpandas._libs.tslibs.timedeltas.convert_to_timedelta64\u001b[0;34m()\u001b[0m\n",
      "\u001b[0;32mpandas/_libs/tslibs/timedeltas.pyx\u001b[0m in \u001b[0;36mpandas._libs.tslibs.timedeltas.delta_to_nanoseconds\u001b[0;34m()\u001b[0m\n",
      "\u001b[0;31mOverflowError\u001b[0m: Python int too large to convert to C long"
     ]
    },
    {
     "name": "stderr",
     "output_type": "stream",
     "text": [
      "Exception ignored in: 'pandas._libs.algos.are_diff'\n",
      "Traceback (most recent call last):\n",
      "  File \"/home/leachl/miniconda3/lib/python3.7/site-packages/xarray/coding/cftimeindex.py\", line 433, in __sub__\n",
      "    return pd.TimedeltaIndex(np.array(self) - np.array(other))\n",
      "  File \"/home/leachl/miniconda3/lib/python3.7/site-packages/pandas/core/indexes/timedeltas.py\", line 258, in __new__\n",
      "    data, freq=freq, unit=unit, dtype=dtype, copy=copy\n",
      "  File \"/home/leachl/miniconda3/lib/python3.7/site-packages/pandas/core/arrays/timedeltas.py\", line 272, in _from_sequence\n",
      "    data, inferred_freq = sequence_to_td64ns(data, copy=copy, unit=unit)\n",
      "  File \"/home/leachl/miniconda3/lib/python3.7/site-packages/pandas/core/arrays/timedeltas.py\", line 973, in sequence_to_td64ns\n",
      "    data = objects_to_td64ns(data, unit=unit, errors=errors)\n",
      "  File \"/home/leachl/miniconda3/lib/python3.7/site-packages/pandas/core/arrays/timedeltas.py\", line 1098, in objects_to_td64ns\n",
      "    result = array_to_timedelta64(values, unit=unit, errors=errors)\n",
      "  File \"pandas/_libs/tslibs/timedeltas.pyx\", line 236, in pandas._libs.tslibs.timedeltas.array_to_timedelta64\n",
      "  File \"pandas/_libs/tslibs/timedeltas.pyx\", line 199, in pandas._libs.tslibs.timedeltas.convert_to_timedelta64\n",
      "  File \"pandas/_libs/tslibs/timedeltas.pyx\", line 144, in pandas._libs.tslibs.timedeltas.delta_to_nanoseconds\n",
      "OverflowError: Python int too large to convert to C long\n"
     ]
    },
    {
     "ename": "OverflowError",
     "evalue": "Python int too large to convert to C long",
     "output_type": "error",
     "traceback": [
      "\u001b[0;31m---------------------------------------------------------------------------\u001b[0m",
      "\u001b[0;31mTypeError\u001b[0m                                 Traceback (most recent call last)",
      "\u001b[0;32mpandas/_libs/tslibs/timedeltas.pyx\u001b[0m in \u001b[0;36mpandas._libs.tslibs.timedeltas.array_to_timedelta64\u001b[0;34m()\u001b[0m\n",
      "\u001b[0;32mpandas/_libs/tslibs/timedeltas.pyx\u001b[0m in \u001b[0;36mpandas._libs.tslibs.timedeltas.parse_timedelta_string\u001b[0;34m()\u001b[0m\n",
      "\u001b[0;31mTypeError\u001b[0m: object of type 'datetime.timedelta' has no len()",
      "\nDuring handling of the above exception, another exception occurred:\n",
      "\u001b[0;31mOverflowError\u001b[0m                             Traceback (most recent call last)",
      "\u001b[0;32m~/miniconda3/lib/python3.7/site-packages/xarray/coding/cftimeindex.py\u001b[0m in \u001b[0;36m__sub__\u001b[0;34m(self, other)\u001b[0m\n\u001b[1;32m    431\u001b[0m \u001b[0;34m\u001b[0m\u001b[0m\n\u001b[1;32m    432\u001b[0m         \u001b[0;32mif\u001b[0m \u001b[0misinstance\u001b[0m\u001b[0;34m(\u001b[0m\u001b[0mother\u001b[0m\u001b[0;34m,\u001b[0m \u001b[0;34m(\u001b[0m\u001b[0mCFTimeIndex\u001b[0m\u001b[0;34m,\u001b[0m \u001b[0mcftime\u001b[0m\u001b[0;34m.\u001b[0m\u001b[0mdatetime\u001b[0m\u001b[0;34m)\u001b[0m\u001b[0;34m)\u001b[0m\u001b[0;34m:\u001b[0m\u001b[0;34m\u001b[0m\u001b[0;34m\u001b[0m\u001b[0m\n\u001b[0;32m--> 433\u001b[0;31m             \u001b[0;32mreturn\u001b[0m \u001b[0mpd\u001b[0m\u001b[0;34m.\u001b[0m\u001b[0mTimedeltaIndex\u001b[0m\u001b[0;34m(\u001b[0m\u001b[0mnp\u001b[0m\u001b[0;34m.\u001b[0m\u001b[0marray\u001b[0m\u001b[0;34m(\u001b[0m\u001b[0mself\u001b[0m\u001b[0;34m)\u001b[0m \u001b[0;34m-\u001b[0m \u001b[0mnp\u001b[0m\u001b[0;34m.\u001b[0m\u001b[0marray\u001b[0m\u001b[0;34m(\u001b[0m\u001b[0mother\u001b[0m\u001b[0;34m)\u001b[0m\u001b[0;34m)\u001b[0m\u001b[0;34m\u001b[0m\u001b[0;34m\u001b[0m\u001b[0m\n\u001b[0m\u001b[1;32m    434\u001b[0m         \u001b[0;32melif\u001b[0m \u001b[0misinstance\u001b[0m\u001b[0;34m(\u001b[0m\u001b[0mother\u001b[0m\u001b[0;34m,\u001b[0m \u001b[0mpd\u001b[0m\u001b[0;34m.\u001b[0m\u001b[0mTimedeltaIndex\u001b[0m\u001b[0;34m)\u001b[0m\u001b[0;34m:\u001b[0m\u001b[0;34m\u001b[0m\u001b[0;34m\u001b[0m\u001b[0m\n\u001b[1;32m    435\u001b[0m             \u001b[0;32mreturn\u001b[0m \u001b[0mCFTimeIndex\u001b[0m\u001b[0;34m(\u001b[0m\u001b[0mnp\u001b[0m\u001b[0;34m.\u001b[0m\u001b[0marray\u001b[0m\u001b[0;34m(\u001b[0m\u001b[0mself\u001b[0m\u001b[0;34m)\u001b[0m \u001b[0;34m-\u001b[0m \u001b[0mother\u001b[0m\u001b[0;34m.\u001b[0m\u001b[0mto_pytimedelta\u001b[0m\u001b[0;34m(\u001b[0m\u001b[0;34m)\u001b[0m\u001b[0;34m)\u001b[0m\u001b[0;34m\u001b[0m\u001b[0;34m\u001b[0m\u001b[0m\n",
      "\u001b[0;32m~/miniconda3/lib/python3.7/site-packages/pandas/core/indexes/timedeltas.py\u001b[0m in \u001b[0;36m__new__\u001b[0;34m(cls, data, unit, freq, start, end, periods, closed, dtype, copy, name, verify_integrity)\u001b[0m\n\u001b[1;32m    256\u001b[0m \u001b[0;34m\u001b[0m\u001b[0m\n\u001b[1;32m    257\u001b[0m         tdarr = TimedeltaArray._from_sequence(\n\u001b[0;32m--> 258\u001b[0;31m             \u001b[0mdata\u001b[0m\u001b[0;34m,\u001b[0m \u001b[0mfreq\u001b[0m\u001b[0;34m=\u001b[0m\u001b[0mfreq\u001b[0m\u001b[0;34m,\u001b[0m \u001b[0munit\u001b[0m\u001b[0;34m=\u001b[0m\u001b[0munit\u001b[0m\u001b[0;34m,\u001b[0m \u001b[0mdtype\u001b[0m\u001b[0;34m=\u001b[0m\u001b[0mdtype\u001b[0m\u001b[0;34m,\u001b[0m \u001b[0mcopy\u001b[0m\u001b[0;34m=\u001b[0m\u001b[0mcopy\u001b[0m\u001b[0;34m\u001b[0m\u001b[0;34m\u001b[0m\u001b[0m\n\u001b[0m\u001b[1;32m    259\u001b[0m         )\n\u001b[1;32m    260\u001b[0m         \u001b[0;32mreturn\u001b[0m \u001b[0mcls\u001b[0m\u001b[0;34m.\u001b[0m\u001b[0m_simple_new\u001b[0m\u001b[0;34m(\u001b[0m\u001b[0mtdarr\u001b[0m\u001b[0;34m.\u001b[0m\u001b[0m_data\u001b[0m\u001b[0;34m,\u001b[0m \u001b[0mfreq\u001b[0m\u001b[0;34m=\u001b[0m\u001b[0mtdarr\u001b[0m\u001b[0;34m.\u001b[0m\u001b[0mfreq\u001b[0m\u001b[0;34m,\u001b[0m \u001b[0mname\u001b[0m\u001b[0;34m=\u001b[0m\u001b[0mname\u001b[0m\u001b[0;34m)\u001b[0m\u001b[0;34m\u001b[0m\u001b[0;34m\u001b[0m\u001b[0m\n",
      "\u001b[0;32m~/miniconda3/lib/python3.7/site-packages/pandas/core/arrays/timedeltas.py\u001b[0m in \u001b[0;36m_from_sequence\u001b[0;34m(cls, data, dtype, copy, freq, unit)\u001b[0m\n\u001b[1;32m    270\u001b[0m         \u001b[0mfreq\u001b[0m\u001b[0;34m,\u001b[0m \u001b[0mfreq_infer\u001b[0m \u001b[0;34m=\u001b[0m \u001b[0mdtl\u001b[0m\u001b[0;34m.\u001b[0m\u001b[0mmaybe_infer_freq\u001b[0m\u001b[0;34m(\u001b[0m\u001b[0mfreq\u001b[0m\u001b[0;34m)\u001b[0m\u001b[0;34m\u001b[0m\u001b[0;34m\u001b[0m\u001b[0m\n\u001b[1;32m    271\u001b[0m \u001b[0;34m\u001b[0m\u001b[0m\n\u001b[0;32m--> 272\u001b[0;31m         \u001b[0mdata\u001b[0m\u001b[0;34m,\u001b[0m \u001b[0minferred_freq\u001b[0m \u001b[0;34m=\u001b[0m \u001b[0msequence_to_td64ns\u001b[0m\u001b[0;34m(\u001b[0m\u001b[0mdata\u001b[0m\u001b[0;34m,\u001b[0m \u001b[0mcopy\u001b[0m\u001b[0;34m=\u001b[0m\u001b[0mcopy\u001b[0m\u001b[0;34m,\u001b[0m \u001b[0munit\u001b[0m\u001b[0;34m=\u001b[0m\u001b[0munit\u001b[0m\u001b[0;34m)\u001b[0m\u001b[0;34m\u001b[0m\u001b[0;34m\u001b[0m\u001b[0m\n\u001b[0m\u001b[1;32m    273\u001b[0m         \u001b[0mfreq\u001b[0m\u001b[0;34m,\u001b[0m \u001b[0mfreq_infer\u001b[0m \u001b[0;34m=\u001b[0m \u001b[0mdtl\u001b[0m\u001b[0;34m.\u001b[0m\u001b[0mvalidate_inferred_freq\u001b[0m\u001b[0;34m(\u001b[0m\u001b[0mfreq\u001b[0m\u001b[0;34m,\u001b[0m \u001b[0minferred_freq\u001b[0m\u001b[0;34m,\u001b[0m \u001b[0mfreq_infer\u001b[0m\u001b[0;34m)\u001b[0m\u001b[0;34m\u001b[0m\u001b[0;34m\u001b[0m\u001b[0m\n\u001b[1;32m    274\u001b[0m \u001b[0;34m\u001b[0m\u001b[0m\n",
      "\u001b[0;32m~/miniconda3/lib/python3.7/site-packages/pandas/core/arrays/timedeltas.py\u001b[0m in \u001b[0;36msequence_to_td64ns\u001b[0;34m(data, copy, unit, errors)\u001b[0m\n\u001b[1;32m    971\u001b[0m     \u001b[0;32mif\u001b[0m \u001b[0mis_object_dtype\u001b[0m\u001b[0;34m(\u001b[0m\u001b[0mdata\u001b[0m\u001b[0;34m.\u001b[0m\u001b[0mdtype\u001b[0m\u001b[0;34m)\u001b[0m \u001b[0;32mor\u001b[0m \u001b[0mis_string_dtype\u001b[0m\u001b[0;34m(\u001b[0m\u001b[0mdata\u001b[0m\u001b[0;34m.\u001b[0m\u001b[0mdtype\u001b[0m\u001b[0;34m)\u001b[0m\u001b[0;34m:\u001b[0m\u001b[0;34m\u001b[0m\u001b[0;34m\u001b[0m\u001b[0m\n\u001b[1;32m    972\u001b[0m         \u001b[0;31m# no need to make a copy, need to convert if string-dtyped\u001b[0m\u001b[0;34m\u001b[0m\u001b[0;34m\u001b[0m\u001b[0;34m\u001b[0m\u001b[0m\n\u001b[0;32m--> 973\u001b[0;31m         \u001b[0mdata\u001b[0m \u001b[0;34m=\u001b[0m \u001b[0mobjects_to_td64ns\u001b[0m\u001b[0;34m(\u001b[0m\u001b[0mdata\u001b[0m\u001b[0;34m,\u001b[0m \u001b[0munit\u001b[0m\u001b[0;34m=\u001b[0m\u001b[0munit\u001b[0m\u001b[0;34m,\u001b[0m \u001b[0merrors\u001b[0m\u001b[0;34m=\u001b[0m\u001b[0merrors\u001b[0m\u001b[0;34m)\u001b[0m\u001b[0;34m\u001b[0m\u001b[0;34m\u001b[0m\u001b[0m\n\u001b[0m\u001b[1;32m    974\u001b[0m         \u001b[0mcopy\u001b[0m \u001b[0;34m=\u001b[0m \u001b[0;32mFalse\u001b[0m\u001b[0;34m\u001b[0m\u001b[0;34m\u001b[0m\u001b[0m\n\u001b[1;32m    975\u001b[0m \u001b[0;34m\u001b[0m\u001b[0m\n",
      "\u001b[0;32m~/miniconda3/lib/python3.7/site-packages/pandas/core/arrays/timedeltas.py\u001b[0m in \u001b[0;36mobjects_to_td64ns\u001b[0;34m(data, unit, errors)\u001b[0m\n\u001b[1;32m   1096\u001b[0m     \u001b[0mvalues\u001b[0m \u001b[0;34m=\u001b[0m \u001b[0mnp\u001b[0m\u001b[0;34m.\u001b[0m\u001b[0marray\u001b[0m\u001b[0;34m(\u001b[0m\u001b[0mdata\u001b[0m\u001b[0;34m,\u001b[0m \u001b[0mdtype\u001b[0m\u001b[0;34m=\u001b[0m\u001b[0mnp\u001b[0m\u001b[0;34m.\u001b[0m\u001b[0mobject_\u001b[0m\u001b[0;34m,\u001b[0m \u001b[0mcopy\u001b[0m\u001b[0;34m=\u001b[0m\u001b[0;32mFalse\u001b[0m\u001b[0;34m)\u001b[0m\u001b[0;34m\u001b[0m\u001b[0;34m\u001b[0m\u001b[0m\n\u001b[1;32m   1097\u001b[0m \u001b[0;34m\u001b[0m\u001b[0m\n\u001b[0;32m-> 1098\u001b[0;31m     \u001b[0mresult\u001b[0m \u001b[0;34m=\u001b[0m \u001b[0marray_to_timedelta64\u001b[0m\u001b[0;34m(\u001b[0m\u001b[0mvalues\u001b[0m\u001b[0;34m,\u001b[0m \u001b[0munit\u001b[0m\u001b[0;34m=\u001b[0m\u001b[0munit\u001b[0m\u001b[0;34m,\u001b[0m \u001b[0merrors\u001b[0m\u001b[0;34m=\u001b[0m\u001b[0merrors\u001b[0m\u001b[0;34m)\u001b[0m\u001b[0;34m\u001b[0m\u001b[0;34m\u001b[0m\u001b[0m\n\u001b[0m\u001b[1;32m   1099\u001b[0m     \u001b[0;32mreturn\u001b[0m \u001b[0mresult\u001b[0m\u001b[0;34m.\u001b[0m\u001b[0mview\u001b[0m\u001b[0;34m(\u001b[0m\u001b[0;34m\"timedelta64[ns]\"\u001b[0m\u001b[0;34m)\u001b[0m\u001b[0;34m\u001b[0m\u001b[0;34m\u001b[0m\u001b[0m\n\u001b[1;32m   1100\u001b[0m \u001b[0;34m\u001b[0m\u001b[0m\n",
      "\u001b[0;32mpandas/_libs/tslibs/timedeltas.pyx\u001b[0m in \u001b[0;36mpandas._libs.tslibs.timedeltas.array_to_timedelta64\u001b[0;34m()\u001b[0m\n",
      "\u001b[0;32mpandas/_libs/tslibs/timedeltas.pyx\u001b[0m in \u001b[0;36mpandas._libs.tslibs.timedeltas.convert_to_timedelta64\u001b[0;34m()\u001b[0m\n",
      "\u001b[0;32mpandas/_libs/tslibs/timedeltas.pyx\u001b[0m in \u001b[0;36mpandas._libs.tslibs.timedeltas.delta_to_nanoseconds\u001b[0;34m()\u001b[0m\n",
      "\u001b[0;31mOverflowError\u001b[0m: Python int too large to convert to C long"
     ]
    },
    {
     "name": "stderr",
     "output_type": "stream",
     "text": [
      "Exception ignored in: 'pandas._libs.algos.are_diff'\n",
      "Traceback (most recent call last):\n",
      "  File \"/home/leachl/miniconda3/lib/python3.7/site-packages/xarray/coding/cftimeindex.py\", line 433, in __sub__\n",
      "    return pd.TimedeltaIndex(np.array(self) - np.array(other))\n",
      "  File \"/home/leachl/miniconda3/lib/python3.7/site-packages/pandas/core/indexes/timedeltas.py\", line 258, in __new__\n",
      "    data, freq=freq, unit=unit, dtype=dtype, copy=copy\n",
      "  File \"/home/leachl/miniconda3/lib/python3.7/site-packages/pandas/core/arrays/timedeltas.py\", line 272, in _from_sequence\n",
      "    data, inferred_freq = sequence_to_td64ns(data, copy=copy, unit=unit)\n",
      "  File \"/home/leachl/miniconda3/lib/python3.7/site-packages/pandas/core/arrays/timedeltas.py\", line 973, in sequence_to_td64ns\n",
      "    data = objects_to_td64ns(data, unit=unit, errors=errors)\n",
      "  File \"/home/leachl/miniconda3/lib/python3.7/site-packages/pandas/core/arrays/timedeltas.py\", line 1098, in objects_to_td64ns\n",
      "    result = array_to_timedelta64(values, unit=unit, errors=errors)\n",
      "  File \"pandas/_libs/tslibs/timedeltas.pyx\", line 236, in pandas._libs.tslibs.timedeltas.array_to_timedelta64\n",
      "  File \"pandas/_libs/tslibs/timedeltas.pyx\", line 199, in pandas._libs.tslibs.timedeltas.convert_to_timedelta64\n",
      "  File \"pandas/_libs/tslibs/timedeltas.pyx\", line 144, in pandas._libs.tslibs.timedeltas.delta_to_nanoseconds\n",
      "OverflowError: Python int too large to convert to C long\n",
      "/home/leachl/miniconda3/lib/python3.7/site-packages/numpy/core/_asarray.py:85: SerializationWarning: Unable to decode time axis into full numpy.datetime64 objects, continuing using cftime.datetime objects instead, reason: dates out of range\n",
      "  return array(a, dtype, copy=False, order=order)\n",
      "/home/leachl/miniconda3/lib/python3.7/site-packages/numpy/core/_asarray.py:85: SerializationWarning: Unable to decode time axis into full numpy.datetime64 objects, continuing using cftime.datetime objects instead, reason: dates out of range\n",
      "  return array(a, dtype, copy=False, order=order)\n",
      "/home/leachl/miniconda3/lib/python3.7/site-packages/numpy/core/_asarray.py:85: SerializationWarning: Unable to decode time axis into full numpy.datetime64 objects, continuing using cftime.datetime objects instead, reason: dates out of range\n",
      "  return array(a, dtype, copy=False, order=order)\n",
      "/home/leachl/miniconda3/lib/python3.7/site-packages/numpy/core/_asarray.py:85: SerializationWarning: Unable to decode time axis into full numpy.datetime64 objects, continuing using cftime.datetime objects instead, reason: dates out of range\n",
      "  return array(a, dtype, copy=False, order=order)\n"
     ]
    },
    {
     "ename": "AttributeError",
     "evalue": "'IndexVariable' object has no attribute 'year'",
     "output_type": "error",
     "traceback": [
      "\u001b[0;31m---------------------------------------------------------------------------\u001b[0m",
      "\u001b[0;31mKeyError\u001b[0m                                  Traceback (most recent call last)",
      "\u001b[0;32m~/miniconda3/lib/python3.7/site-packages/xarray/core/dataset.py\u001b[0m in \u001b[0;36m_construct_dataarray\u001b[0;34m(self, name)\u001b[0m\n\u001b[1;32m   1156\u001b[0m         \u001b[0;32mtry\u001b[0m\u001b[0;34m:\u001b[0m\u001b[0;34m\u001b[0m\u001b[0;34m\u001b[0m\u001b[0m\n\u001b[0;32m-> 1157\u001b[0;31m             \u001b[0mvariable\u001b[0m \u001b[0;34m=\u001b[0m \u001b[0mself\u001b[0m\u001b[0;34m.\u001b[0m\u001b[0m_variables\u001b[0m\u001b[0;34m[\u001b[0m\u001b[0mname\u001b[0m\u001b[0;34m]\u001b[0m\u001b[0;34m\u001b[0m\u001b[0;34m\u001b[0m\u001b[0m\n\u001b[0m\u001b[1;32m   1158\u001b[0m         \u001b[0;32mexcept\u001b[0m \u001b[0mKeyError\u001b[0m\u001b[0;34m:\u001b[0m\u001b[0;34m\u001b[0m\u001b[0;34m\u001b[0m\u001b[0m\n",
      "\u001b[0;31mKeyError\u001b[0m: 'time.year'",
      "\nDuring handling of the above exception, another exception occurred:\n",
      "\u001b[0;31mAttributeError\u001b[0m                            Traceback (most recent call last)",
      "\u001b[0;32m<ipython-input-25-5535a2cfbc51>\u001b[0m in \u001b[0;36m<module>\u001b[0;34m\u001b[0m\n\u001b[1;32m      1\u001b[0m \u001b[0mabrupt4x_df_list_esgf\u001b[0m \u001b[0;34m=\u001b[0m \u001b[0;34m[\u001b[0m\u001b[0;34m]\u001b[0m\u001b[0;34m\u001b[0m\u001b[0;34m\u001b[0m\u001b[0m\n\u001b[1;32m      2\u001b[0m \u001b[0;32mfor\u001b[0m \u001b[0mx\u001b[0m \u001b[0;32min\u001b[0m \u001b[0mesgf_abrupt4x_list\u001b[0m\u001b[0;34m:\u001b[0m\u001b[0;34m\u001b[0m\u001b[0;34m\u001b[0m\u001b[0m\n\u001b[0;32m----> 3\u001b[0;31m     \u001b[0mabrupt4x_df_list_esgf\u001b[0m \u001b[0;34m+=\u001b[0m \u001b[0;34m[\u001b[0m\u001b[0mget_CMIP6_data\u001b[0m\u001b[0;34m(\u001b[0m\u001b[0mx\u001b[0m\u001b[0;34m,\u001b[0m\u001b[0;34m'abrupt-4xCO2'\u001b[0m\u001b[0;34m,\u001b[0m\u001b[0;34m[\u001b[0m\u001b[0;34m'tas'\u001b[0m\u001b[0;34m,\u001b[0m\u001b[0;34m'rlut'\u001b[0m\u001b[0;34m,\u001b[0m\u001b[0;34m'rsut'\u001b[0m\u001b[0;34m,\u001b[0m\u001b[0;34m'rsdt'\u001b[0m\u001b[0;34m]\u001b[0m\u001b[0;34m,\u001b[0m\u001b[0;32mTrue\u001b[0m\u001b[0;34m)\u001b[0m\u001b[0;34m]\u001b[0m\u001b[0;34m\u001b[0m\u001b[0;34m\u001b[0m\u001b[0m\n\u001b[0m\u001b[1;32m      4\u001b[0m \u001b[0;31m# P1=multiprocessing.Pool(processes=8)\u001b[0m\u001b[0;34m\u001b[0m\u001b[0;34m\u001b[0m\u001b[0;34m\u001b[0m\u001b[0m\n\u001b[1;32m      5\u001b[0m \u001b[0;31m# abrupt4xCO2_df = P1.starmap(get_CMIP6_data,[(x,'abrupt-4xCO2',['tas','rlut','rsut','rsdt'],True) for x in abrupt4x_ism_areacella_exist])\u001b[0m\u001b[0;34m\u001b[0m\u001b[0;34m\u001b[0m\u001b[0;34m\u001b[0m\u001b[0m\n",
      "\u001b[0;32m<ipython-input-20-124a3bbeb4e4>\u001b[0m in \u001b[0;36mget_CMIP6_data\u001b[0;34m(ism, exp, var, multivar)\u001b[0m\n\u001b[1;32m      2\u001b[0m     \u001b[0mism_split\u001b[0m \u001b[0;34m=\u001b[0m \u001b[0mism\u001b[0m\u001b[0;34m.\u001b[0m\u001b[0msplit\u001b[0m\u001b[0;34m(\u001b[0m\u001b[0;34m'_'\u001b[0m\u001b[0;34m)\u001b[0m\u001b[0;34m\u001b[0m\u001b[0;34m\u001b[0m\u001b[0m\n\u001b[1;32m      3\u001b[0m     \u001b[0;32mif\u001b[0m \u001b[0mmultivar\u001b[0m\u001b[0;34m:\u001b[0m\u001b[0;34m\u001b[0m\u001b[0;34m\u001b[0m\u001b[0m\n\u001b[0;32m----> 4\u001b[0;31m         \u001b[0m_out\u001b[0m \u001b[0;34m=\u001b[0m \u001b[0mget_annual_CMIP6_data_esgf_multivar\u001b[0m\u001b[0;34m(\u001b[0m\u001b[0;34m'CMIP'\u001b[0m\u001b[0;34m,\u001b[0m \u001b[0;34m'Amon'\u001b[0m\u001b[0;34m,\u001b[0m \u001b[0mvar\u001b[0m\u001b[0;34m,\u001b[0m \u001b[0mexp\u001b[0m\u001b[0;34m,\u001b[0m \u001b[0mism_split\u001b[0m\u001b[0;34m[\u001b[0m\u001b[0;36m0\u001b[0m\u001b[0;34m]\u001b[0m\u001b[0;34m,\u001b[0m \u001b[0mism_split\u001b[0m\u001b[0;34m[\u001b[0m\u001b[0;36m1\u001b[0m\u001b[0;34m]\u001b[0m\u001b[0;34m,\u001b[0m \u001b[0mism_split\u001b[0m\u001b[0;34m[\u001b[0m\u001b[0;36m2\u001b[0m\u001b[0;34m]\u001b[0m\u001b[0;34m)\u001b[0m\u001b[0;34m\u001b[0m\u001b[0;34m\u001b[0m\u001b[0m\n\u001b[0m\u001b[1;32m      5\u001b[0m     \u001b[0;32melse\u001b[0m\u001b[0;34m:\u001b[0m\u001b[0;34m\u001b[0m\u001b[0;34m\u001b[0m\u001b[0m\n\u001b[1;32m      6\u001b[0m         \u001b[0m_out\u001b[0m \u001b[0;34m=\u001b[0m \u001b[0mget_annual_CMIP6_data_esgf\u001b[0m\u001b[0;34m(\u001b[0m\u001b[0;34m'CMIP'\u001b[0m\u001b[0;34m,\u001b[0m \u001b[0;34m'Amon'\u001b[0m\u001b[0;34m,\u001b[0m \u001b[0mvar\u001b[0m\u001b[0;34m,\u001b[0m \u001b[0mexp\u001b[0m\u001b[0;34m,\u001b[0m \u001b[0mism_split\u001b[0m\u001b[0;34m[\u001b[0m\u001b[0;36m0\u001b[0m\u001b[0;34m]\u001b[0m\u001b[0;34m,\u001b[0m \u001b[0mism_split\u001b[0m\u001b[0;34m[\u001b[0m\u001b[0;36m1\u001b[0m\u001b[0;34m]\u001b[0m\u001b[0;34m,\u001b[0m \u001b[0mism_split\u001b[0m\u001b[0;34m[\u001b[0m\u001b[0;36m2\u001b[0m\u001b[0;34m]\u001b[0m\u001b[0;34m)\u001b[0m\u001b[0;34m\u001b[0m\u001b[0;34m\u001b[0m\u001b[0m\n",
      "\u001b[0;32m<ipython-input-24-431fb6ab0def>\u001b[0m in \u001b[0;36mget_annual_CMIP6_data_esgf_multivar\u001b[0;34m(activity, table, variables, experiment, institution, source, member)\u001b[0m\n\u001b[1;32m     42\u001b[0m     \u001b[0mta_timeseries\u001b[0m \u001b[0;34m=\u001b[0m \u001b[0;34m(\u001b[0m\u001b[0mds\u001b[0m\u001b[0;34m[\u001b[0m\u001b[0mvariables\u001b[0m\u001b[0;34m]\u001b[0m \u001b[0;34m*\u001b[0m \u001b[0mds_area\u001b[0m\u001b[0;34m.\u001b[0m\u001b[0mareacella\u001b[0m\u001b[0;34m)\u001b[0m\u001b[0;34m.\u001b[0m\u001b[0msum\u001b[0m\u001b[0;34m(\u001b[0m\u001b[0mdim\u001b[0m\u001b[0;34m=\u001b[0m\u001b[0mdims\u001b[0m\u001b[0;34m)\u001b[0m \u001b[0;34m/\u001b[0m \u001b[0mtotal_area\u001b[0m\u001b[0;34m\u001b[0m\u001b[0;34m\u001b[0m\u001b[0m\n\u001b[1;32m     43\u001b[0m \u001b[0;34m\u001b[0m\u001b[0m\n\u001b[0;32m---> 44\u001b[0;31m     \u001b[0m_out\u001b[0m \u001b[0;34m=\u001b[0m \u001b[0mta_timeseries\u001b[0m\u001b[0;34m.\u001b[0m\u001b[0mgroupby\u001b[0m\u001b[0;34m(\u001b[0m\u001b[0;34m'time.year'\u001b[0m\u001b[0;34m)\u001b[0m\u001b[0;34m.\u001b[0m\u001b[0mmean\u001b[0m\u001b[0;34m(\u001b[0m\u001b[0;34m'time'\u001b[0m\u001b[0;34m)\u001b[0m\u001b[0;34m.\u001b[0m\u001b[0mto_dataframe\u001b[0m\u001b[0;34m(\u001b[0m\u001b[0;34m)\u001b[0m\u001b[0;34m[\u001b[0m\u001b[0mvariables\u001b[0m\u001b[0;34m]\u001b[0m\u001b[0;34m\u001b[0m\u001b[0;34m\u001b[0m\u001b[0m\n\u001b[0m\u001b[1;32m     45\u001b[0m \u001b[0;34m\u001b[0m\u001b[0m\n\u001b[1;32m     46\u001b[0m     \u001b[0;32mreturn\u001b[0m \u001b[0mpd\u001b[0m\u001b[0;34m.\u001b[0m\u001b[0mconcat\u001b[0m\u001b[0;34m(\u001b[0m\u001b[0;34m[\u001b[0m\u001b[0m_out\u001b[0m\u001b[0;34m]\u001b[0m\u001b[0;34m,\u001b[0m\u001b[0maxis\u001b[0m\u001b[0;34m=\u001b[0m\u001b[0;36m1\u001b[0m\u001b[0;34m,\u001b[0m\u001b[0mkeys\u001b[0m\u001b[0;34m=\u001b[0m\u001b[0;34m[\u001b[0m\u001b[0minstitution\u001b[0m\u001b[0;34m+\u001b[0m\u001b[0;34m'_'\u001b[0m\u001b[0;34m+\u001b[0m\u001b[0msource\u001b[0m\u001b[0;34m+\u001b[0m\u001b[0;34m'_'\u001b[0m\u001b[0;34m+\u001b[0m\u001b[0mmember\u001b[0m\u001b[0;34m]\u001b[0m\u001b[0;34m)\u001b[0m\u001b[0;34m\u001b[0m\u001b[0;34m\u001b[0m\u001b[0m\n",
      "\u001b[0;32m~/miniconda3/lib/python3.7/site-packages/xarray/core/common.py\u001b[0m in \u001b[0;36mgroupby\u001b[0;34m(self, group, squeeze, restore_coord_dims)\u001b[0m\n\u001b[1;32m    662\u001b[0m         \"\"\"\n\u001b[1;32m    663\u001b[0m         return self._groupby_cls(\n\u001b[0;32m--> 664\u001b[0;31m             \u001b[0mself\u001b[0m\u001b[0;34m,\u001b[0m \u001b[0mgroup\u001b[0m\u001b[0;34m,\u001b[0m \u001b[0msqueeze\u001b[0m\u001b[0;34m=\u001b[0m\u001b[0msqueeze\u001b[0m\u001b[0;34m,\u001b[0m \u001b[0mrestore_coord_dims\u001b[0m\u001b[0;34m=\u001b[0m\u001b[0mrestore_coord_dims\u001b[0m\u001b[0;34m\u001b[0m\u001b[0;34m\u001b[0m\u001b[0m\n\u001b[0m\u001b[1;32m    665\u001b[0m         )\n\u001b[1;32m    666\u001b[0m \u001b[0;34m\u001b[0m\u001b[0m\n",
      "\u001b[0;32m~/miniconda3/lib/python3.7/site-packages/xarray/core/groupby.py\u001b[0m in \u001b[0;36m__init__\u001b[0;34m(self, obj, group, squeeze, grouper, bins, restore_coord_dims, cut_kwargs)\u001b[0m\n\u001b[1;32m    310\u001b[0m                     \u001b[0;34m\"name of an xarray variable or dimension\"\u001b[0m\u001b[0;34m\u001b[0m\u001b[0;34m\u001b[0m\u001b[0m\n\u001b[1;32m    311\u001b[0m                 )\n\u001b[0;32m--> 312\u001b[0;31m             \u001b[0mgroup\u001b[0m \u001b[0;34m=\u001b[0m \u001b[0mobj\u001b[0m\u001b[0;34m[\u001b[0m\u001b[0mgroup\u001b[0m\u001b[0;34m]\u001b[0m\u001b[0;34m\u001b[0m\u001b[0;34m\u001b[0m\u001b[0m\n\u001b[0m\u001b[1;32m    313\u001b[0m             \u001b[0;32mif\u001b[0m \u001b[0mlen\u001b[0m\u001b[0;34m(\u001b[0m\u001b[0mgroup\u001b[0m\u001b[0;34m)\u001b[0m \u001b[0;34m==\u001b[0m \u001b[0;36m0\u001b[0m\u001b[0;34m:\u001b[0m\u001b[0;34m\u001b[0m\u001b[0;34m\u001b[0m\u001b[0m\n\u001b[1;32m    314\u001b[0m                 \u001b[0;32mraise\u001b[0m \u001b[0mValueError\u001b[0m\u001b[0;34m(\u001b[0m\u001b[0;34mf\"{group.name} must not be empty\"\u001b[0m\u001b[0;34m)\u001b[0m\u001b[0;34m\u001b[0m\u001b[0;34m\u001b[0m\u001b[0m\n",
      "\u001b[0;32m~/miniconda3/lib/python3.7/site-packages/xarray/core/dataset.py\u001b[0m in \u001b[0;36m__getitem__\u001b[0;34m(self, key)\u001b[0m\n\u001b[1;32m   1245\u001b[0m \u001b[0;34m\u001b[0m\u001b[0m\n\u001b[1;32m   1246\u001b[0m         \u001b[0;32mif\u001b[0m \u001b[0mhashable\u001b[0m\u001b[0;34m(\u001b[0m\u001b[0mkey\u001b[0m\u001b[0;34m)\u001b[0m\u001b[0;34m:\u001b[0m\u001b[0;34m\u001b[0m\u001b[0;34m\u001b[0m\u001b[0m\n\u001b[0;32m-> 1247\u001b[0;31m             \u001b[0;32mreturn\u001b[0m \u001b[0mself\u001b[0m\u001b[0;34m.\u001b[0m\u001b[0m_construct_dataarray\u001b[0m\u001b[0;34m(\u001b[0m\u001b[0mkey\u001b[0m\u001b[0;34m)\u001b[0m\u001b[0;34m\u001b[0m\u001b[0;34m\u001b[0m\u001b[0m\n\u001b[0m\u001b[1;32m   1248\u001b[0m         \u001b[0;32melse\u001b[0m\u001b[0;34m:\u001b[0m\u001b[0;34m\u001b[0m\u001b[0;34m\u001b[0m\u001b[0m\n\u001b[1;32m   1249\u001b[0m             \u001b[0;32mreturn\u001b[0m \u001b[0mself\u001b[0m\u001b[0;34m.\u001b[0m\u001b[0m_copy_listed\u001b[0m\u001b[0;34m(\u001b[0m\u001b[0mnp\u001b[0m\u001b[0;34m.\u001b[0m\u001b[0masarray\u001b[0m\u001b[0;34m(\u001b[0m\u001b[0mkey\u001b[0m\u001b[0;34m)\u001b[0m\u001b[0;34m)\u001b[0m\u001b[0;34m\u001b[0m\u001b[0;34m\u001b[0m\u001b[0m\n",
      "\u001b[0;32m~/miniconda3/lib/python3.7/site-packages/xarray/core/dataset.py\u001b[0m in \u001b[0;36m_construct_dataarray\u001b[0;34m(self, name)\u001b[0m\n\u001b[1;32m   1158\u001b[0m         \u001b[0;32mexcept\u001b[0m \u001b[0mKeyError\u001b[0m\u001b[0;34m:\u001b[0m\u001b[0;34m\u001b[0m\u001b[0;34m\u001b[0m\u001b[0m\n\u001b[1;32m   1159\u001b[0m             _, name, variable = _get_virtual_variable(\n\u001b[0;32m-> 1160\u001b[0;31m                 \u001b[0mself\u001b[0m\u001b[0;34m.\u001b[0m\u001b[0m_variables\u001b[0m\u001b[0;34m,\u001b[0m \u001b[0mname\u001b[0m\u001b[0;34m,\u001b[0m \u001b[0mself\u001b[0m\u001b[0;34m.\u001b[0m\u001b[0m_level_coords\u001b[0m\u001b[0;34m,\u001b[0m \u001b[0mself\u001b[0m\u001b[0;34m.\u001b[0m\u001b[0mdims\u001b[0m\u001b[0;34m\u001b[0m\u001b[0;34m\u001b[0m\u001b[0m\n\u001b[0m\u001b[1;32m   1161\u001b[0m             )\n\u001b[1;32m   1162\u001b[0m \u001b[0;34m\u001b[0m\u001b[0m\n",
      "\u001b[0;32m~/miniconda3/lib/python3.7/site-packages/xarray/core/dataset.py\u001b[0m in \u001b[0;36m_get_virtual_variable\u001b[0;34m(variables, key, level_vars, dim_sizes)\u001b[0m\n\u001b[1;32m    159\u001b[0m             \u001b[0mdata\u001b[0m \u001b[0;34m=\u001b[0m \u001b[0mgetattr\u001b[0m\u001b[0;34m(\u001b[0m\u001b[0mref_var\u001b[0m\u001b[0;34m.\u001b[0m\u001b[0mdt\u001b[0m\u001b[0;34m,\u001b[0m \u001b[0mvar_name\u001b[0m\u001b[0;34m)\u001b[0m\u001b[0;34m.\u001b[0m\u001b[0mdata\u001b[0m\u001b[0;34m\u001b[0m\u001b[0;34m\u001b[0m\u001b[0m\n\u001b[1;32m    160\u001b[0m         \u001b[0;32melse\u001b[0m\u001b[0;34m:\u001b[0m\u001b[0;34m\u001b[0m\u001b[0;34m\u001b[0m\u001b[0m\n\u001b[0;32m--> 161\u001b[0;31m             \u001b[0mdata\u001b[0m \u001b[0;34m=\u001b[0m \u001b[0mgetattr\u001b[0m\u001b[0;34m(\u001b[0m\u001b[0mref_var\u001b[0m\u001b[0;34m,\u001b[0m \u001b[0mvar_name\u001b[0m\u001b[0;34m)\u001b[0m\u001b[0;34m.\u001b[0m\u001b[0mdata\u001b[0m\u001b[0;34m\u001b[0m\u001b[0;34m\u001b[0m\u001b[0m\n\u001b[0m\u001b[1;32m    162\u001b[0m         \u001b[0mvirtual_var\u001b[0m \u001b[0;34m=\u001b[0m \u001b[0mVariable\u001b[0m\u001b[0;34m(\u001b[0m\u001b[0mref_var\u001b[0m\u001b[0;34m.\u001b[0m\u001b[0mdims\u001b[0m\u001b[0;34m,\u001b[0m \u001b[0mdata\u001b[0m\u001b[0;34m)\u001b[0m\u001b[0;34m\u001b[0m\u001b[0;34m\u001b[0m\u001b[0m\n\u001b[1;32m    163\u001b[0m \u001b[0;34m\u001b[0m\u001b[0m\n",
      "\u001b[0;31mAttributeError\u001b[0m: 'IndexVariable' object has no attribute 'year'"
     ]
    }
   ],
   "source": [
    "# abrupt4x_df_list_esgf = []\n",
    "for x in esgf_abrupt4x_list:\n",
    "    abrupt4x_df_list_esgf += [get_CMIP6_data(x,'abrupt-4xCO2',['tas','rlut','rsut','rsdt'],True)]\n",
    "# P1=multiprocessing.Pool(processes=8)\n",
    "# abrupt4xCO2_df = P1.starmap(get_CMIP6_data,[(x,'abrupt-4xCO2',['tas','rlut','rsut','rsdt'],True) for x in abrupt4x_ism_areacella_exist])\n",
    "# P1.close"
   ]
  },
  {
   "cell_type": "code",
   "execution_count": 62,
   "metadata": {
    "collapsed": true,
    "jupyter": {
     "outputs_hidden": true
    }
   },
   "outputs": [
    {
     "name": "stdout",
     "output_type": "stream",
     "text": [
      "NASA-GISS_GISS-E2-1-G_r1i1p1f2 complete\n",
      "NASA-GISS_GISS-E2-1-G_r1i1p1f3 complete\n"
     ]
    },
    {
     "ename": "RuntimeError",
     "evalue": "NetCDF: Access failure",
     "output_type": "error",
     "traceback": [
      "\u001b[0;31m---------------------------------------------------------------------------\u001b[0m",
      "\u001b[0;31mRuntimeError\u001b[0m                              Traceback (most recent call last)",
      "\u001b[0;32m<ipython-input-62-6060f8759c99>\u001b[0m in \u001b[0;36m<module>\u001b[0;34m\u001b[0m\n\u001b[1;32m      1\u001b[0m \u001b[0mpiControl_df_list_esgf\u001b[0m \u001b[0;34m=\u001b[0m \u001b[0;34m[\u001b[0m\u001b[0;34m]\u001b[0m\u001b[0;34m\u001b[0m\u001b[0;34m\u001b[0m\u001b[0m\n\u001b[1;32m      2\u001b[0m \u001b[0;32mfor\u001b[0m \u001b[0mx\u001b[0m \u001b[0;32min\u001b[0m \u001b[0mpiControl_ism_areacella_exist\u001b[0m\u001b[0;34m:\u001b[0m\u001b[0;34m\u001b[0m\u001b[0;34m\u001b[0m\u001b[0m\n\u001b[0;32m----> 3\u001b[0;31m     \u001b[0mpiControl_df_list_esgf\u001b[0m \u001b[0;34m+=\u001b[0m \u001b[0;34m[\u001b[0m\u001b[0mget_CMIP6_data\u001b[0m\u001b[0;34m(\u001b[0m\u001b[0mx\u001b[0m\u001b[0;34m,\u001b[0m\u001b[0;34m'piControl'\u001b[0m\u001b[0;34m,\u001b[0m\u001b[0;34m'tas'\u001b[0m\u001b[0;34m)\u001b[0m\u001b[0;34m]\u001b[0m\u001b[0;34m\u001b[0m\u001b[0;34m\u001b[0m\u001b[0m\n\u001b[0m\u001b[1;32m      4\u001b[0m \u001b[0;31m# P1=multiprocessing.Pool(processes=8)\u001b[0m\u001b[0;34m\u001b[0m\u001b[0;34m\u001b[0m\u001b[0;34m\u001b[0m\u001b[0m\n\u001b[1;32m      5\u001b[0m \u001b[0;31m# piControl_df = P1.starmap(get_CMIP6_data,[(x,'piControl','tas',False) for x in piControl_ism_areacella_exist])\u001b[0m\u001b[0;34m\u001b[0m\u001b[0;34m\u001b[0m\u001b[0;34m\u001b[0m\u001b[0m\n",
      "\u001b[0;32m<ipython-input-61-124a3bbeb4e4>\u001b[0m in \u001b[0;36mget_CMIP6_data\u001b[0;34m(ism, exp, var, multivar)\u001b[0m\n\u001b[1;32m      4\u001b[0m         \u001b[0m_out\u001b[0m \u001b[0;34m=\u001b[0m \u001b[0mget_annual_CMIP6_data_esgf_multivar\u001b[0m\u001b[0;34m(\u001b[0m\u001b[0;34m'CMIP'\u001b[0m\u001b[0;34m,\u001b[0m \u001b[0;34m'Amon'\u001b[0m\u001b[0;34m,\u001b[0m \u001b[0mvar\u001b[0m\u001b[0;34m,\u001b[0m \u001b[0mexp\u001b[0m\u001b[0;34m,\u001b[0m \u001b[0mism_split\u001b[0m\u001b[0;34m[\u001b[0m\u001b[0;36m0\u001b[0m\u001b[0;34m]\u001b[0m\u001b[0;34m,\u001b[0m \u001b[0mism_split\u001b[0m\u001b[0;34m[\u001b[0m\u001b[0;36m1\u001b[0m\u001b[0;34m]\u001b[0m\u001b[0;34m,\u001b[0m \u001b[0mism_split\u001b[0m\u001b[0;34m[\u001b[0m\u001b[0;36m2\u001b[0m\u001b[0;34m]\u001b[0m\u001b[0;34m)\u001b[0m\u001b[0;34m\u001b[0m\u001b[0;34m\u001b[0m\u001b[0m\n\u001b[1;32m      5\u001b[0m     \u001b[0;32melse\u001b[0m\u001b[0;34m:\u001b[0m\u001b[0;34m\u001b[0m\u001b[0;34m\u001b[0m\u001b[0m\n\u001b[0;32m----> 6\u001b[0;31m         \u001b[0m_out\u001b[0m \u001b[0;34m=\u001b[0m \u001b[0mget_annual_CMIP6_data_esgf\u001b[0m\u001b[0;34m(\u001b[0m\u001b[0;34m'CMIP'\u001b[0m\u001b[0;34m,\u001b[0m \u001b[0;34m'Amon'\u001b[0m\u001b[0;34m,\u001b[0m \u001b[0mvar\u001b[0m\u001b[0;34m,\u001b[0m \u001b[0mexp\u001b[0m\u001b[0;34m,\u001b[0m \u001b[0mism_split\u001b[0m\u001b[0;34m[\u001b[0m\u001b[0;36m0\u001b[0m\u001b[0;34m]\u001b[0m\u001b[0;34m,\u001b[0m \u001b[0mism_split\u001b[0m\u001b[0;34m[\u001b[0m\u001b[0;36m1\u001b[0m\u001b[0;34m]\u001b[0m\u001b[0;34m,\u001b[0m \u001b[0mism_split\u001b[0m\u001b[0;34m[\u001b[0m\u001b[0;36m2\u001b[0m\u001b[0;34m]\u001b[0m\u001b[0;34m)\u001b[0m\u001b[0;34m\u001b[0m\u001b[0;34m\u001b[0m\u001b[0m\n\u001b[0m\u001b[1;32m      7\u001b[0m     \u001b[0mprint\u001b[0m\u001b[0;34m(\u001b[0m\u001b[0mism\u001b[0m\u001b[0;34m+\u001b[0m\u001b[0;34m' complete'\u001b[0m\u001b[0;34m)\u001b[0m\u001b[0;34m\u001b[0m\u001b[0;34m\u001b[0m\u001b[0m\n\u001b[1;32m      8\u001b[0m     \u001b[0;32mreturn\u001b[0m \u001b[0m_out\u001b[0m\u001b[0;34m\u001b[0m\u001b[0;34m\u001b[0m\u001b[0m\n",
      "\u001b[0;32m<ipython-input-57-b7baada210a5>\u001b[0m in \u001b[0;36mget_annual_CMIP6_data_esgf\u001b[0;34m(activity, table, variable, experiment, institution, source, member)\u001b[0m\n\u001b[1;32m     40\u001b[0m     \u001b[0mta_timeseries\u001b[0m \u001b[0;34m=\u001b[0m \u001b[0;34m(\u001b[0m\u001b[0mds\u001b[0m\u001b[0;34m[\u001b[0m\u001b[0mvariable\u001b[0m\u001b[0;34m]\u001b[0m \u001b[0;34m*\u001b[0m \u001b[0mds_area\u001b[0m\u001b[0;34m.\u001b[0m\u001b[0mareacella\u001b[0m\u001b[0;34m)\u001b[0m\u001b[0;34m.\u001b[0m\u001b[0msum\u001b[0m\u001b[0;34m(\u001b[0m\u001b[0mdim\u001b[0m\u001b[0;34m=\u001b[0m\u001b[0mdims\u001b[0m\u001b[0;34m)\u001b[0m \u001b[0;34m/\u001b[0m \u001b[0mtotal_area\u001b[0m\u001b[0;34m\u001b[0m\u001b[0;34m\u001b[0m\u001b[0m\n\u001b[1;32m     41\u001b[0m \u001b[0;34m\u001b[0m\u001b[0m\n\u001b[0;32m---> 42\u001b[0;31m     \u001b[0;32mreturn\u001b[0m \u001b[0mta_timeseries\u001b[0m\u001b[0;34m.\u001b[0m\u001b[0mgroupby\u001b[0m\u001b[0;34m(\u001b[0m\u001b[0;34m'time.year'\u001b[0m\u001b[0;34m)\u001b[0m\u001b[0;34m.\u001b[0m\u001b[0mmean\u001b[0m\u001b[0;34m(\u001b[0m\u001b[0;34m'time'\u001b[0m\u001b[0;34m)\u001b[0m\u001b[0;34m.\u001b[0m\u001b[0mto_pandas\u001b[0m\u001b[0;34m(\u001b[0m\u001b[0;34m)\u001b[0m\u001b[0;34m.\u001b[0m\u001b[0mrename\u001b[0m\u001b[0;34m(\u001b[0m\u001b[0minstitution\u001b[0m\u001b[0;34m+\u001b[0m\u001b[0;34m'_'\u001b[0m\u001b[0;34m+\u001b[0m\u001b[0msource\u001b[0m\u001b[0;34m+\u001b[0m\u001b[0;34m'_'\u001b[0m\u001b[0;34m+\u001b[0m\u001b[0mmember\u001b[0m\u001b[0;34m)\u001b[0m\u001b[0;34m\u001b[0m\u001b[0;34m\u001b[0m\u001b[0m\n\u001b[0m",
      "\u001b[0;32m~/miniconda3/lib/python3.7/site-packages/xarray/core/dataarray.py\u001b[0m in \u001b[0;36mto_pandas\u001b[0;34m(self)\u001b[0m\n\u001b[1;32m   2248\u001b[0m             )\n\u001b[1;32m   2249\u001b[0m         \u001b[0mindexes\u001b[0m \u001b[0;34m=\u001b[0m \u001b[0;34m[\u001b[0m\u001b[0mself\u001b[0m\u001b[0;34m.\u001b[0m\u001b[0mget_index\u001b[0m\u001b[0;34m(\u001b[0m\u001b[0mdim\u001b[0m\u001b[0;34m)\u001b[0m \u001b[0;32mfor\u001b[0m \u001b[0mdim\u001b[0m \u001b[0;32min\u001b[0m \u001b[0mself\u001b[0m\u001b[0;34m.\u001b[0m\u001b[0mdims\u001b[0m\u001b[0;34m]\u001b[0m\u001b[0;34m\u001b[0m\u001b[0;34m\u001b[0m\u001b[0m\n\u001b[0;32m-> 2250\u001b[0;31m         \u001b[0;32mreturn\u001b[0m \u001b[0mconstructor\u001b[0m\u001b[0;34m(\u001b[0m\u001b[0mself\u001b[0m\u001b[0;34m.\u001b[0m\u001b[0mvalues\u001b[0m\u001b[0;34m,\u001b[0m \u001b[0;34m*\u001b[0m\u001b[0mindexes\u001b[0m\u001b[0;34m)\u001b[0m\u001b[0;34m\u001b[0m\u001b[0;34m\u001b[0m\u001b[0m\n\u001b[0m\u001b[1;32m   2251\u001b[0m \u001b[0;34m\u001b[0m\u001b[0m\n\u001b[1;32m   2252\u001b[0m     \u001b[0;32mdef\u001b[0m \u001b[0mto_dataframe\u001b[0m\u001b[0;34m(\u001b[0m\u001b[0mself\u001b[0m\u001b[0;34m,\u001b[0m \u001b[0mname\u001b[0m\u001b[0;34m:\u001b[0m \u001b[0mHashable\u001b[0m \u001b[0;34m=\u001b[0m \u001b[0;32mNone\u001b[0m\u001b[0;34m)\u001b[0m \u001b[0;34m->\u001b[0m \u001b[0mpd\u001b[0m\u001b[0;34m.\u001b[0m\u001b[0mDataFrame\u001b[0m\u001b[0;34m:\u001b[0m\u001b[0;34m\u001b[0m\u001b[0;34m\u001b[0m\u001b[0m\n",
      "\u001b[0;32m~/miniconda3/lib/python3.7/site-packages/xarray/core/dataarray.py\u001b[0m in \u001b[0;36mvalues\u001b[0;34m(self)\u001b[0m\n\u001b[1;32m    565\u001b[0m     \u001b[0;32mdef\u001b[0m \u001b[0mvalues\u001b[0m\u001b[0;34m(\u001b[0m\u001b[0mself\u001b[0m\u001b[0;34m)\u001b[0m \u001b[0;34m->\u001b[0m \u001b[0mnp\u001b[0m\u001b[0;34m.\u001b[0m\u001b[0mndarray\u001b[0m\u001b[0;34m:\u001b[0m\u001b[0;34m\u001b[0m\u001b[0;34m\u001b[0m\u001b[0m\n\u001b[1;32m    566\u001b[0m         \u001b[0;34m\"\"\"The array's data as a numpy.ndarray\"\"\"\u001b[0m\u001b[0;34m\u001b[0m\u001b[0;34m\u001b[0m\u001b[0m\n\u001b[0;32m--> 567\u001b[0;31m         \u001b[0;32mreturn\u001b[0m \u001b[0mself\u001b[0m\u001b[0;34m.\u001b[0m\u001b[0mvariable\u001b[0m\u001b[0;34m.\u001b[0m\u001b[0mvalues\u001b[0m\u001b[0;34m\u001b[0m\u001b[0;34m\u001b[0m\u001b[0m\n\u001b[0m\u001b[1;32m    568\u001b[0m \u001b[0;34m\u001b[0m\u001b[0m\n\u001b[1;32m    569\u001b[0m     \u001b[0;34m@\u001b[0m\u001b[0mvalues\u001b[0m\u001b[0;34m.\u001b[0m\u001b[0msetter\u001b[0m\u001b[0;34m\u001b[0m\u001b[0;34m\u001b[0m\u001b[0m\n",
      "\u001b[0;32m~/miniconda3/lib/python3.7/site-packages/xarray/core/variable.py\u001b[0m in \u001b[0;36mvalues\u001b[0;34m(self)\u001b[0m\n\u001b[1;32m    446\u001b[0m     \u001b[0;32mdef\u001b[0m \u001b[0mvalues\u001b[0m\u001b[0;34m(\u001b[0m\u001b[0mself\u001b[0m\u001b[0;34m)\u001b[0m\u001b[0;34m:\u001b[0m\u001b[0;34m\u001b[0m\u001b[0;34m\u001b[0m\u001b[0m\n\u001b[1;32m    447\u001b[0m         \u001b[0;34m\"\"\"The variable's data as a numpy.ndarray\"\"\"\u001b[0m\u001b[0;34m\u001b[0m\u001b[0;34m\u001b[0m\u001b[0m\n\u001b[0;32m--> 448\u001b[0;31m         \u001b[0;32mreturn\u001b[0m \u001b[0m_as_array_or_item\u001b[0m\u001b[0;34m(\u001b[0m\u001b[0mself\u001b[0m\u001b[0;34m.\u001b[0m\u001b[0m_data\u001b[0m\u001b[0;34m)\u001b[0m\u001b[0;34m\u001b[0m\u001b[0;34m\u001b[0m\u001b[0m\n\u001b[0m\u001b[1;32m    449\u001b[0m \u001b[0;34m\u001b[0m\u001b[0m\n\u001b[1;32m    450\u001b[0m     \u001b[0;34m@\u001b[0m\u001b[0mvalues\u001b[0m\u001b[0;34m.\u001b[0m\u001b[0msetter\u001b[0m\u001b[0;34m\u001b[0m\u001b[0;34m\u001b[0m\u001b[0m\n",
      "\u001b[0;32m~/miniconda3/lib/python3.7/site-packages/xarray/core/variable.py\u001b[0m in \u001b[0;36m_as_array_or_item\u001b[0;34m(data)\u001b[0m\n\u001b[1;32m    252\u001b[0m     \u001b[0mTODO\u001b[0m\u001b[0;34m:\u001b[0m \u001b[0mremove\u001b[0m \u001b[0mthis\u001b[0m \u001b[0;34m(\u001b[0m\u001b[0mreplace\u001b[0m \u001b[0;32mwith\u001b[0m \u001b[0mnp\u001b[0m\u001b[0;34m.\u001b[0m\u001b[0masarray\u001b[0m\u001b[0;34m)\u001b[0m \u001b[0monce\u001b[0m \u001b[0mthese\u001b[0m \u001b[0missues\u001b[0m \u001b[0mare\u001b[0m \u001b[0mfixed\u001b[0m\u001b[0;34m\u001b[0m\u001b[0;34m\u001b[0m\u001b[0m\n\u001b[1;32m    253\u001b[0m     \"\"\"\n\u001b[0;32m--> 254\u001b[0;31m     \u001b[0mdata\u001b[0m \u001b[0;34m=\u001b[0m \u001b[0mnp\u001b[0m\u001b[0;34m.\u001b[0m\u001b[0masarray\u001b[0m\u001b[0;34m(\u001b[0m\u001b[0mdata\u001b[0m\u001b[0;34m)\u001b[0m\u001b[0;34m\u001b[0m\u001b[0;34m\u001b[0m\u001b[0m\n\u001b[0m\u001b[1;32m    255\u001b[0m     \u001b[0;32mif\u001b[0m \u001b[0mdata\u001b[0m\u001b[0;34m.\u001b[0m\u001b[0mndim\u001b[0m \u001b[0;34m==\u001b[0m \u001b[0;36m0\u001b[0m\u001b[0;34m:\u001b[0m\u001b[0;34m\u001b[0m\u001b[0;34m\u001b[0m\u001b[0m\n\u001b[1;32m    256\u001b[0m         \u001b[0;32mif\u001b[0m \u001b[0mdata\u001b[0m\u001b[0;34m.\u001b[0m\u001b[0mdtype\u001b[0m\u001b[0;34m.\u001b[0m\u001b[0mkind\u001b[0m \u001b[0;34m==\u001b[0m \u001b[0;34m\"M\"\u001b[0m\u001b[0;34m:\u001b[0m\u001b[0;34m\u001b[0m\u001b[0;34m\u001b[0m\u001b[0m\n",
      "\u001b[0;32m~/miniconda3/lib/python3.7/site-packages/numpy/core/_asarray.py\u001b[0m in \u001b[0;36masarray\u001b[0;34m(a, dtype, order)\u001b[0m\n\u001b[1;32m     83\u001b[0m \u001b[0;34m\u001b[0m\u001b[0m\n\u001b[1;32m     84\u001b[0m     \"\"\"\n\u001b[0;32m---> 85\u001b[0;31m     \u001b[0;32mreturn\u001b[0m \u001b[0marray\u001b[0m\u001b[0;34m(\u001b[0m\u001b[0ma\u001b[0m\u001b[0;34m,\u001b[0m \u001b[0mdtype\u001b[0m\u001b[0;34m,\u001b[0m \u001b[0mcopy\u001b[0m\u001b[0;34m=\u001b[0m\u001b[0;32mFalse\u001b[0m\u001b[0;34m,\u001b[0m \u001b[0morder\u001b[0m\u001b[0;34m=\u001b[0m\u001b[0morder\u001b[0m\u001b[0;34m)\u001b[0m\u001b[0;34m\u001b[0m\u001b[0;34m\u001b[0m\u001b[0m\n\u001b[0m\u001b[1;32m     86\u001b[0m \u001b[0;34m\u001b[0m\u001b[0m\n\u001b[1;32m     87\u001b[0m \u001b[0;34m\u001b[0m\u001b[0m\n",
      "\u001b[0;32m~/miniconda3/lib/python3.7/site-packages/dask/array/core.py\u001b[0m in \u001b[0;36m__array__\u001b[0;34m(self, dtype, **kwargs)\u001b[0m\n\u001b[1;32m   1312\u001b[0m \u001b[0;34m\u001b[0m\u001b[0m\n\u001b[1;32m   1313\u001b[0m     \u001b[0;32mdef\u001b[0m \u001b[0m__array__\u001b[0m\u001b[0;34m(\u001b[0m\u001b[0mself\u001b[0m\u001b[0;34m,\u001b[0m \u001b[0mdtype\u001b[0m\u001b[0;34m=\u001b[0m\u001b[0;32mNone\u001b[0m\u001b[0;34m,\u001b[0m \u001b[0;34m**\u001b[0m\u001b[0mkwargs\u001b[0m\u001b[0;34m)\u001b[0m\u001b[0;34m:\u001b[0m\u001b[0;34m\u001b[0m\u001b[0;34m\u001b[0m\u001b[0m\n\u001b[0;32m-> 1314\u001b[0;31m         \u001b[0mx\u001b[0m \u001b[0;34m=\u001b[0m \u001b[0mself\u001b[0m\u001b[0;34m.\u001b[0m\u001b[0mcompute\u001b[0m\u001b[0;34m(\u001b[0m\u001b[0;34m)\u001b[0m\u001b[0;34m\u001b[0m\u001b[0;34m\u001b[0m\u001b[0m\n\u001b[0m\u001b[1;32m   1315\u001b[0m         \u001b[0;32mif\u001b[0m \u001b[0mdtype\u001b[0m \u001b[0;32mand\u001b[0m \u001b[0mx\u001b[0m\u001b[0;34m.\u001b[0m\u001b[0mdtype\u001b[0m \u001b[0;34m!=\u001b[0m \u001b[0mdtype\u001b[0m\u001b[0;34m:\u001b[0m\u001b[0;34m\u001b[0m\u001b[0;34m\u001b[0m\u001b[0m\n\u001b[1;32m   1316\u001b[0m             \u001b[0mx\u001b[0m \u001b[0;34m=\u001b[0m \u001b[0mx\u001b[0m\u001b[0;34m.\u001b[0m\u001b[0mastype\u001b[0m\u001b[0;34m(\u001b[0m\u001b[0mdtype\u001b[0m\u001b[0;34m)\u001b[0m\u001b[0;34m\u001b[0m\u001b[0;34m\u001b[0m\u001b[0m\n",
      "\u001b[0;32m~/miniconda3/lib/python3.7/site-packages/dask/base.py\u001b[0m in \u001b[0;36mcompute\u001b[0;34m(self, **kwargs)\u001b[0m\n\u001b[1;32m    163\u001b[0m         \u001b[0mdask\u001b[0m\u001b[0;34m.\u001b[0m\u001b[0mbase\u001b[0m\u001b[0;34m.\u001b[0m\u001b[0mcompute\u001b[0m\u001b[0;34m\u001b[0m\u001b[0;34m\u001b[0m\u001b[0m\n\u001b[1;32m    164\u001b[0m         \"\"\"\n\u001b[0;32m--> 165\u001b[0;31m         \u001b[0;34m(\u001b[0m\u001b[0mresult\u001b[0m\u001b[0;34m,\u001b[0m\u001b[0;34m)\u001b[0m \u001b[0;34m=\u001b[0m \u001b[0mcompute\u001b[0m\u001b[0;34m(\u001b[0m\u001b[0mself\u001b[0m\u001b[0;34m,\u001b[0m \u001b[0mtraverse\u001b[0m\u001b[0;34m=\u001b[0m\u001b[0;32mFalse\u001b[0m\u001b[0;34m,\u001b[0m \u001b[0;34m**\u001b[0m\u001b[0mkwargs\u001b[0m\u001b[0;34m)\u001b[0m\u001b[0;34m\u001b[0m\u001b[0;34m\u001b[0m\u001b[0m\n\u001b[0m\u001b[1;32m    166\u001b[0m         \u001b[0;32mreturn\u001b[0m \u001b[0mresult\u001b[0m\u001b[0;34m\u001b[0m\u001b[0;34m\u001b[0m\u001b[0m\n\u001b[1;32m    167\u001b[0m \u001b[0;34m\u001b[0m\u001b[0m\n",
      "\u001b[0;32m~/miniconda3/lib/python3.7/site-packages/dask/base.py\u001b[0m in \u001b[0;36mcompute\u001b[0;34m(*args, **kwargs)\u001b[0m\n\u001b[1;32m    434\u001b[0m     \u001b[0mkeys\u001b[0m \u001b[0;34m=\u001b[0m \u001b[0;34m[\u001b[0m\u001b[0mx\u001b[0m\u001b[0;34m.\u001b[0m\u001b[0m__dask_keys__\u001b[0m\u001b[0;34m(\u001b[0m\u001b[0;34m)\u001b[0m \u001b[0;32mfor\u001b[0m \u001b[0mx\u001b[0m \u001b[0;32min\u001b[0m \u001b[0mcollections\u001b[0m\u001b[0;34m]\u001b[0m\u001b[0;34m\u001b[0m\u001b[0;34m\u001b[0m\u001b[0m\n\u001b[1;32m    435\u001b[0m     \u001b[0mpostcomputes\u001b[0m \u001b[0;34m=\u001b[0m \u001b[0;34m[\u001b[0m\u001b[0mx\u001b[0m\u001b[0;34m.\u001b[0m\u001b[0m__dask_postcompute__\u001b[0m\u001b[0;34m(\u001b[0m\u001b[0;34m)\u001b[0m \u001b[0;32mfor\u001b[0m \u001b[0mx\u001b[0m \u001b[0;32min\u001b[0m \u001b[0mcollections\u001b[0m\u001b[0;34m]\u001b[0m\u001b[0;34m\u001b[0m\u001b[0;34m\u001b[0m\u001b[0m\n\u001b[0;32m--> 436\u001b[0;31m     \u001b[0mresults\u001b[0m \u001b[0;34m=\u001b[0m \u001b[0mschedule\u001b[0m\u001b[0;34m(\u001b[0m\u001b[0mdsk\u001b[0m\u001b[0;34m,\u001b[0m \u001b[0mkeys\u001b[0m\u001b[0;34m,\u001b[0m \u001b[0;34m**\u001b[0m\u001b[0mkwargs\u001b[0m\u001b[0;34m)\u001b[0m\u001b[0;34m\u001b[0m\u001b[0;34m\u001b[0m\u001b[0m\n\u001b[0m\u001b[1;32m    437\u001b[0m     \u001b[0;32mreturn\u001b[0m \u001b[0mrepack\u001b[0m\u001b[0;34m(\u001b[0m\u001b[0;34m[\u001b[0m\u001b[0mf\u001b[0m\u001b[0;34m(\u001b[0m\u001b[0mr\u001b[0m\u001b[0;34m,\u001b[0m \u001b[0;34m*\u001b[0m\u001b[0ma\u001b[0m\u001b[0;34m)\u001b[0m \u001b[0;32mfor\u001b[0m \u001b[0mr\u001b[0m\u001b[0;34m,\u001b[0m \u001b[0;34m(\u001b[0m\u001b[0mf\u001b[0m\u001b[0;34m,\u001b[0m \u001b[0ma\u001b[0m\u001b[0;34m)\u001b[0m \u001b[0;32min\u001b[0m \u001b[0mzip\u001b[0m\u001b[0;34m(\u001b[0m\u001b[0mresults\u001b[0m\u001b[0;34m,\u001b[0m \u001b[0mpostcomputes\u001b[0m\u001b[0;34m)\u001b[0m\u001b[0;34m]\u001b[0m\u001b[0;34m)\u001b[0m\u001b[0;34m\u001b[0m\u001b[0;34m\u001b[0m\u001b[0m\n\u001b[1;32m    438\u001b[0m \u001b[0;34m\u001b[0m\u001b[0m\n",
      "\u001b[0;32m~/miniconda3/lib/python3.7/site-packages/dask/threaded.py\u001b[0m in \u001b[0;36mget\u001b[0;34m(dsk, result, cache, num_workers, pool, **kwargs)\u001b[0m\n\u001b[1;32m     79\u001b[0m         \u001b[0mget_id\u001b[0m\u001b[0;34m=\u001b[0m\u001b[0m_thread_get_id\u001b[0m\u001b[0;34m,\u001b[0m\u001b[0;34m\u001b[0m\u001b[0;34m\u001b[0m\u001b[0m\n\u001b[1;32m     80\u001b[0m         \u001b[0mpack_exception\u001b[0m\u001b[0;34m=\u001b[0m\u001b[0mpack_exception\u001b[0m\u001b[0;34m,\u001b[0m\u001b[0;34m\u001b[0m\u001b[0;34m\u001b[0m\u001b[0m\n\u001b[0;32m---> 81\u001b[0;31m         \u001b[0;34m**\u001b[0m\u001b[0mkwargs\u001b[0m\u001b[0;34m\u001b[0m\u001b[0;34m\u001b[0m\u001b[0m\n\u001b[0m\u001b[1;32m     82\u001b[0m     )\n\u001b[1;32m     83\u001b[0m \u001b[0;34m\u001b[0m\u001b[0m\n",
      "\u001b[0;32m~/miniconda3/lib/python3.7/site-packages/dask/local.py\u001b[0m in \u001b[0;36mget_async\u001b[0;34m(apply_async, num_workers, dsk, result, cache, get_id, rerun_exceptions_locally, pack_exception, raise_exception, callbacks, dumps, loads, **kwargs)\u001b[0m\n\u001b[1;32m    484\u001b[0m                         \u001b[0m_execute_task\u001b[0m\u001b[0;34m(\u001b[0m\u001b[0mtask\u001b[0m\u001b[0;34m,\u001b[0m \u001b[0mdata\u001b[0m\u001b[0;34m)\u001b[0m  \u001b[0;31m# Re-execute locally\u001b[0m\u001b[0;34m\u001b[0m\u001b[0;34m\u001b[0m\u001b[0m\n\u001b[1;32m    485\u001b[0m                     \u001b[0;32melse\u001b[0m\u001b[0;34m:\u001b[0m\u001b[0;34m\u001b[0m\u001b[0;34m\u001b[0m\u001b[0m\n\u001b[0;32m--> 486\u001b[0;31m                         \u001b[0mraise_exception\u001b[0m\u001b[0;34m(\u001b[0m\u001b[0mexc\u001b[0m\u001b[0;34m,\u001b[0m \u001b[0mtb\u001b[0m\u001b[0;34m)\u001b[0m\u001b[0;34m\u001b[0m\u001b[0;34m\u001b[0m\u001b[0m\n\u001b[0m\u001b[1;32m    487\u001b[0m                 \u001b[0mres\u001b[0m\u001b[0;34m,\u001b[0m \u001b[0mworker_id\u001b[0m \u001b[0;34m=\u001b[0m \u001b[0mloads\u001b[0m\u001b[0;34m(\u001b[0m\u001b[0mres_info\u001b[0m\u001b[0;34m)\u001b[0m\u001b[0;34m\u001b[0m\u001b[0;34m\u001b[0m\u001b[0m\n\u001b[1;32m    488\u001b[0m                 \u001b[0mstate\u001b[0m\u001b[0;34m[\u001b[0m\u001b[0;34m\"cache\"\u001b[0m\u001b[0;34m]\u001b[0m\u001b[0;34m[\u001b[0m\u001b[0mkey\u001b[0m\u001b[0;34m]\u001b[0m \u001b[0;34m=\u001b[0m \u001b[0mres\u001b[0m\u001b[0;34m\u001b[0m\u001b[0;34m\u001b[0m\u001b[0m\n",
      "\u001b[0;32m~/miniconda3/lib/python3.7/site-packages/dask/local.py\u001b[0m in \u001b[0;36mreraise\u001b[0;34m(exc, tb)\u001b[0m\n\u001b[1;32m    314\u001b[0m     \u001b[0;32mif\u001b[0m \u001b[0mexc\u001b[0m\u001b[0;34m.\u001b[0m\u001b[0m__traceback__\u001b[0m \u001b[0;32mis\u001b[0m \u001b[0;32mnot\u001b[0m \u001b[0mtb\u001b[0m\u001b[0;34m:\u001b[0m\u001b[0;34m\u001b[0m\u001b[0;34m\u001b[0m\u001b[0m\n\u001b[1;32m    315\u001b[0m         \u001b[0;32mraise\u001b[0m \u001b[0mexc\u001b[0m\u001b[0;34m.\u001b[0m\u001b[0mwith_traceback\u001b[0m\u001b[0;34m(\u001b[0m\u001b[0mtb\u001b[0m\u001b[0;34m)\u001b[0m\u001b[0;34m\u001b[0m\u001b[0;34m\u001b[0m\u001b[0m\n\u001b[0;32m--> 316\u001b[0;31m     \u001b[0;32mraise\u001b[0m \u001b[0mexc\u001b[0m\u001b[0;34m\u001b[0m\u001b[0;34m\u001b[0m\u001b[0m\n\u001b[0m\u001b[1;32m    317\u001b[0m \u001b[0;34m\u001b[0m\u001b[0m\n\u001b[1;32m    318\u001b[0m \u001b[0;34m\u001b[0m\u001b[0m\n",
      "\u001b[0;32m~/miniconda3/lib/python3.7/site-packages/dask/local.py\u001b[0m in \u001b[0;36mexecute_task\u001b[0;34m(key, task_info, dumps, loads, get_id, pack_exception)\u001b[0m\n\u001b[1;32m    220\u001b[0m     \u001b[0;32mtry\u001b[0m\u001b[0;34m:\u001b[0m\u001b[0;34m\u001b[0m\u001b[0;34m\u001b[0m\u001b[0m\n\u001b[1;32m    221\u001b[0m         \u001b[0mtask\u001b[0m\u001b[0;34m,\u001b[0m \u001b[0mdata\u001b[0m \u001b[0;34m=\u001b[0m \u001b[0mloads\u001b[0m\u001b[0;34m(\u001b[0m\u001b[0mtask_info\u001b[0m\u001b[0;34m)\u001b[0m\u001b[0;34m\u001b[0m\u001b[0;34m\u001b[0m\u001b[0m\n\u001b[0;32m--> 222\u001b[0;31m         \u001b[0mresult\u001b[0m \u001b[0;34m=\u001b[0m \u001b[0m_execute_task\u001b[0m\u001b[0;34m(\u001b[0m\u001b[0mtask\u001b[0m\u001b[0;34m,\u001b[0m \u001b[0mdata\u001b[0m\u001b[0;34m)\u001b[0m\u001b[0;34m\u001b[0m\u001b[0;34m\u001b[0m\u001b[0m\n\u001b[0m\u001b[1;32m    223\u001b[0m         \u001b[0mid\u001b[0m \u001b[0;34m=\u001b[0m \u001b[0mget_id\u001b[0m\u001b[0;34m(\u001b[0m\u001b[0;34m)\u001b[0m\u001b[0;34m\u001b[0m\u001b[0;34m\u001b[0m\u001b[0m\n\u001b[1;32m    224\u001b[0m         \u001b[0mresult\u001b[0m \u001b[0;34m=\u001b[0m \u001b[0mdumps\u001b[0m\u001b[0;34m(\u001b[0m\u001b[0;34m(\u001b[0m\u001b[0mresult\u001b[0m\u001b[0;34m,\u001b[0m \u001b[0mid\u001b[0m\u001b[0;34m)\u001b[0m\u001b[0;34m)\u001b[0m\u001b[0;34m\u001b[0m\u001b[0;34m\u001b[0m\u001b[0m\n",
      "\u001b[0;32m~/miniconda3/lib/python3.7/site-packages/dask/core.py\u001b[0m in \u001b[0;36m_execute_task\u001b[0;34m(arg, cache, dsk)\u001b[0m\n\u001b[1;32m    116\u001b[0m     \u001b[0;32melif\u001b[0m \u001b[0mistask\u001b[0m\u001b[0;34m(\u001b[0m\u001b[0marg\u001b[0m\u001b[0;34m)\u001b[0m\u001b[0;34m:\u001b[0m\u001b[0;34m\u001b[0m\u001b[0;34m\u001b[0m\u001b[0m\n\u001b[1;32m    117\u001b[0m         \u001b[0mfunc\u001b[0m\u001b[0;34m,\u001b[0m \u001b[0margs\u001b[0m \u001b[0;34m=\u001b[0m \u001b[0marg\u001b[0m\u001b[0;34m[\u001b[0m\u001b[0;36m0\u001b[0m\u001b[0;34m]\u001b[0m\u001b[0;34m,\u001b[0m \u001b[0marg\u001b[0m\u001b[0;34m[\u001b[0m\u001b[0;36m1\u001b[0m\u001b[0;34m:\u001b[0m\u001b[0;34m]\u001b[0m\u001b[0;34m\u001b[0m\u001b[0;34m\u001b[0m\u001b[0m\n\u001b[0;32m--> 118\u001b[0;31m         \u001b[0margs2\u001b[0m \u001b[0;34m=\u001b[0m \u001b[0;34m[\u001b[0m\u001b[0m_execute_task\u001b[0m\u001b[0;34m(\u001b[0m\u001b[0ma\u001b[0m\u001b[0;34m,\u001b[0m \u001b[0mcache\u001b[0m\u001b[0;34m)\u001b[0m \u001b[0;32mfor\u001b[0m \u001b[0ma\u001b[0m \u001b[0;32min\u001b[0m \u001b[0margs\u001b[0m\u001b[0;34m]\u001b[0m\u001b[0;34m\u001b[0m\u001b[0;34m\u001b[0m\u001b[0m\n\u001b[0m\u001b[1;32m    119\u001b[0m         \u001b[0;32mreturn\u001b[0m \u001b[0mfunc\u001b[0m\u001b[0;34m(\u001b[0m\u001b[0;34m*\u001b[0m\u001b[0margs2\u001b[0m\u001b[0;34m)\u001b[0m\u001b[0;34m\u001b[0m\u001b[0;34m\u001b[0m\u001b[0m\n\u001b[1;32m    120\u001b[0m     \u001b[0;32melif\u001b[0m \u001b[0;32mnot\u001b[0m \u001b[0mishashable\u001b[0m\u001b[0;34m(\u001b[0m\u001b[0marg\u001b[0m\u001b[0;34m)\u001b[0m\u001b[0;34m:\u001b[0m\u001b[0;34m\u001b[0m\u001b[0;34m\u001b[0m\u001b[0m\n",
      "\u001b[0;32m~/miniconda3/lib/python3.7/site-packages/dask/core.py\u001b[0m in \u001b[0;36m<listcomp>\u001b[0;34m(.0)\u001b[0m\n\u001b[1;32m    116\u001b[0m     \u001b[0;32melif\u001b[0m \u001b[0mistask\u001b[0m\u001b[0;34m(\u001b[0m\u001b[0marg\u001b[0m\u001b[0;34m)\u001b[0m\u001b[0;34m:\u001b[0m\u001b[0;34m\u001b[0m\u001b[0;34m\u001b[0m\u001b[0m\n\u001b[1;32m    117\u001b[0m         \u001b[0mfunc\u001b[0m\u001b[0;34m,\u001b[0m \u001b[0margs\u001b[0m \u001b[0;34m=\u001b[0m \u001b[0marg\u001b[0m\u001b[0;34m[\u001b[0m\u001b[0;36m0\u001b[0m\u001b[0;34m]\u001b[0m\u001b[0;34m,\u001b[0m \u001b[0marg\u001b[0m\u001b[0;34m[\u001b[0m\u001b[0;36m1\u001b[0m\u001b[0;34m:\u001b[0m\u001b[0;34m]\u001b[0m\u001b[0;34m\u001b[0m\u001b[0;34m\u001b[0m\u001b[0m\n\u001b[0;32m--> 118\u001b[0;31m         \u001b[0margs2\u001b[0m \u001b[0;34m=\u001b[0m \u001b[0;34m[\u001b[0m\u001b[0m_execute_task\u001b[0m\u001b[0;34m(\u001b[0m\u001b[0ma\u001b[0m\u001b[0;34m,\u001b[0m \u001b[0mcache\u001b[0m\u001b[0;34m)\u001b[0m \u001b[0;32mfor\u001b[0m \u001b[0ma\u001b[0m \u001b[0;32min\u001b[0m \u001b[0margs\u001b[0m\u001b[0;34m]\u001b[0m\u001b[0;34m\u001b[0m\u001b[0;34m\u001b[0m\u001b[0m\n\u001b[0m\u001b[1;32m    119\u001b[0m         \u001b[0;32mreturn\u001b[0m \u001b[0mfunc\u001b[0m\u001b[0;34m(\u001b[0m\u001b[0;34m*\u001b[0m\u001b[0margs2\u001b[0m\u001b[0;34m)\u001b[0m\u001b[0;34m\u001b[0m\u001b[0;34m\u001b[0m\u001b[0m\n\u001b[1;32m    120\u001b[0m     \u001b[0;32melif\u001b[0m \u001b[0;32mnot\u001b[0m \u001b[0mishashable\u001b[0m\u001b[0;34m(\u001b[0m\u001b[0marg\u001b[0m\u001b[0;34m)\u001b[0m\u001b[0;34m:\u001b[0m\u001b[0;34m\u001b[0m\u001b[0;34m\u001b[0m\u001b[0m\n",
      "\u001b[0;32m~/miniconda3/lib/python3.7/site-packages/dask/core.py\u001b[0m in \u001b[0;36m_execute_task\u001b[0;34m(arg, cache, dsk)\u001b[0m\n\u001b[1;32m    116\u001b[0m     \u001b[0;32melif\u001b[0m \u001b[0mistask\u001b[0m\u001b[0;34m(\u001b[0m\u001b[0marg\u001b[0m\u001b[0;34m)\u001b[0m\u001b[0;34m:\u001b[0m\u001b[0;34m\u001b[0m\u001b[0;34m\u001b[0m\u001b[0m\n\u001b[1;32m    117\u001b[0m         \u001b[0mfunc\u001b[0m\u001b[0;34m,\u001b[0m \u001b[0margs\u001b[0m \u001b[0;34m=\u001b[0m \u001b[0marg\u001b[0m\u001b[0;34m[\u001b[0m\u001b[0;36m0\u001b[0m\u001b[0;34m]\u001b[0m\u001b[0;34m,\u001b[0m \u001b[0marg\u001b[0m\u001b[0;34m[\u001b[0m\u001b[0;36m1\u001b[0m\u001b[0;34m:\u001b[0m\u001b[0;34m]\u001b[0m\u001b[0;34m\u001b[0m\u001b[0;34m\u001b[0m\u001b[0m\n\u001b[0;32m--> 118\u001b[0;31m         \u001b[0margs2\u001b[0m \u001b[0;34m=\u001b[0m \u001b[0;34m[\u001b[0m\u001b[0m_execute_task\u001b[0m\u001b[0;34m(\u001b[0m\u001b[0ma\u001b[0m\u001b[0;34m,\u001b[0m \u001b[0mcache\u001b[0m\u001b[0;34m)\u001b[0m \u001b[0;32mfor\u001b[0m \u001b[0ma\u001b[0m \u001b[0;32min\u001b[0m \u001b[0margs\u001b[0m\u001b[0;34m]\u001b[0m\u001b[0;34m\u001b[0m\u001b[0;34m\u001b[0m\u001b[0m\n\u001b[0m\u001b[1;32m    119\u001b[0m         \u001b[0;32mreturn\u001b[0m \u001b[0mfunc\u001b[0m\u001b[0;34m(\u001b[0m\u001b[0;34m*\u001b[0m\u001b[0margs2\u001b[0m\u001b[0;34m)\u001b[0m\u001b[0;34m\u001b[0m\u001b[0;34m\u001b[0m\u001b[0m\n\u001b[1;32m    120\u001b[0m     \u001b[0;32melif\u001b[0m \u001b[0;32mnot\u001b[0m \u001b[0mishashable\u001b[0m\u001b[0;34m(\u001b[0m\u001b[0marg\u001b[0m\u001b[0;34m)\u001b[0m\u001b[0;34m:\u001b[0m\u001b[0;34m\u001b[0m\u001b[0;34m\u001b[0m\u001b[0m\n",
      "\u001b[0;32m~/miniconda3/lib/python3.7/site-packages/dask/core.py\u001b[0m in \u001b[0;36m<listcomp>\u001b[0;34m(.0)\u001b[0m\n\u001b[1;32m    116\u001b[0m     \u001b[0;32melif\u001b[0m \u001b[0mistask\u001b[0m\u001b[0;34m(\u001b[0m\u001b[0marg\u001b[0m\u001b[0;34m)\u001b[0m\u001b[0;34m:\u001b[0m\u001b[0;34m\u001b[0m\u001b[0;34m\u001b[0m\u001b[0m\n\u001b[1;32m    117\u001b[0m         \u001b[0mfunc\u001b[0m\u001b[0;34m,\u001b[0m \u001b[0margs\u001b[0m \u001b[0;34m=\u001b[0m \u001b[0marg\u001b[0m\u001b[0;34m[\u001b[0m\u001b[0;36m0\u001b[0m\u001b[0;34m]\u001b[0m\u001b[0;34m,\u001b[0m \u001b[0marg\u001b[0m\u001b[0;34m[\u001b[0m\u001b[0;36m1\u001b[0m\u001b[0;34m:\u001b[0m\u001b[0;34m]\u001b[0m\u001b[0;34m\u001b[0m\u001b[0;34m\u001b[0m\u001b[0m\n\u001b[0;32m--> 118\u001b[0;31m         \u001b[0margs2\u001b[0m \u001b[0;34m=\u001b[0m \u001b[0;34m[\u001b[0m\u001b[0m_execute_task\u001b[0m\u001b[0;34m(\u001b[0m\u001b[0ma\u001b[0m\u001b[0;34m,\u001b[0m \u001b[0mcache\u001b[0m\u001b[0;34m)\u001b[0m \u001b[0;32mfor\u001b[0m \u001b[0ma\u001b[0m \u001b[0;32min\u001b[0m \u001b[0margs\u001b[0m\u001b[0;34m]\u001b[0m\u001b[0;34m\u001b[0m\u001b[0;34m\u001b[0m\u001b[0m\n\u001b[0m\u001b[1;32m    119\u001b[0m         \u001b[0;32mreturn\u001b[0m \u001b[0mfunc\u001b[0m\u001b[0;34m(\u001b[0m\u001b[0;34m*\u001b[0m\u001b[0margs2\u001b[0m\u001b[0;34m)\u001b[0m\u001b[0;34m\u001b[0m\u001b[0;34m\u001b[0m\u001b[0m\n\u001b[1;32m    120\u001b[0m     \u001b[0;32melif\u001b[0m \u001b[0;32mnot\u001b[0m \u001b[0mishashable\u001b[0m\u001b[0;34m(\u001b[0m\u001b[0marg\u001b[0m\u001b[0;34m)\u001b[0m\u001b[0;34m:\u001b[0m\u001b[0;34m\u001b[0m\u001b[0;34m\u001b[0m\u001b[0m\n",
      "\u001b[0;32m~/miniconda3/lib/python3.7/site-packages/dask/core.py\u001b[0m in \u001b[0;36m_execute_task\u001b[0;34m(arg, cache, dsk)\u001b[0m\n\u001b[1;32m    117\u001b[0m         \u001b[0mfunc\u001b[0m\u001b[0;34m,\u001b[0m \u001b[0margs\u001b[0m \u001b[0;34m=\u001b[0m \u001b[0marg\u001b[0m\u001b[0;34m[\u001b[0m\u001b[0;36m0\u001b[0m\u001b[0;34m]\u001b[0m\u001b[0;34m,\u001b[0m \u001b[0marg\u001b[0m\u001b[0;34m[\u001b[0m\u001b[0;36m1\u001b[0m\u001b[0;34m:\u001b[0m\u001b[0;34m]\u001b[0m\u001b[0;34m\u001b[0m\u001b[0;34m\u001b[0m\u001b[0m\n\u001b[1;32m    118\u001b[0m         \u001b[0margs2\u001b[0m \u001b[0;34m=\u001b[0m \u001b[0;34m[\u001b[0m\u001b[0m_execute_task\u001b[0m\u001b[0;34m(\u001b[0m\u001b[0ma\u001b[0m\u001b[0;34m,\u001b[0m \u001b[0mcache\u001b[0m\u001b[0;34m)\u001b[0m \u001b[0;32mfor\u001b[0m \u001b[0ma\u001b[0m \u001b[0;32min\u001b[0m \u001b[0margs\u001b[0m\u001b[0;34m]\u001b[0m\u001b[0;34m\u001b[0m\u001b[0;34m\u001b[0m\u001b[0m\n\u001b[0;32m--> 119\u001b[0;31m         \u001b[0;32mreturn\u001b[0m \u001b[0mfunc\u001b[0m\u001b[0;34m(\u001b[0m\u001b[0;34m*\u001b[0m\u001b[0margs2\u001b[0m\u001b[0;34m)\u001b[0m\u001b[0;34m\u001b[0m\u001b[0;34m\u001b[0m\u001b[0m\n\u001b[0m\u001b[1;32m    120\u001b[0m     \u001b[0;32melif\u001b[0m \u001b[0;32mnot\u001b[0m \u001b[0mishashable\u001b[0m\u001b[0;34m(\u001b[0m\u001b[0marg\u001b[0m\u001b[0;34m)\u001b[0m\u001b[0;34m:\u001b[0m\u001b[0;34m\u001b[0m\u001b[0;34m\u001b[0m\u001b[0m\n\u001b[1;32m    121\u001b[0m         \u001b[0;32mreturn\u001b[0m \u001b[0marg\u001b[0m\u001b[0;34m\u001b[0m\u001b[0;34m\u001b[0m\u001b[0m\n",
      "\u001b[0;32m~/miniconda3/lib/python3.7/site-packages/dask/array/core.py\u001b[0m in \u001b[0;36mgetter\u001b[0;34m(a, b, asarray, lock)\u001b[0m\n\u001b[1;32m    104\u001b[0m         \u001b[0mc\u001b[0m \u001b[0;34m=\u001b[0m \u001b[0ma\u001b[0m\u001b[0;34m[\u001b[0m\u001b[0mb\u001b[0m\u001b[0;34m]\u001b[0m\u001b[0;34m\u001b[0m\u001b[0;34m\u001b[0m\u001b[0m\n\u001b[1;32m    105\u001b[0m         \u001b[0;32mif\u001b[0m \u001b[0masarray\u001b[0m\u001b[0;34m:\u001b[0m\u001b[0;34m\u001b[0m\u001b[0;34m\u001b[0m\u001b[0m\n\u001b[0;32m--> 106\u001b[0;31m             \u001b[0mc\u001b[0m \u001b[0;34m=\u001b[0m \u001b[0mnp\u001b[0m\u001b[0;34m.\u001b[0m\u001b[0masarray\u001b[0m\u001b[0;34m(\u001b[0m\u001b[0mc\u001b[0m\u001b[0;34m)\u001b[0m\u001b[0;34m\u001b[0m\u001b[0;34m\u001b[0m\u001b[0m\n\u001b[0m\u001b[1;32m    107\u001b[0m     \u001b[0;32mfinally\u001b[0m\u001b[0;34m:\u001b[0m\u001b[0;34m\u001b[0m\u001b[0;34m\u001b[0m\u001b[0m\n\u001b[1;32m    108\u001b[0m         \u001b[0;32mif\u001b[0m \u001b[0mlock\u001b[0m\u001b[0;34m:\u001b[0m\u001b[0;34m\u001b[0m\u001b[0;34m\u001b[0m\u001b[0m\n",
      "\u001b[0;32m~/miniconda3/lib/python3.7/site-packages/numpy/core/_asarray.py\u001b[0m in \u001b[0;36masarray\u001b[0;34m(a, dtype, order)\u001b[0m\n\u001b[1;32m     83\u001b[0m \u001b[0;34m\u001b[0m\u001b[0m\n\u001b[1;32m     84\u001b[0m     \"\"\"\n\u001b[0;32m---> 85\u001b[0;31m     \u001b[0;32mreturn\u001b[0m \u001b[0marray\u001b[0m\u001b[0;34m(\u001b[0m\u001b[0ma\u001b[0m\u001b[0;34m,\u001b[0m \u001b[0mdtype\u001b[0m\u001b[0;34m,\u001b[0m \u001b[0mcopy\u001b[0m\u001b[0;34m=\u001b[0m\u001b[0;32mFalse\u001b[0m\u001b[0;34m,\u001b[0m \u001b[0morder\u001b[0m\u001b[0;34m=\u001b[0m\u001b[0morder\u001b[0m\u001b[0;34m)\u001b[0m\u001b[0;34m\u001b[0m\u001b[0;34m\u001b[0m\u001b[0m\n\u001b[0m\u001b[1;32m     86\u001b[0m \u001b[0;34m\u001b[0m\u001b[0m\n\u001b[1;32m     87\u001b[0m \u001b[0;34m\u001b[0m\u001b[0m\n",
      "\u001b[0;32m~/miniconda3/lib/python3.7/site-packages/xarray/core/indexing.py\u001b[0m in \u001b[0;36m__array__\u001b[0;34m(self, dtype)\u001b[0m\n\u001b[1;32m    479\u001b[0m \u001b[0;34m\u001b[0m\u001b[0m\n\u001b[1;32m    480\u001b[0m     \u001b[0;32mdef\u001b[0m \u001b[0m__array__\u001b[0m\u001b[0;34m(\u001b[0m\u001b[0mself\u001b[0m\u001b[0;34m,\u001b[0m \u001b[0mdtype\u001b[0m\u001b[0;34m=\u001b[0m\u001b[0;32mNone\u001b[0m\u001b[0;34m)\u001b[0m\u001b[0;34m:\u001b[0m\u001b[0;34m\u001b[0m\u001b[0;34m\u001b[0m\u001b[0m\n\u001b[0;32m--> 481\u001b[0;31m         \u001b[0;32mreturn\u001b[0m \u001b[0mnp\u001b[0m\u001b[0;34m.\u001b[0m\u001b[0masarray\u001b[0m\u001b[0;34m(\u001b[0m\u001b[0mself\u001b[0m\u001b[0;34m.\u001b[0m\u001b[0marray\u001b[0m\u001b[0;34m,\u001b[0m \u001b[0mdtype\u001b[0m\u001b[0;34m=\u001b[0m\u001b[0mdtype\u001b[0m\u001b[0;34m)\u001b[0m\u001b[0;34m\u001b[0m\u001b[0;34m\u001b[0m\u001b[0m\n\u001b[0m\u001b[1;32m    482\u001b[0m \u001b[0;34m\u001b[0m\u001b[0m\n\u001b[1;32m    483\u001b[0m     \u001b[0;32mdef\u001b[0m \u001b[0m__getitem__\u001b[0m\u001b[0;34m(\u001b[0m\u001b[0mself\u001b[0m\u001b[0;34m,\u001b[0m \u001b[0mkey\u001b[0m\u001b[0;34m)\u001b[0m\u001b[0;34m:\u001b[0m\u001b[0;34m\u001b[0m\u001b[0;34m\u001b[0m\u001b[0m\n",
      "\u001b[0;32m~/miniconda3/lib/python3.7/site-packages/numpy/core/_asarray.py\u001b[0m in \u001b[0;36masarray\u001b[0;34m(a, dtype, order)\u001b[0m\n\u001b[1;32m     83\u001b[0m \u001b[0;34m\u001b[0m\u001b[0m\n\u001b[1;32m     84\u001b[0m     \"\"\"\n\u001b[0;32m---> 85\u001b[0;31m     \u001b[0;32mreturn\u001b[0m \u001b[0marray\u001b[0m\u001b[0;34m(\u001b[0m\u001b[0ma\u001b[0m\u001b[0;34m,\u001b[0m \u001b[0mdtype\u001b[0m\u001b[0;34m,\u001b[0m \u001b[0mcopy\u001b[0m\u001b[0;34m=\u001b[0m\u001b[0;32mFalse\u001b[0m\u001b[0;34m,\u001b[0m \u001b[0morder\u001b[0m\u001b[0;34m=\u001b[0m\u001b[0morder\u001b[0m\u001b[0;34m)\u001b[0m\u001b[0;34m\u001b[0m\u001b[0;34m\u001b[0m\u001b[0m\n\u001b[0m\u001b[1;32m     86\u001b[0m \u001b[0;34m\u001b[0m\u001b[0m\n\u001b[1;32m     87\u001b[0m \u001b[0;34m\u001b[0m\u001b[0m\n",
      "\u001b[0;32m~/miniconda3/lib/python3.7/site-packages/xarray/core/indexing.py\u001b[0m in \u001b[0;36m__array__\u001b[0;34m(self, dtype)\u001b[0m\n\u001b[1;32m    641\u001b[0m \u001b[0;34m\u001b[0m\u001b[0m\n\u001b[1;32m    642\u001b[0m     \u001b[0;32mdef\u001b[0m \u001b[0m__array__\u001b[0m\u001b[0;34m(\u001b[0m\u001b[0mself\u001b[0m\u001b[0;34m,\u001b[0m \u001b[0mdtype\u001b[0m\u001b[0;34m=\u001b[0m\u001b[0;32mNone\u001b[0m\u001b[0;34m)\u001b[0m\u001b[0;34m:\u001b[0m\u001b[0;34m\u001b[0m\u001b[0;34m\u001b[0m\u001b[0m\n\u001b[0;32m--> 643\u001b[0;31m         \u001b[0;32mreturn\u001b[0m \u001b[0mnp\u001b[0m\u001b[0;34m.\u001b[0m\u001b[0masarray\u001b[0m\u001b[0;34m(\u001b[0m\u001b[0mself\u001b[0m\u001b[0;34m.\u001b[0m\u001b[0marray\u001b[0m\u001b[0;34m,\u001b[0m \u001b[0mdtype\u001b[0m\u001b[0;34m=\u001b[0m\u001b[0mdtype\u001b[0m\u001b[0;34m)\u001b[0m\u001b[0;34m\u001b[0m\u001b[0;34m\u001b[0m\u001b[0m\n\u001b[0m\u001b[1;32m    644\u001b[0m \u001b[0;34m\u001b[0m\u001b[0m\n\u001b[1;32m    645\u001b[0m     \u001b[0;32mdef\u001b[0m \u001b[0m__getitem__\u001b[0m\u001b[0;34m(\u001b[0m\u001b[0mself\u001b[0m\u001b[0;34m,\u001b[0m \u001b[0mkey\u001b[0m\u001b[0;34m)\u001b[0m\u001b[0;34m:\u001b[0m\u001b[0;34m\u001b[0m\u001b[0;34m\u001b[0m\u001b[0m\n",
      "\u001b[0;32m~/miniconda3/lib/python3.7/site-packages/numpy/core/_asarray.py\u001b[0m in \u001b[0;36masarray\u001b[0;34m(a, dtype, order)\u001b[0m\n\u001b[1;32m     83\u001b[0m \u001b[0;34m\u001b[0m\u001b[0m\n\u001b[1;32m     84\u001b[0m     \"\"\"\n\u001b[0;32m---> 85\u001b[0;31m     \u001b[0;32mreturn\u001b[0m \u001b[0marray\u001b[0m\u001b[0;34m(\u001b[0m\u001b[0ma\u001b[0m\u001b[0;34m,\u001b[0m \u001b[0mdtype\u001b[0m\u001b[0;34m,\u001b[0m \u001b[0mcopy\u001b[0m\u001b[0;34m=\u001b[0m\u001b[0;32mFalse\u001b[0m\u001b[0;34m,\u001b[0m \u001b[0morder\u001b[0m\u001b[0;34m=\u001b[0m\u001b[0morder\u001b[0m\u001b[0;34m)\u001b[0m\u001b[0;34m\u001b[0m\u001b[0;34m\u001b[0m\u001b[0m\n\u001b[0m\u001b[1;32m     86\u001b[0m \u001b[0;34m\u001b[0m\u001b[0m\n\u001b[1;32m     87\u001b[0m \u001b[0;34m\u001b[0m\u001b[0m\n",
      "\u001b[0;32m~/miniconda3/lib/python3.7/site-packages/xarray/core/indexing.py\u001b[0m in \u001b[0;36m__array__\u001b[0;34m(self, dtype)\u001b[0m\n\u001b[1;32m    545\u001b[0m     \u001b[0;32mdef\u001b[0m \u001b[0m__array__\u001b[0m\u001b[0;34m(\u001b[0m\u001b[0mself\u001b[0m\u001b[0;34m,\u001b[0m \u001b[0mdtype\u001b[0m\u001b[0;34m=\u001b[0m\u001b[0;32mNone\u001b[0m\u001b[0;34m)\u001b[0m\u001b[0;34m:\u001b[0m\u001b[0;34m\u001b[0m\u001b[0;34m\u001b[0m\u001b[0m\n\u001b[1;32m    546\u001b[0m         \u001b[0marray\u001b[0m \u001b[0;34m=\u001b[0m \u001b[0mas_indexable\u001b[0m\u001b[0;34m(\u001b[0m\u001b[0mself\u001b[0m\u001b[0;34m.\u001b[0m\u001b[0marray\u001b[0m\u001b[0;34m)\u001b[0m\u001b[0;34m\u001b[0m\u001b[0;34m\u001b[0m\u001b[0m\n\u001b[0;32m--> 547\u001b[0;31m         \u001b[0;32mreturn\u001b[0m \u001b[0mnp\u001b[0m\u001b[0;34m.\u001b[0m\u001b[0masarray\u001b[0m\u001b[0;34m(\u001b[0m\u001b[0marray\u001b[0m\u001b[0;34m[\u001b[0m\u001b[0mself\u001b[0m\u001b[0;34m.\u001b[0m\u001b[0mkey\u001b[0m\u001b[0;34m]\u001b[0m\u001b[0;34m,\u001b[0m \u001b[0mdtype\u001b[0m\u001b[0;34m=\u001b[0m\u001b[0;32mNone\u001b[0m\u001b[0;34m)\u001b[0m\u001b[0;34m\u001b[0m\u001b[0;34m\u001b[0m\u001b[0m\n\u001b[0m\u001b[1;32m    548\u001b[0m \u001b[0;34m\u001b[0m\u001b[0m\n\u001b[1;32m    549\u001b[0m     \u001b[0;32mdef\u001b[0m \u001b[0mtranspose\u001b[0m\u001b[0;34m(\u001b[0m\u001b[0mself\u001b[0m\u001b[0;34m,\u001b[0m \u001b[0morder\u001b[0m\u001b[0;34m)\u001b[0m\u001b[0;34m:\u001b[0m\u001b[0;34m\u001b[0m\u001b[0;34m\u001b[0m\u001b[0m\n",
      "\u001b[0;32m~/miniconda3/lib/python3.7/site-packages/numpy/core/_asarray.py\u001b[0m in \u001b[0;36masarray\u001b[0;34m(a, dtype, order)\u001b[0m\n\u001b[1;32m     83\u001b[0m \u001b[0;34m\u001b[0m\u001b[0m\n\u001b[1;32m     84\u001b[0m     \"\"\"\n\u001b[0;32m---> 85\u001b[0;31m     \u001b[0;32mreturn\u001b[0m \u001b[0marray\u001b[0m\u001b[0;34m(\u001b[0m\u001b[0ma\u001b[0m\u001b[0;34m,\u001b[0m \u001b[0mdtype\u001b[0m\u001b[0;34m,\u001b[0m \u001b[0mcopy\u001b[0m\u001b[0;34m=\u001b[0m\u001b[0;32mFalse\u001b[0m\u001b[0;34m,\u001b[0m \u001b[0morder\u001b[0m\u001b[0;34m=\u001b[0m\u001b[0morder\u001b[0m\u001b[0;34m)\u001b[0m\u001b[0;34m\u001b[0m\u001b[0;34m\u001b[0m\u001b[0m\n\u001b[0m\u001b[1;32m     86\u001b[0m \u001b[0;34m\u001b[0m\u001b[0m\n\u001b[1;32m     87\u001b[0m \u001b[0;34m\u001b[0m\u001b[0m\n",
      "\u001b[0;32m~/miniconda3/lib/python3.7/site-packages/xarray/coding/variables.py\u001b[0m in \u001b[0;36m__array__\u001b[0;34m(self, dtype)\u001b[0m\n\u001b[1;32m     70\u001b[0m \u001b[0;34m\u001b[0m\u001b[0m\n\u001b[1;32m     71\u001b[0m     \u001b[0;32mdef\u001b[0m \u001b[0m__array__\u001b[0m\u001b[0;34m(\u001b[0m\u001b[0mself\u001b[0m\u001b[0;34m,\u001b[0m \u001b[0mdtype\u001b[0m\u001b[0;34m=\u001b[0m\u001b[0;32mNone\u001b[0m\u001b[0;34m)\u001b[0m\u001b[0;34m:\u001b[0m\u001b[0;34m\u001b[0m\u001b[0;34m\u001b[0m\u001b[0m\n\u001b[0;32m---> 72\u001b[0;31m         \u001b[0;32mreturn\u001b[0m \u001b[0mself\u001b[0m\u001b[0;34m.\u001b[0m\u001b[0mfunc\u001b[0m\u001b[0;34m(\u001b[0m\u001b[0mself\u001b[0m\u001b[0;34m.\u001b[0m\u001b[0marray\u001b[0m\u001b[0;34m)\u001b[0m\u001b[0;34m\u001b[0m\u001b[0;34m\u001b[0m\u001b[0m\n\u001b[0m\u001b[1;32m     73\u001b[0m \u001b[0;34m\u001b[0m\u001b[0m\n\u001b[1;32m     74\u001b[0m     \u001b[0;32mdef\u001b[0m \u001b[0m__repr__\u001b[0m\u001b[0;34m(\u001b[0m\u001b[0mself\u001b[0m\u001b[0;34m)\u001b[0m\u001b[0;34m:\u001b[0m\u001b[0;34m\u001b[0m\u001b[0;34m\u001b[0m\u001b[0m\n",
      "\u001b[0;32m~/miniconda3/lib/python3.7/site-packages/xarray/coding/variables.py\u001b[0m in \u001b[0;36m_apply_mask\u001b[0;34m(data, encoded_fill_values, decoded_fill_value, dtype)\u001b[0m\n\u001b[1;32m    136\u001b[0m ) -> np.ndarray:\n\u001b[1;32m    137\u001b[0m     \u001b[0;34m\"\"\"Mask all matching values in a NumPy arrays.\"\"\"\u001b[0m\u001b[0;34m\u001b[0m\u001b[0;34m\u001b[0m\u001b[0m\n\u001b[0;32m--> 138\u001b[0;31m     \u001b[0mdata\u001b[0m \u001b[0;34m=\u001b[0m \u001b[0mnp\u001b[0m\u001b[0;34m.\u001b[0m\u001b[0masarray\u001b[0m\u001b[0;34m(\u001b[0m\u001b[0mdata\u001b[0m\u001b[0;34m,\u001b[0m \u001b[0mdtype\u001b[0m\u001b[0;34m=\u001b[0m\u001b[0mdtype\u001b[0m\u001b[0;34m)\u001b[0m\u001b[0;34m\u001b[0m\u001b[0;34m\u001b[0m\u001b[0m\n\u001b[0m\u001b[1;32m    139\u001b[0m     \u001b[0mcondition\u001b[0m \u001b[0;34m=\u001b[0m \u001b[0;32mFalse\u001b[0m\u001b[0;34m\u001b[0m\u001b[0;34m\u001b[0m\u001b[0m\n\u001b[1;32m    140\u001b[0m     \u001b[0;32mfor\u001b[0m \u001b[0mfv\u001b[0m \u001b[0;32min\u001b[0m \u001b[0mencoded_fill_values\u001b[0m\u001b[0;34m:\u001b[0m\u001b[0;34m\u001b[0m\u001b[0;34m\u001b[0m\u001b[0m\n",
      "\u001b[0;32m~/miniconda3/lib/python3.7/site-packages/numpy/core/_asarray.py\u001b[0m in \u001b[0;36masarray\u001b[0;34m(a, dtype, order)\u001b[0m\n\u001b[1;32m     83\u001b[0m \u001b[0;34m\u001b[0m\u001b[0m\n\u001b[1;32m     84\u001b[0m     \"\"\"\n\u001b[0;32m---> 85\u001b[0;31m     \u001b[0;32mreturn\u001b[0m \u001b[0marray\u001b[0m\u001b[0;34m(\u001b[0m\u001b[0ma\u001b[0m\u001b[0;34m,\u001b[0m \u001b[0mdtype\u001b[0m\u001b[0;34m,\u001b[0m \u001b[0mcopy\u001b[0m\u001b[0;34m=\u001b[0m\u001b[0;32mFalse\u001b[0m\u001b[0;34m,\u001b[0m \u001b[0morder\u001b[0m\u001b[0;34m=\u001b[0m\u001b[0morder\u001b[0m\u001b[0;34m)\u001b[0m\u001b[0;34m\u001b[0m\u001b[0;34m\u001b[0m\u001b[0m\n\u001b[0m\u001b[1;32m     86\u001b[0m \u001b[0;34m\u001b[0m\u001b[0m\n\u001b[1;32m     87\u001b[0m \u001b[0;34m\u001b[0m\u001b[0m\n",
      "\u001b[0;32m~/miniconda3/lib/python3.7/site-packages/xarray/core/indexing.py\u001b[0m in \u001b[0;36m__array__\u001b[0;34m(self, dtype)\u001b[0m\n\u001b[1;32m    545\u001b[0m     \u001b[0;32mdef\u001b[0m \u001b[0m__array__\u001b[0m\u001b[0;34m(\u001b[0m\u001b[0mself\u001b[0m\u001b[0;34m,\u001b[0m \u001b[0mdtype\u001b[0m\u001b[0;34m=\u001b[0m\u001b[0;32mNone\u001b[0m\u001b[0;34m)\u001b[0m\u001b[0;34m:\u001b[0m\u001b[0;34m\u001b[0m\u001b[0;34m\u001b[0m\u001b[0m\n\u001b[1;32m    546\u001b[0m         \u001b[0marray\u001b[0m \u001b[0;34m=\u001b[0m \u001b[0mas_indexable\u001b[0m\u001b[0;34m(\u001b[0m\u001b[0mself\u001b[0m\u001b[0;34m.\u001b[0m\u001b[0marray\u001b[0m\u001b[0;34m)\u001b[0m\u001b[0;34m\u001b[0m\u001b[0;34m\u001b[0m\u001b[0m\n\u001b[0;32m--> 547\u001b[0;31m         \u001b[0;32mreturn\u001b[0m \u001b[0mnp\u001b[0m\u001b[0;34m.\u001b[0m\u001b[0masarray\u001b[0m\u001b[0;34m(\u001b[0m\u001b[0marray\u001b[0m\u001b[0;34m[\u001b[0m\u001b[0mself\u001b[0m\u001b[0;34m.\u001b[0m\u001b[0mkey\u001b[0m\u001b[0;34m]\u001b[0m\u001b[0;34m,\u001b[0m \u001b[0mdtype\u001b[0m\u001b[0;34m=\u001b[0m\u001b[0;32mNone\u001b[0m\u001b[0;34m)\u001b[0m\u001b[0;34m\u001b[0m\u001b[0;34m\u001b[0m\u001b[0m\n\u001b[0m\u001b[1;32m    548\u001b[0m \u001b[0;34m\u001b[0m\u001b[0m\n\u001b[1;32m    549\u001b[0m     \u001b[0;32mdef\u001b[0m \u001b[0mtranspose\u001b[0m\u001b[0;34m(\u001b[0m\u001b[0mself\u001b[0m\u001b[0;34m,\u001b[0m \u001b[0morder\u001b[0m\u001b[0;34m)\u001b[0m\u001b[0;34m:\u001b[0m\u001b[0;34m\u001b[0m\u001b[0;34m\u001b[0m\u001b[0m\n",
      "\u001b[0;32m~/miniconda3/lib/python3.7/site-packages/xarray/backends/netCDF4_.py\u001b[0m in \u001b[0;36m__getitem__\u001b[0;34m(self, key)\u001b[0m\n\u001b[1;32m     70\u001b[0m     \u001b[0;32mdef\u001b[0m \u001b[0m__getitem__\u001b[0m\u001b[0;34m(\u001b[0m\u001b[0mself\u001b[0m\u001b[0;34m,\u001b[0m \u001b[0mkey\u001b[0m\u001b[0;34m)\u001b[0m\u001b[0;34m:\u001b[0m\u001b[0;34m\u001b[0m\u001b[0;34m\u001b[0m\u001b[0m\n\u001b[1;32m     71\u001b[0m         return indexing.explicit_indexing_adapter(\n\u001b[0;32m---> 72\u001b[0;31m             \u001b[0mkey\u001b[0m\u001b[0;34m,\u001b[0m \u001b[0mself\u001b[0m\u001b[0;34m.\u001b[0m\u001b[0mshape\u001b[0m\u001b[0;34m,\u001b[0m \u001b[0mindexing\u001b[0m\u001b[0;34m.\u001b[0m\u001b[0mIndexingSupport\u001b[0m\u001b[0;34m.\u001b[0m\u001b[0mOUTER\u001b[0m\u001b[0;34m,\u001b[0m \u001b[0mself\u001b[0m\u001b[0;34m.\u001b[0m\u001b[0m_getitem\u001b[0m\u001b[0;34m\u001b[0m\u001b[0;34m\u001b[0m\u001b[0m\n\u001b[0m\u001b[1;32m     73\u001b[0m         )\n\u001b[1;32m     74\u001b[0m \u001b[0;34m\u001b[0m\u001b[0m\n",
      "\u001b[0;32m~/miniconda3/lib/python3.7/site-packages/xarray/core/indexing.py\u001b[0m in \u001b[0;36mexplicit_indexing_adapter\u001b[0;34m(key, shape, indexing_support, raw_indexing_method)\u001b[0m\n\u001b[1;32m    825\u001b[0m     \"\"\"\n\u001b[1;32m    826\u001b[0m     \u001b[0mraw_key\u001b[0m\u001b[0;34m,\u001b[0m \u001b[0mnumpy_indices\u001b[0m \u001b[0;34m=\u001b[0m \u001b[0mdecompose_indexer\u001b[0m\u001b[0;34m(\u001b[0m\u001b[0mkey\u001b[0m\u001b[0;34m,\u001b[0m \u001b[0mshape\u001b[0m\u001b[0;34m,\u001b[0m \u001b[0mindexing_support\u001b[0m\u001b[0;34m)\u001b[0m\u001b[0;34m\u001b[0m\u001b[0;34m\u001b[0m\u001b[0m\n\u001b[0;32m--> 827\u001b[0;31m     \u001b[0mresult\u001b[0m \u001b[0;34m=\u001b[0m \u001b[0mraw_indexing_method\u001b[0m\u001b[0;34m(\u001b[0m\u001b[0mraw_key\u001b[0m\u001b[0;34m.\u001b[0m\u001b[0mtuple\u001b[0m\u001b[0;34m)\u001b[0m\u001b[0;34m\u001b[0m\u001b[0;34m\u001b[0m\u001b[0m\n\u001b[0m\u001b[1;32m    828\u001b[0m     \u001b[0;32mif\u001b[0m \u001b[0mnumpy_indices\u001b[0m\u001b[0;34m.\u001b[0m\u001b[0mtuple\u001b[0m\u001b[0;34m:\u001b[0m\u001b[0;34m\u001b[0m\u001b[0;34m\u001b[0m\u001b[0m\n\u001b[1;32m    829\u001b[0m         \u001b[0;31m# index the loaded np.ndarray\u001b[0m\u001b[0;34m\u001b[0m\u001b[0;34m\u001b[0m\u001b[0;34m\u001b[0m\u001b[0m\n",
      "\u001b[0;32m~/miniconda3/lib/python3.7/site-packages/xarray/backends/netCDF4_.py\u001b[0m in \u001b[0;36m_getitem\u001b[0;34m(self, key)\u001b[0m\n\u001b[1;32m     82\u001b[0m             \u001b[0;32mwith\u001b[0m \u001b[0mself\u001b[0m\u001b[0;34m.\u001b[0m\u001b[0mdatastore\u001b[0m\u001b[0;34m.\u001b[0m\u001b[0mlock\u001b[0m\u001b[0;34m:\u001b[0m\u001b[0;34m\u001b[0m\u001b[0;34m\u001b[0m\u001b[0m\n\u001b[1;32m     83\u001b[0m                 \u001b[0moriginal_array\u001b[0m \u001b[0;34m=\u001b[0m \u001b[0mself\u001b[0m\u001b[0;34m.\u001b[0m\u001b[0mget_array\u001b[0m\u001b[0;34m(\u001b[0m\u001b[0mneeds_lock\u001b[0m\u001b[0;34m=\u001b[0m\u001b[0;32mFalse\u001b[0m\u001b[0;34m)\u001b[0m\u001b[0;34m\u001b[0m\u001b[0;34m\u001b[0m\u001b[0m\n\u001b[0;32m---> 84\u001b[0;31m                 \u001b[0marray\u001b[0m \u001b[0;34m=\u001b[0m \u001b[0mgetitem\u001b[0m\u001b[0;34m(\u001b[0m\u001b[0moriginal_array\u001b[0m\u001b[0;34m,\u001b[0m \u001b[0mkey\u001b[0m\u001b[0;34m)\u001b[0m\u001b[0;34m\u001b[0m\u001b[0;34m\u001b[0m\u001b[0m\n\u001b[0m\u001b[1;32m     85\u001b[0m         \u001b[0;32mexcept\u001b[0m \u001b[0mIndexError\u001b[0m\u001b[0;34m:\u001b[0m\u001b[0;34m\u001b[0m\u001b[0;34m\u001b[0m\u001b[0m\n\u001b[1;32m     86\u001b[0m             \u001b[0;31m# Catch IndexError in netCDF4 and return a more informative\u001b[0m\u001b[0;34m\u001b[0m\u001b[0;34m\u001b[0m\u001b[0;34m\u001b[0m\u001b[0m\n",
      "\u001b[0;32m~/miniconda3/lib/python3.7/site-packages/xarray/backends/common.py\u001b[0m in \u001b[0;36mrobust_getitem\u001b[0;34m(array, key, catch, max_retries, initial_delay)\u001b[0m\n\u001b[1;32m     52\u001b[0m     \u001b[0;32mfor\u001b[0m \u001b[0mn\u001b[0m \u001b[0;32min\u001b[0m \u001b[0mrange\u001b[0m\u001b[0;34m(\u001b[0m\u001b[0mmax_retries\u001b[0m \u001b[0;34m+\u001b[0m \u001b[0;36m1\u001b[0m\u001b[0;34m)\u001b[0m\u001b[0;34m:\u001b[0m\u001b[0;34m\u001b[0m\u001b[0;34m\u001b[0m\u001b[0m\n\u001b[1;32m     53\u001b[0m         \u001b[0;32mtry\u001b[0m\u001b[0;34m:\u001b[0m\u001b[0;34m\u001b[0m\u001b[0;34m\u001b[0m\u001b[0m\n\u001b[0;32m---> 54\u001b[0;31m             \u001b[0;32mreturn\u001b[0m \u001b[0marray\u001b[0m\u001b[0;34m[\u001b[0m\u001b[0mkey\u001b[0m\u001b[0;34m]\u001b[0m\u001b[0;34m\u001b[0m\u001b[0;34m\u001b[0m\u001b[0m\n\u001b[0m\u001b[1;32m     55\u001b[0m         \u001b[0;32mexcept\u001b[0m \u001b[0mcatch\u001b[0m\u001b[0;34m:\u001b[0m\u001b[0;34m\u001b[0m\u001b[0;34m\u001b[0m\u001b[0m\n\u001b[1;32m     56\u001b[0m             \u001b[0;32mif\u001b[0m \u001b[0mn\u001b[0m \u001b[0;34m==\u001b[0m \u001b[0mmax_retries\u001b[0m\u001b[0;34m:\u001b[0m\u001b[0;34m\u001b[0m\u001b[0;34m\u001b[0m\u001b[0m\n",
      "\u001b[0;32mnetCDF4/_netCDF4.pyx\u001b[0m in \u001b[0;36mnetCDF4._netCDF4.Variable.__getitem__\u001b[0;34m()\u001b[0m\n",
      "\u001b[0;32mnetCDF4/_netCDF4.pyx\u001b[0m in \u001b[0;36mnetCDF4._netCDF4.Variable._get\u001b[0;34m()\u001b[0m\n",
      "\u001b[0;32mnetCDF4/_netCDF4.pyx\u001b[0m in \u001b[0;36mnetCDF4._netCDF4._ensure_nc_success\u001b[0;34m()\u001b[0m\n",
      "\u001b[0;31mRuntimeError\u001b[0m: NetCDF: Access failure"
     ]
    }
   ],
   "source": [
    "piControl_df_list_esgf = []\n",
    "for x in piControl_ism_areacella_exist:\n",
    "    piControl_df_list_esgf += [get_CMIP6_data(x,'piControl','tas')]\n",
    "# P1=multiprocessing.Pool(processes=8)\n",
    "# piControl_df = P1.starmap(get_CMIP6_data,[(x,'piControl','tas',False) for x in piControl_ism_areacella_exist])\n",
    "# P1.close"
   ]
  },
  {
   "cell_type": "code",
   "execution_count": null,
   "metadata": {},
   "outputs": [],
   "source": []
  }
 ],
 "metadata": {
  "kernelspec": {
   "display_name": "Python 3",
   "language": "python",
   "name": "python3"
  },
  "language_info": {
   "codemirror_mode": {
    "name": "ipython",
    "version": 3
   },
   "file_extension": ".py",
   "mimetype": "text/x-python",
   "name": "python",
   "nbconvert_exporter": "python",
   "pygments_lexer": "ipython3",
   "version": "3.7.8"
  }
 },
 "nbformat": 4,
 "nbformat_minor": 4
}
