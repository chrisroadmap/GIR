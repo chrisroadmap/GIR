{
 "cells": [
  {
   "cell_type": "code",
   "execution_count": 1,
   "metadata": {},
   "outputs": [],
   "source": [
    "## Get dependencies ##\n",
    "\n",
    "import numpy as np\n",
    "import string\n",
    "import math\n",
    "import sys\n",
    "import pandas as pd\n",
    "import matplotlib.pyplot as plt\n",
    "import matplotlib\n",
    "import seaborn as sn\n",
    "from GIR import *\n",
    "import scipy as sp\n",
    "import pickle\n",
    "import time\n",
    "import scipy as sp\n",
    "from scipy import ndimage\n",
    "from scipy import signal\n",
    "import os\n",
    "import statsmodels.api as sm\n",
    "from mpl_toolkits.axes_grid1.inset_locator import inset_axes\n",
    "import glob\n",
    "import requests\n",
    "import ftplib\n",
    "import PyPDF2\n",
    "import io\n",
    "import cmocean\n",
    "\n",
    "def similar(a, b):\n",
    "    return SequenceMatcher(None, a, b).ratio()\n",
    "    \n",
    "## Matplotlib rcparams setup:\n",
    "\n",
    "matplotlib.rcParams['font.family']='Helvetica'\n",
    "matplotlib.rcParams['font.size']=11\n",
    "# matplotlib.rcParams['font.weight']=400\n",
    "\n",
    "matplotlib.rcParams['image.cmap']='cmo.ice'\n",
    "\n",
    "matplotlib.rcParams['axes.prop_cycle']=matplotlib.cycler('color',['011936','FF7D00','225560','BFACAA','D72638','788C9B','A33F00','7CAAB0','685655','EB767C'])\n",
    "matplotlib.rcParams['axes.formatter.limits']=-3,3\n",
    "matplotlib.rcParams['axes.labelweight']=300\n",
    "\n",
    "matplotlib.rcParams['legend.frameon']=False\n",
    "\n",
    "matplotlib.rcParams['boxplot.whiskers']=(5,95)\n",
    "matplotlib.rcParams['boxplot.showfliers']=False\n",
    "matplotlib.rcParams['boxplot.showfliers']=False\n",
    "matplotlib.rcParams['boxplot.medianprops.color']='black'\n",
    "\n",
    "matplotlib.rcParams['errorbar.capsize']=5\n",
    "\n",
    "matplotlib.rcParams['hist.bins']='auto'\n",
    "\n",
    "plt.rcParams['pdf.fonttype'] = 42\n",
    "\n",
    "%matplotlib inline"
   ]
  },
  {
   "cell_type": "code",
   "execution_count": 2,
   "metadata": {},
   "outputs": [
    {
     "name": "stderr",
     "output_type": "stream",
     "text": [
      "/home/leachl/miniconda3/lib/python3.7/site-packages/ipykernel_launcher.py:1: FutureWarning: Sorting because non-concatenation axis is not aligned. A future version\n",
      "of pandas will change to not sort by default.\n",
      "\n",
      "To accept the future behavior, pass 'sort=False'.\n",
      "\n",
      "To retain the current behavior and silence the warning, pass 'sort=True'.\n",
      "\n",
      "  \"\"\"Entry point for launching an IPython kernel.\n"
     ]
    }
   ],
   "source": [
    "fair_scm = pd.concat([pd.read_csv(x) for x in glob.glob('/home/leachl/Documents/Datasets/RCMIP/rcmip/data/results/phase-1/fair/*default*v1-0-1*')])\n",
    "fair_scm.columns = [str(x) for x in np.arange(1850,2501)]+list(fair_scm.columns[-6:])\n",
    "fair_scm = fair_scm.loc[:,list(fair_scm.columns[-6:])+[str(x) for x in np.arange(1850,2501)]]\n",
    "fair_scm.iloc[:,6:] = fair_scm.iloc[:,6:].apply(pd.to_numeric)\n",
    "fair_scm.columns = list(fair_scm.columns)[:6] + [int(x) for x in list(fair_scm.columns)[6:]]"
   ]
  },
  {
   "cell_type": "code",
   "execution_count": 3,
   "metadata": {},
   "outputs": [],
   "source": [
    "RCMIP_concs = pd.read_csv('/home/leachl/Documents/Datasets/RCMIP/rcmip/data/protocol/rcmip-concentrations-annual-means-v4-0-0.csv')\n",
    "RCMIP_emms = pd.read_csv('/home/leachl/Documents/Datasets/RCMIP/rcmip/data/protocol/rcmip-emissions-annual-means-v4-0-0.csv')\n",
    "RCMIP_forc = pd.read_csv('/home/leachl/Documents/Datasets/RCMIP/rcmip/data/protocol/rcmip-radiative-forcing-annual-means-v4-0-0.csv')"
   ]
  },
  {
   "cell_type": "code",
   "execution_count": 5,
   "metadata": {},
   "outputs": [
    {
     "data": {
      "text/plain": [
       "array(['esm-ssp534-over', 'ssp460', 'rcp60', 'esm-1pct-brch-2000PgC',\n",
       "       'esm-rcp26-allGHG', 'esm-ssp460', 'ssp245-stratO3', 'ssp245-aer',\n",
       "       'hist-sol', 'abrupt-4xCO2', 'ssp126', 'esm-rcp26', 'ssp245',\n",
       "       'esm-ssp245-allGHG', 'esm-hist-allGHG', 'esm-ssp434', 'esm-rcp45',\n",
       "       'historical', 'esm-bell-750PgC', 'rcp26', 'esm-ssp534-over-allGHG',\n",
       "       'hist-CO2', 'hist-aer', 'esm-ssp370-lowNTCF', 'esm-rcp60',\n",
       "       'ssp434', 'esm-ssp119', 'hist-nat', 'ssp245-GHG', 'ssp119',\n",
       "       'ssp245-nat', 'esm-pi-CO2pulse', 'esm-ssp370-lowNTCF-aerchemmip',\n",
       "       '1pctCO2-bgc', 'rcp85', 'esm-ssp585', 'esm-1pct-brch-1000PgC',\n",
       "       'esm-rcp60-allGHG', 'ssp585', 'esm-rcp85', '1pctCO2-4xext',\n",
       "       'ssp370-lowNTCF', 'ssp534-over', 'esm-ssp585-allGHG',\n",
       "       'esm-ssp126-allGHG', 'esm-ssp370', 'esm-hist-cmip5',\n",
       "       'esm-rcp85-allGHG', 'esm-ssp119-allGHG', 'historical-cmip5',\n",
       "       'esm-ssp370-lowNTCF-aerchemmip-allGHG', 'esm-piControl-allGHG',\n",
       "       'esm-ssp460-allGHG', 'esm-ssp245', 'esm-pi-cdr-pulse',\n",
       "       'esm-rcp45-allGHG', '1pctCO2-rad', 'esm-bell-2000PgC',\n",
       "       'esm-1pct-brch-750PgC', 'hist-volc', 'ssp370', 'esm-ssp126',\n",
       "       'abrupt-2xCO2', 'esm-hist', 'hist-GHG',\n",
       "       'esm-ssp370-lowNTCF-allGHG', 'esm-bell-1000PgC',\n",
       "       'esm-ssp434-allGHG', '1pctCO2-cdr', '1pctCO2',\n",
       "       'ssp370-lowNTCF-aerchemmip', 'abrupt-0p5xCO2', 'esm-ssp370-allGHG',\n",
       "       'piControl', 'rcp45'], dtype=object)"
      ]
     },
     "execution_count": 5,
     "metadata": {},
     "output_type": "execute_result"
    }
   ],
   "source": [
    "fair_scm.Scenario.unique()"
   ]
  },
  {
   "cell_type": "code",
   "execution_count": null,
   "metadata": {},
   "outputs": [],
   "source": []
  }
 ],
 "metadata": {
  "kernelspec": {
   "display_name": "Python 3",
   "language": "python",
   "name": "python3"
  },
  "language_info": {
   "codemirror_mode": {
    "name": "ipython",
    "version": 3
   },
   "file_extension": ".py",
   "mimetype": "text/x-python",
   "name": "python",
   "nbconvert_exporter": "python",
   "pygments_lexer": "ipython3",
   "version": "3.7.3"
  }
 },
 "nbformat": 4,
 "nbformat_minor": 4
}
