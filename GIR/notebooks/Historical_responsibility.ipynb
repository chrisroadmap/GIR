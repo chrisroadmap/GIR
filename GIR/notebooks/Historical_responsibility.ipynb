{
 "cells": [
  {
   "cell_type": "markdown",
   "metadata": {},
   "source": [
    "### Import Dependencies"
   ]
  },
  {
   "cell_type": "code",
   "execution_count": 1,
   "metadata": {
    "jupyter": {
     "source_hidden": true
    }
   },
   "outputs": [
    {
     "name": "stderr",
     "output_type": "stream",
     "text": [
      "/home/leachl/miniconda3/lib/python3.7/site-packages/pandas/core/indexing.py:1762: PerformanceWarning: indexing past lexsort depth may impact performance.\n",
      "  return self._getitem_tuple(key)\n",
      "../tools/RCMIP.py:61: PerformanceWarning: indexing past lexsort depth may impact performance.\n",
      "  GIR_to_RCMIP_map.loc[RCMIP_to_GIR_map_concs.values(),'RCMIP_concs_unit'] = RCMIP_concs.loc[('World','ssp245')].reindex(RCMIP_to_GIR_map_concs.keys()).loc[:,'Unit'].values#.loc[('World','ssp245',RCMIP_to_GIR_map_concs.keys()),'Unit'].values\n"
     ]
    }
   ],
   "source": [
    "## Get dependencies ##\n",
    "\n",
    "import numpy as np\n",
    "import string\n",
    "import math\n",
    "import sys\n",
    "import pandas as pd\n",
    "import matplotlib.pyplot as plt\n",
    "import matplotlib\n",
    "sys.path.append('..')\n",
    "from GIR import *\n",
    "import scipy as sp\n",
    "import pickle\n",
    "import time\n",
    "import scipy as sp\n",
    "from scipy import signal\n",
    "from scipy.io.idl import readsav\n",
    "import os\n",
    "from mpl_toolkits.axes_grid1.inset_locator import inset_axes\n",
    "import glob\n",
    "import requests\n",
    "import ftplib\n",
    "import io\n",
    "import cmocean\n",
    "from bs4 import BeautifulSoup\n",
    "import urllib.request\n",
    "from io import StringIO, BytesIO\n",
    "from zipfile import ZipFile\n",
    "import tqdm\n",
    "import seaborn as sn\n",
    "import re\n",
    "import gc\n",
    "\n",
    "## get SSP emissions\n",
    "from tools.RCMIP import *\n",
    "\n",
    "header = {\n",
    "  \"User-Agent\": \"Mozilla/5.0 (X11; Linux x86_64) AppleWebKit/537.36 (KHTML, like Gecko) Chrome/50.0.2661.75 Safari/537.36\",\n",
    "  \"X-Requested-With\": \"XMLHttpRequest\"\n",
    "}\n",
    "    \n",
    "## Matplotlib rcparams setup:\n",
    "\n",
    "matplotlib.rcParams['font.family']='Helvetica'\n",
    "matplotlib.rcParams['font.size']=11\n",
    "# matplotlib.rcParams['font.weight']=400\n",
    "\n",
    "matplotlib.rcParams['image.cmap']='cmo.ice'\n",
    "\n",
    "matplotlib.rcParams['axes.prop_cycle']=matplotlib.cycler('color',['011936','FF7D00','225560','BFACAA','D72638','788C9B','A33F00','7CAAB0','685655','EB767C'])\n",
    "matplotlib.rcParams['axes.formatter.limits']=-3,3\n",
    "# matplotlib.rcParams['axes.labelweight']=300\n",
    "\n",
    "matplotlib.rcParams['legend.frameon']=False\n",
    "\n",
    "matplotlib.rcParams['boxplot.whiskers']=(5,95)\n",
    "matplotlib.rcParams['boxplot.showfliers']=False\n",
    "matplotlib.rcParams['boxplot.showfliers']=False\n",
    "matplotlib.rcParams['boxplot.medianprops.color']='black'\n",
    "\n",
    "matplotlib.rcParams['errorbar.capsize']=5\n",
    "\n",
    "matplotlib.rcParams['hist.bins']='auto'\n",
    "\n",
    "plt.rcParams['pdf.fonttype'] = 42\n",
    "\n",
    "%matplotlib inline\n",
    "\n",
    "%load_ext line_profiler\n",
    "%load_ext memory_profiler\n",
    "\n",
    "pd.set_option('display.max_column',100)\n"
   ]
  },
  {
   "cell_type": "markdown",
   "metadata": {},
   "source": [
    "## Import datasets"
   ]
  },
  {
   "cell_type": "code",
   "execution_count": 2,
   "metadata": {},
   "outputs": [],
   "source": [
    "## switch in GCP co2 emissions up to start of SSPs\n",
    "page = requests.get('https://data.icos-cp.eu/licence_accept?ids=%5B%226QlPjfn_7uuJtAeuGGFXuPwz%22%5D')\n",
    "GCP_historical_emissions=pd.read_excel(page.content,-1,skiprows=15,index_col=0,skipfooter=2).iloc[:-2,:2]\n",
    "GCP_historical_emissions.index = [int(x) for x in GCP_historical_emissions.index]\n",
    "# set 1750 value to 0\n",
    "GCP_historical_emissions.loc[1750,'fossil emissions excluding carbonation'] = 0\n",
    "# set 2020 value to projections\n",
    "GCP_historical_emissions.loc[2020] = [9.3,1.6]\n",
    "# linearly interpolate between 0 and first land-use-change datapoint\n",
    "GCP_historical_emissions.loc[1750:1849,'land-use change emissions'] = np.linspace(0,0.99,100) * GCP_historical_emissions.loc[1850,'land-use change emissions']"
   ]
  },
  {
   "cell_type": "code",
   "execution_count": 3,
   "metadata": {},
   "outputs": [],
   "source": [
    "# Get CEDS emission data\n",
    "CEDS_sector_files = glob.glob('/home/leachl/Documents/Datasets/Emissions/CEDS/CEDS_v_2020_09_11_emissions/*CEDS_emissions_by_sector_2020_09_11.csv')\n",
    "CEDS_sector_list = []\n",
    "for fname in CEDS_sector_files:\n",
    "    CEDS_sector_list+=[pd.read_csv(fname,index_col=[0,1,2])]\n",
    "\n",
    "CEDS_sector_data = pd.concat(CEDS_sector_list,axis=0)\n",
    "\n",
    "# need to remap the sectors in line with primap: see https://github.com/openclimatedata/ceds/blob/master/data/sectors.yaml\n",
    "CEDS_sector_cats = dict(zip(CEDS_sector_data.index.levels[1].tolist(),[1,1,1,1,2,2,2,2,2,2,2,2,2,2,2,2,2,1,1,1,1,1,1,1,1,1,1,3,5,1,1,1,2,2,2,2,2,2,2,2,2,2,2,3,3,3,3,3,4,4,4,4,4,4,1]))\n",
    "\n",
    "CEDS_country_files = glob.glob('/home/leachl/Documents/Datasets/Emissions/CEDS/CEDS_v_2020_09_11_emissions/*CEDS_emissions_by_country_2020_09_11.csv')\n",
    "CEDS_country_list = []\n",
    "for fname in CEDS_country_files:\n",
    "    CEDS_country_list+=[pd.read_csv(fname,index_col=[0,1,2])]\n",
    "\n",
    "CEDS_country_data = pd.concat(CEDS_country_list,axis=0)\n",
    "\n",
    "CEDS_sector_data.columns = [int(x[1:]) for x in CEDS_sector_data.columns]\n",
    "CEDS_sector_data = CEDS_sector_data.rename(CEDS_sector_cats,level=1).groupby(level=(0,1,2)).sum().swaplevel(0,1).sort_index()\n",
    "\n",
    "CEDS_country_data.columns = [int(x[1:]) for x in CEDS_country_data.columns]\n",
    "CEDS_country_data = CEDS_country_data.rename(dict(zip([x for x in CEDS_country_data.index.levels[1]],[x.upper() for x in CEDS_country_data.index.levels[1]])),level=1).swaplevel(0,1)\n",
    "\n",
    "## rename species\n",
    "rename_CEDS = dict(BC='bc',CO='co',NH3='nh3',NMVOC='nmvoc',NOx='nox',OC='oc',SO2='so2')\n",
    "\n",
    "CEDS_country_data = CEDS_country_data.rename(rename_CEDS,level=1)\n",
    "CEDS_sector_data = CEDS_sector_data.rename(rename_CEDS,level=1)"
   ]
  },
  {
   "cell_type": "code",
   "execution_count": 4,
   "metadata": {},
   "outputs": [],
   "source": [
    "# Get PRIMAP emission data\n",
    "PRIMAP_data = pd.read_csv('/home/leachl/Documents/Datasets/Emissions/PRIMAP-hist/PRIMAP-hist_v2.1_09-Nov-2019.csv',index_col=[0,1,2,3,4]).loc['HISTTP']\n",
    "PRIMAP_data.columns = [int(x) for x in PRIMAP_data.columns]\n",
    "\n",
    "PRIMAP_sector_data = PRIMAP_data.loc[('EARTH',['IPC1','IPC2','IPCMAG','IPC4','IPC5'],['CO2','CH4','N2O','HFCS','PFCS','NF3','SF6']),:].droplevel((0)).rename(dict(zip(['IPC1','IPC2','IPCMAG','IPC4','IPC5'],[1,2,3,4,5]))).sort_index()\n",
    "PRIMAP_country_data = PRIMAP_data.xs('IPCM0EL',level=1).loc[(slice(None),['CO2','CH4','N2O','HFCS','PFCS','NF3','SF6']),:].sort_index()\n",
    "\n",
    "## rename species\n",
    "rename_PRIMAP = dict(CH4='methane',CO2='carbon_dioxide',N2O='nitrous_oxide',HFCS='HFCs',NF3='nf3',PFCS='PFCs',SF6='sf6')\n",
    "\n",
    "PRIMAP_sector_data = PRIMAP_sector_data.rename(rename_PRIMAP,level=1)\n",
    "PRIMAP_sector_data = PRIMAP_sector_data.reindex(np.arange(1750,2020),axis=1).interpolate(limit=200,limit_direction='both',limit_area=None,axis=1)\n",
    "\n",
    "PRIMAP_country_data = PRIMAP_country_data.rename(rename_PRIMAP,level=1)\n",
    "PRIMAP_country_data = PRIMAP_country_data.reindex(np.arange(1750,2020),axis=1).interpolate(limit=200,limit_direction='both',limit_area=None,axis=1)"
   ]
  },
  {
   "cell_type": "code",
   "execution_count": 5,
   "metadata": {},
   "outputs": [],
   "source": [
    "# Get ODS data\n",
    "ODS_files = glob.glob('/home/leachl/Documents/Datasets/Emissions/UNEP_ozone/*.xlsx')\n",
    "ODS_list = [pd.read_excel(x,index_col=0,header=1) for x in ODS_files]\n",
    "ODS_keys = [x.split('/')[-1].split('.')[0] for x in ODS_files]\n",
    "ODS_data = pd.concat(ODS_list,axis=0,keys=ODS_keys).iloc[:,:-2]\n",
    "ODS_data.columns = ODS_data.columns.astype(int)"
   ]
  },
  {
   "cell_type": "code",
   "execution_count": 6,
   "metadata": {},
   "outputs": [
    {
     "name": "stderr",
     "output_type": "stream",
     "text": [
      "/home/leachl/miniconda3/lib/python3.7/site-packages/ipykernel_launcher.py:3: PerformanceWarning: indexing past lexsort depth may impact performance.\n",
      "  This is separate from the ipykernel package so we can avoid doing imports until\n"
     ]
    }
   ],
   "source": [
    "## population data\n",
    "UN_desa_population = pd.read_csv('/home/leachl/Documents/Datasets/Socioeconomic_data/WPP2019_TotalPopulationBySex.csv').set_index('Time').loc[ODS_data.columns,('LocID','PopTotal')].reset_index().set_index(['Time','LocID']).unstack(level=0)\n",
    "UN_global_total = pd.read_csv('/home/leachl/Documents/Datasets/Socioeconomic_data/WPP2019_TotalPopulationBySex.csv').set_index(['Location','Time']).loc['World','PopTotal']"
   ]
  },
  {
   "cell_type": "code",
   "execution_count": 7,
   "metadata": {},
   "outputs": [],
   "source": [
    "## Get country name / code meta\n",
    "\n",
    "page = requests.get('https://en.wikipedia.org/wiki/List_of_ISO_3166_country_codes')\n",
    "soup = BeautifulSoup(page.content, 'html.parser')\n",
    "\n",
    "table = soup.find('table', attrs={'class':'wikitable sortable'})\n",
    "table_body = table.find('tbody')\n",
    "\n",
    "for sup in table_body.find_all('sup'):\n",
    "    sup.decompose()\n",
    "\n",
    "data = []\n",
    "rows = table_body.find_all('tr')\n",
    "for row in rows:\n",
    "    cols = row.find_all('td')\n",
    "    cols = [ele.text.strip() for ele in cols]\n",
    "    data.append([ele for ele in cols if ele]) # Get rid of empty values\n",
    "    \n",
    "country_id_data_incl_nonsov = pd.DataFrame(data[2:],columns = ['Name','Official Name','Sovreignty','alpha-2','alpha-3','numeric',0,1]).drop([0,1],axis=1).set_index('numeric')\n",
    "country_id_data_incl_nonsov.loc['004','alpha-2'] = 'AF'\n",
    "country_id_data = country_id_data_incl_nonsov.loc[country_id_data_incl_nonsov.Sovreignty.isin(['UN member state','UN observer'])]"
   ]
  },
  {
   "cell_type": "code",
   "execution_count": 8,
   "metadata": {},
   "outputs": [
    {
     "name": "stderr",
     "output_type": "stream",
     "text": [
      "/home/leachl/miniconda3/lib/python3.7/site-packages/ipykernel_launcher.py:10: DeprecationWarning: The default dtype for empty Series will be 'object' instead of 'float64' in a future version. Specify a dtype explicitly to silence this warning.\n",
      "  # Remove the CWD from sys.path while we load stuff.\n"
     ]
    }
   ],
   "source": [
    "from fuzzywuzzy import fuzz\n",
    "## wrangle data into emission proportions\n",
    "### -> parse categories into specific emissions\n",
    "### -> estimate sectoral ODS emissions based on country regressions\n",
    "\n",
    "#### Step 1: convert all country references into alpha-3 codes:\n",
    "##### CEDS and PRIMAP already done\n",
    "\n",
    "##### ODS data:\n",
    "ODS_country_map = pd.Series(index=ODS_data.index.levels[1],name='alpha-3')\n",
    "\n",
    "for country in ODS_country_map.index:\n",
    "    try:\n",
    "        ODS_country_map.loc[country] = country_id_data.loc[[country in x.values for i,x in country_id_data.iterrows()],'alpha-3'].values[0]\n",
    "    except Exception:\n",
    "        pass\n",
    "    \n",
    "unmatched = ODS_country_map.loc[ODS_country_map.isna()]\n",
    "\n",
    "for country in unmatched.index:\n",
    "    scores = np.array([fuzz.ratio(country.lower(),x.lower()) for x in country_id_data.Name.tolist()])\n",
    "    unmatched.loc[country] = country_id_data['alpha-3'].tolist()[scores.argmax()]\n",
    "    \n",
    "## manually match the rest\n",
    "unmatched.loc[['Congo','Cook Islands','Czech Republic','European Union','Gambia','Niger','Niue','Republic of Moldova','State of Palestine','Sudan']] = ['COG','COK','CZE','EU28','GMB','NER','NIU','MDA','PSE','SDN']\n",
    "\n",
    "ODS_country_map.loc[unmatched.index] = unmatched.values\n",
    "\n",
    "## convert ODS index to alpha-3\n",
    "ODS_data_remap = ODS_data.rename(ODS_country_map.to_dict(),axis=0,level=1)\n",
    "ODS_data_remap.index.set_names('em',level=0,inplace=True)\n",
    "\n",
    "## finally reformat into neat array\n",
    "ODS_country_data = ODS_data_remap.swaplevel(0,1).sort_index()\n",
    "\n",
    "ODS_sector_data = ODS_data_remap.groupby(level=0).sum().reset_index().sort_index()\n",
    "ODS_sector_data['sector'] = 2\n",
    "ODS_sector_data = ODS_sector_data.set_index(['em','sector']).swaplevel(0,1)\n",
    "\n",
    "## rename species\n",
    "rename_ODS = dict(Bromochloromethane='BCM',CFCs='CFCs',HBFCs='HBFCs',HCFCs='HCFCs',HFCs='HFCs',Halons='HALONs',carb_tet='carbon_tetrachloride',methyl_bromide='methyl_bromide',methyl_chloroform='ch3ccl3',other_fully_halogenated_cfcs='oCFCs')\n",
    "\n",
    "ODS_sector_data = ODS_sector_data.rename(rename_ODS,level=1).drop(['BCM','HFCs','oCFCs'],level=1)\n",
    "ODS_country_data = ODS_country_data.rename(rename_ODS,level=1).drop(['BCM','HFCs','oCFCs'],level=1)"
   ]
  },
  {
   "cell_type": "markdown",
   "metadata": {},
   "source": [
    "#### method for estimating sectoral emissions of ODSs\n",
    "\n",
    "- All HFC emissions in PRIMAP are in sector 2\n",
    "- Hence I shall assume all ODS emissions are also in sector 2 (seems reasonable enough)"
   ]
  },
  {
   "cell_type": "markdown",
   "metadata": {},
   "source": [
    "#### Land-use change enmissions (LULUCF)\n",
    "\n",
    "- for now exclude from country estimates"
   ]
  },
  {
   "cell_type": "code",
   "execution_count": 9,
   "metadata": {
    "jupyter": {
     "source_hidden": true
    }
   },
   "outputs": [],
   "source": [
    "# ### Land use change emission proportion estimates:\n",
    "# FAOSTAT_luc = pd.read_csv('/home/leachl/Documents/Datasets/Socioeconomic_data/FAOSTAT_data_12-29-2020_LUC_by_country.csv')#,usecols=[2,3,9,10,11],index_col=[0,1,2,3])#.unstack(level=2)\n",
    "# print(FAOSTAT_luc.Element.unique())\n",
    "# print(FAOSTAT_luc.Item.unique())"
   ]
  },
  {
   "cell_type": "code",
   "execution_count": 10,
   "metadata": {
    "jupyter": {
     "source_hidden": true
    }
   },
   "outputs": [],
   "source": [
    "# FAOSTAT_luc.loc[(FAOSTAT_luc.Element=='Net emissions/removals (CO2)')&(FAOSTAT_luc.Item=='Land Use total')].set_index(['Area','Year'])['Value'].groupby(level=0).mean()"
   ]
  },
  {
   "cell_type": "markdown",
   "metadata": {},
   "source": [
    "## Construct parameter ensembles"
   ]
  },
  {
   "cell_type": "code",
   "execution_count": 11,
   "metadata": {},
   "outputs": [],
   "source": [
    "FULL_probabilities = pd.read_hdf('../Parameter_Sets/NROY_GWI_informed/FULL_member_selection_probabilities.h5')\n",
    "GWI_constraint = FULL_probabilities>np.random.random(FULL_probabilities.size)"
   ]
  },
  {
   "cell_type": "code",
   "execution_count": 12,
   "metadata": {},
   "outputs": [],
   "source": [
    "def get_GWI_ensemble_parameters(ensemble_size=10000):\n",
    "\n",
    "    gas_param_ensemble = []\n",
    "    thermal_param_ensemble = []\n",
    "    EXT_forc_sfs = []\n",
    "\n",
    "    gas_param_files = sorted(glob.glob('../Parameter_Sets/NROY_GWI_informed/gas_params*'))\n",
    "    response_param_files = sorted(glob.glob('../Parameter_Sets/NROY_GWI_informed/response_params*'))\n",
    "    EXT_forc_files = sorted(glob.glob('../Parameter_Sets/NROY_GWI_informed/EXT_forc*'))\n",
    "\n",
    "    mems_selected=0\n",
    "    i=0\n",
    "\n",
    "    while mems_selected <= ensemble_size:\n",
    "\n",
    "        unconstrained_data = pd.read_pickle(gas_param_files[i])\n",
    "        mems_constraint = GWI_constraint.reindex(unconstrained_data.columns.levels[0]).replace(False,np.nan).dropna().index\n",
    "        gas_param_ensemble += [unconstrained_data.reindex(mems_constraint,axis=1,level=0)]\n",
    "        unconstrained_data = pd.read_pickle(response_param_files[i])\n",
    "        thermal_param_ensemble += [unconstrained_data.reindex(mems_constraint,axis=1,level=0)]\n",
    "        unconstrained_data = pd.read_pickle(EXT_forc_files[i])\n",
    "        EXT_forc_sfs += [unconstrained_data.reindex(mems_constraint,axis=1)]\n",
    "\n",
    "        mems_selected += mems_constraint.size\n",
    "\n",
    "        i+=1\n",
    "\n",
    "    thermal_param_ensemble = pd.concat(thermal_param_ensemble,axis=1)\n",
    "    gas_param_ensemble = pd.concat(gas_param_ensemble,axis=1)\n",
    "    EXT_forc_sfs = pd.concat(EXT_forc_sfs,axis=1)\n",
    "    \n",
    "    return gas_param_ensemble,thermal_param_ensemble,EXT_forc_sfs"
   ]
  },
  {
   "cell_type": "code",
   "execution_count": 13,
   "metadata": {},
   "outputs": [],
   "source": [
    "def get_specific_GWI_param_set(chosen_param_sets):\n",
    "    \n",
    "    gas_param_ensemble = []\n",
    "    thermal_param_ensemble = []\n",
    "    EXT_forc_sfs = []\n",
    "\n",
    "    while chosen_param_sets:\n",
    "\n",
    "        start_index = int(chosen_param_sets[0][3:])//10000\n",
    "\n",
    "        chosen_mems = [x for x in chosen_param_sets if int(x[3:])//10000 == start_index]\n",
    "\n",
    "        [chosen_param_sets.remove(x) for x in chosen_mems]\n",
    "\n",
    "        gas_param_data = pd.read_pickle('../Parameter_Sets/NROY_GWI_informed/gas_params_mem'+str(start_index*10000)+'-mem'+str(start_index*10000+9999)+'_default.pkl')\n",
    "        response_param_data = pd.read_pickle('../Parameter_Sets/NROY_GWI_informed/response_params_mem'+str(start_index*10000)+'-mem'+str(start_index*10000+9999)+'_default.pkl')\n",
    "        EXT_forc_data = pd.read_pickle('../Parameter_Sets/NROY_GWI_informed/EXT_forc_mem'+str(start_index*10000)+'-mem'+str(start_index*10000+9999)+'_default.pkl')\n",
    "\n",
    "        gas_param_ensemble += [gas_param_data.reindex(chosen_mems,axis=1,level=0)]\n",
    "        thermal_param_ensemble += [response_param_data.reindex(chosen_mems,axis=1,level=0)]\n",
    "        EXT_forc_sfs += [EXT_forc_data.reindex(chosen_mems,axis=1)]\n",
    "\n",
    "    thermal_param_ensemble = pd.concat(thermal_param_ensemble,axis=1)\n",
    "    gas_param_ensemble = pd.concat(gas_param_ensemble,axis=1)\n",
    "    EXT_forc_sfs = pd.concat(EXT_forc_sfs,axis=1)\n",
    "    \n",
    "    return gas_param_ensemble,thermal_param_ensemble,EXT_forc_sfs"
   ]
  },
  {
   "cell_type": "code",
   "execution_count": 14,
   "metadata": {},
   "outputs": [],
   "source": [
    "# start off with 10,000 member ensemble\n",
    "\n",
    "# gas_param_ensemble,thermal_param_ensemble,EXT_forc_sfs = get_GWI_ensemble_parameters(ensemble_size=15000)\n",
    "\n",
    "chosen_param_sets = [x[0] for x in pd.read_hdf('../../../FaIR_projection_interactive/attribution_experiments/countries/AFG.h5').columns.tolist()]\n",
    "gas_param_ensemble,thermal_param_ensemble,EXT_forc_sfs = get_specific_GWI_param_set(chosen_param_sets)"
   ]
  },
  {
   "cell_type": "code",
   "execution_count": 15,
   "metadata": {},
   "outputs": [],
   "source": [
    "def run_NROY_standard_ssp(ssp,gas_param_ensemble,thermal_param_ensemble,EXT_forc_sfs):\n",
    "\n",
    "    ssp_emms = RCMIP_to_GIR_input_emms(ssp).interpolate().reindex(np.arange(1750,2020))\n",
    "    ssp_emms -= ssp_emms.loc[1750] # emissions relative to 1750 values\n",
    "    ssp_emms.loc[:2019,'carbon_dioxide'] = GCP_historical_emissions.sum(axis=1).loc[1750:2019].values\n",
    "\n",
    "    mem_names = gas_param_ensemble.columns.levels[0]\n",
    "    N = gas_param_ensemble.columns.levels[0].size\n",
    "\n",
    "    erf_ar6 = pd.read_csv('https://raw.githubusercontent.com/Priestley-Centre/ssp_erf/master/SSPs/ERF_'+ssp+'_1750-2500.csv',index_col=0,dtype=float)\n",
    "    \n",
    "    ## LUC\n",
    "    LUC_forc_ensemble = pd.concat([erf_ar6['land_use'].reindex(np.arange(1750,2020))]*mem_names.size,axis=1,keys=mem_names)*EXT_forc_sfs.loc['LUC']\n",
    "\n",
    "    ## Natural\n",
    "    volc_forc_ensemble = pd.concat([erf_ar6['volcanic'].reindex(np.arange(1750,2020))]*mem_names.size,axis=1,keys=mem_names)*EXT_forc_sfs.loc['volc']\n",
    "    sol_forc_ensemble = pd.concat([erf_ar6['solar'].reindex(np.arange(1750,2020))]*mem_names.size,axis=1,keys=mem_names)*EXT_forc_sfs.loc['sol']\n",
    "\n",
    "    ssp_forc = pd.concat([LUC_forc_ensemble+volc_forc_ensemble+sol_forc_ensemble],axis=1,keys=['forcing']).swaplevel(0,1,axis=1)\n",
    "\n",
    "    ssp_emms_run = pd.concat([ssp_emms]*N,axis=1,keys=gas_param_ensemble.columns.levels[0])\n",
    "\n",
    "    results = run_GIR(emissions_in=ssp_emms_run,forcing_in=ssp_forc,gas_parameters=gas_param_ensemble,thermal_parameters=thermal_param_ensemble,show_run_info=False)\n",
    "\n",
    "    return results"
   ]
  },
  {
   "cell_type": "markdown",
   "metadata": {},
   "source": [
    "## Tier 1: Attribution to forcing drivers"
   ]
  },
  {
   "cell_type": "code",
   "execution_count": 16,
   "metadata": {},
   "outputs": [],
   "source": [
    "### step 0: set forcing categories:\n",
    "default_params = pd.read_csv('../Parameter_Sets/Complete_gas_cycle_params.csv',skiprows=1,index_col=0)\n",
    "forcing_namelist = list(default_params.columns)\n",
    "\n",
    "param_categories = {}\n",
    "param_categories['other_wmghgs'] = ['c2f6', 'c3f8', 'c4f10', 'c5f12', 'c6f14', 'c7f16', 'c8f18', 'c_c4f8','carbon_tetrachloride', 'cf4', 'cfc113', 'cfc114', 'cfc115', 'cfc11', 'cfc12', 'ch2cl2', 'ch3ccl3', 'chcl3', 'halon1211', 'halon1301', 'halon2402', 'hcfc141b', 'hcfc142b', 'hcfc22', 'hfc125', 'hfc134a', 'hfc143a', 'hfc152a', 'hfc227ea', 'hfc236fa', 'hfc23', 'hfc245fa', 'hfc32', 'hfc365mfc', 'hfc4310mee', 'methyl_bromide', 'methyl_chloride', 'nf3', 'sf6', 'so2f2', 'halon1202']\n",
    "param_categories['other_wmghgs'] = [x for x in forcing_namelist if x.split('|')[0] in param_categories['other_wmghgs']]\n",
    "param_categories['f_gases'] = ['c2f6', 'c3f8', 'c4f10', 'c5f12', 'c6f14', 'c7f16', 'c8f18', 'c_c4f8','nf3', 'sf6', 'so2f2','cf4','hfc125', 'hfc134a', 'hfc143a', 'hfc152a', 'hfc227ea', 'hfc236fa', 'hfc23', 'hfc245fa', 'hfc32', 'hfc365mfc', 'hfc4310mee']\n",
    "param_categories['f_gases'] = [x for x in forcing_namelist if x.split('|')[0] in param_categories['f_gases']]\n",
    "param_categories['montreal_gases'] = ['carbon_tetrachloride','cfc113', 'cfc114', 'cfc115', 'cfc11', 'cfc12', 'ch2cl2', 'ch3ccl3', 'chcl3', 'halon1211', 'halon1301', 'halon2402', 'hcfc141b', 'hcfc142b', 'hcfc22','halon1202','methyl_bromide', 'methyl_chloride']\n",
    "param_categories['montreal_gases'] = [x for x in forcing_namelist if x.split('|')[0] in param_categories['montreal_gases']]\n",
    "param_categories['carbon_dioxide'] = ['carbon_dioxide']\n",
    "param_categories['carbon_dioxide'] = [x for x in forcing_namelist if x.split('|')[0] in param_categories['carbon_dioxide']]\n",
    "param_categories['methane'] = ['methane']\n",
    "param_categories['methane'] = [x for x in forcing_namelist if x.split('|')[0] in param_categories['methane']]\n",
    "param_categories['nitrous_oxide'] = ['nitrous_oxide']\n",
    "param_categories['nitrous_oxide'] = [x for x in forcing_namelist if x.split('|')[0] in param_categories['nitrous_oxide']]\n",
    "param_categories['kyoto_basket'] = param_categories['methane']+param_categories['nitrous_oxide']+param_categories['carbon_dioxide']+param_categories['f_gases']\n",
    "param_categories['trop_o3'] = [x for x in forcing_namelist if '|trop_o3' in x]\n",
    "param_categories['strat_o3'] = [x for x in forcing_namelist if '|strat_o3' in x]\n",
    "param_categories['strat_h2o'] = [x for x in forcing_namelist if '|strat_h2o' in x]\n",
    "param_categories['ari'] = ['so2', 'nox', 'co', 'nmvoc', 'bc', 'nh3','oc','nox_avi']\n",
    "param_categories['aci'] = ['so2|aci','oc|aci','bc|aci']\n",
    "param_categories['aer'] = param_categories['aci'] + param_categories['ari']\n",
    "param_categories['bc_on_snow'] = ['bc|bc_on_snow']\n",
    "param_categories['contrails'] = ['nox_avi|contrails']\n",
    "\n",
    "### invert forcing categories for groupby:\n",
    "# param_categories_inv = pd.DataFrame(param_categories).reset_index()"
   ]
  },
  {
   "cell_type": "code",
   "execution_count": 17,
   "metadata": {},
   "outputs": [],
   "source": [
    "param_categories_inv = {}\n",
    "for key,value in param_categories.items():\n",
    "    if key in ['f_gases', 'montreal_gases', 'carbon_dioxide', 'methane', 'nitrous_oxide', 'trop_o3', 'strat_o3', 'strat_h2o', 'aer', 'bc_on_snow', 'contrails']:\n",
    "        for species in value:\n",
    "            param_categories_inv[species] = key"
   ]
  },
  {
   "cell_type": "code",
   "execution_count": 18,
   "metadata": {},
   "outputs": [
    {
     "name": "stderr",
     "output_type": "stream",
     "text": [
      "100%|██████████| 269/269 [00:29<00:00,  9.04 timestep/s]\n"
     ]
    }
   ],
   "source": [
    "# ## step 1: baseline run\n",
    "\n",
    "# baseline = run_NROY_standard_ssp('ssp245',gas_param_ensemble,thermal_param_ensemble,EXT_forc_sfs)\n",
    "\n",
    "# baseline_temp = baseline['T']"
   ]
  },
  {
   "cell_type": "code",
   "execution_count": 19,
   "metadata": {},
   "outputs": [],
   "source": [
    "# ## now remove the forcing impact of each param category:\n",
    "# ### can always change the categories at the start if desired\n",
    "# ### decide whether to include indirect forcing too (yes for now)\n",
    "\n",
    "# attr_temp_list = []\n",
    "\n",
    "# chosen_cats = ['f_gases', 'montreal_gases', 'carbon_dioxide', 'methane', 'nitrous_oxide', 'trop_o3', 'strat_o3', 'strat_h2o', 'aer', 'bc_on_snow', 'contrails']\n",
    "\n",
    "# for param_cat in chosen_cats:\n",
    "    \n",
    "#     print('getting '+param_cat)\n",
    "\n",
    "#     params_to_reset = param_categories[param_cat]\n",
    "\n",
    "#     gas_param_ensemble_pert = gas_param_ensemble.copy()\n",
    "\n",
    "#     for f_param in ['f1','f2','f3']:\n",
    "#         gas_param_ensemble_pert.loc[f_param].loc[slice(None),params_to_reset]=0\n",
    "\n",
    "#     pert_run = run_NROY_standard_ssp('ssp245',gas_param_ensemble_pert,thermal_param_ensemble,EXT_forc_sfs)['T']\n",
    "    \n",
    "#     attr_temp_list += [baseline_temp-pert_run]"
   ]
  },
  {
   "cell_type": "code",
   "execution_count": 20,
   "metadata": {},
   "outputs": [],
   "source": [
    "# ## LUC\n",
    "\n",
    "# EXT_forc_sfs_pert = EXT_forc_sfs.copy()\n",
    "# EXT_forc_sfs_pert.loc['LUC'] = 0\n",
    "\n",
    "# pert_run = run_NROY_standard_ssp('ssp245',gas_param_ensemble,thermal_param_ensemble,EXT_forc_sfs_pert)['T']\n",
    "    \n",
    "# attr_temp_list += [baseline_temp-pert_run]"
   ]
  },
  {
   "cell_type": "code",
   "execution_count": 21,
   "metadata": {},
   "outputs": [],
   "source": [
    "# ## natural\n",
    "\n",
    "# EXT_forc_sfs_pert = EXT_forc_sfs.copy()\n",
    "# EXT_forc_sfs_pert.loc[['volc','sol']] = 0\n",
    "\n",
    "# pert_run = run_NROY_standard_ssp('ssp245',gas_param_ensemble,thermal_param_ensemble,EXT_forc_sfs_pert)['T']\n",
    "    \n",
    "# attr_temp_list += [baseline_temp-pert_run]"
   ]
  },
  {
   "cell_type": "code",
   "execution_count": 22,
   "metadata": {},
   "outputs": [],
   "source": [
    "# ## anthro\n",
    "\n",
    "# gas_param_ensemble_pert = gas_param_ensemble.copy()\n",
    "\n",
    "# for f_param in ['f1','f2','f3']:\n",
    "#         gas_param_ensemble_pert.loc[f_param] = 0\n",
    "        \n",
    "# EXT_forc_sfs_pert = EXT_forc_sfs.copy()\n",
    "# EXT_forc_sfs_pert.loc['LUC'] = 0\n",
    "\n",
    "# pert_run = run_NROY_standard_ssp('ssp245',gas_param_ensemble_pert,thermal_param_ensemble,EXT_forc_sfs_pert)['T']\n",
    "\n",
    "# attr_temp_list += [baseline_temp-pert_run]"
   ]
  },
  {
   "cell_type": "code",
   "execution_count": 23,
   "metadata": {},
   "outputs": [],
   "source": [
    "# attr_temps_forc = pd.concat(attr_temp_list,axis=1,keys=chosen_cats+['LUC','natural','anthropogenic'])"
   ]
  },
  {
   "cell_type": "code",
   "execution_count": 24,
   "metadata": {},
   "outputs": [],
   "source": [
    "# attr_temps_forc.columns.levels[0]"
   ]
  },
  {
   "cell_type": "code",
   "execution_count": 25,
   "metadata": {},
   "outputs": [],
   "source": [
    "# (attr_temps_forc['methane']-attr_temps_forc['methane'].loc[1850:1900].mean()).quantile([0.05,0.17,0.5,0.83,0.95],axis=1).T.plot()"
   ]
  },
  {
   "cell_type": "code",
   "execution_count": 26,
   "metadata": {},
   "outputs": [],
   "source": [
    "# attr_temps_forc.to_hdf(r'../../../FaIR_projection_interactive/attribution_experiments/forcing-attributed-temps.h5', key='stage', mode='w')"
   ]
  },
  {
   "cell_type": "markdown",
   "metadata": {},
   "source": [
    "## Tier 2: Attribution to sectors"
   ]
  },
  {
   "cell_type": "code",
   "execution_count": 27,
   "metadata": {},
   "outputs": [],
   "source": [
    "## get emissions:\n",
    "\n",
    "ssp='ssp245'\n",
    "\n",
    "baseline_emms = RCMIP_to_GIR_input_emms(ssp).interpolate().reindex(np.arange(1750,2020))\n",
    "baseline_emms -= baseline_emms.loc[1750] # emissions relative to 1750 values\n",
    "baseline_emms.loc[:2019,'carbon_dioxide'] = GCP_historical_emissions.sum(axis=1).loc[1750:2019]\n",
    "\n",
    "mem_names = gas_param_ensemble.columns.levels[0]\n",
    "N = gas_param_ensemble.columns.levels[0].size"
   ]
  },
  {
   "cell_type": "code",
   "execution_count": 28,
   "metadata": {},
   "outputs": [],
   "source": [
    "## aggregate species into categories:\n",
    "PRIMAP_sector_data.index.levels[1]\n",
    "\n",
    "category_map = dict(HFCs=[x for x in baseline_emms.columns if x[:3] == 'hfc'],\\\n",
    "                   PFCs=['c2f6', 'c3f8', 'c4f10', 'c5f12', 'c6f14', 'c7f16', 'c8f18', 'c_c4f8','cf4'],\\\n",
    "                   CFCs=[x for x in baseline_emms.columns if x[:3]=='cfc'],\\\n",
    "                   HALONs=[x for x in baseline_emms.columns if x[:5]=='halon'],\\\n",
    "                   HCFCs=[x for x in baseline_emms.columns if x[:4]=='hcfc'])"
   ]
  },
  {
   "cell_type": "code",
   "execution_count": 29,
   "metadata": {},
   "outputs": [],
   "source": [
    "def run_sectoral_pert(choose_sector,gas_param_ensemble,thermal_param_ensemble,EXT_forc_sfs):\n",
    "    \n",
    "    mem_names = gas_param_ensemble.columns.levels[0]\n",
    "    N = gas_param_ensemble.columns.levels[0].size\n",
    "\n",
    "    ## Forcing first - only need to add LUC for sector 3\n",
    "    erf_ar6 = pd.read_csv('https://raw.githubusercontent.com/Priestley-Centre/ssp_erf/master/SSPs/ERF_'+ssp+'_1750-2500.csv',index_col=0,dtype=float)\n",
    "\n",
    "    ## LUC\n",
    "    LUC_forc_ensemble = pd.concat([erf_ar6['land_use'].reindex(np.arange(1750,2020))]*mem_names.size,axis=1,keys=mem_names)*EXT_forc_sfs.loc['LUC']\n",
    "    \n",
    "    if choose_sector==3:\n",
    "        LUC_forc_ensemble.loc[:] = 0\n",
    "\n",
    "    ## Natural\n",
    "    volc_forc_ensemble = pd.concat([erf_ar6['volcanic'].reindex(np.arange(1750,2020))]*mem_names.size,axis=1,keys=mem_names)*EXT_forc_sfs.loc['volc']\n",
    "    sol_forc_ensemble = pd.concat([erf_ar6['solar'].reindex(np.arange(1750,2020))]*mem_names.size,axis=1,keys=mem_names)*EXT_forc_sfs.loc['sol']\n",
    "\n",
    "    sectoral_forc = pd.concat([LUC_forc_ensemble+volc_forc_ensemble+sol_forc_ensemble],axis=1,keys=['forcing']).swaplevel(0,1,axis=1)\n",
    "\n",
    "    ## need to apply CO2 reduction to fossil co2 only\n",
    "    co2_ff = GCP_historical_emissions.loc[1750:2019,'fossil emissions excluding carbonation'].astype(float)\n",
    "    co2_LUC = GCP_historical_emissions.loc[1750:2019,'land-use change emissions'].astype(float)\n",
    "    \n",
    "    sectoral_emms = baseline_emms.copy()\n",
    "    \n",
    "\n",
    "    ## adding in CEDS based reductions\n",
    "    if choose_sector in CEDS_sector_data.index.levels[0]:\n",
    "\n",
    "        CEDS_sector_proportions = (CEDS_sector_data/(CEDS_sector_data.groupby(level=1).sum())).droplevel(2)\n",
    "\n",
    "        selected_sector_proportions = CEDS_sector_proportions.loc[choose_sector]\n",
    "\n",
    "        # remove the proportion attributed to the chosen sector:\n",
    "        for i,x in selected_sector_proportions.iterrows():\n",
    "            sectoral_emms.loc[:,i] *= 1-x\n",
    "\n",
    "        # treat nox_avi only for sector 1\n",
    "        if choose_sector==1:\n",
    "            sectoral_emms.loc[:,'nox_avi'] *= 1-selected_sector_proportions.loc['nox']\n",
    "\n",
    "\n",
    "    ## adding in PRIMAP\n",
    "    if choose_sector in PRIMAP_sector_data.index.levels[0]:\n",
    "    \n",
    "        PRIMAP_sector_proportions = (PRIMAP_sector_data / PRIMAP_sector_data.groupby(level=1).sum()).droplevel(2).replace(np.nan,1)\n",
    "\n",
    "        selected_sector_proportions = PRIMAP_sector_proportions.loc[choose_sector]\n",
    "        \n",
    "        ## co2 first\n",
    "        co2_ff *= 1-selected_sector_proportions.loc['carbon_dioxide'].values\n",
    "        \n",
    "        if choose_sector==3:\n",
    "            co2_LUC *= 0\n",
    "            \n",
    "        sectoral_emms.loc[:,'carbon_dioxide'] = co2_ff+co2_LUC\n",
    "\n",
    "        for species in ['methane','nitrous_oxide']:\n",
    "            sectoral_emms.loc[:,species] *= 1-selected_sector_proportions.loc[species]\n",
    "\n",
    "        ## if sector = 2 then change other categories too\n",
    "        if choose_sector==2:\n",
    "\n",
    "            # edit direct species first:\n",
    "            for species in ['nf3','sf6']:\n",
    "                sectoral_emms.loc[:,species] *= 1-selected_sector_proportions.loc[species]\n",
    "\n",
    "            for cat in ['HFCs','PFCs']:\n",
    "                for species in category_map[cat]:\n",
    "                    sectoral_emms.loc[:,species] *= 1-selected_sector_proportions.loc[cat]\n",
    "\n",
    "\n",
    "    ## finally, adding in ODS (which is all sector 2):\n",
    "    if choose_sector == 2:\n",
    "\n",
    "        for cat in ['CFCs','HCFCs','HALONs']:\n",
    "            for species in category_map[cat]:\n",
    "                sectoral_emms.loc[:,species] *= 0\n",
    "\n",
    "        for species in ['carbon_tetrachloride','methyl_bromide','ch3ccl3','ch2cl2', 'chcl3', 'methyl_chloride', 'so2f2']:\n",
    "            sectoral_emms.loc[:,species] *= 0\n",
    "            \n",
    "    sectoral_emms_run = pd.concat([sectoral_emms]*N,axis=1,keys=gas_param_ensemble.columns.levels[0])\n",
    "    \n",
    "    results = run_GIR(emissions_in=sectoral_emms_run,forcing_in=sectoral_forc,gas_parameters=gas_param_ensemble,thermal_parameters=thermal_param_ensemble,show_run_info=False)\n",
    "\n",
    "    return results"
   ]
  },
  {
   "cell_type": "code",
   "execution_count": 32,
   "metadata": {
    "collapsed": true,
    "jupyter": {
     "outputs_hidden": true
    }
   },
   "outputs": [
    {
     "ename": "KeyboardInterrupt",
     "evalue": "",
     "output_type": "error",
     "traceback": [
      "\u001b[0;31m---------------------------------------------------------------------------\u001b[0m",
      "\u001b[0;31mKeyboardInterrupt\u001b[0m                         Traceback (most recent call last)",
      "\u001b[0;32m<ipython-input-32-53f13187affb>\u001b[0m in \u001b[0;36m<module>\u001b[0;34m\u001b[0m\n\u001b[1;32m      3\u001b[0m \u001b[0;34m\u001b[0m\u001b[0m\n\u001b[1;32m      4\u001b[0m \u001b[0;32mfor\u001b[0m \u001b[0msector\u001b[0m \u001b[0;32min\u001b[0m \u001b[0mnp\u001b[0m\u001b[0;34m.\u001b[0m\u001b[0marange\u001b[0m\u001b[0;34m(\u001b[0m\u001b[0;36m1\u001b[0m\u001b[0;34m,\u001b[0m\u001b[0;36m6\u001b[0m\u001b[0;34m)\u001b[0m\u001b[0;34m:\u001b[0m\u001b[0;34m\u001b[0m\u001b[0;34m\u001b[0m\u001b[0m\n\u001b[0;32m----> 5\u001b[0;31m     \u001b[0msector_result\u001b[0m \u001b[0;34m=\u001b[0m \u001b[0mrun_sectoral_pert\u001b[0m\u001b[0;34m(\u001b[0m\u001b[0msector\u001b[0m\u001b[0;34m,\u001b[0m\u001b[0mgas_param_ensemble\u001b[0m\u001b[0;34m,\u001b[0m\u001b[0mthermal_param_ensemble\u001b[0m\u001b[0;34m,\u001b[0m\u001b[0mEXT_forc_sfs\u001b[0m\u001b[0;34m)\u001b[0m\u001b[0;34m\u001b[0m\u001b[0;34m\u001b[0m\u001b[0m\n\u001b[0m\u001b[1;32m      6\u001b[0m     \u001b[0msector_temp_list\u001b[0m \u001b[0;34m+=\u001b[0m \u001b[0;34m[\u001b[0m\u001b[0mbaseline_temp\u001b[0m\u001b[0;34m-\u001b[0m\u001b[0msector_result\u001b[0m\u001b[0;34m[\u001b[0m\u001b[0;34m'T'\u001b[0m\u001b[0;34m]\u001b[0m\u001b[0;34m]\u001b[0m\u001b[0;34m\u001b[0m\u001b[0;34m\u001b[0m\u001b[0m\n\u001b[1;32m      7\u001b[0m     \u001b[0msector_RF_list\u001b[0m \u001b[0;34m+=\u001b[0m \u001b[0;34m[\u001b[0m\u001b[0;34m(\u001b[0m\u001b[0mbaseline\u001b[0m\u001b[0;34m[\u001b[0m\u001b[0;34m'RF'\u001b[0m\u001b[0;34m]\u001b[0m\u001b[0;34m-\u001b[0m\u001b[0msector_result\u001b[0m\u001b[0;34m[\u001b[0m\u001b[0;34m'RF'\u001b[0m\u001b[0;34m]\u001b[0m\u001b[0;34m)\u001b[0m\u001b[0;34m.\u001b[0m\u001b[0mgroupby\u001b[0m\u001b[0;34m(\u001b[0m\u001b[0maxis\u001b[0m\u001b[0;34m=\u001b[0m\u001b[0;36m1\u001b[0m\u001b[0;34m,\u001b[0m\u001b[0mlevel\u001b[0m\u001b[0;34m=\u001b[0m\u001b[0;34m-\u001b[0m\u001b[0;36m1\u001b[0m\u001b[0;34m)\u001b[0m\u001b[0;34m.\u001b[0m\u001b[0mmean\u001b[0m\u001b[0;34m(\u001b[0m\u001b[0;34m)\u001b[0m\u001b[0;34m.\u001b[0m\u001b[0mgroupby\u001b[0m\u001b[0;34m(\u001b[0m\u001b[0mparam_categories_inv\u001b[0m\u001b[0;34m,\u001b[0m\u001b[0maxis\u001b[0m\u001b[0;34m=\u001b[0m\u001b[0;36m1\u001b[0m\u001b[0;34m)\u001b[0m\u001b[0;34m.\u001b[0m\u001b[0msum\u001b[0m\u001b[0;34m(\u001b[0m\u001b[0;34m)\u001b[0m\u001b[0;34m]\u001b[0m\u001b[0;34m\u001b[0m\u001b[0;34m\u001b[0m\u001b[0m\n",
      "\u001b[0;32m<ipython-input-29-2b1ce209cc1d>\u001b[0m in \u001b[0;36mrun_sectoral_pert\u001b[0;34m(choose_sector, gas_param_ensemble, thermal_param_ensemble, EXT_forc_sfs)\u001b[0m\n\u001b[1;32m     14\u001b[0m \u001b[0;34m\u001b[0m\u001b[0m\n\u001b[1;32m     15\u001b[0m     \u001b[0;31m## Natural\u001b[0m\u001b[0;34m\u001b[0m\u001b[0;34m\u001b[0m\u001b[0;34m\u001b[0m\u001b[0m\n\u001b[0;32m---> 16\u001b[0;31m     \u001b[0mvolc_forc_ensemble\u001b[0m \u001b[0;34m=\u001b[0m \u001b[0mpd\u001b[0m\u001b[0;34m.\u001b[0m\u001b[0mconcat\u001b[0m\u001b[0;34m(\u001b[0m\u001b[0;34m[\u001b[0m\u001b[0merf_ar6\u001b[0m\u001b[0;34m[\u001b[0m\u001b[0;34m'volcanic'\u001b[0m\u001b[0;34m]\u001b[0m\u001b[0;34m.\u001b[0m\u001b[0mreindex\u001b[0m\u001b[0;34m(\u001b[0m\u001b[0mnp\u001b[0m\u001b[0;34m.\u001b[0m\u001b[0marange\u001b[0m\u001b[0;34m(\u001b[0m\u001b[0;36m1750\u001b[0m\u001b[0;34m,\u001b[0m\u001b[0;36m2020\u001b[0m\u001b[0;34m)\u001b[0m\u001b[0;34m)\u001b[0m\u001b[0;34m]\u001b[0m\u001b[0;34m*\u001b[0m\u001b[0mmem_names\u001b[0m\u001b[0;34m.\u001b[0m\u001b[0msize\u001b[0m\u001b[0;34m,\u001b[0m\u001b[0maxis\u001b[0m\u001b[0;34m=\u001b[0m\u001b[0;36m1\u001b[0m\u001b[0;34m,\u001b[0m\u001b[0mkeys\u001b[0m\u001b[0;34m=\u001b[0m\u001b[0mmem_names\u001b[0m\u001b[0;34m)\u001b[0m\u001b[0;34m*\u001b[0m\u001b[0mEXT_forc_sfs\u001b[0m\u001b[0;34m.\u001b[0m\u001b[0mloc\u001b[0m\u001b[0;34m[\u001b[0m\u001b[0;34m'volc'\u001b[0m\u001b[0;34m]\u001b[0m\u001b[0;34m\u001b[0m\u001b[0;34m\u001b[0m\u001b[0m\n\u001b[0m\u001b[1;32m     17\u001b[0m     \u001b[0msol_forc_ensemble\u001b[0m \u001b[0;34m=\u001b[0m \u001b[0mpd\u001b[0m\u001b[0;34m.\u001b[0m\u001b[0mconcat\u001b[0m\u001b[0;34m(\u001b[0m\u001b[0;34m[\u001b[0m\u001b[0merf_ar6\u001b[0m\u001b[0;34m[\u001b[0m\u001b[0;34m'solar'\u001b[0m\u001b[0;34m]\u001b[0m\u001b[0;34m.\u001b[0m\u001b[0mreindex\u001b[0m\u001b[0;34m(\u001b[0m\u001b[0mnp\u001b[0m\u001b[0;34m.\u001b[0m\u001b[0marange\u001b[0m\u001b[0;34m(\u001b[0m\u001b[0;36m1750\u001b[0m\u001b[0;34m,\u001b[0m\u001b[0;36m2020\u001b[0m\u001b[0;34m)\u001b[0m\u001b[0;34m)\u001b[0m\u001b[0;34m]\u001b[0m\u001b[0;34m*\u001b[0m\u001b[0mmem_names\u001b[0m\u001b[0;34m.\u001b[0m\u001b[0msize\u001b[0m\u001b[0;34m,\u001b[0m\u001b[0maxis\u001b[0m\u001b[0;34m=\u001b[0m\u001b[0;36m1\u001b[0m\u001b[0;34m,\u001b[0m\u001b[0mkeys\u001b[0m\u001b[0;34m=\u001b[0m\u001b[0mmem_names\u001b[0m\u001b[0;34m)\u001b[0m\u001b[0;34m*\u001b[0m\u001b[0mEXT_forc_sfs\u001b[0m\u001b[0;34m.\u001b[0m\u001b[0mloc\u001b[0m\u001b[0;34m[\u001b[0m\u001b[0;34m'sol'\u001b[0m\u001b[0;34m]\u001b[0m\u001b[0;34m\u001b[0m\u001b[0;34m\u001b[0m\u001b[0m\n\u001b[1;32m     18\u001b[0m \u001b[0;34m\u001b[0m\u001b[0m\n",
      "\u001b[0;32m~/miniconda3/lib/python3.7/site-packages/pandas/core/ops/__init__.py\u001b[0m in \u001b[0;36mf\u001b[0;34m(self, other, axis, level, fill_value)\u001b[0m\n\u001b[1;32m    774\u001b[0m             \u001b[0mpass_op\u001b[0m \u001b[0;34m=\u001b[0m \u001b[0mpass_op\u001b[0m \u001b[0;32mif\u001b[0m \u001b[0;32mnot\u001b[0m \u001b[0mis_logical\u001b[0m \u001b[0;32melse\u001b[0m \u001b[0mop\u001b[0m\u001b[0;34m\u001b[0m\u001b[0;34m\u001b[0m\u001b[0m\n\u001b[1;32m    775\u001b[0m             return _combine_series_frame(\n\u001b[0;32m--> 776\u001b[0;31m                 \u001b[0mself\u001b[0m\u001b[0;34m,\u001b[0m \u001b[0mother\u001b[0m\u001b[0;34m,\u001b[0m \u001b[0mpass_op\u001b[0m\u001b[0;34m,\u001b[0m \u001b[0mfill_value\u001b[0m\u001b[0;34m=\u001b[0m\u001b[0mfill_value\u001b[0m\u001b[0;34m,\u001b[0m \u001b[0maxis\u001b[0m\u001b[0;34m=\u001b[0m\u001b[0maxis\u001b[0m\u001b[0;34m,\u001b[0m \u001b[0mlevel\u001b[0m\u001b[0;34m=\u001b[0m\u001b[0mlevel\u001b[0m\u001b[0;34m\u001b[0m\u001b[0;34m\u001b[0m\u001b[0m\n\u001b[0m\u001b[1;32m    777\u001b[0m             )\n\u001b[1;32m    778\u001b[0m         \u001b[0;32melse\u001b[0m\u001b[0;34m:\u001b[0m\u001b[0;34m\u001b[0m\u001b[0;34m\u001b[0m\u001b[0m\n",
      "\u001b[0;32m~/miniconda3/lib/python3.7/site-packages/pandas/core/ops/__init__.py\u001b[0m in \u001b[0;36m_combine_series_frame\u001b[0;34m(self, other, func, fill_value, axis, level)\u001b[0m\n\u001b[1;32m    618\u001b[0m         \u001b[0mnew_data\u001b[0m \u001b[0;34m=\u001b[0m \u001b[0mleft\u001b[0m\u001b[0;34m.\u001b[0m\u001b[0m_combine_match_index\u001b[0m\u001b[0;34m(\u001b[0m\u001b[0mright\u001b[0m\u001b[0;34m,\u001b[0m \u001b[0mfunc\u001b[0m\u001b[0;34m)\u001b[0m\u001b[0;34m\u001b[0m\u001b[0;34m\u001b[0m\u001b[0m\n\u001b[1;32m    619\u001b[0m     \u001b[0;32melse\u001b[0m\u001b[0;34m:\u001b[0m\u001b[0;34m\u001b[0m\u001b[0;34m\u001b[0m\u001b[0m\n\u001b[0;32m--> 620\u001b[0;31m         \u001b[0mnew_data\u001b[0m \u001b[0;34m=\u001b[0m \u001b[0mdispatch_to_series\u001b[0m\u001b[0;34m(\u001b[0m\u001b[0mleft\u001b[0m\u001b[0;34m,\u001b[0m \u001b[0mright\u001b[0m\u001b[0;34m,\u001b[0m \u001b[0mfunc\u001b[0m\u001b[0;34m,\u001b[0m \u001b[0maxis\u001b[0m\u001b[0;34m=\u001b[0m\u001b[0;34m\"columns\"\u001b[0m\u001b[0;34m)\u001b[0m\u001b[0;34m\u001b[0m\u001b[0;34m\u001b[0m\u001b[0m\n\u001b[0m\u001b[1;32m    621\u001b[0m \u001b[0;34m\u001b[0m\u001b[0m\n\u001b[1;32m    622\u001b[0m     \u001b[0;32mreturn\u001b[0m \u001b[0mleft\u001b[0m\u001b[0;34m.\u001b[0m\u001b[0m_construct_result\u001b[0m\u001b[0;34m(\u001b[0m\u001b[0mnew_data\u001b[0m\u001b[0;34m)\u001b[0m\u001b[0;34m\u001b[0m\u001b[0;34m\u001b[0m\u001b[0m\n",
      "\u001b[0;32m~/miniconda3/lib/python3.7/site-packages/pandas/core/ops/__init__.py\u001b[0m in \u001b[0;36mdispatch_to_series\u001b[0;34m(left, right, func, str_rep, axis)\u001b[0m\n\u001b[1;32m    417\u001b[0m         \u001b[0;32mraise\u001b[0m \u001b[0mNotImplementedError\u001b[0m\u001b[0;34m(\u001b[0m\u001b[0mright\u001b[0m\u001b[0;34m)\u001b[0m\u001b[0;34m\u001b[0m\u001b[0;34m\u001b[0m\u001b[0m\n\u001b[1;32m    418\u001b[0m \u001b[0;34m\u001b[0m\u001b[0m\n\u001b[0;32m--> 419\u001b[0;31m     \u001b[0mnew_data\u001b[0m \u001b[0;34m=\u001b[0m \u001b[0mexpressions\u001b[0m\u001b[0;34m.\u001b[0m\u001b[0mevaluate\u001b[0m\u001b[0;34m(\u001b[0m\u001b[0mcolumn_op\u001b[0m\u001b[0;34m,\u001b[0m \u001b[0mstr_rep\u001b[0m\u001b[0;34m,\u001b[0m \u001b[0mleft\u001b[0m\u001b[0;34m,\u001b[0m \u001b[0mright\u001b[0m\u001b[0;34m)\u001b[0m\u001b[0;34m\u001b[0m\u001b[0;34m\u001b[0m\u001b[0m\n\u001b[0m\u001b[1;32m    420\u001b[0m     \u001b[0;32mreturn\u001b[0m \u001b[0mnew_data\u001b[0m\u001b[0;34m\u001b[0m\u001b[0;34m\u001b[0m\u001b[0m\n\u001b[1;32m    421\u001b[0m \u001b[0;34m\u001b[0m\u001b[0m\n",
      "\u001b[0;32m~/miniconda3/lib/python3.7/site-packages/pandas/core/computation/expressions.py\u001b[0m in \u001b[0;36mevaluate\u001b[0;34m(op, op_str, a, b, use_numexpr)\u001b[0m\n\u001b[1;32m    206\u001b[0m     \u001b[0muse_numexpr\u001b[0m \u001b[0;34m=\u001b[0m \u001b[0muse_numexpr\u001b[0m \u001b[0;32mand\u001b[0m \u001b[0m_bool_arith_check\u001b[0m\u001b[0;34m(\u001b[0m\u001b[0mop_str\u001b[0m\u001b[0;34m,\u001b[0m \u001b[0ma\u001b[0m\u001b[0;34m,\u001b[0m \u001b[0mb\u001b[0m\u001b[0;34m)\u001b[0m\u001b[0;34m\u001b[0m\u001b[0;34m\u001b[0m\u001b[0m\n\u001b[1;32m    207\u001b[0m     \u001b[0;32mif\u001b[0m \u001b[0muse_numexpr\u001b[0m\u001b[0;34m:\u001b[0m\u001b[0;34m\u001b[0m\u001b[0;34m\u001b[0m\u001b[0m\n\u001b[0;32m--> 208\u001b[0;31m         \u001b[0;32mreturn\u001b[0m \u001b[0m_evaluate\u001b[0m\u001b[0;34m(\u001b[0m\u001b[0mop\u001b[0m\u001b[0;34m,\u001b[0m \u001b[0mop_str\u001b[0m\u001b[0;34m,\u001b[0m \u001b[0ma\u001b[0m\u001b[0;34m,\u001b[0m \u001b[0mb\u001b[0m\u001b[0;34m)\u001b[0m\u001b[0;34m\u001b[0m\u001b[0;34m\u001b[0m\u001b[0m\n\u001b[0m\u001b[1;32m    209\u001b[0m     \u001b[0;32mreturn\u001b[0m \u001b[0m_evaluate_standard\u001b[0m\u001b[0;34m(\u001b[0m\u001b[0mop\u001b[0m\u001b[0;34m,\u001b[0m \u001b[0mop_str\u001b[0m\u001b[0;34m,\u001b[0m \u001b[0ma\u001b[0m\u001b[0;34m,\u001b[0m \u001b[0mb\u001b[0m\u001b[0;34m)\u001b[0m\u001b[0;34m\u001b[0m\u001b[0;34m\u001b[0m\u001b[0m\n\u001b[1;32m    210\u001b[0m \u001b[0;34m\u001b[0m\u001b[0m\n",
      "\u001b[0;32m~/miniconda3/lib/python3.7/site-packages/pandas/core/computation/expressions.py\u001b[0m in \u001b[0;36m_evaluate_numexpr\u001b[0;34m(op, op_str, a, b)\u001b[0m\n\u001b[1;32m    119\u001b[0m \u001b[0;34m\u001b[0m\u001b[0m\n\u001b[1;32m    120\u001b[0m     \u001b[0;32mif\u001b[0m \u001b[0mresult\u001b[0m \u001b[0;32mis\u001b[0m \u001b[0;32mNone\u001b[0m\u001b[0;34m:\u001b[0m\u001b[0;34m\u001b[0m\u001b[0;34m\u001b[0m\u001b[0m\n\u001b[0;32m--> 121\u001b[0;31m         \u001b[0mresult\u001b[0m \u001b[0;34m=\u001b[0m \u001b[0m_evaluate_standard\u001b[0m\u001b[0;34m(\u001b[0m\u001b[0mop\u001b[0m\u001b[0;34m,\u001b[0m \u001b[0mop_str\u001b[0m\u001b[0;34m,\u001b[0m \u001b[0ma\u001b[0m\u001b[0;34m,\u001b[0m \u001b[0mb\u001b[0m\u001b[0;34m)\u001b[0m\u001b[0;34m\u001b[0m\u001b[0;34m\u001b[0m\u001b[0m\n\u001b[0m\u001b[1;32m    122\u001b[0m \u001b[0;34m\u001b[0m\u001b[0m\n\u001b[1;32m    123\u001b[0m     \u001b[0;32mreturn\u001b[0m \u001b[0mresult\u001b[0m\u001b[0;34m\u001b[0m\u001b[0;34m\u001b[0m\u001b[0m\n",
      "\u001b[0;32m~/miniconda3/lib/python3.7/site-packages/pandas/core/computation/expressions.py\u001b[0m in \u001b[0;36m_evaluate_standard\u001b[0;34m(op, op_str, a, b)\u001b[0m\n\u001b[1;32m     68\u001b[0m         \u001b[0m_store_test_result\u001b[0m\u001b[0;34m(\u001b[0m\u001b[0;32mFalse\u001b[0m\u001b[0;34m)\u001b[0m\u001b[0;34m\u001b[0m\u001b[0;34m\u001b[0m\u001b[0m\n\u001b[1;32m     69\u001b[0m     \u001b[0;32mwith\u001b[0m \u001b[0mnp\u001b[0m\u001b[0;34m.\u001b[0m\u001b[0merrstate\u001b[0m\u001b[0;34m(\u001b[0m\u001b[0mall\u001b[0m\u001b[0;34m=\u001b[0m\u001b[0;34m\"ignore\"\u001b[0m\u001b[0;34m)\u001b[0m\u001b[0;34m:\u001b[0m\u001b[0;34m\u001b[0m\u001b[0;34m\u001b[0m\u001b[0m\n\u001b[0;32m---> 70\u001b[0;31m         \u001b[0;32mreturn\u001b[0m \u001b[0mop\u001b[0m\u001b[0;34m(\u001b[0m\u001b[0ma\u001b[0m\u001b[0;34m,\u001b[0m \u001b[0mb\u001b[0m\u001b[0;34m)\u001b[0m\u001b[0;34m\u001b[0m\u001b[0;34m\u001b[0m\u001b[0m\n\u001b[0m\u001b[1;32m     71\u001b[0m \u001b[0;34m\u001b[0m\u001b[0m\n\u001b[1;32m     72\u001b[0m \u001b[0;34m\u001b[0m\u001b[0m\n",
      "\u001b[0;32m~/miniconda3/lib/python3.7/site-packages/pandas/core/ops/__init__.py\u001b[0m in \u001b[0;36mcolumn_op\u001b[0;34m(a, b)\u001b[0m\n\u001b[1;32m    405\u001b[0m \u001b[0;34m\u001b[0m\u001b[0m\n\u001b[1;32m    406\u001b[0m             \u001b[0;32mdef\u001b[0m \u001b[0mcolumn_op\u001b[0m\u001b[0;34m(\u001b[0m\u001b[0ma\u001b[0m\u001b[0;34m,\u001b[0m \u001b[0mb\u001b[0m\u001b[0;34m)\u001b[0m\u001b[0;34m:\u001b[0m\u001b[0;34m\u001b[0m\u001b[0;34m\u001b[0m\u001b[0m\n\u001b[0;32m--> 407\u001b[0;31m                 \u001b[0;32mreturn\u001b[0m \u001b[0;34m{\u001b[0m\u001b[0mi\u001b[0m\u001b[0;34m:\u001b[0m \u001b[0mfunc\u001b[0m\u001b[0;34m(\u001b[0m\u001b[0ma\u001b[0m\u001b[0;34m.\u001b[0m\u001b[0miloc\u001b[0m\u001b[0;34m[\u001b[0m\u001b[0;34m:\u001b[0m\u001b[0;34m,\u001b[0m \u001b[0mi\u001b[0m\u001b[0;34m]\u001b[0m\u001b[0;34m,\u001b[0m \u001b[0mb\u001b[0m\u001b[0;34m.\u001b[0m\u001b[0miloc\u001b[0m\u001b[0;34m[\u001b[0m\u001b[0mi\u001b[0m\u001b[0;34m]\u001b[0m\u001b[0;34m)\u001b[0m \u001b[0;32mfor\u001b[0m \u001b[0mi\u001b[0m \u001b[0;32min\u001b[0m \u001b[0mrange\u001b[0m\u001b[0;34m(\u001b[0m\u001b[0mlen\u001b[0m\u001b[0;34m(\u001b[0m\u001b[0ma\u001b[0m\u001b[0;34m.\u001b[0m\u001b[0mcolumns\u001b[0m\u001b[0;34m)\u001b[0m\u001b[0;34m)\u001b[0m\u001b[0;34m}\u001b[0m\u001b[0;34m\u001b[0m\u001b[0;34m\u001b[0m\u001b[0m\n\u001b[0m\u001b[1;32m    408\u001b[0m \u001b[0;34m\u001b[0m\u001b[0m\n\u001b[1;32m    409\u001b[0m     \u001b[0;32melif\u001b[0m \u001b[0misinstance\u001b[0m\u001b[0;34m(\u001b[0m\u001b[0mright\u001b[0m\u001b[0;34m,\u001b[0m \u001b[0mABCSeries\u001b[0m\u001b[0;34m)\u001b[0m\u001b[0;34m:\u001b[0m\u001b[0;34m\u001b[0m\u001b[0;34m\u001b[0m\u001b[0m\n",
      "\u001b[0;32m~/miniconda3/lib/python3.7/site-packages/pandas/core/ops/__init__.py\u001b[0m in \u001b[0;36m<dictcomp>\u001b[0;34m(.0)\u001b[0m\n\u001b[1;32m    405\u001b[0m \u001b[0;34m\u001b[0m\u001b[0m\n\u001b[1;32m    406\u001b[0m             \u001b[0;32mdef\u001b[0m \u001b[0mcolumn_op\u001b[0m\u001b[0;34m(\u001b[0m\u001b[0ma\u001b[0m\u001b[0;34m,\u001b[0m \u001b[0mb\u001b[0m\u001b[0;34m)\u001b[0m\u001b[0;34m:\u001b[0m\u001b[0;34m\u001b[0m\u001b[0;34m\u001b[0m\u001b[0m\n\u001b[0;32m--> 407\u001b[0;31m                 \u001b[0;32mreturn\u001b[0m \u001b[0;34m{\u001b[0m\u001b[0mi\u001b[0m\u001b[0;34m:\u001b[0m \u001b[0mfunc\u001b[0m\u001b[0;34m(\u001b[0m\u001b[0ma\u001b[0m\u001b[0;34m.\u001b[0m\u001b[0miloc\u001b[0m\u001b[0;34m[\u001b[0m\u001b[0;34m:\u001b[0m\u001b[0;34m,\u001b[0m \u001b[0mi\u001b[0m\u001b[0;34m]\u001b[0m\u001b[0;34m,\u001b[0m \u001b[0mb\u001b[0m\u001b[0;34m.\u001b[0m\u001b[0miloc\u001b[0m\u001b[0;34m[\u001b[0m\u001b[0mi\u001b[0m\u001b[0;34m]\u001b[0m\u001b[0;34m)\u001b[0m \u001b[0;32mfor\u001b[0m \u001b[0mi\u001b[0m \u001b[0;32min\u001b[0m \u001b[0mrange\u001b[0m\u001b[0;34m(\u001b[0m\u001b[0mlen\u001b[0m\u001b[0;34m(\u001b[0m\u001b[0ma\u001b[0m\u001b[0;34m.\u001b[0m\u001b[0mcolumns\u001b[0m\u001b[0;34m)\u001b[0m\u001b[0;34m)\u001b[0m\u001b[0;34m}\u001b[0m\u001b[0;34m\u001b[0m\u001b[0;34m\u001b[0m\u001b[0m\n\u001b[0m\u001b[1;32m    408\u001b[0m \u001b[0;34m\u001b[0m\u001b[0m\n\u001b[1;32m    409\u001b[0m     \u001b[0;32melif\u001b[0m \u001b[0misinstance\u001b[0m\u001b[0;34m(\u001b[0m\u001b[0mright\u001b[0m\u001b[0;34m,\u001b[0m \u001b[0mABCSeries\u001b[0m\u001b[0;34m)\u001b[0m\u001b[0;34m:\u001b[0m\u001b[0;34m\u001b[0m\u001b[0;34m\u001b[0m\u001b[0m\n",
      "\u001b[0;32m~/miniconda3/lib/python3.7/site-packages/pandas/core/ops/common.py\u001b[0m in \u001b[0;36mnew_method\u001b[0;34m(self, other)\u001b[0m\n\u001b[1;32m     62\u001b[0m         \u001b[0mother\u001b[0m \u001b[0;34m=\u001b[0m \u001b[0mitem_from_zerodim\u001b[0m\u001b[0;34m(\u001b[0m\u001b[0mother\u001b[0m\u001b[0;34m)\u001b[0m\u001b[0;34m\u001b[0m\u001b[0;34m\u001b[0m\u001b[0m\n\u001b[1;32m     63\u001b[0m \u001b[0;34m\u001b[0m\u001b[0m\n\u001b[0;32m---> 64\u001b[0;31m         \u001b[0;32mreturn\u001b[0m \u001b[0mmethod\u001b[0m\u001b[0;34m(\u001b[0m\u001b[0mself\u001b[0m\u001b[0;34m,\u001b[0m \u001b[0mother\u001b[0m\u001b[0;34m)\u001b[0m\u001b[0;34m\u001b[0m\u001b[0;34m\u001b[0m\u001b[0m\n\u001b[0m\u001b[1;32m     65\u001b[0m \u001b[0;34m\u001b[0m\u001b[0m\n\u001b[1;32m     66\u001b[0m     \u001b[0;32mreturn\u001b[0m \u001b[0mnew_method\u001b[0m\u001b[0;34m\u001b[0m\u001b[0;34m\u001b[0m\u001b[0m\n",
      "\u001b[0;32m~/miniconda3/lib/python3.7/site-packages/pandas/core/ops/__init__.py\u001b[0m in \u001b[0;36mwrapper\u001b[0;34m(left, right)\u001b[0m\n\u001b[1;32m    499\u001b[0m         \u001b[0mres_name\u001b[0m \u001b[0;34m=\u001b[0m \u001b[0mget_op_result_name\u001b[0m\u001b[0;34m(\u001b[0m\u001b[0mleft\u001b[0m\u001b[0;34m,\u001b[0m \u001b[0mright\u001b[0m\u001b[0;34m)\u001b[0m\u001b[0;34m\u001b[0m\u001b[0;34m\u001b[0m\u001b[0m\n\u001b[1;32m    500\u001b[0m \u001b[0;34m\u001b[0m\u001b[0m\n\u001b[0;32m--> 501\u001b[0;31m         \u001b[0mlvalues\u001b[0m \u001b[0;34m=\u001b[0m \u001b[0mextract_array\u001b[0m\u001b[0;34m(\u001b[0m\u001b[0mleft\u001b[0m\u001b[0;34m,\u001b[0m \u001b[0mextract_numpy\u001b[0m\u001b[0;34m=\u001b[0m\u001b[0;32mTrue\u001b[0m\u001b[0;34m)\u001b[0m\u001b[0;34m\u001b[0m\u001b[0;34m\u001b[0m\u001b[0m\n\u001b[0m\u001b[1;32m    502\u001b[0m         \u001b[0mrvalues\u001b[0m \u001b[0;34m=\u001b[0m \u001b[0mextract_array\u001b[0m\u001b[0;34m(\u001b[0m\u001b[0mright\u001b[0m\u001b[0;34m,\u001b[0m \u001b[0mextract_numpy\u001b[0m\u001b[0;34m=\u001b[0m\u001b[0;32mTrue\u001b[0m\u001b[0;34m)\u001b[0m\u001b[0;34m\u001b[0m\u001b[0;34m\u001b[0m\u001b[0m\n\u001b[1;32m    503\u001b[0m         \u001b[0mresult\u001b[0m \u001b[0;34m=\u001b[0m \u001b[0marithmetic_op\u001b[0m\u001b[0;34m(\u001b[0m\u001b[0mlvalues\u001b[0m\u001b[0;34m,\u001b[0m \u001b[0mrvalues\u001b[0m\u001b[0;34m,\u001b[0m \u001b[0mop\u001b[0m\u001b[0;34m,\u001b[0m \u001b[0mstr_rep\u001b[0m\u001b[0;34m)\u001b[0m\u001b[0;34m\u001b[0m\u001b[0;34m\u001b[0m\u001b[0m\n",
      "\u001b[0;32m~/miniconda3/lib/python3.7/site-packages/pandas/core/construction.py\u001b[0m in \u001b[0;36mextract_array\u001b[0;34m(obj, extract_numpy)\u001b[0m\n\u001b[1;32m    380\u001b[0m         \u001b[0mobj\u001b[0m \u001b[0;34m=\u001b[0m \u001b[0mobj\u001b[0m\u001b[0;34m.\u001b[0m\u001b[0marray\u001b[0m\u001b[0;34m\u001b[0m\u001b[0;34m\u001b[0m\u001b[0m\n\u001b[1;32m    381\u001b[0m \u001b[0;34m\u001b[0m\u001b[0m\n\u001b[0;32m--> 382\u001b[0;31m     \u001b[0;32mif\u001b[0m \u001b[0mextract_numpy\u001b[0m \u001b[0;32mand\u001b[0m \u001b[0misinstance\u001b[0m\u001b[0;34m(\u001b[0m\u001b[0mobj\u001b[0m\u001b[0;34m,\u001b[0m \u001b[0mABCPandasArray\u001b[0m\u001b[0;34m)\u001b[0m\u001b[0;34m:\u001b[0m\u001b[0;34m\u001b[0m\u001b[0;34m\u001b[0m\u001b[0m\n\u001b[0m\u001b[1;32m    383\u001b[0m         \u001b[0mobj\u001b[0m \u001b[0;34m=\u001b[0m \u001b[0mobj\u001b[0m\u001b[0;34m.\u001b[0m\u001b[0mto_numpy\u001b[0m\u001b[0;34m(\u001b[0m\u001b[0;34m)\u001b[0m\u001b[0;34m\u001b[0m\u001b[0;34m\u001b[0m\u001b[0m\n\u001b[1;32m    384\u001b[0m \u001b[0;34m\u001b[0m\u001b[0m\n",
      "\u001b[0;32m~/miniconda3/lib/python3.7/site-packages/pandas/core/dtypes/generic.py\u001b[0m in \u001b[0;36m_check\u001b[0;34m(cls, inst)\u001b[0m\n\u001b[1;32m      8\u001b[0m     \u001b[0;31m# https://github.com/python/mypy/issues/1006\u001b[0m\u001b[0;34m\u001b[0m\u001b[0;34m\u001b[0m\u001b[0;34m\u001b[0m\u001b[0m\n\u001b[1;32m      9\u001b[0m     \u001b[0;31m# error: 'classmethod' used with a non-method\u001b[0m\u001b[0;34m\u001b[0m\u001b[0;34m\u001b[0m\u001b[0;34m\u001b[0m\u001b[0m\n\u001b[0;32m---> 10\u001b[0;31m     \u001b[0;34m@\u001b[0m\u001b[0mclassmethod\u001b[0m  \u001b[0;31m# type: ignore\u001b[0m\u001b[0;34m\u001b[0m\u001b[0;34m\u001b[0m\u001b[0m\n\u001b[0m\u001b[1;32m     11\u001b[0m     \u001b[0;32mdef\u001b[0m \u001b[0m_check\u001b[0m\u001b[0;34m(\u001b[0m\u001b[0mcls\u001b[0m\u001b[0;34m,\u001b[0m \u001b[0minst\u001b[0m\u001b[0;34m)\u001b[0m \u001b[0;34m->\u001b[0m \u001b[0mbool\u001b[0m\u001b[0;34m:\u001b[0m\u001b[0;34m\u001b[0m\u001b[0;34m\u001b[0m\u001b[0m\n\u001b[1;32m     12\u001b[0m         \u001b[0;32mreturn\u001b[0m \u001b[0mgetattr\u001b[0m\u001b[0;34m(\u001b[0m\u001b[0minst\u001b[0m\u001b[0;34m,\u001b[0m \u001b[0mattr\u001b[0m\u001b[0;34m,\u001b[0m \u001b[0;34m\"_typ\"\u001b[0m\u001b[0;34m)\u001b[0m \u001b[0;32min\u001b[0m \u001b[0mcomp\u001b[0m\u001b[0;34m\u001b[0m\u001b[0;34m\u001b[0m\u001b[0m\n",
      "\u001b[0;31mKeyboardInterrupt\u001b[0m: "
     ]
    }
   ],
   "source": [
    "# sector_temp_list = []\n",
    "# sector_RF_list = []\n",
    "\n",
    "# for sector in np.arange(1,6):\n",
    "#     sector_result = run_sectoral_pert(sector,gas_param_ensemble,thermal_param_ensemble,EXT_forc_sfs)\n",
    "#     sector_temp_list += [baseline_temp-sector_result['T']]\n",
    "#     sector_RF_list += [(baseline['RF']-sector_result['RF']).groupby(axis=1,level=-1).mean().groupby(param_categories_inv,axis=1).sum()]\n",
    "#     del sector_result\n",
    "#     gc.collect()\n",
    "    \n",
    "# attr_RF_sectors = pd.concat(sector_RF_list,axis=1,keys=[1,2,3,4,5])\n",
    "# attr_temps_sectors = pd.concat(sector_temp_list,axis=1,keys=[1,2,3,4,5])"
   ]
  },
  {
   "cell_type": "code",
   "execution_count": 31,
   "metadata": {},
   "outputs": [],
   "source": [
    "# attr_temps_sectors.to_hdf(r'../../../FaIR_projection_interactive/attribution_experiments/sector-attributed-temps.h5', key='stage', mode='w')\n",
    "# attr_RF_sectors.to_hdf(r'../../../FaIR_projection_interactive/attribution_experiments/sector-attributed-meanRFs.h5', key='stage', mode='w')"
   ]
  },
  {
   "cell_type": "markdown",
   "metadata": {},
   "source": [
    "## Tier 3: Attribution to countries\n",
    "\n",
    "- excluding LULUCF emissions as attribution seems unclear"
   ]
  },
  {
   "cell_type": "code",
   "execution_count": 33,
   "metadata": {},
   "outputs": [],
   "source": [
    "## first step: aggregate territories of countries:\n",
    "\n",
    "non_sovreign_countries = country_id_data_incl_nonsov.loc[(~country_id_data_incl_nonsov.Sovreignty.isin(['UN member state','UN observer'])),'alpha-3'].dropna()\n",
    "\n",
    "map_country_sovreign = dict(zip(country_id_data_incl_nonsov.loc[non_sovreign_countries.index].Sovreignty.unique(),\\\n",
    "                               ['Finland','United States of America (the)','United Kingdom of Great Britain and Northern Ireland (the)','Antarctica','Netherlands (the)','Norway','Australia','New Zealand','Denmark','France','United Kingdom of Great Britain and Northern Ireland (the)','China','disputed']))\n",
    "\n",
    "non_sovreign_map_df = pd.DataFrame(non_sovreign_countries).reset_index().set_index('alpha-3')\n",
    "\n",
    "for alph,num in non_sovreign_map_df.iterrows():\n",
    "    \n",
    "    non_sovreign_map_df.loc[alph,'sov'] = map_country_sovreign[country_id_data_incl_nonsov.loc[num.values[0],'Sovreignty']]\n",
    "    \n",
    "    if non_sovreign_map_df.loc[alph,'sov']=='disputed':\n",
    "        non_sovreign_map_df.loc[alph,'sov-alpha3'] = np.nan\n",
    "        \n",
    "    else:\n",
    "        non_sovreign_map_df.loc[alph,'sov-alpha3'] = country_id_data_incl_nonsov.loc[country_id_data_incl_nonsov.Name==non_sovreign_map_df.loc[alph,'sov'],'alpha-3'].values[0]\n",
    "        \n",
    "## specific entry for CEDS\n",
    "non_sovreign_map_df.loc['SRB (KOSOVO)','sov-alpha3'] = 'SRB'"
   ]
  },
  {
   "cell_type": "code",
   "execution_count": 34,
   "metadata": {},
   "outputs": [
    {
     "name": "stderr",
     "output_type": "stream",
     "text": [
      "/home/leachl/miniconda3/lib/python3.7/site-packages/pandas/core/ops/__init__.py:147: FutureWarning: elementwise comparison failed; returning scalar instead, but in the future will perform elementwise comparison\n",
      "  if a.name == b.name:\n"
     ]
    }
   ],
   "source": [
    "## need to add in actual values for EU28 in ODS -> scale total by member state population\n",
    "\n",
    "EU28 = ['AUT', 'BEL', 'BGR', 'HRV', 'CYP', 'CZE', 'DNK', 'EST', 'FIN', 'FRA', 'DEU', 'GRC', 'HUN', 'IRL', 'ITA', 'LVA', 'LTU', 'LUX', 'MLT', 'NLD', 'POL', 'PRT', 'ROU', 'SVK', 'SVN', 'ESP', 'SWE', 'GBR']\n",
    "\n",
    "EU_not_in_ODS = list(set(EU28)-set(ODS_country_data.index.levels[0].tolist()))\n",
    "\n",
    "EU28_pop = UN_desa_population.loc[[int(x) for x in country_id_data_incl_nonsov.loc[country_id_data_incl_nonsov['alpha-3'].isin(EU_not_in_ODS)].index]].reindex()\n",
    "EU28_pop_prop = (EU28_pop/EU28_pop.sum()).droplevel(0,axis=1)\n",
    "\n",
    "ODS_country_data_noEU = ODS_country_data.copy().drop('EU28')\n",
    "\n",
    "\n",
    "for country in EU_not_in_ODS:\n",
    "    \n",
    "    countryid = int(country_id_data_incl_nonsov.loc[country_id_data_incl_nonsov['alpha-3']==country].index[0])\n",
    "    country_pop_prop = EU28_pop_prop.loc[countryid]\n",
    "    for species in ODS_country_data.loc['EU28'].index:\n",
    "        ODS_country_data_noEU.loc[(country,species),:] = (ODS_country_data.loc[('EU28',species)]*country_pop_prop).values"
   ]
  },
  {
   "cell_type": "code",
   "execution_count": 35,
   "metadata": {},
   "outputs": [],
   "source": [
    "PRIMAP_country_data_agg = PRIMAP_country_data.rename(non_sovreign_map_df['sov-alpha3'].to_dict(),level=0).groupby(level=(0,1,2)).sum().droplevel(2)\n",
    "PRIMAP_country_data_agg = PRIMAP_country_data_agg.reindex([x for x in PRIMAP_country_data_agg.index.levels[0] if len(x)==3 and x!='LDC'],level=0) # also remove Least developed group\n",
    "\n",
    "CEDS_country_data_agg = CEDS_country_data.rename(non_sovreign_map_df['sov-alpha3'].to_dict(),level=0).groupby(level=(0,1,2)).sum().droplevel(2)\n",
    "CEDS_country_data_agg = CEDS_country_data_agg.reindex([x for x in CEDS_country_data_agg.index.levels[0] if len(x)==3],level=0)"
   ]
  },
  {
   "cell_type": "code",
   "execution_count": 36,
   "metadata": {},
   "outputs": [],
   "source": [
    "## sort out ODS proportions\n",
    "### maybe use sector 2 co2 emissions per country rather than total co2 emissions:\n",
    "PRIMAP_sector_2_country_data = PRIMAP_data.loc[(slice(None),['IPC2', 'IPC2A','IPC2B', 'IPC2C', 'IPC2D', 'IPC2G', 'IPC2H']),:].xs('CO2',level=2).groupby(level=0).sum().rename(non_sovreign_map_df['sov-alpha3'].to_dict()).groupby(level=0).sum().reindex([x for x in PRIMAP_country_data_agg.index.levels[0] if len(x)==3 and x!='LDC']).reindex(np.arange(1750,2020),axis=1).interpolate(limit=200,limit_direction='both',limit_area=None,axis=1)\n",
    "\n",
    "ODS_proportions = []\n",
    "\n",
    "for species in ['CFCs', 'HALONs', 'HCFCs', 'carbon_tetrachloride', 'ch3ccl3', 'methyl_bromide']:\n",
    "    \n",
    "    species_data = ODS_country_data_noEU.xs(species,level=1).rename(non_sovreign_map_df['sov-alpha3'].to_dict()).groupby(level=0).sum()\n",
    "    country_proportion_estimate = ((PRIMAP_sector_2_country_data.T/PRIMAP_sector_2_country_data.loc[:,1986:1995].mean(axis=1)) * species_data.loc[:,1986:1995].mean(axis=1)).T.dropna()\n",
    "    ODS_proportions += [country_proportion_estimate / country_proportion_estimate.sum()]\n",
    "\n",
    "ODS_proportions = pd.concat(ODS_proportions,axis=0,keys=['CFCs', 'HALONs', 'HCFCs', 'carbon_tetrachloride', 'ch3ccl3', 'methyl_bromide']).swaplevel(0,1).sort_index()"
   ]
  },
  {
   "cell_type": "code",
   "execution_count": 37,
   "metadata": {},
   "outputs": [],
   "source": [
    "## aggregating\n",
    "\n",
    "PRIMAP_global_total = PRIMAP_country_data_agg.groupby(level=1).sum()+1e-30 # to prevent div by zero errors\n",
    "CEDS_global_total = CEDS_country_data_agg.groupby(level=1).sum()"
   ]
  },
  {
   "cell_type": "code",
   "execution_count": 38,
   "metadata": {},
   "outputs": [],
   "source": [
    "def run_country_pert(country,gas_param_ensemble,thermal_param_ensemble,country_forc):\n",
    "    \n",
    "    mem_names = gas_param_ensemble.columns.levels[0]\n",
    "    N = gas_param_ensemble.columns.levels[0].size\n",
    "\n",
    "    ## need to apply CO2 reduction to fossil co2 only\n",
    "    co2_ff = GCP_historical_emissions.loc[1750:2019,'fossil emissions excluding carbonation'].astype(float)\n",
    "    co2_LUC = GCP_historical_emissions.loc[1750:2019,'land-use change emissions'].astype(float)\n",
    "    \n",
    "    country_emms = baseline_emms.copy()\n",
    "\n",
    "    ## adding in CEDS based reductions\n",
    "    if country in CEDS_country_data_agg.index.levels[0]:\n",
    "\n",
    "        selected_country_proportions = CEDS_country_data_agg.loc[country]/CEDS_global_total\n",
    "\n",
    "        # remove the proportion attributed to the chosen sector:\n",
    "        for i,x in selected_country_proportions.iterrows():\n",
    "            country_emms.loc[:,i] *= 1-x\n",
    "\n",
    "        # treat nox_avi the same as nox (not a great assumption...)\n",
    "        country_emms.loc[:,'nox_avi'] *= 1-selected_country_proportions.loc['nox']\n",
    "\n",
    "\n",
    "    ## adding in PRIMAP\n",
    "    if country in PRIMAP_country_data_agg.index.levels[0]:\n",
    "\n",
    "        selected_country_proportions = (PRIMAP_country_data_agg.loc[country] / PRIMAP_global_total).dropna(how='all')\n",
    "        \n",
    "        ## co2 first\n",
    "        if 'carbon_dioxide' in selected_country_proportions.index:\n",
    "            \n",
    "            co2_ff *= 1-selected_country_proportions.loc['carbon_dioxide'].values\n",
    "\n",
    "            country_emms.loc[:,'carbon_dioxide'] = co2_ff+co2_LUC\n",
    "\n",
    "        for species in ['methane','nitrous_oxide','nf3','sf6']:\n",
    "            if species in selected_country_proportions.index:\n",
    "                country_emms.loc[:,species] *= 1-selected_country_proportions.loc[species]\n",
    "\n",
    "        for cat in ['HFCs','PFCs']:\n",
    "            if cat in selected_country_proportions.index:\n",
    "                for species in category_map[cat]:\n",
    "                    country_emms.loc[:,species] *= 1-selected_country_proportions.loc[cat]\n",
    "\n",
    "\n",
    "    ## finally, adding in ODS:\n",
    "    if country in ODS_proportions.index.levels[0]:\n",
    "        \n",
    "        selected_country_proportions = ODS_proportions.loc[country]\n",
    "\n",
    "        for cat in ['CFCs','HCFCs','HALONs']:\n",
    "            if cat in selected_country_proportions.index:\n",
    "                for species in category_map[cat]:\n",
    "                    country_emms.loc[:,species] *= 1-selected_country_proportions.loc[cat]\n",
    "\n",
    "        for species in ['carbon_tetrachloride','methyl_bromide','ch3ccl3']:\n",
    "            if species in selected_country_proportions.index:\n",
    "                country_emms.loc[:,species] *= 1-selected_country_proportions.loc[species]\n",
    "            \n",
    "    ## remaining species are: ['ch2cl2', 'chcl3', 'methyl_chloride', 'so2f2'] -> scale as sector 2 CO2\n",
    "    \n",
    "    if country in PRIMAP_sector_2_country_data.index:\n",
    "        \n",
    "        selected_country_proportions = PRIMAP_sector_2_country_data.loc[country] / PRIMAP_sector_2_country_data.sum()\n",
    "    \n",
    "        for species in ['ch2cl2', 'chcl3', 'methyl_chloride', 'so2f2']:\n",
    "            country_emms.loc[:,species] *= 1-selected_country_proportions\n",
    "            \n",
    "    country_emms_run = pd.concat([country_emms]*N,axis=1,keys=gas_param_ensemble.columns.levels[0])\n",
    "    \n",
    "    results = run_GIR(emissions_in=country_emms_run,forcing_in=country_forc,gas_parameters=gas_param_ensemble,thermal_parameters=thermal_param_ensemble,show_run_info=False)\n",
    "\n",
    "    return results"
   ]
  },
  {
   "cell_type": "code",
   "execution_count": 39,
   "metadata": {},
   "outputs": [],
   "source": [
    "## create external forcing for country attribution (since it is unchanging between countries):\n",
    "\n",
    "ssp='ssp245'\n",
    "\n",
    "erf_ar6 = pd.read_csv('https://raw.githubusercontent.com/Priestley-Centre/ssp_erf/master/SSPs/ERF_'+ssp+'_1750-2500.csv',index_col=0,dtype=float)\n",
    "\n",
    "## LUC\n",
    "LUC_forc_ensemble = pd.concat([erf_ar6['land_use'].reindex(np.arange(1750,2020))]*mem_names.size,axis=1,keys=mem_names)*EXT_forc_sfs.loc['LUC']\n",
    "\n",
    "## Natural\n",
    "volc_forc_ensemble = pd.concat([erf_ar6['volcanic'].reindex(np.arange(1750,2020))]*mem_names.size,axis=1,keys=mem_names)*EXT_forc_sfs.loc['volc']\n",
    "sol_forc_ensemble = pd.concat([erf_ar6['solar'].reindex(np.arange(1750,2020))]*mem_names.size,axis=1,keys=mem_names)*EXT_forc_sfs.loc['sol']\n",
    "\n",
    "country_forc = pd.concat([LUC_forc_ensemble+volc_forc_ensemble+sol_forc_ensemble],axis=1,keys=['forcing']).swaplevel(0,1,axis=1)"
   ]
  },
  {
   "cell_type": "code",
   "execution_count": 41,
   "metadata": {
    "collapsed": true,
    "jupyter": {
     "outputs_hidden": true
    }
   },
   "outputs": [
    {
     "name": "stderr",
     "output_type": "stream",
     "text": [
      "100%|██████████| 269/269 [00:27<00:00,  9.94 timestep/s]\n",
      "100%|██████████| 269/269 [00:27<00:00,  9.93 timestep/s]\n",
      "100%|██████████| 269/269 [00:27<00:00,  9.95 timestep/s]\n",
      "100%|██████████| 269/269 [00:26<00:00, 10.02 timestep/s]\n",
      "100%|██████████| 269/269 [00:26<00:00,  9.99 timestep/s]\n",
      "100%|██████████| 269/269 [00:26<00:00, 10.02 timestep/s]\n",
      "100%|██████████| 269/269 [00:26<00:00,  9.97 timestep/s]\n",
      "100%|██████████| 269/269 [00:25<00:00, 10.53 timestep/s]\n",
      "100%|██████████| 269/269 [00:25<00:00, 10.57 timestep/s]\n",
      "100%|██████████| 269/269 [00:26<00:00,  9.97 timestep/s]\n",
      "100%|██████████| 269/269 [00:26<00:00,  9.99 timestep/s]\n",
      "100%|██████████| 269/269 [00:27<00:00,  9.91 timestep/s]\n",
      "100%|██████████| 269/269 [00:27<00:00,  9.95 timestep/s]\n",
      "100%|██████████| 269/269 [00:27<00:00,  9.96 timestep/s]\n",
      "100%|██████████| 269/269 [00:26<00:00,  9.99 timestep/s]\n",
      "100%|██████████| 269/269 [00:26<00:00,  9.97 timestep/s]\n",
      "100%|██████████| 269/269 [00:26<00:00,  9.98 timestep/s]\n",
      "100%|██████████| 269/269 [00:27<00:00,  9.74 timestep/s]\n",
      "100%|██████████| 269/269 [00:25<00:00, 10.59 timestep/s]\n",
      "100%|██████████| 269/269 [00:26<00:00, 10.04 timestep/s]\n",
      "100%|██████████| 269/269 [00:26<00:00,  9.97 timestep/s]\n",
      "100%|██████████| 269/269 [00:27<00:00,  9.95 timestep/s]\n",
      "100%|██████████| 269/269 [00:25<00:00, 10.59 timestep/s]\n",
      "100%|██████████| 269/269 [00:26<00:00, 10.03 timestep/s]\n",
      "100%|██████████| 269/269 [00:26<00:00,  9.99 timestep/s]\n",
      "100%|██████████| 269/269 [00:26<00:00,  9.99 timestep/s]\n",
      "100%|██████████| 269/269 [00:26<00:00, 10.00 timestep/s]\n",
      "100%|██████████| 269/269 [00:26<00:00,  9.98 timestep/s]\n",
      "100%|██████████| 269/269 [00:27<00:00,  9.94 timestep/s]\n",
      "100%|██████████| 269/269 [00:27<00:00,  9.95 timestep/s]\n",
      "100%|██████████| 269/269 [00:27<00:00,  9.81 timestep/s]\n",
      "100%|██████████| 269/269 [00:26<00:00, 10.02 timestep/s]\n",
      "100%|██████████| 269/269 [00:26<00:00,  9.98 timestep/s]\n",
      "100%|██████████| 269/269 [00:26<00:00, 10.02 timestep/s]\n",
      "100%|██████████| 269/269 [00:25<00:00, 10.64 timestep/s]\n",
      "100%|██████████| 269/269 [00:25<00:00, 10.63 timestep/s]\n",
      "100%|██████████| 269/269 [00:25<00:00, 10.63 timestep/s]\n",
      "100%|██████████| 269/269 [00:27<00:00,  9.93 timestep/s]\n",
      "100%|██████████| 269/269 [00:26<00:00,  9.98 timestep/s]\n",
      "100%|██████████| 269/269 [00:26<00:00, 10.00 timestep/s]\n",
      "100%|██████████| 269/269 [00:27<00:00,  9.94 timestep/s]\n",
      "100%|██████████| 269/269 [00:26<00:00,  9.98 timestep/s]\n",
      "100%|██████████| 269/269 [00:27<00:00,  9.90 timestep/s]\n",
      "100%|██████████| 269/269 [00:26<00:00, 10.00 timestep/s]\n",
      "100%|██████████| 269/269 [00:26<00:00, 10.00 timestep/s]\n",
      "100%|██████████| 269/269 [00:26<00:00,  9.98 timestep/s]\n",
      "100%|██████████| 269/269 [00:27<00:00,  9.95 timestep/s]\n",
      "100%|██████████| 269/269 [00:26<00:00,  9.99 timestep/s]\n",
      "100%|██████████| 269/269 [00:26<00:00,  9.98 timestep/s]\n",
      "100%|██████████| 269/269 [00:25<00:00, 10.59 timestep/s]\n",
      "100%|██████████| 269/269 [00:26<00:00, 10.11 timestep/s]\n",
      "100%|██████████| 269/269 [00:26<00:00, 10.04 timestep/s]\n",
      "100%|██████████| 269/269 [00:26<00:00, 10.02 timestep/s]\n",
      "100%|██████████| 269/269 [00:26<00:00,  9.97 timestep/s]\n",
      "100%|██████████| 269/269 [00:27<00:00,  9.93 timestep/s]\n",
      "100%|██████████| 269/269 [00:26<00:00,  9.98 timestep/s]\n",
      "100%|██████████| 269/269 [00:27<00:00,  9.91 timestep/s]\n",
      "100%|██████████| 269/269 [00:27<00:00,  9.93 timestep/s]\n",
      "100%|██████████| 269/269 [00:27<00:00,  9.90 timestep/s]\n",
      "100%|██████████| 269/269 [00:26<00:00, 10.01 timestep/s]\n",
      "100%|██████████| 269/269 [00:27<00:00,  9.91 timestep/s]\n",
      "100%|██████████| 269/269 [00:25<00:00, 10.66 timestep/s]\n",
      "100%|██████████| 269/269 [00:26<00:00,  9.97 timestep/s]\n",
      "100%|██████████| 269/269 [00:26<00:00,  9.97 timestep/s]\n",
      "100%|██████████| 269/269 [00:26<00:00,  9.98 timestep/s]\n",
      "100%|██████████| 269/269 [00:26<00:00, 10.00 timestep/s]\n",
      "100%|██████████| 269/269 [00:27<00:00,  9.96 timestep/s]\n",
      "100%|██████████| 269/269 [00:26<00:00,  9.97 timestep/s]\n",
      "100%|██████████| 269/269 [00:25<00:00, 10.62 timestep/s]\n",
      "100%|██████████| 269/269 [00:25<00:00, 10.58 timestep/s]\n",
      "100%|██████████| 269/269 [00:27<00:00,  9.72 timestep/s]\n",
      "100%|██████████| 269/269 [00:26<00:00, 10.12 timestep/s]\n",
      "100%|██████████| 269/269 [00:26<00:00, 10.05 timestep/s]\n",
      "100%|██████████| 269/269 [00:26<00:00, 10.17 timestep/s]\n",
      "100%|██████████| 269/269 [00:25<00:00, 10.59 timestep/s]\n",
      "100%|██████████| 269/269 [00:26<00:00,  9.99 timestep/s]\n",
      "100%|██████████| 269/269 [00:26<00:00, 10.20 timestep/s]\n",
      "100%|██████████| 269/269 [00:26<00:00, 10.21 timestep/s]\n",
      "100%|██████████| 269/269 [00:25<00:00, 10.52 timestep/s]\n",
      "100%|██████████| 269/269 [00:25<00:00, 10.62 timestep/s]\n",
      "100%|██████████| 269/269 [00:27<00:00,  9.96 timestep/s]\n",
      "100%|██████████| 269/269 [00:26<00:00, 10.01 timestep/s]\n",
      "100%|██████████| 269/269 [00:26<00:00,  9.99 timestep/s]\n",
      "100%|██████████| 269/269 [00:26<00:00, 10.17 timestep/s]\n",
      "100%|██████████| 269/269 [00:26<00:00, 10.25 timestep/s]\n",
      "100%|██████████| 269/269 [00:25<00:00, 10.53 timestep/s]\n",
      "100%|██████████| 269/269 [00:26<00:00, 10.26 timestep/s]\n",
      "100%|██████████| 269/269 [00:26<00:00, 10.25 timestep/s]\n",
      "100%|██████████| 269/269 [00:26<00:00, 10.22 timestep/s]\n",
      "100%|██████████| 269/269 [00:26<00:00, 10.18 timestep/s]\n",
      "100%|██████████| 269/269 [00:26<00:00, 10.21 timestep/s]\n",
      "100%|██████████| 269/269 [00:27<00:00,  9.87 timestep/s]\n",
      "100%|██████████| 269/269 [00:26<00:00, 10.00 timestep/s]\n",
      "100%|██████████| 269/269 [00:26<00:00, 10.20 timestep/s]\n",
      "100%|██████████| 269/269 [00:26<00:00, 10.23 timestep/s]\n",
      "100%|██████████| 269/269 [00:26<00:00, 10.21 timestep/s]\n",
      "100%|██████████| 269/269 [00:25<00:00, 10.53 timestep/s]\n",
      "100%|██████████| 269/269 [00:26<00:00, 10.00 timestep/s]\n",
      "100%|██████████| 269/269 [00:26<00:00, 10.20 timestep/s]\n",
      "100%|██████████| 269/269 [00:26<00:00, 10.13 timestep/s]\n",
      "100%|██████████| 269/269 [00:26<00:00, 10.15 timestep/s]\n",
      "100%|██████████| 269/269 [00:26<00:00, 10.03 timestep/s]\n",
      "100%|██████████| 269/269 [00:26<00:00, 10.22 timestep/s]\n",
      "100%|██████████| 269/269 [00:26<00:00, 10.34 timestep/s]\n",
      "100%|██████████| 269/269 [00:26<00:00, 10.30 timestep/s]\n",
      "100%|██████████| 269/269 [00:26<00:00, 10.31 timestep/s]\n",
      "100%|██████████| 269/269 [00:25<00:00, 10.62 timestep/s]\n",
      "100%|██████████| 269/269 [00:26<00:00, 10.10 timestep/s]\n",
      "100%|██████████| 269/269 [00:26<00:00, 10.16 timestep/s]\n",
      "100%|██████████| 269/269 [00:26<00:00, 10.15 timestep/s]\n",
      "100%|██████████| 269/269 [00:26<00:00,  9.98 timestep/s]\n",
      "100%|██████████| 269/269 [00:26<00:00, 10.15 timestep/s]\n",
      "100%|██████████| 269/269 [00:26<00:00, 10.20 timestep/s]\n",
      "100%|██████████| 269/269 [00:26<00:00, 10.25 timestep/s]\n",
      "100%|██████████| 269/269 [00:26<00:00,  9.99 timestep/s]\n",
      "100%|██████████| 269/269 [00:26<00:00, 10.06 timestep/s]\n",
      "100%|██████████| 269/269 [00:26<00:00,  9.97 timestep/s]\n",
      "100%|██████████| 269/269 [00:26<00:00, 10.04 timestep/s]\n",
      "100%|██████████| 269/269 [00:26<00:00, 10.02 timestep/s]\n",
      "100%|██████████| 269/269 [00:26<00:00,  9.99 timestep/s]\n",
      "100%|██████████| 269/269 [00:26<00:00, 10.01 timestep/s]\n",
      "100%|██████████| 269/269 [00:26<00:00,  9.97 timestep/s]\n",
      "100%|██████████| 269/269 [00:27<00:00,  9.86 timestep/s]\n",
      "100%|██████████| 269/269 [00:27<00:00,  9.72 timestep/s]\n",
      "100%|██████████| 269/269 [00:26<00:00, 10.03 timestep/s]\n",
      "100%|██████████| 269/269 [00:26<00:00, 10.30 timestep/s]\n",
      "100%|██████████| 269/269 [00:26<00:00, 10.27 timestep/s]\n",
      "100%|██████████| 269/269 [00:26<00:00, 10.06 timestep/s]\n",
      "100%|██████████| 269/269 [00:26<00:00, 10.29 timestep/s]\n",
      "100%|██████████| 269/269 [00:26<00:00, 10.29 timestep/s]\n",
      "100%|██████████| 269/269 [00:26<00:00, 10.30 timestep/s]\n",
      "100%|██████████| 269/269 [00:26<00:00, 10.29 timestep/s]\n",
      "100%|██████████| 269/269 [00:26<00:00, 10.32 timestep/s]\n",
      "100%|██████████| 269/269 [00:26<00:00, 10.34 timestep/s]\n",
      "100%|██████████| 269/269 [00:25<00:00, 10.37 timestep/s]\n",
      "100%|██████████| 269/269 [00:26<00:00, 10.34 timestep/s]\n",
      "100%|██████████| 269/269 [00:26<00:00, 10.08 timestep/s]\n",
      "100%|██████████| 269/269 [00:25<00:00, 10.67 timestep/s]\n",
      "100%|██████████| 269/269 [00:25<00:00, 10.63 timestep/s]\n",
      "100%|██████████| 269/269 [00:25<00:00, 10.68 timestep/s]\n",
      "100%|██████████| 269/269 [00:25<00:00, 10.68 timestep/s]\n",
      "100%|██████████| 269/269 [00:25<00:00, 10.64 timestep/s]\n",
      "100%|██████████| 269/269 [00:25<00:00, 10.62 timestep/s]\n",
      "100%|██████████| 269/269 [00:25<00:00, 10.66 timestep/s]\n",
      "100%|██████████| 269/269 [00:25<00:00, 10.62 timestep/s]\n",
      "100%|██████████| 269/269 [00:25<00:00, 10.36 timestep/s]\n",
      "100%|██████████| 269/269 [00:26<00:00, 10.33 timestep/s]\n",
      "100%|██████████| 269/269 [00:25<00:00, 10.36 timestep/s]\n",
      "100%|██████████| 269/269 [00:25<00:00, 10.36 timestep/s]\n",
      "100%|██████████| 269/269 [00:26<00:00, 10.26 timestep/s]\n",
      "100%|██████████| 269/269 [00:26<00:00, 10.30 timestep/s]\n",
      "100%|██████████| 269/269 [00:26<00:00, 10.32 timestep/s]\n",
      "100%|██████████| 269/269 [00:26<00:00, 10.01 timestep/s]\n",
      "100%|██████████| 269/269 [00:26<00:00,  9.99 timestep/s]\n",
      "100%|██████████| 269/269 [00:26<00:00, 10.00 timestep/s]\n",
      "100%|██████████| 269/269 [00:25<00:00, 10.62 timestep/s]\n",
      "100%|██████████| 269/269 [00:25<00:00, 10.60 timestep/s]\n",
      "100%|██████████| 269/269 [00:26<00:00, 10.01 timestep/s]\n",
      "100%|██████████| 269/269 [00:26<00:00, 10.33 timestep/s]\n",
      "100%|██████████| 269/269 [00:25<00:00, 10.40 timestep/s]\n",
      "100%|██████████| 269/269 [00:26<00:00, 10.01 timestep/s]\n",
      "100%|██████████| 269/269 [00:26<00:00,  9.98 timestep/s]\n",
      "100%|██████████| 269/269 [00:26<00:00, 10.03 timestep/s]\n",
      "100%|██████████| 269/269 [00:26<00:00, 10.03 timestep/s]\n",
      "100%|██████████| 269/269 [00:26<00:00,  9.99 timestep/s]\n",
      "100%|██████████| 269/269 [00:26<00:00, 10.22 timestep/s]\n",
      "100%|██████████| 269/269 [00:25<00:00, 10.67 timestep/s]\n",
      "100%|██████████| 269/269 [00:25<00:00, 10.61 timestep/s]\n",
      "100%|██████████| 269/269 [00:25<00:00, 10.44 timestep/s]\n",
      "100%|██████████| 269/269 [00:25<00:00, 10.49 timestep/s]\n",
      "100%|██████████| 269/269 [00:25<00:00, 10.46 timestep/s]\n",
      "100%|██████████| 269/269 [00:25<00:00, 10.51 timestep/s]\n",
      "100%|██████████| 269/269 [00:25<00:00, 10.49 timestep/s]\n",
      "100%|██████████| 269/269 [00:25<00:00, 10.50 timestep/s]\n",
      "100%|██████████| 269/269 [00:25<00:00, 10.50 timestep/s]\n",
      "100%|██████████| 269/269 [00:25<00:00, 10.66 timestep/s]\n",
      "100%|██████████| 269/269 [00:25<00:00, 10.60 timestep/s]\n",
      "100%|██████████| 269/269 [00:26<00:00, 10.20 timestep/s]\n",
      "100%|██████████| 269/269 [00:26<00:00, 10.07 timestep/s]\n",
      "100%|██████████| 269/269 [00:26<00:00, 10.12 timestep/s]\n",
      "100%|██████████| 269/269 [00:27<00:00,  9.85 timestep/s]\n",
      "100%|██████████| 269/269 [00:26<00:00, 10.01 timestep/s]\n",
      "100%|██████████| 269/269 [00:25<00:00, 10.63 timestep/s]\n",
      "100%|██████████| 269/269 [00:25<00:00, 10.63 timestep/s]\n",
      "100%|██████████| 269/269 [00:25<00:00, 10.46 timestep/s]\n",
      "100%|██████████| 269/269 [00:25<00:00, 10.39 timestep/s]\n",
      "100%|██████████| 269/269 [00:25<00:00, 10.41 timestep/s]\n",
      "100%|██████████| 269/269 [00:25<00:00, 10.44 timestep/s]\n"
     ]
    }
   ],
   "source": [
    "contries_to_analyse = list(set(PRIMAP_country_data_agg.index.levels[0].tolist()).intersection(CEDS_country_data_agg.index.levels[0].tolist()))\n",
    "\n",
    "for country in contries_to_analyse:\n",
    "    country_run = run_country_pert(country,gas_param_ensemble,thermal_param_ensemble,country_forc)\n",
    "    (baseline_temp-country_run['T']).to_hdf(r'../../../FaIR_projection_interactive/attribution_experiments/countries/'+country+'.h5', key='stage', mode='w')\n",
    "    (baseline['RF']-country_run['RF']).groupby(axis=1,level=-1).mean().groupby(param_categories_inv,axis=1).sum().to_hdf(r'../../../FaIR_projection_interactive/attribution_experiments/countries/'+country+'_meanRF.h5', key='stage', mode='w')"
   ]
  },
  {
   "cell_type": "code",
   "execution_count": 41,
   "metadata": {},
   "outputs": [],
   "source": [
    "# baseline_temp.to_hdf(r'../../../FaIR_projection_interactive/attribution_experiments/baseline-temps.h5', key='stage', mode='w')"
   ]
  },
  {
   "cell_type": "markdown",
   "metadata": {},
   "source": [
    "### Redo but for CO2 only:"
   ]
  },
  {
   "cell_type": "code",
   "execution_count": 38,
   "metadata": {},
   "outputs": [],
   "source": [
    "# def run_country_pert_co2only(country,gas_param_ensemble,thermal_param_ensemble,country_forc):\n",
    "    \n",
    "#     mem_names = gas_param_ensemble.columns.levels[0]\n",
    "#     N = gas_param_ensemble.columns.levels[0].size\n",
    "\n",
    "#     ## need to apply CO2 reduction to fossil co2 only\n",
    "#     co2_ff = GCP_historical_emissions.loc[1750:2019,'fossil emissions excluding carbonation'].astype(float)\n",
    "#     co2_LUC = GCP_historical_emissions.loc[1750:2019,'land-use change emissions'].astype(float)\n",
    "    \n",
    "#     country_emms = baseline_emms.copy()\n",
    "\n",
    "#     ## adding in PRIMAP\n",
    "#     if country in PRIMAP_country_data_agg.index.levels[0]:\n",
    "\n",
    "#         selected_country_proportions = (PRIMAP_country_data_agg.loc[country] / PRIMAP_global_total).dropna(how='all')\n",
    "        \n",
    "#         ## co2 first\n",
    "#         if 'carbon_dioxide' in selected_country_proportions.index:\n",
    "            \n",
    "#             co2_ff *= 1-selected_country_proportions.loc['carbon_dioxide'].values\n",
    "\n",
    "#             country_emms.loc[:,'carbon_dioxide'] = co2_ff+co2_LUC\n",
    "\n",
    "            \n",
    "#     country_emms_run = pd.concat([country_emms]*N,axis=1,keys=gas_param_ensemble.columns.levels[0])\n",
    "    \n",
    "#     results = run_GIR(emissions_in=country_emms_run,forcing_in=country_forc,gas_parameters=gas_param_ensemble,thermal_parameters=thermal_param_ensemble,show_run_info=False)\n",
    "\n",
    "#     return results"
   ]
  },
  {
   "cell_type": "code",
   "execution_count": 39,
   "metadata": {},
   "outputs": [],
   "source": [
    "# contries_to_analyse = list(set(PRIMAP_country_data_agg.index.levels[0].tolist()).intersection(CEDS_country_data_agg.index.levels[0].tolist()))\n",
    "\n",
    "# for country in contries_to_analyse:\n",
    "#     (baseline_temp-run_country_pert_co2only(country,gas_param_ensemble,thermal_param_ensemble,country_forc)['T']).to_hdf(r'../../../FaIR_projection_interactive/attribution_experiments/countries/'+country+'_co2-only.h5', key='stage', mode='w')"
   ]
  },
  {
   "cell_type": "markdown",
   "metadata": {},
   "source": [
    "## Diagnostics"
   ]
  },
  {
   "cell_type": "code",
   "execution_count": 40,
   "metadata": {},
   "outputs": [
    {
     "name": "stderr",
     "output_type": "stream",
     "text": [
      "100%|██████████| 269/269 [00:41<00:00,  6.49 timestep/s]\n"
     ]
    }
   ],
   "source": [
    "test = run_country_pert('PER',gas_param_ensemble,thermal_param_ensemble,country_forc)"
   ]
  },
  {
   "cell_type": "code",
   "execution_count": null,
   "metadata": {},
   "outputs": [],
   "source": []
  },
  {
   "cell_type": "markdown",
   "metadata": {},
   "source": [
    "## Checking the proportionality (ie. FaIR additivity) of results:\n",
    "- redo the computations for a single member to check the results make sense"
   ]
  },
  {
   "cell_type": "code",
   "execution_count": 36,
   "metadata": {},
   "outputs": [],
   "source": [
    "# ## select as single parameter set:\n",
    "# param_set = gas_param_ensemble.columns.levels[0][0]\n",
    "\n",
    "# gas_param_test = gas_param_ensemble.reindex([param_set],axis=1,level=0)\n",
    "# thermal_param_test = thermal_param_ensemble.reindex([param_set],axis=1,level=0)\n",
    "# EXT_forc_sfs_test = EXT_forc_sfs.reindex([param_set],axis=1)"
   ]
  },
  {
   "cell_type": "code",
   "execution_count": 37,
   "metadata": {},
   "outputs": [],
   "source": [
    "# baseline_run = run_NROY_standard_ssp('ssp245',gas_param_test,thermal_param_test,EXT_forc_sfs_test)"
   ]
  },
  {
   "cell_type": "code",
   "execution_count": 38,
   "metadata": {},
   "outputs": [],
   "source": [
    "# sector_temp_list = []\n",
    "\n",
    "# for sector in np.arange(1,6):\n",
    "#     sector_temp_list += [baseline_temp-run_sectoral_pert(sector,gas_param_test,thermal_param_test,EXT_forc_sfs_test)]\n",
    "    \n",
    "# attr_temps_sectors = pd.concat(sector_temp_list,axis=1,keys=[1,2,3,4,5])"
   ]
  },
  {
   "cell_type": "code",
   "execution_count": 39,
   "metadata": {},
   "outputs": [],
   "source": [
    "# country_temp_list = []\n",
    "# country_rf_list = []\n",
    "\n",
    "# contries_to_analyse = list(set(PRIMAP_country_data_agg.index.levels[0].tolist()).intersection(CEDS_country_data_agg.index.levels[0].tolist()))\n",
    "\n",
    "# for country in contries_to_analyse:\n",
    "#     result=run_country_pert(country,gas_param_test,thermal_param_test,EXT_forc_sfs_test)\n",
    "#     country_temp_list += [baseline_run['T']-result['T']]\n",
    "#     country_rf_list += [baseline_run['RF']-result['RF']]\n",
    "    \n",
    "# attr_temps_countries = pd.concat(country_temp_list,axis=1,keys=contries_to_analyse)\n",
    "# attr_rf_countries = pd.concat(country_rf_list,axis=1,keys=contries_to_analyse)"
   ]
  },
  {
   "cell_type": "markdown",
   "metadata": {},
   "source": [
    "## Appendix A: Reversibility of sectoral warming\n",
    "- Extend original baseline run out into future with constant concentrations & forcing.\n",
    "- Set emissions / forcing from that sector to 0 in 2020.\n",
    "- check how much of the peak attributable warming is reversed on several timescales."
   ]
  },
  {
   "cell_type": "markdown",
   "metadata": {},
   "source": [
    "#### Sorting out what the future baseline is...\n",
    "- want to know what proportion of peak sectoral warming is reversible\n",
    "- constant concentrations run??? (issue with matching up proportions)"
   ]
  },
  {
   "cell_type": "code",
   "execution_count": 32,
   "metadata": {},
   "outputs": [],
   "source": [
    "# select subset of ensemble:\n",
    "mem_names = mem_names[np.random.choice(mem_names.size,10000,replace=False)]\n",
    "\n",
    "gas_param_ensemble = gas_param_ensemble.reindex(mem_names,axis=1,level=0)\n",
    "thermal_param_ensemble = thermal_param_ensemble.reindex(mem_names,axis=1,level=0)\n",
    "EXT_forc_sfs = EXT_forc_sfs.reindex(mem_names,axis=1)"
   ]
  },
  {
   "cell_type": "code",
   "execution_count": 33,
   "metadata": {},
   "outputs": [],
   "source": [
    "## first, run normal sectoral warming up to present.\n",
    "\n",
    "attr_temps_sectors = pd.read_hdf('../../../FaIR_projection_interactive/attribution_experiments/sector-attributed-temps.h5').reindex(mem_names,axis=1,level=1)"
   ]
  },
  {
   "cell_type": "code",
   "execution_count": 34,
   "metadata": {},
   "outputs": [],
   "source": [
    "def run_sectoral_pert_reversible(choose_sector,gas_param_ensemble,thermal_param_ensemble,EXT_forc_sfs):\n",
    "    \n",
    "    mem_names = gas_param_ensemble.columns.levels[0]\n",
    "    N = gas_param_ensemble.columns.levels[0].size\n",
    "\n",
    "    ## Forcing first - only need to add LUC for sector 3\n",
    "    erf_ar6 = pd.read_csv('https://raw.githubusercontent.com/Priestley-Centre/ssp_erf/master/SSPs/ERF_'+ssp+'_1750-2500.csv',index_col=0,dtype=float)\n",
    "\n",
    "    ## LUC\n",
    "    LUC_forc_ensemble = pd.concat([erf_ar6['land_use'].reindex(np.arange(1750,2320))]*mem_names.size,axis=1,keys=mem_names)*EXT_forc_sfs.loc['LUC']\n",
    "    \n",
    "    if choose_sector!=3:\n",
    "        LUC_forc_ensemble.loc[:] = 0\n",
    "    else:\n",
    "        LUC_forc_ensemble.loc[2020:] = 0\n",
    "\n",
    "    sectoral_forc = pd.concat([LUC_forc_ensemble],axis=1,keys=['forcing']).swaplevel(0,1,axis=1)\n",
    "\n",
    "    ## need to apply CO2 reduction to fossil co2 only\n",
    "    co2_ff = GCP_historical_emissions.loc[1750:2019,'fossil emissions excluding carbonation'].astype(float)\n",
    "    co2_LUC = GCP_historical_emissions.loc[1750:2019,'land-use change emissions'].astype(float)\n",
    "    \n",
    "    sectoral_emms = baseline_emms.copy()\n",
    "\n",
    "    ## adding in CEDS based reductions\n",
    "    if choose_sector in CEDS_sector_data.index.levels[0]:\n",
    "\n",
    "        CEDS_sector_proportions = (CEDS_sector_data/(CEDS_sector_data.groupby(level=1).sum())).droplevel(2)\n",
    "\n",
    "        selected_sector_proportions = CEDS_sector_proportions.loc[choose_sector]\n",
    "\n",
    "        # remove the proportion attributed to the chosen sector:\n",
    "        for i,x in selected_sector_proportions.iterrows():\n",
    "            sectoral_emms.loc[:,i] *= x\n",
    "\n",
    "        # treat nox_avi only for sector 1\n",
    "        if choose_sector==1:\n",
    "            sectoral_emms.loc[:,'nox_avi'] *= selected_sector_proportions.loc['nox']\n",
    "\n",
    "\n",
    "    ## adding in PRIMAP\n",
    "    if choose_sector in PRIMAP_sector_data.index.levels[0]:\n",
    "    \n",
    "        PRIMAP_sector_proportions = (PRIMAP_sector_data / PRIMAP_sector_data.groupby(level=1).sum()).droplevel(2).replace(np.nan,1)\n",
    "\n",
    "        selected_sector_proportions = PRIMAP_sector_proportions.loc[choose_sector]\n",
    "        \n",
    "        ## co2 first\n",
    "        co2_ff *= selected_sector_proportions.loc['carbon_dioxide'].values\n",
    "        \n",
    "        if choose_sector!=3:\n",
    "            co2_LUC *= 0\n",
    "            \n",
    "        sectoral_emms.loc[:,'carbon_dioxide'] = co2_ff+co2_LUC\n",
    "\n",
    "        for species in ['methane','nitrous_oxide']:\n",
    "            sectoral_emms.loc[:,species] *= selected_sector_proportions.loc[species]\n",
    "\n",
    "        ## if sector = 2 then change other categories too\n",
    "        if choose_sector==2:\n",
    "\n",
    "            # edit direct species first:\n",
    "            for species in ['nf3','sf6']:\n",
    "                sectoral_emms.loc[:,species] *= selected_sector_proportions.loc[species]\n",
    "\n",
    "            for cat in ['HFCs','PFCs']:\n",
    "                for species in category_map[cat]:\n",
    "                    sectoral_emms.loc[:,species] *= selected_sector_proportions.loc[cat]\n",
    "\n",
    "\n",
    "    ## finally, adding in ODS (which is all sector 2):\n",
    "    if choose_sector != 2:\n",
    "\n",
    "        for cat in ['CFCs','HCFCs','HALONs']:\n",
    "            for species in category_map[cat]:\n",
    "                sectoral_emms.loc[:,species] *= 0\n",
    "\n",
    "        for species in ['carbon_tetrachloride','methyl_bromide','ch3ccl3','ch2cl2', 'chcl3', 'methyl_chloride', 'so2f2']:\n",
    "            sectoral_emms.loc[:,species] *= 0\n",
    "            \n",
    "    sectoral_emms_run = pd.concat([sectoral_emms.reindex(np.arange(1750,2320)).replace(np.nan,0)]*N,axis=1,keys=gas_param_ensemble.columns.levels[0])\n",
    "    \n",
    "    results = run_GIR(emissions_in=sectoral_emms_run,forcing_in=sectoral_forc,gas_parameters=gas_param_ensemble,thermal_parameters=thermal_param_ensemble,show_run_info=False)\n",
    "\n",
    "    return results"
   ]
  },
  {
   "cell_type": "code",
   "execution_count": 35,
   "metadata": {},
   "outputs": [
    {
     "name": "stderr",
     "output_type": "stream",
     "text": [
      "100%|██████████| 569/569 [00:39<00:00, 14.45 timestep/s]\n",
      "100%|██████████| 569/569 [00:41<00:00, 13.58 timestep/s]\n",
      "100%|██████████| 569/569 [00:40<00:00, 14.15 timestep/s]\n",
      "100%|██████████| 569/569 [00:37<00:00, 15.02 timestep/s]\n",
      "100%|██████████| 569/569 [00:38<00:00, 14.97 timestep/s]\n"
     ]
    }
   ],
   "source": [
    "sector_temp_list = []\n",
    "\n",
    "for sector in np.arange(1,6):\n",
    "    sector_temp_list += [run_sectoral_pert_reversible(sector,gas_param_ensemble,thermal_param_ensemble,EXT_forc_sfs)['T']]\n",
    "    \n",
    "attr_temps_sectors_reverse = pd.concat(sector_temp_list,axis=1,keys=[1,2,3,4,5])"
   ]
  },
  {
   "cell_type": "code",
   "execution_count": 36,
   "metadata": {},
   "outputs": [],
   "source": [
    "sector_reversibility_proportion = (attr_temps_sectors_reverse.loc[2019:] / attr_temps_sectors_reverse.loc[2019])\n",
    "sector_reversibility_absolute = (attr_temps_sectors_reverse.loc[2019:] - attr_temps_sectors_reverse.loc[2019])"
   ]
  },
  {
   "cell_type": "code",
   "execution_count": 37,
   "metadata": {},
   "outputs": [
    {
     "data": {
      "image/png": "[encoded data removed]",
      "text/plain": [
       "<Figure size 1800x360 with 5 Axes>"
      ]
     },
     "metadata": {
      "needs_background": "light"
     },
     "output_type": "display_data"
    }
   ],
   "source": [
    "fig,axes = plt.subplots(1,5,figsize=(25,5))\n",
    "\n",
    "for i,ax in enumerate(axes):\n",
    "    ax.plot(sector_reversibility_absolute[i+1].median(axis=1),color='k',lw=2)\n",
    "    ax.fill_between(sector_reversibility_absolute.index,*sector_reversibility_absolute[i+1].quantile([0.05,0.95],axis=1).values,color='k',alpha=0.2,lw=0)\n",
    "    ax.fill_between(sector_reversibility_absolute.index,*sector_reversibility_absolute[i+1].quantile([0.17,0.83],axis=1).values,color='k',alpha=0.2,lw=0)\n",
    "    ax.set_title(str(i+1))\n",
    "    ax.set_xlim(2019,2319)\n",
    "    ax.set_ylim(-0.5,0.8)"
   ]
  },
  {
   "cell_type": "code",
   "execution_count": null,
   "metadata": {},
   "outputs": [],
   "source": []
  }
 ],
 "metadata": {
  "kernelspec": {
   "display_name": "Python 3",
   "language": "python",
   "name": "python3"
  },
  "language_info": {
   "codemirror_mode": {
    "name": "ipython",
    "version": 3
   },
   "file_extension": ".py",
   "mimetype": "text/x-python",
   "name": "python",
   "nbconvert_exporter": "python",
   "pygments_lexer": "ipython3",
   "version": "3.7.8"
  }
 },
 "nbformat": 4,
 "nbformat_minor": 4
}
