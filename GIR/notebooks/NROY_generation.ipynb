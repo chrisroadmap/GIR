{
 "cells": [
  {
   "cell_type": "markdown",
   "metadata": {},
   "source": [
    "## Import dependencies"
   ]
  },
  {
   "cell_type": "code",
   "execution_count": 1,
   "metadata": {
    "jupyter": {
     "source_hidden": true
    }
   },
   "outputs": [
    {
     "name": "stderr",
     "output_type": "stream",
     "text": [
      "/home/leachl/miniconda3/lib/python3.7/site-packages/pandas/core/indexing.py:1762: PerformanceWarning: indexing past lexsort depth may impact performance.\n",
      "  return self._getitem_tuple(key)\n",
      "../tools/RCMIP.py:61: PerformanceWarning: indexing past lexsort depth may impact performance.\n",
      "  GIR_to_RCMIP_map.loc[RCMIP_to_GIR_map_concs.values(),'RCMIP_concs_unit'] = RCMIP_concs.loc[('World','ssp245')].reindex(RCMIP_to_GIR_map_concs.keys()).loc[:,'Unit'].values#.loc[('World','ssp245',RCMIP_to_GIR_map_concs.keys()),'Unit'].values\n"
     ]
    }
   ],
   "source": [
    "## Get dependencies ##\n",
    "\n",
    "import numpy as np\n",
    "import string\n",
    "import math\n",
    "import sys\n",
    "import pandas as pd\n",
    "import matplotlib.pyplot as plt\n",
    "import matplotlib\n",
    "sys.path.append('..')\n",
    "from GIR import *\n",
    "import scipy as sp\n",
    "import pickle\n",
    "import time\n",
    "import scipy as sp\n",
    "from scipy import signal\n",
    "from scipy.io.idl import readsav\n",
    "import os\n",
    "from mpl_toolkits.axes_grid1.inset_locator import inset_axes\n",
    "import glob\n",
    "import requests\n",
    "import ftplib\n",
    "import io\n",
    "import cmocean\n",
    "from bs4 import BeautifulSoup\n",
    "import urllib.request\n",
    "from io import StringIO, BytesIO\n",
    "from zipfile import ZipFile\n",
    "import tqdm\n",
    "import seaborn as sn\n",
    "import re\n",
    "\n",
    "## get SSP emissions\n",
    "from tools.RCMIP import *\n",
    "\n",
    "GCP_historical_emissions=pd.read_csv('https://raw.githubusercontent.com/openclimatedata/global-carbon-budget/master/data/historical-budget.csv',index_col=0,usecols=[0,1,2])\n",
    "# set 1750 value to 0\n",
    "GCP_historical_emissions.loc[1750,'Fossil-Fuel-Industry'] = 0\n",
    "# linearly interpolate between 0 and first land-use-change datapoint\n",
    "GCP_historical_emissions.loc[1750:1849,'Land-Use-Change'] = np.linspace(0,0.99,100) * GCP_historical_emissions.loc[1850,'Land-Use-Change']\n",
    "\n",
    "header = {\n",
    "  \"User-Agent\": \"Mozilla/5.0 (X11; Linux x86_64) AppleWebKit/537.36 (KHTML, like Gecko) Chrome/50.0.2661.75 Safari/537.36\",\n",
    "  \"X-Requested-With\": \"XMLHttpRequest\"\n",
    "}\n",
    "    \n",
    "## Pandas options setup\n",
    "\n",
    "pd.set_option('display.max_columns', 100)\n",
    "    \n",
    "## Matplotlib rcparams setup:\n",
    "\n",
    "matplotlib.rcParams['font.family']='Helvetica'\n",
    "matplotlib.rcParams['font.size']=11\n",
    "# matplotlib.rcParams['font.weight']=400\n",
    "\n",
    "matplotlib.rcParams['image.cmap']='cmo.ice'\n",
    "\n",
    "matplotlib.rcParams['axes.prop_cycle']=matplotlib.cycler('color',['011936','FF7D00','225560','BFACAA','D72638','788C9B','A33F00','7CAAB0','685655','EB767C'])\n",
    "matplotlib.rcParams['axes.formatter.limits']=-3,3\n",
    "# matplotlib.rcParams['axes.labelweight']=300\n",
    "\n",
    "matplotlib.rcParams['legend.frameon']=False\n",
    "\n",
    "matplotlib.rcParams['boxplot.whiskers']=(5,95)\n",
    "matplotlib.rcParams['boxplot.showfliers']=False\n",
    "matplotlib.rcParams['boxplot.showfliers']=False\n",
    "matplotlib.rcParams['boxplot.medianprops.color']='black'\n",
    "\n",
    "matplotlib.rcParams['errorbar.capsize']=5\n",
    "\n",
    "matplotlib.rcParams['hist.bins']='auto'\n",
    "\n",
    "plt.rcParams['pdf.fonttype'] = 42\n",
    "\n",
    "%matplotlib inline\n",
    "\n",
    "%load_ext line_profiler\n",
    "%load_ext memory_profiler"
   ]
  },
  {
   "cell_type": "markdown",
   "metadata": {},
   "source": [
    "## Contents:\n",
    "- SSP inverse emissions (CO2 CH4 N2O)\n",
    "- SSP concentrations (CO2 CH4 N2O)\n",
    "- SSP forcings\n",
    "- SSP temperature plumes\n",
    "- Comparison of C4MIP / FaIR carbon cycle feedback parameters?\n",
    "\n",
    "### Supplementary figures\n",
    "- comparison of the FaIR and GIR carbon cycle\n",
    "- Etminan comparison (OLBL vs Etminan formulae)\n",
    "- comparing the CH4 lifetime computation with Holmes\n",
    "- 1pctCO2 / abrupt4xCO2, compare to CMIP6\n",
    "- compare SSPs to CMIP6?"
   ]
  },
  {
   "cell_type": "markdown",
   "metadata": {},
   "source": [
    "# NROY Ensemble Generation"
   ]
  },
  {
   "cell_type": "markdown",
   "metadata": {},
   "source": [
    "## Part I: the Global Warming Index"
   ]
  },
  {
   "cell_type": "code",
   "execution_count": 2,
   "metadata": {},
   "outputs": [
    {
     "name": "stderr",
     "output_type": "stream",
     "text": [
      "/home/leachl/miniconda3/lib/python3.7/site-packages/ipykernel_launcher.py:11: ParserWarning: Falling back to the 'python' engine because the 'c' engine does not support skipfooter; you can avoid this warning by specifying engine='python'.\n",
      "  # This is added back by InteractiveShellApp.init_path()\n"
     ]
    }
   ],
   "source": [
    "## Import data\n",
    "baseline = ['1861','1880']\n",
    "\n",
    "url = \"https://www.metoffice.gov.uk/hadobs/hadcrut4/data/current/time_series/HadCRUT.4.6.0.0.monthly_ns_avg.txt\"\n",
    "req = requests.get(url, headers=header)\n",
    "data = StringIO(req.text)\n",
    "HadCRUT4 = pd.read_csv(data,delim_whitespace=True,index_col=0,names=['date','anom','lower_bias','upper_bias','lower_measure','upper_measure','lower_cover','upper_cover','lower_bias_measure','upper_bias_measure','lower_full','upper_full']).apply(pd.to_numeric)\n",
    "HadCRUT4.index = pd.to_datetime(['-'.join(x.split('/'))+'-01' for x in HadCRUT4.index])\n",
    "HadCRUT4 = HadCRUT4['anom'].rename('HadCRUT4')\n",
    "\n",
    "GISS = pd.read_csv(\"https://data.giss.nasa.gov/gistemp/tabledata_v4/GLB.Ts+dSST.txt\",skiprows=7,skipfooter=7,delim_whitespace=True,index_col=0).iloc[:,:12]\n",
    "GISS = GISS.loc[GISS.index!='Year'].replace('****',np.nan).apply(pd.to_numeric)/100\n",
    "month_map = dict(zip(GISS.columns,[\"{:02d}\".format(x) for x in np.arange(1,13)]))\n",
    "GISS = pd.DataFrame(GISS.values.flatten(),index = pd.to_datetime([x+'-'+month_map[y]+'-01' for x in GISS.index for y in GISS.columns]),columns=['anom'])\n",
    "GISS = GISS['anom'].rename('GISTEMP')\n",
    "\n",
    "CW_Had4_krig = pd.read_csv(\"https://www-users.york.ac.uk/~kdc3/papers/coverage2013/had4_krig_v2_0_0.txt\",delim_whitespace=True,index_col=0,names=['date','anom','unc_full','unc_cover','unc_ens']).apply(pd.to_numeric)\n",
    "CW_Had4_krig.index = pd.to_datetime([str(int(x//1))+'-'+\"{:02d}\".format(int((x % 1)*12)+1)+'-01' for x in CW_Had4_krig.index])\n",
    "CW_Had4_krig = CW_Had4_krig['anom'].rename('CW')\n",
    "\n",
    "Berkeley = pd.read_csv(\"http://berkeleyearth.lbl.gov/auto/Global/Land_and_Ocean_complete.txt\",skiprows=76,delim_whitespace=True,usecols=[0,1,2,3],names=['date','month','anom','unc_full'])\n",
    "Berkeley = Berkeley.iloc[:Berkeley.loc[Berkeley.date=='%'].index.min()].apply(pd.to_numeric)\n",
    "Berkeley.index = pd.to_datetime(Berkeley.date.astype(str) + Berkeley.month.astype(str),format='%Y%m')\n",
    "Berkeley = Berkeley['anom'].rename('Berkeley')\n",
    "\n",
    "parser = 'html.parser'  # or 'lxml' (preferred) or 'html5lib', if installed\n",
    "resp = urllib.request.urlopen(\"https://www.ncei.noaa.gov/data/noaa-global-surface-temperature/v5/access/timeseries/\")\n",
    "soup = BeautifulSoup(resp, parser, from_encoding=resp.info().get_param('charset'))\n",
    "NOAA_fname = [x['href'] for x in soup.find_all('a', href=True) if x['href'].split('.')[1:5]==['mon','land_ocean','90S','90N']][0]\n",
    "NOAA = pd.read_csv(\"https://www.ncei.noaa.gov/data/noaa-global-surface-temperature/v5/access/timeseries/\"+NOAA_fname,delim_whitespace=True,names=['date','month','anom','unc_full'],usecols=[0,1,2,3]).apply(pd.to_numeric)\n",
    "NOAA.index = pd.to_datetime(NOAA.date.astype(str) + NOAA.month.astype(str),format='%Y%m')\n",
    "NOAA = NOAA['anom'].rename('NOAA')\n",
    "\n",
    "## Combine into a single df\n",
    "\n",
    "GMST_datasets = pd.concat([HadCRUT4,CW_Had4_krig,GISS,NOAA,Berkeley],axis=1)\n",
    "\n",
    "## Baseline to 1861:1880 OR to HadCRUT4 20C mean if data begins in 1880 (GISTEMP / NOAA)\n",
    "\n",
    "GMST_datasets.loc[:,['HadCRUT4','CW','Berkeley']] -= GMST_datasets.loc[baseline[0]:baseline[1],['HadCRUT4','CW','Berkeley']].mean()\n",
    "GMST_datasets.loc[:,['GISTEMP','NOAA']] -= GMST_datasets.loc['1900':'2000',['GISTEMP','NOAA']].mean() -  GMST_datasets.loc['1900':'2000','HadCRUT4'].mean()"
   ]
  },
  {
   "cell_type": "code",
   "execution_count": 3,
   "metadata": {},
   "outputs": [
    {
     "data": {
      "text/plain": [
       "<AxesSubplot:>"
      ]
     },
     "execution_count": 3,
     "metadata": {},
     "output_type": "execute_result"
    },
    {
     "data": {
      "image/png": "[encoded data removed]",
      "text/plain": [
       "<Figure size 432x288 with 1 Axes>"
      ]
     },
     "metadata": {
      "needs_background": "light"
     },
     "output_type": "display_data"
    }
   ],
   "source": [
    "GMST_datasets.rolling(12).mean().plot()"
   ]
  },
  {
   "cell_type": "code",
   "execution_count": 4,
   "metadata": {},
   "outputs": [],
   "source": [
    "## Import the observational uncertainty from HadCRUT\n",
    "\n",
    "HadCRUT_ensmem_zip = ZipFile(BytesIO(requests.get('https://www.metoffice.gov.uk/hadobs/hadcrut4/data/current/time_series/HadCRUT.4.6.0.0.annual_ns_avg_realisations.zip').content))\n",
    "HadCRUT_ensmem_fnames = [x.filename for x in HadCRUT_ensmem_zip.infolist() if x.filename[-4:] == '.txt']\n",
    "HadCRUT_ensmem_index = pd.read_csv(HadCRUT_ensmem_zip.open(HadCRUT_ensmem_fnames[0]),header=None,delim_whitespace=True,usecols=[0],index_col=0).index\n",
    "# HadCRUT_ensmem_index = pd.to_datetime(['-'.join(x.split('/'))+'-01' for x in HadCRUT_ensmem_index])\n",
    "HadCRUT_ensmem = pd.concat([pd.read_csv(HadCRUT_ensmem_zip.open(x),header=None,delim_whitespace=True,usecols=[1]).iloc[:,0].rename(str(i)) for i,x in enumerate(HadCRUT_ensmem_fnames)],axis=1)\n",
    "HadCRUT_ensmem.index = HadCRUT_ensmem_index"
   ]
  },
  {
   "cell_type": "code",
   "execution_count": 5,
   "metadata": {},
   "outputs": [],
   "source": [
    "## import forcing ensemble: for now, use the most up-to-date copy I have (.idlsave)\n",
    "\n",
    "# forcing_dataset = readsav('/home/leachl/Documents/Datasets/RF/1750_Oct2017_forcings.idlsave')\n",
    "# rf_ant = pd.DataFrame(forcing_dataset['rf_anthro'].byteswap().newbyteorder(),index = pd.to_datetime([str(int(x))+'-01-01' for x in forcing_dataset['year']])).apply(pd.to_numeric)\n",
    "# rf_nat = pd.DataFrame(forcing_dataset['rf_nat'].byteswap().newbyteorder(),index = pd.to_datetime([str(int(x))+'-01-01' for x in forcing_dataset['year']])).apply(pd.to_numeric)"
   ]
  },
  {
   "cell_type": "code",
   "execution_count": 6,
   "metadata": {},
   "outputs": [],
   "source": [
    "## creating a forcing response dataset\n",
    "\n",
    "erf_ar6 = pd.read_csv('https://raw.githubusercontent.com/Priestley-Centre/ssp_erf/master/SSPs/ERF_ssp245_1750-2500.csv',index_col=0,dtype=float)\n",
    "erf_ar6 -= erf_ar6.loc[1750]"
   ]
  },
  {
   "cell_type": "code",
   "execution_count": 7,
   "metadata": {},
   "outputs": [],
   "source": [
    "## generating many rf shapes for the GWI\n",
    "\n",
    "N = 4000\n",
    "\n",
    "rf_factors = {}\n",
    "\n",
    "rf_factors['co2'] = sp.stats.norm(1,0.20/1.645).rvs(N)#ppf((erf_ar6.mean()>0).co2*random_percentiles + ~(erf_ar6.mean()>0).co2*(1-random_percentiles))\n",
    "rf_factors['ch4'] = sp.stats.norm(1,0.28/1.645).rvs(N)#ppf((erf_ar6.mean()>0).ch4*random_percentiles + ~(erf_ar6.mean()>0).ch4*(1-random_percentiles))\n",
    "rf_factors['n2o'] = sp.stats.norm(1,0.2/1.645).rvs(N)#ppf((erf_ar6.mean()>0).n2o*random_percentiles + ~(erf_ar6.mean()>0).n2o*(1-random_percentiles))\n",
    "rf_factors['other_wmghg'] = sp.stats.norm(1,0.20/1.645).rvs(N)#ppf((erf_ar6.mean()>0).other_wmghg*random_percentiles + ~(erf_ar6.mean()>0).other_wmghg*(1-random_percentiles))\n",
    "rf_factors['o3_tropospheric'] = sp.stats.norm(1,0.5/1.645).rvs(N)#ppf((erf_ar6.mean()>0).o3_tropospheric*random_percentiles + ~(erf_ar6.mean()>0).o3_tropospheric*(1-random_percentiles))\n",
    "rf_factors['o3_stratospheric'] = sp.stats.norm(1,2/1.645).rvs(N)#ppf((erf_ar6.mean()>0).o3_stratospheric*random_percentiles + ~(erf_ar6.mean()>0).o3_stratospheric*(1-random_percentiles))\n",
    "rf_factors['h2o_stratospheric'] = sp.stats.norm(1,0.72/1.645).rvs(N)#ppf((erf_ar6.mean()>0).h2o_stratospheric*random_percentiles + ~(erf_ar6.mean()>0).h2o_stratospheric*(1-random_percentiles))\n",
    "rf_factors['contrails'] = sp.stats.norm(1,0.75/1.645).rvs(N)#ppf((erf_ar6.mean()>0).contrails*random_percentiles + ~(erf_ar6.mean()>0).contrails*(1-random_percentiles))\n",
    "rf_factors['land_use'] = sp.stats.norm(1,0.75/1.645).rvs(N)#ppf((erf_ar6.mean()>0).land_use*random_percentiles + ~(erf_ar6.mean()>0).land_use*(1-random_percentiles))\n",
    "rf_factors['volcanic'] = sp.stats.norm(1,0.5/1.645).rvs(N)\n",
    "rf_factors['solar'] = sp.stats.norm(1,1/1.645).rvs(N)\n",
    "\n",
    "pct_5 = 0.04 / 0.08\n",
    "pct_95 = 0.18 / 0.08\n",
    "sigma = (np.log(pct_95) - np.log(pct_5)) / (sp.stats.norm().ppf(0.95)-sp.stats.norm().ppf(0.05))\n",
    "mu = np.log(pct_5) - sigma * sp.stats.norm().ppf(0.05)\n",
    "rf_factors['bc_on_snow'] = sp.stats.lognorm(s=sigma,scale=np.exp(mu)).rvs(N)\n",
    "\n",
    "ant_rf_ensemble = np.zeros((270,N))\n",
    "nat_rf_ensemble = np.zeros((270,N))\n",
    "\n",
    "for agent in ['co2','ch4','n2o','other_wmghg','o3_tropospheric','o3_stratospheric','h2o_stratospheric','contrails','land_use','bc_on_snow']:\n",
    "    ant_rf_ensemble += rf_factors[agent]*erf_ar6.loc[1750:2019,agent].values[:,None]\n",
    "        \n",
    "for agent in ['volcanic','solar']:\n",
    "    nat_rf_ensemble += rf_factors[agent]*erf_ar6.loc[1750:2019,agent].values[:,None]\n",
    "        \n",
    "## aerosol distribution \n",
    "\n",
    "### generate the mean shape:\n",
    "\n",
    "RCMIP_so2_emms = RCMIP_emms.loc[('World','ssp245','Emissions|Sulfur')].iloc[4:].apply(pd.to_numeric).interpolate().loc[:'2019'].values[None]\n",
    "RCMIP_oc_emms = RCMIP_emms.loc[('World','ssp245','Emissions|OC')].iloc[4:].apply(pd.to_numeric).interpolate().loc[:'2019'].values[None]\n",
    "RCMIP_bc_emms = RCMIP_emms.loc[('World','ssp245','Emissions|BC')].iloc[4:].apply(pd.to_numeric).interpolate().loc[:'2019'].values[None]\n",
    "\n",
    "RCMIP_so2_emms -= RCMIP_so2_emms[0,0]\n",
    "RCMIP_oc_emms -= RCMIP_oc_emms[0,0]\n",
    "RCMIP_bc_emms -= RCMIP_bc_emms[0,0]\n",
    "\n",
    "ERFari_coefs = pd.read_csv('../Parameter_Sets/CMIP6_ERFari.csv',index_col=0)\n",
    "ERFaci_coefs = pd.read_csv('../Parameter_Sets/CMIP6_ERFaci.csv',index_col=0)\n",
    "\n",
    "beta = -1*np.exp(ERFaci_coefs['log_beta'].mean())\n",
    "s = np.exp(ERFaci_coefs['log_s'].mean())\n",
    "alpha = ERFaci_coefs['alpha'].mean()\n",
    "\n",
    "# ERFari_shape = ERFari_coefs.so2.mean() * RCMIP_so2_emms + ERFari_coefs.bc.mean() * RCMIP_bc_emms + ERFari_coefs.oc.mean() * RCMIP_oc_emms\n",
    "# ERFaci_shape = beta * np.log(1 + RCMIP_so2_emms / s) + alpha * ( RCMIP_oc_emms + RCMIP_bc_emms )\n",
    "\n",
    "ERFari_shape = erf_ar6.loc[1750:2019,['aerosol-radiation_interactions']].values.T\n",
    "ERFaci_shape = erf_ar6.loc[1750:2019,['aerosol-cloud_interactions']].values.T\n",
    "\n",
    "## construct the Smith distributions \n",
    "def fit_skewnorm(x,X,percentiles):\n",
    "    distr = sp.stats.skewnorm(*x)\n",
    "    return sum(abs(distr.ppf(percentiles) - X))\n",
    "\n",
    "ERFaci_smith_sknorm_params = sp.optimize.minimize(fit_skewnorm,x0=[1,1,1],args=([0.13,0.59,1.17],[0.05,0.5,0.95]),method='nelder-mead').x\n",
    "ERFari_smith_sknorm_params = sp.optimize.minimize(fit_skewnorm,x0=[1,1,1],args=([0.07,0.27,0.6],[0.05,0.5,0.95]),method='nelder-mead').x\n",
    "\n",
    "ERFaci_smith_sknorm_distr = -1*sp.stats.skewnorm(*ERFaci_smith_sknorm_params).rvs(N)[:,None]\n",
    "ERFari_smith_sknorm_distr = -1*sp.stats.skewnorm(*ERFari_smith_sknorm_params).rvs(N)[:,None]\n",
    "\n",
    "ERFari_samples = ERFari_smith_sknorm_distr / ERFari_shape[0,-1] * ERFari_shape\n",
    "ERFaci_samples = ERFaci_smith_sknorm_distr / ERFaci_shape[0,-1] * ERFaci_shape"
   ]
  },
  {
   "cell_type": "markdown",
   "metadata": {},
   "source": [
    "#### Alternative aerosol generation with varying shapes (work-in-progress):"
   ]
  },
  {
   "cell_type": "code",
   "execution_count": 8,
   "metadata": {
    "jupyter": {
     "source_hidden": true
    }
   },
   "outputs": [],
   "source": [
    "# ## New aerosol generation methodology, following Smith et al (2020) ; multivariate gaussian distribution, sample parameters, generate shapes from emission data.\n",
    "# ERFari_params = pd.DataFrame(data=np.array([[ 3.25934432e-02, -3.46653116e-04, -2.48761587e-03],\n",
    "#        [ 2.48231885e-02, -1.26321908e-02, -9.42090973e-04],\n",
    "#        [ 2.68560170e-02, -2.08950151e-03, -2.60579679e-03],\n",
    "#        [ 1.01700746e-01, -3.04192033e-02, -2.63868473e-03],\n",
    "#        [ 1.46132214e-01, -4.41485999e-02, -6.67827786e-03],\n",
    "#        [ 1.95732170e-03,  4.15481407e-03, -2.90822562e-03],\n",
    "#        [-5.61261154e-02,  8.85201623e-03, -7.47602910e-04],\n",
    "#        [ 3.87211606e-02, -1.42408227e-02, -1.78155606e-03],\n",
    "#        [ 3.02173214e-03, -3.40228173e-03, -1.25702781e-03],\n",
    "#        [ 2.54832726e-03,  6.32322444e-05, -2.38863636e-03]]),index=['CanESM5', 'E3SM', 'GFDL-CM4', 'GFDL-ESM4', 'GISS-E2-1-G',\n",
    "#        'HadGEM3-GC31-LL', 'IPSL-CM6A-LR', 'MIROC6', 'NorESM2-LM',\n",
    "#        'UKESM1-0-LL'],columns=['bc', 'oc', 'so2'])\n",
    "\n",
    "# ERFari_sfs = sp.stats.multivariate_normal(ERFari_params.mean(),ERFari_params.cov()).rvs(N)\n",
    "# ERFari_samples = (ERFari_sfs[...,None]*RCMIP_emms.loc[('World','ssp245',['Emissions|BC','Emissions|OC','Emissions|Sulfur'])].droplevel((0,1)).iloc[:,4:].apply(pd.to_numeric).interpolate(axis=1).loc[:,:'2019'].values[None,...]).sum(axis=1)\n",
    "\n",
    "# ### LINEAR ERFaci params\n",
    "# # ERFaci_params = pd.DataFrame(data=np.array([[-0.23977316,  0.05033984, -0.0026841 ],\n",
    "# #        [-0.03596736, -0.0061301 , -0.00999338],\n",
    "# #        [-0.02306089, -0.00397075, -0.00440759],\n",
    "# #        [-0.04100239, -0.00815999, -0.00296047],\n",
    "# #        [-0.11952911,  0.01185454, -0.00136009],\n",
    "# #        [-0.0751146 ,  0.0115965 , -0.00595064],\n",
    "# #        [-0.00958696,  0.00027465, -0.00252801],\n",
    "# #        [-0.10616509,  0.01464634, -0.00292868],\n",
    "# #        [ 0.02490414, -0.02261304, -0.00721553],\n",
    "# #        [ 0.06822656, -0.01548075, -0.01065098]])\n",
    "# # ,index=['CanESM5', 'E3SM', 'GFDL-CM4', 'GFDL-ESM4', 'GISS-E2-1-G',\n",
    "# #        'HadGEM3-GC31-LL', 'IPSL-CM6A-LR', 'MIROC6', 'NorESM2-LM',\n",
    "# #        'UKESM1-0-LL'],columns=['bc', 'oc', 'so2'])\n",
    "\n",
    "# ### LOG so2 ERFaci params\n",
    "# ERFaci_params = pd.DataFrame(data=np.array([[-8.04936152e-01, -4.33765114e+00, -1.76516101e-02],\n",
    "#        [ 4.20348167e-01, -4.19165818e+00, -1.57827154e-02],\n",
    "#        [ 1.67034191e+00, -5.34562320e+00, -8.80674737e-03],\n",
    "#        [ 2.25088976e+00, -5.57251763e+00, -1.19361347e-02],\n",
    "#        [-1.80621064e+00, -4.82004944e+00, -1.88411062e-02],\n",
    "#        [-1.48244252e-01, -4.48450777e+00, -6.70740113e-03],\n",
    "#        [ 1.03705925e+00, -5.88364385e+00, -1.91422284e-03],\n",
    "#        [-1.00837014e+00, -4.73118298e+00, -1.30437040e-02],\n",
    "#        [ 2.07731610e+00, -5.03084334e+00, -1.39245898e-02],\n",
    "#        [-2.52178641e-01, -3.93423009e+00,  3.35367830e-03]])\n",
    "\n",
    "# ,index=['CanESM5', 'E3SM', 'GFDL-CM4', 'GFDL-ESM4', 'GISS-E2-1-G',\n",
    "#        'HadGEM3-GC31-LL', 'IPSL-CM6A-LR', 'MIROC6', 'NorESM2-LM',\n",
    "#        'UKESM1-0-LL'],columns=['log_beta', 'log_beta_s', 'alpha'])\n",
    "\n",
    "# # ERFaci_params.loc[:,'so2_logcoef'] = np.log(-1*ERFaci_params.loc[:,'so2_logcoef'])\n",
    "\n",
    "# ### LINEAR ERFaci params\n",
    "# # ERFaci_sfs = sp.stats.multivariate_normal(ERFaci_params.mean(),ERFaci_params.cov()).rvs(N)\n",
    "# # ERFaci_samples = (ERFaci_sfs[...,None]*RCMIP_emms.loc[('World','ssp245',['Emissions|BC','Emissions|OC','Emissions|Sulfur'])].droplevel((0,1)).iloc[:,4:].apply(pd.to_numeric).interpolate(axis=1).loc[:,:'2019'].values[None,...]).sum(axis=1)\n",
    "\n",
    "# ### LOG so2 ERFaci params\n",
    "# beta_samples = -1 * np.exp( sp.stats.norm(ERFaci_params['log_beta'].mean(),ERFaci_params['log_beta'].std()).rvs(N) )[...,None]\n",
    "# beta_s_samples = np.exp( sp.stats.norm(ERFaci_params['log_beta_s'].mean(),ERFaci_params['log_beta_s'].std()).rvs(N) )[...,None]\n",
    "# s_samples = -1 * beta_samples / beta_s_samples\n",
    "# alpha_samples = sp.stats.norm(ERFaci_params['alpha'].mean(),ERFaci_params['alpha'].std()).rvs(N)[...,None]\n",
    "\n",
    "# RCMIP_so2_emms = RCMIP_emms.loc[('World','ssp245','Emissions|Sulfur')].iloc[4:].apply(pd.to_numeric).interpolate().loc[:'2019'].values[None]\n",
    "# RCMIP_oc_emms = RCMIP_emms.loc[('World','ssp245','Emissions|OC')].iloc[4:].apply(pd.to_numeric).interpolate().loc[:'2019'].values[None]\n",
    "# RCMIP_bc_emms = RCMIP_emms.loc[('World','ssp245','Emissions|BC')].iloc[4:].apply(pd.to_numeric).interpolate().loc[:'2019'].values[None]\n",
    "\n",
    "# ERFaci_samples = beta_samples * np.log(1+RCMIP_so2_emms/s_samples) + alpha_samples * ( RCMIP_oc_emms+RCMIP_bc_emms )"
   ]
  },
  {
   "cell_type": "code",
   "execution_count": 9,
   "metadata": {
    "jupyter": {
     "source_hidden": true
    }
   },
   "outputs": [],
   "source": [
    "# # we now constrain the ERFari and ERFaci distributions to match the contrained Smith (2020) distributions through a quantile map.\n",
    "\n",
    "# def fit_skewnorm(x,X,percentiles):\n",
    "#     distr = sp.stats.skewnorm(*x)\n",
    "#     return sum(abs(distr.ppf(percentiles) - X))\n",
    "\n",
    "# ERFaci_smith_sknorm_params = sp.optimize.minimize(fit_skewnorm,x0=[1,1,1],args=([0.13,0.59,1.17],[0.05,0.5,0.95]),method='nelder-mead').x\n",
    "# ERFari_smith_sknorm_params = sp.optimize.minimize(fit_skewnorm,x0=[1,1,1],args=([0.07,0.27,0.6],[0.05,0.5,0.95]),method='nelder-mead').x\n",
    "\n",
    "# ERFaci_smith_sknorm_distr = sp.stats.skewnorm(*ERFaci_smith_sknorm_params)\n",
    "# ERFari_smith_sknorm_distr = sp.stats.skewnorm(*ERFari_smith_sknorm_params)\n",
    "\n",
    "# def np_quantileatscore(a,score):\n",
    "    \n",
    "#     ## assumes both are numpy arrays and returns the quantiles for the score array (ordered)\n",
    "    \n",
    "#     return ( (a[:,np.newaxis,...]<score[np.newaxis,...]).sum(axis=0) + (a[:,np.newaxis,...]<=score[np.newaxis,...]).sum(axis=0) ) / (2*a.shape[0])\n",
    "\n",
    "# ## map ERFaci+ERFari to the Smith distribution:\n",
    "\n",
    "# aci_percentiles = np_quantileatscore(ERFaci_samples[:,-1],ERFaci_samples[:,-1])\n",
    "# smith_samples = -1 * ERFaci_smith_sknorm_distr.ppf(1-aci_percentiles)\n",
    "# ERFaci_samples *= (smith_samples/ERFaci_samples[...,-1])[:,None]\n",
    "\n",
    "# ari_percentiles = np_quantileatscore(ERFari_samples[:,-1],ERFari_samples[:,-1])\n",
    "# smith_samples = -1 * ERFari_smith_sknorm_distr.ppf(1-ari_percentiles)\n",
    "# ERFari_samples *= (smith_samples/ERFari_samples[...,-1])[:,None]"
   ]
  },
  {
   "cell_type": "code",
   "execution_count": 10,
   "metadata": {},
   "outputs": [],
   "source": [
    "tot_aer = (ERFari_samples+ERFaci_samples).T\n",
    "\n",
    "ant_rf_ensemble += tot_aer"
   ]
  },
  {
   "cell_type": "code",
   "execution_count": 11,
   "metadata": {},
   "outputs": [],
   "source": [
    "rf_nat = pd.DataFrame(nat_rf_ensemble,index=np.arange(1750,2020),columns=pd.MultiIndex.from_product([['forcing_'+str(x) for x in np.arange(N)],['forcing']])).loc[:2017]\n",
    "\n",
    "rf_ant = pd.DataFrame(ant_rf_ensemble,index=np.arange(1750,2020),columns=pd.MultiIndex.from_product([['forcing_'+str(x) for x in np.arange(N)],['forcing']])).loc[:2017]"
   ]
  },
  {
   "cell_type": "code",
   "execution_count": 12,
   "metadata": {},
   "outputs": [
    {
     "data": {
      "text/plain": [
       "<AxesSubplot:>"
      ]
     },
     "execution_count": 12,
     "metadata": {},
     "output_type": "execute_result"
    },
    {
     "data": {
      "image/png": "[encoded data removed]",
      "text/plain": [
       "<Figure size 432x288 with 1 Axes>"
      ]
     },
     "metadata": {
      "needs_background": "light"
     },
     "output_type": "display_data"
    },
    {
     "data": {
      "image/png": "[encoded data removed]",
      "text/plain": [
       "<Figure size 432x288 with 1 Axes>"
      ]
     },
     "metadata": {
      "needs_background": "light"
     },
     "output_type": "display_data"
    }
   ],
   "source": [
    "rf_ant.plot(legend=None,lw=0.02,c='k')\n",
    "\n",
    "rf_nat.plot(legend=None,lw=0.02,c='k')"
   ]
  },
  {
   "cell_type": "code",
   "execution_count": 13,
   "metadata": {
    "jupyter": {
     "source_hidden": true
    }
   },
   "outputs": [],
   "source": [
    "# # examine the forcing shapes - updated vs old\n",
    "\n",
    "# forcing_dataset = readsav('/home/leachl/Documents/Datasets/RF/1750_Oct2017_forcings.idlsave')\n",
    "# rf_ant_old = pd.DataFrame(forcing_dataset['rf_anthro'].byteswap().newbyteorder(),index = forcing_dataset['year']).apply(pd.to_numeric)\n",
    "# rf_nat_old = pd.DataFrame(forcing_dataset['rf_nat'].byteswap().newbyteorder(),index = forcing_dataset['year']).apply(pd.to_numeric)"
   ]
  },
  {
   "cell_type": "code",
   "execution_count": 14,
   "metadata": {
    "jupyter": {
     "source_hidden": true
    }
   },
   "outputs": [],
   "source": [
    "# forc_agents = ['CO2', 'Other WMGHG', 'O3 (T)', 'O3(S)','total aerosol ERF','ERF LUC', 'Vapour', 'BC snow', 'contrails']\n",
    "# AR5_forc = pd.read_csv('/home/leachl/Documents/Datasets/RF/AR5Forcing_ext2015_GHGrevised.txt',skiprows=3,sep='\\t',index_col=0)\n",
    "# assessed_coefs = OLSE_NORM(AR5_forc.iloc[:-3][forc_agents].values,rf_ant_old.values[:-1])['coefs']"
   ]
  },
  {
   "cell_type": "code",
   "execution_count": 15,
   "metadata": {
    "jupyter": {
     "source_hidden": true
    }
   },
   "outputs": [],
   "source": [
    "# plt.figure(figsize=(10,8))\n",
    "# plt.hist((AR5_forc['total aerosol ERF'].iloc[:-3].values[:,None]*assessed_coefs[4][None])[-1],density=True,histtype='step',lw=1.5,label='original',cumulative=True)\n",
    "# plt.hist(tot_aer[-3],density=True,histtype='step',lw=1.5,label='update',cumulative=True)\n",
    "# plt.legend(loc='upper left')\n",
    "# plt.title('total aerosol forcing (2017)')"
   ]
  },
  {
   "cell_type": "code",
   "execution_count": 16,
   "metadata": {
    "jupyter": {
     "source_hidden": true
    }
   },
   "outputs": [],
   "source": [
    "# plt.figure(figsize=(10,8))\n",
    "# for qtile in [0.05,0.17]:\n",
    "#     p1 = plt.plot(np.arange(1750,2017),np.quantile(AR5_forc['total aerosol ERF'].iloc[:-3].values[:,None]*assessed_coefs[4][None],qtile,axis=1),c='k',ls='--',lw=0.8)\n",
    "#     p1 = plt.plot(np.arange(1750,2017),np.quantile(AR5_forc['total aerosol ERF'].iloc[:-3].values[:,None]*assessed_coefs[4][None],1-qtile,axis=1),c='k',ls='--',lw=0.8)\n",
    "# p1 = plt.plot(np.arange(1750,2017),np.quantile(AR5_forc['total aerosol ERF'].iloc[:-3].values[:,None]*assessed_coefs[4][None],0.5,axis=1),lw=2,color='k',ls='--')\n",
    "\n",
    "# p1 = plt.fill_between(np.arange(1750,2020),*np.quantile(tot_aer,[0.05,0.95],axis=1),lw=0.1,color='k',alpha=0.3)\n",
    "# p1 = plt.fill_between(np.arange(1750,2020),*np.quantile(tot_aer,[0.17,0.83],axis=1),lw=0.1,color='k',alpha=0.3)\n",
    "# p1 = plt.plot(np.arange(1750,2020),np.quantile(tot_aer,0.5,axis=1),lw=2,color='k')\n",
    "# plt.xlim(1750,2019)\n",
    "# plt.ylim(-2.5,0.1)"
   ]
  },
  {
   "cell_type": "code",
   "execution_count": 17,
   "metadata": {
    "jupyter": {
     "source_hidden": true
    }
   },
   "outputs": [],
   "source": [
    "# plt.figure(figsize=(10,8))\n",
    "# for qtile in [0.05,0.17]:\n",
    "#     p1 = plt.plot(np.arange(1750,2018),np.quantile(rf_ant_old.values,qtile,axis=1),c='k',ls='--',lw=0.8)\n",
    "#     p1 = plt.plot(np.arange(1750,2018),np.quantile(rf_ant_old.values,1-qtile,axis=1),c='k',ls='--',lw=0.8)\n",
    "# p1 = plt.plot(np.arange(1750,2018),np.quantile(rf_ant_old.values,0.5,axis=1),lw=2,color='k',ls='--')\n",
    "\n",
    "# p1 = plt.fill_between(np.arange(1750,2018),*np.quantile(rf_ant.values,[0.05,0.95],axis=1),lw=0.1,color='k',alpha=0.3)\n",
    "# p1 = plt.fill_between(np.arange(1750,2018),*np.quantile(rf_ant.values,[0.17,0.83],axis=1),lw=0.1,color='k',alpha=0.3)\n",
    "# p1 = plt.plot(np.arange(1750,2018),np.quantile(rf_ant.values,0.5,axis=1),lw=2,color='k')\n",
    "# plt.xlim(1750,2018)\n",
    "# plt.ylim(-0.5,4)"
   ]
  },
  {
   "cell_type": "code",
   "execution_count": 18,
   "metadata": {
    "jupyter": {
     "source_hidden": true
    }
   },
   "outputs": [],
   "source": [
    "# rf_ant_old.columns = pd.MultiIndex.from_product([['forcing_'+str(x) for x in np.arange(1000)],['forcing']])\n",
    "# rf_nat_old.columns = pd.MultiIndex.from_product([['forcing_'+str(x) for x in np.arange(1000)],['forcing']])"
   ]
  },
  {
   "cell_type": "code",
   "execution_count": 19,
   "metadata": {},
   "outputs": [],
   "source": [
    "## create the response parameter ranges:\n",
    "\n",
    "### based on inferred ranges from CMIP6\n",
    "response_names = ['response_'+str(x) for x in np.arange(24)]\n",
    "response_params = pd.DataFrame(index=['d','q'],columns = pd.MultiIndex.from_product([response_names,[1,2,3]])).apply(pd.to_numeric)\n",
    "response_params.loc[:] = 0\n",
    "\n",
    "d1_range = [0.2,0.8,1.4,2]\n",
    "d2_range = [4,8,12,16]\n",
    "d3_range = [100,200,400,800]\n",
    "q1_range = [0.04,0.16,0.28,0.4]\n",
    "\n",
    "RWF_range = [0.3 , 0.4 , 0.5, 0.6, 0.7, 0.8]\n",
    "ECS=3\n",
    "\n",
    "i=0\n",
    "for d_num in np.arange(4):\n",
    "    for RWF in RWF_range:\n",
    "        response_params.loc['d',(response_names[i],1)] = d1_range[d_num]\n",
    "        response_params.loc['d',(response_names[i],2)] = d2_range[d_num]\n",
    "        response_params.loc['d',(response_names[i],3)] = d3_range[d_num]\n",
    "        response_params.loc['q',(response_names[i],1)] = q1_range[d_num]\n",
    "\n",
    "        q2,q3 = sp.optimize.root(lambda x: q_to_tcr_ecs(response_params.reindex([response_names[i]],axis=1,level=0) + [[0,0],[0,x[0]],[0,x[1]]],F_2x=3.76).values.flatten() - np.array([ECS,ECS*RWF]),x0=np.array([0.32,0.47]),method='lm').x\n",
    "\n",
    "        response_params.loc['q',(response_names[i],2)] = q2\n",
    "        response_params.loc['q',(response_names[i],3)] = q3\n",
    "\n",
    "        i+=1\n",
    "            \n",
    "## remove any that are unphysical (negative parameters)\n",
    "\n",
    "response_params = response_params.reindex([i for i,x in ((response_params<0).sum().unstack().sum(axis=1)==1).iteritems() if not x],axis=1,level=0)"
   ]
  },
  {
   "cell_type": "code",
   "execution_count": 20,
   "metadata": {},
   "outputs": [
    {
     "name": "stdout",
     "output_type": "stream",
     "text": [
      "Integrating 4000 scenarios, 1 gas cycle parameter sets, 18 thermal response parameter sets, over ['carbon_dioxide'] forcing agents, between 1750 and 2017...\n"
     ]
    },
    {
     "name": "stderr",
     "output_type": "stream",
     "text": [
      "100%|██████████| 267/267 [00:04<00:00, 61.75 timestep/s]\n"
     ]
    },
    {
     "name": "stdout",
     "output_type": "stream",
     "text": [
      "Integrating 4000 scenarios, 1 gas cycle parameter sets, 18 thermal response parameter sets, over ['carbon_dioxide'] forcing agents, between 1750 and 2017...\n"
     ]
    },
    {
     "name": "stderr",
     "output_type": "stream",
     "text": [
      "100%|██████████| 267/267 [00:04<00:00, 56.53 timestep/s]\n"
     ]
    }
   ],
   "source": [
    "## generate the temperature responses:\n",
    "\n",
    "### reshape the rf dataframes into model inputs (only for old forcing data):\n",
    "# rf_ant['YEAR'] = [x.year for x in rf_ant.index]\n",
    "# rf_ant.set_index('YEAR',inplace=True)\n",
    "# rf_ant.columns = pd.MultiIndex.from_product([['forcing_'+str(x) for x in rf_ant.columns],['forcing']])\n",
    "# rf_ant = rf_ant.reindex(rf_ant.index.append(pd.Index([2018,2019])))\n",
    "# rf_ant.loc[2018] = rf_ant.loc[2017]+(rf_ant.loc[2017] - rf_ant.loc[2012])/5\n",
    "# rf_ant.loc[2019] = rf_ant.loc[2017]+2*(rf_ant.loc[2017] - rf_ant.loc[2012])/5\n",
    "\n",
    "# rf_nat['YEAR'] = [x.year for x in rf_nat.index]\n",
    "# rf_nat.set_index('YEAR',inplace=True)\n",
    "# rf_nat.columns = pd.MultiIndex.from_product([['forcing_'+str(x) for x in rf_nat.columns],['forcing']])\n",
    "# rf_nat.loc[2018] = rf_nat.loc[2017]+(rf_nat.loc[2017] - rf_nat.loc[2012])/5\n",
    "# rf_nat.loc[2019] = rf_nat.loc[2017]+2*(rf_nat.loc[2017] - rf_nat.loc[2012])/5\n",
    "null_gas_params = pd.read_csv('../Parameter_Sets/Complete_gas_cycle_params.csv',header=[0,1],index_col=0).reindex(['carbon_dioxide'],axis=1,level=1)\n",
    "##\n",
    "temp_ant = run_GIR(emissions_in=return_empty_emissions(rf_ant,gases_in=['carbon_dioxide']),gas_parameters=null_gas_params,forcing_in=rf_ant,thermal_parameters=response_params)['T'].droplevel(1,axis=1)\n",
    "temp_nat = run_GIR(emissions_in=return_empty_emissions(rf_nat,gases_in=['carbon_dioxide']),gas_parameters=null_gas_params,forcing_in=rf_nat,thermal_parameters=response_params)['T'].droplevel(1,axis=1)\n",
    "\n",
    "# temp_ant_old = run_GIR(emissions_in=return_empty_emissions(rf_ant_old,gases_in=['carbon_dioxide']),gas_parameters=null_gas_params,forcing_in=rf_ant_old,thermal_parameters=response_params)['T'].droplevel(1,axis=1)\n",
    "# temp_nat_old = run_GIR(emissions_in=return_empty_emissions(rf_nat_old,gases_in=['carbon_dioxide']),gas_parameters=null_gas_params,forcing_in=rf_nat_old,thermal_parameters=response_params)['T'].droplevel(1,axis=1)"
   ]
  },
  {
   "cell_type": "code",
   "execution_count": 21,
   "metadata": {},
   "outputs": [],
   "source": [
    "## generate the temperature dataset:\n",
    "\n",
    "temp_obs_med = GMST_datasets.mean(axis=1).loc[:str(int(rf_ant.index[-1]))].resample('Y').mean().values\n",
    "\n",
    "temp_obs_unc = HadCRUT_ensmem.loc[:rf_ant.index[-1]].values - HadCRUT_ensmem.loc[:rf_ant.index[-1]].median(axis=1)[:,np.newaxis]\n",
    "\n",
    "temp_obs_full = temp_obs_med[:,np.newaxis] + temp_obs_unc"
   ]
  },
  {
   "cell_type": "code",
   "execution_count": 22,
   "metadata": {},
   "outputs": [],
   "source": [
    "# definition to compute the regressions:\n",
    "def OLSE_NORM(X,Y,add_intercept=True):\n",
    "    \n",
    "    ## computes a multiple OLS regression over a field against several indices. First dimension is time, second is features (X), or targets (Y)\n",
    "    \n",
    "    if add_intercept:\n",
    "    \n",
    "        X_1 = np.concatenate((np.ones(X.shape[0])[:,np.newaxis],X),axis=1)\n",
    "        \n",
    "    else:\n",
    "        \n",
    "        X_1 = X.copy()\n",
    "    \n",
    "    B = np.dot( np.linalg.inv( np.dot( X_1.T , X_1 ) ) , np.dot( X_1.T , Y ) )\n",
    "    \n",
    "    e = Y - np.dot(X_1,B)\n",
    "    \n",
    "    SSE = np.sum(e**2,axis=0)\n",
    "\n",
    "    SST = np.sum((Y - np.mean(Y,axis=0))**2,axis=0)\n",
    "\n",
    "    R2 = 1 - SSE / SST\n",
    "\n",
    "#     MSE_var = SSE / (X_1.shape[0] - X_1.shape[-1])\n",
    "\n",
    "#     SE_B = np.sqrt( np.diag( np.linalg.inv( np.dot( X_1.T , X_1 ) ) )[:,np.newaxis] * MSE_var[np.newaxis,:] )\n",
    "    return {'coefs':B[1:],'intercept':B[0],'R2':R2}\n",
    "#     return {'coefs':B[1:],'coef_err':SE_B[1:],'res':e,'intercept':B[0],'intercept_err':SE_B[0]}"
   ]
  },
  {
   "cell_type": "code",
   "execution_count": 23,
   "metadata": {},
   "outputs": [
    {
     "name": "stderr",
     "output_type": "stream",
     "text": [
      "100%|██████████| 72000/72000 [02:15<00:00, 531.69it/s]\n"
     ]
    }
   ],
   "source": [
    "ant_coefs = np.zeros((100,temp_ant.shape[1]))\n",
    "nat_coefs = np.zeros((100,temp_nat.shape[1]))\n",
    "R2_vals = np.zeros(1000)\n",
    "\n",
    "# ant_coefs_old = np.zeros((100,temp_ant.shape[1]))\n",
    "# nat_coefs_old = np.zeros((100,temp_nat.shape[1]))\n",
    "# R2_vals_old = np.zeros(1000)\n",
    "\n",
    "for i in tqdm.tqdm(np.arange(ant_coefs.shape[1])):\n",
    "    _lreg_coefs = OLSE_NORM(np.array([temp_ant.iloc[100:,i].values,temp_nat.iloc[100:,i].values]).T,temp_obs_full)\n",
    "    ant_coefs[:,i] = _lreg_coefs['coefs'][0]\n",
    "    nat_coefs[:,i] = _lreg_coefs['coefs'][1]\n",
    "    R2_vals = _lreg_coefs['R2']\n",
    "    \n",
    "#     _lreg_coefs = OLSE_NORM(np.array([temp_ant_old.iloc[100:,i].values,temp_nat_old.iloc[100:,i].values]).T,temp_obs_full)\n",
    "#     ant_coefs_old[:,i] = _lreg_coefs['coefs'][0]\n",
    "#     nat_coefs_old[:,i] = _lreg_coefs['coefs'][1]\n",
    "#     R2_vals_old = _lreg_coefs['R2']\n",
    "    "
   ]
  },
  {
   "cell_type": "code",
   "execution_count": 24,
   "metadata": {
    "jupyter": {
     "source_hidden": true
    }
   },
   "outputs": [],
   "source": [
    "# fig,ax = plt.subplots(1,3,figsize=(15,5))\n",
    "\n",
    "# pl1 = ax[0].hist(ant_coefs.flatten(),histtype='step',label='updated',cumulative=True,density=True)\n",
    "# pl2 = ax[0].hist(ant_coefs_old.flatten(),histtype='step',label='original',cumulative=True,density=True)\n",
    "\n",
    "# pl1 = ax[1].hist(nat_coefs.flatten(),histtype='step',label='updated',cumulative=True,density=True)\n",
    "# pl2 = ax[1].hist(nat_coefs_old.flatten(),histtype='step',label='original',cumulative=True,density=True)\n",
    "\n",
    "# pl1 = ax[2].hist(R2_vals.flatten(),histtype='step')\n",
    "# pl2 = ax[2].hist(R2_vals_old.flatten(),histtype='step')\n",
    "\n",
    "# ax[0].set_xlim(-1,4)\n",
    "# ax[1].set_xlim(-1,4)\n",
    "\n",
    "# ax[0].legend(loc='upper left')\n",
    "\n",
    "# ax[0].set_title('ant regression coefs')\n",
    "# ax[1].set_title('nat regression coefs')\n",
    "# ax[2].set_title('R$^2$')"
   ]
  },
  {
   "cell_type": "code",
   "execution_count": 25,
   "metadata": {
    "jupyter": {
     "source_hidden": true
    }
   },
   "outputs": [],
   "source": [
    "# chosen_year = 2014\n",
    "\n",
    "# temp_ant_arr = (temp_ant.loc[chosen_year]-temp_ant.loc[1861:1880].mean()).values.reshape(N,18)\n",
    "# rate_ant_arr = OLSE_NORM(np.arange(5)[:,np.newaxis],temp_ant.loc[np.arange(chosen_year-4,chosen_year+1)].values)['coefs'].reshape(N,18)\n",
    "\n",
    "# temp_nat_arr = (temp_nat.loc[chosen_year]-temp_nat.loc[1861:1880].mean()).values.reshape(N,18)\n",
    "# rate_nat_arr = OLSE_NORM(np.arange(5)[:,np.newaxis],temp_nat.loc[np.arange(chosen_year-4,chosen_year+1)].values)['coefs'].reshape(N,18)\n",
    "\n",
    "# temp_ant_arr_old = (temp_ant_old.loc[chosen_year]-temp_ant_old.loc[1861:1880].mean()).values.reshape(N,18)\n",
    "# rate_ant_arr_old = OLSE_NORM(np.arange(5)[:,np.newaxis],temp_ant_old.loc[np.arange(chosen_year-4,chosen_year+1)].values)['coefs'].reshape(N,18)\n",
    "\n",
    "# temp_nat_arr_old = (temp_nat_old.loc[chosen_year]-temp_nat_old.loc[1861:1880].mean()).values.reshape(N,18)\n",
    "# rate_nat_arr_old = OLSE_NORM(np.arange(5)[:,np.newaxis],temp_nat_old.loc[np.arange(chosen_year-4,chosen_year+1)].values)['coefs'].reshape(N,18)"
   ]
  },
  {
   "cell_type": "code",
   "execution_count": 26,
   "metadata": {
    "jupyter": {
     "source_hidden": true
    }
   },
   "outputs": [],
   "source": [
    "# temp_attr_ant = (ant_coefs.reshape(-1,N,18)*temp_ant_arr)\n",
    "# temp_attr_nat = (nat_coefs.reshape(-1,N,18)*temp_nat_arr)\n",
    "\n",
    "# temp_rate_attr_ant = (ant_coefs.reshape(-1,N,18)*rate_ant_arr)\n",
    "# temp_rate_attr_nat = (nat_coefs.reshape(-1,N,18)*rate_nat_arr)\n",
    "\n",
    "# temp_attr_ant_old = (ant_coefs_old.reshape(-1,N,18)*temp_ant_arr_old)\n",
    "# temp_attr_nat_old = (nat_coefs_old.reshape(-1,N,18)*temp_nat_arr_old)\n",
    "\n",
    "# temp_rate_attr_ant_old = (ant_coefs_old.reshape(-1,N,18)*rate_ant_arr_old)\n",
    "# temp_rate_attr_nat_old = (nat_coefs_old.reshape(-1,N,18)*rate_nat_arr_old)"
   ]
  },
  {
   "cell_type": "code",
   "execution_count": 27,
   "metadata": {
    "jupyter": {
     "source_hidden": true
    }
   },
   "outputs": [],
   "source": [
    "# fig,ax = plt.subplots(1,2,figsize=(10,5))\n",
    "\n",
    "# ax[0].scatter(np.median(temp_attr_ant,axis=(0,2)),np.median(temp_rate_attr_ant,axis=(0,2)),marker='.',s=3)\n",
    "\n",
    "# ax[1].scatter(np.median(temp_attr_ant_old,axis=(0,2)),np.median(temp_rate_attr_ant_old,axis=(0,2)),marker='.',s=3)\n",
    "\n",
    "# [a.set_xlim(-0.1,1.2) for a in ax]\n",
    "# [a.set_ylim(-0.015,0.055) for a in ax]\n",
    "\n",
    "# [a.set_xlabel('2014 temp') for a in ax]\n",
    "# ax[0].set_ylabel('2010-2014 temp rate')\n",
    "\n",
    "# ax[0].set_title('updated forcing uncert')\n",
    "# ax[1].set_title('original forcing uncert')"
   ]
  },
  {
   "cell_type": "code",
   "execution_count": 28,
   "metadata": {
    "jupyter": {
     "source_hidden": true
    }
   },
   "outputs": [],
   "source": [
    "# print(np.quantile((temp_attr_ant+temp_attr_nat).flatten(),[0.05,0.17,0.5,0.83,0.95]))\n",
    "# print(np.quantile((temp_attr_ant_old+temp_attr_nat_old).flatten(),[0.05,0.17,0.5,0.83,0.95]))"
   ]
  },
  {
   "cell_type": "code",
   "execution_count": 29,
   "metadata": {
    "jupyter": {
     "source_hidden": true
    }
   },
   "outputs": [],
   "source": [
    "# fig,ax = plt.subplots(1,2,figsize=(10,5))\n",
    "\n",
    "# ax[0].scatter(np.median(temp_attr_nat,axis=(0,2)),np.median(temp_rate_attr_nat,axis=(0,2)),marker='.',s=3)\n",
    "\n",
    "# ax[1].scatter(np.median(temp_attr_nat_old,axis=(0,2)),np.median(temp_rate_attr_nat_old,axis=(0,2)),marker='.',s=3)\n",
    "\n",
    "# [a.set_xlim(-0.1,1.2) for a in ax]\n",
    "# [a.set_ylim(-0.015,0.055) for a in ax]\n",
    "\n",
    "# [a.set_xlabel('2014 temp') for a in ax]\n",
    "# ax[0].set_ylabel('2010-2014 temp rate')\n",
    "\n",
    "# ax[0].set_title('updated')\n",
    "# ax[1].set_title('original')"
   ]
  },
  {
   "cell_type": "code",
   "execution_count": 30,
   "metadata": {},
   "outputs": [],
   "source": [
    "## computing the uncertainty from internal variability\n",
    "\n",
    "### get internal variability timeseries:\n",
    "\n",
    "piControl_data = pd.read_csv('../tools/cmip6_data/piControl.csv',index_col=0)\n",
    "for i,x in enumerate(['source','member','variable']):\n",
    "    piControl_data.loc[x] = [x.split('_')[i+1] for x in piControl_data.columns]\n",
    "    \n",
    "CMIP6_int_var=piControl_data.T.set_index(['source','member','variable']).T.xs('tas',axis=1,level=-1).apply(pd.to_numeric)\n",
    "\n",
    "### subsample 100 * 170 year slices\n",
    "### check if drift, discard if drift\n",
    "### randomly pick one non-drifting sample\n",
    "\n",
    "CMIP6_int_var_samples = pd.DataFrame(index=np.arange(170),columns=CMIP6_int_var.columns)\n",
    "for model,data in CMIP6_int_var.iteritems():\n",
    "    arr = data.dropna().values\n",
    "    chunksize = arr.size\n",
    "    if chunksize<170:\n",
    "        continue\n",
    "    starting_points = np.random.choice(np.arange(chunksize-170),100)\n",
    "    nodrift_points = []\n",
    "    for s in starting_points:\n",
    "        subarr = arr[s:s+170]\n",
    "        drift = sp.stats.linregress(np.arange(170),subarr).slope\n",
    "        if drift*100>0.15:\n",
    "            continue\n",
    "        else:\n",
    "            nodrift_points+=[s]\n",
    "    chosen_start = np.random.choice(nodrift_points)\n",
    "    CMIP6_int_var_samples.loc[:,model] = arr[chosen_start:chosen_start+170] - arr[chosen_start:chosen_start+170].mean()"
   ]
  },
  {
   "cell_type": "code",
   "execution_count": 31,
   "metadata": {},
   "outputs": [],
   "source": [
    "### remove model degeneracies (take first member of each model):\n",
    "models = []\n",
    "chosen_members = []\n",
    "for model,data in CMIP6_int_var_samples.dropna(axis=1).iteritems():\n",
    "    if model[0] in models:\n",
    "        continue\n",
    "    else:\n",
    "        chosen_members+=[model]\n",
    "        models+=[model[0]]\n",
    "        \n",
    "CMIP6_int_var_samples_nondeg = CMIP6_int_var_samples[chosen_members]"
   ]
  },
  {
   "cell_type": "code",
   "execution_count": 32,
   "metadata": {},
   "outputs": [
    {
     "data": {
      "text/plain": [
       "<AxesSubplot:>"
      ]
     },
     "execution_count": 32,
     "metadata": {},
     "output_type": "execute_result"
    },
    {
     "data": {
      "image/png": "[encoded data removed]",
      "text/plain": [
       "<Figure size 432x288 with 1 Axes>"
      ]
     },
     "metadata": {
      "needs_background": "light"
     },
     "output_type": "display_data"
    }
   ],
   "source": [
    "CMIP6_int_var_samples_nondeg.plot(legend=None,lw=0.1,c='k')"
   ]
  },
  {
   "cell_type": "code",
   "execution_count": 33,
   "metadata": {},
   "outputs": [
    {
     "name": "stderr",
     "output_type": "stream",
     "text": [
      "100%|██████████| 72000/72000 [02:14<00:00, 534.95it/s]\n"
     ]
    }
   ],
   "source": [
    "ant_coefs_iv = np.empty((CMIP6_int_var_samples_nondeg.columns.size,temp_ant.shape[1]))\n",
    "nat_coefs_iv = np.empty((CMIP6_int_var_samples_nondeg.columns.size,temp_nat.shape[1]))\n",
    "\n",
    "for i in tqdm.tqdm(np.arange(ant_coefs_iv.shape[1])):\n",
    "    _lreg_coefs = OLSE_NORM(np.array([temp_ant.iloc[100:,i].values,temp_nat.iloc[100:,i].values]).T,CMIP6_int_var_samples_nondeg.values[:168])['coefs']\n",
    "    ant_coefs_iv[:,i] = _lreg_coefs[0]\n",
    "    nat_coefs_iv[:,i] = _lreg_coefs[1]\n",
    "#     ant_coefs_iv.iloc[:,i] = _lreg_coefs[0]\n",
    "#     nat_coefs_iv.iloc[:,i] = _lreg_coefs[1]"
   ]
  },
  {
   "cell_type": "code",
   "execution_count": 35,
   "metadata": {},
   "outputs": [],
   "source": [
    "chosen_year = 2014\n",
    "\n",
    "temp_ant_arr = (temp_ant.loc[chosen_year]-temp_ant.loc[1861:1880].mean()).values.reshape(N,18)\n",
    "rate_ant_arr = OLSE_NORM(np.arange(5)[:,np.newaxis],temp_ant.loc[np.arange(chosen_year-4,chosen_year+1)].values)['coefs'].reshape(N,18)\n",
    "\n",
    "temp_nat_arr = (temp_nat.loc[chosen_year]-temp_nat.loc[1861:1880].mean()).values.reshape(N,18)\n",
    "rate_nat_arr = OLSE_NORM(np.arange(5)[:,np.newaxis],temp_nat.loc[np.arange(chosen_year-4,chosen_year+1)].values)['coefs'].reshape(N,18)"
   ]
  },
  {
   "cell_type": "code",
   "execution_count": 36,
   "metadata": {},
   "outputs": [],
   "source": [
    "temp_attr_ant = (ant_coefs.reshape(-1,N,18)*temp_ant_arr)[:,None,...] + (ant_coefs_iv.reshape(-1,N,18)*temp_ant_arr)[None,...]\n",
    "temp_attr_nat = (nat_coefs.reshape(-1,N,18)*temp_nat_arr)[:,None,...] + (nat_coefs_iv.reshape(-1,N,18)*temp_nat_arr)[None,...]\n",
    "\n",
    "temp_rate_attr_ant = (ant_coefs.reshape(-1,N,18)*rate_ant_arr)[:,None,...] + (ant_coefs_iv.reshape(-1,N,18)*rate_ant_arr)[None,...]\n",
    "temp_rate_attr_nat = (nat_coefs.reshape(-1,N,18)*rate_nat_arr)[:,None,...] + (nat_coefs_iv.reshape(-1,N,18)*rate_nat_arr)[None,...]"
   ]
  },
  {
   "cell_type": "code",
   "execution_count": 37,
   "metadata": {},
   "outputs": [
    {
     "name": "stdout",
     "output_type": "stream",
     "text": [
      "Temp level constraint:\n",
      "0.7492012584928995 1.2585341862359873\n",
      "\n",
      "Temp rate constraint:\n",
      "0.018434972425118115 0.0398729161876676\n"
     ]
    }
   ],
   "source": [
    "# print('Anthro Temp statistics')\n",
    "# print(temp_attr_ant.describe(percentiles=[.05,.16,.33,.5,.66,.84,.95]).T)\n",
    "\n",
    "# print('\\nAnthro Temp rate statistics')\n",
    "# print(temp_rate_attr_ant.describe(percentiles=[.05,.16,.33,.5,.66,.84,.95]).T)\n",
    "\n",
    "# print('\\nTotal Temp statistics')\n",
    "# print((temp_attr_ant+temp_attr_nat).describe(percentiles=[.05,.16,.33,.5,.66,.84,.95]).T)\n",
    "\n",
    "# print('\\nTotal Temp rate statistics')\n",
    "# print((temp_rate_attr_ant+temp_rate_attr_nat).describe(percentiles=[.05,.16,.33,.5,.66,.84,.95]).T)\n",
    "\n",
    "HIGH_constrain_level,LOW_constrain_level = np.quantile(temp_attr_ant+temp_attr_nat,[0.95,0.05])\n",
    "HIGH_constrain_rate,LOW_constrain_rate = np.quantile(temp_rate_attr_ant+temp_rate_attr_nat,[0.95,0.05])\n",
    "\n",
    "print('Temp level constraint:')\n",
    "print(LOW_constrain_level,HIGH_constrain_level)\n",
    "\n",
    "print('\\nTemp rate constraint:')\n",
    "print(LOW_constrain_rate,HIGH_constrain_rate)"
   ]
  },
  {
   "cell_type": "code",
   "execution_count": 39,
   "metadata": {},
   "outputs": [
    {
     "name": "stdout",
     "output_type": "stream",
     "text": [
      "[0.74920126 0.94811298 1.05862201 1.17135765 1.25853419]\n",
      "[0.01843497 0.02195144 0.02730711 0.03409353 0.03987292]\n"
     ]
    }
   ],
   "source": [
    "print(np.quantile(temp_attr_ant+temp_attr_nat,[0.05,0.17,0.5,0.83,0.95]))\n",
    "print(np.quantile(temp_rate_attr_ant+temp_rate_attr_nat,[0.05,0.17,0.5,0.83,0.95]))"
   ]
  },
  {
   "cell_type": "code",
   "execution_count": 38,
   "metadata": {},
   "outputs": [
    {
     "data": {
      "text/plain": [
       "Text(0, 0.5, 'rate of temperature change over 2010-2014 / K decade$^{-1}$')"
      ]
     },
     "execution_count": 38,
     "metadata": {},
     "output_type": "execute_result"
    },
    {
     "data": {
      "image/png": "[encoded data removed]",
      "text/plain": [
       "<Figure size 2160x360 with 4 Axes>"
      ]
     },
     "metadata": {
      "needs_background": "light"
     },
     "output_type": "display_data"
    }
   ],
   "source": [
    "fig,ax=plt.subplots(1,4,figsize=(30,5))\n",
    "# ax[0].hist2d((temp_attr_ant_and_iv+temp_attr_nat_and_iv).flatten(),10*(temp_rate_attr_ant_and_iv+temp_rate_attr_nat_and_iv).flatten(),bins=500,cmap='binary',density=True)\n",
    "\n",
    "for i,source in enumerate(['obs','internal variability','forcing','response']):\n",
    "    ax[i].scatter(np.median(temp_attr_ant+temp_attr_nat,axis=(np.arange(1,4)+i)%4),10*np.median(temp_rate_attr_ant+temp_rate_attr_nat,axis=(np.arange(1,4)+i)%4),color='k',marker='.',s=3)\n",
    "    ax[i].set_title(source+' uncertainty')\n",
    "    \n",
    "[a.set_xlim(0.5,1.5) for a in ax]\n",
    "[a.set_ylim(0.0,0.9) for a in ax]\n",
    "[a.set_xlabel('2014 temperature relative to 1861-1880 / K',fontsize=12) for a in ax]\n",
    "ax[0].set_ylabel('rate of temperature change over 2010-2014 / K decade$^{-1}$',fontsize=12)\n",
    "# ax[0].set_title('FULL uncertainty',fontsize=12)"
   ]
  },
  {
   "cell_type": "markdown",
   "metadata": {},
   "source": [
    "## Part II: constraining a large parameter ensemble"
   ]
  },
  {
   "cell_type": "code",
   "execution_count": 2,
   "metadata": {},
   "outputs": [],
   "source": [
    "## start from here if you don't want to re-run the GWI:\n",
    "baseline = [1861,1880]\n",
    "chosen_year = 2014\n",
    "HIGH_constrain_level,LOW_constrain_level = [1.2585341862359873 , 0.7492012584928995]\n",
    "HIGH_constrain_rate,LOW_constrain_rate = [0.0398729161876676 , 0.018434972425118115]"
   ]
  },
  {
   "cell_type": "markdown",
   "metadata": {},
   "source": [
    "#### Forcing parameter uncertainties\n",
    "We construct ensembles of the ERF parameters used in the model by scaling each default ERF parameter by a scaling factor sampled from the appropriate distribution:\n",
    "- CO$_2$ ~ $\\mathcal{N}\\left(1,\\frac{0.2}{\\Phi^{-1}(0.95)}\\right)$\n",
    "- CH$_4$ ~ $\\mathcal{N}\\left(1,\\frac{0.28}{\\Phi^{-1}(0.95)}\\right)$\n",
    "- N$_2$O ~ $\\mathcal{N}\\left(1,\\frac{0.2}{\\Phi^{-1}(0.95)}\\right)$\n",
    "- other WMGHGs ~ $\\mathcal{N}\\left(1,\\frac{0.2}{\\Phi^{-1}(0.95)}\\right)$\n",
    "- tropospheric O$_3$ ~ $\\mathcal{N}\\left(1,\\frac{0.5}{\\Phi^{-1}(0.95)}\\right)$\n",
    "- stratospheric O$_3$ ~ $\\mathcal{N}\\left(1,\\frac{2}{\\Phi^{-1}(0.95)}\\right)$\n",
    "- stratospheric H$_2$O from CH$_4$ ~ $\\mathcal{N}\\left(1,\\frac{0.72}{\\Phi^{-1}(0.95)}\\right)$\n",
    "- BC on snow ~ lognormal with quantiles 0.05 = 0.5 and 0.95 = 2.25\n",
    "- contrails ~ $\\mathcal{N}\\left(1,\\frac{0.75}{\\Phi^{-1}(0.95)}\\right)$\n",
    "- ERFari ~ $\\alpha$ parameters drawn from CMIP6 inferred multivariate normal; resulting distribution scaled to match process based assessment in Bellouin (2020)\n",
    "- ERFaci ~ parameters drawn independently from CMIP6 inferred distribution; resulting distribtuion scaled to match process based assessment Bellouin (2020)\n",
    "- LUC ~ $\\mathcal{N}\\left(1,\\frac{0.75}{\\Phi^{-1}(0.95)}\\right)$\n",
    "- volcanic ~ $\\mathcal{N}\\left(1,\\frac{0.5}{\\Phi^{-1}(0.95)}\\right)$\n",
    "- solar ~ $\\mathcal{N}\\left(1,\\frac{1}{\\Phi^{-1}(0.95)}\\right)$\n",
    "\n",
    "N.B. the numerator in each normal distribution scale parameter gives the half the 90% confidence interval (ie. uncertainty in CO$_2$ ERF is $\\pm20\\%$)."
   ]
  },
  {
   "cell_type": "code",
   "execution_count": 3,
   "metadata": {},
   "outputs": [],
   "source": [
    "## create parameter ensemble\n",
    "\n",
    "### do we go for sampling gaussian forcings / non-gaussian forcings / carbon-cycle parameters / response parameters independently\n",
    "### and assuming all uncertainties within these categories are correlated?\n",
    "\n",
    "default_params = pd.read_csv('../Parameter_Sets/Complete_gas_cycle_params.csv',skiprows=1,index_col=0)\n",
    "forcing_namelist = list(default_params.columns)\n",
    "\n",
    "param_categories = {}\n",
    "param_categories['other_wmghgs'] = ['c2f6', 'c3f8', 'c4f10', 'c5f12', 'c6f14', 'c7f16', 'c8f18', 'c_c4f8','carbon_tetrachloride', 'cf4', 'cfc113', 'cfc114', 'cfc115', 'cfc11', 'cfc12', 'ch2cl2', 'ch3ccl3', 'chcl3', 'halon1211', 'halon1301', 'halon2402', 'hcfc141b', 'hcfc142b', 'hcfc22', 'hfc125', 'hfc134a', 'hfc143a', 'hfc152a', 'hfc227ea', 'hfc236fa', 'hfc23', 'hfc245fa', 'hfc32', 'hfc365mfc', 'hfc4310mee', 'methyl_bromide', 'methyl_chloride', 'nf3', 'sf6', 'so2f2', 'halon1202']\n",
    "param_categories['carbon_dioxide'] = ['carbon_dioxide']\n",
    "param_categories['methane'] = ['methane']\n",
    "param_categories['nitrous_oxide'] = ['nitrous_oxide']\n",
    "param_categories['trop_o3'] = [x for x in forcing_namelist if '|trop_o3' in x]\n",
    "param_categories['strat_o3'] = [x for x in forcing_namelist if '|strat_o3' in x]\n",
    "param_categories['strat_h2o'] = [x for x in forcing_namelist if '|strat_h2o' in x]\n",
    "param_categories['ari'] = ['so2', 'nox', 'co', 'nmvoc', 'bc', 'nh3','oc','nox_avi']\n",
    "param_categories['aci'] = ['so2|aci','oc|aci','bc|aci']\n",
    "param_categories['bc_on_snow'] = ['bc|bc_on_snow']\n",
    "param_categories['contrails'] = ['nox_avi|contrails']\n",
    "\n",
    "def get_forcing_param_ensemble(N,mem_names = False):\n",
    "    \n",
    "    if mem_names is False:\n",
    "        mem_names = ['mem'+str(x) for x in np.arange(N)]\n",
    "    \n",
    "    category_distributions = pd.Series(index = param_categories.keys(),dtype=object)\n",
    "\n",
    "    category_distributions.loc['carbon_dioxide'] = sp.stats.norm(1,0.20/1.645)\n",
    "    category_distributions.loc['methane'] = sp.stats.norm(1,0.28/1.645)\n",
    "    category_distributions.loc['nitrous_oxide'] = sp.stats.norm(1,0.2/1.645)\n",
    "    category_distributions.loc['other_wmghgs'] = sp.stats.norm(1,0.20/1.645)\n",
    "    category_distributions.loc['trop_o3'] = sp.stats.norm(1,0.5/1.645)\n",
    "    category_distributions.loc['strat_o3'] = sp.stats.norm(1,2/1.645)\n",
    "    category_distributions.loc['strat_h2o'] = sp.stats.norm(1,0.72/1.645)\n",
    "    pct_5 = 0.04 / 0.08 # need to scale by the mean to turn into a \"scaling factor\"\n",
    "    pct_95=0.18 / 0.08\n",
    "    sigma = (np.log(pct_95) - np.log(pct_5)) / (sp.stats.norm().ppf(0.95)-sp.stats.norm().ppf(0.05))\n",
    "    mu = np.log(pct_5) - sigma * sp.stats.norm().ppf(0.05)\n",
    "    category_distributions.loc['bc_on_snow'] = sp.stats.lognorm(s=sigma,scale=np.exp(mu))\n",
    "    category_distributions.loc['contrails'] = sp.stats.norm(1,0.75/1.645)\n",
    "\n",
    "    f_parameter_ensemble_draw = np.zeros((3,len(forcing_namelist),N))\n",
    "    default_f_params = default_params.loc['f1':'f3'].values\n",
    "\n",
    "    for key in category_distributions.index:\n",
    "        if not type(category_distributions.loc[key]) == sp.stats._distn_infrastructure.rv_frozen:\n",
    "            continue\n",
    "        cat_map = [x in param_categories[key] for x in forcing_namelist]\n",
    "        f_parameter_ensemble_draw[:,cat_map,:] = default_f_params[:,cat_map,None] * category_distributions.loc[key].rvs(N)[None,None]\n",
    "        \n",
    "    ## draw aerosol parameters based on inferred CMIP6 ranges (see CMIP6_parameter_ranges notebook), then rescaled to match the Bellouin process based assessment\n",
    "\n",
    "    ## compute parameters, then scale by the Bellouin / 1850-(2005:2015)\n",
    "    \n",
    "    ERFari_params = pd.read_csv('../Parameter_Sets/CMIP6_ERFari.csv',index_col=0)\n",
    "    \n",
    "    ERFari_mean = ERFari_params.mean().values\n",
    "    ERFari_cov = ERFari_params.cov().values\n",
    "\n",
    "    ERFari_param_draw = sp.stats.multivariate_normal(ERFari_mean,ERFari_cov).rvs(N)\n",
    "    \n",
    "    ERFaci_params = pd.read_csv('../Parameter_Sets/CMIP6_ERFaci.csv',index_col=0)\n",
    "    \n",
    "    ERFaci_ln_beta_s_cov = ERFaci_params[['log_beta','log_beta_s']].cov().values\n",
    "    ERFaci_ln_beta_s_mean = ERFaci_params[['log_beta','log_beta_s']].mean().values\n",
    "    ERFaci_alpha_mean = ERFaci_params['alpha'].mean()\n",
    "    ERFaci_alpha_std = ERFaci_params['alpha'].std()\n",
    "\n",
    "    ERFaci_beta_s = np.exp(sp.stats.multivariate_normal(ERFaci_ln_beta_s_mean,ERFaci_ln_beta_s_cov).rvs(N))\n",
    "    ERFaci_alpha = sp.stats.norm(ERFaci_alpha_mean,ERFaci_alpha_std).rvs(N)\n",
    "    ERFaci_beta = -1*ERFaci_beta_s[...,0]\n",
    "    ERFaci_s = ERFaci_beta_s[...,0] / ERFaci_beta_s[...,1]\n",
    "    \n",
    "    ## get aerosol emissions\n",
    "    RCMIP_aer_emms = RCMIP_emms.loc[('World','ssp245',['Emissions|Sulfur','Emissions|OC','Emissions|BC'])].iloc[:,4:].droplevel((0,1)).apply(pd.to_numeric).T.interpolate().loc[:'2019']\n",
    "    ## baseline to be zero in 1750\n",
    "    RCMIP_aer_emms -= RCMIP_aer_emms.loc['1750']\n",
    "\n",
    "    ## generate the 1850 - 2010 change\n",
    "    ERFari_1850_2010 = ((RCMIP_aer_emms.loc['2005':'2010'].mean() - RCMIP_aer_emms.loc['1850']).values * ERFari_param_draw).sum(axis=1)\n",
    "\n",
    "    ERFaci_1850_2010 = ERFaci_beta * ( np.log(1 + RCMIP_aer_emms.loc['2005':'2010','Emissions|Sulfur'].mean()/ERFaci_s) - np.log(1 + RCMIP_aer_emms.loc['1850','Emissions|Sulfur'].mean()/ERFaci_s) ) \\\n",
    "    + ERFaci_alpha * (RCMIP_aer_emms.loc['2005':'2010',['Emissions|OC','Emissions|BC']].mean().sum() - RCMIP_aer_emms.loc['1850',['Emissions|OC','Emissions|BC']].sum())\n",
    "    \n",
    "    # Use Nicolas' Ringberg methods\n",
    "    def uniform1684(a,b,seed,samples=2000):\n",
    "        interval = (b-a)+((b-a)/(84-16)*32)\n",
    "        lower = a-((b-a)/(84-16)*16)\n",
    "        return sp.stats.uniform.rvs(lower, interval, size=samples, random_state=seed)\n",
    "    samples=N\n",
    "    dtau    = uniform1684(0.02,0.04,123,samples=samples)\n",
    "    tau     = uniform1684(0.13,0.17,124,samples=samples)\n",
    "    S_tau   = uniform1684(-27,-20,125,samples=samples)\n",
    "    RFari_cloudy = uniform1684(-0.1,0.1,126,samples=samples)\n",
    "    dR_dRatm = uniform1684(-0.3,-0.1,127,samples=samples)\n",
    "    dRatm_dtau = uniform1684(17,35,128,samples=samples)\n",
    "    c_tau    = uniform1684(0.59,0.71,129,samples=samples)\n",
    "    c_N      = uniform1684(0.19,0.29,130,samples=samples)\n",
    "    c_L      = uniform1684(0.21,0.29,131,samples=samples)\n",
    "    c_C      = uniform1684(0.59,1.07,132,samples=samples)\n",
    "    beta_N_tau = uniform1684(0.3,0.8,133,samples=samples)\n",
    "    beta_L_N   = uniform1684(-0.36,-0.011,134,samples=samples)\n",
    "    beta_C_N   = uniform1684(0,0.1,135,samples=samples)\n",
    "    S_N = uniform1684(-27,-26,136,samples=samples)\n",
    "    S_L = uniform1684(-56,-54,137,samples=samples)\n",
    "    S_C = uniform1684(-153,-91,138,samples=samples)\n",
    "\n",
    "    rfari = dtau*S_tau*(1-c_tau)+RFari_cloudy\n",
    "    rfari_adj = dtau*dR_dRatm*dRatm_dtau\n",
    "\n",
    "    dlntau = dtau/tau\n",
    "    deltan = dlntau * beta_N_tau\n",
    "\n",
    "    rfaci = dlntau*beta_N_tau*S_N*c_N\n",
    "    erfaci_L = dlntau*beta_N_tau*beta_L_N*S_L*c_L\n",
    "    erfaci_C = dlntau*beta_N_tau*beta_C_N*S_C*c_C\n",
    "\n",
    "    ERFari_scale = rfari + rfari_adj\n",
    "    ERFaci_scale = rfaci + erfaci_L + erfaci_C\n",
    "    \n",
    "    def np_quantileatscore(a,score):\n",
    "    \n",
    "        return ( (a[:,np.newaxis,...]<score[np.newaxis,...]).sum(axis=0) + (a[:,np.newaxis,...]<=score[np.newaxis,...]).sum(axis=0) ) / (2*a.shape[0])\n",
    "\n",
    "    ERFari_qmap = (ERFari_scale[np.argsort(ERFari_scale)][(np_quantileatscore(ERFari_1850_2010,ERFari_1850_2010)*N).astype(int)] / ERFari_1850_2010)\n",
    "    ERFaci_qmap = (ERFaci_scale[np.argsort(ERFaci_scale)][(np_quantileatscore(ERFaci_1850_2010,ERFaci_1850_2010)*N).astype(int)] / ERFaci_1850_2010)\n",
    "    \n",
    "    for i,cat in enumerate(['bc','oc','so2']):\n",
    "        cat_map = forcing_namelist.index(cat)\n",
    "        f_parameter_ensemble_draw[1,cat_map,:] = ERFari_param_draw[...,i]*ERFari_qmap\n",
    "\n",
    "    so2_PI_conc_ensemble = ERFaci_s.copy()\n",
    "\n",
    "    cat_map = forcing_namelist.index('so2|aci')\n",
    "    f_parameter_ensemble_draw[0,cat_map,:] = ERFaci_beta*ERFaci_qmap\n",
    "\n",
    "    cat_map = forcing_namelist.index('oc|aci')\n",
    "    f_parameter_ensemble_draw[1,cat_map,:] = ERFaci_alpha*ERFaci_qmap\n",
    "    cat_map = forcing_namelist.index('bc|aci')\n",
    "    f_parameter_ensemble_draw[1,cat_map,:] = ERFaci_alpha*ERFaci_qmap\n",
    "    \n",
    "    gas_parameter_ensemble = pd.concat([default_params.copy()]*N,axis=1,keys=mem_names)\n",
    "\n",
    "    gas_parameter_ensemble.loc['f1':'f3',:] = f_parameter_ensemble_draw.swapaxes(1,2).reshape(3,-1)[:]\n",
    "\n",
    "    gas_parameter_ensemble.loc['PI_conc',(slice(None),'so2')] = so2_PI_conc_ensemble[:]\n",
    "    \n",
    "    return gas_parameter_ensemble"
   ]
  },
  {
   "cell_type": "markdown",
   "metadata": {},
   "source": [
    "#### Response parameter uncertainties"
   ]
  },
  {
   "cell_type": "code",
   "execution_count": 4,
   "metadata": {},
   "outputs": [],
   "source": [
    "def get_response_params(N,gas_parameter_ensemble,mem_names = False):\n",
    "    \n",
    "    if mem_names is False:\n",
    "        mem_names = ['mem'+str(x) for x in np.arange(N)]\n",
    "    \n",
    "    ## require gas_params for the F_2x value\n",
    "\n",
    "    ## draw ln d1, ln d2, q1 | ln d3 | RWF | TCR\n",
    "\n",
    "    # covariance of ln_d1, d2, q1\n",
    "    cov_mat_1 = np.array([[0.95199915, 0.47649902, 0.09359745], [0.47649902, 0.59388914, 0.09119872], [0.09359745, 0.09119872, 0.01710808]])\n",
    "\n",
    "    mean_mat_1 = np.array([-0.20227299,  2.05243353,  0.20285564])\n",
    "    \n",
    "    ln_d3_mean = 5.76338587\n",
    "    ln_d3_std = 0.57722689\n",
    "    \n",
    "    # we alter the CMIP6 assessed ranges to cover a slighly wider range\n",
    "    RWF_mean = 0.55 # 0.55124171\n",
    "    RWF_std = 0.3/1.645 # 0.13777385\n",
    "    \n",
    "    TCR_mean = 2# 2.0782074\n",
    "    TCR_std = 1/1.645# 0.45012178\n",
    "\n",
    "    F_2x = gas_parameter_ensemble.loc['f1',(slice(None),'carbon_dioxide')].values * np.log(2) + gas_parameter_ensemble.loc['f3',(slice(None),'carbon_dioxide')].values * (np.sqrt(278*2) - np.sqrt(278))\n",
    "\n",
    "    lnd1 , lnd2 , q1 , RWF , lnd3 , TCR , d1, d2, d3 , ECS , v1 , v2 , v3 , q2 , q3 = np.empty((15,N))\n",
    "\n",
    "    neg_idx = np.ones(N).astype(bool)\n",
    "    N_neg = neg_idx.sum()\n",
    "\n",
    "    while N_neg>0:\n",
    "\n",
    "        lnd1[neg_idx], lnd2[neg_idx], q1[neg_idx] = sp.stats.multivariate_normal(mean_mat_1,cov_mat_1).rvs(N_neg).T\n",
    "        lnd3[neg_idx] = sp.stats.norm(ln_d3_mean, ln_d3_std).rvs(N_neg)\n",
    "        RWF[neg_idx] = sp.stats.truncnorm(-3,3,RWF_mean, 0.15).rvs(N_neg)\n",
    "        TCR[neg_idx] = sp.stats.truncnorm(-3,3,TCR_mean, TCR_std).rvs(N_neg)\n",
    "#         RWF[neg_idx] = sp.stats.uniform(0.2,0.65).rvs(N_neg)\n",
    "#         TCR[neg_idx] = sp.stats.uniform(0.5,3).rvs(N_neg)\n",
    "        d1[neg_idx] = np.exp(lnd1[neg_idx])\n",
    "        d2[neg_idx] = np.exp(lnd2[neg_idx])\n",
    "        d3[neg_idx] = np.exp(lnd3[neg_idx])\n",
    "        ECS[neg_idx] = TCR[neg_idx]/RWF[neg_idx]\n",
    "\n",
    "        v1[neg_idx] = (1-(d1/69.66) * (1-np.exp(-69.66/d1)) )[neg_idx]\n",
    "        v2[neg_idx] = (1-(d2/69.66) * (1-np.exp(-69.66/d2)) )[neg_idx]\n",
    "        v3[neg_idx] = (1-(d3/69.66) * (1-np.exp(-69.66/d3)) )[neg_idx]\n",
    "\n",
    "        q3[neg_idx] = (((TCR/F_2x) - q1*(v1-v2) - (ECS/F_2x)*v2) / (v3-v2))[neg_idx]\n",
    "        q2[neg_idx] = (ECS/F_2x - q1 -  q3)[neg_idx]\n",
    "\n",
    "        neg_idx = np.any(np.array([d1,d2,d3,q1,q2,q3])<0,axis=0)\n",
    "        N_neg = neg_idx.sum()\n",
    "\n",
    "    response_par_ensemble = np.array([d1,d2,d3,q1,q2,q3]).T\n",
    "    thermal_parameter_ensemble = pd.concat([get_thermal_parameter_defaults()['default'].copy()]*N,axis=1,keys=mem_names)\n",
    "    thermal_parameter_ensemble.loc[:] = response_par_ensemble.reshape(N,2,3).swapaxes(0,1).reshape(2,-1)\n",
    "    \n",
    "    return thermal_parameter_ensemble"
   ]
  },
  {
   "cell_type": "markdown",
   "metadata": {},
   "source": [
    "We run in chunks of 10,000 at a time to reduce the RAM consumption"
   ]
  },
  {
   "cell_type": "code",
   "execution_count": 5,
   "metadata": {},
   "outputs": [],
   "source": [
    "def run_CONSTRAIN(N,ssp='ssp245',mem_names=False):\n",
    "    \n",
    "    if mem_names is False:\n",
    "        mem_names = ['mem'+str(x) for x in np.arange(N)]\n",
    "    \n",
    "    # forcing uncertainty\n",
    "    ## anothropogenic\n",
    "    gas_parameter_ensemble = get_forcing_param_ensemble(10000,mem_names=mem_names)\n",
    "    \n",
    "    erf_ar6 = pd.read_csv('https://raw.githubusercontent.com/Priestley-Centre/ssp_erf/master/SSPs/ERF_'+ssp+'_1750-2500.csv',index_col=0,dtype=float)\n",
    "    ## LUC\n",
    "    LUC_forc = erf_ar6[['land_use']].reindex(np.arange(1750,2101)).values\n",
    "    LUC_forc_sfs = sp.stats.norm(1,0.75/1.645).rvs(N)\n",
    "    LUC_forc_ensemble = LUC_forc_sfs[None] * LUC_forc\n",
    "    \n",
    "    ## Natural\n",
    "    volc_forc = erf_ar6[['volcanic']].reindex(np.arange(1750,2101)).values\n",
    "    volc_forc_sfs = sp.stats.norm(1,0.5/1.645).rvs(N)\n",
    "    volc_forc_ensemble = volc_forc_sfs[None] * volc_forc\n",
    "    sol_forc = erf_ar6[['solar']].reindex(np.arange(1750,2101)).values\n",
    "    sol_forc_sfs = sp.stats.norm(1,1/1.645).rvs(N)\n",
    "    sol_forc_ensemble = sol_forc_sfs[None] * sol_forc\n",
    "    \n",
    "    ext_forc_sfs = pd.DataFrame([LUC_forc_sfs,volc_forc_sfs,sol_forc_sfs],index=['LUC','volc','sol'],columns = mem_names)\n",
    "    \n",
    "    ssp_forc = pd.DataFrame(LUC_forc_ensemble+sol_forc_ensemble+volc_forc_ensemble,index=np.arange(1750,2101),columns=pd.MultiIndex.from_product([mem_names,['forcing']]) )\n",
    "    \n",
    "    # carbon cycle uncertainty\n",
    "#     cc_uncertainty = 0.13 / 1.645 * (4.165 / 3.587)\n",
    "#     cc_param_draw = sp.stats.norm(1,cc_uncertainty).rvs(N).reshape(1,-1)\n",
    "#     gas_parameter_ensemble.loc['r0':'rT',(slice(None),'carbon_dioxide')] = gas_parameter_ensemble.loc['r0':'rT',(slice(None),'carbon_dioxide')].values * cc_param_draw\n",
    "    cc_params = pd.read_csv('../Parameter_Sets/CMIP6_1pctCO2_cc_200820_byOLSE.csv',index_col=0).astype(float)\n",
    "    r0_draw = sp.stats.norm(1,cc_params.r0.std()/cc_params.r0.mean()).rvs(N)\n",
    "    rC_draw = np.exp(sp.stats.norm(np.log(1),abs(np.log(cc_params.rC).std()/np.log(cc_params.rC).mean())).rvs(N))\n",
    "    rT_draw = sp.stats.norm(1,cc_params.rT.std()/cc_params.rT.mean()).rvs(N)\n",
    "    gas_parameter_ensemble.loc['r0':'rT',(slice(None),'carbon_dioxide')] = gas_parameter_ensemble.loc['r0':'rT',(slice(None),'carbon_dioxide')].values * np.array([r0_draw,rC_draw,rT_draw])\n",
    "    \n",
    "    # response uncertainty\n",
    "    thermal_parameter_ensemble = get_response_params(10000,gas_parameter_ensemble,mem_names)\n",
    "    \n",
    "    # get ssp emissions\n",
    "    ssp_emms = RCMIP_to_GIR_input_emms(ssp).interpolate().reindex(np.arange(1750,2101))\n",
    "    ssp_emms -= ssp_emms.loc[1750] # emissions relative to 1750 values\n",
    "    sf = GCP_historical_emissions.sum(axis=1).loc[2015] / ssp_emms.loc[2015,'carbon_dioxide']\n",
    "    ssp_emms.loc[:2014,'carbon_dioxide'] = GCP_historical_emissions.sum(axis=1).loc[1750:2014]\n",
    "    ssp_emms.loc[2015:2025,'carbon_dioxide'] *= np.linspace(sf,1,11)\n",
    "    ssp_emms = pd.concat([ssp_emms]*N,axis=1,keys=mem_names)\n",
    "    # switch in GCP for CO2\n",
    "    \n",
    "    # run the model\n",
    "    FULL = run_GIR(emissions_in=ssp_emms,forcing_in=ssp_forc,gas_parameters=gas_parameter_ensemble,thermal_parameters=thermal_parameter_ensemble)\n",
    "    \n",
    "    # get the constraints:\n",
    "    temp_constraint = ((FULL['T'].loc[chosen_year]-FULL['T'].loc[baseline[0]:baseline[1]].mean())<HIGH_constrain_level)&((FULL['T'].loc[chosen_year]-FULL['T'].loc[baseline[0]:baseline[1]].mean())>LOW_constrain_level)\n",
    "    rate_constraint = (FULL['T'].diff(5).loc[chosen_year]/5<HIGH_constrain_rate)&(FULL['T'].diff(5).loc[chosen_year]/5>LOW_constrain_rate)\n",
    "    \n",
    "    _output = pd.DataFrame(index=['ECS','TCR'],columns=FULL['T'].columns.levels[-1])\n",
    "\n",
    "    f = gas_parameter_ensemble.loc['f1':'f3',(slice(None),'carbon_dioxide')].values\n",
    "    F_2x = f[0]*np.log(2)+f[2]*(np.sqrt(278*2)-np.sqrt(278))\n",
    "    _output.loc['ECS',:] = F_2x*thermal_parameter_ensemble.loc['q'].values.reshape(-1,3).sum(axis=1)\n",
    "    _output.loc['TCR',:] = F_2x * ( thermal_parameter_ensemble.loc['q'].values.reshape(-1,3) * (1 - (thermal_parameter_ensemble.loc['d'].values.reshape(-1,3)/69.66) * ( 1 - np.exp(-69.66/thermal_parameter_ensemble.loc['d'].values.reshape(-1,3)) ) ) ).sum(axis=1)\n",
    "        \n",
    "    _output.loc['T_2100',:] = (FULL['T'].loc[2100] - FULL['T'].loc[baseline[0]:baseline[1]].mean()).reset_index(level=0).set_index('Scenario').iloc[:,0]\n",
    "    \n",
    "    for forc_cat in param_categories.keys():\n",
    "    \n",
    "        _output.loc[forc_cat+'_2019',:] = FULL['RF'].loc[2019,(slice(None),param_categories[forc_cat])].groupby(level=0).sum()\n",
    "        \n",
    "    _output.loc['GHG_2019',:] = _output.loc[[x+'_2019' for x in ['other_wmghgs', 'carbon_dioxide', 'methane', 'nitrous_oxide', 'trop_o3', 'strat_o3', 'strat_h2o']]].sum()\n",
    "    _output.loc['aer_2019',:] = _output.loc[[x+'_2019' for x in ['aci','ari']]].sum()\n",
    "    _output.loc['anthro_2019',:] = _output.loc[[x+'_2019' for x in param_categories.keys()]].sum()\n",
    "    \n",
    "    _output.loc['constrain_level',:] = temp_constraint.reset_index(level=0).set_index('Scenario').iloc[:,0]\n",
    "    _output.loc['constrain_rate',:] = rate_constraint.reset_index(level=0).set_index('Scenario').iloc[:,0]\n",
    "    _output.loc['constrain_multi',:] = (temp_constraint&rate_constraint).reset_index(level=0).set_index('Scenario').iloc[:,0]\n",
    "    \n",
    "    gas_parameter_ensemble.to_pickle('../Parameter_Sets/NROY/gas_params_'+mem_names[0]+'-'+mem_names[-1]+'_v1.pkl')\n",
    "    thermal_parameter_ensemble.to_pickle('../Parameter_Sets/NROY/response_params_'+mem_names[0]+'-'+mem_names[-1]+'_v1.pkl')\n",
    "    temp_constraint.to_pickle('../Parameter_Sets/NROY/temp_constraint_'+mem_names[0]+'-'+mem_names[-1]+'_v1.pkl')\n",
    "    rate_constraint.to_pickle('../Parameter_Sets/NROY/rate_constraint_'+mem_names[0]+'-'+mem_names[-1]+'_v1.pkl')\n",
    "    ext_forc_sfs.to_pickle('../Parameter_Sets/NROY/EXT_forc_'+mem_names[0]+'-'+mem_names[-1]+'_v1.pkl')\n",
    "    \n",
    "    return _output"
   ]
  },
  {
   "cell_type": "code",
   "execution_count": 6,
   "metadata": {
    "collapsed": true,
    "jupyter": {
     "outputs_hidden": true
    }
   },
   "outputs": [
    {
     "name": "stdout",
     "output_type": "stream",
     "text": [
      "Integrating 10000 scenarios, 1 gas cycle parameter sets, 1 thermal response parameter sets, over ['c2f6', 'c3f8', 'c4f10', 'c5f12', 'c6f14', 'c7f16', 'c8f18', 'c_c4f8', 'carbon_dioxide', 'carbon_tetrachloride', 'cf4', 'cfc113', 'cfc114', 'cfc115', 'cfc11', 'cfc12', 'ch2cl2', 'ch3ccl3', 'chcl3', 'halon1211', 'halon1301', 'halon2402', 'hcfc141b', 'hcfc142b', 'hcfc22', 'hfc125', 'hfc134a', 'hfc143a', 'hfc152a', 'hfc227ea', 'hfc236fa', 'hfc23', 'hfc245fa', 'hfc32', 'hfc365mfc', 'hfc4310mee', 'methane', 'methyl_bromide', 'methyl_chloride', 'nf3', 'nitrous_oxide', 'sf6', 'so2f2', 'halon1202', 'so2', 'nox', 'nox_avi', 'co', 'nmvoc', 'bc', 'nh3', 'oc', 'methane|trop_o3', 'methane|strat_h2o', 'co|trop_o3', 'nox|trop_o3', 'nmvoc|trop_o3', 'bc|bc_on_snow', 'nox_avi|contrails', 'so2|aci', 'bc|aci', 'oc|aci', 'carbon_tetrachloride|strat_o3', 'cfc113|strat_o3', 'cfc114|strat_o3', 'cfc115|strat_o3', 'cfc11|strat_o3', 'cfc12|strat_o3', 'ch3ccl3|strat_o3', 'halon1211|strat_o3', 'halon1301|strat_o3', 'halon2402|strat_o3', 'hcfc141b|strat_o3', 'hcfc142b|strat_o3', 'hcfc22|strat_o3', 'methyl_bromide|strat_o3', 'methyl_chloride|strat_o3', 'halon1202|strat_o3'] forcing agents, between 1750 and 2100...\n"
     ]
    },
    {
     "name": "stderr",
     "output_type": "stream",
     "text": [
      "100%|██████████| 350/350 [00:26<00:00, 13.11 timestep/s]\n"
     ]
    },
    {
     "name": "stdout",
     "output_type": "stream",
     "text": [
      "Integrating 10000 scenarios, 1 gas cycle parameter sets, 1 thermal response parameter sets, over ['c2f6', 'c3f8', 'c4f10', 'c5f12', 'c6f14', 'c7f16', 'c8f18', 'c_c4f8', 'carbon_dioxide', 'carbon_tetrachloride', 'cf4', 'cfc113', 'cfc114', 'cfc115', 'cfc11', 'cfc12', 'ch2cl2', 'ch3ccl3', 'chcl3', 'halon1211', 'halon1301', 'halon2402', 'hcfc141b', 'hcfc142b', 'hcfc22', 'hfc125', 'hfc134a', 'hfc143a', 'hfc152a', 'hfc227ea', 'hfc236fa', 'hfc23', 'hfc245fa', 'hfc32', 'hfc365mfc', 'hfc4310mee', 'methane', 'methyl_bromide', 'methyl_chloride', 'nf3', 'nitrous_oxide', 'sf6', 'so2f2', 'halon1202', 'so2', 'nox', 'nox_avi', 'co', 'nmvoc', 'bc', 'nh3', 'oc', 'methane|trop_o3', 'methane|strat_h2o', 'co|trop_o3', 'nox|trop_o3', 'nmvoc|trop_o3', 'bc|bc_on_snow', 'nox_avi|contrails', 'so2|aci', 'bc|aci', 'oc|aci', 'carbon_tetrachloride|strat_o3', 'cfc113|strat_o3', 'cfc114|strat_o3', 'cfc115|strat_o3', 'cfc11|strat_o3', 'cfc12|strat_o3', 'ch3ccl3|strat_o3', 'halon1211|strat_o3', 'halon1301|strat_o3', 'halon2402|strat_o3', 'hcfc141b|strat_o3', 'hcfc142b|strat_o3', 'hcfc22|strat_o3', 'methyl_bromide|strat_o3', 'methyl_chloride|strat_o3', 'halon1202|strat_o3'] forcing agents, between 1750 and 2100...\n"
     ]
    },
    {
     "name": "stderr",
     "output_type": "stream",
     "text": [
      "100%|██████████| 350/350 [00:26<00:00, 13.10 timestep/s]\n"
     ]
    },
    {
     "name": "stdout",
     "output_type": "stream",
     "text": [
      "Integrating 10000 scenarios, 1 gas cycle parameter sets, 1 thermal response parameter sets, over ['c2f6', 'c3f8', 'c4f10', 'c5f12', 'c6f14', 'c7f16', 'c8f18', 'c_c4f8', 'carbon_dioxide', 'carbon_tetrachloride', 'cf4', 'cfc113', 'cfc114', 'cfc115', 'cfc11', 'cfc12', 'ch2cl2', 'ch3ccl3', 'chcl3', 'halon1211', 'halon1301', 'halon2402', 'hcfc141b', 'hcfc142b', 'hcfc22', 'hfc125', 'hfc134a', 'hfc143a', 'hfc152a', 'hfc227ea', 'hfc236fa', 'hfc23', 'hfc245fa', 'hfc32', 'hfc365mfc', 'hfc4310mee', 'methane', 'methyl_bromide', 'methyl_chloride', 'nf3', 'nitrous_oxide', 'sf6', 'so2f2', 'halon1202', 'so2', 'nox', 'nox_avi', 'co', 'nmvoc', 'bc', 'nh3', 'oc', 'methane|trop_o3', 'methane|strat_h2o', 'co|trop_o3', 'nox|trop_o3', 'nmvoc|trop_o3', 'bc|bc_on_snow', 'nox_avi|contrails', 'so2|aci', 'bc|aci', 'oc|aci', 'carbon_tetrachloride|strat_o3', 'cfc113|strat_o3', 'cfc114|strat_o3', 'cfc115|strat_o3', 'cfc11|strat_o3', 'cfc12|strat_o3', 'ch3ccl3|strat_o3', 'halon1211|strat_o3', 'halon1301|strat_o3', 'halon2402|strat_o3', 'hcfc141b|strat_o3', 'hcfc142b|strat_o3', 'hcfc22|strat_o3', 'methyl_bromide|strat_o3', 'methyl_chloride|strat_o3', 'halon1202|strat_o3'] forcing agents, between 1750 and 2100...\n"
     ]
    },
    {
     "name": "stderr",
     "output_type": "stream",
     "text": [
      "100%|██████████| 350/350 [00:27<00:00, 12.94 timestep/s]\n"
     ]
    },
    {
     "name": "stdout",
     "output_type": "stream",
     "text": [
      "Integrating 10000 scenarios, 1 gas cycle parameter sets, 1 thermal response parameter sets, over ['c2f6', 'c3f8', 'c4f10', 'c5f12', 'c6f14', 'c7f16', 'c8f18', 'c_c4f8', 'carbon_dioxide', 'carbon_tetrachloride', 'cf4', 'cfc113', 'cfc114', 'cfc115', 'cfc11', 'cfc12', 'ch2cl2', 'ch3ccl3', 'chcl3', 'halon1211', 'halon1301', 'halon2402', 'hcfc141b', 'hcfc142b', 'hcfc22', 'hfc125', 'hfc134a', 'hfc143a', 'hfc152a', 'hfc227ea', 'hfc236fa', 'hfc23', 'hfc245fa', 'hfc32', 'hfc365mfc', 'hfc4310mee', 'methane', 'methyl_bromide', 'methyl_chloride', 'nf3', 'nitrous_oxide', 'sf6', 'so2f2', 'halon1202', 'so2', 'nox', 'nox_avi', 'co', 'nmvoc', 'bc', 'nh3', 'oc', 'methane|trop_o3', 'methane|strat_h2o', 'co|trop_o3', 'nox|trop_o3', 'nmvoc|trop_o3', 'bc|bc_on_snow', 'nox_avi|contrails', 'so2|aci', 'bc|aci', 'oc|aci', 'carbon_tetrachloride|strat_o3', 'cfc113|strat_o3', 'cfc114|strat_o3', 'cfc115|strat_o3', 'cfc11|strat_o3', 'cfc12|strat_o3', 'ch3ccl3|strat_o3', 'halon1211|strat_o3', 'halon1301|strat_o3', 'halon2402|strat_o3', 'hcfc141b|strat_o3', 'hcfc142b|strat_o3', 'hcfc22|strat_o3', 'methyl_bromide|strat_o3', 'methyl_chloride|strat_o3', 'halon1202|strat_o3'] forcing agents, between 1750 and 2100...\n"
     ]
    },
    {
     "name": "stderr",
     "output_type": "stream",
     "text": [
      "100%|██████████| 350/350 [00:27<00:00, 12.92 timestep/s]\n"
     ]
    },
    {
     "name": "stdout",
     "output_type": "stream",
     "text": [
      "Integrating 10000 scenarios, 1 gas cycle parameter sets, 1 thermal response parameter sets, over ['c2f6', 'c3f8', 'c4f10', 'c5f12', 'c6f14', 'c7f16', 'c8f18', 'c_c4f8', 'carbon_dioxide', 'carbon_tetrachloride', 'cf4', 'cfc113', 'cfc114', 'cfc115', 'cfc11', 'cfc12', 'ch2cl2', 'ch3ccl3', 'chcl3', 'halon1211', 'halon1301', 'halon2402', 'hcfc141b', 'hcfc142b', 'hcfc22', 'hfc125', 'hfc134a', 'hfc143a', 'hfc152a', 'hfc227ea', 'hfc236fa', 'hfc23', 'hfc245fa', 'hfc32', 'hfc365mfc', 'hfc4310mee', 'methane', 'methyl_bromide', 'methyl_chloride', 'nf3', 'nitrous_oxide', 'sf6', 'so2f2', 'halon1202', 'so2', 'nox', 'nox_avi', 'co', 'nmvoc', 'bc', 'nh3', 'oc', 'methane|trop_o3', 'methane|strat_h2o', 'co|trop_o3', 'nox|trop_o3', 'nmvoc|trop_o3', 'bc|bc_on_snow', 'nox_avi|contrails', 'so2|aci', 'bc|aci', 'oc|aci', 'carbon_tetrachloride|strat_o3', 'cfc113|strat_o3', 'cfc114|strat_o3', 'cfc115|strat_o3', 'cfc11|strat_o3', 'cfc12|strat_o3', 'ch3ccl3|strat_o3', 'halon1211|strat_o3', 'halon1301|strat_o3', 'halon2402|strat_o3', 'hcfc141b|strat_o3', 'hcfc142b|strat_o3', 'hcfc22|strat_o3', 'methyl_bromide|strat_o3', 'methyl_chloride|strat_o3', 'halon1202|strat_o3'] forcing agents, between 1750 and 2100...\n"
     ]
    },
    {
     "name": "stderr",
     "output_type": "stream",
     "text": [
      "100%|██████████| 350/350 [00:27<00:00, 12.85 timestep/s]\n"
     ]
    },
    {
     "name": "stdout",
     "output_type": "stream",
     "text": [
      "Integrating 10000 scenarios, 1 gas cycle parameter sets, 1 thermal response parameter sets, over ['c2f6', 'c3f8', 'c4f10', 'c5f12', 'c6f14', 'c7f16', 'c8f18', 'c_c4f8', 'carbon_dioxide', 'carbon_tetrachloride', 'cf4', 'cfc113', 'cfc114', 'cfc115', 'cfc11', 'cfc12', 'ch2cl2', 'ch3ccl3', 'chcl3', 'halon1211', 'halon1301', 'halon2402', 'hcfc141b', 'hcfc142b', 'hcfc22', 'hfc125', 'hfc134a', 'hfc143a', 'hfc152a', 'hfc227ea', 'hfc236fa', 'hfc23', 'hfc245fa', 'hfc32', 'hfc365mfc', 'hfc4310mee', 'methane', 'methyl_bromide', 'methyl_chloride', 'nf3', 'nitrous_oxide', 'sf6', 'so2f2', 'halon1202', 'so2', 'nox', 'nox_avi', 'co', 'nmvoc', 'bc', 'nh3', 'oc', 'methane|trop_o3', 'methane|strat_h2o', 'co|trop_o3', 'nox|trop_o3', 'nmvoc|trop_o3', 'bc|bc_on_snow', 'nox_avi|contrails', 'so2|aci', 'bc|aci', 'oc|aci', 'carbon_tetrachloride|strat_o3', 'cfc113|strat_o3', 'cfc114|strat_o3', 'cfc115|strat_o3', 'cfc11|strat_o3', 'cfc12|strat_o3', 'ch3ccl3|strat_o3', 'halon1211|strat_o3', 'halon1301|strat_o3', 'halon2402|strat_o3', 'hcfc141b|strat_o3', 'hcfc142b|strat_o3', 'hcfc22|strat_o3', 'methyl_bromide|strat_o3', 'methyl_chloride|strat_o3', 'halon1202|strat_o3'] forcing agents, between 1750 and 2100...\n"
     ]
    },
    {
     "name": "stderr",
     "output_type": "stream",
     "text": [
      "100%|██████████| 350/350 [00:27<00:00, 12.78 timestep/s]\n"
     ]
    },
    {
     "name": "stdout",
     "output_type": "stream",
     "text": [
      "Integrating 10000 scenarios, 1 gas cycle parameter sets, 1 thermal response parameter sets, over ['c2f6', 'c3f8', 'c4f10', 'c5f12', 'c6f14', 'c7f16', 'c8f18', 'c_c4f8', 'carbon_dioxide', 'carbon_tetrachloride', 'cf4', 'cfc113', 'cfc114', 'cfc115', 'cfc11', 'cfc12', 'ch2cl2', 'ch3ccl3', 'chcl3', 'halon1211', 'halon1301', 'halon2402', 'hcfc141b', 'hcfc142b', 'hcfc22', 'hfc125', 'hfc134a', 'hfc143a', 'hfc152a', 'hfc227ea', 'hfc236fa', 'hfc23', 'hfc245fa', 'hfc32', 'hfc365mfc', 'hfc4310mee', 'methane', 'methyl_bromide', 'methyl_chloride', 'nf3', 'nitrous_oxide', 'sf6', 'so2f2', 'halon1202', 'so2', 'nox', 'nox_avi', 'co', 'nmvoc', 'bc', 'nh3', 'oc', 'methane|trop_o3', 'methane|strat_h2o', 'co|trop_o3', 'nox|trop_o3', 'nmvoc|trop_o3', 'bc|bc_on_snow', 'nox_avi|contrails', 'so2|aci', 'bc|aci', 'oc|aci', 'carbon_tetrachloride|strat_o3', 'cfc113|strat_o3', 'cfc114|strat_o3', 'cfc115|strat_o3', 'cfc11|strat_o3', 'cfc12|strat_o3', 'ch3ccl3|strat_o3', 'halon1211|strat_o3', 'halon1301|strat_o3', 'halon2402|strat_o3', 'hcfc141b|strat_o3', 'hcfc142b|strat_o3', 'hcfc22|strat_o3', 'methyl_bromide|strat_o3', 'methyl_chloride|strat_o3', 'halon1202|strat_o3'] forcing agents, between 1750 and 2100...\n"
     ]
    },
    {
     "name": "stderr",
     "output_type": "stream",
     "text": [
      "100%|██████████| 350/350 [00:27<00:00, 12.96 timestep/s]\n"
     ]
    },
    {
     "name": "stdout",
     "output_type": "stream",
     "text": [
      "Integrating 10000 scenarios, 1 gas cycle parameter sets, 1 thermal response parameter sets, over ['c2f6', 'c3f8', 'c4f10', 'c5f12', 'c6f14', 'c7f16', 'c8f18', 'c_c4f8', 'carbon_dioxide', 'carbon_tetrachloride', 'cf4', 'cfc113', 'cfc114', 'cfc115', 'cfc11', 'cfc12', 'ch2cl2', 'ch3ccl3', 'chcl3', 'halon1211', 'halon1301', 'halon2402', 'hcfc141b', 'hcfc142b', 'hcfc22', 'hfc125', 'hfc134a', 'hfc143a', 'hfc152a', 'hfc227ea', 'hfc236fa', 'hfc23', 'hfc245fa', 'hfc32', 'hfc365mfc', 'hfc4310mee', 'methane', 'methyl_bromide', 'methyl_chloride', 'nf3', 'nitrous_oxide', 'sf6', 'so2f2', 'halon1202', 'so2', 'nox', 'nox_avi', 'co', 'nmvoc', 'bc', 'nh3', 'oc', 'methane|trop_o3', 'methane|strat_h2o', 'co|trop_o3', 'nox|trop_o3', 'nmvoc|trop_o3', 'bc|bc_on_snow', 'nox_avi|contrails', 'so2|aci', 'bc|aci', 'oc|aci', 'carbon_tetrachloride|strat_o3', 'cfc113|strat_o3', 'cfc114|strat_o3', 'cfc115|strat_o3', 'cfc11|strat_o3', 'cfc12|strat_o3', 'ch3ccl3|strat_o3', 'halon1211|strat_o3', 'halon1301|strat_o3', 'halon2402|strat_o3', 'hcfc141b|strat_o3', 'hcfc142b|strat_o3', 'hcfc22|strat_o3', 'methyl_bromide|strat_o3', 'methyl_chloride|strat_o3', 'halon1202|strat_o3'] forcing agents, between 1750 and 2100...\n"
     ]
    },
    {
     "name": "stderr",
     "output_type": "stream",
     "text": [
      "100%|██████████| 350/350 [00:27<00:00, 12.70 timestep/s]\n"
     ]
    },
    {
     "name": "stdout",
     "output_type": "stream",
     "text": [
      "Integrating 10000 scenarios, 1 gas cycle parameter sets, 1 thermal response parameter sets, over ['c2f6', 'c3f8', 'c4f10', 'c5f12', 'c6f14', 'c7f16', 'c8f18', 'c_c4f8', 'carbon_dioxide', 'carbon_tetrachloride', 'cf4', 'cfc113', 'cfc114', 'cfc115', 'cfc11', 'cfc12', 'ch2cl2', 'ch3ccl3', 'chcl3', 'halon1211', 'halon1301', 'halon2402', 'hcfc141b', 'hcfc142b', 'hcfc22', 'hfc125', 'hfc134a', 'hfc143a', 'hfc152a', 'hfc227ea', 'hfc236fa', 'hfc23', 'hfc245fa', 'hfc32', 'hfc365mfc', 'hfc4310mee', 'methane', 'methyl_bromide', 'methyl_chloride', 'nf3', 'nitrous_oxide', 'sf6', 'so2f2', 'halon1202', 'so2', 'nox', 'nox_avi', 'co', 'nmvoc', 'bc', 'nh3', 'oc', 'methane|trop_o3', 'methane|strat_h2o', 'co|trop_o3', 'nox|trop_o3', 'nmvoc|trop_o3', 'bc|bc_on_snow', 'nox_avi|contrails', 'so2|aci', 'bc|aci', 'oc|aci', 'carbon_tetrachloride|strat_o3', 'cfc113|strat_o3', 'cfc114|strat_o3', 'cfc115|strat_o3', 'cfc11|strat_o3', 'cfc12|strat_o3', 'ch3ccl3|strat_o3', 'halon1211|strat_o3', 'halon1301|strat_o3', 'halon2402|strat_o3', 'hcfc141b|strat_o3', 'hcfc142b|strat_o3', 'hcfc22|strat_o3', 'methyl_bromide|strat_o3', 'methyl_chloride|strat_o3', 'halon1202|strat_o3'] forcing agents, between 1750 and 2100...\n"
     ]
    },
    {
     "name": "stderr",
     "output_type": "stream",
     "text": [
      "100%|██████████| 350/350 [00:28<00:00, 12.44 timestep/s]\n"
     ]
    },
    {
     "name": "stdout",
     "output_type": "stream",
     "text": [
      "Integrating 10000 scenarios, 1 gas cycle parameter sets, 1 thermal response parameter sets, over ['c2f6', 'c3f8', 'c4f10', 'c5f12', 'c6f14', 'c7f16', 'c8f18', 'c_c4f8', 'carbon_dioxide', 'carbon_tetrachloride', 'cf4', 'cfc113', 'cfc114', 'cfc115', 'cfc11', 'cfc12', 'ch2cl2', 'ch3ccl3', 'chcl3', 'halon1211', 'halon1301', 'halon2402', 'hcfc141b', 'hcfc142b', 'hcfc22', 'hfc125', 'hfc134a', 'hfc143a', 'hfc152a', 'hfc227ea', 'hfc236fa', 'hfc23', 'hfc245fa', 'hfc32', 'hfc365mfc', 'hfc4310mee', 'methane', 'methyl_bromide', 'methyl_chloride', 'nf3', 'nitrous_oxide', 'sf6', 'so2f2', 'halon1202', 'so2', 'nox', 'nox_avi', 'co', 'nmvoc', 'bc', 'nh3', 'oc', 'methane|trop_o3', 'methane|strat_h2o', 'co|trop_o3', 'nox|trop_o3', 'nmvoc|trop_o3', 'bc|bc_on_snow', 'nox_avi|contrails', 'so2|aci', 'bc|aci', 'oc|aci', 'carbon_tetrachloride|strat_o3', 'cfc113|strat_o3', 'cfc114|strat_o3', 'cfc115|strat_o3', 'cfc11|strat_o3', 'cfc12|strat_o3', 'ch3ccl3|strat_o3', 'halon1211|strat_o3', 'halon1301|strat_o3', 'halon2402|strat_o3', 'hcfc141b|strat_o3', 'hcfc142b|strat_o3', 'hcfc22|strat_o3', 'methyl_bromide|strat_o3', 'methyl_chloride|strat_o3', 'halon1202|strat_o3'] forcing agents, between 1750 and 2100...\n"
     ]
    },
    {
     "name": "stderr",
     "output_type": "stream",
     "text": [
      "100%|██████████| 350/350 [00:27<00:00, 12.71 timestep/s]\n"
     ]
    },
    {
     "name": "stdout",
     "output_type": "stream",
     "text": [
      "Integrating 10000 scenarios, 1 gas cycle parameter sets, 1 thermal response parameter sets, over ['c2f6', 'c3f8', 'c4f10', 'c5f12', 'c6f14', 'c7f16', 'c8f18', 'c_c4f8', 'carbon_dioxide', 'carbon_tetrachloride', 'cf4', 'cfc113', 'cfc114', 'cfc115', 'cfc11', 'cfc12', 'ch2cl2', 'ch3ccl3', 'chcl3', 'halon1211', 'halon1301', 'halon2402', 'hcfc141b', 'hcfc142b', 'hcfc22', 'hfc125', 'hfc134a', 'hfc143a', 'hfc152a', 'hfc227ea', 'hfc236fa', 'hfc23', 'hfc245fa', 'hfc32', 'hfc365mfc', 'hfc4310mee', 'methane', 'methyl_bromide', 'methyl_chloride', 'nf3', 'nitrous_oxide', 'sf6', 'so2f2', 'halon1202', 'so2', 'nox', 'nox_avi', 'co', 'nmvoc', 'bc', 'nh3', 'oc', 'methane|trop_o3', 'methane|strat_h2o', 'co|trop_o3', 'nox|trop_o3', 'nmvoc|trop_o3', 'bc|bc_on_snow', 'nox_avi|contrails', 'so2|aci', 'bc|aci', 'oc|aci', 'carbon_tetrachloride|strat_o3', 'cfc113|strat_o3', 'cfc114|strat_o3', 'cfc115|strat_o3', 'cfc11|strat_o3', 'cfc12|strat_o3', 'ch3ccl3|strat_o3', 'halon1211|strat_o3', 'halon1301|strat_o3', 'halon2402|strat_o3', 'hcfc141b|strat_o3', 'hcfc142b|strat_o3', 'hcfc22|strat_o3', 'methyl_bromide|strat_o3', 'methyl_chloride|strat_o3', 'halon1202|strat_o3'] forcing agents, between 1750 and 2100...\n"
     ]
    },
    {
     "name": "stderr",
     "output_type": "stream",
     "text": [
      "100%|██████████| 350/350 [00:27<00:00, 12.53 timestep/s]\n"
     ]
    },
    {
     "name": "stdout",
     "output_type": "stream",
     "text": [
      "Integrating 10000 scenarios, 1 gas cycle parameter sets, 1 thermal response parameter sets, over ['c2f6', 'c3f8', 'c4f10', 'c5f12', 'c6f14', 'c7f16', 'c8f18', 'c_c4f8', 'carbon_dioxide', 'carbon_tetrachloride', 'cf4', 'cfc113', 'cfc114', 'cfc115', 'cfc11', 'cfc12', 'ch2cl2', 'ch3ccl3', 'chcl3', 'halon1211', 'halon1301', 'halon2402', 'hcfc141b', 'hcfc142b', 'hcfc22', 'hfc125', 'hfc134a', 'hfc143a', 'hfc152a', 'hfc227ea', 'hfc236fa', 'hfc23', 'hfc245fa', 'hfc32', 'hfc365mfc', 'hfc4310mee', 'methane', 'methyl_bromide', 'methyl_chloride', 'nf3', 'nitrous_oxide', 'sf6', 'so2f2', 'halon1202', 'so2', 'nox', 'nox_avi', 'co', 'nmvoc', 'bc', 'nh3', 'oc', 'methane|trop_o3', 'methane|strat_h2o', 'co|trop_o3', 'nox|trop_o3', 'nmvoc|trop_o3', 'bc|bc_on_snow', 'nox_avi|contrails', 'so2|aci', 'bc|aci', 'oc|aci', 'carbon_tetrachloride|strat_o3', 'cfc113|strat_o3', 'cfc114|strat_o3', 'cfc115|strat_o3', 'cfc11|strat_o3', 'cfc12|strat_o3', 'ch3ccl3|strat_o3', 'halon1211|strat_o3', 'halon1301|strat_o3', 'halon2402|strat_o3', 'hcfc141b|strat_o3', 'hcfc142b|strat_o3', 'hcfc22|strat_o3', 'methyl_bromide|strat_o3', 'methyl_chloride|strat_o3', 'halon1202|strat_o3'] forcing agents, between 1750 and 2100...\n"
     ]
    },
    {
     "name": "stderr",
     "output_type": "stream",
     "text": [
      "100%|██████████| 350/350 [00:27<00:00, 12.71 timestep/s]\n"
     ]
    },
    {
     "name": "stdout",
     "output_type": "stream",
     "text": [
      "Integrating 10000 scenarios, 1 gas cycle parameter sets, 1 thermal response parameter sets, over ['c2f6', 'c3f8', 'c4f10', 'c5f12', 'c6f14', 'c7f16', 'c8f18', 'c_c4f8', 'carbon_dioxide', 'carbon_tetrachloride', 'cf4', 'cfc113', 'cfc114', 'cfc115', 'cfc11', 'cfc12', 'ch2cl2', 'ch3ccl3', 'chcl3', 'halon1211', 'halon1301', 'halon2402', 'hcfc141b', 'hcfc142b', 'hcfc22', 'hfc125', 'hfc134a', 'hfc143a', 'hfc152a', 'hfc227ea', 'hfc236fa', 'hfc23', 'hfc245fa', 'hfc32', 'hfc365mfc', 'hfc4310mee', 'methane', 'methyl_bromide', 'methyl_chloride', 'nf3', 'nitrous_oxide', 'sf6', 'so2f2', 'halon1202', 'so2', 'nox', 'nox_avi', 'co', 'nmvoc', 'bc', 'nh3', 'oc', 'methane|trop_o3', 'methane|strat_h2o', 'co|trop_o3', 'nox|trop_o3', 'nmvoc|trop_o3', 'bc|bc_on_snow', 'nox_avi|contrails', 'so2|aci', 'bc|aci', 'oc|aci', 'carbon_tetrachloride|strat_o3', 'cfc113|strat_o3', 'cfc114|strat_o3', 'cfc115|strat_o3', 'cfc11|strat_o3', 'cfc12|strat_o3', 'ch3ccl3|strat_o3', 'halon1211|strat_o3', 'halon1301|strat_o3', 'halon2402|strat_o3', 'hcfc141b|strat_o3', 'hcfc142b|strat_o3', 'hcfc22|strat_o3', 'methyl_bromide|strat_o3', 'methyl_chloride|strat_o3', 'halon1202|strat_o3'] forcing agents, between 1750 and 2100...\n"
     ]
    },
    {
     "name": "stderr",
     "output_type": "stream",
     "text": [
      "100%|██████████| 350/350 [00:27<00:00, 12.83 timestep/s]\n"
     ]
    },
    {
     "name": "stdout",
     "output_type": "stream",
     "text": [
      "Integrating 10000 scenarios, 1 gas cycle parameter sets, 1 thermal response parameter sets, over ['c2f6', 'c3f8', 'c4f10', 'c5f12', 'c6f14', 'c7f16', 'c8f18', 'c_c4f8', 'carbon_dioxide', 'carbon_tetrachloride', 'cf4', 'cfc113', 'cfc114', 'cfc115', 'cfc11', 'cfc12', 'ch2cl2', 'ch3ccl3', 'chcl3', 'halon1211', 'halon1301', 'halon2402', 'hcfc141b', 'hcfc142b', 'hcfc22', 'hfc125', 'hfc134a', 'hfc143a', 'hfc152a', 'hfc227ea', 'hfc236fa', 'hfc23', 'hfc245fa', 'hfc32', 'hfc365mfc', 'hfc4310mee', 'methane', 'methyl_bromide', 'methyl_chloride', 'nf3', 'nitrous_oxide', 'sf6', 'so2f2', 'halon1202', 'so2', 'nox', 'nox_avi', 'co', 'nmvoc', 'bc', 'nh3', 'oc', 'methane|trop_o3', 'methane|strat_h2o', 'co|trop_o3', 'nox|trop_o3', 'nmvoc|trop_o3', 'bc|bc_on_snow', 'nox_avi|contrails', 'so2|aci', 'bc|aci', 'oc|aci', 'carbon_tetrachloride|strat_o3', 'cfc113|strat_o3', 'cfc114|strat_o3', 'cfc115|strat_o3', 'cfc11|strat_o3', 'cfc12|strat_o3', 'ch3ccl3|strat_o3', 'halon1211|strat_o3', 'halon1301|strat_o3', 'halon2402|strat_o3', 'hcfc141b|strat_o3', 'hcfc142b|strat_o3', 'hcfc22|strat_o3', 'methyl_bromide|strat_o3', 'methyl_chloride|strat_o3', 'halon1202|strat_o3'] forcing agents, between 1750 and 2100...\n"
     ]
    },
    {
     "name": "stderr",
     "output_type": "stream",
     "text": [
      "100%|██████████| 350/350 [00:27<00:00, 12.87 timestep/s]\n"
     ]
    },
    {
     "name": "stdout",
     "output_type": "stream",
     "text": [
      "Integrating 10000 scenarios, 1 gas cycle parameter sets, 1 thermal response parameter sets, over ['c2f6', 'c3f8', 'c4f10', 'c5f12', 'c6f14', 'c7f16', 'c8f18', 'c_c4f8', 'carbon_dioxide', 'carbon_tetrachloride', 'cf4', 'cfc113', 'cfc114', 'cfc115', 'cfc11', 'cfc12', 'ch2cl2', 'ch3ccl3', 'chcl3', 'halon1211', 'halon1301', 'halon2402', 'hcfc141b', 'hcfc142b', 'hcfc22', 'hfc125', 'hfc134a', 'hfc143a', 'hfc152a', 'hfc227ea', 'hfc236fa', 'hfc23', 'hfc245fa', 'hfc32', 'hfc365mfc', 'hfc4310mee', 'methane', 'methyl_bromide', 'methyl_chloride', 'nf3', 'nitrous_oxide', 'sf6', 'so2f2', 'halon1202', 'so2', 'nox', 'nox_avi', 'co', 'nmvoc', 'bc', 'nh3', 'oc', 'methane|trop_o3', 'methane|strat_h2o', 'co|trop_o3', 'nox|trop_o3', 'nmvoc|trop_o3', 'bc|bc_on_snow', 'nox_avi|contrails', 'so2|aci', 'bc|aci', 'oc|aci', 'carbon_tetrachloride|strat_o3', 'cfc113|strat_o3', 'cfc114|strat_o3', 'cfc115|strat_o3', 'cfc11|strat_o3', 'cfc12|strat_o3', 'ch3ccl3|strat_o3', 'halon1211|strat_o3', 'halon1301|strat_o3', 'halon2402|strat_o3', 'hcfc141b|strat_o3', 'hcfc142b|strat_o3', 'hcfc22|strat_o3', 'methyl_bromide|strat_o3', 'methyl_chloride|strat_o3', 'halon1202|strat_o3'] forcing agents, between 1750 and 2100...\n"
     ]
    },
    {
     "name": "stderr",
     "output_type": "stream",
     "text": [
      "100%|██████████| 350/350 [00:27<00:00, 12.63 timestep/s]\n"
     ]
    },
    {
     "name": "stdout",
     "output_type": "stream",
     "text": [
      "Integrating 10000 scenarios, 1 gas cycle parameter sets, 1 thermal response parameter sets, over ['c2f6', 'c3f8', 'c4f10', 'c5f12', 'c6f14', 'c7f16', 'c8f18', 'c_c4f8', 'carbon_dioxide', 'carbon_tetrachloride', 'cf4', 'cfc113', 'cfc114', 'cfc115', 'cfc11', 'cfc12', 'ch2cl2', 'ch3ccl3', 'chcl3', 'halon1211', 'halon1301', 'halon2402', 'hcfc141b', 'hcfc142b', 'hcfc22', 'hfc125', 'hfc134a', 'hfc143a', 'hfc152a', 'hfc227ea', 'hfc236fa', 'hfc23', 'hfc245fa', 'hfc32', 'hfc365mfc', 'hfc4310mee', 'methane', 'methyl_bromide', 'methyl_chloride', 'nf3', 'nitrous_oxide', 'sf6', 'so2f2', 'halon1202', 'so2', 'nox', 'nox_avi', 'co', 'nmvoc', 'bc', 'nh3', 'oc', 'methane|trop_o3', 'methane|strat_h2o', 'co|trop_o3', 'nox|trop_o3', 'nmvoc|trop_o3', 'bc|bc_on_snow', 'nox_avi|contrails', 'so2|aci', 'bc|aci', 'oc|aci', 'carbon_tetrachloride|strat_o3', 'cfc113|strat_o3', 'cfc114|strat_o3', 'cfc115|strat_o3', 'cfc11|strat_o3', 'cfc12|strat_o3', 'ch3ccl3|strat_o3', 'halon1211|strat_o3', 'halon1301|strat_o3', 'halon2402|strat_o3', 'hcfc141b|strat_o3', 'hcfc142b|strat_o3', 'hcfc22|strat_o3', 'methyl_bromide|strat_o3', 'methyl_chloride|strat_o3', 'halon1202|strat_o3'] forcing agents, between 1750 and 2100...\n"
     ]
    },
    {
     "name": "stderr",
     "output_type": "stream",
     "text": [
      "100%|██████████| 350/350 [00:27<00:00, 12.68 timestep/s]\n"
     ]
    },
    {
     "name": "stdout",
     "output_type": "stream",
     "text": [
      "Integrating 10000 scenarios, 1 gas cycle parameter sets, 1 thermal response parameter sets, over ['c2f6', 'c3f8', 'c4f10', 'c5f12', 'c6f14', 'c7f16', 'c8f18', 'c_c4f8', 'carbon_dioxide', 'carbon_tetrachloride', 'cf4', 'cfc113', 'cfc114', 'cfc115', 'cfc11', 'cfc12', 'ch2cl2', 'ch3ccl3', 'chcl3', 'halon1211', 'halon1301', 'halon2402', 'hcfc141b', 'hcfc142b', 'hcfc22', 'hfc125', 'hfc134a', 'hfc143a', 'hfc152a', 'hfc227ea', 'hfc236fa', 'hfc23', 'hfc245fa', 'hfc32', 'hfc365mfc', 'hfc4310mee', 'methane', 'methyl_bromide', 'methyl_chloride', 'nf3', 'nitrous_oxide', 'sf6', 'so2f2', 'halon1202', 'so2', 'nox', 'nox_avi', 'co', 'nmvoc', 'bc', 'nh3', 'oc', 'methane|trop_o3', 'methane|strat_h2o', 'co|trop_o3', 'nox|trop_o3', 'nmvoc|trop_o3', 'bc|bc_on_snow', 'nox_avi|contrails', 'so2|aci', 'bc|aci', 'oc|aci', 'carbon_tetrachloride|strat_o3', 'cfc113|strat_o3', 'cfc114|strat_o3', 'cfc115|strat_o3', 'cfc11|strat_o3', 'cfc12|strat_o3', 'ch3ccl3|strat_o3', 'halon1211|strat_o3', 'halon1301|strat_o3', 'halon2402|strat_o3', 'hcfc141b|strat_o3', 'hcfc142b|strat_o3', 'hcfc22|strat_o3', 'methyl_bromide|strat_o3', 'methyl_chloride|strat_o3', 'halon1202|strat_o3'] forcing agents, between 1750 and 2100...\n"
     ]
    },
    {
     "name": "stderr",
     "output_type": "stream",
     "text": [
      "100%|██████████| 350/350 [00:28<00:00, 12.43 timestep/s]\n"
     ]
    },
    {
     "name": "stdout",
     "output_type": "stream",
     "text": [
      "Integrating 10000 scenarios, 1 gas cycle parameter sets, 1 thermal response parameter sets, over ['c2f6', 'c3f8', 'c4f10', 'c5f12', 'c6f14', 'c7f16', 'c8f18', 'c_c4f8', 'carbon_dioxide', 'carbon_tetrachloride', 'cf4', 'cfc113', 'cfc114', 'cfc115', 'cfc11', 'cfc12', 'ch2cl2', 'ch3ccl3', 'chcl3', 'halon1211', 'halon1301', 'halon2402', 'hcfc141b', 'hcfc142b', 'hcfc22', 'hfc125', 'hfc134a', 'hfc143a', 'hfc152a', 'hfc227ea', 'hfc236fa', 'hfc23', 'hfc245fa', 'hfc32', 'hfc365mfc', 'hfc4310mee', 'methane', 'methyl_bromide', 'methyl_chloride', 'nf3', 'nitrous_oxide', 'sf6', 'so2f2', 'halon1202', 'so2', 'nox', 'nox_avi', 'co', 'nmvoc', 'bc', 'nh3', 'oc', 'methane|trop_o3', 'methane|strat_h2o', 'co|trop_o3', 'nox|trop_o3', 'nmvoc|trop_o3', 'bc|bc_on_snow', 'nox_avi|contrails', 'so2|aci', 'bc|aci', 'oc|aci', 'carbon_tetrachloride|strat_o3', 'cfc113|strat_o3', 'cfc114|strat_o3', 'cfc115|strat_o3', 'cfc11|strat_o3', 'cfc12|strat_o3', 'ch3ccl3|strat_o3', 'halon1211|strat_o3', 'halon1301|strat_o3', 'halon2402|strat_o3', 'hcfc141b|strat_o3', 'hcfc142b|strat_o3', 'hcfc22|strat_o3', 'methyl_bromide|strat_o3', 'methyl_chloride|strat_o3', 'halon1202|strat_o3'] forcing agents, between 1750 and 2100...\n"
     ]
    },
    {
     "name": "stderr",
     "output_type": "stream",
     "text": [
      "100%|██████████| 350/350 [00:27<00:00, 12.53 timestep/s]\n"
     ]
    },
    {
     "name": "stdout",
     "output_type": "stream",
     "text": [
      "Integrating 10000 scenarios, 1 gas cycle parameter sets, 1 thermal response parameter sets, over ['c2f6', 'c3f8', 'c4f10', 'c5f12', 'c6f14', 'c7f16', 'c8f18', 'c_c4f8', 'carbon_dioxide', 'carbon_tetrachloride', 'cf4', 'cfc113', 'cfc114', 'cfc115', 'cfc11', 'cfc12', 'ch2cl2', 'ch3ccl3', 'chcl3', 'halon1211', 'halon1301', 'halon2402', 'hcfc141b', 'hcfc142b', 'hcfc22', 'hfc125', 'hfc134a', 'hfc143a', 'hfc152a', 'hfc227ea', 'hfc236fa', 'hfc23', 'hfc245fa', 'hfc32', 'hfc365mfc', 'hfc4310mee', 'methane', 'methyl_bromide', 'methyl_chloride', 'nf3', 'nitrous_oxide', 'sf6', 'so2f2', 'halon1202', 'so2', 'nox', 'nox_avi', 'co', 'nmvoc', 'bc', 'nh3', 'oc', 'methane|trop_o3', 'methane|strat_h2o', 'co|trop_o3', 'nox|trop_o3', 'nmvoc|trop_o3', 'bc|bc_on_snow', 'nox_avi|contrails', 'so2|aci', 'bc|aci', 'oc|aci', 'carbon_tetrachloride|strat_o3', 'cfc113|strat_o3', 'cfc114|strat_o3', 'cfc115|strat_o3', 'cfc11|strat_o3', 'cfc12|strat_o3', 'ch3ccl3|strat_o3', 'halon1211|strat_o3', 'halon1301|strat_o3', 'halon2402|strat_o3', 'hcfc141b|strat_o3', 'hcfc142b|strat_o3', 'hcfc22|strat_o3', 'methyl_bromide|strat_o3', 'methyl_chloride|strat_o3', 'halon1202|strat_o3'] forcing agents, between 1750 and 2100...\n"
     ]
    },
    {
     "name": "stderr",
     "output_type": "stream",
     "text": [
      "100%|██████████| 350/350 [00:27<00:00, 12.55 timestep/s]\n"
     ]
    },
    {
     "name": "stdout",
     "output_type": "stream",
     "text": [
      "Integrating 10000 scenarios, 1 gas cycle parameter sets, 1 thermal response parameter sets, over ['c2f6', 'c3f8', 'c4f10', 'c5f12', 'c6f14', 'c7f16', 'c8f18', 'c_c4f8', 'carbon_dioxide', 'carbon_tetrachloride', 'cf4', 'cfc113', 'cfc114', 'cfc115', 'cfc11', 'cfc12', 'ch2cl2', 'ch3ccl3', 'chcl3', 'halon1211', 'halon1301', 'halon2402', 'hcfc141b', 'hcfc142b', 'hcfc22', 'hfc125', 'hfc134a', 'hfc143a', 'hfc152a', 'hfc227ea', 'hfc236fa', 'hfc23', 'hfc245fa', 'hfc32', 'hfc365mfc', 'hfc4310mee', 'methane', 'methyl_bromide', 'methyl_chloride', 'nf3', 'nitrous_oxide', 'sf6', 'so2f2', 'halon1202', 'so2', 'nox', 'nox_avi', 'co', 'nmvoc', 'bc', 'nh3', 'oc', 'methane|trop_o3', 'methane|strat_h2o', 'co|trop_o3', 'nox|trop_o3', 'nmvoc|trop_o3', 'bc|bc_on_snow', 'nox_avi|contrails', 'so2|aci', 'bc|aci', 'oc|aci', 'carbon_tetrachloride|strat_o3', 'cfc113|strat_o3', 'cfc114|strat_o3', 'cfc115|strat_o3', 'cfc11|strat_o3', 'cfc12|strat_o3', 'ch3ccl3|strat_o3', 'halon1211|strat_o3', 'halon1301|strat_o3', 'halon2402|strat_o3', 'hcfc141b|strat_o3', 'hcfc142b|strat_o3', 'hcfc22|strat_o3', 'methyl_bromide|strat_o3', 'methyl_chloride|strat_o3', 'halon1202|strat_o3'] forcing agents, between 1750 and 2100...\n"
     ]
    },
    {
     "name": "stderr",
     "output_type": "stream",
     "text": [
      "100%|██████████| 350/350 [00:27<00:00, 12.63 timestep/s]\n"
     ]
    },
    {
     "name": "stdout",
     "output_type": "stream",
     "text": [
      "Integrating 10000 scenarios, 1 gas cycle parameter sets, 1 thermal response parameter sets, over ['c2f6', 'c3f8', 'c4f10', 'c5f12', 'c6f14', 'c7f16', 'c8f18', 'c_c4f8', 'carbon_dioxide', 'carbon_tetrachloride', 'cf4', 'cfc113', 'cfc114', 'cfc115', 'cfc11', 'cfc12', 'ch2cl2', 'ch3ccl3', 'chcl3', 'halon1211', 'halon1301', 'halon2402', 'hcfc141b', 'hcfc142b', 'hcfc22', 'hfc125', 'hfc134a', 'hfc143a', 'hfc152a', 'hfc227ea', 'hfc236fa', 'hfc23', 'hfc245fa', 'hfc32', 'hfc365mfc', 'hfc4310mee', 'methane', 'methyl_bromide', 'methyl_chloride', 'nf3', 'nitrous_oxide', 'sf6', 'so2f2', 'halon1202', 'so2', 'nox', 'nox_avi', 'co', 'nmvoc', 'bc', 'nh3', 'oc', 'methane|trop_o3', 'methane|strat_h2o', 'co|trop_o3', 'nox|trop_o3', 'nmvoc|trop_o3', 'bc|bc_on_snow', 'nox_avi|contrails', 'so2|aci', 'bc|aci', 'oc|aci', 'carbon_tetrachloride|strat_o3', 'cfc113|strat_o3', 'cfc114|strat_o3', 'cfc115|strat_o3', 'cfc11|strat_o3', 'cfc12|strat_o3', 'ch3ccl3|strat_o3', 'halon1211|strat_o3', 'halon1301|strat_o3', 'halon2402|strat_o3', 'hcfc141b|strat_o3', 'hcfc142b|strat_o3', 'hcfc22|strat_o3', 'methyl_bromide|strat_o3', 'methyl_chloride|strat_o3', 'halon1202|strat_o3'] forcing agents, between 1750 and 2100...\n"
     ]
    },
    {
     "name": "stderr",
     "output_type": "stream",
     "text": [
      "100%|██████████| 350/350 [00:26<00:00, 13.11 timestep/s]\n"
     ]
    },
    {
     "name": "stdout",
     "output_type": "stream",
     "text": [
      "Integrating 10000 scenarios, 1 gas cycle parameter sets, 1 thermal response parameter sets, over ['c2f6', 'c3f8', 'c4f10', 'c5f12', 'c6f14', 'c7f16', 'c8f18', 'c_c4f8', 'carbon_dioxide', 'carbon_tetrachloride', 'cf4', 'cfc113', 'cfc114', 'cfc115', 'cfc11', 'cfc12', 'ch2cl2', 'ch3ccl3', 'chcl3', 'halon1211', 'halon1301', 'halon2402', 'hcfc141b', 'hcfc142b', 'hcfc22', 'hfc125', 'hfc134a', 'hfc143a', 'hfc152a', 'hfc227ea', 'hfc236fa', 'hfc23', 'hfc245fa', 'hfc32', 'hfc365mfc', 'hfc4310mee', 'methane', 'methyl_bromide', 'methyl_chloride', 'nf3', 'nitrous_oxide', 'sf6', 'so2f2', 'halon1202', 'so2', 'nox', 'nox_avi', 'co', 'nmvoc', 'bc', 'nh3', 'oc', 'methane|trop_o3', 'methane|strat_h2o', 'co|trop_o3', 'nox|trop_o3', 'nmvoc|trop_o3', 'bc|bc_on_snow', 'nox_avi|contrails', 'so2|aci', 'bc|aci', 'oc|aci', 'carbon_tetrachloride|strat_o3', 'cfc113|strat_o3', 'cfc114|strat_o3', 'cfc115|strat_o3', 'cfc11|strat_o3', 'cfc12|strat_o3', 'ch3ccl3|strat_o3', 'halon1211|strat_o3', 'halon1301|strat_o3', 'halon2402|strat_o3', 'hcfc141b|strat_o3', 'hcfc142b|strat_o3', 'hcfc22|strat_o3', 'methyl_bromide|strat_o3', 'methyl_chloride|strat_o3', 'halon1202|strat_o3'] forcing agents, between 1750 and 2100...\n"
     ]
    },
    {
     "name": "stderr",
     "output_type": "stream",
     "text": [
      "100%|██████████| 350/350 [00:27<00:00, 12.60 timestep/s]\n"
     ]
    },
    {
     "name": "stdout",
     "output_type": "stream",
     "text": [
      "Integrating 10000 scenarios, 1 gas cycle parameter sets, 1 thermal response parameter sets, over ['c2f6', 'c3f8', 'c4f10', 'c5f12', 'c6f14', 'c7f16', 'c8f18', 'c_c4f8', 'carbon_dioxide', 'carbon_tetrachloride', 'cf4', 'cfc113', 'cfc114', 'cfc115', 'cfc11', 'cfc12', 'ch2cl2', 'ch3ccl3', 'chcl3', 'halon1211', 'halon1301', 'halon2402', 'hcfc141b', 'hcfc142b', 'hcfc22', 'hfc125', 'hfc134a', 'hfc143a', 'hfc152a', 'hfc227ea', 'hfc236fa', 'hfc23', 'hfc245fa', 'hfc32', 'hfc365mfc', 'hfc4310mee', 'methane', 'methyl_bromide', 'methyl_chloride', 'nf3', 'nitrous_oxide', 'sf6', 'so2f2', 'halon1202', 'so2', 'nox', 'nox_avi', 'co', 'nmvoc', 'bc', 'nh3', 'oc', 'methane|trop_o3', 'methane|strat_h2o', 'co|trop_o3', 'nox|trop_o3', 'nmvoc|trop_o3', 'bc|bc_on_snow', 'nox_avi|contrails', 'so2|aci', 'bc|aci', 'oc|aci', 'carbon_tetrachloride|strat_o3', 'cfc113|strat_o3', 'cfc114|strat_o3', 'cfc115|strat_o3', 'cfc11|strat_o3', 'cfc12|strat_o3', 'ch3ccl3|strat_o3', 'halon1211|strat_o3', 'halon1301|strat_o3', 'halon2402|strat_o3', 'hcfc141b|strat_o3', 'hcfc142b|strat_o3', 'hcfc22|strat_o3', 'methyl_bromide|strat_o3', 'methyl_chloride|strat_o3', 'halon1202|strat_o3'] forcing agents, between 1750 and 2100...\n"
     ]
    },
    {
     "name": "stderr",
     "output_type": "stream",
     "text": [
      "100%|██████████| 350/350 [00:27<00:00, 12.84 timestep/s]\n"
     ]
    },
    {
     "name": "stdout",
     "output_type": "stream",
     "text": [
      "Integrating 10000 scenarios, 1 gas cycle parameter sets, 1 thermal response parameter sets, over ['c2f6', 'c3f8', 'c4f10', 'c5f12', 'c6f14', 'c7f16', 'c8f18', 'c_c4f8', 'carbon_dioxide', 'carbon_tetrachloride', 'cf4', 'cfc113', 'cfc114', 'cfc115', 'cfc11', 'cfc12', 'ch2cl2', 'ch3ccl3', 'chcl3', 'halon1211', 'halon1301', 'halon2402', 'hcfc141b', 'hcfc142b', 'hcfc22', 'hfc125', 'hfc134a', 'hfc143a', 'hfc152a', 'hfc227ea', 'hfc236fa', 'hfc23', 'hfc245fa', 'hfc32', 'hfc365mfc', 'hfc4310mee', 'methane', 'methyl_bromide', 'methyl_chloride', 'nf3', 'nitrous_oxide', 'sf6', 'so2f2', 'halon1202', 'so2', 'nox', 'nox_avi', 'co', 'nmvoc', 'bc', 'nh3', 'oc', 'methane|trop_o3', 'methane|strat_h2o', 'co|trop_o3', 'nox|trop_o3', 'nmvoc|trop_o3', 'bc|bc_on_snow', 'nox_avi|contrails', 'so2|aci', 'bc|aci', 'oc|aci', 'carbon_tetrachloride|strat_o3', 'cfc113|strat_o3', 'cfc114|strat_o3', 'cfc115|strat_o3', 'cfc11|strat_o3', 'cfc12|strat_o3', 'ch3ccl3|strat_o3', 'halon1211|strat_o3', 'halon1301|strat_o3', 'halon2402|strat_o3', 'hcfc141b|strat_o3', 'hcfc142b|strat_o3', 'hcfc22|strat_o3', 'methyl_bromide|strat_o3', 'methyl_chloride|strat_o3', 'halon1202|strat_o3'] forcing agents, between 1750 and 2100...\n"
     ]
    },
    {
     "name": "stderr",
     "output_type": "stream",
     "text": [
      "100%|██████████| 350/350 [00:27<00:00, 12.54 timestep/s]\n"
     ]
    },
    {
     "name": "stdout",
     "output_type": "stream",
     "text": [
      "Integrating 10000 scenarios, 1 gas cycle parameter sets, 1 thermal response parameter sets, over ['c2f6', 'c3f8', 'c4f10', 'c5f12', 'c6f14', 'c7f16', 'c8f18', 'c_c4f8', 'carbon_dioxide', 'carbon_tetrachloride', 'cf4', 'cfc113', 'cfc114', 'cfc115', 'cfc11', 'cfc12', 'ch2cl2', 'ch3ccl3', 'chcl3', 'halon1211', 'halon1301', 'halon2402', 'hcfc141b', 'hcfc142b', 'hcfc22', 'hfc125', 'hfc134a', 'hfc143a', 'hfc152a', 'hfc227ea', 'hfc236fa', 'hfc23', 'hfc245fa', 'hfc32', 'hfc365mfc', 'hfc4310mee', 'methane', 'methyl_bromide', 'methyl_chloride', 'nf3', 'nitrous_oxide', 'sf6', 'so2f2', 'halon1202', 'so2', 'nox', 'nox_avi', 'co', 'nmvoc', 'bc', 'nh3', 'oc', 'methane|trop_o3', 'methane|strat_h2o', 'co|trop_o3', 'nox|trop_o3', 'nmvoc|trop_o3', 'bc|bc_on_snow', 'nox_avi|contrails', 'so2|aci', 'bc|aci', 'oc|aci', 'carbon_tetrachloride|strat_o3', 'cfc113|strat_o3', 'cfc114|strat_o3', 'cfc115|strat_o3', 'cfc11|strat_o3', 'cfc12|strat_o3', 'ch3ccl3|strat_o3', 'halon1211|strat_o3', 'halon1301|strat_o3', 'halon2402|strat_o3', 'hcfc141b|strat_o3', 'hcfc142b|strat_o3', 'hcfc22|strat_o3', 'methyl_bromide|strat_o3', 'methyl_chloride|strat_o3', 'halon1202|strat_o3'] forcing agents, between 1750 and 2100...\n"
     ]
    },
    {
     "name": "stderr",
     "output_type": "stream",
     "text": [
      "100%|██████████| 350/350 [00:27<00:00, 12.90 timestep/s]\n"
     ]
    },
    {
     "name": "stdout",
     "output_type": "stream",
     "text": [
      "Integrating 10000 scenarios, 1 gas cycle parameter sets, 1 thermal response parameter sets, over ['c2f6', 'c3f8', 'c4f10', 'c5f12', 'c6f14', 'c7f16', 'c8f18', 'c_c4f8', 'carbon_dioxide', 'carbon_tetrachloride', 'cf4', 'cfc113', 'cfc114', 'cfc115', 'cfc11', 'cfc12', 'ch2cl2', 'ch3ccl3', 'chcl3', 'halon1211', 'halon1301', 'halon2402', 'hcfc141b', 'hcfc142b', 'hcfc22', 'hfc125', 'hfc134a', 'hfc143a', 'hfc152a', 'hfc227ea', 'hfc236fa', 'hfc23', 'hfc245fa', 'hfc32', 'hfc365mfc', 'hfc4310mee', 'methane', 'methyl_bromide', 'methyl_chloride', 'nf3', 'nitrous_oxide', 'sf6', 'so2f2', 'halon1202', 'so2', 'nox', 'nox_avi', 'co', 'nmvoc', 'bc', 'nh3', 'oc', 'methane|trop_o3', 'methane|strat_h2o', 'co|trop_o3', 'nox|trop_o3', 'nmvoc|trop_o3', 'bc|bc_on_snow', 'nox_avi|contrails', 'so2|aci', 'bc|aci', 'oc|aci', 'carbon_tetrachloride|strat_o3', 'cfc113|strat_o3', 'cfc114|strat_o3', 'cfc115|strat_o3', 'cfc11|strat_o3', 'cfc12|strat_o3', 'ch3ccl3|strat_o3', 'halon1211|strat_o3', 'halon1301|strat_o3', 'halon2402|strat_o3', 'hcfc141b|strat_o3', 'hcfc142b|strat_o3', 'hcfc22|strat_o3', 'methyl_bromide|strat_o3', 'methyl_chloride|strat_o3', 'halon1202|strat_o3'] forcing agents, between 1750 and 2100...\n"
     ]
    },
    {
     "name": "stderr",
     "output_type": "stream",
     "text": [
      "100%|██████████| 350/350 [00:27<00:00, 12.71 timestep/s]\n"
     ]
    },
    {
     "name": "stdout",
     "output_type": "stream",
     "text": [
      "Integrating 10000 scenarios, 1 gas cycle parameter sets, 1 thermal response parameter sets, over ['c2f6', 'c3f8', 'c4f10', 'c5f12', 'c6f14', 'c7f16', 'c8f18', 'c_c4f8', 'carbon_dioxide', 'carbon_tetrachloride', 'cf4', 'cfc113', 'cfc114', 'cfc115', 'cfc11', 'cfc12', 'ch2cl2', 'ch3ccl3', 'chcl3', 'halon1211', 'halon1301', 'halon2402', 'hcfc141b', 'hcfc142b', 'hcfc22', 'hfc125', 'hfc134a', 'hfc143a', 'hfc152a', 'hfc227ea', 'hfc236fa', 'hfc23', 'hfc245fa', 'hfc32', 'hfc365mfc', 'hfc4310mee', 'methane', 'methyl_bromide', 'methyl_chloride', 'nf3', 'nitrous_oxide', 'sf6', 'so2f2', 'halon1202', 'so2', 'nox', 'nox_avi', 'co', 'nmvoc', 'bc', 'nh3', 'oc', 'methane|trop_o3', 'methane|strat_h2o', 'co|trop_o3', 'nox|trop_o3', 'nmvoc|trop_o3', 'bc|bc_on_snow', 'nox_avi|contrails', 'so2|aci', 'bc|aci', 'oc|aci', 'carbon_tetrachloride|strat_o3', 'cfc113|strat_o3', 'cfc114|strat_o3', 'cfc115|strat_o3', 'cfc11|strat_o3', 'cfc12|strat_o3', 'ch3ccl3|strat_o3', 'halon1211|strat_o3', 'halon1301|strat_o3', 'halon2402|strat_o3', 'hcfc141b|strat_o3', 'hcfc142b|strat_o3', 'hcfc22|strat_o3', 'methyl_bromide|strat_o3', 'methyl_chloride|strat_o3', 'halon1202|strat_o3'] forcing agents, between 1750 and 2100...\n"
     ]
    },
    {
     "name": "stderr",
     "output_type": "stream",
     "text": [
      "100%|██████████| 350/350 [00:27<00:00, 12.83 timestep/s]\n"
     ]
    },
    {
     "name": "stdout",
     "output_type": "stream",
     "text": [
      "Integrating 10000 scenarios, 1 gas cycle parameter sets, 1 thermal response parameter sets, over ['c2f6', 'c3f8', 'c4f10', 'c5f12', 'c6f14', 'c7f16', 'c8f18', 'c_c4f8', 'carbon_dioxide', 'carbon_tetrachloride', 'cf4', 'cfc113', 'cfc114', 'cfc115', 'cfc11', 'cfc12', 'ch2cl2', 'ch3ccl3', 'chcl3', 'halon1211', 'halon1301', 'halon2402', 'hcfc141b', 'hcfc142b', 'hcfc22', 'hfc125', 'hfc134a', 'hfc143a', 'hfc152a', 'hfc227ea', 'hfc236fa', 'hfc23', 'hfc245fa', 'hfc32', 'hfc365mfc', 'hfc4310mee', 'methane', 'methyl_bromide', 'methyl_chloride', 'nf3', 'nitrous_oxide', 'sf6', 'so2f2', 'halon1202', 'so2', 'nox', 'nox_avi', 'co', 'nmvoc', 'bc', 'nh3', 'oc', 'methane|trop_o3', 'methane|strat_h2o', 'co|trop_o3', 'nox|trop_o3', 'nmvoc|trop_o3', 'bc|bc_on_snow', 'nox_avi|contrails', 'so2|aci', 'bc|aci', 'oc|aci', 'carbon_tetrachloride|strat_o3', 'cfc113|strat_o3', 'cfc114|strat_o3', 'cfc115|strat_o3', 'cfc11|strat_o3', 'cfc12|strat_o3', 'ch3ccl3|strat_o3', 'halon1211|strat_o3', 'halon1301|strat_o3', 'halon2402|strat_o3', 'hcfc141b|strat_o3', 'hcfc142b|strat_o3', 'hcfc22|strat_o3', 'methyl_bromide|strat_o3', 'methyl_chloride|strat_o3', 'halon1202|strat_o3'] forcing agents, between 1750 and 2100...\n"
     ]
    },
    {
     "name": "stderr",
     "output_type": "stream",
     "text": [
      "100%|██████████| 350/350 [00:27<00:00, 12.70 timestep/s]\n"
     ]
    },
    {
     "name": "stdout",
     "output_type": "stream",
     "text": [
      "Integrating 10000 scenarios, 1 gas cycle parameter sets, 1 thermal response parameter sets, over ['c2f6', 'c3f8', 'c4f10', 'c5f12', 'c6f14', 'c7f16', 'c8f18', 'c_c4f8', 'carbon_dioxide', 'carbon_tetrachloride', 'cf4', 'cfc113', 'cfc114', 'cfc115', 'cfc11', 'cfc12', 'ch2cl2', 'ch3ccl3', 'chcl3', 'halon1211', 'halon1301', 'halon2402', 'hcfc141b', 'hcfc142b', 'hcfc22', 'hfc125', 'hfc134a', 'hfc143a', 'hfc152a', 'hfc227ea', 'hfc236fa', 'hfc23', 'hfc245fa', 'hfc32', 'hfc365mfc', 'hfc4310mee', 'methane', 'methyl_bromide', 'methyl_chloride', 'nf3', 'nitrous_oxide', 'sf6', 'so2f2', 'halon1202', 'so2', 'nox', 'nox_avi', 'co', 'nmvoc', 'bc', 'nh3', 'oc', 'methane|trop_o3', 'methane|strat_h2o', 'co|trop_o3', 'nox|trop_o3', 'nmvoc|trop_o3', 'bc|bc_on_snow', 'nox_avi|contrails', 'so2|aci', 'bc|aci', 'oc|aci', 'carbon_tetrachloride|strat_o3', 'cfc113|strat_o3', 'cfc114|strat_o3', 'cfc115|strat_o3', 'cfc11|strat_o3', 'cfc12|strat_o3', 'ch3ccl3|strat_o3', 'halon1211|strat_o3', 'halon1301|strat_o3', 'halon2402|strat_o3', 'hcfc141b|strat_o3', 'hcfc142b|strat_o3', 'hcfc22|strat_o3', 'methyl_bromide|strat_o3', 'methyl_chloride|strat_o3', 'halon1202|strat_o3'] forcing agents, between 1750 and 2100...\n"
     ]
    },
    {
     "name": "stderr",
     "output_type": "stream",
     "text": [
      "100%|██████████| 350/350 [00:27<00:00, 12.63 timestep/s]\n"
     ]
    },
    {
     "name": "stdout",
     "output_type": "stream",
     "text": [
      "Integrating 10000 scenarios, 1 gas cycle parameter sets, 1 thermal response parameter sets, over ['c2f6', 'c3f8', 'c4f10', 'c5f12', 'c6f14', 'c7f16', 'c8f18', 'c_c4f8', 'carbon_dioxide', 'carbon_tetrachloride', 'cf4', 'cfc113', 'cfc114', 'cfc115', 'cfc11', 'cfc12', 'ch2cl2', 'ch3ccl3', 'chcl3', 'halon1211', 'halon1301', 'halon2402', 'hcfc141b', 'hcfc142b', 'hcfc22', 'hfc125', 'hfc134a', 'hfc143a', 'hfc152a', 'hfc227ea', 'hfc236fa', 'hfc23', 'hfc245fa', 'hfc32', 'hfc365mfc', 'hfc4310mee', 'methane', 'methyl_bromide', 'methyl_chloride', 'nf3', 'nitrous_oxide', 'sf6', 'so2f2', 'halon1202', 'so2', 'nox', 'nox_avi', 'co', 'nmvoc', 'bc', 'nh3', 'oc', 'methane|trop_o3', 'methane|strat_h2o', 'co|trop_o3', 'nox|trop_o3', 'nmvoc|trop_o3', 'bc|bc_on_snow', 'nox_avi|contrails', 'so2|aci', 'bc|aci', 'oc|aci', 'carbon_tetrachloride|strat_o3', 'cfc113|strat_o3', 'cfc114|strat_o3', 'cfc115|strat_o3', 'cfc11|strat_o3', 'cfc12|strat_o3', 'ch3ccl3|strat_o3', 'halon1211|strat_o3', 'halon1301|strat_o3', 'halon2402|strat_o3', 'hcfc141b|strat_o3', 'hcfc142b|strat_o3', 'hcfc22|strat_o3', 'methyl_bromide|strat_o3', 'methyl_chloride|strat_o3', 'halon1202|strat_o3'] forcing agents, between 1750 and 2100...\n"
     ]
    },
    {
     "name": "stderr",
     "output_type": "stream",
     "text": [
      "100%|██████████| 350/350 [00:27<00:00, 12.70 timestep/s]\n"
     ]
    },
    {
     "name": "stdout",
     "output_type": "stream",
     "text": [
      "Integrating 10000 scenarios, 1 gas cycle parameter sets, 1 thermal response parameter sets, over ['c2f6', 'c3f8', 'c4f10', 'c5f12', 'c6f14', 'c7f16', 'c8f18', 'c_c4f8', 'carbon_dioxide', 'carbon_tetrachloride', 'cf4', 'cfc113', 'cfc114', 'cfc115', 'cfc11', 'cfc12', 'ch2cl2', 'ch3ccl3', 'chcl3', 'halon1211', 'halon1301', 'halon2402', 'hcfc141b', 'hcfc142b', 'hcfc22', 'hfc125', 'hfc134a', 'hfc143a', 'hfc152a', 'hfc227ea', 'hfc236fa', 'hfc23', 'hfc245fa', 'hfc32', 'hfc365mfc', 'hfc4310mee', 'methane', 'methyl_bromide', 'methyl_chloride', 'nf3', 'nitrous_oxide', 'sf6', 'so2f2', 'halon1202', 'so2', 'nox', 'nox_avi', 'co', 'nmvoc', 'bc', 'nh3', 'oc', 'methane|trop_o3', 'methane|strat_h2o', 'co|trop_o3', 'nox|trop_o3', 'nmvoc|trop_o3', 'bc|bc_on_snow', 'nox_avi|contrails', 'so2|aci', 'bc|aci', 'oc|aci', 'carbon_tetrachloride|strat_o3', 'cfc113|strat_o3', 'cfc114|strat_o3', 'cfc115|strat_o3', 'cfc11|strat_o3', 'cfc12|strat_o3', 'ch3ccl3|strat_o3', 'halon1211|strat_o3', 'halon1301|strat_o3', 'halon2402|strat_o3', 'hcfc141b|strat_o3', 'hcfc142b|strat_o3', 'hcfc22|strat_o3', 'methyl_bromide|strat_o3', 'methyl_chloride|strat_o3', 'halon1202|strat_o3'] forcing agents, between 1750 and 2100...\n"
     ]
    },
    {
     "name": "stderr",
     "output_type": "stream",
     "text": [
      "100%|██████████| 350/350 [00:28<00:00, 12.33 timestep/s]\n"
     ]
    },
    {
     "name": "stdout",
     "output_type": "stream",
     "text": [
      "Integrating 10000 scenarios, 1 gas cycle parameter sets, 1 thermal response parameter sets, over ['c2f6', 'c3f8', 'c4f10', 'c5f12', 'c6f14', 'c7f16', 'c8f18', 'c_c4f8', 'carbon_dioxide', 'carbon_tetrachloride', 'cf4', 'cfc113', 'cfc114', 'cfc115', 'cfc11', 'cfc12', 'ch2cl2', 'ch3ccl3', 'chcl3', 'halon1211', 'halon1301', 'halon2402', 'hcfc141b', 'hcfc142b', 'hcfc22', 'hfc125', 'hfc134a', 'hfc143a', 'hfc152a', 'hfc227ea', 'hfc236fa', 'hfc23', 'hfc245fa', 'hfc32', 'hfc365mfc', 'hfc4310mee', 'methane', 'methyl_bromide', 'methyl_chloride', 'nf3', 'nitrous_oxide', 'sf6', 'so2f2', 'halon1202', 'so2', 'nox', 'nox_avi', 'co', 'nmvoc', 'bc', 'nh3', 'oc', 'methane|trop_o3', 'methane|strat_h2o', 'co|trop_o3', 'nox|trop_o3', 'nmvoc|trop_o3', 'bc|bc_on_snow', 'nox_avi|contrails', 'so2|aci', 'bc|aci', 'oc|aci', 'carbon_tetrachloride|strat_o3', 'cfc113|strat_o3', 'cfc114|strat_o3', 'cfc115|strat_o3', 'cfc11|strat_o3', 'cfc12|strat_o3', 'ch3ccl3|strat_o3', 'halon1211|strat_o3', 'halon1301|strat_o3', 'halon2402|strat_o3', 'hcfc141b|strat_o3', 'hcfc142b|strat_o3', 'hcfc22|strat_o3', 'methyl_bromide|strat_o3', 'methyl_chloride|strat_o3', 'halon1202|strat_o3'] forcing agents, between 1750 and 2100...\n"
     ]
    },
    {
     "name": "stderr",
     "output_type": "stream",
     "text": [
      "100%|██████████| 350/350 [00:27<00:00, 12.73 timestep/s]\n"
     ]
    },
    {
     "name": "stdout",
     "output_type": "stream",
     "text": [
      "Integrating 10000 scenarios, 1 gas cycle parameter sets, 1 thermal response parameter sets, over ['c2f6', 'c3f8', 'c4f10', 'c5f12', 'c6f14', 'c7f16', 'c8f18', 'c_c4f8', 'carbon_dioxide', 'carbon_tetrachloride', 'cf4', 'cfc113', 'cfc114', 'cfc115', 'cfc11', 'cfc12', 'ch2cl2', 'ch3ccl3', 'chcl3', 'halon1211', 'halon1301', 'halon2402', 'hcfc141b', 'hcfc142b', 'hcfc22', 'hfc125', 'hfc134a', 'hfc143a', 'hfc152a', 'hfc227ea', 'hfc236fa', 'hfc23', 'hfc245fa', 'hfc32', 'hfc365mfc', 'hfc4310mee', 'methane', 'methyl_bromide', 'methyl_chloride', 'nf3', 'nitrous_oxide', 'sf6', 'so2f2', 'halon1202', 'so2', 'nox', 'nox_avi', 'co', 'nmvoc', 'bc', 'nh3', 'oc', 'methane|trop_o3', 'methane|strat_h2o', 'co|trop_o3', 'nox|trop_o3', 'nmvoc|trop_o3', 'bc|bc_on_snow', 'nox_avi|contrails', 'so2|aci', 'bc|aci', 'oc|aci', 'carbon_tetrachloride|strat_o3', 'cfc113|strat_o3', 'cfc114|strat_o3', 'cfc115|strat_o3', 'cfc11|strat_o3', 'cfc12|strat_o3', 'ch3ccl3|strat_o3', 'halon1211|strat_o3', 'halon1301|strat_o3', 'halon2402|strat_o3', 'hcfc141b|strat_o3', 'hcfc142b|strat_o3', 'hcfc22|strat_o3', 'methyl_bromide|strat_o3', 'methyl_chloride|strat_o3', 'halon1202|strat_o3'] forcing agents, between 1750 and 2100...\n"
     ]
    },
    {
     "name": "stderr",
     "output_type": "stream",
     "text": [
      "100%|██████████| 350/350 [00:27<00:00, 12.89 timestep/s]\n"
     ]
    },
    {
     "name": "stdout",
     "output_type": "stream",
     "text": [
      "Integrating 10000 scenarios, 1 gas cycle parameter sets, 1 thermal response parameter sets, over ['c2f6', 'c3f8', 'c4f10', 'c5f12', 'c6f14', 'c7f16', 'c8f18', 'c_c4f8', 'carbon_dioxide', 'carbon_tetrachloride', 'cf4', 'cfc113', 'cfc114', 'cfc115', 'cfc11', 'cfc12', 'ch2cl2', 'ch3ccl3', 'chcl3', 'halon1211', 'halon1301', 'halon2402', 'hcfc141b', 'hcfc142b', 'hcfc22', 'hfc125', 'hfc134a', 'hfc143a', 'hfc152a', 'hfc227ea', 'hfc236fa', 'hfc23', 'hfc245fa', 'hfc32', 'hfc365mfc', 'hfc4310mee', 'methane', 'methyl_bromide', 'methyl_chloride', 'nf3', 'nitrous_oxide', 'sf6', 'so2f2', 'halon1202', 'so2', 'nox', 'nox_avi', 'co', 'nmvoc', 'bc', 'nh3', 'oc', 'methane|trop_o3', 'methane|strat_h2o', 'co|trop_o3', 'nox|trop_o3', 'nmvoc|trop_o3', 'bc|bc_on_snow', 'nox_avi|contrails', 'so2|aci', 'bc|aci', 'oc|aci', 'carbon_tetrachloride|strat_o3', 'cfc113|strat_o3', 'cfc114|strat_o3', 'cfc115|strat_o3', 'cfc11|strat_o3', 'cfc12|strat_o3', 'ch3ccl3|strat_o3', 'halon1211|strat_o3', 'halon1301|strat_o3', 'halon2402|strat_o3', 'hcfc141b|strat_o3', 'hcfc142b|strat_o3', 'hcfc22|strat_o3', 'methyl_bromide|strat_o3', 'methyl_chloride|strat_o3', 'halon1202|strat_o3'] forcing agents, between 1750 and 2100...\n"
     ]
    },
    {
     "name": "stderr",
     "output_type": "stream",
     "text": [
      "100%|██████████| 350/350 [00:28<00:00, 12.33 timestep/s]\n"
     ]
    },
    {
     "name": "stdout",
     "output_type": "stream",
     "text": [
      "Integrating 10000 scenarios, 1 gas cycle parameter sets, 1 thermal response parameter sets, over ['c2f6', 'c3f8', 'c4f10', 'c5f12', 'c6f14', 'c7f16', 'c8f18', 'c_c4f8', 'carbon_dioxide', 'carbon_tetrachloride', 'cf4', 'cfc113', 'cfc114', 'cfc115', 'cfc11', 'cfc12', 'ch2cl2', 'ch3ccl3', 'chcl3', 'halon1211', 'halon1301', 'halon2402', 'hcfc141b', 'hcfc142b', 'hcfc22', 'hfc125', 'hfc134a', 'hfc143a', 'hfc152a', 'hfc227ea', 'hfc236fa', 'hfc23', 'hfc245fa', 'hfc32', 'hfc365mfc', 'hfc4310mee', 'methane', 'methyl_bromide', 'methyl_chloride', 'nf3', 'nitrous_oxide', 'sf6', 'so2f2', 'halon1202', 'so2', 'nox', 'nox_avi', 'co', 'nmvoc', 'bc', 'nh3', 'oc', 'methane|trop_o3', 'methane|strat_h2o', 'co|trop_o3', 'nox|trop_o3', 'nmvoc|trop_o3', 'bc|bc_on_snow', 'nox_avi|contrails', 'so2|aci', 'bc|aci', 'oc|aci', 'carbon_tetrachloride|strat_o3', 'cfc113|strat_o3', 'cfc114|strat_o3', 'cfc115|strat_o3', 'cfc11|strat_o3', 'cfc12|strat_o3', 'ch3ccl3|strat_o3', 'halon1211|strat_o3', 'halon1301|strat_o3', 'halon2402|strat_o3', 'hcfc141b|strat_o3', 'hcfc142b|strat_o3', 'hcfc22|strat_o3', 'methyl_bromide|strat_o3', 'methyl_chloride|strat_o3', 'halon1202|strat_o3'] forcing agents, between 1750 and 2100...\n"
     ]
    },
    {
     "name": "stderr",
     "output_type": "stream",
     "text": [
      "100%|██████████| 350/350 [00:27<00:00, 12.84 timestep/s]\n"
     ]
    },
    {
     "name": "stdout",
     "output_type": "stream",
     "text": [
      "Integrating 10000 scenarios, 1 gas cycle parameter sets, 1 thermal response parameter sets, over ['c2f6', 'c3f8', 'c4f10', 'c5f12', 'c6f14', 'c7f16', 'c8f18', 'c_c4f8', 'carbon_dioxide', 'carbon_tetrachloride', 'cf4', 'cfc113', 'cfc114', 'cfc115', 'cfc11', 'cfc12', 'ch2cl2', 'ch3ccl3', 'chcl3', 'halon1211', 'halon1301', 'halon2402', 'hcfc141b', 'hcfc142b', 'hcfc22', 'hfc125', 'hfc134a', 'hfc143a', 'hfc152a', 'hfc227ea', 'hfc236fa', 'hfc23', 'hfc245fa', 'hfc32', 'hfc365mfc', 'hfc4310mee', 'methane', 'methyl_bromide', 'methyl_chloride', 'nf3', 'nitrous_oxide', 'sf6', 'so2f2', 'halon1202', 'so2', 'nox', 'nox_avi', 'co', 'nmvoc', 'bc', 'nh3', 'oc', 'methane|trop_o3', 'methane|strat_h2o', 'co|trop_o3', 'nox|trop_o3', 'nmvoc|trop_o3', 'bc|bc_on_snow', 'nox_avi|contrails', 'so2|aci', 'bc|aci', 'oc|aci', 'carbon_tetrachloride|strat_o3', 'cfc113|strat_o3', 'cfc114|strat_o3', 'cfc115|strat_o3', 'cfc11|strat_o3', 'cfc12|strat_o3', 'ch3ccl3|strat_o3', 'halon1211|strat_o3', 'halon1301|strat_o3', 'halon2402|strat_o3', 'hcfc141b|strat_o3', 'hcfc142b|strat_o3', 'hcfc22|strat_o3', 'methyl_bromide|strat_o3', 'methyl_chloride|strat_o3', 'halon1202|strat_o3'] forcing agents, between 1750 and 2100...\n"
     ]
    },
    {
     "name": "stderr",
     "output_type": "stream",
     "text": [
      "100%|██████████| 350/350 [00:27<00:00, 12.77 timestep/s]\n"
     ]
    },
    {
     "name": "stdout",
     "output_type": "stream",
     "text": [
      "Integrating 10000 scenarios, 1 gas cycle parameter sets, 1 thermal response parameter sets, over ['c2f6', 'c3f8', 'c4f10', 'c5f12', 'c6f14', 'c7f16', 'c8f18', 'c_c4f8', 'carbon_dioxide', 'carbon_tetrachloride', 'cf4', 'cfc113', 'cfc114', 'cfc115', 'cfc11', 'cfc12', 'ch2cl2', 'ch3ccl3', 'chcl3', 'halon1211', 'halon1301', 'halon2402', 'hcfc141b', 'hcfc142b', 'hcfc22', 'hfc125', 'hfc134a', 'hfc143a', 'hfc152a', 'hfc227ea', 'hfc236fa', 'hfc23', 'hfc245fa', 'hfc32', 'hfc365mfc', 'hfc4310mee', 'methane', 'methyl_bromide', 'methyl_chloride', 'nf3', 'nitrous_oxide', 'sf6', 'so2f2', 'halon1202', 'so2', 'nox', 'nox_avi', 'co', 'nmvoc', 'bc', 'nh3', 'oc', 'methane|trop_o3', 'methane|strat_h2o', 'co|trop_o3', 'nox|trop_o3', 'nmvoc|trop_o3', 'bc|bc_on_snow', 'nox_avi|contrails', 'so2|aci', 'bc|aci', 'oc|aci', 'carbon_tetrachloride|strat_o3', 'cfc113|strat_o3', 'cfc114|strat_o3', 'cfc115|strat_o3', 'cfc11|strat_o3', 'cfc12|strat_o3', 'ch3ccl3|strat_o3', 'halon1211|strat_o3', 'halon1301|strat_o3', 'halon2402|strat_o3', 'hcfc141b|strat_o3', 'hcfc142b|strat_o3', 'hcfc22|strat_o3', 'methyl_bromide|strat_o3', 'methyl_chloride|strat_o3', 'halon1202|strat_o3'] forcing agents, between 1750 and 2100...\n"
     ]
    },
    {
     "name": "stderr",
     "output_type": "stream",
     "text": [
      "100%|██████████| 350/350 [00:27<00:00, 12.86 timestep/s]\n"
     ]
    },
    {
     "name": "stdout",
     "output_type": "stream",
     "text": [
      "Integrating 10000 scenarios, 1 gas cycle parameter sets, 1 thermal response parameter sets, over ['c2f6', 'c3f8', 'c4f10', 'c5f12', 'c6f14', 'c7f16', 'c8f18', 'c_c4f8', 'carbon_dioxide', 'carbon_tetrachloride', 'cf4', 'cfc113', 'cfc114', 'cfc115', 'cfc11', 'cfc12', 'ch2cl2', 'ch3ccl3', 'chcl3', 'halon1211', 'halon1301', 'halon2402', 'hcfc141b', 'hcfc142b', 'hcfc22', 'hfc125', 'hfc134a', 'hfc143a', 'hfc152a', 'hfc227ea', 'hfc236fa', 'hfc23', 'hfc245fa', 'hfc32', 'hfc365mfc', 'hfc4310mee', 'methane', 'methyl_bromide', 'methyl_chloride', 'nf3', 'nitrous_oxide', 'sf6', 'so2f2', 'halon1202', 'so2', 'nox', 'nox_avi', 'co', 'nmvoc', 'bc', 'nh3', 'oc', 'methane|trop_o3', 'methane|strat_h2o', 'co|trop_o3', 'nox|trop_o3', 'nmvoc|trop_o3', 'bc|bc_on_snow', 'nox_avi|contrails', 'so2|aci', 'bc|aci', 'oc|aci', 'carbon_tetrachloride|strat_o3', 'cfc113|strat_o3', 'cfc114|strat_o3', 'cfc115|strat_o3', 'cfc11|strat_o3', 'cfc12|strat_o3', 'ch3ccl3|strat_o3', 'halon1211|strat_o3', 'halon1301|strat_o3', 'halon2402|strat_o3', 'hcfc141b|strat_o3', 'hcfc142b|strat_o3', 'hcfc22|strat_o3', 'methyl_bromide|strat_o3', 'methyl_chloride|strat_o3', 'halon1202|strat_o3'] forcing agents, between 1750 and 2100...\n"
     ]
    },
    {
     "name": "stderr",
     "output_type": "stream",
     "text": [
      "100%|██████████| 350/350 [00:27<00:00, 12.51 timestep/s]\n"
     ]
    },
    {
     "name": "stdout",
     "output_type": "stream",
     "text": [
      "Integrating 10000 scenarios, 1 gas cycle parameter sets, 1 thermal response parameter sets, over ['c2f6', 'c3f8', 'c4f10', 'c5f12', 'c6f14', 'c7f16', 'c8f18', 'c_c4f8', 'carbon_dioxide', 'carbon_tetrachloride', 'cf4', 'cfc113', 'cfc114', 'cfc115', 'cfc11', 'cfc12', 'ch2cl2', 'ch3ccl3', 'chcl3', 'halon1211', 'halon1301', 'halon2402', 'hcfc141b', 'hcfc142b', 'hcfc22', 'hfc125', 'hfc134a', 'hfc143a', 'hfc152a', 'hfc227ea', 'hfc236fa', 'hfc23', 'hfc245fa', 'hfc32', 'hfc365mfc', 'hfc4310mee', 'methane', 'methyl_bromide', 'methyl_chloride', 'nf3', 'nitrous_oxide', 'sf6', 'so2f2', 'halon1202', 'so2', 'nox', 'nox_avi', 'co', 'nmvoc', 'bc', 'nh3', 'oc', 'methane|trop_o3', 'methane|strat_h2o', 'co|trop_o3', 'nox|trop_o3', 'nmvoc|trop_o3', 'bc|bc_on_snow', 'nox_avi|contrails', 'so2|aci', 'bc|aci', 'oc|aci', 'carbon_tetrachloride|strat_o3', 'cfc113|strat_o3', 'cfc114|strat_o3', 'cfc115|strat_o3', 'cfc11|strat_o3', 'cfc12|strat_o3', 'ch3ccl3|strat_o3', 'halon1211|strat_o3', 'halon1301|strat_o3', 'halon2402|strat_o3', 'hcfc141b|strat_o3', 'hcfc142b|strat_o3', 'hcfc22|strat_o3', 'methyl_bromide|strat_o3', 'methyl_chloride|strat_o3', 'halon1202|strat_o3'] forcing agents, between 1750 and 2100...\n"
     ]
    },
    {
     "name": "stderr",
     "output_type": "stream",
     "text": [
      "100%|██████████| 350/350 [00:27<00:00, 12.57 timestep/s]\n"
     ]
    },
    {
     "name": "stdout",
     "output_type": "stream",
     "text": [
      "Integrating 10000 scenarios, 1 gas cycle parameter sets, 1 thermal response parameter sets, over ['c2f6', 'c3f8', 'c4f10', 'c5f12', 'c6f14', 'c7f16', 'c8f18', 'c_c4f8', 'carbon_dioxide', 'carbon_tetrachloride', 'cf4', 'cfc113', 'cfc114', 'cfc115', 'cfc11', 'cfc12', 'ch2cl2', 'ch3ccl3', 'chcl3', 'halon1211', 'halon1301', 'halon2402', 'hcfc141b', 'hcfc142b', 'hcfc22', 'hfc125', 'hfc134a', 'hfc143a', 'hfc152a', 'hfc227ea', 'hfc236fa', 'hfc23', 'hfc245fa', 'hfc32', 'hfc365mfc', 'hfc4310mee', 'methane', 'methyl_bromide', 'methyl_chloride', 'nf3', 'nitrous_oxide', 'sf6', 'so2f2', 'halon1202', 'so2', 'nox', 'nox_avi', 'co', 'nmvoc', 'bc', 'nh3', 'oc', 'methane|trop_o3', 'methane|strat_h2o', 'co|trop_o3', 'nox|trop_o3', 'nmvoc|trop_o3', 'bc|bc_on_snow', 'nox_avi|contrails', 'so2|aci', 'bc|aci', 'oc|aci', 'carbon_tetrachloride|strat_o3', 'cfc113|strat_o3', 'cfc114|strat_o3', 'cfc115|strat_o3', 'cfc11|strat_o3', 'cfc12|strat_o3', 'ch3ccl3|strat_o3', 'halon1211|strat_o3', 'halon1301|strat_o3', 'halon2402|strat_o3', 'hcfc141b|strat_o3', 'hcfc142b|strat_o3', 'hcfc22|strat_o3', 'methyl_bromide|strat_o3', 'methyl_chloride|strat_o3', 'halon1202|strat_o3'] forcing agents, between 1750 and 2100...\n"
     ]
    },
    {
     "name": "stderr",
     "output_type": "stream",
     "text": [
      "100%|██████████| 350/350 [00:27<00:00, 12.65 timestep/s]\n"
     ]
    },
    {
     "name": "stdout",
     "output_type": "stream",
     "text": [
      "Integrating 10000 scenarios, 1 gas cycle parameter sets, 1 thermal response parameter sets, over ['c2f6', 'c3f8', 'c4f10', 'c5f12', 'c6f14', 'c7f16', 'c8f18', 'c_c4f8', 'carbon_dioxide', 'carbon_tetrachloride', 'cf4', 'cfc113', 'cfc114', 'cfc115', 'cfc11', 'cfc12', 'ch2cl2', 'ch3ccl3', 'chcl3', 'halon1211', 'halon1301', 'halon2402', 'hcfc141b', 'hcfc142b', 'hcfc22', 'hfc125', 'hfc134a', 'hfc143a', 'hfc152a', 'hfc227ea', 'hfc236fa', 'hfc23', 'hfc245fa', 'hfc32', 'hfc365mfc', 'hfc4310mee', 'methane', 'methyl_bromide', 'methyl_chloride', 'nf3', 'nitrous_oxide', 'sf6', 'so2f2', 'halon1202', 'so2', 'nox', 'nox_avi', 'co', 'nmvoc', 'bc', 'nh3', 'oc', 'methane|trop_o3', 'methane|strat_h2o', 'co|trop_o3', 'nox|trop_o3', 'nmvoc|trop_o3', 'bc|bc_on_snow', 'nox_avi|contrails', 'so2|aci', 'bc|aci', 'oc|aci', 'carbon_tetrachloride|strat_o3', 'cfc113|strat_o3', 'cfc114|strat_o3', 'cfc115|strat_o3', 'cfc11|strat_o3', 'cfc12|strat_o3', 'ch3ccl3|strat_o3', 'halon1211|strat_o3', 'halon1301|strat_o3', 'halon2402|strat_o3', 'hcfc141b|strat_o3', 'hcfc142b|strat_o3', 'hcfc22|strat_o3', 'methyl_bromide|strat_o3', 'methyl_chloride|strat_o3', 'halon1202|strat_o3'] forcing agents, between 1750 and 2100...\n"
     ]
    },
    {
     "name": "stderr",
     "output_type": "stream",
     "text": [
      "100%|██████████| 350/350 [00:27<00:00, 12.70 timestep/s]\n"
     ]
    },
    {
     "name": "stdout",
     "output_type": "stream",
     "text": [
      "Integrating 10000 scenarios, 1 gas cycle parameter sets, 1 thermal response parameter sets, over ['c2f6', 'c3f8', 'c4f10', 'c5f12', 'c6f14', 'c7f16', 'c8f18', 'c_c4f8', 'carbon_dioxide', 'carbon_tetrachloride', 'cf4', 'cfc113', 'cfc114', 'cfc115', 'cfc11', 'cfc12', 'ch2cl2', 'ch3ccl3', 'chcl3', 'halon1211', 'halon1301', 'halon2402', 'hcfc141b', 'hcfc142b', 'hcfc22', 'hfc125', 'hfc134a', 'hfc143a', 'hfc152a', 'hfc227ea', 'hfc236fa', 'hfc23', 'hfc245fa', 'hfc32', 'hfc365mfc', 'hfc4310mee', 'methane', 'methyl_bromide', 'methyl_chloride', 'nf3', 'nitrous_oxide', 'sf6', 'so2f2', 'halon1202', 'so2', 'nox', 'nox_avi', 'co', 'nmvoc', 'bc', 'nh3', 'oc', 'methane|trop_o3', 'methane|strat_h2o', 'co|trop_o3', 'nox|trop_o3', 'nmvoc|trop_o3', 'bc|bc_on_snow', 'nox_avi|contrails', 'so2|aci', 'bc|aci', 'oc|aci', 'carbon_tetrachloride|strat_o3', 'cfc113|strat_o3', 'cfc114|strat_o3', 'cfc115|strat_o3', 'cfc11|strat_o3', 'cfc12|strat_o3', 'ch3ccl3|strat_o3', 'halon1211|strat_o3', 'halon1301|strat_o3', 'halon2402|strat_o3', 'hcfc141b|strat_o3', 'hcfc142b|strat_o3', 'hcfc22|strat_o3', 'methyl_bromide|strat_o3', 'methyl_chloride|strat_o3', 'halon1202|strat_o3'] forcing agents, between 1750 and 2100...\n"
     ]
    },
    {
     "name": "stderr",
     "output_type": "stream",
     "text": [
      "100%|██████████| 350/350 [00:29<00:00, 12.00 timestep/s]\n"
     ]
    },
    {
     "name": "stdout",
     "output_type": "stream",
     "text": [
      "Integrating 10000 scenarios, 1 gas cycle parameter sets, 1 thermal response parameter sets, over ['c2f6', 'c3f8', 'c4f10', 'c5f12', 'c6f14', 'c7f16', 'c8f18', 'c_c4f8', 'carbon_dioxide', 'carbon_tetrachloride', 'cf4', 'cfc113', 'cfc114', 'cfc115', 'cfc11', 'cfc12', 'ch2cl2', 'ch3ccl3', 'chcl3', 'halon1211', 'halon1301', 'halon2402', 'hcfc141b', 'hcfc142b', 'hcfc22', 'hfc125', 'hfc134a', 'hfc143a', 'hfc152a', 'hfc227ea', 'hfc236fa', 'hfc23', 'hfc245fa', 'hfc32', 'hfc365mfc', 'hfc4310mee', 'methane', 'methyl_bromide', 'methyl_chloride', 'nf3', 'nitrous_oxide', 'sf6', 'so2f2', 'halon1202', 'so2', 'nox', 'nox_avi', 'co', 'nmvoc', 'bc', 'nh3', 'oc', 'methane|trop_o3', 'methane|strat_h2o', 'co|trop_o3', 'nox|trop_o3', 'nmvoc|trop_o3', 'bc|bc_on_snow', 'nox_avi|contrails', 'so2|aci', 'bc|aci', 'oc|aci', 'carbon_tetrachloride|strat_o3', 'cfc113|strat_o3', 'cfc114|strat_o3', 'cfc115|strat_o3', 'cfc11|strat_o3', 'cfc12|strat_o3', 'ch3ccl3|strat_o3', 'halon1211|strat_o3', 'halon1301|strat_o3', 'halon2402|strat_o3', 'hcfc141b|strat_o3', 'hcfc142b|strat_o3', 'hcfc22|strat_o3', 'methyl_bromide|strat_o3', 'methyl_chloride|strat_o3', 'halon1202|strat_o3'] forcing agents, between 1750 and 2100...\n"
     ]
    },
    {
     "name": "stderr",
     "output_type": "stream",
     "text": [
      "100%|██████████| 350/350 [00:27<00:00, 12.57 timestep/s]\n"
     ]
    },
    {
     "name": "stdout",
     "output_type": "stream",
     "text": [
      "Integrating 10000 scenarios, 1 gas cycle parameter sets, 1 thermal response parameter sets, over ['c2f6', 'c3f8', 'c4f10', 'c5f12', 'c6f14', 'c7f16', 'c8f18', 'c_c4f8', 'carbon_dioxide', 'carbon_tetrachloride', 'cf4', 'cfc113', 'cfc114', 'cfc115', 'cfc11', 'cfc12', 'ch2cl2', 'ch3ccl3', 'chcl3', 'halon1211', 'halon1301', 'halon2402', 'hcfc141b', 'hcfc142b', 'hcfc22', 'hfc125', 'hfc134a', 'hfc143a', 'hfc152a', 'hfc227ea', 'hfc236fa', 'hfc23', 'hfc245fa', 'hfc32', 'hfc365mfc', 'hfc4310mee', 'methane', 'methyl_bromide', 'methyl_chloride', 'nf3', 'nitrous_oxide', 'sf6', 'so2f2', 'halon1202', 'so2', 'nox', 'nox_avi', 'co', 'nmvoc', 'bc', 'nh3', 'oc', 'methane|trop_o3', 'methane|strat_h2o', 'co|trop_o3', 'nox|trop_o3', 'nmvoc|trop_o3', 'bc|bc_on_snow', 'nox_avi|contrails', 'so2|aci', 'bc|aci', 'oc|aci', 'carbon_tetrachloride|strat_o3', 'cfc113|strat_o3', 'cfc114|strat_o3', 'cfc115|strat_o3', 'cfc11|strat_o3', 'cfc12|strat_o3', 'ch3ccl3|strat_o3', 'halon1211|strat_o3', 'halon1301|strat_o3', 'halon2402|strat_o3', 'hcfc141b|strat_o3', 'hcfc142b|strat_o3', 'hcfc22|strat_o3', 'methyl_bromide|strat_o3', 'methyl_chloride|strat_o3', 'halon1202|strat_o3'] forcing agents, between 1750 and 2100...\n"
     ]
    },
    {
     "name": "stderr",
     "output_type": "stream",
     "text": [
      "100%|██████████| 350/350 [00:29<00:00, 11.69 timestep/s]\n"
     ]
    },
    {
     "name": "stdout",
     "output_type": "stream",
     "text": [
      "Integrating 10000 scenarios, 1 gas cycle parameter sets, 1 thermal response parameter sets, over ['c2f6', 'c3f8', 'c4f10', 'c5f12', 'c6f14', 'c7f16', 'c8f18', 'c_c4f8', 'carbon_dioxide', 'carbon_tetrachloride', 'cf4', 'cfc113', 'cfc114', 'cfc115', 'cfc11', 'cfc12', 'ch2cl2', 'ch3ccl3', 'chcl3', 'halon1211', 'halon1301', 'halon2402', 'hcfc141b', 'hcfc142b', 'hcfc22', 'hfc125', 'hfc134a', 'hfc143a', 'hfc152a', 'hfc227ea', 'hfc236fa', 'hfc23', 'hfc245fa', 'hfc32', 'hfc365mfc', 'hfc4310mee', 'methane', 'methyl_bromide', 'methyl_chloride', 'nf3', 'nitrous_oxide', 'sf6', 'so2f2', 'halon1202', 'so2', 'nox', 'nox_avi', 'co', 'nmvoc', 'bc', 'nh3', 'oc', 'methane|trop_o3', 'methane|strat_h2o', 'co|trop_o3', 'nox|trop_o3', 'nmvoc|trop_o3', 'bc|bc_on_snow', 'nox_avi|contrails', 'so2|aci', 'bc|aci', 'oc|aci', 'carbon_tetrachloride|strat_o3', 'cfc113|strat_o3', 'cfc114|strat_o3', 'cfc115|strat_o3', 'cfc11|strat_o3', 'cfc12|strat_o3', 'ch3ccl3|strat_o3', 'halon1211|strat_o3', 'halon1301|strat_o3', 'halon2402|strat_o3', 'hcfc141b|strat_o3', 'hcfc142b|strat_o3', 'hcfc22|strat_o3', 'methyl_bromide|strat_o3', 'methyl_chloride|strat_o3', 'halon1202|strat_o3'] forcing agents, between 1750 and 2100...\n"
     ]
    },
    {
     "name": "stderr",
     "output_type": "stream",
     "text": [
      "100%|██████████| 350/350 [00:28<00:00, 12.35 timestep/s]\n"
     ]
    },
    {
     "name": "stdout",
     "output_type": "stream",
     "text": [
      "Integrating 10000 scenarios, 1 gas cycle parameter sets, 1 thermal response parameter sets, over ['c2f6', 'c3f8', 'c4f10', 'c5f12', 'c6f14', 'c7f16', 'c8f18', 'c_c4f8', 'carbon_dioxide', 'carbon_tetrachloride', 'cf4', 'cfc113', 'cfc114', 'cfc115', 'cfc11', 'cfc12', 'ch2cl2', 'ch3ccl3', 'chcl3', 'halon1211', 'halon1301', 'halon2402', 'hcfc141b', 'hcfc142b', 'hcfc22', 'hfc125', 'hfc134a', 'hfc143a', 'hfc152a', 'hfc227ea', 'hfc236fa', 'hfc23', 'hfc245fa', 'hfc32', 'hfc365mfc', 'hfc4310mee', 'methane', 'methyl_bromide', 'methyl_chloride', 'nf3', 'nitrous_oxide', 'sf6', 'so2f2', 'halon1202', 'so2', 'nox', 'nox_avi', 'co', 'nmvoc', 'bc', 'nh3', 'oc', 'methane|trop_o3', 'methane|strat_h2o', 'co|trop_o3', 'nox|trop_o3', 'nmvoc|trop_o3', 'bc|bc_on_snow', 'nox_avi|contrails', 'so2|aci', 'bc|aci', 'oc|aci', 'carbon_tetrachloride|strat_o3', 'cfc113|strat_o3', 'cfc114|strat_o3', 'cfc115|strat_o3', 'cfc11|strat_o3', 'cfc12|strat_o3', 'ch3ccl3|strat_o3', 'halon1211|strat_o3', 'halon1301|strat_o3', 'halon2402|strat_o3', 'hcfc141b|strat_o3', 'hcfc142b|strat_o3', 'hcfc22|strat_o3', 'methyl_bromide|strat_o3', 'methyl_chloride|strat_o3', 'halon1202|strat_o3'] forcing agents, between 1750 and 2100...\n"
     ]
    },
    {
     "name": "stderr",
     "output_type": "stream",
     "text": [
      "100%|██████████| 350/350 [00:29<00:00, 11.85 timestep/s]\n"
     ]
    },
    {
     "name": "stdout",
     "output_type": "stream",
     "text": [
      "Integrating 10000 scenarios, 1 gas cycle parameter sets, 1 thermal response parameter sets, over ['c2f6', 'c3f8', 'c4f10', 'c5f12', 'c6f14', 'c7f16', 'c8f18', 'c_c4f8', 'carbon_dioxide', 'carbon_tetrachloride', 'cf4', 'cfc113', 'cfc114', 'cfc115', 'cfc11', 'cfc12', 'ch2cl2', 'ch3ccl3', 'chcl3', 'halon1211', 'halon1301', 'halon2402', 'hcfc141b', 'hcfc142b', 'hcfc22', 'hfc125', 'hfc134a', 'hfc143a', 'hfc152a', 'hfc227ea', 'hfc236fa', 'hfc23', 'hfc245fa', 'hfc32', 'hfc365mfc', 'hfc4310mee', 'methane', 'methyl_bromide', 'methyl_chloride', 'nf3', 'nitrous_oxide', 'sf6', 'so2f2', 'halon1202', 'so2', 'nox', 'nox_avi', 'co', 'nmvoc', 'bc', 'nh3', 'oc', 'methane|trop_o3', 'methane|strat_h2o', 'co|trop_o3', 'nox|trop_o3', 'nmvoc|trop_o3', 'bc|bc_on_snow', 'nox_avi|contrails', 'so2|aci', 'bc|aci', 'oc|aci', 'carbon_tetrachloride|strat_o3', 'cfc113|strat_o3', 'cfc114|strat_o3', 'cfc115|strat_o3', 'cfc11|strat_o3', 'cfc12|strat_o3', 'ch3ccl3|strat_o3', 'halon1211|strat_o3', 'halon1301|strat_o3', 'halon2402|strat_o3', 'hcfc141b|strat_o3', 'hcfc142b|strat_o3', 'hcfc22|strat_o3', 'methyl_bromide|strat_o3', 'methyl_chloride|strat_o3', 'halon1202|strat_o3'] forcing agents, between 1750 and 2100...\n"
     ]
    },
    {
     "name": "stderr",
     "output_type": "stream",
     "text": [
      "100%|██████████| 350/350 [00:31<00:00, 10.96 timestep/s]\n"
     ]
    },
    {
     "name": "stdout",
     "output_type": "stream",
     "text": [
      "Integrating 10000 scenarios, 1 gas cycle parameter sets, 1 thermal response parameter sets, over ['c2f6', 'c3f8', 'c4f10', 'c5f12', 'c6f14', 'c7f16', 'c8f18', 'c_c4f8', 'carbon_dioxide', 'carbon_tetrachloride', 'cf4', 'cfc113', 'cfc114', 'cfc115', 'cfc11', 'cfc12', 'ch2cl2', 'ch3ccl3', 'chcl3', 'halon1211', 'halon1301', 'halon2402', 'hcfc141b', 'hcfc142b', 'hcfc22', 'hfc125', 'hfc134a', 'hfc143a', 'hfc152a', 'hfc227ea', 'hfc236fa', 'hfc23', 'hfc245fa', 'hfc32', 'hfc365mfc', 'hfc4310mee', 'methane', 'methyl_bromide', 'methyl_chloride', 'nf3', 'nitrous_oxide', 'sf6', 'so2f2', 'halon1202', 'so2', 'nox', 'nox_avi', 'co', 'nmvoc', 'bc', 'nh3', 'oc', 'methane|trop_o3', 'methane|strat_h2o', 'co|trop_o3', 'nox|trop_o3', 'nmvoc|trop_o3', 'bc|bc_on_snow', 'nox_avi|contrails', 'so2|aci', 'bc|aci', 'oc|aci', 'carbon_tetrachloride|strat_o3', 'cfc113|strat_o3', 'cfc114|strat_o3', 'cfc115|strat_o3', 'cfc11|strat_o3', 'cfc12|strat_o3', 'ch3ccl3|strat_o3', 'halon1211|strat_o3', 'halon1301|strat_o3', 'halon2402|strat_o3', 'hcfc141b|strat_o3', 'hcfc142b|strat_o3', 'hcfc22|strat_o3', 'methyl_bromide|strat_o3', 'methyl_chloride|strat_o3', 'halon1202|strat_o3'] forcing agents, between 1750 and 2100...\n"
     ]
    },
    {
     "name": "stderr",
     "output_type": "stream",
     "text": [
      "100%|██████████| 350/350 [00:29<00:00, 11.81 timestep/s]\n"
     ]
    },
    {
     "name": "stdout",
     "output_type": "stream",
     "text": [
      "Integrating 10000 scenarios, 1 gas cycle parameter sets, 1 thermal response parameter sets, over ['c2f6', 'c3f8', 'c4f10', 'c5f12', 'c6f14', 'c7f16', 'c8f18', 'c_c4f8', 'carbon_dioxide', 'carbon_tetrachloride', 'cf4', 'cfc113', 'cfc114', 'cfc115', 'cfc11', 'cfc12', 'ch2cl2', 'ch3ccl3', 'chcl3', 'halon1211', 'halon1301', 'halon2402', 'hcfc141b', 'hcfc142b', 'hcfc22', 'hfc125', 'hfc134a', 'hfc143a', 'hfc152a', 'hfc227ea', 'hfc236fa', 'hfc23', 'hfc245fa', 'hfc32', 'hfc365mfc', 'hfc4310mee', 'methane', 'methyl_bromide', 'methyl_chloride', 'nf3', 'nitrous_oxide', 'sf6', 'so2f2', 'halon1202', 'so2', 'nox', 'nox_avi', 'co', 'nmvoc', 'bc', 'nh3', 'oc', 'methane|trop_o3', 'methane|strat_h2o', 'co|trop_o3', 'nox|trop_o3', 'nmvoc|trop_o3', 'bc|bc_on_snow', 'nox_avi|contrails', 'so2|aci', 'bc|aci', 'oc|aci', 'carbon_tetrachloride|strat_o3', 'cfc113|strat_o3', 'cfc114|strat_o3', 'cfc115|strat_o3', 'cfc11|strat_o3', 'cfc12|strat_o3', 'ch3ccl3|strat_o3', 'halon1211|strat_o3', 'halon1301|strat_o3', 'halon2402|strat_o3', 'hcfc141b|strat_o3', 'hcfc142b|strat_o3', 'hcfc22|strat_o3', 'methyl_bromide|strat_o3', 'methyl_chloride|strat_o3', 'halon1202|strat_o3'] forcing agents, between 1750 and 2100...\n"
     ]
    },
    {
     "name": "stderr",
     "output_type": "stream",
     "text": [
      "100%|██████████| 350/350 [00:28<00:00, 12.25 timestep/s]\n"
     ]
    },
    {
     "name": "stdout",
     "output_type": "stream",
     "text": [
      "Integrating 10000 scenarios, 1 gas cycle parameter sets, 1 thermal response parameter sets, over ['c2f6', 'c3f8', 'c4f10', 'c5f12', 'c6f14', 'c7f16', 'c8f18', 'c_c4f8', 'carbon_dioxide', 'carbon_tetrachloride', 'cf4', 'cfc113', 'cfc114', 'cfc115', 'cfc11', 'cfc12', 'ch2cl2', 'ch3ccl3', 'chcl3', 'halon1211', 'halon1301', 'halon2402', 'hcfc141b', 'hcfc142b', 'hcfc22', 'hfc125', 'hfc134a', 'hfc143a', 'hfc152a', 'hfc227ea', 'hfc236fa', 'hfc23', 'hfc245fa', 'hfc32', 'hfc365mfc', 'hfc4310mee', 'methane', 'methyl_bromide', 'methyl_chloride', 'nf3', 'nitrous_oxide', 'sf6', 'so2f2', 'halon1202', 'so2', 'nox', 'nox_avi', 'co', 'nmvoc', 'bc', 'nh3', 'oc', 'methane|trop_o3', 'methane|strat_h2o', 'co|trop_o3', 'nox|trop_o3', 'nmvoc|trop_o3', 'bc|bc_on_snow', 'nox_avi|contrails', 'so2|aci', 'bc|aci', 'oc|aci', 'carbon_tetrachloride|strat_o3', 'cfc113|strat_o3', 'cfc114|strat_o3', 'cfc115|strat_o3', 'cfc11|strat_o3', 'cfc12|strat_o3', 'ch3ccl3|strat_o3', 'halon1211|strat_o3', 'halon1301|strat_o3', 'halon2402|strat_o3', 'hcfc141b|strat_o3', 'hcfc142b|strat_o3', 'hcfc22|strat_o3', 'methyl_bromide|strat_o3', 'methyl_chloride|strat_o3', 'halon1202|strat_o3'] forcing agents, between 1750 and 2100...\n"
     ]
    },
    {
     "name": "stderr",
     "output_type": "stream",
     "text": [
      "100%|██████████| 350/350 [00:28<00:00, 12.16 timestep/s]\n"
     ]
    },
    {
     "name": "stdout",
     "output_type": "stream",
     "text": [
      "Integrating 10000 scenarios, 1 gas cycle parameter sets, 1 thermal response parameter sets, over ['c2f6', 'c3f8', 'c4f10', 'c5f12', 'c6f14', 'c7f16', 'c8f18', 'c_c4f8', 'carbon_dioxide', 'carbon_tetrachloride', 'cf4', 'cfc113', 'cfc114', 'cfc115', 'cfc11', 'cfc12', 'ch2cl2', 'ch3ccl3', 'chcl3', 'halon1211', 'halon1301', 'halon2402', 'hcfc141b', 'hcfc142b', 'hcfc22', 'hfc125', 'hfc134a', 'hfc143a', 'hfc152a', 'hfc227ea', 'hfc236fa', 'hfc23', 'hfc245fa', 'hfc32', 'hfc365mfc', 'hfc4310mee', 'methane', 'methyl_bromide', 'methyl_chloride', 'nf3', 'nitrous_oxide', 'sf6', 'so2f2', 'halon1202', 'so2', 'nox', 'nox_avi', 'co', 'nmvoc', 'bc', 'nh3', 'oc', 'methane|trop_o3', 'methane|strat_h2o', 'co|trop_o3', 'nox|trop_o3', 'nmvoc|trop_o3', 'bc|bc_on_snow', 'nox_avi|contrails', 'so2|aci', 'bc|aci', 'oc|aci', 'carbon_tetrachloride|strat_o3', 'cfc113|strat_o3', 'cfc114|strat_o3', 'cfc115|strat_o3', 'cfc11|strat_o3', 'cfc12|strat_o3', 'ch3ccl3|strat_o3', 'halon1211|strat_o3', 'halon1301|strat_o3', 'halon2402|strat_o3', 'hcfc141b|strat_o3', 'hcfc142b|strat_o3', 'hcfc22|strat_o3', 'methyl_bromide|strat_o3', 'methyl_chloride|strat_o3', 'halon1202|strat_o3'] forcing agents, between 1750 and 2100...\n"
     ]
    },
    {
     "name": "stderr",
     "output_type": "stream",
     "text": [
      "100%|██████████| 350/350 [00:28<00:00, 12.35 timestep/s]\n"
     ]
    },
    {
     "name": "stdout",
     "output_type": "stream",
     "text": [
      "Integrating 10000 scenarios, 1 gas cycle parameter sets, 1 thermal response parameter sets, over ['c2f6', 'c3f8', 'c4f10', 'c5f12', 'c6f14', 'c7f16', 'c8f18', 'c_c4f8', 'carbon_dioxide', 'carbon_tetrachloride', 'cf4', 'cfc113', 'cfc114', 'cfc115', 'cfc11', 'cfc12', 'ch2cl2', 'ch3ccl3', 'chcl3', 'halon1211', 'halon1301', 'halon2402', 'hcfc141b', 'hcfc142b', 'hcfc22', 'hfc125', 'hfc134a', 'hfc143a', 'hfc152a', 'hfc227ea', 'hfc236fa', 'hfc23', 'hfc245fa', 'hfc32', 'hfc365mfc', 'hfc4310mee', 'methane', 'methyl_bromide', 'methyl_chloride', 'nf3', 'nitrous_oxide', 'sf6', 'so2f2', 'halon1202', 'so2', 'nox', 'nox_avi', 'co', 'nmvoc', 'bc', 'nh3', 'oc', 'methane|trop_o3', 'methane|strat_h2o', 'co|trop_o3', 'nox|trop_o3', 'nmvoc|trop_o3', 'bc|bc_on_snow', 'nox_avi|contrails', 'so2|aci', 'bc|aci', 'oc|aci', 'carbon_tetrachloride|strat_o3', 'cfc113|strat_o3', 'cfc114|strat_o3', 'cfc115|strat_o3', 'cfc11|strat_o3', 'cfc12|strat_o3', 'ch3ccl3|strat_o3', 'halon1211|strat_o3', 'halon1301|strat_o3', 'halon2402|strat_o3', 'hcfc141b|strat_o3', 'hcfc142b|strat_o3', 'hcfc22|strat_o3', 'methyl_bromide|strat_o3', 'methyl_chloride|strat_o3', 'halon1202|strat_o3'] forcing agents, between 1750 and 2100...\n"
     ]
    },
    {
     "name": "stderr",
     "output_type": "stream",
     "text": [
      "100%|██████████| 350/350 [00:29<00:00, 12.01 timestep/s]\n"
     ]
    },
    {
     "name": "stdout",
     "output_type": "stream",
     "text": [
      "Integrating 10000 scenarios, 1 gas cycle parameter sets, 1 thermal response parameter sets, over ['c2f6', 'c3f8', 'c4f10', 'c5f12', 'c6f14', 'c7f16', 'c8f18', 'c_c4f8', 'carbon_dioxide', 'carbon_tetrachloride', 'cf4', 'cfc113', 'cfc114', 'cfc115', 'cfc11', 'cfc12', 'ch2cl2', 'ch3ccl3', 'chcl3', 'halon1211', 'halon1301', 'halon2402', 'hcfc141b', 'hcfc142b', 'hcfc22', 'hfc125', 'hfc134a', 'hfc143a', 'hfc152a', 'hfc227ea', 'hfc236fa', 'hfc23', 'hfc245fa', 'hfc32', 'hfc365mfc', 'hfc4310mee', 'methane', 'methyl_bromide', 'methyl_chloride', 'nf3', 'nitrous_oxide', 'sf6', 'so2f2', 'halon1202', 'so2', 'nox', 'nox_avi', 'co', 'nmvoc', 'bc', 'nh3', 'oc', 'methane|trop_o3', 'methane|strat_h2o', 'co|trop_o3', 'nox|trop_o3', 'nmvoc|trop_o3', 'bc|bc_on_snow', 'nox_avi|contrails', 'so2|aci', 'bc|aci', 'oc|aci', 'carbon_tetrachloride|strat_o3', 'cfc113|strat_o3', 'cfc114|strat_o3', 'cfc115|strat_o3', 'cfc11|strat_o3', 'cfc12|strat_o3', 'ch3ccl3|strat_o3', 'halon1211|strat_o3', 'halon1301|strat_o3', 'halon2402|strat_o3', 'hcfc141b|strat_o3', 'hcfc142b|strat_o3', 'hcfc22|strat_o3', 'methyl_bromide|strat_o3', 'methyl_chloride|strat_o3', 'halon1202|strat_o3'] forcing agents, between 1750 and 2100...\n"
     ]
    },
    {
     "name": "stderr",
     "output_type": "stream",
     "text": [
      "100%|██████████| 350/350 [00:31<00:00, 11.24 timestep/s]\n"
     ]
    },
    {
     "name": "stdout",
     "output_type": "stream",
     "text": [
      "Integrating 10000 scenarios, 1 gas cycle parameter sets, 1 thermal response parameter sets, over ['c2f6', 'c3f8', 'c4f10', 'c5f12', 'c6f14', 'c7f16', 'c8f18', 'c_c4f8', 'carbon_dioxide', 'carbon_tetrachloride', 'cf4', 'cfc113', 'cfc114', 'cfc115', 'cfc11', 'cfc12', 'ch2cl2', 'ch3ccl3', 'chcl3', 'halon1211', 'halon1301', 'halon2402', 'hcfc141b', 'hcfc142b', 'hcfc22', 'hfc125', 'hfc134a', 'hfc143a', 'hfc152a', 'hfc227ea', 'hfc236fa', 'hfc23', 'hfc245fa', 'hfc32', 'hfc365mfc', 'hfc4310mee', 'methane', 'methyl_bromide', 'methyl_chloride', 'nf3', 'nitrous_oxide', 'sf6', 'so2f2', 'halon1202', 'so2', 'nox', 'nox_avi', 'co', 'nmvoc', 'bc', 'nh3', 'oc', 'methane|trop_o3', 'methane|strat_h2o', 'co|trop_o3', 'nox|trop_o3', 'nmvoc|trop_o3', 'bc|bc_on_snow', 'nox_avi|contrails', 'so2|aci', 'bc|aci', 'oc|aci', 'carbon_tetrachloride|strat_o3', 'cfc113|strat_o3', 'cfc114|strat_o3', 'cfc115|strat_o3', 'cfc11|strat_o3', 'cfc12|strat_o3', 'ch3ccl3|strat_o3', 'halon1211|strat_o3', 'halon1301|strat_o3', 'halon2402|strat_o3', 'hcfc141b|strat_o3', 'hcfc142b|strat_o3', 'hcfc22|strat_o3', 'methyl_bromide|strat_o3', 'methyl_chloride|strat_o3', 'halon1202|strat_o3'] forcing agents, between 1750 and 2100...\n"
     ]
    },
    {
     "name": "stderr",
     "output_type": "stream",
     "text": [
      "100%|██████████| 350/350 [00:29<00:00, 12.02 timestep/s]\n"
     ]
    },
    {
     "name": "stdout",
     "output_type": "stream",
     "text": [
      "Integrating 10000 scenarios, 1 gas cycle parameter sets, 1 thermal response parameter sets, over ['c2f6', 'c3f8', 'c4f10', 'c5f12', 'c6f14', 'c7f16', 'c8f18', 'c_c4f8', 'carbon_dioxide', 'carbon_tetrachloride', 'cf4', 'cfc113', 'cfc114', 'cfc115', 'cfc11', 'cfc12', 'ch2cl2', 'ch3ccl3', 'chcl3', 'halon1211', 'halon1301', 'halon2402', 'hcfc141b', 'hcfc142b', 'hcfc22', 'hfc125', 'hfc134a', 'hfc143a', 'hfc152a', 'hfc227ea', 'hfc236fa', 'hfc23', 'hfc245fa', 'hfc32', 'hfc365mfc', 'hfc4310mee', 'methane', 'methyl_bromide', 'methyl_chloride', 'nf3', 'nitrous_oxide', 'sf6', 'so2f2', 'halon1202', 'so2', 'nox', 'nox_avi', 'co', 'nmvoc', 'bc', 'nh3', 'oc', 'methane|trop_o3', 'methane|strat_h2o', 'co|trop_o3', 'nox|trop_o3', 'nmvoc|trop_o3', 'bc|bc_on_snow', 'nox_avi|contrails', 'so2|aci', 'bc|aci', 'oc|aci', 'carbon_tetrachloride|strat_o3', 'cfc113|strat_o3', 'cfc114|strat_o3', 'cfc115|strat_o3', 'cfc11|strat_o3', 'cfc12|strat_o3', 'ch3ccl3|strat_o3', 'halon1211|strat_o3', 'halon1301|strat_o3', 'halon2402|strat_o3', 'hcfc141b|strat_o3', 'hcfc142b|strat_o3', 'hcfc22|strat_o3', 'methyl_bromide|strat_o3', 'methyl_chloride|strat_o3', 'halon1202|strat_o3'] forcing agents, between 1750 and 2100...\n"
     ]
    },
    {
     "name": "stderr",
     "output_type": "stream",
     "text": [
      "100%|██████████| 350/350 [00:31<00:00, 11.01 timestep/s]\n"
     ]
    },
    {
     "name": "stdout",
     "output_type": "stream",
     "text": [
      "Integrating 10000 scenarios, 1 gas cycle parameter sets, 1 thermal response parameter sets, over ['c2f6', 'c3f8', 'c4f10', 'c5f12', 'c6f14', 'c7f16', 'c8f18', 'c_c4f8', 'carbon_dioxide', 'carbon_tetrachloride', 'cf4', 'cfc113', 'cfc114', 'cfc115', 'cfc11', 'cfc12', 'ch2cl2', 'ch3ccl3', 'chcl3', 'halon1211', 'halon1301', 'halon2402', 'hcfc141b', 'hcfc142b', 'hcfc22', 'hfc125', 'hfc134a', 'hfc143a', 'hfc152a', 'hfc227ea', 'hfc236fa', 'hfc23', 'hfc245fa', 'hfc32', 'hfc365mfc', 'hfc4310mee', 'methane', 'methyl_bromide', 'methyl_chloride', 'nf3', 'nitrous_oxide', 'sf6', 'so2f2', 'halon1202', 'so2', 'nox', 'nox_avi', 'co', 'nmvoc', 'bc', 'nh3', 'oc', 'methane|trop_o3', 'methane|strat_h2o', 'co|trop_o3', 'nox|trop_o3', 'nmvoc|trop_o3', 'bc|bc_on_snow', 'nox_avi|contrails', 'so2|aci', 'bc|aci', 'oc|aci', 'carbon_tetrachloride|strat_o3', 'cfc113|strat_o3', 'cfc114|strat_o3', 'cfc115|strat_o3', 'cfc11|strat_o3', 'cfc12|strat_o3', 'ch3ccl3|strat_o3', 'halon1211|strat_o3', 'halon1301|strat_o3', 'halon2402|strat_o3', 'hcfc141b|strat_o3', 'hcfc142b|strat_o3', 'hcfc22|strat_o3', 'methyl_bromide|strat_o3', 'methyl_chloride|strat_o3', 'halon1202|strat_o3'] forcing agents, between 1750 and 2100...\n"
     ]
    },
    {
     "name": "stderr",
     "output_type": "stream",
     "text": [
      "100%|██████████| 350/350 [00:34<00:00, 10.21 timestep/s]\n"
     ]
    },
    {
     "name": "stdout",
     "output_type": "stream",
     "text": [
      "Integrating 10000 scenarios, 1 gas cycle parameter sets, 1 thermal response parameter sets, over ['c2f6', 'c3f8', 'c4f10', 'c5f12', 'c6f14', 'c7f16', 'c8f18', 'c_c4f8', 'carbon_dioxide', 'carbon_tetrachloride', 'cf4', 'cfc113', 'cfc114', 'cfc115', 'cfc11', 'cfc12', 'ch2cl2', 'ch3ccl3', 'chcl3', 'halon1211', 'halon1301', 'halon2402', 'hcfc141b', 'hcfc142b', 'hcfc22', 'hfc125', 'hfc134a', 'hfc143a', 'hfc152a', 'hfc227ea', 'hfc236fa', 'hfc23', 'hfc245fa', 'hfc32', 'hfc365mfc', 'hfc4310mee', 'methane', 'methyl_bromide', 'methyl_chloride', 'nf3', 'nitrous_oxide', 'sf6', 'so2f2', 'halon1202', 'so2', 'nox', 'nox_avi', 'co', 'nmvoc', 'bc', 'nh3', 'oc', 'methane|trop_o3', 'methane|strat_h2o', 'co|trop_o3', 'nox|trop_o3', 'nmvoc|trop_o3', 'bc|bc_on_snow', 'nox_avi|contrails', 'so2|aci', 'bc|aci', 'oc|aci', 'carbon_tetrachloride|strat_o3', 'cfc113|strat_o3', 'cfc114|strat_o3', 'cfc115|strat_o3', 'cfc11|strat_o3', 'cfc12|strat_o3', 'ch3ccl3|strat_o3', 'halon1211|strat_o3', 'halon1301|strat_o3', 'halon2402|strat_o3', 'hcfc141b|strat_o3', 'hcfc142b|strat_o3', 'hcfc22|strat_o3', 'methyl_bromide|strat_o3', 'methyl_chloride|strat_o3', 'halon1202|strat_o3'] forcing agents, between 1750 and 2100...\n"
     ]
    },
    {
     "name": "stderr",
     "output_type": "stream",
     "text": [
      "100%|██████████| 350/350 [00:26<00:00, 13.40 timestep/s]\n"
     ]
    },
    {
     "name": "stdout",
     "output_type": "stream",
     "text": [
      "Integrating 10000 scenarios, 1 gas cycle parameter sets, 1 thermal response parameter sets, over ['c2f6', 'c3f8', 'c4f10', 'c5f12', 'c6f14', 'c7f16', 'c8f18', 'c_c4f8', 'carbon_dioxide', 'carbon_tetrachloride', 'cf4', 'cfc113', 'cfc114', 'cfc115', 'cfc11', 'cfc12', 'ch2cl2', 'ch3ccl3', 'chcl3', 'halon1211', 'halon1301', 'halon2402', 'hcfc141b', 'hcfc142b', 'hcfc22', 'hfc125', 'hfc134a', 'hfc143a', 'hfc152a', 'hfc227ea', 'hfc236fa', 'hfc23', 'hfc245fa', 'hfc32', 'hfc365mfc', 'hfc4310mee', 'methane', 'methyl_bromide', 'methyl_chloride', 'nf3', 'nitrous_oxide', 'sf6', 'so2f2', 'halon1202', 'so2', 'nox', 'nox_avi', 'co', 'nmvoc', 'bc', 'nh3', 'oc', 'methane|trop_o3', 'methane|strat_h2o', 'co|trop_o3', 'nox|trop_o3', 'nmvoc|trop_o3', 'bc|bc_on_snow', 'nox_avi|contrails', 'so2|aci', 'bc|aci', 'oc|aci', 'carbon_tetrachloride|strat_o3', 'cfc113|strat_o3', 'cfc114|strat_o3', 'cfc115|strat_o3', 'cfc11|strat_o3', 'cfc12|strat_o3', 'ch3ccl3|strat_o3', 'halon1211|strat_o3', 'halon1301|strat_o3', 'halon2402|strat_o3', 'hcfc141b|strat_o3', 'hcfc142b|strat_o3', 'hcfc22|strat_o3', 'methyl_bromide|strat_o3', 'methyl_chloride|strat_o3', 'halon1202|strat_o3'] forcing agents, between 1750 and 2100...\n"
     ]
    },
    {
     "name": "stderr",
     "output_type": "stream",
     "text": [
      "100%|██████████| 350/350 [00:26<00:00, 13.36 timestep/s]\n"
     ]
    },
    {
     "name": "stdout",
     "output_type": "stream",
     "text": [
      "Integrating 10000 scenarios, 1 gas cycle parameter sets, 1 thermal response parameter sets, over ['c2f6', 'c3f8', 'c4f10', 'c5f12', 'c6f14', 'c7f16', 'c8f18', 'c_c4f8', 'carbon_dioxide', 'carbon_tetrachloride', 'cf4', 'cfc113', 'cfc114', 'cfc115', 'cfc11', 'cfc12', 'ch2cl2', 'ch3ccl3', 'chcl3', 'halon1211', 'halon1301', 'halon2402', 'hcfc141b', 'hcfc142b', 'hcfc22', 'hfc125', 'hfc134a', 'hfc143a', 'hfc152a', 'hfc227ea', 'hfc236fa', 'hfc23', 'hfc245fa', 'hfc32', 'hfc365mfc', 'hfc4310mee', 'methane', 'methyl_bromide', 'methyl_chloride', 'nf3', 'nitrous_oxide', 'sf6', 'so2f2', 'halon1202', 'so2', 'nox', 'nox_avi', 'co', 'nmvoc', 'bc', 'nh3', 'oc', 'methane|trop_o3', 'methane|strat_h2o', 'co|trop_o3', 'nox|trop_o3', 'nmvoc|trop_o3', 'bc|bc_on_snow', 'nox_avi|contrails', 'so2|aci', 'bc|aci', 'oc|aci', 'carbon_tetrachloride|strat_o3', 'cfc113|strat_o3', 'cfc114|strat_o3', 'cfc115|strat_o3', 'cfc11|strat_o3', 'cfc12|strat_o3', 'ch3ccl3|strat_o3', 'halon1211|strat_o3', 'halon1301|strat_o3', 'halon2402|strat_o3', 'hcfc141b|strat_o3', 'hcfc142b|strat_o3', 'hcfc22|strat_o3', 'methyl_bromide|strat_o3', 'methyl_chloride|strat_o3', 'halon1202|strat_o3'] forcing agents, between 1750 and 2100...\n"
     ]
    },
    {
     "name": "stderr",
     "output_type": "stream",
     "text": [
      "100%|██████████| 350/350 [00:25<00:00, 13.59 timestep/s]\n"
     ]
    },
    {
     "name": "stdout",
     "output_type": "stream",
     "text": [
      "Integrating 10000 scenarios, 1 gas cycle parameter sets, 1 thermal response parameter sets, over ['c2f6', 'c3f8', 'c4f10', 'c5f12', 'c6f14', 'c7f16', 'c8f18', 'c_c4f8', 'carbon_dioxide', 'carbon_tetrachloride', 'cf4', 'cfc113', 'cfc114', 'cfc115', 'cfc11', 'cfc12', 'ch2cl2', 'ch3ccl3', 'chcl3', 'halon1211', 'halon1301', 'halon2402', 'hcfc141b', 'hcfc142b', 'hcfc22', 'hfc125', 'hfc134a', 'hfc143a', 'hfc152a', 'hfc227ea', 'hfc236fa', 'hfc23', 'hfc245fa', 'hfc32', 'hfc365mfc', 'hfc4310mee', 'methane', 'methyl_bromide', 'methyl_chloride', 'nf3', 'nitrous_oxide', 'sf6', 'so2f2', 'halon1202', 'so2', 'nox', 'nox_avi', 'co', 'nmvoc', 'bc', 'nh3', 'oc', 'methane|trop_o3', 'methane|strat_h2o', 'co|trop_o3', 'nox|trop_o3', 'nmvoc|trop_o3', 'bc|bc_on_snow', 'nox_avi|contrails', 'so2|aci', 'bc|aci', 'oc|aci', 'carbon_tetrachloride|strat_o3', 'cfc113|strat_o3', 'cfc114|strat_o3', 'cfc115|strat_o3', 'cfc11|strat_o3', 'cfc12|strat_o3', 'ch3ccl3|strat_o3', 'halon1211|strat_o3', 'halon1301|strat_o3', 'halon2402|strat_o3', 'hcfc141b|strat_o3', 'hcfc142b|strat_o3', 'hcfc22|strat_o3', 'methyl_bromide|strat_o3', 'methyl_chloride|strat_o3', 'halon1202|strat_o3'] forcing agents, between 1750 and 2100...\n"
     ]
    },
    {
     "name": "stderr",
     "output_type": "stream",
     "text": [
      "100%|██████████| 350/350 [00:25<00:00, 13.62 timestep/s]\n"
     ]
    },
    {
     "name": "stdout",
     "output_type": "stream",
     "text": [
      "Integrating 10000 scenarios, 1 gas cycle parameter sets, 1 thermal response parameter sets, over ['c2f6', 'c3f8', 'c4f10', 'c5f12', 'c6f14', 'c7f16', 'c8f18', 'c_c4f8', 'carbon_dioxide', 'carbon_tetrachloride', 'cf4', 'cfc113', 'cfc114', 'cfc115', 'cfc11', 'cfc12', 'ch2cl2', 'ch3ccl3', 'chcl3', 'halon1211', 'halon1301', 'halon2402', 'hcfc141b', 'hcfc142b', 'hcfc22', 'hfc125', 'hfc134a', 'hfc143a', 'hfc152a', 'hfc227ea', 'hfc236fa', 'hfc23', 'hfc245fa', 'hfc32', 'hfc365mfc', 'hfc4310mee', 'methane', 'methyl_bromide', 'methyl_chloride', 'nf3', 'nitrous_oxide', 'sf6', 'so2f2', 'halon1202', 'so2', 'nox', 'nox_avi', 'co', 'nmvoc', 'bc', 'nh3', 'oc', 'methane|trop_o3', 'methane|strat_h2o', 'co|trop_o3', 'nox|trop_o3', 'nmvoc|trop_o3', 'bc|bc_on_snow', 'nox_avi|contrails', 'so2|aci', 'bc|aci', 'oc|aci', 'carbon_tetrachloride|strat_o3', 'cfc113|strat_o3', 'cfc114|strat_o3', 'cfc115|strat_o3', 'cfc11|strat_o3', 'cfc12|strat_o3', 'ch3ccl3|strat_o3', 'halon1211|strat_o3', 'halon1301|strat_o3', 'halon2402|strat_o3', 'hcfc141b|strat_o3', 'hcfc142b|strat_o3', 'hcfc22|strat_o3', 'methyl_bromide|strat_o3', 'methyl_chloride|strat_o3', 'halon1202|strat_o3'] forcing agents, between 1750 and 2100...\n"
     ]
    },
    {
     "name": "stderr",
     "output_type": "stream",
     "text": [
      "100%|██████████| 350/350 [00:25<00:00, 13.73 timestep/s]\n"
     ]
    },
    {
     "name": "stdout",
     "output_type": "stream",
     "text": [
      "Integrating 10000 scenarios, 1 gas cycle parameter sets, 1 thermal response parameter sets, over ['c2f6', 'c3f8', 'c4f10', 'c5f12', 'c6f14', 'c7f16', 'c8f18', 'c_c4f8', 'carbon_dioxide', 'carbon_tetrachloride', 'cf4', 'cfc113', 'cfc114', 'cfc115', 'cfc11', 'cfc12', 'ch2cl2', 'ch3ccl3', 'chcl3', 'halon1211', 'halon1301', 'halon2402', 'hcfc141b', 'hcfc142b', 'hcfc22', 'hfc125', 'hfc134a', 'hfc143a', 'hfc152a', 'hfc227ea', 'hfc236fa', 'hfc23', 'hfc245fa', 'hfc32', 'hfc365mfc', 'hfc4310mee', 'methane', 'methyl_bromide', 'methyl_chloride', 'nf3', 'nitrous_oxide', 'sf6', 'so2f2', 'halon1202', 'so2', 'nox', 'nox_avi', 'co', 'nmvoc', 'bc', 'nh3', 'oc', 'methane|trop_o3', 'methane|strat_h2o', 'co|trop_o3', 'nox|trop_o3', 'nmvoc|trop_o3', 'bc|bc_on_snow', 'nox_avi|contrails', 'so2|aci', 'bc|aci', 'oc|aci', 'carbon_tetrachloride|strat_o3', 'cfc113|strat_o3', 'cfc114|strat_o3', 'cfc115|strat_o3', 'cfc11|strat_o3', 'cfc12|strat_o3', 'ch3ccl3|strat_o3', 'halon1211|strat_o3', 'halon1301|strat_o3', 'halon2402|strat_o3', 'hcfc141b|strat_o3', 'hcfc142b|strat_o3', 'hcfc22|strat_o3', 'methyl_bromide|strat_o3', 'methyl_chloride|strat_o3', 'halon1202|strat_o3'] forcing agents, between 1750 and 2100...\n"
     ]
    },
    {
     "name": "stderr",
     "output_type": "stream",
     "text": [
      "100%|██████████| 350/350 [00:25<00:00, 13.71 timestep/s]\n"
     ]
    },
    {
     "name": "stdout",
     "output_type": "stream",
     "text": [
      "Integrating 10000 scenarios, 1 gas cycle parameter sets, 1 thermal response parameter sets, over ['c2f6', 'c3f8', 'c4f10', 'c5f12', 'c6f14', 'c7f16', 'c8f18', 'c_c4f8', 'carbon_dioxide', 'carbon_tetrachloride', 'cf4', 'cfc113', 'cfc114', 'cfc115', 'cfc11', 'cfc12', 'ch2cl2', 'ch3ccl3', 'chcl3', 'halon1211', 'halon1301', 'halon2402', 'hcfc141b', 'hcfc142b', 'hcfc22', 'hfc125', 'hfc134a', 'hfc143a', 'hfc152a', 'hfc227ea', 'hfc236fa', 'hfc23', 'hfc245fa', 'hfc32', 'hfc365mfc', 'hfc4310mee', 'methane', 'methyl_bromide', 'methyl_chloride', 'nf3', 'nitrous_oxide', 'sf6', 'so2f2', 'halon1202', 'so2', 'nox', 'nox_avi', 'co', 'nmvoc', 'bc', 'nh3', 'oc', 'methane|trop_o3', 'methane|strat_h2o', 'co|trop_o3', 'nox|trop_o3', 'nmvoc|trop_o3', 'bc|bc_on_snow', 'nox_avi|contrails', 'so2|aci', 'bc|aci', 'oc|aci', 'carbon_tetrachloride|strat_o3', 'cfc113|strat_o3', 'cfc114|strat_o3', 'cfc115|strat_o3', 'cfc11|strat_o3', 'cfc12|strat_o3', 'ch3ccl3|strat_o3', 'halon1211|strat_o3', 'halon1301|strat_o3', 'halon2402|strat_o3', 'hcfc141b|strat_o3', 'hcfc142b|strat_o3', 'hcfc22|strat_o3', 'methyl_bromide|strat_o3', 'methyl_chloride|strat_o3', 'halon1202|strat_o3'] forcing agents, between 1750 and 2100...\n"
     ]
    },
    {
     "name": "stderr",
     "output_type": "stream",
     "text": [
      "100%|██████████| 350/350 [00:25<00:00, 13.67 timestep/s]\n"
     ]
    },
    {
     "name": "stdout",
     "output_type": "stream",
     "text": [
      "Integrating 10000 scenarios, 1 gas cycle parameter sets, 1 thermal response parameter sets, over ['c2f6', 'c3f8', 'c4f10', 'c5f12', 'c6f14', 'c7f16', 'c8f18', 'c_c4f8', 'carbon_dioxide', 'carbon_tetrachloride', 'cf4', 'cfc113', 'cfc114', 'cfc115', 'cfc11', 'cfc12', 'ch2cl2', 'ch3ccl3', 'chcl3', 'halon1211', 'halon1301', 'halon2402', 'hcfc141b', 'hcfc142b', 'hcfc22', 'hfc125', 'hfc134a', 'hfc143a', 'hfc152a', 'hfc227ea', 'hfc236fa', 'hfc23', 'hfc245fa', 'hfc32', 'hfc365mfc', 'hfc4310mee', 'methane', 'methyl_bromide', 'methyl_chloride', 'nf3', 'nitrous_oxide', 'sf6', 'so2f2', 'halon1202', 'so2', 'nox', 'nox_avi', 'co', 'nmvoc', 'bc', 'nh3', 'oc', 'methane|trop_o3', 'methane|strat_h2o', 'co|trop_o3', 'nox|trop_o3', 'nmvoc|trop_o3', 'bc|bc_on_snow', 'nox_avi|contrails', 'so2|aci', 'bc|aci', 'oc|aci', 'carbon_tetrachloride|strat_o3', 'cfc113|strat_o3', 'cfc114|strat_o3', 'cfc115|strat_o3', 'cfc11|strat_o3', 'cfc12|strat_o3', 'ch3ccl3|strat_o3', 'halon1211|strat_o3', 'halon1301|strat_o3', 'halon2402|strat_o3', 'hcfc141b|strat_o3', 'hcfc142b|strat_o3', 'hcfc22|strat_o3', 'methyl_bromide|strat_o3', 'methyl_chloride|strat_o3', 'halon1202|strat_o3'] forcing agents, between 1750 and 2100...\n"
     ]
    },
    {
     "name": "stderr",
     "output_type": "stream",
     "text": [
      "100%|██████████| 350/350 [00:25<00:00, 13.63 timestep/s]\n"
     ]
    },
    {
     "name": "stdout",
     "output_type": "stream",
     "text": [
      "Integrating 10000 scenarios, 1 gas cycle parameter sets, 1 thermal response parameter sets, over ['c2f6', 'c3f8', 'c4f10', 'c5f12', 'c6f14', 'c7f16', 'c8f18', 'c_c4f8', 'carbon_dioxide', 'carbon_tetrachloride', 'cf4', 'cfc113', 'cfc114', 'cfc115', 'cfc11', 'cfc12', 'ch2cl2', 'ch3ccl3', 'chcl3', 'halon1211', 'halon1301', 'halon2402', 'hcfc141b', 'hcfc142b', 'hcfc22', 'hfc125', 'hfc134a', 'hfc143a', 'hfc152a', 'hfc227ea', 'hfc236fa', 'hfc23', 'hfc245fa', 'hfc32', 'hfc365mfc', 'hfc4310mee', 'methane', 'methyl_bromide', 'methyl_chloride', 'nf3', 'nitrous_oxide', 'sf6', 'so2f2', 'halon1202', 'so2', 'nox', 'nox_avi', 'co', 'nmvoc', 'bc', 'nh3', 'oc', 'methane|trop_o3', 'methane|strat_h2o', 'co|trop_o3', 'nox|trop_o3', 'nmvoc|trop_o3', 'bc|bc_on_snow', 'nox_avi|contrails', 'so2|aci', 'bc|aci', 'oc|aci', 'carbon_tetrachloride|strat_o3', 'cfc113|strat_o3', 'cfc114|strat_o3', 'cfc115|strat_o3', 'cfc11|strat_o3', 'cfc12|strat_o3', 'ch3ccl3|strat_o3', 'halon1211|strat_o3', 'halon1301|strat_o3', 'halon2402|strat_o3', 'hcfc141b|strat_o3', 'hcfc142b|strat_o3', 'hcfc22|strat_o3', 'methyl_bromide|strat_o3', 'methyl_chloride|strat_o3', 'halon1202|strat_o3'] forcing agents, between 1750 and 2100...\n"
     ]
    },
    {
     "name": "stderr",
     "output_type": "stream",
     "text": [
      "100%|██████████| 350/350 [00:25<00:00, 13.92 timestep/s]\n"
     ]
    },
    {
     "name": "stdout",
     "output_type": "stream",
     "text": [
      "Integrating 10000 scenarios, 1 gas cycle parameter sets, 1 thermal response parameter sets, over ['c2f6', 'c3f8', 'c4f10', 'c5f12', 'c6f14', 'c7f16', 'c8f18', 'c_c4f8', 'carbon_dioxide', 'carbon_tetrachloride', 'cf4', 'cfc113', 'cfc114', 'cfc115', 'cfc11', 'cfc12', 'ch2cl2', 'ch3ccl3', 'chcl3', 'halon1211', 'halon1301', 'halon2402', 'hcfc141b', 'hcfc142b', 'hcfc22', 'hfc125', 'hfc134a', 'hfc143a', 'hfc152a', 'hfc227ea', 'hfc236fa', 'hfc23', 'hfc245fa', 'hfc32', 'hfc365mfc', 'hfc4310mee', 'methane', 'methyl_bromide', 'methyl_chloride', 'nf3', 'nitrous_oxide', 'sf6', 'so2f2', 'halon1202', 'so2', 'nox', 'nox_avi', 'co', 'nmvoc', 'bc', 'nh3', 'oc', 'methane|trop_o3', 'methane|strat_h2o', 'co|trop_o3', 'nox|trop_o3', 'nmvoc|trop_o3', 'bc|bc_on_snow', 'nox_avi|contrails', 'so2|aci', 'bc|aci', 'oc|aci', 'carbon_tetrachloride|strat_o3', 'cfc113|strat_o3', 'cfc114|strat_o3', 'cfc115|strat_o3', 'cfc11|strat_o3', 'cfc12|strat_o3', 'ch3ccl3|strat_o3', 'halon1211|strat_o3', 'halon1301|strat_o3', 'halon2402|strat_o3', 'hcfc141b|strat_o3', 'hcfc142b|strat_o3', 'hcfc22|strat_o3', 'methyl_bromide|strat_o3', 'methyl_chloride|strat_o3', 'halon1202|strat_o3'] forcing agents, between 1750 and 2100...\n"
     ]
    },
    {
     "name": "stderr",
     "output_type": "stream",
     "text": [
      "100%|██████████| 350/350 [00:25<00:00, 13.99 timestep/s]\n"
     ]
    },
    {
     "name": "stdout",
     "output_type": "stream",
     "text": [
      "Integrating 10000 scenarios, 1 gas cycle parameter sets, 1 thermal response parameter sets, over ['c2f6', 'c3f8', 'c4f10', 'c5f12', 'c6f14', 'c7f16', 'c8f18', 'c_c4f8', 'carbon_dioxide', 'carbon_tetrachloride', 'cf4', 'cfc113', 'cfc114', 'cfc115', 'cfc11', 'cfc12', 'ch2cl2', 'ch3ccl3', 'chcl3', 'halon1211', 'halon1301', 'halon2402', 'hcfc141b', 'hcfc142b', 'hcfc22', 'hfc125', 'hfc134a', 'hfc143a', 'hfc152a', 'hfc227ea', 'hfc236fa', 'hfc23', 'hfc245fa', 'hfc32', 'hfc365mfc', 'hfc4310mee', 'methane', 'methyl_bromide', 'methyl_chloride', 'nf3', 'nitrous_oxide', 'sf6', 'so2f2', 'halon1202', 'so2', 'nox', 'nox_avi', 'co', 'nmvoc', 'bc', 'nh3', 'oc', 'methane|trop_o3', 'methane|strat_h2o', 'co|trop_o3', 'nox|trop_o3', 'nmvoc|trop_o3', 'bc|bc_on_snow', 'nox_avi|contrails', 'so2|aci', 'bc|aci', 'oc|aci', 'carbon_tetrachloride|strat_o3', 'cfc113|strat_o3', 'cfc114|strat_o3', 'cfc115|strat_o3', 'cfc11|strat_o3', 'cfc12|strat_o3', 'ch3ccl3|strat_o3', 'halon1211|strat_o3', 'halon1301|strat_o3', 'halon2402|strat_o3', 'hcfc141b|strat_o3', 'hcfc142b|strat_o3', 'hcfc22|strat_o3', 'methyl_bromide|strat_o3', 'methyl_chloride|strat_o3', 'halon1202|strat_o3'] forcing agents, between 1750 and 2100...\n"
     ]
    },
    {
     "name": "stderr",
     "output_type": "stream",
     "text": [
      "100%|██████████| 350/350 [00:25<00:00, 13.86 timestep/s]\n"
     ]
    },
    {
     "name": "stdout",
     "output_type": "stream",
     "text": [
      "Integrating 10000 scenarios, 1 gas cycle parameter sets, 1 thermal response parameter sets, over ['c2f6', 'c3f8', 'c4f10', 'c5f12', 'c6f14', 'c7f16', 'c8f18', 'c_c4f8', 'carbon_dioxide', 'carbon_tetrachloride', 'cf4', 'cfc113', 'cfc114', 'cfc115', 'cfc11', 'cfc12', 'ch2cl2', 'ch3ccl3', 'chcl3', 'halon1211', 'halon1301', 'halon2402', 'hcfc141b', 'hcfc142b', 'hcfc22', 'hfc125', 'hfc134a', 'hfc143a', 'hfc152a', 'hfc227ea', 'hfc236fa', 'hfc23', 'hfc245fa', 'hfc32', 'hfc365mfc', 'hfc4310mee', 'methane', 'methyl_bromide', 'methyl_chloride', 'nf3', 'nitrous_oxide', 'sf6', 'so2f2', 'halon1202', 'so2', 'nox', 'nox_avi', 'co', 'nmvoc', 'bc', 'nh3', 'oc', 'methane|trop_o3', 'methane|strat_h2o', 'co|trop_o3', 'nox|trop_o3', 'nmvoc|trop_o3', 'bc|bc_on_snow', 'nox_avi|contrails', 'so2|aci', 'bc|aci', 'oc|aci', 'carbon_tetrachloride|strat_o3', 'cfc113|strat_o3', 'cfc114|strat_o3', 'cfc115|strat_o3', 'cfc11|strat_o3', 'cfc12|strat_o3', 'ch3ccl3|strat_o3', 'halon1211|strat_o3', 'halon1301|strat_o3', 'halon2402|strat_o3', 'hcfc141b|strat_o3', 'hcfc142b|strat_o3', 'hcfc22|strat_o3', 'methyl_bromide|strat_o3', 'methyl_chloride|strat_o3', 'halon1202|strat_o3'] forcing agents, between 1750 and 2100...\n"
     ]
    },
    {
     "name": "stderr",
     "output_type": "stream",
     "text": [
      "100%|██████████| 350/350 [00:25<00:00, 13.83 timestep/s]\n"
     ]
    },
    {
     "name": "stdout",
     "output_type": "stream",
     "text": [
      "Integrating 10000 scenarios, 1 gas cycle parameter sets, 1 thermal response parameter sets, over ['c2f6', 'c3f8', 'c4f10', 'c5f12', 'c6f14', 'c7f16', 'c8f18', 'c_c4f8', 'carbon_dioxide', 'carbon_tetrachloride', 'cf4', 'cfc113', 'cfc114', 'cfc115', 'cfc11', 'cfc12', 'ch2cl2', 'ch3ccl3', 'chcl3', 'halon1211', 'halon1301', 'halon2402', 'hcfc141b', 'hcfc142b', 'hcfc22', 'hfc125', 'hfc134a', 'hfc143a', 'hfc152a', 'hfc227ea', 'hfc236fa', 'hfc23', 'hfc245fa', 'hfc32', 'hfc365mfc', 'hfc4310mee', 'methane', 'methyl_bromide', 'methyl_chloride', 'nf3', 'nitrous_oxide', 'sf6', 'so2f2', 'halon1202', 'so2', 'nox', 'nox_avi', 'co', 'nmvoc', 'bc', 'nh3', 'oc', 'methane|trop_o3', 'methane|strat_h2o', 'co|trop_o3', 'nox|trop_o3', 'nmvoc|trop_o3', 'bc|bc_on_snow', 'nox_avi|contrails', 'so2|aci', 'bc|aci', 'oc|aci', 'carbon_tetrachloride|strat_o3', 'cfc113|strat_o3', 'cfc114|strat_o3', 'cfc115|strat_o3', 'cfc11|strat_o3', 'cfc12|strat_o3', 'ch3ccl3|strat_o3', 'halon1211|strat_o3', 'halon1301|strat_o3', 'halon2402|strat_o3', 'hcfc141b|strat_o3', 'hcfc142b|strat_o3', 'hcfc22|strat_o3', 'methyl_bromide|strat_o3', 'methyl_chloride|strat_o3', 'halon1202|strat_o3'] forcing agents, between 1750 and 2100...\n"
     ]
    },
    {
     "name": "stderr",
     "output_type": "stream",
     "text": [
      "100%|██████████| 350/350 [00:25<00:00, 13.93 timestep/s]\n"
     ]
    },
    {
     "name": "stdout",
     "output_type": "stream",
     "text": [
      "Integrating 10000 scenarios, 1 gas cycle parameter sets, 1 thermal response parameter sets, over ['c2f6', 'c3f8', 'c4f10', 'c5f12', 'c6f14', 'c7f16', 'c8f18', 'c_c4f8', 'carbon_dioxide', 'carbon_tetrachloride', 'cf4', 'cfc113', 'cfc114', 'cfc115', 'cfc11', 'cfc12', 'ch2cl2', 'ch3ccl3', 'chcl3', 'halon1211', 'halon1301', 'halon2402', 'hcfc141b', 'hcfc142b', 'hcfc22', 'hfc125', 'hfc134a', 'hfc143a', 'hfc152a', 'hfc227ea', 'hfc236fa', 'hfc23', 'hfc245fa', 'hfc32', 'hfc365mfc', 'hfc4310mee', 'methane', 'methyl_bromide', 'methyl_chloride', 'nf3', 'nitrous_oxide', 'sf6', 'so2f2', 'halon1202', 'so2', 'nox', 'nox_avi', 'co', 'nmvoc', 'bc', 'nh3', 'oc', 'methane|trop_o3', 'methane|strat_h2o', 'co|trop_o3', 'nox|trop_o3', 'nmvoc|trop_o3', 'bc|bc_on_snow', 'nox_avi|contrails', 'so2|aci', 'bc|aci', 'oc|aci', 'carbon_tetrachloride|strat_o3', 'cfc113|strat_o3', 'cfc114|strat_o3', 'cfc115|strat_o3', 'cfc11|strat_o3', 'cfc12|strat_o3', 'ch3ccl3|strat_o3', 'halon1211|strat_o3', 'halon1301|strat_o3', 'halon2402|strat_o3', 'hcfc141b|strat_o3', 'hcfc142b|strat_o3', 'hcfc22|strat_o3', 'methyl_bromide|strat_o3', 'methyl_chloride|strat_o3', 'halon1202|strat_o3'] forcing agents, between 1750 and 2100...\n"
     ]
    },
    {
     "name": "stderr",
     "output_type": "stream",
     "text": [
      "100%|██████████| 350/350 [00:25<00:00, 13.99 timestep/s]\n"
     ]
    },
    {
     "name": "stdout",
     "output_type": "stream",
     "text": [
      "Integrating 10000 scenarios, 1 gas cycle parameter sets, 1 thermal response parameter sets, over ['c2f6', 'c3f8', 'c4f10', 'c5f12', 'c6f14', 'c7f16', 'c8f18', 'c_c4f8', 'carbon_dioxide', 'carbon_tetrachloride', 'cf4', 'cfc113', 'cfc114', 'cfc115', 'cfc11', 'cfc12', 'ch2cl2', 'ch3ccl3', 'chcl3', 'halon1211', 'halon1301', 'halon2402', 'hcfc141b', 'hcfc142b', 'hcfc22', 'hfc125', 'hfc134a', 'hfc143a', 'hfc152a', 'hfc227ea', 'hfc236fa', 'hfc23', 'hfc245fa', 'hfc32', 'hfc365mfc', 'hfc4310mee', 'methane', 'methyl_bromide', 'methyl_chloride', 'nf3', 'nitrous_oxide', 'sf6', 'so2f2', 'halon1202', 'so2', 'nox', 'nox_avi', 'co', 'nmvoc', 'bc', 'nh3', 'oc', 'methane|trop_o3', 'methane|strat_h2o', 'co|trop_o3', 'nox|trop_o3', 'nmvoc|trop_o3', 'bc|bc_on_snow', 'nox_avi|contrails', 'so2|aci', 'bc|aci', 'oc|aci', 'carbon_tetrachloride|strat_o3', 'cfc113|strat_o3', 'cfc114|strat_o3', 'cfc115|strat_o3', 'cfc11|strat_o3', 'cfc12|strat_o3', 'ch3ccl3|strat_o3', 'halon1211|strat_o3', 'halon1301|strat_o3', 'halon2402|strat_o3', 'hcfc141b|strat_o3', 'hcfc142b|strat_o3', 'hcfc22|strat_o3', 'methyl_bromide|strat_o3', 'methyl_chloride|strat_o3', 'halon1202|strat_o3'] forcing agents, between 1750 and 2100...\n"
     ]
    },
    {
     "name": "stderr",
     "output_type": "stream",
     "text": [
      "100%|██████████| 350/350 [00:25<00:00, 14.00 timestep/s]\n"
     ]
    },
    {
     "name": "stdout",
     "output_type": "stream",
     "text": [
      "Integrating 10000 scenarios, 1 gas cycle parameter sets, 1 thermal response parameter sets, over ['c2f6', 'c3f8', 'c4f10', 'c5f12', 'c6f14', 'c7f16', 'c8f18', 'c_c4f8', 'carbon_dioxide', 'carbon_tetrachloride', 'cf4', 'cfc113', 'cfc114', 'cfc115', 'cfc11', 'cfc12', 'ch2cl2', 'ch3ccl3', 'chcl3', 'halon1211', 'halon1301', 'halon2402', 'hcfc141b', 'hcfc142b', 'hcfc22', 'hfc125', 'hfc134a', 'hfc143a', 'hfc152a', 'hfc227ea', 'hfc236fa', 'hfc23', 'hfc245fa', 'hfc32', 'hfc365mfc', 'hfc4310mee', 'methane', 'methyl_bromide', 'methyl_chloride', 'nf3', 'nitrous_oxide', 'sf6', 'so2f2', 'halon1202', 'so2', 'nox', 'nox_avi', 'co', 'nmvoc', 'bc', 'nh3', 'oc', 'methane|trop_o3', 'methane|strat_h2o', 'co|trop_o3', 'nox|trop_o3', 'nmvoc|trop_o3', 'bc|bc_on_snow', 'nox_avi|contrails', 'so2|aci', 'bc|aci', 'oc|aci', 'carbon_tetrachloride|strat_o3', 'cfc113|strat_o3', 'cfc114|strat_o3', 'cfc115|strat_o3', 'cfc11|strat_o3', 'cfc12|strat_o3', 'ch3ccl3|strat_o3', 'halon1211|strat_o3', 'halon1301|strat_o3', 'halon2402|strat_o3', 'hcfc141b|strat_o3', 'hcfc142b|strat_o3', 'hcfc22|strat_o3', 'methyl_bromide|strat_o3', 'methyl_chloride|strat_o3', 'halon1202|strat_o3'] forcing agents, between 1750 and 2100...\n"
     ]
    },
    {
     "name": "stderr",
     "output_type": "stream",
     "text": [
      "100%|██████████| 350/350 [00:25<00:00, 13.88 timestep/s]\n"
     ]
    },
    {
     "name": "stdout",
     "output_type": "stream",
     "text": [
      "Integrating 10000 scenarios, 1 gas cycle parameter sets, 1 thermal response parameter sets, over ['c2f6', 'c3f8', 'c4f10', 'c5f12', 'c6f14', 'c7f16', 'c8f18', 'c_c4f8', 'carbon_dioxide', 'carbon_tetrachloride', 'cf4', 'cfc113', 'cfc114', 'cfc115', 'cfc11', 'cfc12', 'ch2cl2', 'ch3ccl3', 'chcl3', 'halon1211', 'halon1301', 'halon2402', 'hcfc141b', 'hcfc142b', 'hcfc22', 'hfc125', 'hfc134a', 'hfc143a', 'hfc152a', 'hfc227ea', 'hfc236fa', 'hfc23', 'hfc245fa', 'hfc32', 'hfc365mfc', 'hfc4310mee', 'methane', 'methyl_bromide', 'methyl_chloride', 'nf3', 'nitrous_oxide', 'sf6', 'so2f2', 'halon1202', 'so2', 'nox', 'nox_avi', 'co', 'nmvoc', 'bc', 'nh3', 'oc', 'methane|trop_o3', 'methane|strat_h2o', 'co|trop_o3', 'nox|trop_o3', 'nmvoc|trop_o3', 'bc|bc_on_snow', 'nox_avi|contrails', 'so2|aci', 'bc|aci', 'oc|aci', 'carbon_tetrachloride|strat_o3', 'cfc113|strat_o3', 'cfc114|strat_o3', 'cfc115|strat_o3', 'cfc11|strat_o3', 'cfc12|strat_o3', 'ch3ccl3|strat_o3', 'halon1211|strat_o3', 'halon1301|strat_o3', 'halon2402|strat_o3', 'hcfc141b|strat_o3', 'hcfc142b|strat_o3', 'hcfc22|strat_o3', 'methyl_bromide|strat_o3', 'methyl_chloride|strat_o3', 'halon1202|strat_o3'] forcing agents, between 1750 and 2100...\n"
     ]
    },
    {
     "name": "stderr",
     "output_type": "stream",
     "text": [
      "100%|██████████| 350/350 [00:24<00:00, 14.02 timestep/s]\n"
     ]
    },
    {
     "name": "stdout",
     "output_type": "stream",
     "text": [
      "Integrating 10000 scenarios, 1 gas cycle parameter sets, 1 thermal response parameter sets, over ['c2f6', 'c3f8', 'c4f10', 'c5f12', 'c6f14', 'c7f16', 'c8f18', 'c_c4f8', 'carbon_dioxide', 'carbon_tetrachloride', 'cf4', 'cfc113', 'cfc114', 'cfc115', 'cfc11', 'cfc12', 'ch2cl2', 'ch3ccl3', 'chcl3', 'halon1211', 'halon1301', 'halon2402', 'hcfc141b', 'hcfc142b', 'hcfc22', 'hfc125', 'hfc134a', 'hfc143a', 'hfc152a', 'hfc227ea', 'hfc236fa', 'hfc23', 'hfc245fa', 'hfc32', 'hfc365mfc', 'hfc4310mee', 'methane', 'methyl_bromide', 'methyl_chloride', 'nf3', 'nitrous_oxide', 'sf6', 'so2f2', 'halon1202', 'so2', 'nox', 'nox_avi', 'co', 'nmvoc', 'bc', 'nh3', 'oc', 'methane|trop_o3', 'methane|strat_h2o', 'co|trop_o3', 'nox|trop_o3', 'nmvoc|trop_o3', 'bc|bc_on_snow', 'nox_avi|contrails', 'so2|aci', 'bc|aci', 'oc|aci', 'carbon_tetrachloride|strat_o3', 'cfc113|strat_o3', 'cfc114|strat_o3', 'cfc115|strat_o3', 'cfc11|strat_o3', 'cfc12|strat_o3', 'ch3ccl3|strat_o3', 'halon1211|strat_o3', 'halon1301|strat_o3', 'halon2402|strat_o3', 'hcfc141b|strat_o3', 'hcfc142b|strat_o3', 'hcfc22|strat_o3', 'methyl_bromide|strat_o3', 'methyl_chloride|strat_o3', 'halon1202|strat_o3'] forcing agents, between 1750 and 2100...\n"
     ]
    },
    {
     "name": "stderr",
     "output_type": "stream",
     "text": [
      "100%|██████████| 350/350 [00:25<00:00, 13.81 timestep/s]\n"
     ]
    },
    {
     "name": "stdout",
     "output_type": "stream",
     "text": [
      "Integrating 10000 scenarios, 1 gas cycle parameter sets, 1 thermal response parameter sets, over ['c2f6', 'c3f8', 'c4f10', 'c5f12', 'c6f14', 'c7f16', 'c8f18', 'c_c4f8', 'carbon_dioxide', 'carbon_tetrachloride', 'cf4', 'cfc113', 'cfc114', 'cfc115', 'cfc11', 'cfc12', 'ch2cl2', 'ch3ccl3', 'chcl3', 'halon1211', 'halon1301', 'halon2402', 'hcfc141b', 'hcfc142b', 'hcfc22', 'hfc125', 'hfc134a', 'hfc143a', 'hfc152a', 'hfc227ea', 'hfc236fa', 'hfc23', 'hfc245fa', 'hfc32', 'hfc365mfc', 'hfc4310mee', 'methane', 'methyl_bromide', 'methyl_chloride', 'nf3', 'nitrous_oxide', 'sf6', 'so2f2', 'halon1202', 'so2', 'nox', 'nox_avi', 'co', 'nmvoc', 'bc', 'nh3', 'oc', 'methane|trop_o3', 'methane|strat_h2o', 'co|trop_o3', 'nox|trop_o3', 'nmvoc|trop_o3', 'bc|bc_on_snow', 'nox_avi|contrails', 'so2|aci', 'bc|aci', 'oc|aci', 'carbon_tetrachloride|strat_o3', 'cfc113|strat_o3', 'cfc114|strat_o3', 'cfc115|strat_o3', 'cfc11|strat_o3', 'cfc12|strat_o3', 'ch3ccl3|strat_o3', 'halon1211|strat_o3', 'halon1301|strat_o3', 'halon2402|strat_o3', 'hcfc141b|strat_o3', 'hcfc142b|strat_o3', 'hcfc22|strat_o3', 'methyl_bromide|strat_o3', 'methyl_chloride|strat_o3', 'halon1202|strat_o3'] forcing agents, between 1750 and 2100...\n"
     ]
    },
    {
     "name": "stderr",
     "output_type": "stream",
     "text": [
      "100%|██████████| 350/350 [00:24<00:00, 14.00 timestep/s]\n"
     ]
    },
    {
     "name": "stdout",
     "output_type": "stream",
     "text": [
      "Integrating 10000 scenarios, 1 gas cycle parameter sets, 1 thermal response parameter sets, over ['c2f6', 'c3f8', 'c4f10', 'c5f12', 'c6f14', 'c7f16', 'c8f18', 'c_c4f8', 'carbon_dioxide', 'carbon_tetrachloride', 'cf4', 'cfc113', 'cfc114', 'cfc115', 'cfc11', 'cfc12', 'ch2cl2', 'ch3ccl3', 'chcl3', 'halon1211', 'halon1301', 'halon2402', 'hcfc141b', 'hcfc142b', 'hcfc22', 'hfc125', 'hfc134a', 'hfc143a', 'hfc152a', 'hfc227ea', 'hfc236fa', 'hfc23', 'hfc245fa', 'hfc32', 'hfc365mfc', 'hfc4310mee', 'methane', 'methyl_bromide', 'methyl_chloride', 'nf3', 'nitrous_oxide', 'sf6', 'so2f2', 'halon1202', 'so2', 'nox', 'nox_avi', 'co', 'nmvoc', 'bc', 'nh3', 'oc', 'methane|trop_o3', 'methane|strat_h2o', 'co|trop_o3', 'nox|trop_o3', 'nmvoc|trop_o3', 'bc|bc_on_snow', 'nox_avi|contrails', 'so2|aci', 'bc|aci', 'oc|aci', 'carbon_tetrachloride|strat_o3', 'cfc113|strat_o3', 'cfc114|strat_o3', 'cfc115|strat_o3', 'cfc11|strat_o3', 'cfc12|strat_o3', 'ch3ccl3|strat_o3', 'halon1211|strat_o3', 'halon1301|strat_o3', 'halon2402|strat_o3', 'hcfc141b|strat_o3', 'hcfc142b|strat_o3', 'hcfc22|strat_o3', 'methyl_bromide|strat_o3', 'methyl_chloride|strat_o3', 'halon1202|strat_o3'] forcing agents, between 1750 and 2100...\n"
     ]
    },
    {
     "name": "stderr",
     "output_type": "stream",
     "text": [
      "100%|██████████| 350/350 [00:24<00:00, 14.03 timestep/s]\n"
     ]
    },
    {
     "name": "stdout",
     "output_type": "stream",
     "text": [
      "Integrating 10000 scenarios, 1 gas cycle parameter sets, 1 thermal response parameter sets, over ['c2f6', 'c3f8', 'c4f10', 'c5f12', 'c6f14', 'c7f16', 'c8f18', 'c_c4f8', 'carbon_dioxide', 'carbon_tetrachloride', 'cf4', 'cfc113', 'cfc114', 'cfc115', 'cfc11', 'cfc12', 'ch2cl2', 'ch3ccl3', 'chcl3', 'halon1211', 'halon1301', 'halon2402', 'hcfc141b', 'hcfc142b', 'hcfc22', 'hfc125', 'hfc134a', 'hfc143a', 'hfc152a', 'hfc227ea', 'hfc236fa', 'hfc23', 'hfc245fa', 'hfc32', 'hfc365mfc', 'hfc4310mee', 'methane', 'methyl_bromide', 'methyl_chloride', 'nf3', 'nitrous_oxide', 'sf6', 'so2f2', 'halon1202', 'so2', 'nox', 'nox_avi', 'co', 'nmvoc', 'bc', 'nh3', 'oc', 'methane|trop_o3', 'methane|strat_h2o', 'co|trop_o3', 'nox|trop_o3', 'nmvoc|trop_o3', 'bc|bc_on_snow', 'nox_avi|contrails', 'so2|aci', 'bc|aci', 'oc|aci', 'carbon_tetrachloride|strat_o3', 'cfc113|strat_o3', 'cfc114|strat_o3', 'cfc115|strat_o3', 'cfc11|strat_o3', 'cfc12|strat_o3', 'ch3ccl3|strat_o3', 'halon1211|strat_o3', 'halon1301|strat_o3', 'halon2402|strat_o3', 'hcfc141b|strat_o3', 'hcfc142b|strat_o3', 'hcfc22|strat_o3', 'methyl_bromide|strat_o3', 'methyl_chloride|strat_o3', 'halon1202|strat_o3'] forcing agents, between 1750 and 2100...\n"
     ]
    },
    {
     "name": "stderr",
     "output_type": "stream",
     "text": [
      "100%|██████████| 350/350 [00:25<00:00, 13.97 timestep/s]\n"
     ]
    },
    {
     "name": "stdout",
     "output_type": "stream",
     "text": [
      "Integrating 10000 scenarios, 1 gas cycle parameter sets, 1 thermal response parameter sets, over ['c2f6', 'c3f8', 'c4f10', 'c5f12', 'c6f14', 'c7f16', 'c8f18', 'c_c4f8', 'carbon_dioxide', 'carbon_tetrachloride', 'cf4', 'cfc113', 'cfc114', 'cfc115', 'cfc11', 'cfc12', 'ch2cl2', 'ch3ccl3', 'chcl3', 'halon1211', 'halon1301', 'halon2402', 'hcfc141b', 'hcfc142b', 'hcfc22', 'hfc125', 'hfc134a', 'hfc143a', 'hfc152a', 'hfc227ea', 'hfc236fa', 'hfc23', 'hfc245fa', 'hfc32', 'hfc365mfc', 'hfc4310mee', 'methane', 'methyl_bromide', 'methyl_chloride', 'nf3', 'nitrous_oxide', 'sf6', 'so2f2', 'halon1202', 'so2', 'nox', 'nox_avi', 'co', 'nmvoc', 'bc', 'nh3', 'oc', 'methane|trop_o3', 'methane|strat_h2o', 'co|trop_o3', 'nox|trop_o3', 'nmvoc|trop_o3', 'bc|bc_on_snow', 'nox_avi|contrails', 'so2|aci', 'bc|aci', 'oc|aci', 'carbon_tetrachloride|strat_o3', 'cfc113|strat_o3', 'cfc114|strat_o3', 'cfc115|strat_o3', 'cfc11|strat_o3', 'cfc12|strat_o3', 'ch3ccl3|strat_o3', 'halon1211|strat_o3', 'halon1301|strat_o3', 'halon2402|strat_o3', 'hcfc141b|strat_o3', 'hcfc142b|strat_o3', 'hcfc22|strat_o3', 'methyl_bromide|strat_o3', 'methyl_chloride|strat_o3', 'halon1202|strat_o3'] forcing agents, between 1750 and 2100...\n"
     ]
    },
    {
     "name": "stderr",
     "output_type": "stream",
     "text": [
      "100%|██████████| 350/350 [00:24<00:00, 14.03 timestep/s]\n"
     ]
    },
    {
     "name": "stdout",
     "output_type": "stream",
     "text": [
      "Integrating 10000 scenarios, 1 gas cycle parameter sets, 1 thermal response parameter sets, over ['c2f6', 'c3f8', 'c4f10', 'c5f12', 'c6f14', 'c7f16', 'c8f18', 'c_c4f8', 'carbon_dioxide', 'carbon_tetrachloride', 'cf4', 'cfc113', 'cfc114', 'cfc115', 'cfc11', 'cfc12', 'ch2cl2', 'ch3ccl3', 'chcl3', 'halon1211', 'halon1301', 'halon2402', 'hcfc141b', 'hcfc142b', 'hcfc22', 'hfc125', 'hfc134a', 'hfc143a', 'hfc152a', 'hfc227ea', 'hfc236fa', 'hfc23', 'hfc245fa', 'hfc32', 'hfc365mfc', 'hfc4310mee', 'methane', 'methyl_bromide', 'methyl_chloride', 'nf3', 'nitrous_oxide', 'sf6', 'so2f2', 'halon1202', 'so2', 'nox', 'nox_avi', 'co', 'nmvoc', 'bc', 'nh3', 'oc', 'methane|trop_o3', 'methane|strat_h2o', 'co|trop_o3', 'nox|trop_o3', 'nmvoc|trop_o3', 'bc|bc_on_snow', 'nox_avi|contrails', 'so2|aci', 'bc|aci', 'oc|aci', 'carbon_tetrachloride|strat_o3', 'cfc113|strat_o3', 'cfc114|strat_o3', 'cfc115|strat_o3', 'cfc11|strat_o3', 'cfc12|strat_o3', 'ch3ccl3|strat_o3', 'halon1211|strat_o3', 'halon1301|strat_o3', 'halon2402|strat_o3', 'hcfc141b|strat_o3', 'hcfc142b|strat_o3', 'hcfc22|strat_o3', 'methyl_bromide|strat_o3', 'methyl_chloride|strat_o3', 'halon1202|strat_o3'] forcing agents, between 1750 and 2100...\n"
     ]
    },
    {
     "name": "stderr",
     "output_type": "stream",
     "text": [
      "100%|██████████| 350/350 [00:24<00:00, 14.05 timestep/s]\n"
     ]
    },
    {
     "name": "stdout",
     "output_type": "stream",
     "text": [
      "Integrating 10000 scenarios, 1 gas cycle parameter sets, 1 thermal response parameter sets, over ['c2f6', 'c3f8', 'c4f10', 'c5f12', 'c6f14', 'c7f16', 'c8f18', 'c_c4f8', 'carbon_dioxide', 'carbon_tetrachloride', 'cf4', 'cfc113', 'cfc114', 'cfc115', 'cfc11', 'cfc12', 'ch2cl2', 'ch3ccl3', 'chcl3', 'halon1211', 'halon1301', 'halon2402', 'hcfc141b', 'hcfc142b', 'hcfc22', 'hfc125', 'hfc134a', 'hfc143a', 'hfc152a', 'hfc227ea', 'hfc236fa', 'hfc23', 'hfc245fa', 'hfc32', 'hfc365mfc', 'hfc4310mee', 'methane', 'methyl_bromide', 'methyl_chloride', 'nf3', 'nitrous_oxide', 'sf6', 'so2f2', 'halon1202', 'so2', 'nox', 'nox_avi', 'co', 'nmvoc', 'bc', 'nh3', 'oc', 'methane|trop_o3', 'methane|strat_h2o', 'co|trop_o3', 'nox|trop_o3', 'nmvoc|trop_o3', 'bc|bc_on_snow', 'nox_avi|contrails', 'so2|aci', 'bc|aci', 'oc|aci', 'carbon_tetrachloride|strat_o3', 'cfc113|strat_o3', 'cfc114|strat_o3', 'cfc115|strat_o3', 'cfc11|strat_o3', 'cfc12|strat_o3', 'ch3ccl3|strat_o3', 'halon1211|strat_o3', 'halon1301|strat_o3', 'halon2402|strat_o3', 'hcfc141b|strat_o3', 'hcfc142b|strat_o3', 'hcfc22|strat_o3', 'methyl_bromide|strat_o3', 'methyl_chloride|strat_o3', 'halon1202|strat_o3'] forcing agents, between 1750 and 2100...\n"
     ]
    },
    {
     "name": "stderr",
     "output_type": "stream",
     "text": [
      "100%|██████████| 350/350 [00:24<00:00, 14.01 timestep/s]\n"
     ]
    },
    {
     "name": "stdout",
     "output_type": "stream",
     "text": [
      "Integrating 10000 scenarios, 1 gas cycle parameter sets, 1 thermal response parameter sets, over ['c2f6', 'c3f8', 'c4f10', 'c5f12', 'c6f14', 'c7f16', 'c8f18', 'c_c4f8', 'carbon_dioxide', 'carbon_tetrachloride', 'cf4', 'cfc113', 'cfc114', 'cfc115', 'cfc11', 'cfc12', 'ch2cl2', 'ch3ccl3', 'chcl3', 'halon1211', 'halon1301', 'halon2402', 'hcfc141b', 'hcfc142b', 'hcfc22', 'hfc125', 'hfc134a', 'hfc143a', 'hfc152a', 'hfc227ea', 'hfc236fa', 'hfc23', 'hfc245fa', 'hfc32', 'hfc365mfc', 'hfc4310mee', 'methane', 'methyl_bromide', 'methyl_chloride', 'nf3', 'nitrous_oxide', 'sf6', 'so2f2', 'halon1202', 'so2', 'nox', 'nox_avi', 'co', 'nmvoc', 'bc', 'nh3', 'oc', 'methane|trop_o3', 'methane|strat_h2o', 'co|trop_o3', 'nox|trop_o3', 'nmvoc|trop_o3', 'bc|bc_on_snow', 'nox_avi|contrails', 'so2|aci', 'bc|aci', 'oc|aci', 'carbon_tetrachloride|strat_o3', 'cfc113|strat_o3', 'cfc114|strat_o3', 'cfc115|strat_o3', 'cfc11|strat_o3', 'cfc12|strat_o3', 'ch3ccl3|strat_o3', 'halon1211|strat_o3', 'halon1301|strat_o3', 'halon2402|strat_o3', 'hcfc141b|strat_o3', 'hcfc142b|strat_o3', 'hcfc22|strat_o3', 'methyl_bromide|strat_o3', 'methyl_chloride|strat_o3', 'halon1202|strat_o3'] forcing agents, between 1750 and 2100...\n"
     ]
    },
    {
     "name": "stderr",
     "output_type": "stream",
     "text": [
      "100%|██████████| 350/350 [00:24<00:00, 14.03 timestep/s]\n"
     ]
    },
    {
     "name": "stdout",
     "output_type": "stream",
     "text": [
      "Integrating 10000 scenarios, 1 gas cycle parameter sets, 1 thermal response parameter sets, over ['c2f6', 'c3f8', 'c4f10', 'c5f12', 'c6f14', 'c7f16', 'c8f18', 'c_c4f8', 'carbon_dioxide', 'carbon_tetrachloride', 'cf4', 'cfc113', 'cfc114', 'cfc115', 'cfc11', 'cfc12', 'ch2cl2', 'ch3ccl3', 'chcl3', 'halon1211', 'halon1301', 'halon2402', 'hcfc141b', 'hcfc142b', 'hcfc22', 'hfc125', 'hfc134a', 'hfc143a', 'hfc152a', 'hfc227ea', 'hfc236fa', 'hfc23', 'hfc245fa', 'hfc32', 'hfc365mfc', 'hfc4310mee', 'methane', 'methyl_bromide', 'methyl_chloride', 'nf3', 'nitrous_oxide', 'sf6', 'so2f2', 'halon1202', 'so2', 'nox', 'nox_avi', 'co', 'nmvoc', 'bc', 'nh3', 'oc', 'methane|trop_o3', 'methane|strat_h2o', 'co|trop_o3', 'nox|trop_o3', 'nmvoc|trop_o3', 'bc|bc_on_snow', 'nox_avi|contrails', 'so2|aci', 'bc|aci', 'oc|aci', 'carbon_tetrachloride|strat_o3', 'cfc113|strat_o3', 'cfc114|strat_o3', 'cfc115|strat_o3', 'cfc11|strat_o3', 'cfc12|strat_o3', 'ch3ccl3|strat_o3', 'halon1211|strat_o3', 'halon1301|strat_o3', 'halon2402|strat_o3', 'hcfc141b|strat_o3', 'hcfc142b|strat_o3', 'hcfc22|strat_o3', 'methyl_bromide|strat_o3', 'methyl_chloride|strat_o3', 'halon1202|strat_o3'] forcing agents, between 1750 and 2100...\n"
     ]
    },
    {
     "name": "stderr",
     "output_type": "stream",
     "text": [
      "100%|██████████| 350/350 [00:25<00:00, 13.97 timestep/s]\n"
     ]
    },
    {
     "name": "stdout",
     "output_type": "stream",
     "text": [
      "Integrating 10000 scenarios, 1 gas cycle parameter sets, 1 thermal response parameter sets, over ['c2f6', 'c3f8', 'c4f10', 'c5f12', 'c6f14', 'c7f16', 'c8f18', 'c_c4f8', 'carbon_dioxide', 'carbon_tetrachloride', 'cf4', 'cfc113', 'cfc114', 'cfc115', 'cfc11', 'cfc12', 'ch2cl2', 'ch3ccl3', 'chcl3', 'halon1211', 'halon1301', 'halon2402', 'hcfc141b', 'hcfc142b', 'hcfc22', 'hfc125', 'hfc134a', 'hfc143a', 'hfc152a', 'hfc227ea', 'hfc236fa', 'hfc23', 'hfc245fa', 'hfc32', 'hfc365mfc', 'hfc4310mee', 'methane', 'methyl_bromide', 'methyl_chloride', 'nf3', 'nitrous_oxide', 'sf6', 'so2f2', 'halon1202', 'so2', 'nox', 'nox_avi', 'co', 'nmvoc', 'bc', 'nh3', 'oc', 'methane|trop_o3', 'methane|strat_h2o', 'co|trop_o3', 'nox|trop_o3', 'nmvoc|trop_o3', 'bc|bc_on_snow', 'nox_avi|contrails', 'so2|aci', 'bc|aci', 'oc|aci', 'carbon_tetrachloride|strat_o3', 'cfc113|strat_o3', 'cfc114|strat_o3', 'cfc115|strat_o3', 'cfc11|strat_o3', 'cfc12|strat_o3', 'ch3ccl3|strat_o3', 'halon1211|strat_o3', 'halon1301|strat_o3', 'halon2402|strat_o3', 'hcfc141b|strat_o3', 'hcfc142b|strat_o3', 'hcfc22|strat_o3', 'methyl_bromide|strat_o3', 'methyl_chloride|strat_o3', 'halon1202|strat_o3'] forcing agents, between 1750 and 2100...\n"
     ]
    },
    {
     "name": "stderr",
     "output_type": "stream",
     "text": [
      "100%|██████████| 350/350 [00:24<00:00, 14.07 timestep/s]\n"
     ]
    },
    {
     "name": "stdout",
     "output_type": "stream",
     "text": [
      "Integrating 10000 scenarios, 1 gas cycle parameter sets, 1 thermal response parameter sets, over ['c2f6', 'c3f8', 'c4f10', 'c5f12', 'c6f14', 'c7f16', 'c8f18', 'c_c4f8', 'carbon_dioxide', 'carbon_tetrachloride', 'cf4', 'cfc113', 'cfc114', 'cfc115', 'cfc11', 'cfc12', 'ch2cl2', 'ch3ccl3', 'chcl3', 'halon1211', 'halon1301', 'halon2402', 'hcfc141b', 'hcfc142b', 'hcfc22', 'hfc125', 'hfc134a', 'hfc143a', 'hfc152a', 'hfc227ea', 'hfc236fa', 'hfc23', 'hfc245fa', 'hfc32', 'hfc365mfc', 'hfc4310mee', 'methane', 'methyl_bromide', 'methyl_chloride', 'nf3', 'nitrous_oxide', 'sf6', 'so2f2', 'halon1202', 'so2', 'nox', 'nox_avi', 'co', 'nmvoc', 'bc', 'nh3', 'oc', 'methane|trop_o3', 'methane|strat_h2o', 'co|trop_o3', 'nox|trop_o3', 'nmvoc|trop_o3', 'bc|bc_on_snow', 'nox_avi|contrails', 'so2|aci', 'bc|aci', 'oc|aci', 'carbon_tetrachloride|strat_o3', 'cfc113|strat_o3', 'cfc114|strat_o3', 'cfc115|strat_o3', 'cfc11|strat_o3', 'cfc12|strat_o3', 'ch3ccl3|strat_o3', 'halon1211|strat_o3', 'halon1301|strat_o3', 'halon2402|strat_o3', 'hcfc141b|strat_o3', 'hcfc142b|strat_o3', 'hcfc22|strat_o3', 'methyl_bromide|strat_o3', 'methyl_chloride|strat_o3', 'halon1202|strat_o3'] forcing agents, between 1750 and 2100...\n"
     ]
    },
    {
     "name": "stderr",
     "output_type": "stream",
     "text": [
      "100%|██████████| 350/350 [00:24<00:00, 14.03 timestep/s]\n"
     ]
    },
    {
     "name": "stdout",
     "output_type": "stream",
     "text": [
      "Integrating 10000 scenarios, 1 gas cycle parameter sets, 1 thermal response parameter sets, over ['c2f6', 'c3f8', 'c4f10', 'c5f12', 'c6f14', 'c7f16', 'c8f18', 'c_c4f8', 'carbon_dioxide', 'carbon_tetrachloride', 'cf4', 'cfc113', 'cfc114', 'cfc115', 'cfc11', 'cfc12', 'ch2cl2', 'ch3ccl3', 'chcl3', 'halon1211', 'halon1301', 'halon2402', 'hcfc141b', 'hcfc142b', 'hcfc22', 'hfc125', 'hfc134a', 'hfc143a', 'hfc152a', 'hfc227ea', 'hfc236fa', 'hfc23', 'hfc245fa', 'hfc32', 'hfc365mfc', 'hfc4310mee', 'methane', 'methyl_bromide', 'methyl_chloride', 'nf3', 'nitrous_oxide', 'sf6', 'so2f2', 'halon1202', 'so2', 'nox', 'nox_avi', 'co', 'nmvoc', 'bc', 'nh3', 'oc', 'methane|trop_o3', 'methane|strat_h2o', 'co|trop_o3', 'nox|trop_o3', 'nmvoc|trop_o3', 'bc|bc_on_snow', 'nox_avi|contrails', 'so2|aci', 'bc|aci', 'oc|aci', 'carbon_tetrachloride|strat_o3', 'cfc113|strat_o3', 'cfc114|strat_o3', 'cfc115|strat_o3', 'cfc11|strat_o3', 'cfc12|strat_o3', 'ch3ccl3|strat_o3', 'halon1211|strat_o3', 'halon1301|strat_o3', 'halon2402|strat_o3', 'hcfc141b|strat_o3', 'hcfc142b|strat_o3', 'hcfc22|strat_o3', 'methyl_bromide|strat_o3', 'methyl_chloride|strat_o3', 'halon1202|strat_o3'] forcing agents, between 1750 and 2100...\n"
     ]
    },
    {
     "name": "stderr",
     "output_type": "stream",
     "text": [
      "100%|██████████| 350/350 [00:25<00:00, 13.99 timestep/s]\n"
     ]
    },
    {
     "name": "stdout",
     "output_type": "stream",
     "text": [
      "Integrating 10000 scenarios, 1 gas cycle parameter sets, 1 thermal response parameter sets, over ['c2f6', 'c3f8', 'c4f10', 'c5f12', 'c6f14', 'c7f16', 'c8f18', 'c_c4f8', 'carbon_dioxide', 'carbon_tetrachloride', 'cf4', 'cfc113', 'cfc114', 'cfc115', 'cfc11', 'cfc12', 'ch2cl2', 'ch3ccl3', 'chcl3', 'halon1211', 'halon1301', 'halon2402', 'hcfc141b', 'hcfc142b', 'hcfc22', 'hfc125', 'hfc134a', 'hfc143a', 'hfc152a', 'hfc227ea', 'hfc236fa', 'hfc23', 'hfc245fa', 'hfc32', 'hfc365mfc', 'hfc4310mee', 'methane', 'methyl_bromide', 'methyl_chloride', 'nf3', 'nitrous_oxide', 'sf6', 'so2f2', 'halon1202', 'so2', 'nox', 'nox_avi', 'co', 'nmvoc', 'bc', 'nh3', 'oc', 'methane|trop_o3', 'methane|strat_h2o', 'co|trop_o3', 'nox|trop_o3', 'nmvoc|trop_o3', 'bc|bc_on_snow', 'nox_avi|contrails', 'so2|aci', 'bc|aci', 'oc|aci', 'carbon_tetrachloride|strat_o3', 'cfc113|strat_o3', 'cfc114|strat_o3', 'cfc115|strat_o3', 'cfc11|strat_o3', 'cfc12|strat_o3', 'ch3ccl3|strat_o3', 'halon1211|strat_o3', 'halon1301|strat_o3', 'halon2402|strat_o3', 'hcfc141b|strat_o3', 'hcfc142b|strat_o3', 'hcfc22|strat_o3', 'methyl_bromide|strat_o3', 'methyl_chloride|strat_o3', 'halon1202|strat_o3'] forcing agents, between 1750 and 2100...\n"
     ]
    },
    {
     "name": "stderr",
     "output_type": "stream",
     "text": [
      "100%|██████████| 350/350 [00:24<00:00, 14.06 timestep/s]\n"
     ]
    },
    {
     "name": "stdout",
     "output_type": "stream",
     "text": [
      "Integrating 10000 scenarios, 1 gas cycle parameter sets, 1 thermal response parameter sets, over ['c2f6', 'c3f8', 'c4f10', 'c5f12', 'c6f14', 'c7f16', 'c8f18', 'c_c4f8', 'carbon_dioxide', 'carbon_tetrachloride', 'cf4', 'cfc113', 'cfc114', 'cfc115', 'cfc11', 'cfc12', 'ch2cl2', 'ch3ccl3', 'chcl3', 'halon1211', 'halon1301', 'halon2402', 'hcfc141b', 'hcfc142b', 'hcfc22', 'hfc125', 'hfc134a', 'hfc143a', 'hfc152a', 'hfc227ea', 'hfc236fa', 'hfc23', 'hfc245fa', 'hfc32', 'hfc365mfc', 'hfc4310mee', 'methane', 'methyl_bromide', 'methyl_chloride', 'nf3', 'nitrous_oxide', 'sf6', 'so2f2', 'halon1202', 'so2', 'nox', 'nox_avi', 'co', 'nmvoc', 'bc', 'nh3', 'oc', 'methane|trop_o3', 'methane|strat_h2o', 'co|trop_o3', 'nox|trop_o3', 'nmvoc|trop_o3', 'bc|bc_on_snow', 'nox_avi|contrails', 'so2|aci', 'bc|aci', 'oc|aci', 'carbon_tetrachloride|strat_o3', 'cfc113|strat_o3', 'cfc114|strat_o3', 'cfc115|strat_o3', 'cfc11|strat_o3', 'cfc12|strat_o3', 'ch3ccl3|strat_o3', 'halon1211|strat_o3', 'halon1301|strat_o3', 'halon2402|strat_o3', 'hcfc141b|strat_o3', 'hcfc142b|strat_o3', 'hcfc22|strat_o3', 'methyl_bromide|strat_o3', 'methyl_chloride|strat_o3', 'halon1202|strat_o3'] forcing agents, between 1750 and 2100...\n"
     ]
    },
    {
     "name": "stderr",
     "output_type": "stream",
     "text": [
      "100%|██████████| 350/350 [00:25<00:00, 13.97 timestep/s]\n"
     ]
    },
    {
     "name": "stdout",
     "output_type": "stream",
     "text": [
      "Integrating 10000 scenarios, 1 gas cycle parameter sets, 1 thermal response parameter sets, over ['c2f6', 'c3f8', 'c4f10', 'c5f12', 'c6f14', 'c7f16', 'c8f18', 'c_c4f8', 'carbon_dioxide', 'carbon_tetrachloride', 'cf4', 'cfc113', 'cfc114', 'cfc115', 'cfc11', 'cfc12', 'ch2cl2', 'ch3ccl3', 'chcl3', 'halon1211', 'halon1301', 'halon2402', 'hcfc141b', 'hcfc142b', 'hcfc22', 'hfc125', 'hfc134a', 'hfc143a', 'hfc152a', 'hfc227ea', 'hfc236fa', 'hfc23', 'hfc245fa', 'hfc32', 'hfc365mfc', 'hfc4310mee', 'methane', 'methyl_bromide', 'methyl_chloride', 'nf3', 'nitrous_oxide', 'sf6', 'so2f2', 'halon1202', 'so2', 'nox', 'nox_avi', 'co', 'nmvoc', 'bc', 'nh3', 'oc', 'methane|trop_o3', 'methane|strat_h2o', 'co|trop_o3', 'nox|trop_o3', 'nmvoc|trop_o3', 'bc|bc_on_snow', 'nox_avi|contrails', 'so2|aci', 'bc|aci', 'oc|aci', 'carbon_tetrachloride|strat_o3', 'cfc113|strat_o3', 'cfc114|strat_o3', 'cfc115|strat_o3', 'cfc11|strat_o3', 'cfc12|strat_o3', 'ch3ccl3|strat_o3', 'halon1211|strat_o3', 'halon1301|strat_o3', 'halon2402|strat_o3', 'hcfc141b|strat_o3', 'hcfc142b|strat_o3', 'hcfc22|strat_o3', 'methyl_bromide|strat_o3', 'methyl_chloride|strat_o3', 'halon1202|strat_o3'] forcing agents, between 1750 and 2100...\n"
     ]
    },
    {
     "name": "stderr",
     "output_type": "stream",
     "text": [
      "100%|██████████| 350/350 [00:25<00:00, 13.78 timestep/s]\n"
     ]
    },
    {
     "name": "stdout",
     "output_type": "stream",
     "text": [
      "Integrating 10000 scenarios, 1 gas cycle parameter sets, 1 thermal response parameter sets, over ['c2f6', 'c3f8', 'c4f10', 'c5f12', 'c6f14', 'c7f16', 'c8f18', 'c_c4f8', 'carbon_dioxide', 'carbon_tetrachloride', 'cf4', 'cfc113', 'cfc114', 'cfc115', 'cfc11', 'cfc12', 'ch2cl2', 'ch3ccl3', 'chcl3', 'halon1211', 'halon1301', 'halon2402', 'hcfc141b', 'hcfc142b', 'hcfc22', 'hfc125', 'hfc134a', 'hfc143a', 'hfc152a', 'hfc227ea', 'hfc236fa', 'hfc23', 'hfc245fa', 'hfc32', 'hfc365mfc', 'hfc4310mee', 'methane', 'methyl_bromide', 'methyl_chloride', 'nf3', 'nitrous_oxide', 'sf6', 'so2f2', 'halon1202', 'so2', 'nox', 'nox_avi', 'co', 'nmvoc', 'bc', 'nh3', 'oc', 'methane|trop_o3', 'methane|strat_h2o', 'co|trop_o3', 'nox|trop_o3', 'nmvoc|trop_o3', 'bc|bc_on_snow', 'nox_avi|contrails', 'so2|aci', 'bc|aci', 'oc|aci', 'carbon_tetrachloride|strat_o3', 'cfc113|strat_o3', 'cfc114|strat_o3', 'cfc115|strat_o3', 'cfc11|strat_o3', 'cfc12|strat_o3', 'ch3ccl3|strat_o3', 'halon1211|strat_o3', 'halon1301|strat_o3', 'halon2402|strat_o3', 'hcfc141b|strat_o3', 'hcfc142b|strat_o3', 'hcfc22|strat_o3', 'methyl_bromide|strat_o3', 'methyl_chloride|strat_o3', 'halon1202|strat_o3'] forcing agents, between 1750 and 2100...\n"
     ]
    },
    {
     "name": "stderr",
     "output_type": "stream",
     "text": [
      "100%|██████████| 350/350 [00:24<00:00, 14.03 timestep/s]\n"
     ]
    },
    {
     "name": "stdout",
     "output_type": "stream",
     "text": [
      "Integrating 10000 scenarios, 1 gas cycle parameter sets, 1 thermal response parameter sets, over ['c2f6', 'c3f8', 'c4f10', 'c5f12', 'c6f14', 'c7f16', 'c8f18', 'c_c4f8', 'carbon_dioxide', 'carbon_tetrachloride', 'cf4', 'cfc113', 'cfc114', 'cfc115', 'cfc11', 'cfc12', 'ch2cl2', 'ch3ccl3', 'chcl3', 'halon1211', 'halon1301', 'halon2402', 'hcfc141b', 'hcfc142b', 'hcfc22', 'hfc125', 'hfc134a', 'hfc143a', 'hfc152a', 'hfc227ea', 'hfc236fa', 'hfc23', 'hfc245fa', 'hfc32', 'hfc365mfc', 'hfc4310mee', 'methane', 'methyl_bromide', 'methyl_chloride', 'nf3', 'nitrous_oxide', 'sf6', 'so2f2', 'halon1202', 'so2', 'nox', 'nox_avi', 'co', 'nmvoc', 'bc', 'nh3', 'oc', 'methane|trop_o3', 'methane|strat_h2o', 'co|trop_o3', 'nox|trop_o3', 'nmvoc|trop_o3', 'bc|bc_on_snow', 'nox_avi|contrails', 'so2|aci', 'bc|aci', 'oc|aci', 'carbon_tetrachloride|strat_o3', 'cfc113|strat_o3', 'cfc114|strat_o3', 'cfc115|strat_o3', 'cfc11|strat_o3', 'cfc12|strat_o3', 'ch3ccl3|strat_o3', 'halon1211|strat_o3', 'halon1301|strat_o3', 'halon2402|strat_o3', 'hcfc141b|strat_o3', 'hcfc142b|strat_o3', 'hcfc22|strat_o3', 'methyl_bromide|strat_o3', 'methyl_chloride|strat_o3', 'halon1202|strat_o3'] forcing agents, between 1750 and 2100...\n"
     ]
    },
    {
     "name": "stderr",
     "output_type": "stream",
     "text": [
      "100%|██████████| 350/350 [00:24<00:00, 14.07 timestep/s]\n"
     ]
    },
    {
     "name": "stdout",
     "output_type": "stream",
     "text": [
      "Integrating 10000 scenarios, 1 gas cycle parameter sets, 1 thermal response parameter sets, over ['c2f6', 'c3f8', 'c4f10', 'c5f12', 'c6f14', 'c7f16', 'c8f18', 'c_c4f8', 'carbon_dioxide', 'carbon_tetrachloride', 'cf4', 'cfc113', 'cfc114', 'cfc115', 'cfc11', 'cfc12', 'ch2cl2', 'ch3ccl3', 'chcl3', 'halon1211', 'halon1301', 'halon2402', 'hcfc141b', 'hcfc142b', 'hcfc22', 'hfc125', 'hfc134a', 'hfc143a', 'hfc152a', 'hfc227ea', 'hfc236fa', 'hfc23', 'hfc245fa', 'hfc32', 'hfc365mfc', 'hfc4310mee', 'methane', 'methyl_bromide', 'methyl_chloride', 'nf3', 'nitrous_oxide', 'sf6', 'so2f2', 'halon1202', 'so2', 'nox', 'nox_avi', 'co', 'nmvoc', 'bc', 'nh3', 'oc', 'methane|trop_o3', 'methane|strat_h2o', 'co|trop_o3', 'nox|trop_o3', 'nmvoc|trop_o3', 'bc|bc_on_snow', 'nox_avi|contrails', 'so2|aci', 'bc|aci', 'oc|aci', 'carbon_tetrachloride|strat_o3', 'cfc113|strat_o3', 'cfc114|strat_o3', 'cfc115|strat_o3', 'cfc11|strat_o3', 'cfc12|strat_o3', 'ch3ccl3|strat_o3', 'halon1211|strat_o3', 'halon1301|strat_o3', 'halon2402|strat_o3', 'hcfc141b|strat_o3', 'hcfc142b|strat_o3', 'hcfc22|strat_o3', 'methyl_bromide|strat_o3', 'methyl_chloride|strat_o3', 'halon1202|strat_o3'] forcing agents, between 1750 and 2100...\n"
     ]
    },
    {
     "name": "stderr",
     "output_type": "stream",
     "text": [
      "100%|██████████| 350/350 [00:24<00:00, 14.05 timestep/s]\n"
     ]
    },
    {
     "name": "stdout",
     "output_type": "stream",
     "text": [
      "Integrating 10000 scenarios, 1 gas cycle parameter sets, 1 thermal response parameter sets, over ['c2f6', 'c3f8', 'c4f10', 'c5f12', 'c6f14', 'c7f16', 'c8f18', 'c_c4f8', 'carbon_dioxide', 'carbon_tetrachloride', 'cf4', 'cfc113', 'cfc114', 'cfc115', 'cfc11', 'cfc12', 'ch2cl2', 'ch3ccl3', 'chcl3', 'halon1211', 'halon1301', 'halon2402', 'hcfc141b', 'hcfc142b', 'hcfc22', 'hfc125', 'hfc134a', 'hfc143a', 'hfc152a', 'hfc227ea', 'hfc236fa', 'hfc23', 'hfc245fa', 'hfc32', 'hfc365mfc', 'hfc4310mee', 'methane', 'methyl_bromide', 'methyl_chloride', 'nf3', 'nitrous_oxide', 'sf6', 'so2f2', 'halon1202', 'so2', 'nox', 'nox_avi', 'co', 'nmvoc', 'bc', 'nh3', 'oc', 'methane|trop_o3', 'methane|strat_h2o', 'co|trop_o3', 'nox|trop_o3', 'nmvoc|trop_o3', 'bc|bc_on_snow', 'nox_avi|contrails', 'so2|aci', 'bc|aci', 'oc|aci', 'carbon_tetrachloride|strat_o3', 'cfc113|strat_o3', 'cfc114|strat_o3', 'cfc115|strat_o3', 'cfc11|strat_o3', 'cfc12|strat_o3', 'ch3ccl3|strat_o3', 'halon1211|strat_o3', 'halon1301|strat_o3', 'halon2402|strat_o3', 'hcfc141b|strat_o3', 'hcfc142b|strat_o3', 'hcfc22|strat_o3', 'methyl_bromide|strat_o3', 'methyl_chloride|strat_o3', 'halon1202|strat_o3'] forcing agents, between 1750 and 2100...\n"
     ]
    },
    {
     "name": "stderr",
     "output_type": "stream",
     "text": [
      "100%|██████████| 350/350 [00:24<00:00, 14.06 timestep/s]\n"
     ]
    },
    {
     "name": "stdout",
     "output_type": "stream",
     "text": [
      "Integrating 10000 scenarios, 1 gas cycle parameter sets, 1 thermal response parameter sets, over ['c2f6', 'c3f8', 'c4f10', 'c5f12', 'c6f14', 'c7f16', 'c8f18', 'c_c4f8', 'carbon_dioxide', 'carbon_tetrachloride', 'cf4', 'cfc113', 'cfc114', 'cfc115', 'cfc11', 'cfc12', 'ch2cl2', 'ch3ccl3', 'chcl3', 'halon1211', 'halon1301', 'halon2402', 'hcfc141b', 'hcfc142b', 'hcfc22', 'hfc125', 'hfc134a', 'hfc143a', 'hfc152a', 'hfc227ea', 'hfc236fa', 'hfc23', 'hfc245fa', 'hfc32', 'hfc365mfc', 'hfc4310mee', 'methane', 'methyl_bromide', 'methyl_chloride', 'nf3', 'nitrous_oxide', 'sf6', 'so2f2', 'halon1202', 'so2', 'nox', 'nox_avi', 'co', 'nmvoc', 'bc', 'nh3', 'oc', 'methane|trop_o3', 'methane|strat_h2o', 'co|trop_o3', 'nox|trop_o3', 'nmvoc|trop_o3', 'bc|bc_on_snow', 'nox_avi|contrails', 'so2|aci', 'bc|aci', 'oc|aci', 'carbon_tetrachloride|strat_o3', 'cfc113|strat_o3', 'cfc114|strat_o3', 'cfc115|strat_o3', 'cfc11|strat_o3', 'cfc12|strat_o3', 'ch3ccl3|strat_o3', 'halon1211|strat_o3', 'halon1301|strat_o3', 'halon2402|strat_o3', 'hcfc141b|strat_o3', 'hcfc142b|strat_o3', 'hcfc22|strat_o3', 'methyl_bromide|strat_o3', 'methyl_chloride|strat_o3', 'halon1202|strat_o3'] forcing agents, between 1750 and 2100...\n"
     ]
    },
    {
     "name": "stderr",
     "output_type": "stream",
     "text": [
      "100%|██████████| 350/350 [00:25<00:00, 13.97 timestep/s]\n"
     ]
    },
    {
     "name": "stdout",
     "output_type": "stream",
     "text": [
      "Integrating 10000 scenarios, 1 gas cycle parameter sets, 1 thermal response parameter sets, over ['c2f6', 'c3f8', 'c4f10', 'c5f12', 'c6f14', 'c7f16', 'c8f18', 'c_c4f8', 'carbon_dioxide', 'carbon_tetrachloride', 'cf4', 'cfc113', 'cfc114', 'cfc115', 'cfc11', 'cfc12', 'ch2cl2', 'ch3ccl3', 'chcl3', 'halon1211', 'halon1301', 'halon2402', 'hcfc141b', 'hcfc142b', 'hcfc22', 'hfc125', 'hfc134a', 'hfc143a', 'hfc152a', 'hfc227ea', 'hfc236fa', 'hfc23', 'hfc245fa', 'hfc32', 'hfc365mfc', 'hfc4310mee', 'methane', 'methyl_bromide', 'methyl_chloride', 'nf3', 'nitrous_oxide', 'sf6', 'so2f2', 'halon1202', 'so2', 'nox', 'nox_avi', 'co', 'nmvoc', 'bc', 'nh3', 'oc', 'methane|trop_o3', 'methane|strat_h2o', 'co|trop_o3', 'nox|trop_o3', 'nmvoc|trop_o3', 'bc|bc_on_snow', 'nox_avi|contrails', 'so2|aci', 'bc|aci', 'oc|aci', 'carbon_tetrachloride|strat_o3', 'cfc113|strat_o3', 'cfc114|strat_o3', 'cfc115|strat_o3', 'cfc11|strat_o3', 'cfc12|strat_o3', 'ch3ccl3|strat_o3', 'halon1211|strat_o3', 'halon1301|strat_o3', 'halon2402|strat_o3', 'hcfc141b|strat_o3', 'hcfc142b|strat_o3', 'hcfc22|strat_o3', 'methyl_bromide|strat_o3', 'methyl_chloride|strat_o3', 'halon1202|strat_o3'] forcing agents, between 1750 and 2100...\n"
     ]
    },
    {
     "name": "stderr",
     "output_type": "stream",
     "text": [
      "100%|██████████| 350/350 [00:25<00:00, 13.99 timestep/s]\n"
     ]
    },
    {
     "name": "stdout",
     "output_type": "stream",
     "text": [
      "Integrating 10000 scenarios, 1 gas cycle parameter sets, 1 thermal response parameter sets, over ['c2f6', 'c3f8', 'c4f10', 'c5f12', 'c6f14', 'c7f16', 'c8f18', 'c_c4f8', 'carbon_dioxide', 'carbon_tetrachloride', 'cf4', 'cfc113', 'cfc114', 'cfc115', 'cfc11', 'cfc12', 'ch2cl2', 'ch3ccl3', 'chcl3', 'halon1211', 'halon1301', 'halon2402', 'hcfc141b', 'hcfc142b', 'hcfc22', 'hfc125', 'hfc134a', 'hfc143a', 'hfc152a', 'hfc227ea', 'hfc236fa', 'hfc23', 'hfc245fa', 'hfc32', 'hfc365mfc', 'hfc4310mee', 'methane', 'methyl_bromide', 'methyl_chloride', 'nf3', 'nitrous_oxide', 'sf6', 'so2f2', 'halon1202', 'so2', 'nox', 'nox_avi', 'co', 'nmvoc', 'bc', 'nh3', 'oc', 'methane|trop_o3', 'methane|strat_h2o', 'co|trop_o3', 'nox|trop_o3', 'nmvoc|trop_o3', 'bc|bc_on_snow', 'nox_avi|contrails', 'so2|aci', 'bc|aci', 'oc|aci', 'carbon_tetrachloride|strat_o3', 'cfc113|strat_o3', 'cfc114|strat_o3', 'cfc115|strat_o3', 'cfc11|strat_o3', 'cfc12|strat_o3', 'ch3ccl3|strat_o3', 'halon1211|strat_o3', 'halon1301|strat_o3', 'halon2402|strat_o3', 'hcfc141b|strat_o3', 'hcfc142b|strat_o3', 'hcfc22|strat_o3', 'methyl_bromide|strat_o3', 'methyl_chloride|strat_o3', 'halon1202|strat_o3'] forcing agents, between 1750 and 2100...\n"
     ]
    },
    {
     "name": "stderr",
     "output_type": "stream",
     "text": [
      "100%|██████████| 350/350 [00:24<00:00, 14.01 timestep/s]\n"
     ]
    },
    {
     "name": "stdout",
     "output_type": "stream",
     "text": [
      "Integrating 10000 scenarios, 1 gas cycle parameter sets, 1 thermal response parameter sets, over ['c2f6', 'c3f8', 'c4f10', 'c5f12', 'c6f14', 'c7f16', 'c8f18', 'c_c4f8', 'carbon_dioxide', 'carbon_tetrachloride', 'cf4', 'cfc113', 'cfc114', 'cfc115', 'cfc11', 'cfc12', 'ch2cl2', 'ch3ccl3', 'chcl3', 'halon1211', 'halon1301', 'halon2402', 'hcfc141b', 'hcfc142b', 'hcfc22', 'hfc125', 'hfc134a', 'hfc143a', 'hfc152a', 'hfc227ea', 'hfc236fa', 'hfc23', 'hfc245fa', 'hfc32', 'hfc365mfc', 'hfc4310mee', 'methane', 'methyl_bromide', 'methyl_chloride', 'nf3', 'nitrous_oxide', 'sf6', 'so2f2', 'halon1202', 'so2', 'nox', 'nox_avi', 'co', 'nmvoc', 'bc', 'nh3', 'oc', 'methane|trop_o3', 'methane|strat_h2o', 'co|trop_o3', 'nox|trop_o3', 'nmvoc|trop_o3', 'bc|bc_on_snow', 'nox_avi|contrails', 'so2|aci', 'bc|aci', 'oc|aci', 'carbon_tetrachloride|strat_o3', 'cfc113|strat_o3', 'cfc114|strat_o3', 'cfc115|strat_o3', 'cfc11|strat_o3', 'cfc12|strat_o3', 'ch3ccl3|strat_o3', 'halon1211|strat_o3', 'halon1301|strat_o3', 'halon2402|strat_o3', 'hcfc141b|strat_o3', 'hcfc142b|strat_o3', 'hcfc22|strat_o3', 'methyl_bromide|strat_o3', 'methyl_chloride|strat_o3', 'halon1202|strat_o3'] forcing agents, between 1750 and 2100...\n"
     ]
    },
    {
     "name": "stderr",
     "output_type": "stream",
     "text": [
      "100%|██████████| 350/350 [00:25<00:00, 13.99 timestep/s]\n"
     ]
    },
    {
     "name": "stdout",
     "output_type": "stream",
     "text": [
      "Integrating 10000 scenarios, 1 gas cycle parameter sets, 1 thermal response parameter sets, over ['c2f6', 'c3f8', 'c4f10', 'c5f12', 'c6f14', 'c7f16', 'c8f18', 'c_c4f8', 'carbon_dioxide', 'carbon_tetrachloride', 'cf4', 'cfc113', 'cfc114', 'cfc115', 'cfc11', 'cfc12', 'ch2cl2', 'ch3ccl3', 'chcl3', 'halon1211', 'halon1301', 'halon2402', 'hcfc141b', 'hcfc142b', 'hcfc22', 'hfc125', 'hfc134a', 'hfc143a', 'hfc152a', 'hfc227ea', 'hfc236fa', 'hfc23', 'hfc245fa', 'hfc32', 'hfc365mfc', 'hfc4310mee', 'methane', 'methyl_bromide', 'methyl_chloride', 'nf3', 'nitrous_oxide', 'sf6', 'so2f2', 'halon1202', 'so2', 'nox', 'nox_avi', 'co', 'nmvoc', 'bc', 'nh3', 'oc', 'methane|trop_o3', 'methane|strat_h2o', 'co|trop_o3', 'nox|trop_o3', 'nmvoc|trop_o3', 'bc|bc_on_snow', 'nox_avi|contrails', 'so2|aci', 'bc|aci', 'oc|aci', 'carbon_tetrachloride|strat_o3', 'cfc113|strat_o3', 'cfc114|strat_o3', 'cfc115|strat_o3', 'cfc11|strat_o3', 'cfc12|strat_o3', 'ch3ccl3|strat_o3', 'halon1211|strat_o3', 'halon1301|strat_o3', 'halon2402|strat_o3', 'hcfc141b|strat_o3', 'hcfc142b|strat_o3', 'hcfc22|strat_o3', 'methyl_bromide|strat_o3', 'methyl_chloride|strat_o3', 'halon1202|strat_o3'] forcing agents, between 1750 and 2100...\n"
     ]
    },
    {
     "name": "stderr",
     "output_type": "stream",
     "text": [
      "100%|██████████| 350/350 [00:24<00:00, 14.01 timestep/s]\n"
     ]
    },
    {
     "name": "stdout",
     "output_type": "stream",
     "text": [
      "Integrating 10000 scenarios, 1 gas cycle parameter sets, 1 thermal response parameter sets, over ['c2f6', 'c3f8', 'c4f10', 'c5f12', 'c6f14', 'c7f16', 'c8f18', 'c_c4f8', 'carbon_dioxide', 'carbon_tetrachloride', 'cf4', 'cfc113', 'cfc114', 'cfc115', 'cfc11', 'cfc12', 'ch2cl2', 'ch3ccl3', 'chcl3', 'halon1211', 'halon1301', 'halon2402', 'hcfc141b', 'hcfc142b', 'hcfc22', 'hfc125', 'hfc134a', 'hfc143a', 'hfc152a', 'hfc227ea', 'hfc236fa', 'hfc23', 'hfc245fa', 'hfc32', 'hfc365mfc', 'hfc4310mee', 'methane', 'methyl_bromide', 'methyl_chloride', 'nf3', 'nitrous_oxide', 'sf6', 'so2f2', 'halon1202', 'so2', 'nox', 'nox_avi', 'co', 'nmvoc', 'bc', 'nh3', 'oc', 'methane|trop_o3', 'methane|strat_h2o', 'co|trop_o3', 'nox|trop_o3', 'nmvoc|trop_o3', 'bc|bc_on_snow', 'nox_avi|contrails', 'so2|aci', 'bc|aci', 'oc|aci', 'carbon_tetrachloride|strat_o3', 'cfc113|strat_o3', 'cfc114|strat_o3', 'cfc115|strat_o3', 'cfc11|strat_o3', 'cfc12|strat_o3', 'ch3ccl3|strat_o3', 'halon1211|strat_o3', 'halon1301|strat_o3', 'halon2402|strat_o3', 'hcfc141b|strat_o3', 'hcfc142b|strat_o3', 'hcfc22|strat_o3', 'methyl_bromide|strat_o3', 'methyl_chloride|strat_o3', 'halon1202|strat_o3'] forcing agents, between 1750 and 2100...\n"
     ]
    },
    {
     "name": "stderr",
     "output_type": "stream",
     "text": [
      "100%|██████████| 350/350 [00:24<00:00, 14.02 timestep/s]\n"
     ]
    },
    {
     "name": "stdout",
     "output_type": "stream",
     "text": [
      "Integrating 10000 scenarios, 1 gas cycle parameter sets, 1 thermal response parameter sets, over ['c2f6', 'c3f8', 'c4f10', 'c5f12', 'c6f14', 'c7f16', 'c8f18', 'c_c4f8', 'carbon_dioxide', 'carbon_tetrachloride', 'cf4', 'cfc113', 'cfc114', 'cfc115', 'cfc11', 'cfc12', 'ch2cl2', 'ch3ccl3', 'chcl3', 'halon1211', 'halon1301', 'halon2402', 'hcfc141b', 'hcfc142b', 'hcfc22', 'hfc125', 'hfc134a', 'hfc143a', 'hfc152a', 'hfc227ea', 'hfc236fa', 'hfc23', 'hfc245fa', 'hfc32', 'hfc365mfc', 'hfc4310mee', 'methane', 'methyl_bromide', 'methyl_chloride', 'nf3', 'nitrous_oxide', 'sf6', 'so2f2', 'halon1202', 'so2', 'nox', 'nox_avi', 'co', 'nmvoc', 'bc', 'nh3', 'oc', 'methane|trop_o3', 'methane|strat_h2o', 'co|trop_o3', 'nox|trop_o3', 'nmvoc|trop_o3', 'bc|bc_on_snow', 'nox_avi|contrails', 'so2|aci', 'bc|aci', 'oc|aci', 'carbon_tetrachloride|strat_o3', 'cfc113|strat_o3', 'cfc114|strat_o3', 'cfc115|strat_o3', 'cfc11|strat_o3', 'cfc12|strat_o3', 'ch3ccl3|strat_o3', 'halon1211|strat_o3', 'halon1301|strat_o3', 'halon2402|strat_o3', 'hcfc141b|strat_o3', 'hcfc142b|strat_o3', 'hcfc22|strat_o3', 'methyl_bromide|strat_o3', 'methyl_chloride|strat_o3', 'halon1202|strat_o3'] forcing agents, between 1750 and 2100...\n"
     ]
    },
    {
     "name": "stderr",
     "output_type": "stream",
     "text": [
      "100%|██████████| 350/350 [00:25<00:00, 13.70 timestep/s]\n"
     ]
    },
    {
     "name": "stdout",
     "output_type": "stream",
     "text": [
      "Integrating 10000 scenarios, 1 gas cycle parameter sets, 1 thermal response parameter sets, over ['c2f6', 'c3f8', 'c4f10', 'c5f12', 'c6f14', 'c7f16', 'c8f18', 'c_c4f8', 'carbon_dioxide', 'carbon_tetrachloride', 'cf4', 'cfc113', 'cfc114', 'cfc115', 'cfc11', 'cfc12', 'ch2cl2', 'ch3ccl3', 'chcl3', 'halon1211', 'halon1301', 'halon2402', 'hcfc141b', 'hcfc142b', 'hcfc22', 'hfc125', 'hfc134a', 'hfc143a', 'hfc152a', 'hfc227ea', 'hfc236fa', 'hfc23', 'hfc245fa', 'hfc32', 'hfc365mfc', 'hfc4310mee', 'methane', 'methyl_bromide', 'methyl_chloride', 'nf3', 'nitrous_oxide', 'sf6', 'so2f2', 'halon1202', 'so2', 'nox', 'nox_avi', 'co', 'nmvoc', 'bc', 'nh3', 'oc', 'methane|trop_o3', 'methane|strat_h2o', 'co|trop_o3', 'nox|trop_o3', 'nmvoc|trop_o3', 'bc|bc_on_snow', 'nox_avi|contrails', 'so2|aci', 'bc|aci', 'oc|aci', 'carbon_tetrachloride|strat_o3', 'cfc113|strat_o3', 'cfc114|strat_o3', 'cfc115|strat_o3', 'cfc11|strat_o3', 'cfc12|strat_o3', 'ch3ccl3|strat_o3', 'halon1211|strat_o3', 'halon1301|strat_o3', 'halon2402|strat_o3', 'hcfc141b|strat_o3', 'hcfc142b|strat_o3', 'hcfc22|strat_o3', 'methyl_bromide|strat_o3', 'methyl_chloride|strat_o3', 'halon1202|strat_o3'] forcing agents, between 1750 and 2100...\n"
     ]
    },
    {
     "name": "stderr",
     "output_type": "stream",
     "text": [
      "100%|██████████| 350/350 [00:25<00:00, 13.71 timestep/s]\n"
     ]
    }
   ],
   "source": [
    "## run a total of 1,000,000 ensembles:\n",
    "results = []\n",
    "for i in np.arange(100):\n",
    "    results+=[run_CONSTRAIN(10000,mem_names=['mem'+str(x) for x in np.arange(10000*(i),10000*(i+1))])]"
   ]
  },
  {
   "cell_type": "code",
   "execution_count": 7,
   "metadata": {},
   "outputs": [],
   "source": [
    "FULL_results = pd.concat(results,axis=1).apply(pd.to_numeric).dropna(axis=1)"
   ]
  },
  {
   "cell_type": "code",
   "execution_count": null,
   "metadata": {},
   "outputs": [],
   "source": [
    "FULL_results.to_csv('/home/leachl/Documents/Simple_models/FaIR_v2-0_paper/NROY_results/FULL.csv')"
   ]
  },
  {
   "cell_type": "markdown",
   "metadata": {},
   "source": [
    "## Analysis of output"
   ]
  },
  {
   "cell_type": "code",
   "execution_count": 2,
   "metadata": {},
   "outputs": [],
   "source": [
    "ssp_data = []\n",
    "for ssp in [x for x in RCMIP_emms.index.levels[1].unique() if 'ssp' in x]:\n",
    "    ssp_data += [pd.read_hdf('/home/leachl/Documents/Simple_models/FaIR_v2-0_paper/NROY_results/'+ssp+'.h5')]\n",
    "    \n",
    "ssp_data = pd.concat(ssp_data,axis=1,keys=[x for x in RCMIP_emms.index.levels[1].unique() if 'ssp' in x])"
   ]
  },
  {
   "cell_type": "code",
   "execution_count": 3,
   "metadata": {},
   "outputs": [],
   "source": [
    "FULL_results = pd.read_hdf('/home/leachl/Documents/Simple_models/FaIR_v2-0_paper/NROY_results/FULL_v1.h5')"
   ]
  },
  {
   "cell_type": "code",
   "execution_count": 4,
   "metadata": {},
   "outputs": [
    {
     "name": "stderr",
     "output_type": "stream",
     "text": [
      "/home/leachl/miniconda3/lib/python3.7/site-packages/ipykernel/zmqshell.py:536: PerformanceWarning: indexing past lexsort depth may impact performance.\n",
      "  return super(ZMQInteractiveShell, self).run_cell(*args, **kwargs)\n",
      "/home/leachl/miniconda3/lib/python3.7/site-packages/pandas/core/indexing.py:1762: PerformanceWarning: indexing past lexsort depth may impact performance.\n",
      "  return self._getitem_tuple(key)\n"
     ]
    }
   ],
   "source": [
    "## obtain some cmip6 parameter ranges for tas / ECS / TCR / aer_2019\n",
    "\n",
    "## get the actual historical / ssp data:\n",
    "ssp_tas = pd.read_csv('../tools/cmip6_data/ssp_tas.csv',index_col=0)\n",
    "hist_tas = pd.read_csv('../tools/cmip6_data/hist_tas.csv',index_col=0).iloc[1:]\n",
    "\n",
    "for i,x in enumerate(['source','member','variable','experiment']):\n",
    "    ssp_tas.loc[x] = [x.split('_')[i+1] for x in ssp_tas.columns]\n",
    "for i,x in enumerate(['source','member']):    \n",
    "    hist_tas.loc[x] = [x.split('_')[i+1] for x in hist_tas.columns]\n",
    "    \n",
    "\n",
    "ssp_tas=ssp_tas.T.set_index(['source','member','experiment']).T.drop('variable').apply(pd.to_numeric)\n",
    "hist_tas=hist_tas.T.set_index(['source','member']).T.apply(pd.to_numeric)\n",
    "ssp_tas['year']=[int(x) for x in ssp_tas.index]\n",
    "ssp_tas = ssp_tas.set_index('year')\n",
    "ssp_tas = ssp_tas.reindex(np.arange(1850,2301))\n",
    "\n",
    "hist_tas['year']=[int(x) for x in hist_tas.index]\n",
    "hist_tas = hist_tas.set_index('year')\n",
    "\n",
    "for modmem in hist_tas.columns:\n",
    "    if modmem in ssp_tas.columns.droplevel(-1):\n",
    "        for exp in ssp_tas.loc[1850:2014,modmem].columns:\n",
    "            ssp_tas.loc[1850:2014,(*modmem,exp)] = hist_tas.loc[1850:2014,modmem]\n",
    "            \n",
    "## response params\n",
    "CMIP6_response_params = pd.read_csv('../Parameter_Sets/CMIP6_stoch_Geoffrey_response.csv',index_col=0)\n",
    "\n",
    "def BuildMat(params):\n",
    "#     param_names = ['gamma', 'C1', 'C2', 'C3', 'kap1', 'kap2', 'kap3', 'epsilon', 'stds', 'stdx','F_2x']\n",
    "    A = np.array([[-1*params[0],0,0,0],\\\n",
    "                     [1/params[1],-1*(params[4]+params[5])/params[1],params[5]/params[1],0],\\\n",
    "                     [0,params[5]/params[2],-1*(params[5]+params[7]*params[6])/params[2],params[7]*params[6]/params[2]],\\\n",
    "                     [0,0,params[6]/params[3],-1*params[6]/params[3]]])\n",
    "    k = A.shape[0]\n",
    "    b = np.array([params[0],0,0,0]).T\n",
    "    Q = np.zeros((4,4))\n",
    "    Q[0,0] = params[8]**2\n",
    "    Q[1,1] = (params[9]/params[1])**2\n",
    "    A_d = sp.linalg.expm(A)\n",
    "    b_d = sp.linalg.solve(A, (A_d - np.identity(k)) @ b)\n",
    "    ## use Van Loan (1978) to compute the matrix exponential\n",
    "    H = np.zeros((k*2,k*2))\n",
    "    H[:k,:k] = -A\n",
    "    H[:k,k:] = Q\n",
    "    H[k:,k:] = A.T\n",
    "    G = sp.linalg.expm(H)\n",
    "    Q_d = G[k:,k:].T @ G[:k,k:]\n",
    "    C_d = np.array([[0,1,0,0],\\\n",
    "                   [1,-1*params[4],(1-params[7])*params[6],-1*(1-params[7])*params[6]]])\n",
    "    \n",
    "    return A,b,Q,A_d,b_d,Q_d,C_d\n",
    "\n",
    "def convert_geoffrey_to_FaIR(params):\n",
    "#     ['gamma', 'C1', 'C2', 'C3', 'kap1', 'kap2', 'kap3', 'epsilon', 'stds', 'stdx','F_4x']\n",
    "\n",
    "    A,b,Q,A_d,b_d,Q_d,C_d = BuildMat(params)\n",
    "    eigval,eigvec = np.linalg.eig(A[1:,1:])\n",
    "    tau = -1/eigval\n",
    "    q = tau * ( eigvec[0,:] * np.linalg.inv(eigvec)[:,0] ) / params[1]\n",
    "    \n",
    "    order = np.argsort(tau)\n",
    "    \n",
    "    return pd.DataFrame([tau[order],q[order]],index=['d','q'],columns=[1,2,3])\n",
    "\n",
    "CMIP6_response_params.loc['ECS'] = np.nan\n",
    "CMIP6_response_params.loc['TCR'] = np.nan\n",
    "for model in CMIP6_response_params.columns:\n",
    "    fair_params = pd.concat([convert_geoffrey_to_FaIR(CMIP6_response_params.loc[:'F_4x',model].values)],axis=1,keys=[model])\n",
    "    CMIP6_response_params.loc[['ECS','TCR'],model] = q_to_tcr_ecs(fair_params,F_2x = CMIP6_response_params.loc['F_2x',model]).iloc[:,0]\n",
    "CMIP6_response_params.loc['RWF'] = CMIP6_response_params.loc['TCR'] / CMIP6_response_params.loc['ECS']\n",
    "\n",
    "\n",
    "# ERFari/aci: APRP data very noisy so we use the emissions based fits:\n",
    "ERFari_params = pd.read_csv('../Parameter_Sets/CMIP6_ERFari.csv',index_col=0)\n",
    "ERFaci_params = pd.read_csv('../Parameter_Sets/CMIP6_ERFaci.csv',index_col=0)\n",
    "\n",
    "ssp_emms = RCMIP_to_GIR_input_emms('ssp245').interpolate().reindex(np.arange(1750,2101))\n",
    "ssp_emms -= ssp_emms.loc[1750] # emissions relative to 1750 values\n",
    "\n",
    "CMIP6_aer_forc_2019 = pd.DataFrame(index=ERFari_params.index,columns=['aci','ari','aer'])\n",
    "\n",
    "for model in CMIP6_aer_forc_2019.index:\n",
    "    CMIP6_aer_forc_2019.loc[model,'ari'] = ssp_emms.loc[2019,'so2']*ERFari_params.loc[model,'so2'] + ssp_emms.loc[2019,'bc']*ERFari_params.loc[model,'bc'] + ssp_emms.loc[2019,'oc']*ERFari_params.loc[model,'oc']\n",
    "    CMIP6_aer_forc_2019.loc[model,'aci'] = ERFaci_params.loc[model,'beta'] * np.log(1+ssp_emms.loc[2019,'so2']/ERFaci_params.loc[model,'s']) + ERFaci_params.loc[model,'alpha']*(ssp_emms.loc[2019,'bc']+ssp_emms.loc[2019,'oc'])\n",
    "    CMIP6_aer_forc_2019.loc[model,'aer'] = CMIP6_aer_forc_2019.loc[model,'aci'] + CMIP6_aer_forc_2019.loc[model,'ari']"
   ]
  },
  {
   "cell_type": "code",
   "execution_count": 5,
   "metadata": {},
   "outputs": [],
   "source": [
    "baseline = [1861,1880]\n",
    "\n",
    "plot_cmip6_tas2100 = ssp_tas.loc[:].xs('ssp245',axis=1,level=-1).drop(('KACE-1-0-G','r3i1p1f1'),axis=1).groupby(level=0,axis=1).mean()\n",
    "plot_cmip6_tas2100 = plot_cmip6_tas2100 - plot_cmip6_tas2100.loc[baseline[0]:baseline[1]].mean()"
   ]
  },
  {
   "cell_type": "code",
   "execution_count": 6,
   "metadata": {},
   "outputs": [],
   "source": [
    "# ssp_tas.loc[:,ssp_tas.loc[1850]<280]\n",
    "# CMIP6_response_params.loc[['ECS','TCR']].T"
   ]
  },
  {
   "cell_type": "code",
   "execution_count": 7,
   "metadata": {},
   "outputs": [],
   "source": [
    "def custom_kde(x,y):\n",
    "    \n",
    "    ## first remove the FAR outliers (5-sigma) from x and y in turn\n",
    "    \n",
    "    x_rank = np.argsort(x)\n",
    "    x = x[x_rank]\n",
    "    y = y[x_rank]\n",
    "    num_outlier_high = -1*(x>(x.mean()+5.2*x.std())).sum()\n",
    "    num_outlier_low = (x<(x.mean()-5.2*x.std())).sum()\n",
    "    if not num_outlier_high:\n",
    "        num_outlier_high = None\n",
    "    if not num_outlier_low:\n",
    "        num_outlier_low = None\n",
    "    x = x[num_outlier_low:num_outlier_high]\n",
    "    y = y[num_outlier_low:num_outlier_high]\n",
    "\n",
    "\n",
    "    y_rank = np.argsort(y)\n",
    "    x = x[y_rank]\n",
    "    y = y[y_rank]\n",
    "    num_outlier_high = -1*(y>(y.mean()+5.2*y.std())).sum()\n",
    "    num_outlier_low = (y<(y.mean()-5.2*y.std())).sum()\n",
    "    if not num_outlier_high:\n",
    "        num_outlier_high = None\n",
    "    if not num_outlier_low:\n",
    "        num_outlier_low = None\n",
    "    x = x[num_outlier_low:num_outlier_high]\n",
    "    y = y[num_outlier_low:num_outlier_high]\n",
    "    \n",
    "    gridsize=100\n",
    "    k = sp.stats.kde.gaussian_kde([x,y])\n",
    "    xi,yi = np.mgrid[x.min()-0.5:x.max()+0.5:gridsize*1j,y.min()-0.5:y.max()+0.5:gridsize*1j]\n",
    "    zi = k(np.vstack([xi.flatten(),yi.flatten()])).reshape(xi.shape)\n",
    "    dens_vals = np.linspace(0,zi.max(),gridsize)\n",
    "    zi_int = ((zi>=dens_vals[:,None,None])*zi).sum(axis=(1,2))/zi.sum()\n",
    "    zi_int_to_dens = sp.interpolate.interp1d(zi_int,dens_vals)\n",
    "    dens_contours = zi_int_to_dens([0.95,0.67,0.33,0.05])\n",
    "    \n",
    "    return xi,yi,zi,dens_contours"
   ]
  },
  {
   "cell_type": "code",
   "execution_count": 29,
   "metadata": {},
   "outputs": [
    {
     "name": "stdout",
     "output_type": "stream",
     "text": [
      "\n"
     ]
    },
    {
     "data": {
      "image/png": "[encoded data removed]",
      "text/plain": [
       "<Figure size 1440x1440 with 36 Axes>"
      ]
     },
     "metadata": {
      "needs_background": "light"
     },
     "output_type": "display_data"
    }
   ],
   "source": [
    "## create a correlation matrix plot:\n",
    "\n",
    "cor_vars = ['ECS','TCR','T_10s','T_EoC','aer_2019','anthro_2019']\n",
    "\n",
    "map_cor_vars = dict(zip(cor_vars,['ECS / K','TCR / K','2010-2019 warming / K','2081-2100 warming / K','2019 aerosol ERF / W m$^{-2}$','2019 anthropogenic ERF / W m$^{-2}$']))\n",
    "\n",
    "fig,ax = plt.subplots(len(cor_vars),len(cor_vars),figsize=(20,20))\n",
    "\n",
    "[ax[i,j].set_visible(False) for i in np.arange(len(cor_vars)) for j in np.arange(len(cor_vars)) if j>i]\n",
    "\n",
    "## plot the distributions:\n",
    "\n",
    "for i in np.arange(len(cor_vars)):\n",
    "    ax[i,i].hist(FULL_results.loc[cor_vars[i]].values.flatten(),histtype='step',color='lightgrey',density=True,lw=1.5)\n",
    "    ax[i,i].hist(FULL_results.loc[cor_vars[i],FULL_results.loc['constrain_level'].astype(bool)].values.flatten(),histtype='step',color='red',density=True,lw=1.5,alpha=0.3)\n",
    "    ax[i,i].hist(FULL_results.loc[cor_vars[i],FULL_results.loc['constrain_multi'].astype(bool)].values.flatten(),histtype='step',color='k',density=True,lw=1.5)\n",
    "    \n",
    "    \n",
    "## do some kde plots\n",
    "import multiprocessing\n",
    "def kde_wrapper(i,j,constrain):\n",
    "    if constrain:\n",
    "        result = custom_kde(FULL_results.loc[cor_vars[j],FULL_results.loc[constrain].astype(bool)].values.flatten(),FULL_results.loc[cor_vars[i],FULL_results.loc[constrain].astype(bool)].values.flatten())\n",
    "    else:\n",
    "        result = custom_kde(FULL_results.loc[cor_vars[j]].values.flatten(),FULL_results.loc[cor_vars[i]].values.flatten())\n",
    "        \n",
    "    return result\n",
    "        \n",
    "# derive the kdes:\n",
    "        \n",
    "# P1=multiprocessing.Pool(processes=4)\n",
    "plot_indices = [[i,j,False] for i in np.arange(len(cor_vars)) for j in np.arange(len(cor_vars)) if j<i]\n",
    "# kde_FULL = P1.starmap(kde_wrapper,plot_indices)\n",
    "# plot_indices = [[i,j,'constrain_level'] for i in np.arange(len(cor_vars)) for j in np.arange(len(cor_vars)) if j<i]\n",
    "# kde_level = P1.starmap(kde_wrapper,plot_indices)\n",
    "# plot_indices = [[i,j,'constrain_multi'] for i in np.arange(len(cor_vars)) for j in np.arange(len(cor_vars)) if j<i]\n",
    "# kde_constrain = P1.starmap(kde_wrapper,plot_indices)\n",
    "# P1.close()\n",
    "\n",
    "# plot the kdes:\n",
    "[ax[x[0],x[1]].contour(kde_FULL[i][0],kde_FULL[i][1],kde_FULL[i][2],kde_FULL[i][3],colors='lightgrey') for i,x in enumerate(plot_indices)]\n",
    "[ax[x[0],x[1]].contour(kde_level[i][0],kde_level[i][1],kde_level[i][2],kde_level[i][3],colors='red',alpha=0.3) for i,x in enumerate(plot_indices)]\n",
    "[ax[x[0],x[1]].contour(kde_constrain[i][0],kde_constrain[i][1],kde_constrain[i][2],kde_constrain[i][3],colors='k') for i,x in enumerate(plot_indices)]\n",
    "\n",
    "# plot CMIP6 samples:\n",
    "cmip6_samples = [CMIP6_response_params.loc['ECS'],CMIP6_response_params.loc['TCR'],plot_cmip6_tas2100.loc[2010:2019].mean(),plot_cmip6_tas2100.loc[2081:2100].mean(),CMIP6_aer_forc_2019.aer]\n",
    "for i in np.arange(5):\n",
    "    for j in np.arange(5):\n",
    "        if j<i:\n",
    "            intersection = list(set(cmip6_samples[i].index).intersection(set(cmip6_samples[j].index)))\n",
    "            ax[i,j].plot(cmip6_samples[j].loc[intersection],cmip6_samples[i].loc[intersection],'x',color='purple',ms=3,zorder=0)\n",
    "\n",
    "axes_lims = [[0,10],[0,5.5],[0,2],[0,7],[-4,0.5],[-1,5]]\n",
    "\n",
    "[sn.rugplot(cmip6_samples[i],ax=ax[i,i],color='purple',lw=0.5) for i in np.arange(5)]\n",
    "\n",
    "[ax[i,j].set_xlim(axes_lims[j]) for i in np.arange(len(cor_vars)) for j in np.arange(len(cor_vars))]\n",
    "[ax[i,j].set_ylim(axes_lims[i]) for i in np.arange(len(cor_vars)) for j in np.arange(len(cor_vars)) if j<i]\n",
    "[ax[i,j].set_ylabel(map_cor_vars[cor_vars[i]]) for i in np.arange(len(cor_vars)) for j in np.arange(len(cor_vars)) if j==0]\n",
    "[ax[i,j].set_xlabel(map_cor_vars[cor_vars[j]]) for i in np.arange(len(cor_vars)) for j in np.arange(len(cor_vars)) if i==5]\n",
    "\n",
    "## diagonal axes\n",
    "[ax[i,i].spines[pos].set_visible(False) for i in np.arange(len(cor_vars)) for pos in ['top','right','left']]\n",
    "[ax[i,i].tick_params(left=False,labelleft=False) for i in np.arange(len(cor_vars))]\n",
    "\n",
    "[ax[i,j].spines[pos].set_visible(False) for i in np.arange(len(cor_vars)) for j in np.arange(len(cor_vars)) for pos in ['top','right']]\n",
    "[ax[i,j].tick_params(labelleft=False) for i in np.arange(len(cor_vars)) for j in np.arange(len(cor_vars)) if j!=0]\n",
    "[ax[i,j].tick_params(labelbottom=False) for i in np.arange(len(cor_vars)) for j in np.arange(len(cor_vars)) if i!=5]\n",
    "print()"
   ]
  },
  {
   "cell_type": "code",
   "execution_count": 30,
   "metadata": {},
   "outputs": [
    {
     "data": {
      "text/plain": [
       "[None, None, None]"
      ]
     },
     "execution_count": 30,
     "metadata": {},
     "output_type": "execute_result"
    }
   ],
   "source": [
    "[fig.savefig('/home/leachl/Documents/Simple_models/FaIR_v2-0_paper/Plots/NROY_corr_1e6mem.'+x,bbox_inches='tight',dpi=600) for x in ['png','pdf','svg']]"
   ]
  },
  {
   "cell_type": "markdown",
   "metadata": {},
   "source": [
    "#### NROY targets (5-[16]-50-[84]-95%):\n",
    "\n",
    "- ECS: 2 - 2.5 - 3 - 4 - 5\n",
    "- TCR: 1.2 - 1.4 - 1.8 - 2.2 - 2.4\n",
    "- GSAT: 1.1K 1850-1900 to 2009-2018\n",
    "ERFs\n",
    "- co2: 1.89 - 2.15 - 2.41\n",
    "- methane: 0.43 - 0.54 - 0.65\n",
    "- trop_o3: 0.18 - 0.35 - 0.52\n",
    "- strat_o3: -0.15 -0.05 0.00\n",
    "- ari (Smith): -0.60 -0.45 -0.27 -0.14 -0.07\n",
    "- aci (Smith): -1.17 -0.93 -0.59 -0.29 -0.13\n",
    "- anthro_erf: 1.56 - 2.53 - 3.32"
   ]
  },
  {
   "cell_type": "code",
   "execution_count": 14,
   "metadata": {},
   "outputs": [
    {
     "data": {
      "text/html": [
       "<div>\n",
       "<style scoped>\n",
       "    .dataframe tbody tr th:only-of-type {\n",
       "        vertical-align: middle;\n",
       "    }\n",
       "\n",
       "    .dataframe tbody tr th {\n",
       "        vertical-align: top;\n",
       "    }\n",
       "\n",
       "    .dataframe thead tr th {\n",
       "        text-align: left;\n",
       "    }\n",
       "</style>\n",
       "<table border=\"1\" class=\"dataframe\">\n",
       "  <thead>\n",
       "    <tr>\n",
       "      <th></th>\n",
       "      <th colspan=\"5\" halign=\"left\">FULL</th>\n",
       "      <th colspan=\"5\" halign=\"left\">CONSTRAINED</th>\n",
       "    </tr>\n",
       "    <tr>\n",
       "      <th></th>\n",
       "      <th>5%</th>\n",
       "      <th>16.6%</th>\n",
       "      <th>50%</th>\n",
       "      <th>83.3%</th>\n",
       "      <th>95%</th>\n",
       "      <th>5%</th>\n",
       "      <th>16.6%</th>\n",
       "      <th>50%</th>\n",
       "      <th>83.3%</th>\n",
       "      <th>95%</th>\n",
       "    </tr>\n",
       "  </thead>\n",
       "  <tbody>\n",
       "    <tr>\n",
       "      <th>ECS</th>\n",
       "      <td>1.91</td>\n",
       "      <td>2.55</td>\n",
       "      <td>3.73</td>\n",
       "      <td>5.43</td>\n",
       "      <td>7.26</td>\n",
       "      <td>1.94</td>\n",
       "      <td>2.36</td>\n",
       "      <td>3.17</td>\n",
       "      <td>4.45</td>\n",
       "      <td>5.84</td>\n",
       "    </tr>\n",
       "    <tr>\n",
       "      <th>TCR</th>\n",
       "      <td>1.18</td>\n",
       "      <td>1.53</td>\n",
       "      <td>2.06</td>\n",
       "      <td>2.62</td>\n",
       "      <td>3.02</td>\n",
       "      <td>1.25</td>\n",
       "      <td>1.45</td>\n",
       "      <td>1.77</td>\n",
       "      <td>2.13</td>\n",
       "      <td>2.41</td>\n",
       "    </tr>\n",
       "    <tr>\n",
       "      <th>carbon_dioxide_2019</th>\n",
       "      <td>1.62</td>\n",
       "      <td>1.80</td>\n",
       "      <td>2.08</td>\n",
       "      <td>2.37</td>\n",
       "      <td>2.58</td>\n",
       "      <td>1.67</td>\n",
       "      <td>1.84</td>\n",
       "      <td>2.11</td>\n",
       "      <td>2.38</td>\n",
       "      <td>2.59</td>\n",
       "    </tr>\n",
       "    <tr>\n",
       "      <th>methane_2019</th>\n",
       "      <td>0.45</td>\n",
       "      <td>0.53</td>\n",
       "      <td>0.63</td>\n",
       "      <td>0.73</td>\n",
       "      <td>0.81</td>\n",
       "      <td>0.45</td>\n",
       "      <td>0.52</td>\n",
       "      <td>0.63</td>\n",
       "      <td>0.73</td>\n",
       "      <td>0.80</td>\n",
       "    </tr>\n",
       "    <tr>\n",
       "      <th>nitrous_oxide_2019</th>\n",
       "      <td>0.16</td>\n",
       "      <td>0.18</td>\n",
       "      <td>0.20</td>\n",
       "      <td>0.22</td>\n",
       "      <td>0.24</td>\n",
       "      <td>0.16</td>\n",
       "      <td>0.18</td>\n",
       "      <td>0.20</td>\n",
       "      <td>0.22</td>\n",
       "      <td>0.24</td>\n",
       "    </tr>\n",
       "    <tr>\n",
       "      <th>other_wmghgs_2019</th>\n",
       "      <td>0.29</td>\n",
       "      <td>0.32</td>\n",
       "      <td>0.36</td>\n",
       "      <td>0.40</td>\n",
       "      <td>0.43</td>\n",
       "      <td>0.29</td>\n",
       "      <td>0.32</td>\n",
       "      <td>0.36</td>\n",
       "      <td>0.40</td>\n",
       "      <td>0.43</td>\n",
       "    </tr>\n",
       "    <tr>\n",
       "      <th>trop_o3_2019</th>\n",
       "      <td>0.20</td>\n",
       "      <td>0.28</td>\n",
       "      <td>0.40</td>\n",
       "      <td>0.51</td>\n",
       "      <td>0.59</td>\n",
       "      <td>0.20</td>\n",
       "      <td>0.28</td>\n",
       "      <td>0.39</td>\n",
       "      <td>0.51</td>\n",
       "      <td>0.59</td>\n",
       "    </tr>\n",
       "    <tr>\n",
       "      <th>strat_o3_2019</th>\n",
       "      <td>-0.14</td>\n",
       "      <td>-0.10</td>\n",
       "      <td>-0.05</td>\n",
       "      <td>0.01</td>\n",
       "      <td>0.05</td>\n",
       "      <td>-0.14</td>\n",
       "      <td>-0.10</td>\n",
       "      <td>-0.05</td>\n",
       "      <td>0.01</td>\n",
       "      <td>0.05</td>\n",
       "    </tr>\n",
       "    <tr>\n",
       "      <th>strat_h2o_2019</th>\n",
       "      <td>0.02</td>\n",
       "      <td>0.04</td>\n",
       "      <td>0.06</td>\n",
       "      <td>0.09</td>\n",
       "      <td>0.11</td>\n",
       "      <td>0.02</td>\n",
       "      <td>0.04</td>\n",
       "      <td>0.06</td>\n",
       "      <td>0.09</td>\n",
       "      <td>0.11</td>\n",
       "    </tr>\n",
       "    <tr>\n",
       "      <th>GHG_2019</th>\n",
       "      <td>3.14</td>\n",
       "      <td>3.36</td>\n",
       "      <td>3.69</td>\n",
       "      <td>4.02</td>\n",
       "      <td>4.27</td>\n",
       "      <td>3.18</td>\n",
       "      <td>3.39</td>\n",
       "      <td>3.71</td>\n",
       "      <td>4.03</td>\n",
       "      <td>4.27</td>\n",
       "    </tr>\n",
       "    <tr>\n",
       "      <th>ari_2019</th>\n",
       "      <td>-0.59</td>\n",
       "      <td>-0.46</td>\n",
       "      <td>-0.30</td>\n",
       "      <td>-0.14</td>\n",
       "      <td>-0.02</td>\n",
       "      <td>-0.58</td>\n",
       "      <td>-0.46</td>\n",
       "      <td>-0.31</td>\n",
       "      <td>-0.16</td>\n",
       "      <td>-0.05</td>\n",
       "    </tr>\n",
       "    <tr>\n",
       "      <th>aci_2019</th>\n",
       "      <td>-2.26</td>\n",
       "      <td>-1.46</td>\n",
       "      <td>-0.69</td>\n",
       "      <td>-0.26</td>\n",
       "      <td>-0.05</td>\n",
       "      <td>-1.25</td>\n",
       "      <td>-1.00</td>\n",
       "      <td>-0.63</td>\n",
       "      <td>-0.30</td>\n",
       "      <td>-0.11</td>\n",
       "    </tr>\n",
       "    <tr>\n",
       "      <th>aer_2019</th>\n",
       "      <td>-2.59</td>\n",
       "      <td>-1.79</td>\n",
       "      <td>-1.00</td>\n",
       "      <td>-0.52</td>\n",
       "      <td>-0.26</td>\n",
       "      <td>-1.56</td>\n",
       "      <td>-1.32</td>\n",
       "      <td>-0.95</td>\n",
       "      <td>-0.60</td>\n",
       "      <td>-0.37</td>\n",
       "    </tr>\n",
       "    <tr>\n",
       "      <th>bc_on_snow_2019</th>\n",
       "      <td>0.04</td>\n",
       "      <td>0.05</td>\n",
       "      <td>0.09</td>\n",
       "      <td>0.13</td>\n",
       "      <td>0.18</td>\n",
       "      <td>0.04</td>\n",
       "      <td>0.05</td>\n",
       "      <td>0.08</td>\n",
       "      <td>0.13</td>\n",
       "      <td>0.18</td>\n",
       "    </tr>\n",
       "    <tr>\n",
       "      <th>contrails_2019</th>\n",
       "      <td>0.01</td>\n",
       "      <td>0.02</td>\n",
       "      <td>0.04</td>\n",
       "      <td>0.06</td>\n",
       "      <td>0.07</td>\n",
       "      <td>0.01</td>\n",
       "      <td>0.02</td>\n",
       "      <td>0.04</td>\n",
       "      <td>0.06</td>\n",
       "      <td>0.07</td>\n",
       "    </tr>\n",
       "    <tr>\n",
       "      <th>anthro_2019</th>\n",
       "      <td>0.90</td>\n",
       "      <td>1.73</td>\n",
       "      <td>2.59</td>\n",
       "      <td>3.22</td>\n",
       "      <td>3.63</td>\n",
       "      <td>1.98</td>\n",
       "      <td>2.25</td>\n",
       "      <td>2.67</td>\n",
       "      <td>3.13</td>\n",
       "      <td>3.46</td>\n",
       "    </tr>\n",
       "  </tbody>\n",
       "</table>\n",
       "</div>"
      ],
      "text/plain": [
       "                     FULL                         CONSTRAINED              \\\n",
       "                       5% 16.6%   50% 83.3%   95%          5% 16.6%   50%   \n",
       "ECS                  1.91  2.55  3.73  5.43  7.26        1.94  2.36  3.17   \n",
       "TCR                  1.18  1.53  2.06  2.62  3.02        1.25  1.45  1.77   \n",
       "carbon_dioxide_2019  1.62  1.80  2.08  2.37  2.58        1.67  1.84  2.11   \n",
       "methane_2019         0.45  0.53  0.63  0.73  0.81        0.45  0.52  0.63   \n",
       "nitrous_oxide_2019   0.16  0.18  0.20  0.22  0.24        0.16  0.18  0.20   \n",
       "other_wmghgs_2019    0.29  0.32  0.36  0.40  0.43        0.29  0.32  0.36   \n",
       "trop_o3_2019         0.20  0.28  0.40  0.51  0.59        0.20  0.28  0.39   \n",
       "strat_o3_2019       -0.14 -0.10 -0.05  0.01  0.05       -0.14 -0.10 -0.05   \n",
       "strat_h2o_2019       0.02  0.04  0.06  0.09  0.11        0.02  0.04  0.06   \n",
       "GHG_2019             3.14  3.36  3.69  4.02  4.27        3.18  3.39  3.71   \n",
       "ari_2019            -0.59 -0.46 -0.30 -0.14 -0.02       -0.58 -0.46 -0.31   \n",
       "aci_2019            -2.26 -1.46 -0.69 -0.26 -0.05       -1.25 -1.00 -0.63   \n",
       "aer_2019            -2.59 -1.79 -1.00 -0.52 -0.26       -1.56 -1.32 -0.95   \n",
       "bc_on_snow_2019      0.04  0.05  0.09  0.13  0.18        0.04  0.05  0.08   \n",
       "contrails_2019       0.01  0.02  0.04  0.06  0.07        0.01  0.02  0.04   \n",
       "anthro_2019          0.90  1.73  2.59  3.22  3.63        1.98  2.25  2.67   \n",
       "\n",
       "                                 \n",
       "                    83.3%   95%  \n",
       "ECS                  4.45  5.84  \n",
       "TCR                  2.13  2.41  \n",
       "carbon_dioxide_2019  2.38  2.59  \n",
       "methane_2019         0.73  0.80  \n",
       "nitrous_oxide_2019   0.22  0.24  \n",
       "other_wmghgs_2019    0.40  0.43  \n",
       "trop_o3_2019         0.51  0.59  \n",
       "strat_o3_2019        0.01  0.05  \n",
       "strat_h2o_2019       0.09  0.11  \n",
       "GHG_2019             4.03  4.27  \n",
       "ari_2019            -0.16 -0.05  \n",
       "aci_2019            -0.30 -0.11  \n",
       "aer_2019            -0.60 -0.37  \n",
       "bc_on_snow_2019      0.13  0.18  \n",
       "contrails_2019       0.06  0.07  \n",
       "anthro_2019          3.13  3.46  "
      ]
     },
     "execution_count": 14,
     "metadata": {},
     "output_type": "execute_result"
    }
   ],
   "source": [
    "pd.concat([FULL_results.loc[['ECS','TCR','carbon_dioxide_2019','methane_2019','nitrous_oxide_2019','other_wmghgs_2019','trop_o3_2019','strat_o3_2019','strat_h2o_2019','GHG_2019','ari_2019','aci_2019','aer_2019','bc_on_snow_2019','contrails_2019','anthro_2019'],:].T.describe(percentiles=[.05,.166,.5,.833,.95]).T.iloc[:,[4,5,6,7,8]].round(2),FULL_results.loc[['ECS','TCR','carbon_dioxide_2019','methane_2019','nitrous_oxide_2019','other_wmghgs_2019','trop_o3_2019','strat_o3_2019','strat_h2o_2019','GHG_2019','ari_2019','aci_2019','aer_2019','bc_on_snow_2019','contrails_2019','anthro_2019'],FULL_results.loc['constrain_multi'].astype(bool)].T.describe(percentiles=[.05,.166,.5,.833,.95]).T.iloc[:,[4,5,6,7,8]].round(2)],axis=1,keys=['FULL','CONSTRAINED'])#.to_latex('/home/leachl/Documents/Simple_models/FaIR_v2-0_paper/tmp_tex_tables/CONSTRAIN_results')"
   ]
  },
  {
   "cell_type": "code",
   "execution_count": 9,
   "metadata": {},
   "outputs": [],
   "source": [
    "proj_vars = ['T_2100','anthro_2100']\n",
    "proj_results = pd.DataFrame(index=pd.MultiIndex.from_product([proj_vars,ssp_data.columns.levels[0]]),columns=pd.MultiIndex.from_product([['FULL','CONSTRAINED'],[5,16.6,50,83.3,95]]))\n",
    "\n",
    "for ssp in ssp_data.columns.levels[0]:\n",
    "    proj_results.loc[(slice(None),ssp),'FULL'] = ssp_data.loc[proj_vars,ssp].quantile([0.05,0.166,0.5,0.833,0.95],axis=1).T.values\n",
    "    proj_results.loc[(slice(None),ssp),'CONSTRAINED'] = ssp_data.loc[proj_vars,ssp].loc[:,FULL_results.loc['constrain_multi'].astype(bool)].quantile([0.05,0.166,0.5,0.833,0.95],axis=1).T.values"
   ]
  },
  {
   "cell_type": "code",
   "execution_count": 35,
   "metadata": {},
   "outputs": [
    {
     "data": {
      "text/html": [
       "<div>\n",
       "<style scoped>\n",
       "    .dataframe tbody tr th:only-of-type {\n",
       "        vertical-align: middle;\n",
       "    }\n",
       "\n",
       "    .dataframe tbody tr th {\n",
       "        vertical-align: top;\n",
       "    }\n",
       "\n",
       "    .dataframe thead tr th {\n",
       "        text-align: left;\n",
       "    }\n",
       "</style>\n",
       "<table border=\"1\" class=\"dataframe\">\n",
       "  <thead>\n",
       "    <tr>\n",
       "      <th></th>\n",
       "      <th></th>\n",
       "      <th colspan=\"5\" halign=\"left\">FULL</th>\n",
       "      <th colspan=\"5\" halign=\"left\">CONSTRAINED</th>\n",
       "    </tr>\n",
       "    <tr>\n",
       "      <th></th>\n",
       "      <th></th>\n",
       "      <th>5.0</th>\n",
       "      <th>16.6</th>\n",
       "      <th>50.0</th>\n",
       "      <th>83.3</th>\n",
       "      <th>95.0</th>\n",
       "      <th>5.0</th>\n",
       "      <th>16.6</th>\n",
       "      <th>50.0</th>\n",
       "      <th>83.3</th>\n",
       "      <th>95.0</th>\n",
       "    </tr>\n",
       "  </thead>\n",
       "  <tbody>\n",
       "    <tr>\n",
       "      <th rowspan=\"10\" valign=\"top\">T_2100</th>\n",
       "      <th>ssp119</th>\n",
       "      <td>0.749</td>\n",
       "      <td>1.02</td>\n",
       "      <td>1.49</td>\n",
       "      <td>2.10</td>\n",
       "      <td>2.67</td>\n",
       "      <td>0.848</td>\n",
       "      <td>1.00</td>\n",
       "      <td>1.27</td>\n",
       "      <td>1.63</td>\n",
       "      <td>1.96</td>\n",
       "    </tr>\n",
       "    <tr>\n",
       "      <th>ssp126</th>\n",
       "      <td>0.984</td>\n",
       "      <td>1.33</td>\n",
       "      <td>1.92</td>\n",
       "      <td>2.65</td>\n",
       "      <td>3.32</td>\n",
       "      <td>1.100</td>\n",
       "      <td>1.29</td>\n",
       "      <td>1.63</td>\n",
       "      <td>2.05</td>\n",
       "      <td>2.44</td>\n",
       "    </tr>\n",
       "    <tr>\n",
       "      <th>ssp245</th>\n",
       "      <td>1.550</td>\n",
       "      <td>2.08</td>\n",
       "      <td>2.97</td>\n",
       "      <td>4.03</td>\n",
       "      <td>4.93</td>\n",
       "      <td>1.800</td>\n",
       "      <td>2.08</td>\n",
       "      <td>2.56</td>\n",
       "      <td>3.12</td>\n",
       "      <td>3.60</td>\n",
       "    </tr>\n",
       "    <tr>\n",
       "      <th>ssp370</th>\n",
       "      <td>2.150</td>\n",
       "      <td>2.91</td>\n",
       "      <td>4.18</td>\n",
       "      <td>5.65</td>\n",
       "      <td>6.84</td>\n",
       "      <td>2.720</td>\n",
       "      <td>3.08</td>\n",
       "      <td>3.67</td>\n",
       "      <td>4.31</td>\n",
       "      <td>4.81</td>\n",
       "    </tr>\n",
       "    <tr>\n",
       "      <th>ssp370-lowNTCF-aerchemmip</th>\n",
       "      <td>2.460</td>\n",
       "      <td>3.25</td>\n",
       "      <td>4.53</td>\n",
       "      <td>6.01</td>\n",
       "      <td>7.19</td>\n",
       "      <td>2.790</td>\n",
       "      <td>3.20</td>\n",
       "      <td>3.89</td>\n",
       "      <td>4.67</td>\n",
       "      <td>5.29</td>\n",
       "    </tr>\n",
       "    <tr>\n",
       "      <th>ssp370-lowNTCF-gidden</th>\n",
       "      <td>2.060</td>\n",
       "      <td>2.74</td>\n",
       "      <td>3.86</td>\n",
       "      <td>5.17</td>\n",
       "      <td>6.23</td>\n",
       "      <td>2.370</td>\n",
       "      <td>2.72</td>\n",
       "      <td>3.32</td>\n",
       "      <td>4.01</td>\n",
       "      <td>4.55</td>\n",
       "    </tr>\n",
       "    <tr>\n",
       "      <th>ssp434</th>\n",
       "      <td>1.150</td>\n",
       "      <td>1.55</td>\n",
       "      <td>2.24</td>\n",
       "      <td>3.10</td>\n",
       "      <td>3.87</td>\n",
       "      <td>1.360</td>\n",
       "      <td>1.57</td>\n",
       "      <td>1.93</td>\n",
       "      <td>2.38</td>\n",
       "      <td>2.78</td>\n",
       "    </tr>\n",
       "    <tr>\n",
       "      <th>ssp460</th>\n",
       "      <td>1.790</td>\n",
       "      <td>2.39</td>\n",
       "      <td>3.39</td>\n",
       "      <td>4.57</td>\n",
       "      <td>5.56</td>\n",
       "      <td>2.100</td>\n",
       "      <td>2.41</td>\n",
       "      <td>2.93</td>\n",
       "      <td>3.53</td>\n",
       "      <td>4.02</td>\n",
       "    </tr>\n",
       "    <tr>\n",
       "      <th>ssp534-over</th>\n",
       "      <td>1.140</td>\n",
       "      <td>1.54</td>\n",
       "      <td>2.24</td>\n",
       "      <td>3.14</td>\n",
       "      <td>3.96</td>\n",
       "      <td>1.280</td>\n",
       "      <td>1.50</td>\n",
       "      <td>1.90</td>\n",
       "      <td>2.41</td>\n",
       "      <td>2.88</td>\n",
       "    </tr>\n",
       "    <tr>\n",
       "      <th>ssp585</th>\n",
       "      <td>2.880</td>\n",
       "      <td>3.80</td>\n",
       "      <td>5.29</td>\n",
       "      <td>6.99</td>\n",
       "      <td>8.33</td>\n",
       "      <td>3.250</td>\n",
       "      <td>3.73</td>\n",
       "      <td>4.54</td>\n",
       "      <td>5.46</td>\n",
       "      <td>6.18</td>\n",
       "    </tr>\n",
       "    <tr>\n",
       "      <th rowspan=\"10\" valign=\"top\">anthro_2100</th>\n",
       "      <th>ssp119</th>\n",
       "      <td>1.700</td>\n",
       "      <td>1.89</td>\n",
       "      <td>2.16</td>\n",
       "      <td>2.45</td>\n",
       "      <td>2.67</td>\n",
       "      <td>1.760</td>\n",
       "      <td>1.93</td>\n",
       "      <td>2.18</td>\n",
       "      <td>2.45</td>\n",
       "      <td>2.64</td>\n",
       "    </tr>\n",
       "    <tr>\n",
       "      <th>ssp126</th>\n",
       "      <td>2.260</td>\n",
       "      <td>2.50</td>\n",
       "      <td>2.85</td>\n",
       "      <td>3.22</td>\n",
       "      <td>3.50</td>\n",
       "      <td>2.330</td>\n",
       "      <td>2.55</td>\n",
       "      <td>2.87</td>\n",
       "      <td>3.20</td>\n",
       "      <td>3.45</td>\n",
       "    </tr>\n",
       "    <tr>\n",
       "      <th>ssp245</th>\n",
       "      <td>3.710</td>\n",
       "      <td>4.14</td>\n",
       "      <td>4.73</td>\n",
       "      <td>5.33</td>\n",
       "      <td>5.79</td>\n",
       "      <td>3.960</td>\n",
       "      <td>4.30</td>\n",
       "      <td>4.80</td>\n",
       "      <td>5.33</td>\n",
       "      <td>5.71</td>\n",
       "    </tr>\n",
       "    <tr>\n",
       "      <th>ssp370</th>\n",
       "      <td>5.240</td>\n",
       "      <td>6.10</td>\n",
       "      <td>7.18</td>\n",
       "      <td>8.20</td>\n",
       "      <td>8.92</td>\n",
       "      <td>6.020</td>\n",
       "      <td>6.55</td>\n",
       "      <td>7.34</td>\n",
       "      <td>8.16</td>\n",
       "      <td>8.75</td>\n",
       "    </tr>\n",
       "    <tr>\n",
       "      <th>ssp370-lowNTCF-aerchemmip</th>\n",
       "      <td>6.190</td>\n",
       "      <td>6.79</td>\n",
       "      <td>7.65</td>\n",
       "      <td>8.53</td>\n",
       "      <td>9.19</td>\n",
       "      <td>6.440</td>\n",
       "      <td>6.97</td>\n",
       "      <td>7.74</td>\n",
       "      <td>8.54</td>\n",
       "      <td>9.11</td>\n",
       "    </tr>\n",
       "    <tr>\n",
       "      <th>ssp370-lowNTCF-gidden</th>\n",
       "      <td>5.120</td>\n",
       "      <td>5.70</td>\n",
       "      <td>6.54</td>\n",
       "      <td>7.40</td>\n",
       "      <td>8.05</td>\n",
       "      <td>5.380</td>\n",
       "      <td>5.88</td>\n",
       "      <td>6.63</td>\n",
       "      <td>7.39</td>\n",
       "      <td>7.95</td>\n",
       "    </tr>\n",
       "    <tr>\n",
       "      <th>ssp434</th>\n",
       "      <td>2.640</td>\n",
       "      <td>2.96</td>\n",
       "      <td>3.41</td>\n",
       "      <td>3.86</td>\n",
       "      <td>4.21</td>\n",
       "      <td>2.850</td>\n",
       "      <td>3.10</td>\n",
       "      <td>3.46</td>\n",
       "      <td>3.85</td>\n",
       "      <td>4.13</td>\n",
       "    </tr>\n",
       "    <tr>\n",
       "      <th>ssp460</th>\n",
       "      <td>4.320</td>\n",
       "      <td>4.80</td>\n",
       "      <td>5.48</td>\n",
       "      <td>6.18</td>\n",
       "      <td>6.69</td>\n",
       "      <td>4.630</td>\n",
       "      <td>5.01</td>\n",
       "      <td>5.58</td>\n",
       "      <td>6.17</td>\n",
       "      <td>6.60</td>\n",
       "    </tr>\n",
       "    <tr>\n",
       "      <th>ssp534-over</th>\n",
       "      <td>2.500</td>\n",
       "      <td>2.78</td>\n",
       "      <td>3.19</td>\n",
       "      <td>3.64</td>\n",
       "      <td>3.99</td>\n",
       "      <td>2.590</td>\n",
       "      <td>2.85</td>\n",
       "      <td>3.22</td>\n",
       "      <td>3.62</td>\n",
       "      <td>3.92</td>\n",
       "    </tr>\n",
       "    <tr>\n",
       "      <th>ssp585</th>\n",
       "      <td>7.260</td>\n",
       "      <td>7.95</td>\n",
       "      <td>8.95</td>\n",
       "      <td>9.97</td>\n",
       "      <td>10.70</td>\n",
       "      <td>7.530</td>\n",
       "      <td>8.15</td>\n",
       "      <td>9.06</td>\n",
       "      <td>10.00</td>\n",
       "      <td>10.70</td>\n",
       "    </tr>\n",
       "  </tbody>\n",
       "</table>\n",
       "</div>"
      ],
      "text/plain": [
       "                                        FULL                           \\\n",
       "                                        5.0   16.6  50.0  83.3   95.0   \n",
       "T_2100      ssp119                     0.749  1.02  1.49  2.10   2.67   \n",
       "            ssp126                     0.984  1.33  1.92  2.65   3.32   \n",
       "            ssp245                     1.550  2.08  2.97  4.03   4.93   \n",
       "            ssp370                     2.150  2.91  4.18  5.65   6.84   \n",
       "            ssp370-lowNTCF-aerchemmip  2.460  3.25  4.53  6.01   7.19   \n",
       "            ssp370-lowNTCF-gidden      2.060  2.74  3.86  5.17   6.23   \n",
       "            ssp434                     1.150  1.55  2.24  3.10   3.87   \n",
       "            ssp460                     1.790  2.39  3.39  4.57   5.56   \n",
       "            ssp534-over                1.140  1.54  2.24  3.14   3.96   \n",
       "            ssp585                     2.880  3.80  5.29  6.99   8.33   \n",
       "anthro_2100 ssp119                     1.700  1.89  2.16  2.45   2.67   \n",
       "            ssp126                     2.260  2.50  2.85  3.22   3.50   \n",
       "            ssp245                     3.710  4.14  4.73  5.33   5.79   \n",
       "            ssp370                     5.240  6.10  7.18  8.20   8.92   \n",
       "            ssp370-lowNTCF-aerchemmip  6.190  6.79  7.65  8.53   9.19   \n",
       "            ssp370-lowNTCF-gidden      5.120  5.70  6.54  7.40   8.05   \n",
       "            ssp434                     2.640  2.96  3.41  3.86   4.21   \n",
       "            ssp460                     4.320  4.80  5.48  6.18   6.69   \n",
       "            ssp534-over                2.500  2.78  3.19  3.64   3.99   \n",
       "            ssp585                     7.260  7.95  8.95  9.97  10.70   \n",
       "\n",
       "                                      CONSTRAINED                            \n",
       "                                             5.0   16.6  50.0   83.3   95.0  \n",
       "T_2100      ssp119                          0.848  1.00  1.27   1.63   1.96  \n",
       "            ssp126                          1.100  1.29  1.63   2.05   2.44  \n",
       "            ssp245                          1.800  2.08  2.56   3.12   3.60  \n",
       "            ssp370                          2.720  3.08  3.67   4.31   4.81  \n",
       "            ssp370-lowNTCF-aerchemmip       2.790  3.20  3.89   4.67   5.29  \n",
       "            ssp370-lowNTCF-gidden           2.370  2.72  3.32   4.01   4.55  \n",
       "            ssp434                          1.360  1.57  1.93   2.38   2.78  \n",
       "            ssp460                          2.100  2.41  2.93   3.53   4.02  \n",
       "            ssp534-over                     1.280  1.50  1.90   2.41   2.88  \n",
       "            ssp585                          3.250  3.73  4.54   5.46   6.18  \n",
       "anthro_2100 ssp119                          1.760  1.93  2.18   2.45   2.64  \n",
       "            ssp126                          2.330  2.55  2.87   3.20   3.45  \n",
       "            ssp245                          3.960  4.30  4.80   5.33   5.71  \n",
       "            ssp370                          6.020  6.55  7.34   8.16   8.75  \n",
       "            ssp370-lowNTCF-aerchemmip       6.440  6.97  7.74   8.54   9.11  \n",
       "            ssp370-lowNTCF-gidden           5.380  5.88  6.63   7.39   7.95  \n",
       "            ssp434                          2.850  3.10  3.46   3.85   4.13  \n",
       "            ssp460                          4.630  5.01  5.58   6.17   6.60  \n",
       "            ssp534-over                     2.590  2.85  3.22   3.62   3.92  \n",
       "            ssp585                          7.530  8.15  9.06  10.00  10.70  "
      ]
     },
     "execution_count": 35,
     "metadata": {},
     "output_type": "execute_result"
    }
   ],
   "source": [
    "proj_results.applymap(lambda x: round(x, 2 - int(np.floor(np.log10(abs(x))))))#.droplevel(0).to_latex('/home/leachl/Documents/Simple_models/FaIR_v2-0_paper/tmp_tex_tables/CONSTRAIN_projections')"
   ]
  },
  {
   "cell_type": "markdown",
   "metadata": {},
   "source": [
    "### Alternative prior results"
   ]
  },
  {
   "cell_type": "code",
   "execution_count": 127,
   "metadata": {},
   "outputs": [],
   "source": [
    "ALTERNATIVE=pd.read_hdf('/home/leachl/Documents/Simple_models/FaIR_v2-0_paper/NROY_results/ALTERNATIVE.h5')"
   ]
  },
  {
   "cell_type": "code",
   "execution_count": 129,
   "metadata": {},
   "outputs": [
    {
     "data": {
      "text/html": [
       "<div>\n",
       "<style scoped>\n",
       "    .dataframe tbody tr th:only-of-type {\n",
       "        vertical-align: middle;\n",
       "    }\n",
       "\n",
       "    .dataframe tbody tr th {\n",
       "        vertical-align: top;\n",
       "    }\n",
       "\n",
       "    .dataframe thead th {\n",
       "        text-align: right;\n",
       "    }\n",
       "</style>\n",
       "<table border=\"1\" class=\"dataframe\">\n",
       "  <thead>\n",
       "    <tr style=\"text-align: right;\">\n",
       "      <th></th>\n",
       "      <th>5%</th>\n",
       "      <th>16.6%</th>\n",
       "      <th>50%</th>\n",
       "      <th>83.3%</th>\n",
       "      <th>95%</th>\n",
       "    </tr>\n",
       "  </thead>\n",
       "  <tbody>\n",
       "    <tr>\n",
       "      <th>ECS</th>\n",
       "      <td>1.74</td>\n",
       "      <td>2.14</td>\n",
       "      <td>3.14</td>\n",
       "      <td>5.20</td>\n",
       "      <td>7.42</td>\n",
       "    </tr>\n",
       "    <tr>\n",
       "      <th>TCR</th>\n",
       "      <td>1.15</td>\n",
       "      <td>1.34</td>\n",
       "      <td>1.69</td>\n",
       "      <td>2.14</td>\n",
       "      <td>2.54</td>\n",
       "    </tr>\n",
       "    <tr>\n",
       "      <th>carbon_dioxide_2019</th>\n",
       "      <td>1.66</td>\n",
       "      <td>1.83</td>\n",
       "      <td>2.10</td>\n",
       "      <td>2.38</td>\n",
       "      <td>2.58</td>\n",
       "    </tr>\n",
       "    <tr>\n",
       "      <th>methane_2019</th>\n",
       "      <td>0.45</td>\n",
       "      <td>0.53</td>\n",
       "      <td>0.63</td>\n",
       "      <td>0.73</td>\n",
       "      <td>0.81</td>\n",
       "    </tr>\n",
       "    <tr>\n",
       "      <th>nitrous_oxide_2019</th>\n",
       "      <td>0.16</td>\n",
       "      <td>0.18</td>\n",
       "      <td>0.20</td>\n",
       "      <td>0.22</td>\n",
       "      <td>0.24</td>\n",
       "    </tr>\n",
       "    <tr>\n",
       "      <th>other_wmghgs_2019</th>\n",
       "      <td>0.29</td>\n",
       "      <td>0.32</td>\n",
       "      <td>0.36</td>\n",
       "      <td>0.40</td>\n",
       "      <td>0.43</td>\n",
       "    </tr>\n",
       "    <tr>\n",
       "      <th>trop_o3_2019</th>\n",
       "      <td>0.20</td>\n",
       "      <td>0.28</td>\n",
       "      <td>0.40</td>\n",
       "      <td>0.51</td>\n",
       "      <td>0.59</td>\n",
       "    </tr>\n",
       "    <tr>\n",
       "      <th>strat_o3_2019</th>\n",
       "      <td>-0.14</td>\n",
       "      <td>-0.10</td>\n",
       "      <td>-0.05</td>\n",
       "      <td>0.01</td>\n",
       "      <td>0.05</td>\n",
       "    </tr>\n",
       "    <tr>\n",
       "      <th>strat_h2o_2019</th>\n",
       "      <td>0.02</td>\n",
       "      <td>0.04</td>\n",
       "      <td>0.06</td>\n",
       "      <td>0.09</td>\n",
       "      <td>0.11</td>\n",
       "    </tr>\n",
       "    <tr>\n",
       "      <th>GHG_2019</th>\n",
       "      <td>3.18</td>\n",
       "      <td>3.39</td>\n",
       "      <td>3.71</td>\n",
       "      <td>4.03</td>\n",
       "      <td>4.26</td>\n",
       "    </tr>\n",
       "    <tr>\n",
       "      <th>ari_2019</th>\n",
       "      <td>-0.58</td>\n",
       "      <td>-0.46</td>\n",
       "      <td>-0.30</td>\n",
       "      <td>-0.15</td>\n",
       "      <td>-0.04</td>\n",
       "    </tr>\n",
       "    <tr>\n",
       "      <th>aci_2019</th>\n",
       "      <td>-1.27</td>\n",
       "      <td>-0.99</td>\n",
       "      <td>-0.59</td>\n",
       "      <td>-0.26</td>\n",
       "      <td>-0.08</td>\n",
       "    </tr>\n",
       "    <tr>\n",
       "      <th>aer_2019</th>\n",
       "      <td>-1.58</td>\n",
       "      <td>-1.31</td>\n",
       "      <td>-0.91</td>\n",
       "      <td>-0.54</td>\n",
       "      <td>-0.31</td>\n",
       "    </tr>\n",
       "    <tr>\n",
       "      <th>bc_on_snow_2019</th>\n",
       "      <td>0.04</td>\n",
       "      <td>0.05</td>\n",
       "      <td>0.08</td>\n",
       "      <td>0.13</td>\n",
       "      <td>0.18</td>\n",
       "    </tr>\n",
       "    <tr>\n",
       "      <th>contrails_2019</th>\n",
       "      <td>0.01</td>\n",
       "      <td>0.02</td>\n",
       "      <td>0.04</td>\n",
       "      <td>0.06</td>\n",
       "      <td>0.07</td>\n",
       "    </tr>\n",
       "    <tr>\n",
       "      <th>anthro_2019</th>\n",
       "      <td>2.16</td>\n",
       "      <td>2.46</td>\n",
       "      <td>2.91</td>\n",
       "      <td>3.38</td>\n",
       "      <td>3.72</td>\n",
       "    </tr>\n",
       "  </tbody>\n",
       "</table>\n",
       "</div>"
      ],
      "text/plain": [
       "                       5%  16.6%   50%  83.3%   95%\n",
       "ECS                  1.74   2.14  3.14   5.20  7.42\n",
       "TCR                  1.15   1.34  1.69   2.14  2.54\n",
       "carbon_dioxide_2019  1.66   1.83  2.10   2.38  2.58\n",
       "methane_2019         0.45   0.53  0.63   0.73  0.81\n",
       "nitrous_oxide_2019   0.16   0.18  0.20   0.22  0.24\n",
       "other_wmghgs_2019    0.29   0.32  0.36   0.40  0.43\n",
       "trop_o3_2019         0.20   0.28  0.40   0.51  0.59\n",
       "strat_o3_2019       -0.14  -0.10 -0.05   0.01  0.05\n",
       "strat_h2o_2019       0.02   0.04  0.06   0.09  0.11\n",
       "GHG_2019             3.18   3.39  3.71   4.03  4.26\n",
       "ari_2019            -0.58  -0.46 -0.30  -0.15 -0.04\n",
       "aci_2019            -1.27  -0.99 -0.59  -0.26 -0.08\n",
       "aer_2019            -1.58  -1.31 -0.91  -0.54 -0.31\n",
       "bc_on_snow_2019      0.04   0.05  0.08   0.13  0.18\n",
       "contrails_2019       0.01   0.02  0.04   0.06  0.07\n",
       "anthro_2019          2.16   2.46  2.91   3.38  3.72"
      ]
     },
     "execution_count": 129,
     "metadata": {},
     "output_type": "execute_result"
    }
   ],
   "source": [
    "ALTERNATIVE.loc[['ECS','TCR','carbon_dioxide_2019','methane_2019','nitrous_oxide_2019','other_wmghgs_2019','trop_o3_2019','strat_o3_2019','strat_h2o_2019','GHG_2019','ari_2019','aci_2019','aer_2019','bc_on_snow_2019','contrails_2019','anthro_2019'],ALTERNATIVE.loc['constrain_multi'].astype(bool)].T.describe(percentiles=[.05,.166,.5,.833,.95]).T.iloc[:,[4,5,6,7,8]].round(2)"
   ]
  },
  {
   "cell_type": "markdown",
   "metadata": {},
   "source": [
    "#### A quick figure displaying the climate sensitivity results in the context of other studies"
   ]
  },
  {
   "cell_type": "code",
   "execution_count": 40,
   "metadata": {
    "jupyter": {
     "source_hidden": true
    }
   },
   "outputs": [],
   "source": [
    "## get CMIP6 climate sensitivities\n",
    "\n",
    "response_df = pd.read_csv('../Parameter_Sets/CMIP6_stoch_Geoffrey_response.csv',index_col=0)\n",
    "\n",
    "def BuildMat(params):\n",
    "#     param_names = ['gamma', 'C1', 'C2', 'C3', 'kap1', 'kap2', 'kap3', 'epsilon', 'stds', 'stdx','F_2x']\n",
    "    A = np.array([[-1*params[0],0,0,0],\\\n",
    "                     [1/params[1],-1*(params[4]+params[5])/params[1],params[5]/params[1],0],\\\n",
    "                     [0,params[5]/params[2],-1*(params[5]+params[7]*params[6])/params[2],params[7]*params[6]/params[2]],\\\n",
    "                     [0,0,params[6]/params[3],-1*params[6]/params[3]]])\n",
    "    k = A.shape[0]\n",
    "    b = np.array([params[0],0,0,0]).T\n",
    "    Q = np.zeros((4,4))\n",
    "    Q[0,0] = params[8]**2\n",
    "    Q[1,1] = (params[9]/params[1])**2\n",
    "    A_d = sp.linalg.expm(A)\n",
    "    b_d = sp.linalg.solve(A, (A_d - np.identity(k)) @ b)\n",
    "    ## use Van Loan (1978) to compute the matrix exponential\n",
    "    H = np.zeros((k*2,k*2))\n",
    "    H[:k,:k] = -A\n",
    "    H[:k,k:] = Q\n",
    "    H[k:,k:] = A.T\n",
    "    G = sp.linalg.expm(H)\n",
    "    Q_d = G[k:,k:].T @ G[:k,k:]\n",
    "    C_d = np.array([[0,1,0,0],\\\n",
    "                   [1,-1*params[4],(1-params[7])*params[6],-1*(1-params[7])*params[6]]])\n",
    "    \n",
    "    return A,b,Q,A_d,b_d,Q_d,C_d\n",
    "\n",
    "def convert_geoffrey_to_FaIR(params):\n",
    "#     ['gamma', 'C1', 'C2', 'C3', 'kap1', 'kap2', 'kap3', 'epsilon', 'stds', 'stdx','F_4x']\n",
    "\n",
    "    A,b,Q,A_d,b_d,Q_d,C_d = BuildMat(params)\n",
    "    eigval,eigvec = np.linalg.eig(A[1:,1:])\n",
    "    tau = -1/eigval\n",
    "    q = tau * ( eigvec[0,:] * np.linalg.inv(eigvec)[:,0] ) / params[1]\n",
    "    \n",
    "    order = np.argsort(tau)\n",
    "    \n",
    "    return pd.DataFrame([tau[order],q[order]],index=['d','q'],columns=[1,2,3])\n",
    "\n",
    "response_df.loc['ECS'] = np.nan\n",
    "response_df.loc['TCR'] = np.nan\n",
    "for model in response_df.columns:\n",
    "    fair_params = pd.concat([convert_geoffrey_to_FaIR(response_df.loc[:'F_4x',model].values)],axis=1,keys=[model])\n",
    "    response_df.loc[['ECS','TCR'],model] = q_to_tcr_ecs(fair_params,F_2x = response_df.loc['F_2x',model]).iloc[:,0]\n",
    "response_df.loc['RWF'] = response_df.loc['TCR'] / response_df.loc['ECS']"
   ]
  },
  {
   "cell_type": "code",
   "execution_count": 48,
   "metadata": {},
   "outputs": [],
   "source": [
    "# response_df\n",
    "# now calculate the Gregory effECS:\n",
    "\n",
    "abrupt4xdata = pd.read_csv('../tools/cmip6_data/abrupt4x_tas_N_bias_corr.csv',header=[0,1],index_col=0)\n",
    "for model in abrupt4xdata.columns.levels[0]:\n",
    "    response_df.loc['effECS',model] = sp.stats.linregress(abrupt4xdata[model].loc[:149,'N'].dropna(),abrupt4xdata[model].loc[:149,'tas'].dropna()).intercept/2"
   ]
  },
  {
   "cell_type": "code",
   "execution_count": 130,
   "metadata": {},
   "outputs": [],
   "source": [
    "clim_sens_comp = pd.DataFrame(columns=pd.MultiIndex.from_product([['ECS','TCR'],[5,17,50,83,95]]))\n",
    "clim_sens_comp.loc['FULL','ECS'] = [1.91,2.55,3.73,5.43,7.26]\n",
    "clim_sens_comp.loc['FULL','TCR'] = [1.18,1.53,2.06,2.62,3.02]\n",
    "\n",
    "clim_sens_comp.loc['CONSTRAINED','ECS'] = [1.94,2.36,3.17,4.45,5.84]\n",
    "clim_sens_comp.loc['CONSTRAINED','TCR'] = [1.25,1.45,1.77,2.13,2.41]\n",
    "\n",
    "clim_sens_comp.loc['ALTERNATIVE','ECS'] = [1.74,2.14,3.14,5.20,7.42]\n",
    "clim_sens_comp.loc['ALTERNATIVE','TCR'] = [1.15,1.34,1.69,2.14,2.54]\n",
    "\n",
    "clim_sens_comp.loc['Njisse','ECS'] = [1.52,1.9,2.6,3.4,4.03]\n",
    "clim_sens_comp.loc['Njisse','TCR'] = [1.0,1.29,1.68,2.05,2.3]\n",
    "\n",
    "clim_sens_comp.loc['Tokarska','ECS'] = [np.nan]*5\n",
    "clim_sens_comp.loc['Tokarska','TCR'] = [np.nan,1.2,1.6,1.99,np.nan]\n",
    "\n",
    "clim_sens_comp.loc['JCM','ECS'] = [1.72,np.nan,2.83,np.nan,4.12]\n",
    "clim_sens_comp.loc['JCM','TCR'] = [1.16,np.nan,1.67,np.nan,2.16]\n",
    "\n",
    "clim_sens_comp.loc['Sherwood','ECS'] = [2.3,2.6,3.1,3.9,4.7]\n",
    "clim_sens_comp.loc['Sherwood','TCR'] = [np.nan,1.5,1.8,2.2,np.nan]\n",
    "\n",
    "clim_sens_comp.loc['Sherwood-robust','ECS'] = [2.0,2.3,np.nan,4.1,5.7]\n",
    "clim_sens_comp.loc['Sherwood-robust','TCR'] = [np.nan]*5\n",
    "\n",
    "## response_df\n",
    "\n",
    "clim_sens_comp.loc['CMIP6','ECS'] = response_df.loc['ECS'].quantile([0.05,0.166,0.5,0.833,0.95]).values\n",
    "clim_sens_comp.loc['CMIP6*','ECS'] = response_df.loc['effECS'].quantile([0.05,0.166,0.5,0.833,0.95]).values\n",
    "clim_sens_comp.loc['CMIP6','TCR'] = response_df.loc['TCR'].quantile([0.05,0.166,0.5,0.833,0.95]).values"
   ]
  },
  {
   "cell_type": "code",
   "execution_count": 133,
   "metadata": {},
   "outputs": [
    {
     "name": "stderr",
     "output_type": "stream",
     "text": [
      "/home/leachl/miniconda3/lib/python3.7/site-packages/ipykernel_launcher.py:7: MatplotlibDeprecationWarning: Using a string of single character colors as a color sequence is deprecated since 3.2 and will be removed two minor releases later. Use an explicit list instead.\n",
      "  import sys\n",
      "/home/leachl/miniconda3/lib/python3.7/site-packages/ipykernel_launcher.py:10: MatplotlibDeprecationWarning: Using a string of single character colors as a color sequence is deprecated since 3.2 and will be removed two minor releases later. Use an explicit list instead.\n",
      "  # Remove the CWD from sys.path while we load stuff.\n"
     ]
    },
    {
     "data": {
      "text/plain": [
       "[None, None, None]"
      ]
     },
     "execution_count": 133,
     "metadata": {},
     "output_type": "execute_result"
    },
    {
     "data": {
      "image/png": "[encoded data removed]",
      "text/plain": [
       "<Figure size 1080x720 with 2 Axes>"
      ]
     },
     "metadata": {
      "needs_background": "light"
     },
     "output_type": "display_data"
    }
   ],
   "source": [
    "clim_sens_comp['ECS']\n",
    "\n",
    "fig,ax = plt.subplots(1,2,figsize=(15,10))\n",
    "\n",
    "for i,source in enumerate(clim_sens_comp.index):\n",
    "    \n",
    "    ax[0].bar(i,clim_sens_comp.loc[source,'ECS'][95]-clim_sens_comp.loc[source,'ECS'][5],0.4,clim_sens_comp.loc[source,'ECS'][5],color='',ec='k')\n",
    "    ax[0].bar(i,clim_sens_comp.loc[source,'ECS'][83]-clim_sens_comp.loc[source,'ECS'][17],0.4,clim_sens_comp.loc[source,'ECS'][17],color='k',alpha=0.3)\n",
    "    \n",
    "    ax[1].bar(i,clim_sens_comp.loc[source,'TCR'][95]-clim_sens_comp.loc[source,'TCR'][5],0.4,clim_sens_comp.loc[source,'TCR'][5],color='',ec='k')\n",
    "    ax[1].bar(i,clim_sens_comp.loc[source,'TCR'][83]-clim_sens_comp.loc[source,'TCR'][17],0.4,clim_sens_comp.loc[source,'TCR'][17],color='k',alpha=0.3)\n",
    "    \n",
    "    ax[0].bar(i,0.05,0.4,clim_sens_comp.loc[source,'ECS'][50]-0.025,color='k',)\n",
    "    ax[1].bar(i,0.05*0.4,0.4,clim_sens_comp.loc[source,'TCR'][50]-0.025*0.4,color='k',)\n",
    "    \n",
    "\n",
    "[a.set_xticks(np.arange(clim_sens_comp.index.size)) for a in ax]\n",
    "[a.set_xticklabels(clim_sens_comp.index,ha='right') for a in ax]\n",
    "[a.tick_params(axis='x',rotation=45) for a in ax]\n",
    "\n",
    "[a.yaxis.set_minor_locator(matplotlib.ticker.AutoMinorLocator(2)) for a in ax]\n",
    "\n",
    "[a.spines[pos].set_visible(False) for a in ax for pos in ['right','top']]\n",
    "\n",
    "ax[0].set_xlim(-0.5,clim_sens_comp.index.size-0.5)\n",
    "ax[1].set_xlim(-0.5,clim_sens_comp.index.size-1.5)\n",
    "\n",
    "ax[0].set_ylim(1.5,7.5)\n",
    "ax[1].set_ylim(0.8,3.2)\n",
    "\n",
    "ax[0].set_ylabel('ECS / K',fontweight='bold',fontsize=15)\n",
    "ax[1].set_ylabel('TCR / K',fontweight='bold',fontsize=15)\n",
    "\n",
    "[fig.savefig('/home/leachl/Documents/Simple_models/FaIR_v2-0_paper/Plots/Clim_sens_comparison.'+x,bbox_inches='tight',dpi=600) for x in ['png','pdf','svg']]"
   ]
  },
  {
   "cell_type": "markdown",
   "metadata": {},
   "source": [
    "## Re-running the ensembles\n",
    "Start here to the constrained ensemble over a range of scenarios (largely for the 2100 temperature)."
   ]
  },
  {
   "cell_type": "code",
   "execution_count": 2,
   "metadata": {},
   "outputs": [],
   "source": [
    "## get constrained parameter ensembles:\n",
    "\n",
    "default_params = pd.read_csv('../Parameter_Sets/Complete_gas_cycle_params.csv',skiprows=1,index_col=0)\n",
    "forcing_namelist = list(default_params.columns)\n",
    "\n",
    "param_categories = {}\n",
    "param_categories['other_wmghgs'] = ['c2f6', 'c3f8', 'c4f10', 'c5f12', 'c6f14', 'c7f16', 'c8f18', 'c_c4f8','carbon_tetrachloride', 'cf4', 'cfc113', 'cfc114', 'cfc115', 'cfc11', 'cfc12', 'ch2cl2', 'ch3ccl3', 'chcl3', 'halon1211', 'halon1301', 'halon2402', 'hcfc141b', 'hcfc142b', 'hcfc22', 'hfc125', 'hfc134a', 'hfc143a', 'hfc152a', 'hfc227ea', 'hfc236fa', 'hfc23', 'hfc245fa', 'hfc32', 'hfc365mfc', 'hfc4310mee', 'methyl_bromide', 'methyl_chloride', 'nf3', 'sf6', 'so2f2', 'halon1202']\n",
    "param_categories['carbon_dioxide'] = ['carbon_dioxide']\n",
    "param_categories['methane'] = ['methane']\n",
    "param_categories['nitrous_oxide'] = ['nitrous_oxide']\n",
    "param_categories['trop_o3'] = [x for x in forcing_namelist if '|trop_o3' in x]\n",
    "param_categories['strat_o3'] = [x for x in forcing_namelist if '|strat_o3' in x]\n",
    "param_categories['strat_h2o'] = [x for x in forcing_namelist if '|strat_h2o' in x]\n",
    "param_categories['ari'] = ['so2', 'nox', 'co', 'nmvoc', 'bc', 'nh3','oc','nox_avi']\n",
    "param_categories['aci'] = ['so2|aci','oc|aci','bc|aci']\n",
    "param_categories['bc_on_snow'] = ['bc|bc_on_snow']\n",
    "param_categories['contrails'] = ['nox_avi|contrails']"
   ]
  },
  {
   "cell_type": "code",
   "execution_count": null,
   "metadata": {
    "collapsed": true,
    "jupyter": {
     "outputs_hidden": true
    }
   },
   "outputs": [
    {
     "name": "stderr",
     "output_type": "stream",
     "text": [
      "100%|██████████| 350/350 [00:25<00:00, 13.74 timestep/s]\n",
      "100%|██████████| 350/350 [00:25<00:00, 13.75 timestep/s]\n",
      "100%|██████████| 350/350 [00:25<00:00, 13.74 timestep/s]\n",
      "100%|██████████| 350/350 [00:25<00:00, 13.85 timestep/s]\n",
      "100%|██████████| 350/350 [00:24<00:00, 14.51 timestep/s]\n",
      "100%|██████████| 350/350 [00:25<00:00, 13.75 timestep/s]\n",
      "100%|██████████| 350/350 [00:25<00:00, 13.82 timestep/s]\n",
      "100%|██████████| 350/350 [00:25<00:00, 13.84 timestep/s]\n",
      "100%|██████████| 350/350 [00:25<00:00, 13.83 timestep/s]\n",
      "100%|██████████| 350/350 [00:25<00:00, 13.73 timestep/s]\n",
      "100%|██████████| 350/350 [00:25<00:00, 13.84 timestep/s]\n",
      "100%|██████████| 350/350 [00:23<00:00, 15.06 timestep/s]\n",
      "100%|██████████| 350/350 [00:23<00:00, 15.21 timestep/s]\n",
      "100%|██████████| 350/350 [00:24<00:00, 14.38 timestep/s]\n",
      "100%|██████████| 350/350 [00:22<00:00, 15.26 timestep/s]\n",
      "100%|██████████| 350/350 [00:22<00:00, 15.32 timestep/s]\n",
      "100%|██████████| 350/350 [00:24<00:00, 14.44 timestep/s]\n",
      "100%|██████████| 350/350 [00:24<00:00, 14.46 timestep/s]\n",
      "100%|██████████| 350/350 [00:24<00:00, 14.34 timestep/s]\n",
      "100%|██████████| 350/350 [00:24<00:00, 14.48 timestep/s]\n",
      "100%|██████████| 350/350 [00:23<00:00, 15.05 timestep/s]\n",
      "100%|██████████| 350/350 [00:22<00:00, 15.23 timestep/s]\n",
      "100%|██████████| 350/350 [00:23<00:00, 15.21 timestep/s]\n",
      "100%|██████████| 350/350 [00:22<00:00, 15.35 timestep/s]\n",
      "100%|██████████| 350/350 [00:22<00:00, 15.27 timestep/s]\n",
      "100%|██████████| 350/350 [00:24<00:00, 14.47 timestep/s]\n",
      "100%|██████████| 350/350 [00:22<00:00, 15.30 timestep/s]\n",
      "100%|██████████| 350/350 [00:22<00:00, 15.31 timestep/s]\n",
      "100%|██████████| 350/350 [00:22<00:00, 15.37 timestep/s]\n",
      "100%|██████████| 350/350 [00:22<00:00, 15.31 timestep/s]\n",
      "100%|██████████| 350/350 [00:22<00:00, 15.27 timestep/s]\n",
      "100%|██████████| 350/350 [00:23<00:00, 15.21 timestep/s]\n",
      "100%|██████████| 350/350 [00:24<00:00, 14.43 timestep/s]\n",
      "100%|██████████| 350/350 [00:24<00:00, 14.49 timestep/s]\n",
      "100%|██████████| 350/350 [00:22<00:00, 15.33 timestep/s]\n",
      "100%|██████████| 350/350 [00:22<00:00, 15.25 timestep/s]\n",
      "100%|██████████| 350/350 [00:22<00:00, 15.30 timestep/s]\n",
      "100%|██████████| 350/350 [00:22<00:00, 15.28 timestep/s]\n",
      "100%|██████████| 350/350 [00:22<00:00, 15.27 timestep/s]\n",
      "100%|██████████| 350/350 [00:22<00:00, 15.29 timestep/s]\n",
      "100%|██████████| 350/350 [00:24<00:00, 14.38 timestep/s]\n",
      "100%|██████████| 350/350 [00:24<00:00, 14.34 timestep/s]\n",
      "100%|██████████| 350/350 [00:24<00:00, 14.36 timestep/s]\n",
      "100%|██████████| 350/350 [00:24<00:00, 14.37 timestep/s]\n",
      "100%|██████████| 350/350 [00:22<00:00, 15.25 timestep/s]\n",
      "100%|██████████| 350/350 [00:22<00:00, 15.26 timestep/s]\n",
      "100%|██████████| 350/350 [00:24<00:00, 14.40 timestep/s]\n",
      "100%|██████████| 350/350 [00:24<00:00, 14.43 timestep/s]\n",
      "100%|██████████| 350/350 [00:24<00:00, 14.35 timestep/s]\n",
      "100%|██████████| 350/350 [00:22<00:00, 15.24 timestep/s]\n",
      "100%|██████████| 350/350 [00:22<00:00, 15.23 timestep/s]\n",
      "100%|██████████| 350/350 [00:22<00:00, 15.23 timestep/s]\n",
      "100%|██████████| 350/350 [00:22<00:00, 15.26 timestep/s]\n",
      "100%|██████████| 350/350 [00:23<00:00, 14.88 timestep/s]\n",
      "100%|██████████| 350/350 [00:22<00:00, 15.24 timestep/s]\n",
      "100%|██████████| 350/350 [00:22<00:00, 15.22 timestep/s]\n",
      "100%|██████████| 350/350 [00:22<00:00, 15.22 timestep/s]\n",
      "100%|██████████| 350/350 [00:22<00:00, 15.28 timestep/s]\n",
      "100%|██████████| 350/350 [00:22<00:00, 15.25 timestep/s]\n",
      "100%|██████████| 350/350 [00:23<00:00, 15.20 timestep/s]\n",
      "100%|██████████| 350/350 [00:22<00:00, 15.24 timestep/s]\n",
      "100%|██████████| 350/350 [00:23<00:00, 15.06 timestep/s]\n",
      "100%|██████████| 350/350 [00:23<00:00, 15.20 timestep/s]\n",
      "100%|██████████| 350/350 [00:22<00:00, 15.23 timestep/s]\n",
      "100%|██████████| 350/350 [00:22<00:00, 15.24 timestep/s]\n",
      "100%|██████████| 350/350 [00:23<00:00, 15.19 timestep/s]\n",
      "100%|██████████| 350/350 [00:22<00:00, 15.23 timestep/s]\n",
      "100%|██████████| 350/350 [00:22<00:00, 15.22 timestep/s]\n",
      "100%|██████████| 350/350 [00:23<00:00, 15.21 timestep/s]\n",
      "100%|██████████| 350/350 [00:23<00:00, 15.20 timestep/s]\n",
      "100%|██████████| 350/350 [00:22<00:00, 15.26 timestep/s]\n",
      "100%|██████████| 350/350 [00:23<00:00, 15.16 timestep/s]\n",
      "100%|██████████| 350/350 [00:23<00:00, 15.21 timestep/s]\n",
      "100%|██████████| 350/350 [00:23<00:00, 15.19 timestep/s]\n",
      "100%|██████████| 350/350 [00:23<00:00, 15.16 timestep/s]\n",
      "100%|██████████| 350/350 [00:24<00:00, 14.34 timestep/s]\n",
      "100%|██████████| 350/350 [00:24<00:00, 14.29 timestep/s]\n",
      "100%|██████████| 350/350 [00:23<00:00, 15.19 timestep/s]\n",
      "100%|██████████| 350/350 [00:24<00:00, 14.33 timestep/s]\n",
      "100%|██████████| 350/350 [00:23<00:00, 15.01 timestep/s]\n",
      "100%|██████████| 350/350 [00:23<00:00, 15.12 timestep/s]\n",
      "100%|██████████| 350/350 [00:23<00:00, 15.11 timestep/s]\n",
      "100%|██████████| 350/350 [00:24<00:00, 14.31 timestep/s]\n",
      "100%|██████████| 350/350 [00:23<00:00, 15.17 timestep/s]\n",
      "100%|██████████| 350/350 [00:23<00:00, 15.13 timestep/s]\n",
      "100%|██████████| 350/350 [00:23<00:00, 15.14 timestep/s]\n",
      "100%|██████████| 350/350 [00:23<00:00, 15.15 timestep/s]\n",
      "100%|██████████| 350/350 [00:23<00:00, 14.83 timestep/s]\n",
      "100%|██████████| 350/350 [00:23<00:00, 15.11 timestep/s]\n",
      "100%|██████████| 350/350 [00:23<00:00, 15.16 timestep/s]\n",
      "100%|██████████| 350/350 [00:23<00:00, 15.13 timestep/s]\n",
      "100%|██████████| 350/350 [00:23<00:00, 15.12 timestep/s]\n",
      "100%|██████████| 350/350 [00:23<00:00, 14.97 timestep/s]\n",
      "100%|██████████| 350/350 [00:23<00:00, 15.04 timestep/s]\n",
      "100%|██████████| 350/350 [00:23<00:00, 15.13 timestep/s]\n",
      "100%|██████████| 350/350 [00:23<00:00, 15.02 timestep/s]\n",
      "100%|██████████| 350/350 [00:23<00:00, 15.08 timestep/s]\n",
      "100%|██████████| 350/350 [00:24<00:00, 14.13 timestep/s]\n",
      "100%|██████████| 350/350 [00:23<00:00, 15.11 timestep/s]\n",
      "100%|██████████| 350/350 [00:23<00:00, 15.07 timestep/s]\n",
      "100%|██████████| 350/350 [00:24<00:00, 14.10 timestep/s]\n",
      "100%|██████████| 350/350 [00:24<00:00, 14.24 timestep/s]\n",
      "100%|██████████| 350/350 [00:24<00:00, 14.17 timestep/s]\n",
      "100%|██████████| 350/350 [00:23<00:00, 15.11 timestep/s]\n",
      "100%|██████████| 350/350 [00:24<00:00, 14.20 timestep/s]\n",
      "100%|██████████| 350/350 [00:23<00:00, 15.10 timestep/s]\n",
      "100%|██████████| 350/350 [00:23<00:00, 15.08 timestep/s]\n",
      "100%|██████████| 350/350 [00:24<00:00, 14.20 timestep/s]\n",
      "100%|██████████| 350/350 [00:23<00:00, 15.09 timestep/s]\n",
      "100%|██████████| 350/350 [00:23<00:00, 15.08 timestep/s]\n",
      "100%|██████████| 350/350 [00:23<00:00, 15.07 timestep/s]\n",
      "100%|██████████| 350/350 [00:23<00:00, 15.03 timestep/s]\n",
      "100%|██████████| 350/350 [00:23<00:00, 15.11 timestep/s]\n",
      "100%|██████████| 350/350 [00:23<00:00, 14.74 timestep/s]\n",
      "100%|██████████| 350/350 [00:23<00:00, 15.07 timestep/s]\n",
      "100%|██████████| 350/350 [00:23<00:00, 15.07 timestep/s]\n",
      "100%|██████████| 350/350 [00:24<00:00, 14.12 timestep/s]\n",
      "100%|██████████| 350/350 [00:24<00:00, 14.19 timestep/s]\n",
      "100%|██████████| 350/350 [00:24<00:00, 14.48 timestep/s]\n",
      "100%|██████████| 350/350 [00:23<00:00, 15.11 timestep/s]\n",
      "100%|██████████| 350/350 [00:23<00:00, 14.92 timestep/s]\n",
      "100%|██████████| 350/350 [00:24<00:00, 14.16 timestep/s]\n",
      "100%|██████████| 350/350 [00:23<00:00, 15.02 timestep/s]\n",
      "100%|██████████| 350/350 [00:23<00:00, 15.03 timestep/s]\n",
      "100%|██████████| 350/350 [00:24<00:00, 14.35 timestep/s]\n",
      "100%|██████████| 350/350 [00:23<00:00, 15.12 timestep/s]\n",
      "100%|██████████| 350/350 [00:23<00:00, 15.08 timestep/s]\n",
      "100%|██████████| 350/350 [00:23<00:00, 15.08 timestep/s]\n",
      "100%|██████████| 350/350 [00:23<00:00, 14.98 timestep/s]\n",
      "100%|██████████| 350/350 [00:23<00:00, 15.06 timestep/s]\n",
      "100%|██████████| 350/350 [00:23<00:00, 14.94 timestep/s]\n",
      "100%|██████████| 350/350 [00:24<00:00, 14.09 timestep/s]\n",
      "100%|██████████| 350/350 [00:24<00:00, 14.08 timestep/s]\n",
      "100%|██████████| 350/350 [00:23<00:00, 14.66 timestep/s]\n",
      "100%|██████████| 350/350 [00:24<00:00, 14.12 timestep/s]\n",
      "100%|██████████| 350/350 [00:23<00:00, 14.98 timestep/s]\n",
      "100%|██████████| 350/350 [00:23<00:00, 14.94 timestep/s]\n",
      "100%|██████████| 350/350 [00:23<00:00, 15.07 timestep/s]\n",
      "100%|██████████| 350/350 [00:23<00:00, 15.08 timestep/s]\n",
      "100%|██████████| 350/350 [00:23<00:00, 15.02 timestep/s]\n",
      "100%|██████████| 350/350 [00:23<00:00, 14.96 timestep/s]\n",
      "100%|██████████| 350/350 [00:24<00:00, 14.18 timestep/s]\n",
      "100%|██████████| 350/350 [00:23<00:00, 15.01 timestep/s]\n",
      "100%|██████████| 350/350 [00:23<00:00, 15.01 timestep/s]\n",
      "100%|██████████| 350/350 [00:23<00:00, 14.96 timestep/s]\n",
      "100%|██████████| 350/350 [00:23<00:00, 15.00 timestep/s]\n",
      "100%|██████████| 350/350 [00:23<00:00, 15.03 timestep/s]\n",
      "100%|██████████| 350/350 [00:23<00:00, 14.97 timestep/s]\n",
      "100%|██████████| 350/350 [00:23<00:00, 14.93 timestep/s]\n",
      "100%|██████████| 350/350 [00:23<00:00, 15.03 timestep/s]\n",
      "100%|██████████| 350/350 [00:23<00:00, 14.99 timestep/s]\n",
      "100%|██████████| 350/350 [00:23<00:00, 14.97 timestep/s]\n",
      "100%|██████████| 350/350 [00:24<00:00, 14.27 timestep/s]\n",
      "100%|██████████| 350/350 [00:24<00:00, 14.31 timestep/s]\n",
      "100%|██████████| 350/350 [00:23<00:00, 15.04 timestep/s]\n",
      "100%|██████████| 350/350 [00:23<00:00, 14.92 timestep/s]\n",
      "100%|██████████| 350/350 [00:23<00:00, 14.97 timestep/s]\n",
      "100%|██████████| 350/350 [00:23<00:00, 14.88 timestep/s]\n",
      "100%|██████████| 350/350 [00:23<00:00, 14.90 timestep/s]\n",
      "100%|██████████| 350/350 [00:23<00:00, 14.85 timestep/s]\n",
      "100%|██████████| 350/350 [00:23<00:00, 14.81 timestep/s]\n",
      "100%|██████████| 350/350 [00:23<00:00, 14.88 timestep/s]\n",
      "100%|██████████| 350/350 [00:23<00:00, 14.90 timestep/s]\n",
      "100%|██████████| 350/350 [00:23<00:00, 14.85 timestep/s]\n",
      "100%|██████████| 350/350 [00:23<00:00, 14.95 timestep/s]\n",
      "100%|██████████| 350/350 [00:23<00:00, 14.89 timestep/s]\n",
      "100%|██████████| 350/350 [00:23<00:00, 14.83 timestep/s]\n",
      "100%|██████████| 350/350 [00:23<00:00, 14.90 timestep/s]\n",
      "100%|██████████| 350/350 [00:23<00:00, 14.89 timestep/s]\n",
      "100%|██████████| 350/350 [00:23<00:00, 14.89 timestep/s]\n",
      "100%|██████████| 350/350 [00:23<00:00, 14.73 timestep/s]\n",
      "100%|██████████| 350/350 [00:23<00:00, 14.90 timestep/s]\n",
      "100%|██████████| 350/350 [00:23<00:00, 14.94 timestep/s]\n",
      "100%|██████████| 350/350 [00:24<00:00, 14.51 timestep/s]\n",
      "100%|██████████| 350/350 [00:23<00:00, 14.94 timestep/s]\n",
      "100%|██████████| 350/350 [00:23<00:00, 14.86 timestep/s]\n",
      "100%|██████████| 350/350 [00:23<00:00, 14.90 timestep/s]\n",
      "100%|██████████| 350/350 [00:23<00:00, 14.90 timestep/s]\n",
      "100%|██████████| 350/350 [00:23<00:00, 14.95 timestep/s]\n",
      "100%|██████████| 350/350 [00:23<00:00, 14.89 timestep/s]\n",
      "100%|██████████| 350/350 [00:23<00:00, 14.81 timestep/s]\n",
      "100%|██████████| 350/350 [00:23<00:00, 14.83 timestep/s]\n",
      "100%|██████████| 350/350 [00:23<00:00, 14.83 timestep/s]\n",
      "100%|██████████| 350/350 [00:23<00:00, 14.83 timestep/s]\n",
      "100%|██████████| 350/350 [00:24<00:00, 14.09 timestep/s]\n",
      "100%|██████████| 350/350 [00:24<00:00, 14.08 timestep/s]\n",
      "100%|██████████| 350/350 [00:23<00:00, 14.86 timestep/s]\n",
      "100%|██████████| 350/350 [00:23<00:00, 14.88 timestep/s]\n",
      "100%|██████████| 350/350 [00:23<00:00, 14.85 timestep/s]\n",
      "100%|██████████| 350/350 [00:23<00:00, 14.82 timestep/s]\n",
      "100%|██████████| 350/350 [00:23<00:00, 14.84 timestep/s]\n",
      "100%|██████████| 350/350 [00:23<00:00, 14.84 timestep/s]\n",
      "100%|██████████| 350/350 [00:23<00:00, 14.89 timestep/s]\n",
      "100%|██████████| 350/350 [00:23<00:00, 14.84 timestep/s]\n",
      "100%|██████████| 350/350 [00:23<00:00, 14.93 timestep/s]\n",
      "100%|██████████| 350/350 [00:25<00:00, 13.98 timestep/s]\n",
      "100%|██████████| 350/350 [00:23<00:00, 14.85 timestep/s]\n",
      "100%|██████████| 350/350 [00:23<00:00, 14.87 timestep/s]\n",
      "100%|██████████| 350/350 [00:23<00:00, 14.92 timestep/s]\n",
      "100%|██████████| 350/350 [00:24<00:00, 14.02 timestep/s]\n",
      "100%|██████████| 350/350 [00:24<00:00, 14.18 timestep/s]\n",
      "100%|██████████| 350/350 [00:23<00:00, 14.88 timestep/s]\n",
      "100%|██████████| 350/350 [00:23<00:00, 14.91 timestep/s]\n",
      "100%|██████████| 350/350 [00:23<00:00, 14.95 timestep/s]\n",
      "100%|██████████| 350/350 [00:23<00:00, 14.93 timestep/s]\n",
      "100%|██████████| 350/350 [00:23<00:00, 14.67 timestep/s]\n",
      "100%|██████████| 350/350 [00:23<00:00, 14.94 timestep/s]\n",
      "100%|██████████| 350/350 [00:23<00:00, 14.87 timestep/s]\n",
      "100%|██████████| 350/350 [00:23<00:00, 14.77 timestep/s]\n",
      "100%|██████████| 350/350 [00:23<00:00, 14.85 timestep/s]\n",
      "100%|██████████| 350/350 [00:23<00:00, 14.88 timestep/s]\n",
      "100%|██████████| 350/350 [00:23<00:00, 14.86 timestep/s]\n",
      "100%|██████████| 350/350 [00:23<00:00, 14.84 timestep/s]\n",
      "100%|██████████| 350/350 [00:23<00:00, 14.91 timestep/s]\n",
      "100%|██████████| 350/350 [00:23<00:00, 14.88 timestep/s]\n",
      "100%|██████████| 350/350 [00:23<00:00, 14.89 timestep/s]\n",
      "100%|██████████| 350/350 [00:23<00:00, 14.82 timestep/s]\n",
      "100%|██████████| 350/350 [00:23<00:00, 14.88 timestep/s]\n",
      "100%|██████████| 350/350 [00:23<00:00, 14.69 timestep/s]\n",
      "100%|██████████| 350/350 [00:23<00:00, 14.75 timestep/s]\n",
      "100%|██████████| 350/350 [00:23<00:00, 14.73 timestep/s]\n",
      "100%|██████████| 350/350 [00:23<00:00, 14.88 timestep/s]\n",
      "100%|██████████| 350/350 [00:23<00:00, 14.85 timestep/s]\n",
      "100%|██████████| 350/350 [00:23<00:00, 14.91 timestep/s]\n",
      "100%|██████████| 350/350 [00:23<00:00, 14.78 timestep/s]\n",
      "100%|██████████| 350/350 [00:23<00:00, 14.84 timestep/s]\n",
      "100%|██████████| 350/350 [00:23<00:00, 14.75 timestep/s]\n",
      "100%|██████████| 350/350 [00:23<00:00, 14.81 timestep/s]\n",
      "100%|██████████| 350/350 [00:23<00:00, 14.83 timestep/s]\n",
      "100%|██████████| 350/350 [00:23<00:00, 14.84 timestep/s]\n",
      "100%|██████████| 350/350 [00:23<00:00, 14.80 timestep/s]\n",
      "100%|██████████| 350/350 [00:23<00:00, 14.72 timestep/s]\n",
      "100%|██████████| 350/350 [00:24<00:00, 14.41 timestep/s]\n",
      "100%|██████████| 350/350 [00:23<00:00, 14.84 timestep/s]\n",
      "100%|██████████| 350/350 [00:23<00:00, 14.79 timestep/s]\n",
      "100%|██████████| 350/350 [00:25<00:00, 14.00 timestep/s]\n",
      "100%|██████████| 350/350 [00:24<00:00, 14.01 timestep/s]\n",
      "100%|██████████| 350/350 [00:25<00:00, 13.84 timestep/s]\n",
      "100%|██████████| 350/350 [00:23<00:00, 14.80 timestep/s]\n",
      "100%|██████████| 350/350 [00:23<00:00, 14.73 timestep/s]\n",
      "100%|██████████| 350/350 [00:23<00:00, 14.63 timestep/s]\n",
      "100%|██████████| 350/350 [00:23<00:00, 14.75 timestep/s]\n",
      "100%|██████████| 350/350 [00:23<00:00, 14.79 timestep/s]\n",
      "100%|██████████| 350/350 [00:24<00:00, 14.00 timestep/s]\n",
      "100%|██████████| 350/350 [00:25<00:00, 13.92 timestep/s]\n",
      "100%|██████████| 350/350 [00:23<00:00, 14.88 timestep/s]\n",
      "100%|██████████| 350/350 [00:23<00:00, 14.72 timestep/s]\n",
      "100%|██████████| 350/350 [00:23<00:00, 14.85 timestep/s]\n",
      "100%|██████████| 350/350 [00:23<00:00, 14.76 timestep/s]\n",
      "100%|██████████| 350/350 [00:23<00:00, 14.69 timestep/s]\n",
      "100%|██████████| 350/350 [00:23<00:00, 14.83 timestep/s]\n",
      "100%|██████████| 350/350 [00:23<00:00, 14.68 timestep/s]\n",
      "100%|██████████| 350/350 [00:23<00:00, 14.83 timestep/s]\n",
      "100%|██████████| 350/350 [00:23<00:00, 14.66 timestep/s]\n",
      "100%|██████████| 350/350 [00:23<00:00, 14.59 timestep/s]\n",
      "100%|██████████| 350/350 [00:23<00:00, 14.74 timestep/s]\n",
      "100%|██████████| 350/350 [00:23<00:00, 14.73 timestep/s]\n",
      "100%|██████████| 350/350 [00:23<00:00, 14.68 timestep/s]\n",
      "100%|██████████| 350/350 [00:25<00:00, 13.90 timestep/s]\n",
      "100%|██████████| 350/350 [00:24<00:00, 14.18 timestep/s]\n",
      "100%|██████████| 350/350 [00:24<00:00, 14.12 timestep/s]\n",
      "100%|██████████| 350/350 [00:23<00:00, 14.80 timestep/s]\n",
      "100%|██████████| 350/350 [00:23<00:00, 14.69 timestep/s]\n",
      "100%|██████████| 350/350 [00:23<00:00, 14.77 timestep/s]\n",
      "100%|██████████| 350/350 [00:23<00:00, 14.77 timestep/s]\n",
      "100%|██████████| 350/350 [00:23<00:00, 14.63 timestep/s]\n",
      "100%|██████████| 350/350 [00:23<00:00, 14.67 timestep/s]\n",
      "100%|██████████| 350/350 [00:24<00:00, 14.20 timestep/s]\n",
      "100%|██████████| 350/350 [00:23<00:00, 14.69 timestep/s]\n",
      "100%|██████████| 350/350 [00:23<00:00, 14.65 timestep/s]\n",
      "100%|██████████| 350/350 [00:25<00:00, 13.78 timestep/s]\n",
      "100%|██████████| 350/350 [00:23<00:00, 14.72 timestep/s]\n",
      "100%|██████████| 350/350 [00:23<00:00, 14.60 timestep/s]\n",
      "100%|██████████| 350/350 [00:24<00:00, 14.21 timestep/s]\n",
      "100%|██████████| 350/350 [00:23<00:00, 14.76 timestep/s]\n",
      "100%|██████████| 350/350 [00:23<00:00, 14.62 timestep/s]\n",
      "100%|██████████| 350/350 [00:23<00:00, 14.62 timestep/s]\n",
      "100%|██████████| 350/350 [00:23<00:00, 14.63 timestep/s]\n",
      "100%|██████████| 350/350 [00:23<00:00, 14.72 timestep/s]\n",
      "100%|██████████| 350/350 [00:23<00:00, 14.61 timestep/s]\n",
      "100%|██████████| 350/350 [00:23<00:00, 14.70 timestep/s]\n",
      "100%|██████████| 350/350 [00:24<00:00, 14.21 timestep/s]\n",
      "100%|██████████| 350/350 [00:24<00:00, 14.08 timestep/s]\n",
      "100%|██████████| 350/350 [00:23<00:00, 14.63 timestep/s]\n",
      "100%|██████████| 350/350 [00:24<00:00, 14.15 timestep/s]\n",
      "100%|██████████| 350/350 [00:26<00:00, 13.37 timestep/s]\n",
      "100%|██████████| 350/350 [00:24<00:00, 14.27 timestep/s]\n",
      "100%|██████████| 350/350 [00:24<00:00, 14.47 timestep/s]\n",
      "100%|██████████| 350/350 [00:25<00:00, 13.95 timestep/s]\n",
      "100%|██████████| 350/350 [00:26<00:00, 13.36 timestep/s]\n",
      "100%|██████████| 350/350 [00:24<00:00, 14.26 timestep/s]\n",
      "100%|██████████| 350/350 [00:26<00:00, 13.29 timestep/s]\n",
      "100%|██████████| 350/350 [00:24<00:00, 14.32 timestep/s]\n",
      "100%|██████████| 350/350 [00:25<00:00, 13.74 timestep/s]\n",
      "100%|██████████| 350/350 [00:25<00:00, 13.77 timestep/s]\n",
      "100%|██████████| 350/350 [00:23<00:00, 14.63 timestep/s]\n",
      "100%|██████████| 350/350 [00:24<00:00, 14.31 timestep/s]\n",
      "100%|██████████| 350/350 [00:23<00:00, 14.66 timestep/s]\n",
      "100%|██████████| 350/350 [00:24<00:00, 14.44 timestep/s]\n",
      "100%|██████████| 350/350 [00:24<00:00, 14.51 timestep/s]\n",
      "100%|██████████| 350/350 [00:23<00:00, 14.91 timestep/s]\n",
      "100%|██████████| 350/350 [00:23<00:00, 14.74 timestep/s]\n",
      "100%|██████████| 350/350 [00:23<00:00, 14.79 timestep/s]\n",
      "100%|██████████| 350/350 [00:23<00:00, 14.65 timestep/s]\n",
      "100%|██████████| 350/350 [00:23<00:00, 14.70 timestep/s]\n",
      "100%|██████████| 350/350 [00:23<00:00, 14.64 timestep/s]\n",
      "100%|██████████| 350/350 [00:24<00:00, 14.53 timestep/s]\n",
      "100%|██████████| 350/350 [00:24<00:00, 14.56 timestep/s]\n",
      "100%|██████████| 350/350 [00:23<00:00, 14.69 timestep/s]\n",
      "100%|██████████| 350/350 [00:23<00:00, 14.63 timestep/s]\n",
      "100%|██████████| 350/350 [00:23<00:00, 14.64 timestep/s]\n",
      "100%|██████████| 350/350 [00:23<00:00, 14.70 timestep/s]\n",
      "100%|██████████| 350/350 [00:23<00:00, 14.58 timestep/s]\n",
      "100%|██████████| 350/350 [00:23<00:00, 14.66 timestep/s]\n",
      "100%|██████████| 350/350 [00:23<00:00, 14.68 timestep/s]\n",
      "100%|██████████| 350/350 [00:23<00:00, 14.70 timestep/s]\n",
      "100%|██████████| 350/350 [00:23<00:00, 14.67 timestep/s]\n",
      "100%|██████████| 350/350 [00:23<00:00, 14.65 timestep/s]\n",
      "100%|██████████| 350/350 [00:24<00:00, 14.55 timestep/s]\n",
      "100%|██████████| 350/350 [00:24<00:00, 14.16 timestep/s]\n",
      "100%|██████████| 350/350 [00:24<00:00, 14.43 timestep/s]\n",
      "100%|██████████| 350/350 [00:24<00:00, 14.40 timestep/s]\n",
      "100%|██████████| 350/350 [00:23<00:00, 14.61 timestep/s]\n",
      "100%|██████████| 350/350 [00:24<00:00, 14.38 timestep/s]\n",
      "100%|██████████| 350/350 [00:23<00:00, 14.68 timestep/s]\n",
      "100%|██████████| 350/350 [00:24<00:00, 14.48 timestep/s]\n",
      "100%|██████████| 350/350 [00:24<00:00, 14.41 timestep/s]\n",
      "100%|██████████| 350/350 [00:24<00:00, 14.43 timestep/s]\n",
      "100%|██████████| 350/350 [00:24<00:00, 14.49 timestep/s]\n",
      "100%|██████████| 350/350 [00:23<00:00, 14.63 timestep/s]\n",
      "100%|██████████| 350/350 [00:24<00:00, 14.52 timestep/s]\n",
      "100%|██████████| 350/350 [00:23<00:00, 14.61 timestep/s]\n",
      "100%|██████████| 350/350 [00:23<00:00, 14.60 timestep/s]\n",
      "100%|██████████| 350/350 [00:23<00:00, 14.66 timestep/s]\n",
      "100%|██████████| 350/350 [00:23<00:00, 14.67 timestep/s]\n",
      "100%|██████████| 350/350 [00:24<00:00, 14.23 timestep/s]\n",
      "100%|██████████| 350/350 [00:23<00:00, 14.60 timestep/s]\n",
      "100%|██████████| 350/350 [00:24<00:00, 14.57 timestep/s]\n",
      "100%|██████████| 350/350 [00:23<00:00, 14.59 timestep/s]\n",
      "100%|██████████| 350/350 [00:24<00:00, 14.56 timestep/s]\n",
      "100%|██████████| 350/350 [00:23<00:00, 14.69 timestep/s]\n",
      "100%|██████████| 350/350 [00:23<00:00, 14.66 timestep/s]\n",
      "100%|██████████| 350/350 [00:24<00:00, 14.57 timestep/s]\n",
      "100%|██████████| 350/350 [00:23<00:00, 14.73 timestep/s]\n",
      "100%|██████████| 350/350 [00:24<00:00, 14.46 timestep/s]\n",
      "100%|██████████| 350/350 [00:24<00:00, 14.58 timestep/s]\n",
      "100%|██████████| 350/350 [00:24<00:00, 14.58 timestep/s]\n",
      "100%|██████████| 350/350 [00:24<00:00, 14.33 timestep/s]\n",
      "100%|██████████| 350/350 [00:24<00:00, 14.38 timestep/s]\n",
      "100%|██████████| 350/350 [00:24<00:00, 14.16 timestep/s]\n",
      "100%|██████████| 350/350 [00:24<00:00, 14.51 timestep/s]\n",
      "100%|██████████| 350/350 [00:24<00:00, 14.56 timestep/s]\n",
      "100%|██████████| 350/350 [00:25<00:00, 13.69 timestep/s]\n",
      "100%|██████████| 350/350 [00:25<00:00, 13.78 timestep/s]\n",
      "100%|██████████| 350/350 [00:23<00:00, 14.62 timestep/s]\n",
      "100%|██████████| 350/350 [00:23<00:00, 14.61 timestep/s]\n",
      "100%|██████████| 350/350 [00:24<00:00, 14.46 timestep/s]\n",
      "100%|██████████| 350/350 [00:24<00:00, 14.55 timestep/s]\n",
      "100%|██████████| 350/350 [00:24<00:00, 14.54 timestep/s]\n",
      "100%|██████████| 350/350 [00:24<00:00, 14.50 timestep/s]\n",
      "100%|██████████| 350/350 [00:24<00:00, 14.45 timestep/s]\n",
      "100%|██████████| 350/350 [00:23<00:00, 14.63 timestep/s]\n",
      "100%|██████████| 350/350 [00:25<00:00, 13.77 timestep/s]\n",
      "100%|██████████| 350/350 [00:23<00:00, 14.60 timestep/s]\n",
      "100%|██████████| 350/350 [00:25<00:00, 13.69 timestep/s]\n",
      "100%|██████████| 350/350 [00:24<00:00, 14.55 timestep/s]\n",
      "100%|██████████| 350/350 [00:25<00:00, 13.80 timestep/s]\n",
      "100%|██████████| 350/350 [00:25<00:00, 13.77 timestep/s]\n",
      "100%|██████████| 350/350 [00:25<00:00, 13.76 timestep/s]\n",
      "100%|██████████| 350/350 [00:24<00:00, 14.56 timestep/s]\n",
      "100%|██████████| 350/350 [00:24<00:00, 14.55 timestep/s]\n",
      "100%|██████████| 350/350 [00:24<00:00, 14.56 timestep/s]\n",
      "100%|██████████| 350/350 [00:24<00:00, 14.52 timestep/s]\n",
      "100%|██████████| 350/350 [00:24<00:00, 14.50 timestep/s]\n",
      "100%|██████████| 350/350 [00:24<00:00, 14.51 timestep/s]\n",
      "100%|██████████| 350/350 [00:24<00:00, 14.43 timestep/s]\n",
      "100%|██████████| 350/350 [00:24<00:00, 14.48 timestep/s]\n",
      "100%|██████████| 350/350 [00:24<00:00, 14.31 timestep/s]\n",
      "100%|██████████| 350/350 [00:24<00:00, 14.39 timestep/s]\n",
      "100%|██████████| 350/350 [00:24<00:00, 14.50 timestep/s]\n",
      "100%|██████████| 350/350 [00:24<00:00, 14.50 timestep/s]\n",
      "100%|██████████| 350/350 [00:24<00:00, 14.42 timestep/s]\n",
      "100%|██████████| 350/350 [00:24<00:00, 14.50 timestep/s]\n",
      "100%|██████████| 350/350 [00:24<00:00, 14.55 timestep/s]\n",
      "100%|██████████| 350/350 [00:24<00:00, 14.52 timestep/s]\n",
      "100%|██████████| 350/350 [00:24<00:00, 14.47 timestep/s]\n",
      "100%|██████████| 350/350 [00:24<00:00, 14.46 timestep/s]\n",
      "100%|██████████| 350/350 [00:24<00:00, 14.48 timestep/s]\n",
      "100%|██████████| 350/350 [00:24<00:00, 14.47 timestep/s]\n",
      "100%|██████████| 350/350 [00:24<00:00, 14.42 timestep/s]\n",
      "100%|██████████| 350/350 [00:24<00:00, 14.44 timestep/s]\n",
      "100%|██████████| 350/350 [00:24<00:00, 14.52 timestep/s]\n",
      "100%|██████████| 350/350 [00:25<00:00, 13.61 timestep/s]\n",
      "100%|██████████| 350/350 [00:25<00:00, 13.87 timestep/s]\n",
      "100%|██████████| 350/350 [00:25<00:00, 13.79 timestep/s]\n",
      "100%|██████████| 350/350 [00:25<00:00, 13.82 timestep/s]\n",
      "100%|██████████| 350/350 [00:25<00:00, 13.65 timestep/s]\n",
      "100%|██████████| 350/350 [00:25<00:00, 13.58 timestep/s]\n",
      "100%|██████████| 350/350 [00:25<00:00, 13.75 timestep/s]\n",
      "100%|██████████| 350/350 [00:25<00:00, 13.67 timestep/s]\n",
      "100%|██████████| 350/350 [00:25<00:00, 13.91 timestep/s]\n",
      "100%|██████████| 350/350 [00:24<00:00, 14.52 timestep/s]\n",
      "100%|██████████| 350/350 [00:24<00:00, 14.44 timestep/s]\n",
      "100%|██████████| 350/350 [00:24<00:00, 14.54 timestep/s]\n",
      "100%|██████████| 350/350 [00:24<00:00, 14.56 timestep/s]\n",
      "100%|██████████| 350/350 [00:24<00:00, 14.58 timestep/s]\n",
      "100%|██████████| 350/350 [00:23<00:00, 14.63 timestep/s]\n",
      "100%|██████████| 350/350 [00:24<00:00, 14.14 timestep/s]\n",
      "100%|██████████| 350/350 [00:24<00:00, 14.57 timestep/s]\n",
      "100%|██████████| 350/350 [00:24<00:00, 14.47 timestep/s]\n",
      "100%|██████████| 350/350 [00:23<00:00, 14.59 timestep/s]\n",
      "100%|██████████| 350/350 [00:24<00:00, 14.53 timestep/s]\n",
      "100%|██████████| 350/350 [00:24<00:00, 14.50 timestep/s]\n",
      "100%|██████████| 350/350 [00:24<00:00, 14.54 timestep/s]\n",
      "100%|██████████| 350/350 [00:24<00:00, 14.37 timestep/s]\n",
      "100%|██████████| 350/350 [00:24<00:00, 14.39 timestep/s]\n",
      "100%|██████████| 350/350 [00:24<00:00, 14.34 timestep/s]\n",
      "100%|██████████| 350/350 [00:24<00:00, 14.52 timestep/s]\n",
      "100%|██████████| 350/350 [00:24<00:00, 14.51 timestep/s]\n",
      "100%|██████████| 350/350 [00:24<00:00, 14.43 timestep/s]\n",
      "100%|██████████| 350/350 [00:24<00:00, 14.48 timestep/s]\n",
      "100%|██████████| 350/350 [00:24<00:00, 14.52 timestep/s]\n",
      "100%|██████████| 350/350 [00:24<00:00, 14.48 timestep/s]\n",
      "100%|██████████| 350/350 [00:24<00:00, 14.44 timestep/s]\n",
      "100%|██████████| 350/350 [00:24<00:00, 14.42 timestep/s]\n",
      "100%|██████████| 350/350 [00:24<00:00, 14.49 timestep/s]\n",
      "100%|██████████| 350/350 [00:24<00:00, 14.56 timestep/s]\n",
      "100%|██████████| 350/350 [00:24<00:00, 14.45 timestep/s]\n",
      "100%|██████████| 350/350 [00:24<00:00, 14.50 timestep/s]\n",
      "100%|██████████| 350/350 [00:24<00:00, 14.51 timestep/s]\n",
      "100%|██████████| 350/350 [00:24<00:00, 14.54 timestep/s]\n",
      "100%|██████████| 350/350 [00:24<00:00, 14.47 timestep/s]\n",
      "100%|██████████| 350/350 [00:24<00:00, 14.51 timestep/s]\n",
      "100%|██████████| 350/350 [00:24<00:00, 14.48 timestep/s]\n",
      "100%|██████████| 350/350 [00:24<00:00, 14.41 timestep/s]\n",
      "100%|██████████| 350/350 [00:24<00:00, 14.41 timestep/s]\n",
      "100%|██████████| 350/350 [00:24<00:00, 14.54 timestep/s]\n",
      "100%|██████████| 350/350 [00:24<00:00, 14.45 timestep/s]\n",
      "100%|██████████| 350/350 [00:24<00:00, 14.48 timestep/s]\n",
      "100%|██████████| 350/350 [00:24<00:00, 14.41 timestep/s]\n",
      "100%|██████████| 350/350 [00:24<00:00, 14.46 timestep/s]\n",
      "100%|██████████| 350/350 [00:24<00:00, 14.50 timestep/s]\n",
      "100%|██████████| 350/350 [00:24<00:00, 14.52 timestep/s]\n",
      "100%|██████████| 350/350 [00:24<00:00, 14.44 timestep/s]\n",
      "100%|██████████| 350/350 [00:24<00:00, 14.44 timestep/s]\n",
      "100%|██████████| 350/350 [00:24<00:00, 14.46 timestep/s]\n",
      "100%|██████████| 350/350 [00:24<00:00, 14.52 timestep/s]\n",
      "100%|██████████| 350/350 [00:24<00:00, 14.52 timestep/s]\n",
      "100%|██████████| 350/350 [00:24<00:00, 14.45 timestep/s]\n",
      "100%|██████████| 350/350 [00:24<00:00, 14.41 timestep/s]\n",
      "100%|██████████| 350/350 [00:24<00:00, 14.50 timestep/s]\n",
      "100%|██████████| 350/350 [00:24<00:00, 14.44 timestep/s]\n",
      "100%|██████████| 350/350 [00:24<00:00, 14.43 timestep/s]\n",
      "100%|██████████| 350/350 [00:24<00:00, 14.44 timestep/s]\n",
      "100%|██████████| 350/350 [00:24<00:00, 14.40 timestep/s]\n",
      "100%|██████████| 350/350 [00:24<00:00, 14.41 timestep/s]\n",
      "100%|██████████| 350/350 [00:24<00:00, 14.49 timestep/s]\n",
      "100%|██████████| 350/350 [00:24<00:00, 14.50 timestep/s]\n",
      "100%|██████████| 350/350 [00:24<00:00, 14.50 timestep/s]\n",
      "100%|██████████| 350/350 [00:24<00:00, 14.39 timestep/s]\n",
      "100%|██████████| 350/350 [00:24<00:00, 14.47 timestep/s]\n",
      "100%|██████████| 350/350 [00:24<00:00, 14.48 timestep/s]\n",
      "100%|██████████| 350/350 [00:24<00:00, 14.42 timestep/s]\n",
      "100%|██████████| 350/350 [00:24<00:00, 14.44 timestep/s]\n",
      "100%|██████████| 350/350 [00:24<00:00, 14.45 timestep/s]\n",
      "100%|██████████| 350/350 [00:24<00:00, 14.48 timestep/s]\n",
      "100%|██████████| 350/350 [00:24<00:00, 14.14 timestep/s]\n",
      "100%|██████████| 350/350 [00:24<00:00, 14.45 timestep/s]\n",
      "100%|██████████| 350/350 [00:24<00:00, 14.44 timestep/s]\n",
      "100%|██████████| 350/350 [00:24<00:00, 14.45 timestep/s]\n",
      "100%|██████████| 350/350 [00:24<00:00, 14.50 timestep/s]\n",
      "100%|██████████| 350/350 [00:24<00:00, 14.38 timestep/s]\n",
      "100%|██████████| 350/350 [00:24<00:00, 14.39 timestep/s]\n",
      "100%|██████████| 350/350 [00:24<00:00, 14.37 timestep/s]\n",
      "100%|██████████| 350/350 [00:25<00:00, 13.60 timestep/s]\n",
      "100%|██████████| 350/350 [00:25<00:00, 13.63 timestep/s]\n",
      "100%|██████████| 350/350 [00:25<00:00, 13.63 timestep/s]\n",
      "100%|██████████| 350/350 [00:25<00:00, 13.61 timestep/s]\n",
      "100%|██████████| 350/350 [00:25<00:00, 13.62 timestep/s]\n",
      "100%|██████████| 350/350 [00:25<00:00, 13.57 timestep/s]\n",
      "100%|██████████| 350/350 [00:25<00:00, 13.58 timestep/s]\n",
      "100%|██████████| 350/350 [00:25<00:00, 13.57 timestep/s]\n",
      "100%|██████████| 350/350 [00:24<00:00, 14.49 timestep/s]\n",
      "100%|██████████| 350/350 [00:24<00:00, 14.37 timestep/s]\n",
      "100%|██████████| 350/350 [00:24<00:00, 14.38 timestep/s]\n",
      "100%|██████████| 350/350 [00:24<00:00, 14.41 timestep/s]\n",
      "100%|██████████| 350/350 [00:24<00:00, 14.33 timestep/s]\n",
      "100%|██████████| 350/350 [00:24<00:00, 14.47 timestep/s]\n",
      "100%|██████████| 350/350 [00:24<00:00, 14.41 timestep/s]\n",
      "100%|██████████| 350/350 [00:24<00:00, 14.43 timestep/s]\n",
      "100%|██████████| 350/350 [00:24<00:00, 14.41 timestep/s]\n",
      "100%|██████████| 350/350 [00:24<00:00, 14.39 timestep/s]\n",
      "100%|██████████| 350/350 [00:24<00:00, 14.44 timestep/s]\n",
      "100%|██████████| 350/350 [00:24<00:00, 14.33 timestep/s]\n",
      "100%|██████████| 350/350 [00:24<00:00, 14.31 timestep/s]\n",
      "100%|██████████| 350/350 [00:24<00:00, 14.40 timestep/s]\n",
      "100%|██████████| 350/350 [00:24<00:00, 14.37 timestep/s]\n",
      "100%|██████████| 350/350 [00:24<00:00, 14.36 timestep/s]\n",
      "100%|██████████| 350/350 [00:24<00:00, 14.44 timestep/s]\n",
      "100%|██████████| 350/350 [00:24<00:00, 14.41 timestep/s]\n",
      "100%|██████████| 350/350 [00:24<00:00, 14.55 timestep/s]\n",
      "100%|██████████| 350/350 [00:24<00:00, 14.47 timestep/s]\n",
      "100%|██████████| 350/350 [00:24<00:00, 14.37 timestep/s]\n",
      "100%|██████████| 350/350 [00:24<00:00, 14.45 timestep/s]\n",
      "100%|██████████| 350/350 [00:24<00:00, 14.40 timestep/s]\n",
      "100%|██████████| 350/350 [00:24<00:00, 14.40 timestep/s]\n",
      "100%|██████████| 350/350 [00:24<00:00, 14.33 timestep/s]\n",
      "100%|██████████| 350/350 [00:24<00:00, 14.35 timestep/s]\n",
      "100%|██████████| 350/350 [00:24<00:00, 14.38 timestep/s]\n",
      "100%|██████████| 350/350 [00:24<00:00, 14.36 timestep/s]\n",
      "100%|██████████| 350/350 [00:24<00:00, 14.42 timestep/s]\n",
      "100%|██████████| 350/350 [00:24<00:00, 14.32 timestep/s]\n",
      "100%|██████████| 350/350 [00:24<00:00, 14.40 timestep/s]\n",
      "100%|██████████| 350/350 [00:24<00:00, 14.36 timestep/s]\n",
      "100%|██████████| 350/350 [00:24<00:00, 14.40 timestep/s]\n",
      "100%|██████████| 350/350 [00:24<00:00, 14.39 timestep/s]\n",
      "100%|██████████| 350/350 [00:24<00:00, 14.36 timestep/s]\n",
      "100%|██████████| 350/350 [00:24<00:00, 14.39 timestep/s]\n",
      "100%|██████████| 350/350 [00:24<00:00, 14.23 timestep/s]\n",
      "100%|██████████| 350/350 [00:24<00:00, 14.30 timestep/s]\n",
      "100%|██████████| 350/350 [00:24<00:00, 14.27 timestep/s]\n",
      "100%|██████████| 350/350 [00:24<00:00, 14.34 timestep/s]\n",
      "100%|██████████| 350/350 [00:24<00:00, 14.36 timestep/s]\n",
      "100%|██████████| 350/350 [00:24<00:00, 14.30 timestep/s]\n",
      "100%|██████████| 350/350 [00:24<00:00, 14.02 timestep/s]\n",
      "100%|██████████| 350/350 [00:24<00:00, 14.35 timestep/s]\n",
      "100%|██████████| 350/350 [00:24<00:00, 14.35 timestep/s]\n",
      "100%|██████████| 350/350 [00:24<00:00, 14.33 timestep/s]\n",
      "100%|██████████| 350/350 [00:24<00:00, 14.39 timestep/s]\n",
      "100%|██████████| 350/350 [00:24<00:00, 14.37 timestep/s]\n",
      "100%|██████████| 350/350 [00:24<00:00, 14.34 timestep/s]\n",
      "100%|██████████| 350/350 [00:24<00:00, 14.27 timestep/s]\n",
      "100%|██████████| 350/350 [00:24<00:00, 14.30 timestep/s]\n",
      "100%|██████████| 350/350 [00:24<00:00, 14.35 timestep/s]\n",
      "100%|██████████| 350/350 [00:24<00:00, 14.39 timestep/s]\n",
      "100%|██████████| 350/350 [00:24<00:00, 14.38 timestep/s]\n",
      "100%|██████████| 350/350 [00:24<00:00, 14.33 timestep/s]\n",
      "100%|██████████| 350/350 [00:24<00:00, 14.38 timestep/s]\n",
      "100%|██████████| 350/350 [00:24<00:00, 14.46 timestep/s]\n",
      "100%|██████████| 350/350 [00:24<00:00, 14.29 timestep/s]\n",
      "100%|██████████| 350/350 [00:24<00:00, 14.36 timestep/s]\n",
      "100%|██████████| 350/350 [00:24<00:00, 14.47 timestep/s]\n",
      "100%|██████████| 350/350 [00:24<00:00, 14.32 timestep/s]\n",
      "100%|██████████| 350/350 [00:24<00:00, 14.37 timestep/s]\n",
      "100%|██████████| 350/350 [00:24<00:00, 14.40 timestep/s]\n",
      "100%|██████████| 350/350 [00:24<00:00, 14.39 timestep/s]\n",
      "100%|██████████| 350/350 [00:24<00:00, 14.36 timestep/s]\n",
      "100%|██████████| 350/350 [00:24<00:00, 14.35 timestep/s]\n",
      "100%|██████████| 350/350 [00:24<00:00, 14.42 timestep/s]\n",
      "100%|██████████| 350/350 [00:24<00:00, 14.36 timestep/s]\n",
      "100%|██████████| 350/350 [00:24<00:00, 14.29 timestep/s]\n",
      "100%|██████████| 350/350 [00:24<00:00, 14.06 timestep/s]\n",
      "100%|██████████| 350/350 [00:25<00:00, 13.98 timestep/s]\n",
      "100%|██████████| 350/350 [00:24<00:00, 14.12 timestep/s]\n",
      "100%|██████████| 350/350 [00:24<00:00, 14.02 timestep/s]\n",
      "100%|██████████| 350/350 [00:24<00:00, 14.38 timestep/s]\n",
      "100%|██████████| 350/350 [00:24<00:00, 14.22 timestep/s]\n",
      "100%|██████████| 350/350 [00:24<00:00, 14.06 timestep/s]\n",
      "100%|██████████| 350/350 [00:24<00:00, 14.01 timestep/s]\n",
      "100%|██████████| 350/350 [00:25<00:00, 13.97 timestep/s]\n",
      "100%|██████████| 350/350 [00:24<00:00, 14.07 timestep/s]\n",
      "100%|██████████| 350/350 [00:24<00:00, 14.01 timestep/s]\n",
      "100%|██████████| 350/350 [00:25<00:00, 13.92 timestep/s]\n",
      "100%|██████████| 350/350 [00:24<00:00, 14.02 timestep/s]\n",
      "100%|██████████| 350/350 [00:25<00:00, 13.99 timestep/s]\n",
      "100%|██████████| 350/350 [00:24<00:00, 14.38 timestep/s]\n",
      "100%|██████████| 350/350 [00:24<00:00, 14.29 timestep/s]\n",
      "100%|██████████| 350/350 [00:24<00:00, 14.04 timestep/s]\n",
      "100%|██████████| 350/350 [00:25<00:00, 13.96 timestep/s]\n",
      "100%|██████████| 350/350 [00:24<00:00, 14.27 timestep/s]\n",
      "100%|██████████| 350/350 [00:25<00:00, 13.93 timestep/s]\n",
      "100%|██████████| 350/350 [00:25<00:00, 13.70 timestep/s]\n",
      "100%|██████████| 350/350 [00:25<00:00, 13.96 timestep/s]\n",
      "100%|██████████| 350/350 [00:25<00:00, 13.98 timestep/s]\n",
      "100%|██████████| 350/350 [00:25<00:00, 13.96 timestep/s]\n",
      "100%|██████████| 350/350 [00:24<00:00, 14.21 timestep/s]\n",
      "100%|██████████| 350/350 [00:24<00:00, 14.01 timestep/s]\n",
      "100%|██████████| 350/350 [00:24<00:00, 14.12 timestep/s]\n",
      "100%|██████████| 350/350 [00:24<00:00, 14.38 timestep/s]\n",
      "100%|██████████| 350/350 [00:24<00:00, 14.41 timestep/s]\n",
      "100%|██████████| 350/350 [00:24<00:00, 14.12 timestep/s]\n",
      "100%|██████████| 350/350 [00:24<00:00, 14.28 timestep/s]\n",
      "100%|██████████| 350/350 [00:24<00:00, 14.28 timestep/s]\n",
      "100%|██████████| 350/350 [00:24<00:00, 14.06 timestep/s]\n",
      "100%|██████████| 350/350 [00:24<00:00, 14.21 timestep/s]\n",
      "100%|██████████| 350/350 [00:24<00:00, 14.49 timestep/s]\n",
      "100%|██████████| 350/350 [00:24<00:00, 14.38 timestep/s]\n",
      "100%|██████████| 350/350 [00:24<00:00, 14.25 timestep/s]\n",
      "100%|██████████| 350/350 [00:24<00:00, 14.25 timestep/s]\n",
      "100%|██████████| 350/350 [00:24<00:00, 14.16 timestep/s]\n",
      "100%|██████████| 350/350 [00:24<00:00, 14.45 timestep/s]\n",
      "100%|██████████| 350/350 [00:24<00:00, 14.22 timestep/s]\n",
      "100%|██████████| 350/350 [00:24<00:00, 14.38 timestep/s]\n",
      "100%|██████████| 350/350 [00:24<00:00, 14.14 timestep/s]\n",
      "100%|██████████| 350/350 [00:24<00:00, 14.46 timestep/s]\n",
      "100%|██████████| 350/350 [00:24<00:00, 14.44 timestep/s]\n",
      "100%|██████████| 350/350 [00:24<00:00, 14.08 timestep/s]\n",
      "100%|██████████| 350/350 [00:24<00:00, 14.53 timestep/s]\n",
      "100%|██████████| 350/350 [00:24<00:00, 14.24 timestep/s]\n",
      "100%|██████████| 350/350 [00:24<00:00, 14.43 timestep/s]\n",
      "100%|██████████| 350/350 [00:24<00:00, 14.50 timestep/s]\n",
      "100%|██████████| 350/350 [00:23<00:00, 14.61 timestep/s]\n",
      "100%|██████████| 350/350 [00:24<00:00, 14.15 timestep/s]\n",
      "100%|██████████| 350/350 [00:24<00:00, 14.46 timestep/s]\n",
      "100%|██████████| 350/350 [00:24<00:00, 14.38 timestep/s]\n",
      "100%|██████████| 350/350 [00:24<00:00, 14.56 timestep/s]\n",
      "100%|██████████| 350/350 [00:24<00:00, 14.44 timestep/s]\n",
      "100%|██████████| 350/350 [00:24<00:00, 14.42 timestep/s]\n",
      "100%|██████████| 350/350 [00:24<00:00, 14.24 timestep/s]\n",
      "100%|██████████| 350/350 [00:24<00:00, 14.32 timestep/s]\n",
      "100%|██████████| 350/350 [00:24<00:00, 14.23 timestep/s]\n",
      "100%|██████████| 350/350 [00:24<00:00, 14.49 timestep/s]\n",
      "100%|██████████| 350/350 [00:24<00:00, 14.41 timestep/s]\n",
      "100%|██████████| 350/350 [00:24<00:00, 14.36 timestep/s]\n",
      "100%|██████████| 350/350 [00:24<00:00, 14.28 timestep/s]\n",
      "100%|██████████| 350/350 [00:24<00:00, 14.37 timestep/s]\n",
      "100%|██████████| 350/350 [00:24<00:00, 14.40 timestep/s]\n",
      "100%|██████████| 350/350 [00:24<00:00, 14.42 timestep/s]\n",
      "100%|██████████| 350/350 [00:24<00:00, 14.39 timestep/s]\n",
      "100%|██████████| 350/350 [00:24<00:00, 14.30 timestep/s]\n",
      "100%|██████████| 350/350 [00:23<00:00, 14.75 timestep/s]\n",
      "100%|██████████| 350/350 [00:24<00:00, 14.09 timestep/s]\n",
      "100%|██████████| 350/350 [00:24<00:00, 14.33 timestep/s]\n",
      "100%|██████████| 350/350 [00:24<00:00, 14.37 timestep/s]\n",
      "100%|██████████| 350/350 [00:24<00:00, 14.40 timestep/s]\n",
      "100%|██████████| 350/350 [00:24<00:00, 14.48 timestep/s]\n",
      "100%|██████████| 350/350 [00:24<00:00, 14.36 timestep/s]\n",
      "100%|██████████| 350/350 [00:24<00:00, 14.43 timestep/s]\n",
      "100%|██████████| 350/350 [00:24<00:00, 14.27 timestep/s]\n",
      "100%|██████████| 350/350 [00:24<00:00, 14.51 timestep/s]\n",
      "100%|██████████| 350/350 [00:24<00:00, 14.52 timestep/s]\n",
      "100%|██████████| 350/350 [00:24<00:00, 14.51 timestep/s]\n",
      "100%|██████████| 350/350 [00:24<00:00, 14.37 timestep/s]\n",
      "100%|██████████| 350/350 [00:24<00:00, 14.46 timestep/s]\n",
      "100%|██████████| 350/350 [00:24<00:00, 14.30 timestep/s]\n",
      "100%|██████████| 350/350 [00:24<00:00, 14.49 timestep/s]\n",
      "100%|██████████| 350/350 [00:24<00:00, 14.39 timestep/s]\n",
      "100%|██████████| 350/350 [00:24<00:00, 14.46 timestep/s]\n",
      "100%|██████████| 350/350 [00:24<00:00, 14.14 timestep/s]\n",
      "100%|██████████| 350/350 [00:24<00:00, 14.25 timestep/s]\n",
      "100%|██████████| 350/350 [00:24<00:00, 14.20 timestep/s]\n",
      "100%|██████████| 350/350 [00:24<00:00, 14.44 timestep/s]\n",
      "100%|██████████| 350/350 [00:24<00:00, 14.21 timestep/s]\n",
      "100%|██████████| 350/350 [00:24<00:00, 14.20 timestep/s]\n",
      "100%|██████████| 350/350 [00:24<00:00, 14.24 timestep/s]\n",
      "100%|██████████| 350/350 [00:24<00:00, 14.22 timestep/s]\n",
      "100%|██████████| 350/350 [00:24<00:00, 14.49 timestep/s]\n",
      "100%|██████████| 350/350 [00:24<00:00, 14.18 timestep/s]\n",
      "100%|██████████| 350/350 [00:24<00:00, 14.33 timestep/s]\n",
      "100%|██████████| 350/350 [00:24<00:00, 14.22 timestep/s]\n",
      "100%|██████████| 350/350 [00:24<00:00, 14.20 timestep/s]\n",
      "100%|██████████| 350/350 [00:24<00:00, 14.17 timestep/s]\n",
      "100%|██████████| 350/350 [00:24<00:00, 14.52 timestep/s]\n",
      "100%|██████████| 350/350 [00:23<00:00, 14.60 timestep/s]\n",
      "100%|██████████| 350/350 [00:24<00:00, 14.44 timestep/s]\n",
      "100%|██████████| 350/350 [00:24<00:00, 14.41 timestep/s]\n",
      "100%|██████████| 350/350 [00:24<00:00, 14.42 timestep/s]\n",
      "100%|██████████| 350/350 [00:24<00:00, 14.46 timestep/s]\n",
      "100%|██████████| 350/350 [00:23<00:00, 14.70 timestep/s]\n",
      "100%|██████████| 350/350 [00:23<00:00, 14.60 timestep/s]\n",
      "100%|██████████| 350/350 [00:24<00:00, 14.16 timestep/s]\n",
      "100%|██████████| 350/350 [00:24<00:00, 14.56 timestep/s]\n",
      "100%|██████████| 350/350 [00:24<00:00, 14.32 timestep/s]\n",
      "100%|██████████| 350/350 [00:24<00:00, 14.32 timestep/s]\n",
      "100%|██████████| 350/350 [00:24<00:00, 14.22 timestep/s]\n",
      "100%|██████████| 350/350 [00:24<00:00, 14.30 timestep/s]\n",
      "100%|██████████| 350/350 [00:24<00:00, 14.22 timestep/s]\n",
      "100%|██████████| 350/350 [00:24<00:00, 14.21 timestep/s]\n",
      "100%|██████████| 350/350 [00:23<00:00, 14.59 timestep/s]\n",
      "100%|██████████| 350/350 [00:24<00:00, 14.53 timestep/s]\n",
      "100%|██████████| 350/350 [00:24<00:00, 14.45 timestep/s]\n",
      "100%|██████████| 350/350 [00:24<00:00, 14.11 timestep/s]\n",
      "100%|██████████| 350/350 [00:24<00:00, 14.34 timestep/s]\n",
      "100%|██████████| 350/350 [00:24<00:00, 14.18 timestep/s]\n",
      "100%|██████████| 350/350 [00:24<00:00, 14.47 timestep/s]\n",
      "100%|██████████| 350/350 [00:24<00:00, 14.48 timestep/s]\n",
      "100%|██████████| 350/350 [00:24<00:00, 14.33 timestep/s]\n",
      "100%|██████████| 350/350 [00:24<00:00, 14.32 timestep/s]\n",
      "100%|██████████| 350/350 [00:24<00:00, 14.18 timestep/s]\n",
      "100%|██████████| 350/350 [00:24<00:00, 14.23 timestep/s]\n",
      "100%|██████████| 350/350 [00:24<00:00, 14.56 timestep/s]\n",
      "100%|██████████| 350/350 [00:24<00:00, 14.37 timestep/s]\n",
      "100%|██████████| 350/350 [00:24<00:00, 14.34 timestep/s]\n",
      "100%|██████████| 350/350 [00:24<00:00, 14.20 timestep/s]\n",
      "100%|██████████| 350/350 [00:24<00:00, 14.58 timestep/s]\n",
      "100%|██████████| 350/350 [00:24<00:00, 14.36 timestep/s]\n",
      "100%|██████████| 350/350 [00:24<00:00, 14.05 timestep/s]\n",
      "100%|██████████| 350/350 [00:24<00:00, 14.46 timestep/s]\n",
      "100%|██████████| 350/350 [00:24<00:00, 14.31 timestep/s]\n",
      "100%|██████████| 350/350 [00:24<00:00, 14.48 timestep/s]\n",
      "100%|██████████| 350/350 [00:24<00:00, 14.42 timestep/s]\n",
      "100%|██████████| 350/350 [00:24<00:00, 14.30 timestep/s]\n",
      "100%|██████████| 350/350 [00:24<00:00, 14.43 timestep/s]\n",
      "100%|██████████| 350/350 [00:24<00:00, 14.28 timestep/s]\n",
      "100%|██████████| 350/350 [00:24<00:00, 14.40 timestep/s]\n",
      "100%|██████████| 350/350 [00:24<00:00, 14.43 timestep/s]\n",
      "100%|██████████| 350/350 [00:24<00:00, 14.22 timestep/s]\n",
      "100%|██████████| 350/350 [00:24<00:00, 14.28 timestep/s]\n",
      "100%|██████████| 350/350 [00:24<00:00, 14.26 timestep/s]\n",
      "100%|██████████| 350/350 [00:25<00:00, 13.90 timestep/s]\n",
      "100%|██████████| 350/350 [00:23<00:00, 14.61 timestep/s]\n",
      "100%|██████████| 350/350 [00:24<00:00, 14.58 timestep/s]\n",
      "100%|██████████| 350/350 [00:24<00:00, 14.52 timestep/s]\n",
      "100%|██████████| 350/350 [00:23<00:00, 14.73 timestep/s]\n",
      "100%|██████████| 350/350 [00:24<00:00, 14.44 timestep/s]\n",
      "100%|██████████| 350/350 [00:24<00:00, 14.29 timestep/s]\n",
      "100%|██████████| 350/350 [00:24<00:00, 14.50 timestep/s]\n",
      "100%|██████████| 350/350 [00:24<00:00, 14.38 timestep/s]\n",
      "100%|██████████| 350/350 [00:24<00:00, 14.24 timestep/s]\n",
      "100%|██████████| 350/350 [00:24<00:00, 14.34 timestep/s]\n",
      "100%|██████████| 350/350 [00:23<00:00, 14.68 timestep/s]\n",
      "100%|██████████| 350/350 [00:24<00:00, 14.38 timestep/s]\n",
      "100%|██████████| 350/350 [00:24<00:00, 14.55 timestep/s]\n",
      "100%|██████████| 350/350 [00:24<00:00, 14.32 timestep/s]\n",
      "100%|██████████| 350/350 [00:24<00:00, 14.26 timestep/s]\n",
      "100%|██████████| 350/350 [00:24<00:00, 14.31 timestep/s]\n",
      "100%|██████████| 350/350 [00:24<00:00, 14.37 timestep/s]\n",
      "100%|██████████| 350/350 [00:24<00:00, 14.12 timestep/s]\n",
      "100%|██████████| 350/350 [00:24<00:00, 14.20 timestep/s]\n",
      "100%|██████████| 350/350 [00:24<00:00, 14.48 timestep/s]\n",
      "100%|██████████| 350/350 [00:23<00:00, 14.59 timestep/s]\n",
      "100%|██████████| 350/350 [00:24<00:00, 14.44 timestep/s]\n",
      "100%|██████████| 350/350 [00:24<00:00, 14.35 timestep/s]\n",
      "100%|██████████| 350/350 [00:24<00:00, 14.31 timestep/s]\n",
      "100%|██████████| 350/350 [00:24<00:00, 14.37 timestep/s]\n",
      "100%|██████████| 350/350 [00:24<00:00, 14.09 timestep/s]\n",
      "100%|██████████| 350/350 [00:24<00:00, 14.41 timestep/s]\n",
      "100%|██████████| 350/350 [00:23<00:00, 14.61 timestep/s]\n",
      "100%|██████████| 350/350 [00:24<00:00, 14.57 timestep/s]\n",
      "100%|██████████| 350/350 [00:24<00:00, 14.20 timestep/s]\n",
      "100%|██████████| 350/350 [00:24<00:00, 14.49 timestep/s]\n",
      "100%|██████████| 350/350 [00:24<00:00, 14.29 timestep/s]\n",
      "100%|██████████| 350/350 [00:24<00:00, 14.16 timestep/s]\n",
      "100%|██████████| 350/350 [00:24<00:00, 14.16 timestep/s]\n",
      "100%|██████████| 350/350 [00:24<00:00, 14.50 timestep/s]\n",
      "100%|██████████| 350/350 [00:23<00:00, 14.65 timestep/s]\n",
      "100%|██████████| 350/350 [00:24<00:00, 14.04 timestep/s]\n",
      "100%|██████████| 350/350 [00:24<00:00, 14.42 timestep/s]\n",
      "100%|██████████| 350/350 [00:24<00:00, 14.02 timestep/s]\n",
      "100%|██████████| 350/350 [00:24<00:00, 14.33 timestep/s]\n",
      "100%|██████████| 350/350 [00:24<00:00, 14.56 timestep/s]\n",
      "100%|██████████| 350/350 [00:23<00:00, 14.60 timestep/s]\n",
      "100%|██████████| 350/350 [00:24<00:00, 14.37 timestep/s]\n",
      "100%|██████████| 350/350 [00:24<00:00, 14.31 timestep/s]\n",
      "100%|██████████| 350/350 [00:24<00:00, 14.56 timestep/s]\n",
      "100%|██████████| 350/350 [00:24<00:00, 14.21 timestep/s]\n",
      "100%|██████████| 350/350 [00:24<00:00, 14.40 timestep/s]\n",
      "100%|██████████| 350/350 [00:24<00:00, 14.20 timestep/s]\n",
      "100%|██████████| 350/350 [00:23<00:00, 14.59 timestep/s]\n",
      "100%|██████████| 350/350 [00:24<00:00, 14.44 timestep/s]\n",
      "100%|██████████| 350/350 [00:24<00:00, 14.33 timestep/s]\n",
      "100%|██████████| 350/350 [00:24<00:00, 14.26 timestep/s]\n",
      "100%|██████████| 350/350 [00:24<00:00, 14.36 timestep/s]\n",
      "100%|██████████| 350/350 [00:24<00:00, 14.51 timestep/s]\n",
      "100%|██████████| 350/350 [00:24<00:00, 14.15 timestep/s]\n",
      "100%|██████████| 350/350 [00:24<00:00, 14.42 timestep/s]\n",
      "100%|██████████| 350/350 [00:24<00:00, 14.21 timestep/s]\n",
      "100%|██████████| 350/350 [00:24<00:00, 14.53 timestep/s]\n",
      "100%|██████████| 350/350 [00:24<00:00, 14.10 timestep/s]\n",
      "100%|██████████| 350/350 [00:24<00:00, 14.56 timestep/s]\n",
      "100%|██████████| 350/350 [00:24<00:00, 14.42 timestep/s]\n",
      "100%|██████████| 350/350 [00:24<00:00, 14.05 timestep/s]\n",
      "100%|██████████| 350/350 [00:24<00:00, 14.36 timestep/s]\n",
      "100%|██████████| 350/350 [00:24<00:00, 14.35 timestep/s]\n",
      "100%|██████████| 350/350 [00:24<00:00, 14.24 timestep/s]\n",
      "100%|██████████| 350/350 [00:23<00:00, 14.75 timestep/s]\n",
      "100%|██████████| 350/350 [00:24<00:00, 14.28 timestep/s]\n",
      "100%|██████████| 350/350 [00:24<00:00, 14.12 timestep/s]\n",
      "100%|██████████| 350/350 [00:24<00:00, 14.39 timestep/s]\n",
      "100%|██████████| 350/350 [00:24<00:00, 14.49 timestep/s]\n",
      "100%|██████████| 350/350 [00:24<00:00, 14.34 timestep/s]\n",
      "100%|██████████| 350/350 [00:24<00:00, 14.48 timestep/s]\n",
      "100%|██████████| 350/350 [00:24<00:00, 14.31 timestep/s]\n",
      "100%|██████████| 350/350 [00:24<00:00, 14.51 timestep/s]\n",
      "100%|██████████| 350/350 [00:24<00:00, 14.41 timestep/s]\n",
      "100%|██████████| 350/350 [00:24<00:00, 14.57 timestep/s]\n",
      "100%|██████████| 350/350 [00:24<00:00, 14.51 timestep/s]\n",
      "100%|██████████| 350/350 [00:23<00:00, 14.79 timestep/s]\n",
      "100%|██████████| 350/350 [00:24<00:00, 14.17 timestep/s]\n",
      "100%|██████████| 350/350 [00:24<00:00, 14.27 timestep/s]\n",
      "100%|██████████| 350/350 [00:24<00:00, 14.14 timestep/s]\n",
      "100%|██████████| 350/350 [00:24<00:00, 14.20 timestep/s]\n",
      "100%|██████████| 350/350 [00:24<00:00, 14.14 timestep/s]\n",
      "100%|██████████| 350/350 [00:24<00:00, 14.26 timestep/s]\n",
      "100%|██████████| 350/350 [00:24<00:00, 14.58 timestep/s]\n",
      "100%|██████████| 350/350 [00:24<00:00, 14.49 timestep/s]\n",
      "100%|██████████| 350/350 [00:24<00:00, 14.39 timestep/s]\n",
      "100%|██████████| 350/350 [00:24<00:00, 14.25 timestep/s]\n",
      "100%|██████████| 350/350 [00:24<00:00, 14.36 timestep/s]\n",
      "100%|██████████| 350/350 [00:24<00:00, 14.36 timestep/s]\n",
      "100%|██████████| 350/350 [00:24<00:00, 14.05 timestep/s]\n",
      "100%|██████████| 350/350 [00:24<00:00, 14.42 timestep/s]\n",
      "100%|██████████| 350/350 [00:24<00:00, 14.39 timestep/s]\n",
      "100%|██████████| 350/350 [00:24<00:00, 14.41 timestep/s]\n",
      "100%|██████████| 350/350 [00:24<00:00, 14.25 timestep/s]\n",
      "100%|██████████| 350/350 [00:24<00:00, 14.57 timestep/s]\n",
      "100%|██████████| 350/350 [00:24<00:00, 14.28 timestep/s]\n",
      "100%|██████████| 350/350 [00:24<00:00, 14.50 timestep/s]\n",
      "100%|██████████| 350/350 [00:24<00:00, 14.38 timestep/s]\n",
      "100%|██████████| 350/350 [00:24<00:00, 14.16 timestep/s]\n",
      "100%|██████████| 350/350 [00:24<00:00, 14.51 timestep/s]\n",
      "100%|██████████| 350/350 [00:24<00:00, 14.42 timestep/s]\n",
      "100%|██████████| 350/350 [00:24<00:00, 14.51 timestep/s]\n",
      "100%|██████████| 350/350 [00:24<00:00, 14.34 timestep/s]\n",
      "100%|██████████| 350/350 [00:24<00:00, 14.29 timestep/s]\n",
      "100%|██████████| 350/350 [00:24<00:00, 14.21 timestep/s]\n",
      "100%|██████████| 350/350 [00:24<00:00, 14.39 timestep/s]\n",
      "100%|██████████| 350/350 [00:24<00:00, 14.34 timestep/s]\n",
      "100%|██████████| 350/350 [00:24<00:00, 14.44 timestep/s]\n",
      "100%|██████████| 350/350 [00:24<00:00, 14.23 timestep/s]\n",
      "100%|██████████| 350/350 [00:24<00:00, 14.41 timestep/s]\n",
      "100%|██████████| 350/350 [00:24<00:00, 14.43 timestep/s]\n",
      "100%|██████████| 350/350 [00:24<00:00, 14.36 timestep/s]\n",
      "100%|██████████| 350/350 [00:25<00:00, 13.97 timestep/s]\n",
      "100%|██████████| 350/350 [00:24<00:00, 14.30 timestep/s]\n",
      "100%|██████████| 350/350 [00:24<00:00, 14.04 timestep/s]\n",
      "100%|██████████| 350/350 [00:24<00:00, 14.15 timestep/s]\n",
      "100%|██████████| 350/350 [00:24<00:00, 14.30 timestep/s]\n",
      "100%|██████████| 350/350 [00:24<00:00, 14.33 timestep/s]\n",
      "100%|██████████| 350/350 [00:24<00:00, 14.30 timestep/s]\n",
      "100%|██████████| 350/350 [00:24<00:00, 14.38 timestep/s]\n",
      "100%|██████████| 350/350 [00:23<00:00, 14.73 timestep/s]\n",
      "100%|██████████| 350/350 [00:24<00:00, 14.34 timestep/s]\n",
      "100%|██████████| 350/350 [00:23<00:00, 14.60 timestep/s]\n",
      "100%|██████████| 350/350 [00:24<00:00, 14.50 timestep/s]\n",
      "100%|██████████| 350/350 [00:24<00:00, 14.56 timestep/s]\n",
      "100%|██████████| 350/350 [00:24<00:00, 14.35 timestep/s]\n",
      "100%|██████████| 350/350 [00:24<00:00, 14.15 timestep/s]\n",
      "100%|██████████| 350/350 [00:24<00:00, 14.53 timestep/s]\n",
      "100%|██████████| 350/350 [00:24<00:00, 14.28 timestep/s]\n",
      "100%|██████████| 350/350 [00:24<00:00, 14.38 timestep/s]\n",
      "100%|██████████| 350/350 [00:23<00:00, 14.63 timestep/s]\n",
      "100%|██████████| 350/350 [00:23<00:00, 14.63 timestep/s]\n",
      "100%|██████████| 350/350 [00:24<00:00, 14.35 timestep/s]\n",
      "100%|██████████| 350/350 [00:24<00:00, 14.33 timestep/s]\n",
      "100%|██████████| 350/350 [00:24<00:00, 14.26 timestep/s]\n",
      "100%|██████████| 350/350 [00:23<00:00, 14.72 timestep/s]\n",
      "100%|██████████| 350/350 [00:24<00:00, 14.35 timestep/s]\n",
      "100%|██████████| 350/350 [00:24<00:00, 14.01 timestep/s]\n",
      "100%|██████████| 350/350 [00:24<00:00, 14.22 timestep/s]\n",
      "100%|██████████| 350/350 [00:24<00:00, 14.27 timestep/s]\n",
      "100%|██████████| 350/350 [00:24<00:00, 14.32 timestep/s]\n",
      "100%|██████████| 350/350 [00:24<00:00, 14.58 timestep/s]\n",
      "100%|██████████| 350/350 [00:24<00:00, 14.36 timestep/s]\n",
      "100%|██████████| 350/350 [00:23<00:00, 14.63 timestep/s]\n",
      "100%|██████████| 350/350 [00:24<00:00, 14.02 timestep/s]\n",
      "100%|██████████| 350/350 [00:24<00:00, 14.27 timestep/s]\n",
      "100%|██████████| 350/350 [00:24<00:00, 14.37 timestep/s]\n",
      "100%|██████████| 350/350 [00:24<00:00, 14.25 timestep/s]\n",
      "100%|██████████| 350/350 [00:24<00:00, 14.38 timestep/s]\n",
      "100%|██████████| 350/350 [00:24<00:00, 14.57 timestep/s]\n",
      "100%|██████████| 350/350 [00:24<00:00, 14.41 timestep/s]\n",
      "100%|██████████| 350/350 [00:24<00:00, 14.44 timestep/s]\n",
      "100%|██████████| 350/350 [00:23<00:00, 14.61 timestep/s]\n",
      "100%|██████████| 350/350 [00:24<00:00, 14.55 timestep/s]\n",
      "100%|██████████| 350/350 [00:24<00:00, 14.23 timestep/s]\n",
      "100%|██████████| 350/350 [00:24<00:00, 14.40 timestep/s]\n",
      "100%|██████████| 350/350 [00:24<00:00, 14.56 timestep/s]\n",
      "100%|██████████| 350/350 [00:24<00:00, 14.53 timestep/s]\n",
      "100%|██████████| 350/350 [00:24<00:00, 14.36 timestep/s]\n",
      "100%|██████████| 350/350 [00:24<00:00, 14.43 timestep/s]\n",
      "100%|██████████| 350/350 [00:23<00:00, 14.70 timestep/s]\n",
      "100%|██████████| 350/350 [00:24<00:00, 14.23 timestep/s]\n",
      "100%|██████████| 350/350 [00:24<00:00, 14.36 timestep/s]\n",
      "100%|██████████| 350/350 [00:24<00:00, 14.40 timestep/s]\n",
      "100%|██████████| 350/350 [00:24<00:00, 14.40 timestep/s]\n",
      "100%|██████████| 350/350 [00:23<00:00, 14.59 timestep/s]\n",
      "100%|██████████| 350/350 [00:24<00:00, 14.20 timestep/s]\n",
      "100%|██████████| 350/350 [00:24<00:00, 14.38 timestep/s]\n",
      "100%|██████████| 350/350 [00:24<00:00, 14.37 timestep/s]\n",
      "100%|██████████| 350/350 [00:24<00:00, 14.12 timestep/s]\n",
      "100%|██████████| 350/350 [00:24<00:00, 14.26 timestep/s]\n",
      "100%|██████████| 350/350 [00:24<00:00, 14.40 timestep/s]\n",
      "100%|██████████| 350/350 [00:24<00:00, 14.41 timestep/s]\n",
      "100%|██████████| 350/350 [00:24<00:00, 14.33 timestep/s]\n",
      "100%|██████████| 350/350 [00:24<00:00, 14.46 timestep/s]\n",
      "100%|██████████| 350/350 [00:24<00:00, 14.41 timestep/s]\n",
      "100%|██████████| 350/350 [00:24<00:00, 14.25 timestep/s]\n",
      "100%|██████████| 350/350 [00:24<00:00, 14.15 timestep/s]\n",
      "100%|██████████| 350/350 [00:24<00:00, 14.36 timestep/s]\n",
      "100%|██████████| 350/350 [00:24<00:00, 14.24 timestep/s]\n",
      "100%|██████████| 350/350 [00:24<00:00, 14.29 timestep/s]\n",
      "100%|██████████| 350/350 [00:24<00:00, 14.31 timestep/s]\n",
      "100%|██████████| 350/350 [00:24<00:00, 14.50 timestep/s]\n",
      "100%|██████████| 350/350 [00:24<00:00, 14.48 timestep/s]\n",
      "100%|██████████| 350/350 [00:24<00:00, 14.28 timestep/s]\n",
      "100%|██████████| 350/350 [00:24<00:00, 14.32 timestep/s]\n",
      "100%|██████████| 350/350 [00:24<00:00, 14.38 timestep/s]\n",
      "100%|██████████| 350/350 [00:24<00:00, 14.26 timestep/s]\n",
      "100%|██████████| 350/350 [00:24<00:00, 14.30 timestep/s]\n",
      "100%|██████████| 350/350 [00:24<00:00, 14.42 timestep/s]\n",
      "100%|██████████| 350/350 [00:24<00:00, 14.12 timestep/s]\n",
      "100%|██████████| 350/350 [00:23<00:00, 14.66 timestep/s]\n",
      "100%|██████████| 350/350 [00:24<00:00, 14.28 timestep/s]\n",
      "100%|██████████| 350/350 [00:24<00:00, 14.16 timestep/s]\n",
      "100%|██████████| 350/350 [00:24<00:00, 14.33 timestep/s]\n",
      "100%|██████████| 350/350 [00:24<00:00, 14.27 timestep/s]\n",
      "100%|██████████| 350/350 [00:24<00:00, 14.49 timestep/s]\n",
      "100%|██████████| 350/350 [00:24<00:00, 14.23 timestep/s]\n",
      "100%|██████████| 350/350 [00:24<00:00, 14.33 timestep/s]\n",
      "100%|██████████| 350/350 [00:25<00:00, 13.67 timestep/s]\n",
      "100%|██████████| 350/350 [00:24<00:00, 14.33 timestep/s]\n",
      "100%|██████████| 350/350 [00:24<00:00, 14.24 timestep/s]\n",
      "100%|██████████| 350/350 [00:24<00:00, 14.51 timestep/s]\n",
      "100%|██████████| 350/350 [00:24<00:00, 14.55 timestep/s]\n",
      "100%|██████████| 350/350 [00:24<00:00, 14.31 timestep/s]\n",
      "100%|██████████| 350/350 [00:24<00:00, 14.22 timestep/s]\n",
      "100%|██████████| 350/350 [00:24<00:00, 14.30 timestep/s]\n",
      "100%|██████████| 350/350 [00:24<00:00, 14.52 timestep/s]\n",
      "100%|██████████| 350/350 [00:24<00:00, 14.41 timestep/s]\n",
      "100%|██████████| 350/350 [00:24<00:00, 14.46 timestep/s]\n",
      "100%|██████████| 350/350 [00:24<00:00, 14.23 timestep/s]\n",
      "100%|██████████| 350/350 [00:24<00:00, 14.49 timestep/s]\n",
      "100%|██████████| 350/350 [00:23<00:00, 14.65 timestep/s]\n",
      "100%|██████████| 350/350 [00:24<00:00, 14.21 timestep/s]\n",
      "100%|██████████| 350/350 [00:24<00:00, 14.51 timestep/s]\n",
      "100%|██████████| 350/350 [00:24<00:00, 14.11 timestep/s]\n",
      "100%|██████████| 350/350 [00:24<00:00, 14.18 timestep/s]\n",
      "100%|██████████| 350/350 [00:24<00:00, 14.26 timestep/s]\n",
      "100%|██████████| 350/350 [00:24<00:00, 14.45 timestep/s]\n",
      "100%|██████████| 350/350 [00:24<00:00, 14.45 timestep/s]\n",
      "100%|██████████| 350/350 [00:24<00:00, 14.37 timestep/s]\n",
      "100%|██████████| 350/350 [00:24<00:00, 14.36 timestep/s]\n",
      "100%|██████████| 350/350 [00:24<00:00, 14.39 timestep/s]\n",
      "100%|██████████| 350/350 [00:24<00:00, 14.37 timestep/s]\n",
      "100%|██████████| 350/350 [00:24<00:00, 14.44 timestep/s]\n",
      "100%|██████████| 350/350 [00:24<00:00, 14.23 timestep/s]\n",
      "100%|██████████| 350/350 [00:24<00:00, 14.17 timestep/s]\n",
      "100%|██████████| 350/350 [00:24<00:00, 14.16 timestep/s]\n",
      "100%|██████████| 350/350 [00:23<00:00, 14.58 timestep/s]\n",
      "100%|██████████| 350/350 [00:24<00:00, 14.37 timestep/s]\n",
      "100%|██████████| 350/350 [00:24<00:00, 14.20 timestep/s]\n",
      "100%|██████████| 350/350 [00:24<00:00, 14.43 timestep/s]\n",
      "100%|██████████| 350/350 [00:24<00:00, 14.47 timestep/s]\n",
      "100%|██████████| 350/350 [00:24<00:00, 14.49 timestep/s]\n",
      "100%|██████████| 350/350 [00:24<00:00, 14.29 timestep/s]\n",
      "100%|██████████| 350/350 [00:24<00:00, 14.30 timestep/s]\n",
      "100%|██████████| 350/350 [00:23<00:00, 14.60 timestep/s]\n",
      "100%|██████████| 350/350 [00:24<00:00, 14.54 timestep/s]\n",
      "100%|██████████| 350/350 [00:24<00:00, 14.31 timestep/s]\n",
      "100%|██████████| 350/350 [00:24<00:00, 14.23 timestep/s]\n",
      "100%|██████████| 350/350 [00:23<00:00, 14.59 timestep/s]\n",
      "100%|██████████| 350/350 [00:24<00:00, 14.57 timestep/s]\n",
      "100%|██████████| 350/350 [00:24<00:00, 14.36 timestep/s]\n",
      "100%|██████████| 350/350 [00:24<00:00, 14.21 timestep/s]\n",
      "100%|██████████| 350/350 [00:24<00:00, 14.16 timestep/s]\n",
      "100%|██████████| 350/350 [00:24<00:00, 14.23 timestep/s]\n",
      "100%|██████████| 350/350 [00:24<00:00, 14.31 timestep/s]\n",
      "100%|██████████| 350/350 [00:23<00:00, 14.73 timestep/s]\n",
      "100%|██████████| 350/350 [00:24<00:00, 14.19 timestep/s]\n",
      "100%|██████████| 350/350 [00:24<00:00, 14.19 timestep/s]\n",
      "100%|██████████| 350/350 [00:23<00:00, 14.75 timestep/s]\n",
      "100%|██████████| 350/350 [00:24<00:00, 14.23 timestep/s]\n",
      "100%|██████████| 350/350 [00:24<00:00, 14.58 timestep/s]\n",
      "100%|██████████| 350/350 [00:25<00:00, 13.88 timestep/s]\n",
      "100%|██████████| 350/350 [00:24<00:00, 14.16 timestep/s]\n",
      "100%|██████████| 350/350 [00:24<00:00, 14.51 timestep/s]\n",
      "100%|██████████| 350/350 [00:24<00:00, 14.26 timestep/s]\n",
      "100%|██████████| 350/350 [00:24<00:00, 14.32 timestep/s]\n",
      "100%|██████████| 350/350 [00:24<00:00, 14.40 timestep/s]\n",
      "100%|██████████| 350/350 [00:24<00:00, 14.34 timestep/s]\n",
      "100%|██████████| 350/350 [00:24<00:00, 14.03 timestep/s]\n",
      "100%|██████████| 350/350 [00:24<00:00, 14.22 timestep/s]\n",
      "100%|██████████| 350/350 [00:24<00:00, 14.25 timestep/s]\n",
      "100%|██████████| 350/350 [00:24<00:00, 14.40 timestep/s]\n",
      "100%|██████████| 350/350 [00:24<00:00, 14.32 timestep/s]\n",
      "100%|██████████| 350/350 [00:24<00:00, 14.46 timestep/s]\n",
      "100%|██████████| 350/350 [00:24<00:00, 14.29 timestep/s]\n",
      "100%|██████████| 350/350 [00:24<00:00, 14.16 timestep/s]\n",
      "100%|██████████| 350/350 [00:24<00:00, 14.41 timestep/s]\n",
      "100%|██████████| 350/350 [00:25<00:00, 13.55 timestep/s]\n",
      "100%|██████████| 350/350 [00:25<00:00, 13.64 timestep/s]\n",
      "100%|██████████| 350/350 [00:25<00:00, 13.94 timestep/s]\n",
      "100%|██████████| 350/350 [00:25<00:00, 13.75 timestep/s]\n",
      "100%|██████████| 350/350 [00:25<00:00, 13.89 timestep/s]\n",
      "100%|██████████| 350/350 [00:24<00:00, 14.49 timestep/s]\n",
      "100%|██████████| 350/350 [00:24<00:00, 14.26 timestep/s]\n",
      "100%|██████████| 350/350 [00:24<00:00, 14.31 timestep/s]\n",
      "100%|██████████| 350/350 [00:24<00:00, 14.20 timestep/s]\n",
      "100%|██████████| 350/350 [00:24<00:00, 14.47 timestep/s]\n",
      "100%|██████████| 350/350 [00:24<00:00, 14.14 timestep/s]\n",
      "100%|██████████| 350/350 [00:24<00:00, 14.38 timestep/s]\n",
      "100%|██████████| 350/350 [00:24<00:00, 14.39 timestep/s]\n",
      " 30%|██▉       | 104/350 [00:07<00:16, 14.76 timestep/s]"
     ]
    }
   ],
   "source": [
    "basedir = '../Parameter_Sets/NROY/'\n",
    "\n",
    "for ssp in [x for x in RCMIP_emms.index.levels[1].unique() if 'ssp' in x]:\n",
    "    \n",
    "    ssp_emms = RCMIP_to_GIR_input_emms(ssp).interpolate().reindex(np.arange(1750,2101))\n",
    "    ssp_emms -= ssp_emms.loc[1750] # emissions relative to 1750 values\n",
    "    sf = GCP_historical_emissions.sum(axis=1).loc[2015] / ssp_emms.loc[2015,'carbon_dioxide']\n",
    "    ssp_emms.loc[:2014,'carbon_dioxide'] = GCP_historical_emissions.sum(axis=1).loc[1750:2014]\n",
    "    ssp_emms.loc[2015:2025,'carbon_dioxide'] *= np.linspace(sf,1,11)\n",
    "    \n",
    "    ALL_output = []\n",
    "\n",
    "    for param_set_start in np.arange(0,1000000,10000):\n",
    "\n",
    "        gas_param_file,response_param_file,level_constraint_file,rate_constrain_file,ext_forc_file = [basedir+x+'_mem'+str(param_set_start)+'-mem'+str(param_set_start+9999)+'_v1.pkl' for x in ['gas_params','response_params','temp_constraint','rate_constraint','EXT_forc']]\n",
    "        level_constraint = pd.read_pickle(level_constraint_file)\n",
    "        rate_constraint = pd.read_pickle(rate_constrain_file)\n",
    "        full_constraint = level_constraint & rate_constraint\n",
    "        NROY_mems = full_constraint.index.levels[0][full_constraint]\n",
    "        gas_params = pd.read_pickle(gas_param_file)\n",
    "        response_params = pd.read_pickle(response_param_file)\n",
    "        EXT_forc_sfs = pd.read_pickle(ext_forc_file)\n",
    "        \n",
    "        N = full_constraint.index.size\n",
    "        \n",
    "        erf_ar6 = pd.read_csv('https://raw.githubusercontent.com/Priestley-Centre/ssp_erf/master/SSPs/ERF_'+ssp+'_1750-2500.csv',index_col=0,dtype=float)\n",
    "        ## LUC\n",
    "        LUC_forc = erf_ar6[['land_use']].reindex(np.arange(1750,2101)).values\n",
    "        LUC_forc_sfs = EXT_forc_sfs.loc['LUC'].values\n",
    "        LUC_forc_ensemble = LUC_forc_sfs[None] * LUC_forc\n",
    "\n",
    "        ## Natural\n",
    "        volc_forc = erf_ar6[['volcanic']].reindex(np.arange(1750,2101)).values\n",
    "        volc_forc_sfs = EXT_forc_sfs.loc['volc'].values\n",
    "        volc_forc_ensemble = volc_forc_sfs[None] * volc_forc\n",
    "        sol_forc = erf_ar6[['solar']].reindex(np.arange(1750,2101)).values\n",
    "        sol_forc_sfs = EXT_forc_sfs.loc['sol'].values\n",
    "        sol_forc_ensemble = sol_forc_sfs[None] * sol_forc\n",
    "\n",
    "        ssp_forc = pd.DataFrame(LUC_forc_ensemble+sol_forc_ensemble+volc_forc_ensemble,index=np.arange(1750,2101),columns=pd.MultiIndex.from_product([EXT_forc_sfs.columns,['forcing']]) )\n",
    "    \n",
    "        ssp_emms_run = pd.concat([ssp_emms]*N,axis=1,keys=[x[0] for x in full_constraint.index])\n",
    "\n",
    "        results = run_GIR(emissions_in=ssp_emms_run,forcing_in=ssp_forc,gas_parameters=gas_params,thermal_parameters=response_params,show_run_info=False)\n",
    "\n",
    "        _output = pd.DataFrame(columns = [x[0] for x in full_constraint.index])\n",
    "\n",
    "        _output.loc['T_2100',:] = (results['T'].loc[2100]-results['T'].loc[1861:1880].mean()).reset_index(level=0).set_index('Scenario').iloc[:,0]\n",
    "        _output.loc['T_2014',:] = (results['T'].loc[2014]-results['T'].loc[1861:1880].mean()).reset_index(level=0).set_index('Scenario').iloc[:,0]\n",
    "\n",
    "        for forc_cat in param_categories.keys():\n",
    "\n",
    "            _output.loc[forc_cat+'_2019',:] = results['RF'].loc[2019,(slice(None),param_categories[forc_cat])].groupby(level=0).sum()\n",
    "            _output.loc[forc_cat+'_2100',:] = results['RF'].loc[2100,(slice(None),param_categories[forc_cat])].groupby(level=0).sum()\n",
    "            \n",
    "        _output.loc['LUC_2019',:] = EXT_forc_sfs.loc['LUC'] * erf_ar6.loc[2019,'land_use']\n",
    "        _output.loc['LUC_2100',:] = EXT_forc_sfs.loc['LUC'] * erf_ar6.loc[2100,'land_use']\n",
    "\n",
    "        _output.loc['GHG_2019',:] = _output.loc[[x+'_2019' for x in ['other_wmghgs', 'carbon_dioxide', 'methane', 'nitrous_oxide', 'trop_o3', 'strat_o3', 'strat_h2o']]].sum()\n",
    "        _output.loc['GHG_2100',:] = _output.loc[[x+'_2100' for x in ['other_wmghgs', 'carbon_dioxide', 'methane', 'nitrous_oxide', 'trop_o3', 'strat_o3', 'strat_h2o']]].sum()\n",
    "        _output.loc['aer_2019',:] = _output.loc[[x+'_2019' for x in ['aci','ari']]].sum()\n",
    "        _output.loc['aer_2100',:] = _output.loc[[x+'_2100' for x in ['aci','ari']]].sum()\n",
    "        _output.loc['anthro_2019',:] = _output.loc[[x+'_2019' for x in param_categories.keys()]+['LUC_2019']].sum()\n",
    "        _output.loc['anthro_2100',:] = _output.loc[[x+'_2100' for x in param_categories.keys()]+['LUC_2100']].sum()\n",
    "\n",
    "        _output.loc['constrain_level',:] = level_constraint.reset_index(level=0).set_index('Scenario').iloc[:,0]\n",
    "        _output.loc['constrain_rate',:] = level_constraint.reset_index(level=0).set_index('Scenario').iloc[:,0]\n",
    "        _output.loc['constrain_multi',:] = full_constraint.reset_index(level=0).set_index('Scenario').iloc[:,0]\n",
    "        \n",
    "        ALL_output += [_output]\n",
    "        \n",
    "    pd.concat(ALL_output,axis=1).to_csv('/home/leachl/Documents/Simple_models/FaIR_v2-0_paper/NROY_results/'+ssp+'.csv')"
   ]
  },
  {
   "cell_type": "code",
   "execution_count": null,
   "metadata": {},
   "outputs": [],
   "source": []
  }
 ],
 "metadata": {
  "kernelspec": {
   "display_name": "Python 3",
   "language": "python",
   "name": "python3"
  },
  "language_info": {
   "codemirror_mode": {
    "name": "ipython",
    "version": 3
   },
   "file_extension": ".py",
   "mimetype": "text/x-python",
   "name": "python",
   "nbconvert_exporter": "python",
   "pygments_lexer": "ipython3",
   "version": "3.7.8"
  }
 },
 "nbformat": 4,
 "nbformat_minor": 4
}
