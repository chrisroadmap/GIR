{
 "cells": [
  {
   "cell_type": "markdown",
   "metadata": {},
   "source": [
    "### get dependencies"
   ]
  },
  {
   "cell_type": "code",
   "execution_count": 154,
   "metadata": {
    "jupyter": {
     "source_hidden": true
    }
   },
   "outputs": [
    {
     "name": "stdout",
     "output_type": "stream",
     "text": [
      "The line_profiler extension is already loaded. To reload it, use:\n",
      "  %reload_ext line_profiler\n",
      "The memory_profiler extension is already loaded. To reload it, use:\n",
      "  %reload_ext memory_profiler\n"
     ]
    }
   ],
   "source": [
    "## Get dependencies ##\n",
    "\n",
    "import numpy as np\n",
    "import string\n",
    "import math\n",
    "import sys\n",
    "import pandas as pd\n",
    "import matplotlib.pyplot as plt\n",
    "import matplotlib\n",
    "sys.path.append('..')\n",
    "from GIR import *\n",
    "import scipy as sp\n",
    "import pickle\n",
    "import time\n",
    "import scipy as sp\n",
    "from scipy import signal\n",
    "from scipy.io.idl import readsav\n",
    "import os\n",
    "from mpl_toolkits.axes_grid1.inset_locator import inset_axes\n",
    "import glob\n",
    "import requests\n",
    "import ftplib\n",
    "import io\n",
    "import cmocean\n",
    "from bs4 import BeautifulSoup\n",
    "import urllib.request\n",
    "from io import StringIO, BytesIO\n",
    "from zipfile import ZipFile\n",
    "import tqdm\n",
    "import seaborn as sn\n",
    "import re\n",
    "\n",
    "## get SSP emissions\n",
    "from tools.RCMIP import *\n",
    "\n",
    "header = {\n",
    "  \"User-Agent\": \"Mozilla/5.0 (X11; Linux x86_64) AppleWebKit/537.36 (KHTML, like Gecko) Chrome/50.0.2661.75 Safari/537.36\",\n",
    "  \"X-Requested-With\": \"XMLHttpRequest\"\n",
    "}\n",
    "    \n",
    "## Matplotlib rcparams setup:\n",
    "\n",
    "matplotlib.rcParams['font.family']='Helvetica'\n",
    "matplotlib.rcParams['font.size']=11\n",
    "# matplotlib.rcParams['font.weight']=400\n",
    "\n",
    "matplotlib.rcParams['image.cmap']='cmo.ice'\n",
    "\n",
    "matplotlib.rcParams['axes.prop_cycle']=matplotlib.cycler('color',['011936','FF7D00','225560','BFACAA','D72638','788C9B','A33F00','7CAAB0','685655','EB767C'])\n",
    "matplotlib.rcParams['axes.formatter.limits']=-3,3\n",
    "# matplotlib.rcParams['axes.labelweight']=300\n",
    "\n",
    "matplotlib.rcParams['legend.frameon']=False\n",
    "\n",
    "matplotlib.rcParams['boxplot.whiskers']=(5,95)\n",
    "matplotlib.rcParams['boxplot.showfliers']=False\n",
    "matplotlib.rcParams['boxplot.showfliers']=False\n",
    "matplotlib.rcParams['boxplot.medianprops.color']='black'\n",
    "\n",
    "matplotlib.rcParams['errorbar.capsize']=5\n",
    "\n",
    "matplotlib.rcParams['hist.bins']='auto'\n",
    "\n",
    "plt.rcParams['pdf.fonttype'] = 42\n",
    "\n",
    "%matplotlib inline\n",
    "\n",
    "%load_ext line_profiler\n",
    "%load_ext memory_profiler"
   ]
  },
  {
   "cell_type": "markdown",
   "metadata": {},
   "source": [
    "## Load gas parameter sets + LUC scaling factors: assume no uncertainty from natural forcings?"
   ]
  },
  {
   "cell_type": "code",
   "execution_count": 4,
   "metadata": {},
   "outputs": [],
   "source": [
    "default_params = pd.read_csv('../Parameter_Sets/Complete_gas_cycle_params.csv',skiprows=1,index_col=0)\n",
    "forcing_namelist = list(default_params.columns)\n",
    "\n",
    "param_categories = {}\n",
    "# param_categories['other_wmghgs'] = ['c2f6', 'c3f8', 'c4f10', 'c5f12', 'c6f14', 'c7f16', 'c8f18', 'c_c4f8','carbon_tetrachloride', 'cf4', 'cfc113', 'cfc114', 'cfc115', 'cfc11', 'cfc12', 'ch2cl2', 'ch3ccl3', 'chcl3', 'halon1211', 'halon1301', 'halon2402', 'hcfc141b', 'hcfc142b', 'hcfc22', 'hfc125', 'hfc134a', 'hfc143a', 'hfc152a', 'hfc227ea', 'hfc236fa', 'hfc23', 'hfc245fa', 'hfc32', 'hfc365mfc', 'hfc4310mee', 'methyl_bromide', 'methyl_chloride', 'nf3', 'sf6', 'so2f2', 'halon1202']\n",
    "param_categories['f_gases'] = ['c2f6', 'c3f8', 'c4f10', 'c5f12', 'c6f14', 'c7f16', 'c8f18', 'c_c4f8','nf3', 'sf6', 'so2f2','cf4','hfc125', 'hfc134a', 'hfc143a', 'hfc152a', 'hfc227ea', 'hfc236fa', 'hfc23', 'hfc245fa', 'hfc32', 'hfc365mfc', 'hfc4310mee']\n",
    "param_categories['montreal_gases'] = ['carbon_tetrachloride','cfc113', 'cfc114', 'cfc115', 'cfc11', 'cfc12', 'ch2cl2', 'ch3ccl3', 'chcl3', 'halon1211', 'halon1301', 'halon2402', 'hcfc141b', 'hcfc142b', 'hcfc22','halon1202','methyl_bromide', 'methyl_chloride']\n",
    "param_categories['carbon_dioxide'] = ['carbon_dioxide']\n",
    "param_categories['methane'] = ['methane']\n",
    "param_categories['nitrous_oxide'] = ['nitrous_oxide']\n",
    "param_categories['trop_o3'] = [x for x in forcing_namelist if '|trop_o3' in x]\n",
    "param_categories['strat_o3'] = [x for x in forcing_namelist if '|strat_o3' in x]\n",
    "param_categories['strat_h2o'] = [x for x in forcing_namelist if '|strat_h2o' in x]\n",
    "param_categories['ari'] = ['so2', 'nox', 'co', 'nmvoc', 'bc', 'nh3','oc','nox_avi']\n",
    "param_categories['aci'] = ['so2|aci','oc|aci','bc|aci']\n",
    "# param_categories['aer'] = param_categories['aci'] + param_categories['ari']\n",
    "param_categories['bc_on_snow'] = ['bc|bc_on_snow']\n",
    "param_categories['contrails'] = ['nox_avi|contrails']"
   ]
  },
  {
   "cell_type": "code",
   "execution_count": 5,
   "metadata": {},
   "outputs": [],
   "source": [
    "basedir = '../Parameter_Sets/NROY/'\n",
    "param_sets=[0,10000,20000,30000,40000,50000]\n",
    "\n",
    "gas_param_ensemble = []\n",
    "thermal_param_ensemble = []\n",
    "EXT_forc_sfs = []\n",
    "\n",
    "for param_set_start in param_sets:\n",
    "\n",
    "    gas_param_file,response_param_file,level_constraint_file,rate_constrain_file,ext_forc_file = [basedir+x+'_mem'+str(param_set_start)+'-mem'+str(param_set_start+9999)+'_v1.pkl' for x in ['gas_params','response_params','temp_constraint','rate_constraint','EXT_forc']]\n",
    "    level_constraint = pd.read_pickle(level_constraint_file)\n",
    "    rate_constraint = pd.read_pickle(rate_constrain_file)\n",
    "    full_constraint = level_constraint & rate_constraint\n",
    "    NROY_mems = [x[0] for x in full_constraint[full_constraint].index]\n",
    "    gas_param_ensemble += [pd.read_pickle(gas_param_file).reindex(NROY_mems,axis=1,level=0)]\n",
    "    thermal_param_ensemble += [pd.read_pickle(response_param_file).reindex(NROY_mems,axis=1,level=0)]\n",
    "    EXT_forc_sfs += [pd.read_pickle(ext_forc_file).reindex(NROY_mems,axis=1)]\n",
    "\n",
    "thermal_param_ensemble = pd.concat(thermal_param_ensemble,axis=1)\n",
    "gas_param_ensemble = pd.concat(gas_param_ensemble,axis=1)\n",
    "EXT_forc_sfs = pd.concat(EXT_forc_sfs,axis=1)"
   ]
  },
  {
   "cell_type": "code",
   "execution_count": 6,
   "metadata": {},
   "outputs": [],
   "source": [
    "## set the number of ensemble members desired:\n",
    "N=7500"
   ]
  },
  {
   "cell_type": "code",
   "execution_count": 7,
   "metadata": {},
   "outputs": [],
   "source": [
    "choose_mems = thermal_param_ensemble.columns.levels[0][:N]\n",
    "\n",
    "thermal_param_ensemble = thermal_param_ensemble.reindex(choose_mems,axis=1,level=0)\n",
    "gas_param_ensemble = gas_param_ensemble.reindex(choose_mems,axis=1,level=0)\n",
    "EXT_forc_sfs = EXT_forc_sfs.reindex(choose_mems,axis=1)"
   ]
  },
  {
   "cell_type": "markdown",
   "metadata": {},
   "source": [
    "### parameter set metrics:"
   ]
  },
  {
   "cell_type": "code",
   "execution_count": 6,
   "metadata": {},
   "outputs": [],
   "source": [
    "member_metrics = pd.DataFrame(index=thermal_param_ensemble.columns.levels[0],columns=['Equilibrium Climate Sensitivity','Transient Climate Response'])\n",
    "\n",
    "f_vals = gas_param_ensemble.loc['f1':'f3',(slice(None),'carbon_dioxide')].values\n",
    "F_2x = f_vals[0] * np.log(2) + f_vals[2] * (np.sqrt(284*2)-np.sqrt(284))\n",
    "member_metrics.loc[:,'Equilibrium Climate Sensitivity'] = F_2x*thermal_param_ensemble.loc['q'].values.reshape(-1,3).sum(axis=1)\n",
    "member_metrics.loc[:,'Transient Climate Response'] = F_2x * ( thermal_param_ensemble.loc['q'].values.reshape(-1,3) * (1 - (thermal_param_ensemble.loc['d'].values.reshape(-1,3)/69.66) * ( 1 - np.exp(-69.66/thermal_param_ensemble.loc['d'].values.reshape(-1,3)) ) ) ).sum(axis=1)\n",
    "member_metrics.loc[:,'F-2xCO2'] = F_2x\n",
    "\n",
    "member_metrics = member_metrics.unstack().reset_index()\n",
    "member_metrics.loc[:,'unit'] = 'K'\n",
    "member_metrics.loc[:,'climate_model'] = 'FaIRv2.0.0-alpha'\n",
    "member_metrics.columns = ['RCMIP name','ensemble_member','value','unit','climate_model']"
   ]
  },
  {
   "cell_type": "code",
   "execution_count": 7,
   "metadata": {},
   "outputs": [],
   "source": [
    "member_metrics.to_hdf(r'/home/leachl/Documents/Simple_models/FaIR_v2-0/GIR/GIR_output/RCMIP/RCMIP_reported-metrics_FaIRv2.0.0-alpha.h5', key='stage', mode='w')"
   ]
  },
  {
   "cell_type": "markdown",
   "metadata": {},
   "source": [
    "# Concentration-driven experiments"
   ]
  },
  {
   "cell_type": "markdown",
   "metadata": {},
   "source": [
    "## Idealised experiments : 1pctCO2 , abrupt2xCO2, abrupt4xCO2, abrupt0.5xCO2"
   ]
  },
  {
   "cell_type": "code",
   "execution_count": 87,
   "metadata": {},
   "outputs": [],
   "source": [
    "## create the scenarios:\n",
    "\n",
    "idealised_concs = pd.DataFrame(284*1.01**(np.arange(200)),index=np.arange(200),columns=pd.MultiIndex.from_product([['1pctCO2'],['carbon_dioxide']]))\n",
    "idealised_concs.loc[:,('abrupt-4xCO2','carbon_dioxide')] = 284*4\n",
    "idealised_concs.loc[:,('abrupt-2xCO2','carbon_dioxide')] = 284*2\n",
    "idealised_concs.loc[:,('abrupt-0p5xCO2','carbon_dioxide')] = 284/2\n",
    "idealised_concs.loc[0,(slice(None),'carbon_dioxide')] = 284\n",
    "\n",
    "idealised_forc = return_empty_forcing(idealised_concs)\n",
    "\n",
    "idealised_params = gas_param_ensemble.reindex(['carbon_dioxide'],axis=1,level=1)\n",
    "idealised_params.loc['PI_conc']=284"
   ]
  },
  {
   "cell_type": "code",
   "execution_count": 88,
   "metadata": {},
   "outputs": [
    {
     "name": "stdout",
     "output_type": "stream",
     "text": [
      "Integrating 4 scenarios, 7500 gas cycle parameter sets, 1 thermal response parameter sets, over ['carbon_dioxide'] forcing agents, between 0 and 199...\n"
     ]
    },
    {
     "name": "stderr",
     "output_type": "stream",
     "text": [
      "100%|██████████| 199/199 [00:01<00:00, 99.71 timestep/s] \n"
     ]
    }
   ],
   "source": [
    "idealised_exp = run_GIR(concentrations_in=idealised_concs,forcing_in=idealised_forc,gas_parameters=idealised_params,thermal_parameters=thermal_param_ensemble)"
   ]
  },
  {
   "cell_type": "code",
   "execution_count": 89,
   "metadata": {},
   "outputs": [],
   "source": [
    "T_out = idealised_exp['T'].loc[1:200].copy()\n",
    "\n",
    "T_out = T_out.T.reset_index().rename({'Gas cycle set':'ensemble_member','Scenario':'scenario'},axis=1)\n",
    "\n",
    "T_out.loc[:,'variable'] = 'Surface Air Temperature Change'\n",
    "T_out.loc[:,'region'] = 'World'\n",
    "T_out.loc[:,'climate_model'] = 'FaIRv2.0.0-alpha'\n",
    "T_out.loc[:,'model'] = 'idealised'\n",
    "T_out.loc[:,'unit'] = 'K'\n",
    "\n",
    "T_out = T_out.set_index(['climate_model','model','scenario','region','variable','unit','ensemble_member']).reset_index()"
   ]
  },
  {
   "cell_type": "code",
   "execution_count": 90,
   "metadata": {},
   "outputs": [],
   "source": [
    "# get result category intersection with all possible categories:\n",
    "\n",
    "RF_out = []\n",
    "\n",
    "exp_forc_cats = [x for x,vals in param_categories.items() if bool(set(vals).intersection(idealised_exp['RF'].columns.levels[-1]))]\n",
    "\n",
    "for forc_cat in exp_forc_cats:\n",
    "#     RF_out.loc[:,(slice(None),slice(None),forc_cat)] = \n",
    "    RF_out += [idealised_exp['RF'].loc[:,(slice(None),slice(None),param_categories[forc_cat])].groupby(level=[0,1],axis=1).sum()]\n",
    "    \n",
    "RF_out += [idealised_exp['RF'].xs('Total',axis=1,level=-1)]\n",
    "\n",
    "RF_out = pd.concat(RF_out,axis=1,keys=exp_forc_cats+['Effective Radiative Forcing'])\n",
    "RF_out = RF_out.loc[1:200].T.reset_index().rename({'Gas cycle set':'ensemble_member','Scenario':'scenario','level_0':'variable'},axis=1)\n",
    "\n",
    "for forc_cat in exp_forc_cats:\n",
    "    RF_out.replace(forc_cat,GIR_to_RCMIP_map_forc.loc[forc_cat,'RCMIP_forc_key'],inplace=True)\n",
    "    \n",
    "RF_out.loc[:,'region'] = 'World'\n",
    "RF_out.loc[:,'climate_model'] = 'FaIRv2.0.0-alpha'\n",
    "RF_out.loc[:,'model'] = 'idealised'\n",
    "RF_out.loc[:,'unit'] = 'W/m^2'\n",
    "\n",
    "RF_out = RF_out.set_index(['climate_model','model','scenario','region','variable','unit','ensemble_member']).reset_index()"
   ]
  },
  {
   "cell_type": "code",
   "execution_count": 91,
   "metadata": {},
   "outputs": [],
   "source": [
    "emms_out = idealised_exp['Emissions'].apply(lambda x: x/GIR_to_RCMIP_map.loc[x.name[-1],'RCMIP_emms_scaling'],raw=False).copy()\n",
    "\n",
    "emms_out = emms_out.T.reset_index().rename({'Gas cycle set':'ensemble_member','Scenario':'scenario','Gas name':'variable'},axis=1)\n",
    "\n",
    "exp_emms_cats = [x for x in GIR_to_RCMIP_map.index if x in idealised_exp['Emissions'].columns.levels[-1]]\n",
    "\n",
    "for agent in exp_emms_cats:\n",
    "    emms_out.replace(agent,GIR_to_RCMIP_map.loc[agent,'RCMIP_emms_key'],inplace=True)\n",
    "    \n",
    "emms_out.loc[:,'region'] = 'World'\n",
    "emms_out.loc[:,'climate_model'] = 'FaIRv2.0.0-alpha'\n",
    "emms_out.loc[:,'model'] = 'idealised'\n",
    "emms_out.loc[:,'unit'] = GIR_to_RCMIP_map.set_index('RCMIP_emms_key').loc[emms_out.variable,'RCMIP_emms_unit'].values\n",
    "\n",
    "emms_out = emms_out.set_index(['climate_model','model','scenario','region','variable','unit','ensemble_member']).reset_index()"
   ]
  },
  {
   "cell_type": "code",
   "execution_count": 105,
   "metadata": {},
   "outputs": [],
   "source": [
    "cum_emms_out = emms_out.loc[emms_out.variable=='Emissions|CO2'].copy()\n",
    "atmos_pool_out = emms_out.loc[emms_out.variable=='Emissions|CO2'].copy()\n",
    "af_out = emms_out.loc[emms_out.variable=='Emissions|CO2'].copy()\n",
    "TCRE_out = emms_out.loc[emms_out.variable=='Emissions|CO2'].copy()\n",
    "\n",
    "cum_emms_out = cum_emms_out.set_index(['climate_model','model','scenario','region','variable','unit','ensemble_member']).cumsum(axis=1).reset_index()\n",
    "cum_emms_out.loc[:,'variable'] = 'Cumulative Emissions|CO2'\n",
    "\n",
    "atmos_pool_out = atmos_pool_out.set_index(['climate_model','model','scenario','region','variable','unit','ensemble_member']).apply(lambda x: (idealised_exp['C'].loc[:,(x.name[2],'carbon_dioxide')]-284)/(4.688876e-01*GIR_to_RCMIP_map.loc['carbon_dioxide','RCMIP_emms_scaling']),axis=1).reset_index()\n",
    "atmos_pool_out.loc[:,'variable'] = 'Carbon Pool|Atmosphere'\n",
    "atmos_pool_out.loc[:,'unit'] = 'Mt CO2'\n",
    "\n",
    "af_out = (atmos_pool_out.set_index(['climate_model','model','scenario','region','ensemble_member']).iloc[:,2:] / cum_emms_out.set_index(['climate_model','model','scenario','region','ensemble_member']).iloc[:,2:]).reset_index()\n",
    "af_out.loc[:,'variable'] = 'Airborne Fraction|CO2'\n",
    "af_out.loc[:,'unit'] = '-'\n",
    "af_out = af_out.set_index(['climate_model','model','scenario','region','variable','unit','ensemble_member']).reset_index()\n",
    "\n",
    "TCRE_out = (T_out.set_index(['climate_model','model','scenario','region','ensemble_member']).iloc[:,2:] / cum_emms_out.set_index(['climate_model','model','scenario','region','ensemble_member']).iloc[:,2:]).reset_index()\n",
    "TCRE_out.loc[:,'variable'] = 'Instantaneous TCRE'\n",
    "TCRE_out.loc[:,'unit'] = 'K / MtCO2'\n",
    "TCRE_out = TCRE_out.set_index(['climate_model','model','scenario','region','variable','unit','ensemble_member']).reset_index()"
   ]
  },
  {
   "cell_type": "code",
   "execution_count": 106,
   "metadata": {},
   "outputs": [
    {
     "name": "stderr",
     "output_type": "stream",
     "text": [
      "/home/leachl/miniconda3/lib/python3.7/site-packages/pandas/io/pytables.py:282: PerformanceWarning: \n",
      "your performance may suffer as PyTables will pickle object types that it cannot\n",
      "map directly to c-types [inferred_type->mixed-integer,key->axis0] [items->None]\n",
      "\n",
      "  f(store)\n",
      "/home/leachl/miniconda3/lib/python3.7/site-packages/pandas/io/pytables.py:282: PerformanceWarning: \n",
      "your performance may suffer as PyTables will pickle object types that it cannot\n",
      "map directly to c-types [inferred_type->integer,key->block1_items] [items->None]\n",
      "\n",
      "  f(store)\n"
     ]
    }
   ],
   "source": [
    "output = pd.concat([T_out,RF_out,emms_out,cum_emms_out,atmos_pool_out,af_out,TCRE_out],axis=0).dropna(axis=1)\n",
    "\n",
    "output.to_hdf(r'/home/leachl/Documents/Simple_models/FaIR_v2-0/GIR/GIR_output/RCMIP/RCMIP_idealised_FaIRv2.0.0-alpha.h5', key='stage', mode='w')"
   ]
  },
  {
   "cell_type": "markdown",
   "metadata": {},
   "source": [
    "## SSPs "
   ]
  },
  {
   "cell_type": "code",
   "execution_count": 8,
   "metadata": {},
   "outputs": [],
   "source": [
    "def run_SSP_RCMIP(ssp,save_period=range(2014,2301)):\n",
    "\n",
    "    SSP_concs = RCMIP_to_GIR_input_concs(ssp)\n",
    "    SSP_emms = RCMIP_to_GIR_input_emms(ssp)\n",
    "\n",
    "    aer_species = [x for x in SSP_concs.columns if SSP_concs[x].dropna().empty]\n",
    "\n",
    "    SSP_concs.loc[:,aer_species] = SSP_emms.loc[:,aer_species] - SSP_emms.loc[1750,aer_species]\n",
    "\n",
    "    SSP_concs = SSP_concs.loc[1750:2300].interpolate().dropna(how='all')\n",
    "\n",
    "    SSP_LUC = pd.concat([get_RCMIP_forc([ssp],'Effective Radiative Forcing|Anthropogenic|Albedo Change')]*N,axis=1,keys=EXT_forc_sfs.loc['LUC'].index)*EXT_forc_sfs.loc['LUC'].values\n",
    "\n",
    "    SSP_other_forc = get_RCMIP_forc([ssp],['Effective Radiative Forcing|Natural'])\n",
    "\n",
    "    SSP_forc = (SSP_LUC + SSP_other_forc.values).loc[SSP_concs.index]\n",
    "\n",
    "    SSP_concs = pd.concat([SSP_concs]*N,axis=1,keys=EXT_forc_sfs.loc['LUC'].index)\n",
    "\n",
    "    ## run the model:\n",
    "    SSP_run = run_GIR(concentrations_in=SSP_concs,forcing_in=SSP_forc,gas_parameters=gas_param_ensemble,thermal_parameters=thermal_param_ensemble,aer_concs_in=aer_species)\n",
    "\n",
    "    ## convert output to RCMIP formatting reqs:\n",
    "    T_out = pd.concat([SSP_run['T'].loc[:].copy()],axis=1,keys=[ssp],names=['Scenario','Gas cycle set'])\n",
    "    T_out = T_out.T.reset_index().rename({'Gas cycle set':'ensemble_member','Scenario':'scenario'},axis=1)\n",
    "    T_out.loc[:,'variable'] = 'Surface Air Temperature Change'\n",
    "    T_out.loc[:,'region'] = 'World'\n",
    "    T_out.loc[:,'climate_model'] = 'FaIRv2.0.0-alpha'\n",
    "    T_out.loc[:,'model'] = RCMIP_concs.loc[('World',ssp)].Model.unique()[0]\n",
    "    T_out.loc[:,'unit'] = 'K'\n",
    "    T_out = T_out.set_index(['climate_model','model','scenario','region','variable','unit','ensemble_member']).reset_index()\n",
    "\n",
    "    # get result category intersection with all possible categories:\n",
    "\n",
    "    RF_out = []\n",
    "    exp_forc_cats = [x for x,vals in param_categories.items() if bool(set(vals).intersection(SSP_run['RF'].columns.levels[-1]))]\n",
    "    for forc_cat in exp_forc_cats:\n",
    "    #     RF_out.loc[:,(slice(None),slice(None),forc_cat)] = \n",
    "        RF_out += [SSP_run['RF'].loc[:,(slice(None),param_categories[forc_cat])].groupby(level=0,axis=1).sum()]\n",
    "    RF_out += [SSP_run['RF'].loc[:].xs('Total',axis=1,level=-1)]\n",
    "    RF_out = pd.concat(RF_out,axis=1,keys=exp_forc_cats+['Effective Radiative Forcing'])\n",
    "    RF_out = pd.concat([RF_out],axis=1,keys=[ssp],names=['scenario','variable','ensemble_member'])\n",
    "    RF_out = RF_out.T.reset_index()\n",
    "    for forc_cat in exp_forc_cats:\n",
    "        RF_out.replace(forc_cat,GIR_to_RCMIP_map_forc.loc[forc_cat,'RCMIP_forc_key'],inplace=True)\n",
    "    RF_out.loc[:,'region'] = 'World'\n",
    "    RF_out.loc[:,'climate_model'] = 'FaIRv2.0.0-alpha'\n",
    "    RF_out.loc[:,'model'] = RCMIP_concs.loc[('World',ssp)].Model.unique()[0]\n",
    "    RF_out.loc[:,'unit'] = 'W/m^2'\n",
    "    RF_out = RF_out.set_index(['climate_model','model','scenario','region','variable','unit','ensemble_member']).reset_index()\n",
    "\n",
    "    emms_out = SSP_run['Emissions'].loc[:,(slice(None),'carbon_dioxide')].apply(lambda x: x/GIR_to_RCMIP_map.loc[x.name[-1],'RCMIP_emms_scaling'],raw=False).copy()\n",
    "    emms_out = pd.concat([emms_out],axis=1,keys=[ssp],names=['scenario','ensemble_member','variable']).T.reset_index()\n",
    "    exp_emms_cats = [x for x in GIR_to_RCMIP_map.index if x in emms_out.variable.unique()]\n",
    "    for agent in exp_emms_cats:\n",
    "        emms_out.replace(agent,GIR_to_RCMIP_map.loc[agent,'RCMIP_emms_key'],inplace=True)\n",
    "    emms_out.loc[:,'region'] = 'World'\n",
    "    emms_out.loc[:,'climate_model'] = 'FaIRv2.0.0-alpha'\n",
    "    emms_out.loc[:,'model'] = RCMIP_concs.loc[('World',ssp)].Model.unique()[0]\n",
    "    emms_out.loc[:,'unit'] = GIR_to_RCMIP_map.set_index('RCMIP_emms_key').loc[emms_out.variable,'RCMIP_emms_unit'].values\n",
    "    emms_out = emms_out.set_index(['climate_model','model','scenario','region','variable','unit','ensemble_member']).reset_index()\n",
    "\n",
    "    cum_emms_out = emms_out.loc[emms_out.variable=='Emissions|CO2'].copy()\n",
    "    atmos_pool_out = emms_out.loc[emms_out.variable=='Emissions|CO2'].copy()\n",
    "    af_out = emms_out.loc[emms_out.variable=='Emissions|CO2'].copy()\n",
    "    TCRE_out = emms_out.loc[emms_out.variable=='Emissions|CO2'].copy()\n",
    "\n",
    "    cum_emms_out = cum_emms_out.set_index(['climate_model','model','scenario','region','variable','unit','ensemble_member']).cumsum(axis=1).reset_index()\n",
    "    cum_emms_out.loc[:,'variable'] = 'Cumulative Emissions|CO2'\n",
    "\n",
    "    atmos_pool_out = atmos_pool_out.set_index(['climate_model','model','scenario','region','variable','unit','ensemble_member']).apply(lambda x: (SSP_run['C'].loc[:,(x.name[-1],'carbon_dioxide')]-278)/(4.688876e-01*GIR_to_RCMIP_map.loc['carbon_dioxide','RCMIP_emms_scaling']),axis=1).reset_index()\n",
    "    atmos_pool_out.loc[:,'variable'] = 'Carbon Pool|Atmosphere'\n",
    "    atmos_pool_out.loc[:,'unit'] = 'Mt CO2'\n",
    "\n",
    "    af_out = (atmos_pool_out.set_index(['climate_model','model','scenario','region','ensemble_member']).iloc[:,2:] / cum_emms_out.set_index(['climate_model','model','scenario','region','ensemble_member']).iloc[:,2:]).reset_index()\n",
    "    af_out.loc[:,'variable'] = 'Airborne Fraction|CO2'\n",
    "    af_out.loc[:,'unit'] = '-'\n",
    "    af_out = af_out.set_index(['climate_model','model','scenario','region','variable','unit','ensemble_member']).reset_index()\n",
    "\n",
    "    TCRE_out = (T_out.set_index(['climate_model','model','scenario','region','ensemble_member']).iloc[:,2:] / cum_emms_out.set_index(['climate_model','model','scenario','region','ensemble_member']).iloc[:,2:]).reset_index()\n",
    "    TCRE_out.loc[:,'variable'] = 'Instantaneous TCRE'\n",
    "    TCRE_out.loc[:,'unit'] = 'K / MtCO2'\n",
    "    TCRE_out = TCRE_out.set_index(['climate_model','model','scenario','region','variable','unit','ensemble_member']).reset_index()\n",
    "\n",
    "    CH4_tau = pd.concat([pd.concat([SSP_run['alpha'].xs('methane',axis=1,level=-1)*gas_param_ensemble.loc['tau1',(slice(None),'methane')].unique()[0]],axis=1,keys=['Atmospheric Lifetime|CH4'])],axis=1,keys=[ssp],names=['scenario','variable','ensemble_member'])\n",
    "    CH4_tau = CH4_tau.T.reset_index()\n",
    "    CH4_tau.loc[:,'region'] = 'World'\n",
    "    CH4_tau.loc[:,'climate_model'] = 'FaIRv2.0.0-alpha'\n",
    "    CH4_tau.loc[:,'model'] = RCMIP_concs.loc[('World',ssp)].Model.unique()[0]\n",
    "    CH4_tau.loc[:,'unit'] = 'yr'\n",
    "    CH4_tau = CH4_tau.set_index(['climate_model','model','scenario','region','variable','unit','ensemble_member']).reset_index()\n",
    "\n",
    "    output = pd.concat([T_out,RF_out,emms_out,cum_emms_out,atmos_pool_out,af_out,TCRE_out,CH4_tau],axis=0).loc[:,['climate_model','model','scenario','region','variable','unit','ensemble_member']+list(save_period)]\n",
    "\n",
    "    output.to_hdf(r'/home/leachl/Documents/Simple_models/FaIR_v2-0/GIR/GIR_output/RCMIP/RCMIP_'+ssp+'_FaIRv2.0.0-alpha.h5', key='stage', mode='w')"
   ]
  },
  {
   "cell_type": "code",
   "execution_count": 9,
   "metadata": {},
   "outputs": [
    {
     "name": "stdout",
     "output_type": "stream",
     "text": [
      "Integrating 7500 scenarios, 1 gas cycle parameter sets, 1 thermal response parameter sets, over ['bc', 'bc|aci', 'bc|bc_on_snow', 'c2f6', 'c3f8', 'c4f10', 'c5f12', 'c6f14', 'c7f16', 'c8f18', 'c_c4f8', 'carbon_dioxide', 'carbon_tetrachloride', 'carbon_tetrachloride|strat_o3', 'cf4', 'cfc11', 'cfc113', 'cfc113|strat_o3', 'cfc114', 'cfc114|strat_o3', 'cfc115', 'cfc115|strat_o3', 'cfc11|strat_o3', 'cfc12', 'cfc12|strat_o3', 'ch2cl2', 'ch3ccl3', 'ch3ccl3|strat_o3', 'chcl3', 'co', 'co|trop_o3', 'halon1202', 'halon1202|strat_o3', 'halon1211', 'halon1211|strat_o3', 'halon1301', 'halon1301|strat_o3', 'halon2402', 'halon2402|strat_o3', 'hcfc141b', 'hcfc141b|strat_o3', 'hcfc142b', 'hcfc142b|strat_o3', 'hcfc22', 'hcfc22|strat_o3', 'hfc125', 'hfc134a', 'hfc143a', 'hfc152a', 'hfc227ea', 'hfc23', 'hfc236fa', 'hfc245fa', 'hfc32', 'hfc365mfc', 'hfc4310mee', 'methane', 'methane|strat_h2o', 'methane|trop_o3', 'methyl_bromide', 'methyl_bromide|strat_o3', 'methyl_chloride', 'methyl_chloride|strat_o3', 'nf3', 'nh3', 'nitrous_oxide', 'nmvoc', 'nmvoc|trop_o3', 'nox', 'nox_avi', 'nox_avi|contrails', 'nox|trop_o3', 'oc', 'oc|aci', 'sf6', 'so2', 'so2f2', 'so2|aci'] forcing agents, between 1750 and 2300...\n"
     ]
    },
    {
     "name": "stderr",
     "output_type": "stream",
     "text": [
      "100%|██████████| 550/550 [01:43<00:00,  5.34 timestep/s]\n",
      "/home/leachl/miniconda3/lib/python3.7/site-packages/ipykernel_launcher.py:29: PerformanceWarning: indexing past lexsort depth may impact performance.\n",
      "/home/leachl/miniconda3/lib/python3.7/site-packages/ipykernel_launcher.py:48: PerformanceWarning: indexing past lexsort depth may impact performance.\n",
      "/home/leachl/miniconda3/lib/python3.7/site-packages/ipykernel_launcher.py:59: PerformanceWarning: indexing past lexsort depth may impact performance.\n",
      "/home/leachl/miniconda3/lib/python3.7/site-packages/ipykernel_launcher.py:89: PerformanceWarning: indexing past lexsort depth may impact performance.\n",
      "/home/leachl/miniconda3/lib/python3.7/site-packages/pandas/io/pytables.py:282: PerformanceWarning: \n",
      "your performance may suffer as PyTables will pickle object types that it cannot\n",
      "map directly to c-types [inferred_type->mixed-integer,key->axis0] [items->None]\n",
      "\n",
      "  f(store)\n",
      "/home/leachl/miniconda3/lib/python3.7/site-packages/pandas/io/pytables.py:282: PerformanceWarning: \n",
      "your performance may suffer as PyTables will pickle object types that it cannot\n",
      "map directly to c-types [inferred_type->integer,key->block1_items] [items->None]\n",
      "\n",
      "  f(store)\n"
     ]
    },
    {
     "name": "stdout",
     "output_type": "stream",
     "text": [
      "Integrating 7500 scenarios, 1 gas cycle parameter sets, 1 thermal response parameter sets, over ['bc', 'bc|aci', 'bc|bc_on_snow', 'c2f6', 'c3f8', 'c4f10', 'c5f12', 'c6f14', 'c7f16', 'c8f18', 'c_c4f8', 'carbon_dioxide', 'carbon_tetrachloride', 'carbon_tetrachloride|strat_o3', 'cf4', 'cfc11', 'cfc113', 'cfc113|strat_o3', 'cfc114', 'cfc114|strat_o3', 'cfc115', 'cfc115|strat_o3', 'cfc11|strat_o3', 'cfc12', 'cfc12|strat_o3', 'ch2cl2', 'ch3ccl3', 'ch3ccl3|strat_o3', 'chcl3', 'co', 'co|trop_o3', 'halon1202', 'halon1202|strat_o3', 'halon1211', 'halon1211|strat_o3', 'halon1301', 'halon1301|strat_o3', 'halon2402', 'halon2402|strat_o3', 'hcfc141b', 'hcfc141b|strat_o3', 'hcfc142b', 'hcfc142b|strat_o3', 'hcfc22', 'hcfc22|strat_o3', 'hfc125', 'hfc134a', 'hfc143a', 'hfc152a', 'hfc227ea', 'hfc23', 'hfc236fa', 'hfc245fa', 'hfc32', 'hfc365mfc', 'hfc4310mee', 'methane', 'methane|strat_h2o', 'methane|trop_o3', 'methyl_bromide', 'methyl_bromide|strat_o3', 'methyl_chloride', 'methyl_chloride|strat_o3', 'nf3', 'nh3', 'nitrous_oxide', 'nmvoc', 'nmvoc|trop_o3', 'nox', 'nox_avi', 'nox_avi|contrails', 'nox|trop_o3', 'oc', 'oc|aci', 'sf6', 'so2', 'so2f2', 'so2|aci'] forcing agents, between 1750 and 2300...\n"
     ]
    },
    {
     "name": "stderr",
     "output_type": "stream",
     "text": [
      "100%|██████████| 550/550 [01:42<00:00,  5.37 timestep/s]\n"
     ]
    },
    {
     "name": "stdout",
     "output_type": "stream",
     "text": [
      "Integrating 7500 scenarios, 1 gas cycle parameter sets, 1 thermal response parameter sets, over ['bc', 'bc|aci', 'bc|bc_on_snow', 'c2f6', 'c3f8', 'c4f10', 'c5f12', 'c6f14', 'c7f16', 'c8f18', 'c_c4f8', 'carbon_dioxide', 'carbon_tetrachloride', 'carbon_tetrachloride|strat_o3', 'cf4', 'cfc11', 'cfc113', 'cfc113|strat_o3', 'cfc114', 'cfc114|strat_o3', 'cfc115', 'cfc115|strat_o3', 'cfc11|strat_o3', 'cfc12', 'cfc12|strat_o3', 'ch2cl2', 'ch3ccl3', 'ch3ccl3|strat_o3', 'chcl3', 'co', 'co|trop_o3', 'halon1202', 'halon1202|strat_o3', 'halon1211', 'halon1211|strat_o3', 'halon1301', 'halon1301|strat_o3', 'halon2402', 'halon2402|strat_o3', 'hcfc141b', 'hcfc141b|strat_o3', 'hcfc142b', 'hcfc142b|strat_o3', 'hcfc22', 'hcfc22|strat_o3', 'hfc125', 'hfc134a', 'hfc143a', 'hfc152a', 'hfc227ea', 'hfc23', 'hfc236fa', 'hfc245fa', 'hfc32', 'hfc365mfc', 'hfc4310mee', 'methane', 'methane|strat_h2o', 'methane|trop_o3', 'methyl_bromide', 'methyl_bromide|strat_o3', 'methyl_chloride', 'methyl_chloride|strat_o3', 'nf3', 'nh3', 'nitrous_oxide', 'nmvoc', 'nmvoc|trop_o3', 'nox', 'nox_avi', 'nox_avi|contrails', 'nox|trop_o3', 'oc', 'oc|aci', 'sf6', 'so2', 'so2f2', 'so2|aci'] forcing agents, between 1750 and 2300...\n"
     ]
    },
    {
     "name": "stderr",
     "output_type": "stream",
     "text": [
      "100%|██████████| 550/550 [01:41<00:00,  5.39 timestep/s]\n"
     ]
    },
    {
     "name": "stdout",
     "output_type": "stream",
     "text": [
      "Integrating 7500 scenarios, 1 gas cycle parameter sets, 1 thermal response parameter sets, over ['bc', 'bc|aci', 'bc|bc_on_snow', 'c2f6', 'c3f8', 'c4f10', 'c5f12', 'c6f14', 'c7f16', 'c8f18', 'c_c4f8', 'carbon_dioxide', 'carbon_tetrachloride', 'carbon_tetrachloride|strat_o3', 'cf4', 'cfc11', 'cfc113', 'cfc113|strat_o3', 'cfc114', 'cfc114|strat_o3', 'cfc115', 'cfc115|strat_o3', 'cfc11|strat_o3', 'cfc12', 'cfc12|strat_o3', 'ch2cl2', 'ch3ccl3', 'ch3ccl3|strat_o3', 'chcl3', 'co', 'co|trop_o3', 'halon1202', 'halon1202|strat_o3', 'halon1211', 'halon1211|strat_o3', 'halon1301', 'halon1301|strat_o3', 'halon2402', 'halon2402|strat_o3', 'hcfc141b', 'hcfc141b|strat_o3', 'hcfc142b', 'hcfc142b|strat_o3', 'hcfc22', 'hcfc22|strat_o3', 'hfc125', 'hfc134a', 'hfc143a', 'hfc152a', 'hfc227ea', 'hfc23', 'hfc236fa', 'hfc245fa', 'hfc32', 'hfc365mfc', 'hfc4310mee', 'methane', 'methane|strat_h2o', 'methane|trop_o3', 'methyl_bromide', 'methyl_bromide|strat_o3', 'methyl_chloride', 'methyl_chloride|strat_o3', 'nf3', 'nh3', 'nitrous_oxide', 'nmvoc', 'nmvoc|trop_o3', 'nox', 'nox_avi', 'nox_avi|contrails', 'nox|trop_o3', 'oc', 'oc|aci', 'sf6', 'so2', 'so2f2', 'so2|aci'] forcing agents, between 1750 and 2300...\n"
     ]
    },
    {
     "name": "stderr",
     "output_type": "stream",
     "text": [
      "100%|██████████| 550/550 [01:44<00:00,  5.29 timestep/s]\n"
     ]
    },
    {
     "name": "stdout",
     "output_type": "stream",
     "text": [
      "Integrating 7500 scenarios, 1 gas cycle parameter sets, 1 thermal response parameter sets, over ['bc', 'bc|aci', 'bc|bc_on_snow', 'c2f6', 'c3f8', 'c4f10', 'c5f12', 'c6f14', 'c7f16', 'c8f18', 'c_c4f8', 'carbon_dioxide', 'carbon_tetrachloride', 'carbon_tetrachloride|strat_o3', 'cf4', 'cfc11', 'cfc113', 'cfc113|strat_o3', 'cfc114', 'cfc114|strat_o3', 'cfc115', 'cfc115|strat_o3', 'cfc11|strat_o3', 'cfc12', 'cfc12|strat_o3', 'ch2cl2', 'ch3ccl3', 'ch3ccl3|strat_o3', 'chcl3', 'co', 'co|trop_o3', 'halon1202', 'halon1202|strat_o3', 'halon1211', 'halon1211|strat_o3', 'halon1301', 'halon1301|strat_o3', 'halon2402', 'halon2402|strat_o3', 'hcfc141b', 'hcfc141b|strat_o3', 'hcfc142b', 'hcfc142b|strat_o3', 'hcfc22', 'hcfc22|strat_o3', 'hfc125', 'hfc134a', 'hfc143a', 'hfc152a', 'hfc227ea', 'hfc23', 'hfc236fa', 'hfc245fa', 'hfc32', 'hfc365mfc', 'hfc4310mee', 'methane', 'methane|strat_h2o', 'methane|trop_o3', 'methyl_bromide', 'methyl_bromide|strat_o3', 'methyl_chloride', 'methyl_chloride|strat_o3', 'nf3', 'nh3', 'nitrous_oxide', 'nmvoc', 'nmvoc|trop_o3', 'nox', 'nox_avi', 'nox_avi|contrails', 'nox|trop_o3', 'oc', 'oc|aci', 'sf6', 'so2', 'so2f2', 'so2|aci'] forcing agents, between 1750 and 2300...\n"
     ]
    },
    {
     "name": "stderr",
     "output_type": "stream",
     "text": [
      "100%|██████████| 550/550 [01:42<00:00,  5.37 timestep/s]\n"
     ]
    },
    {
     "name": "stdout",
     "output_type": "stream",
     "text": [
      "Integrating 7500 scenarios, 1 gas cycle parameter sets, 1 thermal response parameter sets, over ['bc', 'bc|aci', 'bc|bc_on_snow', 'c2f6', 'c3f8', 'c4f10', 'c5f12', 'c6f14', 'c7f16', 'c8f18', 'c_c4f8', 'carbon_dioxide', 'carbon_tetrachloride', 'carbon_tetrachloride|strat_o3', 'cf4', 'cfc11', 'cfc113', 'cfc113|strat_o3', 'cfc114', 'cfc114|strat_o3', 'cfc115', 'cfc115|strat_o3', 'cfc11|strat_o3', 'cfc12', 'cfc12|strat_o3', 'ch2cl2', 'ch3ccl3', 'ch3ccl3|strat_o3', 'chcl3', 'co', 'co|trop_o3', 'halon1202', 'halon1202|strat_o3', 'halon1211', 'halon1211|strat_o3', 'halon1301', 'halon1301|strat_o3', 'halon2402', 'halon2402|strat_o3', 'hcfc141b', 'hcfc141b|strat_o3', 'hcfc142b', 'hcfc142b|strat_o3', 'hcfc22', 'hcfc22|strat_o3', 'hfc125', 'hfc134a', 'hfc143a', 'hfc152a', 'hfc227ea', 'hfc23', 'hfc236fa', 'hfc245fa', 'hfc32', 'hfc365mfc', 'hfc4310mee', 'methane', 'methane|strat_h2o', 'methane|trop_o3', 'methyl_bromide', 'methyl_bromide|strat_o3', 'methyl_chloride', 'methyl_chloride|strat_o3', 'nf3', 'nh3', 'nitrous_oxide', 'nmvoc', 'nmvoc|trop_o3', 'nox', 'nox_avi', 'nox_avi|contrails', 'nox|trop_o3', 'oc', 'oc|aci', 'sf6', 'so2', 'so2f2', 'so2|aci'] forcing agents, between 1750 and 2300...\n"
     ]
    },
    {
     "name": "stderr",
     "output_type": "stream",
     "text": [
      "100%|██████████| 550/550 [01:41<00:00,  5.41 timestep/s]\n"
     ]
    },
    {
     "name": "stdout",
     "output_type": "stream",
     "text": [
      "Integrating 7500 scenarios, 1 gas cycle parameter sets, 1 thermal response parameter sets, over ['bc', 'bc|aci', 'bc|bc_on_snow', 'c2f6', 'c3f8', 'c4f10', 'c5f12', 'c6f14', 'c7f16', 'c8f18', 'c_c4f8', 'carbon_dioxide', 'carbon_tetrachloride', 'carbon_tetrachloride|strat_o3', 'cf4', 'cfc11', 'cfc113', 'cfc113|strat_o3', 'cfc114', 'cfc114|strat_o3', 'cfc115', 'cfc115|strat_o3', 'cfc11|strat_o3', 'cfc12', 'cfc12|strat_o3', 'ch2cl2', 'ch3ccl3', 'ch3ccl3|strat_o3', 'chcl3', 'co', 'co|trop_o3', 'halon1202', 'halon1202|strat_o3', 'halon1211', 'halon1211|strat_o3', 'halon1301', 'halon1301|strat_o3', 'halon2402', 'halon2402|strat_o3', 'hcfc141b', 'hcfc141b|strat_o3', 'hcfc142b', 'hcfc142b|strat_o3', 'hcfc22', 'hcfc22|strat_o3', 'hfc125', 'hfc134a', 'hfc143a', 'hfc152a', 'hfc227ea', 'hfc23', 'hfc236fa', 'hfc245fa', 'hfc32', 'hfc365mfc', 'hfc4310mee', 'methane', 'methane|strat_h2o', 'methane|trop_o3', 'methyl_bromide', 'methyl_bromide|strat_o3', 'methyl_chloride', 'methyl_chloride|strat_o3', 'nf3', 'nh3', 'nitrous_oxide', 'nmvoc', 'nmvoc|trop_o3', 'nox', 'nox_avi', 'nox_avi|contrails', 'nox|trop_o3', 'oc', 'oc|aci', 'sf6', 'so2', 'so2f2', 'so2|aci'] forcing agents, between 1750 and 2300...\n"
     ]
    },
    {
     "name": "stderr",
     "output_type": "stream",
     "text": [
      "100%|██████████| 550/550 [01:41<00:00,  5.40 timestep/s]\n"
     ]
    },
    {
     "name": "stdout",
     "output_type": "stream",
     "text": [
      "Integrating 7500 scenarios, 1 gas cycle parameter sets, 1 thermal response parameter sets, over ['bc', 'bc|aci', 'bc|bc_on_snow', 'c2f6', 'c3f8', 'c4f10', 'c5f12', 'c6f14', 'c7f16', 'c8f18', 'c_c4f8', 'carbon_dioxide', 'carbon_tetrachloride', 'carbon_tetrachloride|strat_o3', 'cf4', 'cfc11', 'cfc113', 'cfc113|strat_o3', 'cfc114', 'cfc114|strat_o3', 'cfc115', 'cfc115|strat_o3', 'cfc11|strat_o3', 'cfc12', 'cfc12|strat_o3', 'ch2cl2', 'ch3ccl3', 'ch3ccl3|strat_o3', 'chcl3', 'co', 'co|trop_o3', 'halon1202', 'halon1202|strat_o3', 'halon1211', 'halon1211|strat_o3', 'halon1301', 'halon1301|strat_o3', 'halon2402', 'halon2402|strat_o3', 'hcfc141b', 'hcfc141b|strat_o3', 'hcfc142b', 'hcfc142b|strat_o3', 'hcfc22', 'hcfc22|strat_o3', 'hfc125', 'hfc134a', 'hfc143a', 'hfc152a', 'hfc227ea', 'hfc23', 'hfc236fa', 'hfc245fa', 'hfc32', 'hfc365mfc', 'hfc4310mee', 'methane', 'methane|strat_h2o', 'methane|trop_o3', 'methyl_bromide', 'methyl_bromide|strat_o3', 'methyl_chloride', 'methyl_chloride|strat_o3', 'nf3', 'nh3', 'nitrous_oxide', 'nmvoc', 'nmvoc|trop_o3', 'nox', 'nox_avi', 'nox_avi|contrails', 'nox|trop_o3', 'oc', 'oc|aci', 'sf6', 'so2', 'so2f2', 'so2|aci'] forcing agents, between 1750 and 2300...\n"
     ]
    },
    {
     "name": "stderr",
     "output_type": "stream",
     "text": [
      "100%|██████████| 550/550 [01:40<00:00,  5.45 timestep/s]\n"
     ]
    },
    {
     "name": "stdout",
     "output_type": "stream",
     "text": [
      "Integrating 7500 scenarios, 1 gas cycle parameter sets, 1 thermal response parameter sets, over ['bc', 'bc|aci', 'bc|bc_on_snow', 'c2f6', 'c3f8', 'c4f10', 'c5f12', 'c6f14', 'c7f16', 'c8f18', 'c_c4f8', 'carbon_dioxide', 'carbon_tetrachloride', 'carbon_tetrachloride|strat_o3', 'cf4', 'cfc11', 'cfc113', 'cfc113|strat_o3', 'cfc114', 'cfc114|strat_o3', 'cfc115', 'cfc115|strat_o3', 'cfc11|strat_o3', 'cfc12', 'cfc12|strat_o3', 'ch2cl2', 'ch3ccl3', 'ch3ccl3|strat_o3', 'chcl3', 'co', 'co|trop_o3', 'halon1202', 'halon1202|strat_o3', 'halon1211', 'halon1211|strat_o3', 'halon1301', 'halon1301|strat_o3', 'halon2402', 'halon2402|strat_o3', 'hcfc141b', 'hcfc141b|strat_o3', 'hcfc142b', 'hcfc142b|strat_o3', 'hcfc22', 'hcfc22|strat_o3', 'hfc125', 'hfc134a', 'hfc143a', 'hfc152a', 'hfc227ea', 'hfc23', 'hfc236fa', 'hfc245fa', 'hfc32', 'hfc365mfc', 'hfc4310mee', 'methane', 'methane|strat_h2o', 'methane|trop_o3', 'methyl_bromide', 'methyl_bromide|strat_o3', 'methyl_chloride', 'methyl_chloride|strat_o3', 'nf3', 'nh3', 'nitrous_oxide', 'nmvoc', 'nmvoc|trop_o3', 'nox', 'nox_avi', 'nox_avi|contrails', 'nox|trop_o3', 'oc', 'oc|aci', 'sf6', 'so2', 'so2f2', 'so2|aci'] forcing agents, between 1750 and 2300...\n"
     ]
    },
    {
     "name": "stderr",
     "output_type": "stream",
     "text": [
      "100%|██████████| 550/550 [01:47<00:00,  5.11 timestep/s]\n"
     ]
    },
    {
     "name": "stdout",
     "output_type": "stream",
     "text": [
      "Integrating 7500 scenarios, 1 gas cycle parameter sets, 1 thermal response parameter sets, over ['bc', 'bc|aci', 'bc|bc_on_snow', 'c2f6', 'c3f8', 'c4f10', 'c5f12', 'c6f14', 'c7f16', 'c8f18', 'c_c4f8', 'carbon_dioxide', 'carbon_tetrachloride', 'carbon_tetrachloride|strat_o3', 'cf4', 'cfc11', 'cfc113', 'cfc113|strat_o3', 'cfc114', 'cfc114|strat_o3', 'cfc115', 'cfc115|strat_o3', 'cfc11|strat_o3', 'cfc12', 'cfc12|strat_o3', 'ch2cl2', 'ch3ccl3', 'ch3ccl3|strat_o3', 'chcl3', 'co', 'co|trop_o3', 'halon1202', 'halon1202|strat_o3', 'halon1211', 'halon1211|strat_o3', 'halon1301', 'halon1301|strat_o3', 'halon2402', 'halon2402|strat_o3', 'hcfc141b', 'hcfc141b|strat_o3', 'hcfc142b', 'hcfc142b|strat_o3', 'hcfc22', 'hcfc22|strat_o3', 'hfc125', 'hfc134a', 'hfc143a', 'hfc152a', 'hfc227ea', 'hfc23', 'hfc236fa', 'hfc245fa', 'hfc32', 'hfc365mfc', 'hfc4310mee', 'methane', 'methane|strat_h2o', 'methane|trop_o3', 'methyl_bromide', 'methyl_bromide|strat_o3', 'methyl_chloride', 'methyl_chloride|strat_o3', 'nf3', 'nh3', 'nitrous_oxide', 'nmvoc', 'nmvoc|trop_o3', 'nox', 'nox_avi', 'nox_avi|contrails', 'nox|trop_o3', 'oc', 'oc|aci', 'sf6', 'so2', 'so2f2', 'so2|aci'] forcing agents, between 1750 and 2300...\n"
     ]
    },
    {
     "name": "stderr",
     "output_type": "stream",
     "text": [
      "100%|██████████| 550/550 [01:44<00:00,  5.24 timestep/s]\n"
     ]
    }
   ],
   "source": [
    "for ssp in [x for x in RCMIP_concs.index.levels[-2] if 'ssp' in x]:\n",
    "    run_SSP_RCMIP(ssp,range(1850,2301))\n",
    "    \n",
    "# run_SSP_RCMIP('historical',range(1750,2015))"
   ]
  },
  {
   "cell_type": "markdown",
   "metadata": {},
   "source": [
    "## RCPs"
   ]
  },
  {
   "cell_type": "code",
   "execution_count": 11,
   "metadata": {},
   "outputs": [],
   "source": [
    "def run_RCP(rcp,save_period=range(2004,2301)):\n",
    "\n",
    "    RCP_concs = RCMIP_to_GIR_input_concs(rcp)\n",
    "    RCP_emms = RCMIP_to_GIR_input_emms(rcp)\n",
    "\n",
    "    aer_species = [x for x in RCP_concs.columns if RCP_concs[x].dropna().empty]\n",
    "\n",
    "    aer_species = RCP_emms.loc[:,aer_species].dropna(axis=1,how='all').columns\n",
    "\n",
    "    RCP_concs.loc[:,aer_species] = RCP_emms.loc[:,aer_species] - RCP_emms.loc[1765,aer_species]\n",
    "\n",
    "    RCP_concs = RCP_concs.loc[1750:2300].interpolate(limit_area='inside').dropna(how='all').dropna(how='all',axis=1)\n",
    "\n",
    "    RCP_LUC = pd.concat([get_RCMIP_forc([rcp],'Radiative Forcing|Anthropogenic|Albedo Change')]*N,axis=1,keys=EXT_forc_sfs.loc['LUC'].index)*EXT_forc_sfs.loc['LUC'].values\n",
    "\n",
    "    RCP_other_forc = get_RCMIP_forc([rcp],['Radiative Forcing|Natural'])\n",
    "\n",
    "    RCP_forc = (RCP_LUC + RCP_other_forc.values).loc[:2300].dropna(how='all')\n",
    "\n",
    "    RCP_species = RCP_concs.columns.unique()\n",
    "\n",
    "    RCP_concs = pd.concat([RCP_concs]*N,axis=1,keys=EXT_forc_sfs.loc['LUC'].index)\n",
    "\n",
    "    RCP_gas_params = gas_param_ensemble.reindex([x for x in gas_param_ensemble.columns.levels[-1] if x.split('|')[0] in RCP_species],axis=1,level=-1)\n",
    "\n",
    "    ## run the model:\n",
    "    RCP_run = run_GIR(concentrations_in=RCP_concs,forcing_in=RCP_forc,gas_parameters=RCP_gas_params,thermal_parameters=thermal_param_ensemble,aer_concs_in=aer_species)\n",
    "\n",
    "## convert output to RCMIP formatting reqs:\n",
    "    T_out = pd.concat([RCP_run['T'].loc[:].copy()],axis=1,keys=[rcp],names=['Scenario','Gas cycle set'])\n",
    "    T_out = T_out.T.reset_index().rename({'Gas cycle set':'ensemble_member','Scenario':'scenario'},axis=1)\n",
    "    T_out.loc[:,'variable'] = 'Surface Air Temperature Change'\n",
    "    T_out.loc[:,'region'] = 'World'\n",
    "    T_out.loc[:,'climate_model'] = 'FaIRv2.0.0-alpha'\n",
    "    T_out.loc[:,'model'] = RCMIP_concs.loc[('World',rcp)].Model.unique()[0]\n",
    "    T_out.loc[:,'unit'] = 'K'\n",
    "    T_out = T_out.set_index(['climate_model','model','scenario','region','variable','unit','ensemble_member']).reset_index()\n",
    "\n",
    "    # get result category intersection with all possible categories:\n",
    "\n",
    "    RF_out = []\n",
    "    exp_forc_cats = [x for x,vals in param_categories.items() if bool(set(vals).intersection(RCP_run['RF'].columns.levels[-1]))]\n",
    "    for forc_cat in exp_forc_cats:\n",
    "        forc_cat_intersect = set(param_categories[forc_cat]).intersection(set(RCP_run['RF'].columns.levels[-1]))\n",
    "        RF_out += [RCP_run['RF'].loc[:,(slice(None),forc_cat_intersect)].groupby(level=0,axis=1).sum()]\n",
    "    RF_out += [RCP_run['RF'].loc[:].xs('Total',axis=1,level=-1)]\n",
    "    RF_out = pd.concat(RF_out,axis=1,keys=exp_forc_cats+['Effective Radiative Forcing'])\n",
    "    RF_out = pd.concat([RF_out],axis=1,keys=[rcp],names=['scenario','variable','ensemble_member'])\n",
    "    RF_out = RF_out.T.reset_index()\n",
    "    for forc_cat in exp_forc_cats:\n",
    "        RF_out.replace(forc_cat,GIR_to_RCMIP_map_forc.loc[forc_cat,'RCMIP_forc_key'],inplace=True)\n",
    "    RF_out.loc[:,'region'] = 'World'\n",
    "    RF_out.loc[:,'climate_model'] = 'FaIRv2.0.0-alpha'\n",
    "    RF_out.loc[:,'model'] = RCMIP_concs.loc[('World',rcp)].Model.unique()[0]\n",
    "    RF_out.loc[:,'unit'] = 'W/m^2'\n",
    "    RF_out = RF_out.set_index(['climate_model','model','scenario','region','variable','unit','ensemble_member']).reset_index()\n",
    "\n",
    "    emms_out = RCP_run['Emissions'].loc[:,(slice(None),'carbon_dioxide')].apply(lambda x: x/GIR_to_RCMIP_map.loc[x.name[-1],'RCMIP_emms_scaling'],raw=False).copy()\n",
    "    emms_out = pd.concat([emms_out],axis=1,keys=[rcp],names=['scenario','ensemble_member','variable']).T.reset_index()\n",
    "    exp_emms_cats = [x for x in GIR_to_RCMIP_map.index if x in emms_out.variable.unique()]\n",
    "    for agent in exp_emms_cats:\n",
    "        emms_out.replace(agent,GIR_to_RCMIP_map.loc[agent,'RCMIP_emms_key'],inplace=True)\n",
    "    emms_out.loc[:,'region'] = 'World'\n",
    "    emms_out.loc[:,'climate_model'] = 'FaIRv2.0.0-alpha'\n",
    "    emms_out.loc[:,'model'] = RCMIP_concs.loc[('World',rcp)].Model.unique()[0]\n",
    "    emms_out.loc[:,'unit'] = GIR_to_RCMIP_map.set_index('RCMIP_emms_key').loc[emms_out.variable,'RCMIP_emms_unit'].values\n",
    "    emms_out = emms_out.set_index(['climate_model','model','scenario','region','variable','unit','ensemble_member']).reset_index()\n",
    "\n",
    "    cum_emms_out = emms_out.loc[emms_out.variable=='Emissions|CO2'].copy()\n",
    "    atmos_pool_out = emms_out.loc[emms_out.variable=='Emissions|CO2'].copy()\n",
    "    af_out = emms_out.loc[emms_out.variable=='Emissions|CO2'].copy()\n",
    "    TCRE_out = emms_out.loc[emms_out.variable=='Emissions|CO2'].copy()\n",
    "\n",
    "    cum_emms_out = cum_emms_out.set_index(['climate_model','model','scenario','region','variable','unit','ensemble_member']).cumsum(axis=1).reset_index()\n",
    "    cum_emms_out.loc[:,'variable'] = 'Cumulative Emissions|CO2'\n",
    "\n",
    "    atmos_pool_out = atmos_pool_out.set_index(['climate_model','model','scenario','region','variable','unit','ensemble_member']).apply(lambda x: (RCP_run['C'].loc[:,(x.name[-1],'carbon_dioxide')]-278)/(4.688876e-01*GIR_to_RCMIP_map.loc['carbon_dioxide','RCMIP_emms_scaling']),axis=1).reset_index()\n",
    "    atmos_pool_out.loc[:,'variable'] = 'Carbon Pool|Atmosphere'\n",
    "    atmos_pool_out.loc[:,'unit'] = 'Mt CO2'\n",
    "\n",
    "    af_out = (atmos_pool_out.set_index(['climate_model','model','scenario','region','ensemble_member']).iloc[:,2:] / cum_emms_out.set_index(['climate_model','model','scenario','region','ensemble_member']).iloc[:,2:]).reset_index()\n",
    "    af_out.loc[:,'variable'] = 'Airborne Fraction|CO2'\n",
    "    af_out.loc[:,'unit'] = '-'\n",
    "    af_out = af_out.set_index(['climate_model','model','scenario','region','variable','unit','ensemble_member']).reset_index()\n",
    "\n",
    "    TCRE_out = (T_out.set_index(['climate_model','model','scenario','region','ensemble_member']).iloc[:,2:] / cum_emms_out.set_index(['climate_model','model','scenario','region','ensemble_member']).iloc[:,2:]).reset_index()\n",
    "    TCRE_out.loc[:,'variable'] = 'Instantaneous TCRE'\n",
    "    TCRE_out.loc[:,'unit'] = 'K / MtCO2'\n",
    "    TCRE_out = TCRE_out.set_index(['climate_model','model','scenario','region','variable','unit','ensemble_member']).reset_index()\n",
    "\n",
    "    CH4_tau = pd.concat([pd.concat([RCP_run['alpha'].xs('methane',axis=1,level=-1)*gas_param_ensemble.loc['tau1',(slice(None),'methane')].unique()[0]],axis=1,keys=['Atmospheric Lifetime|CH4'])],axis=1,keys=[rcp],names=['scenario','variable','ensemble_member'])\n",
    "    CH4_tau = CH4_tau.T.reset_index()\n",
    "    CH4_tau.loc[:,'region'] = 'World'\n",
    "    CH4_tau.loc[:,'climate_model'] = 'FaIRv2.0.0-alpha'\n",
    "    CH4_tau.loc[:,'model'] = RCMIP_concs.loc[('World',rcp)].Model.unique()[0]\n",
    "    CH4_tau.loc[:,'unit'] = 'yr'\n",
    "    CH4_tau = CH4_tau.set_index(['climate_model','model','scenario','region','variable','unit','ensemble_member']).reset_index()\n",
    "\n",
    "    output = pd.concat([T_out,RF_out,emms_out,cum_emms_out,atmos_pool_out,af_out,TCRE_out,CH4_tau],axis=0).loc[:,['climate_model','model','scenario','region','variable','unit','ensemble_member']+list(save_period)]\n",
    "\n",
    "    output.to_hdf(r'/home/leachl/Documents/Simple_models/FaIR_v2-0/GIR/GIR_output/RCMIP/RCMIP_'+rcp+'_FaIRv2.0.0-alpha.h5', key='stage', mode='w')"
   ]
  },
  {
   "cell_type": "code",
   "execution_count": 12,
   "metadata": {},
   "outputs": [
    {
     "name": "stdout",
     "output_type": "stream",
     "text": [
      "Integrating 7500 scenarios, 1 gas cycle parameter sets, 1 thermal response parameter sets, over ['bc', 'bc|aci', 'bc|bc_on_snow', 'c2f6', 'c6f14', 'carbon_dioxide', 'carbon_tetrachloride', 'carbon_tetrachloride|strat_o3', 'cf4', 'cfc11', 'cfc113', 'cfc113|strat_o3', 'cfc114', 'cfc114|strat_o3', 'cfc115', 'cfc115|strat_o3', 'cfc11|strat_o3', 'cfc12', 'cfc12|strat_o3', 'ch3ccl3', 'ch3ccl3|strat_o3', 'co', 'co|trop_o3', 'halon1202', 'halon1202|strat_o3', 'halon1211', 'halon1211|strat_o3', 'halon1301', 'halon1301|strat_o3', 'halon2402', 'halon2402|strat_o3', 'hcfc141b', 'hcfc141b|strat_o3', 'hcfc142b', 'hcfc142b|strat_o3', 'hcfc22', 'hcfc22|strat_o3', 'hfc125', 'hfc134a', 'hfc143a', 'hfc227ea', 'hfc23', 'hfc245fa', 'hfc32', 'hfc4310mee', 'methane', 'methane|strat_h2o', 'methane|trop_o3', 'methyl_bromide', 'methyl_bromide|strat_o3', 'methyl_chloride', 'methyl_chloride|strat_o3', 'nh3', 'nitrous_oxide', 'nmvoc', 'nmvoc|trop_o3', 'nox', 'nox|trop_o3', 'oc', 'oc|aci', 'sf6', 'so2', 'so2|aci'] forcing agents, between 1765 and 2300...\n"
     ]
    },
    {
     "name": "stderr",
     "output_type": "stream",
     "text": [
      "100%|██████████| 535/535 [01:11<00:00,  7.46 timestep/s]\n",
      "/home/leachl/miniconda3/lib/python3.7/site-packages/ipykernel_launcher.py:35: PerformanceWarning: indexing past lexsort depth may impact performance.\n",
      "/home/leachl/miniconda3/lib/python3.7/site-packages/ipykernel_launcher.py:54: PerformanceWarning: indexing past lexsort depth may impact performance.\n",
      "/home/leachl/miniconda3/lib/python3.7/site-packages/ipykernel_launcher.py:65: PerformanceWarning: indexing past lexsort depth may impact performance.\n",
      "/home/leachl/miniconda3/lib/python3.7/site-packages/ipykernel_launcher.py:95: PerformanceWarning: indexing past lexsort depth may impact performance.\n"
     ]
    },
    {
     "name": "stdout",
     "output_type": "stream",
     "text": [
      "Integrating 7500 scenarios, 1 gas cycle parameter sets, 1 thermal response parameter sets, over ['bc', 'bc|aci', 'bc|bc_on_snow', 'c2f6', 'c6f14', 'carbon_dioxide', 'carbon_tetrachloride', 'carbon_tetrachloride|strat_o3', 'cf4', 'cfc11', 'cfc113', 'cfc113|strat_o3', 'cfc114', 'cfc114|strat_o3', 'cfc115', 'cfc115|strat_o3', 'cfc11|strat_o3', 'cfc12', 'cfc12|strat_o3', 'ch3ccl3', 'ch3ccl3|strat_o3', 'co', 'co|trop_o3', 'halon1202', 'halon1202|strat_o3', 'halon1211', 'halon1211|strat_o3', 'halon1301', 'halon1301|strat_o3', 'halon2402', 'halon2402|strat_o3', 'hcfc141b', 'hcfc141b|strat_o3', 'hcfc142b', 'hcfc142b|strat_o3', 'hcfc22', 'hcfc22|strat_o3', 'hfc125', 'hfc134a', 'hfc143a', 'hfc227ea', 'hfc23', 'hfc245fa', 'hfc32', 'hfc4310mee', 'methane', 'methane|strat_h2o', 'methane|trop_o3', 'methyl_bromide', 'methyl_bromide|strat_o3', 'methyl_chloride', 'methyl_chloride|strat_o3', 'nh3', 'nitrous_oxide', 'nmvoc', 'nmvoc|trop_o3', 'nox', 'nox|trop_o3', 'oc', 'oc|aci', 'sf6', 'so2', 'so2|aci'] forcing agents, between 1765 and 2300...\n"
     ]
    },
    {
     "name": "stderr",
     "output_type": "stream",
     "text": [
      "100%|██████████| 535/535 [01:12<00:00,  7.39 timestep/s]\n"
     ]
    },
    {
     "name": "stdout",
     "output_type": "stream",
     "text": [
      "Integrating 7500 scenarios, 1 gas cycle parameter sets, 1 thermal response parameter sets, over ['bc', 'bc|aci', 'bc|bc_on_snow', 'c2f6', 'c6f14', 'carbon_dioxide', 'carbon_tetrachloride', 'carbon_tetrachloride|strat_o3', 'cf4', 'cfc11', 'cfc113', 'cfc113|strat_o3', 'cfc114', 'cfc114|strat_o3', 'cfc115', 'cfc115|strat_o3', 'cfc11|strat_o3', 'cfc12', 'cfc12|strat_o3', 'ch3ccl3', 'ch3ccl3|strat_o3', 'co', 'co|trop_o3', 'halon1202', 'halon1202|strat_o3', 'halon1211', 'halon1211|strat_o3', 'halon1301', 'halon1301|strat_o3', 'halon2402', 'halon2402|strat_o3', 'hcfc141b', 'hcfc141b|strat_o3', 'hcfc142b', 'hcfc142b|strat_o3', 'hcfc22', 'hcfc22|strat_o3', 'hfc125', 'hfc134a', 'hfc143a', 'hfc227ea', 'hfc23', 'hfc245fa', 'hfc32', 'hfc4310mee', 'methane', 'methane|strat_h2o', 'methane|trop_o3', 'methyl_bromide', 'methyl_bromide|strat_o3', 'methyl_chloride', 'methyl_chloride|strat_o3', 'nh3', 'nitrous_oxide', 'nmvoc', 'nmvoc|trop_o3', 'nox', 'nox|trop_o3', 'oc', 'oc|aci', 'sf6', 'so2', 'so2|aci'] forcing agents, between 1765 and 2300...\n"
     ]
    },
    {
     "name": "stderr",
     "output_type": "stream",
     "text": [
      "100%|██████████| 535/535 [01:10<00:00,  7.56 timestep/s]\n"
     ]
    },
    {
     "name": "stdout",
     "output_type": "stream",
     "text": [
      "Integrating 7500 scenarios, 1 gas cycle parameter sets, 1 thermal response parameter sets, over ['bc', 'bc|aci', 'bc|bc_on_snow', 'c2f6', 'c6f14', 'carbon_dioxide', 'carbon_tetrachloride', 'carbon_tetrachloride|strat_o3', 'cf4', 'cfc11', 'cfc113', 'cfc113|strat_o3', 'cfc114', 'cfc114|strat_o3', 'cfc115', 'cfc115|strat_o3', 'cfc11|strat_o3', 'cfc12', 'cfc12|strat_o3', 'ch3ccl3', 'ch3ccl3|strat_o3', 'co', 'co|trop_o3', 'halon1202', 'halon1202|strat_o3', 'halon1211', 'halon1211|strat_o3', 'halon1301', 'halon1301|strat_o3', 'halon2402', 'halon2402|strat_o3', 'hcfc141b', 'hcfc141b|strat_o3', 'hcfc142b', 'hcfc142b|strat_o3', 'hcfc22', 'hcfc22|strat_o3', 'hfc125', 'hfc134a', 'hfc143a', 'hfc227ea', 'hfc23', 'hfc245fa', 'hfc32', 'hfc4310mee', 'methane', 'methane|strat_h2o', 'methane|trop_o3', 'methyl_bromide', 'methyl_bromide|strat_o3', 'methyl_chloride', 'methyl_chloride|strat_o3', 'nh3', 'nitrous_oxide', 'nmvoc', 'nmvoc|trop_o3', 'nox', 'nox|trop_o3', 'oc', 'oc|aci', 'sf6', 'so2', 'so2|aci'] forcing agents, between 1765 and 2300...\n"
     ]
    },
    {
     "name": "stderr",
     "output_type": "stream",
     "text": [
      "100%|██████████| 535/535 [01:09<00:00,  7.66 timestep/s]\n"
     ]
    }
   ],
   "source": [
    "for rcp in [x for x in RCMIP_concs.index.levels[-2] if 'rcp' in x]:\n",
    "    run_RCP(rcp,range(1850,2301))\n",
    "    \n",
    "# run_RCP('historical-cmip5',range(1765,2005))"
   ]
  },
  {
   "cell_type": "markdown",
   "metadata": {},
   "source": [
    "## Create FaIRv2.0.0 metadata"
   ]
  },
  {
   "cell_type": "code",
   "execution_count": 75,
   "metadata": {},
   "outputs": [],
   "source": [
    "metadata = pd.DataFrame(columns = ['climate_model','climate_model_name','climate_model_version','climate_model_configuration_label','climate_model_configuration_description','project','name_of_person','literature_reference'],index=['entry'])\n",
    "metadata.loc['entry','climate_model'] = 'FaIR'\n",
    "metadata.loc['entry','climate_model_name'] = 'FaIRv2.0.0-alpha'\n",
    "metadata.loc['entry','climate_model_version'] = '2.0.0'\n",
    "metadata.loc['entry','climate_model_configuration_label'] = 'CONSTRAINED'\n",
    "metadata.loc['entry','climate_model_configuration_description'] = 'FaIRv2.0.0 large parameter ensemble subset with observed level and rate constraint applied'\n",
    "metadata.loc['entry','project'] = 'RCMIP'\n",
    "metadata.loc['entry','name_of_person'] = 'Nicholas Leach <nicholas.leach@stx.ox.ac.uk>'\n",
    "metadata.loc['entry','literature_reference'] = 'https://doi.org/10.5194/gmd-2019-379'"
   ]
  },
  {
   "cell_type": "code",
   "execution_count": 77,
   "metadata": {},
   "outputs": [],
   "source": [
    "metadata.to_csv('/home/leachl/Documents/Simple_models/FaIR_v2-0/GIR/GIR_output/RCMIP/RCMIP_meta_FaIRv2.0.0-alpha.csv')"
   ]
  },
  {
   "cell_type": "markdown",
   "metadata": {},
   "source": [
    "# Emission-driven experiments"
   ]
  },
  {
   "cell_type": "markdown",
   "metadata": {},
   "source": [
    "## esm-hist"
   ]
  },
  {
   "cell_type": "markdown",
   "metadata": {},
   "source": [
    "##### Tune r$_0$ to reproduce historical concs from the RCMIP emission series"
   ]
  },
  {
   "cell_type": "code",
   "execution_count": 155,
   "metadata": {},
   "outputs": [
    {
     "name": "stderr",
     "output_type": "stream",
     "text": [
      "/home/leachl/miniconda3/lib/python3.7/site-packages/ipykernel_launcher.py:20: ParserWarning: Falling back to the 'python' engine because the 'c' engine does not support skipfooter; you can avoid this warning by specifying engine='python'.\n"
     ]
    },
    {
     "name": "stdout",
     "output_type": "stream",
     "text": [
      "r0: 33.81104011565178\n"
     ]
    }
   ],
   "source": [
    "## re-tune r0 to reproduce present-day concentrations:\n",
    "\n",
    "## switch in GCP co2 emissions up to start of SSPs\n",
    "GCP_historical_emissions=pd.read_csv('https://raw.githubusercontent.com/openclimatedata/global-carbon-budget/master/data/historical-budget.csv',index_col=0,usecols=[0,1,2])\n",
    "## set 1750 value to 0\n",
    "GCP_historical_emissions.loc[1750,'Fossil-Fuel-Industry'] = 0\n",
    "## linearly interpolate between 0 and first land-use-change datapoint\n",
    "GCP_historical_emissions.loc[1750:1849,'Land-Use-Change'] = np.linspace(0,0.99,100) * GCP_historical_emissions.loc[1850,'Land-Use-Change']\n",
    "\n",
    "## import concentrations:\n",
    "CMIP6_conc_ftp = ftplib.FTP('data.iac.ethz.ch','anonymous')\n",
    "CMIP6_conc_ftp.cwd('CMIP6/input4MIPs/UoM/GHGConc/CMIP/yr/atmos/UoM-CMIP-1-1-0/GHGConc/gr3-GMNHSH/v20160701')\n",
    "CMIP6_ftp_list = [x for x in CMIP6_conc_ftp.nlst() if x[-3:]=='csv']\n",
    "WMGHG_concs = pd.DataFrame(dict(zip(['_'.join(x.split('_')[3:-8]) for x in CMIP6_ftp_list],[pd.read_csv('ftp://data.iac.ethz.ch/CMIP6/input4MIPs/UoM/GHGConc/CMIP/yr/atmos/UoM-CMIP-1-1-0/GHGConc/gr3-GMNHSH/v20160701/'+x,usecols=[0,1],index_col=0).iloc[:,0] for x in CMIP6_ftp_list])))\n",
    "WMGHG_concs = WMGHG_concs[[x for x in WMGHG_concs.columns if x[-2:]!='eq']] # remove \"equivalent\" concentrations\n",
    "\n",
    "WMGHG_concs['halon1202'] = 0\n",
    "WMGHG_concs.loc[1765:2014,'halon1202'] = pd.read_csv('http://www.pik-potsdam.de/~mmalte/rcps/data/RCP45_MIDYEAR_CONCENTRATIONS.DAT',skiprows=38,delim_whitespace=True,index_col=0)['HALON1202'].loc[1765:2014].values\n",
    "\n",
    "NOAA_mole_fractions_2020 = pd.read_csv('https://www.esrl.noaa.gov/gmd/aggi/NOAA_MoleFractions_2020.csv',skiprows=2,index_col=0,skipfooter=5).iloc[1:].replace('nd',np.nan).apply(pd.to_numeric)\n",
    "\n",
    "scale_factor = (WMGHG_concs.loc[2014,'carbon_dioxide'] / NOAA_mole_fractions_2020.loc[2014:2015,'CO2']).values\n",
    "\n",
    "CO2_concs = pd.Series(np.append(WMGHG_concs.loc[1750:,'carbon_dioxide'].values.flatten(),NOAA_mole_fractions_2020.loc[2015:,'CO2']*scale_factor),index=np.arange(1750,2020),name='CO2')\n",
    "\n",
    "BE_GMST = pd.read_csv('http://berkeleyearth.lbl.gov/auto/Global/Land_and_Ocean_summary.txt',skiprows=48,index_col=0,usecols=[0,1],names=['Year','GMST'],delim_whitespace=True)\n",
    "b, a = sp.signal.butter(2, 0.05)\n",
    "BE_GMST['smooth'] = sp.signal.filtfilt(b, a, BE_GMST.values.flatten())\n",
    "\n",
    "fit_concs = pd.concat([pd.DataFrame(CO2_concs)],keys=['observed'],axis=1)\n",
    "fit_temp = BE_GMST['smooth']-BE_GMST.loc[1850:1900,'smooth'].mean()\n",
    "## add on 100 years of data that interpolates the 1750-1850 temperature change with a linear fit\n",
    "fit_temp = np.concatenate((np.zeros(100),fit_temp.values))\n",
    "\n",
    "params = get_gas_parameter_defaults(['carbon_dioxide']).apply(pd.to_numeric)\n",
    "a = params.loc['a1':'a4',('default','carbon_dioxide')].values\n",
    "tau = params.loc['tau1':'tau4',('default','carbon_dioxide')].values\n",
    "r = np.array([32.4,0.0177,2.64,0])\n",
    "PI_conc = 278\n",
    "emis2conc = params.loc['emis2conc',('default','carbon_dioxide')]\n",
    "\n",
    "target = (((RCMIP_emms.loc[('World','historical','Emissions|CO2')].loc['1750':'2014'])/(1000*44.01/12.01)).sum())\n",
    "\n",
    "def get_r0(x):\n",
    "    r_1 = r.copy()\n",
    "    r_1[0] = x\n",
    "    emissions = invert_carbon_cycle_prescribed_T(fit_concs.values,fit_temp,a,tau,r_1,PI_conc,emis2conc)\n",
    "    return (emissions.loc[:264].sum() - target)**2\n",
    "\n",
    "print('r0:',sp.optimize.newton(get_r0,x0=30))\n",
    "\n",
    "# print('r0:',36.02)"
   ]
  },
  {
   "cell_type": "code",
   "execution_count": 20,
   "metadata": {},
   "outputs": [
    {
     "name": "stdout",
     "output_type": "stream",
     "text": [
      "Integrating 7500 scenarios, 1 gas cycle parameter sets, 1 thermal response parameter sets, over ['bc', 'bc|aci', 'bc|bc_on_snow', 'c2f6', 'c3f8', 'c4f10', 'c5f12', 'c6f14', 'c7f16', 'c8f18', 'c_c4f8', 'carbon_dioxide', 'carbon_tetrachloride', 'carbon_tetrachloride|strat_o3', 'cf4', 'cfc11', 'cfc113', 'cfc113|strat_o3', 'cfc114', 'cfc114|strat_o3', 'cfc115', 'cfc115|strat_o3', 'cfc11|strat_o3', 'cfc12', 'cfc12|strat_o3', 'ch2cl2', 'ch3ccl3', 'ch3ccl3|strat_o3', 'chcl3', 'co', 'co|trop_o3', 'halon1202', 'halon1202|strat_o3', 'halon1211', 'halon1211|strat_o3', 'halon1301', 'halon1301|strat_o3', 'halon2402', 'halon2402|strat_o3', 'hcfc141b', 'hcfc141b|strat_o3', 'hcfc142b', 'hcfc142b|strat_o3', 'hcfc22', 'hcfc22|strat_o3', 'hfc125', 'hfc134a', 'hfc143a', 'hfc152a', 'hfc227ea', 'hfc23', 'hfc236fa', 'hfc245fa', 'hfc32', 'hfc365mfc', 'hfc4310mee', 'methane', 'methane|strat_h2o', 'methane|trop_o3', 'methyl_bromide', 'methyl_bromide|strat_o3', 'methyl_chloride', 'methyl_chloride|strat_o3', 'nf3', 'nh3', 'nitrous_oxide', 'nmvoc', 'nmvoc|trop_o3', 'nox', 'nox_avi', 'nox_avi|contrails', 'nox|trop_o3', 'oc', 'oc|aci', 'sf6', 'so2', 'so2f2', 'so2|aci'] forcing agents, between 1750 and 2014...\n"
     ]
    },
    {
     "name": "stderr",
     "output_type": "stream",
     "text": [
      "100%|██████████| 264/264 [00:14<00:00, 18.30 timestep/s]\n"
     ]
    }
   ],
   "source": [
    "ssp = 'historical'\n",
    "\n",
    "SSP_emms = RCMIP_to_GIR_input_emms(ssp).interpolate(limit_area='inside').dropna()\n",
    "SSP_emms -= SSP_emms.loc[1750]\n",
    "\n",
    "SSP_LUC = pd.concat([get_RCMIP_forc([ssp],'Effective Radiative Forcing|Anthropogenic|Albedo Change')]*N,axis=1,keys=EXT_forc_sfs.loc['LUC'].index)*EXT_forc_sfs.loc['LUC'].values\n",
    "SSP_other_forc = get_RCMIP_forc([ssp],['Effective Radiative Forcing|Natural'])\n",
    "SSP_forc = (SSP_LUC + SSP_other_forc.values).loc[SSP_emms.index]\n",
    "\n",
    "SSP_emms = pd.concat([SSP_emms]*N,axis=1,keys=EXT_forc_sfs.loc['LUC'].index)\n",
    "\n",
    "emms_driven_params = gas_param_ensemble.copy()\n",
    "# emms_driven_params.loc['r0',(slice(None),'carbon_dioxide')] *= 36.02/30.4\n",
    "\n",
    "## run the model:\n",
    "SSP_run = run_GIR(emissions_in=SSP_emms,forcing_in=SSP_forc,gas_parameters=emms_driven_params,thermal_parameters=thermal_param_ensemble)"
   ]
  },
  {
   "cell_type": "code",
   "execution_count": 21,
   "metadata": {},
   "outputs": [
    {
     "name": "stderr",
     "output_type": "stream",
     "text": [
      "/home/leachl/miniconda3/lib/python3.7/site-packages/ipykernel_launcher.py:9: PerformanceWarning: indexing past lexsort depth may impact performance.\n",
      "  if __name__ == '__main__':\n",
      "/home/leachl/miniconda3/lib/python3.7/site-packages/ipykernel_launcher.py:28: PerformanceWarning: indexing past lexsort depth may impact performance.\n",
      "/home/leachl/miniconda3/lib/python3.7/site-packages/ipykernel_launcher.py:39: PerformanceWarning: indexing past lexsort depth may impact performance.\n",
      "/home/leachl/miniconda3/lib/python3.7/site-packages/ipykernel_launcher.py:69: PerformanceWarning: indexing past lexsort depth may impact performance.\n",
      "/home/leachl/miniconda3/lib/python3.7/site-packages/pandas/io/pytables.py:282: PerformanceWarning: \n",
      "your performance may suffer as PyTables will pickle object types that it cannot\n",
      "map directly to c-types [inferred_type->integer,key->block1_items] [items->None]\n",
      "\n",
      "  f(store)\n"
     ]
    }
   ],
   "source": [
    "save_period=range(1750,2015)\n",
    "\n",
    "## convert output to RCMIP formatting reqs:\n",
    "T_out = pd.concat([SSP_run['T'].loc[:].copy()],axis=1,keys=[ssp],names=['Scenario','Gas cycle set'])\n",
    "T_out = T_out.T.reset_index().rename({'Gas cycle set':'ensemble_member','Scenario':'scenario'},axis=1)\n",
    "T_out.loc[:,'variable'] = 'Surface Air Temperature Change'\n",
    "T_out.loc[:,'region'] = 'World'\n",
    "T_out.loc[:,'climate_model'] = 'FaIRv2.0.0-alpha'\n",
    "T_out.loc[:,'model'] = RCMIP_concs.loc[('World',ssp)].Model.unique()[0]\n",
    "T_out.loc[:,'unit'] = 'K'\n",
    "T_out = T_out.set_index(['climate_model','model','scenario','region','variable','unit','ensemble_member']).reset_index()\n",
    "\n",
    "# get result category intersection with all possible categories:\n",
    "\n",
    "RF_out = []\n",
    "exp_forc_cats = [x for x,vals in param_categories.items() if bool(set(vals).intersection(SSP_run['RF'].columns.levels[-1]))]\n",
    "for forc_cat in exp_forc_cats:\n",
    "#     RF_out.loc[:,(slice(None),slice(None),forc_cat)] = \n",
    "    RF_out += [SSP_run['RF'].loc[:,(slice(None),param_categories[forc_cat])].groupby(level=0,axis=1).sum()]\n",
    "RF_out += [SSP_run['RF'].loc[:].xs('Total',axis=1,level=-1)]\n",
    "RF_out = pd.concat(RF_out,axis=1,keys=exp_forc_cats+['Effective Radiative Forcing'])\n",
    "RF_out = pd.concat([RF_out],axis=1,keys=[ssp],names=['scenario','variable','ensemble_member'])\n",
    "RF_out = RF_out.T.reset_index()\n",
    "for forc_cat in exp_forc_cats:\n",
    "    RF_out.replace(forc_cat,GIR_to_RCMIP_map_forc.loc[forc_cat,'RCMIP_forc_key'],inplace=True)\n",
    "RF_out.loc[:,'region'] = 'World'\n",
    "RF_out.loc[:,'climate_model'] = 'FaIRv2.0.0-alpha'\n",
    "RF_out.loc[:,'model'] = RCMIP_concs.loc[('World',ssp)].Model.unique()[0]\n",
    "RF_out.loc[:,'unit'] = 'W/m^2'\n",
    "RF_out = RF_out.set_index(['climate_model','model','scenario','region','variable','unit','ensemble_member']).reset_index()\n",
    "\n",
    "emms_out = SSP_run['Emissions'].loc[:,(slice(None),'carbon_dioxide')].apply(lambda x: x/GIR_to_RCMIP_map.loc[x.name[-1],'RCMIP_emms_scaling'],raw=False).copy()\n",
    "emms_out = pd.concat([emms_out],axis=1,keys=[ssp],names=['scenario','ensemble_member','variable']).T.reset_index()\n",
    "exp_emms_cats = [x for x in GIR_to_RCMIP_map.index if x in emms_out.variable.unique()]\n",
    "for agent in exp_emms_cats:\n",
    "    emms_out.replace(agent,GIR_to_RCMIP_map.loc[agent,'RCMIP_emms_key'],inplace=True)\n",
    "emms_out.loc[:,'region'] = 'World'\n",
    "emms_out.loc[:,'climate_model'] = 'FaIRv2.0.0-alpha'\n",
    "emms_out.loc[:,'model'] = RCMIP_concs.loc[('World',ssp)].Model.unique()[0]\n",
    "emms_out.loc[:,'unit'] = GIR_to_RCMIP_map.set_index('RCMIP_emms_key').loc[emms_out.variable,'RCMIP_emms_unit'].values\n",
    "emms_out = emms_out.set_index(['climate_model','model','scenario','region','variable','unit','ensemble_member']).reset_index()\n",
    "\n",
    "cum_emms_out = emms_out.loc[emms_out.variable=='Emissions|CO2'].copy()\n",
    "atmos_pool_out = emms_out.loc[emms_out.variable=='Emissions|CO2'].copy()\n",
    "af_out = emms_out.loc[emms_out.variable=='Emissions|CO2'].copy()\n",
    "TCRE_out = emms_out.loc[emms_out.variable=='Emissions|CO2'].copy()\n",
    "\n",
    "cum_emms_out = cum_emms_out.set_index(['climate_model','model','scenario','region','variable','unit','ensemble_member']).cumsum(axis=1).reset_index()\n",
    "cum_emms_out.loc[:,'variable'] = 'Cumulative Emissions|CO2'\n",
    "\n",
    "atmos_pool_out = atmos_pool_out.set_index(['climate_model','model','scenario','region','variable','unit','ensemble_member']).apply(lambda x: (SSP_run['C'].loc[:,(x.name[-1],'carbon_dioxide')]-278)/(4.688876e-01*GIR_to_RCMIP_map.loc['carbon_dioxide','RCMIP_emms_scaling']),axis=1).reset_index()\n",
    "atmos_pool_out.loc[:,'variable'] = 'Carbon Pool|Atmosphere'\n",
    "atmos_pool_out.loc[:,'unit'] = 'Mt CO2'\n",
    "\n",
    "af_out = (atmos_pool_out.set_index(['climate_model','model','scenario','region','ensemble_member']).iloc[:,2:] / cum_emms_out.set_index(['climate_model','model','scenario','region','ensemble_member']).iloc[:,2:]).reset_index()\n",
    "af_out.loc[:,'variable'] = 'Airborne Fraction|CO2'\n",
    "af_out.loc[:,'unit'] = '-'\n",
    "af_out = af_out.set_index(['climate_model','model','scenario','region','variable','unit','ensemble_member']).reset_index()\n",
    "\n",
    "TCRE_out = (T_out.set_index(['climate_model','model','scenario','region','ensemble_member']).iloc[:,2:] / cum_emms_out.set_index(['climate_model','model','scenario','region','ensemble_member']).iloc[:,2:]).reset_index()\n",
    "TCRE_out.loc[:,'variable'] = 'Instantaneous TCRE'\n",
    "TCRE_out.loc[:,'unit'] = 'K / MtCO2'\n",
    "TCRE_out = TCRE_out.set_index(['climate_model','model','scenario','region','variable','unit','ensemble_member']).reset_index()\n",
    "\n",
    "CH4_tau = pd.concat([pd.concat([SSP_run['alpha'].xs('methane',axis=1,level=-1)*gas_param_ensemble.loc['tau1',(slice(None),'methane')].unique()[0]],axis=1,keys=['Atmospheric Lifetime|CH4'])],axis=1,keys=[ssp],names=['scenario','variable','ensemble_member'])\n",
    "CH4_tau = CH4_tau.T.reset_index()\n",
    "CH4_tau.loc[:,'region'] = 'World'\n",
    "CH4_tau.loc[:,'climate_model'] = 'FaIRv2.0.0-alpha'\n",
    "CH4_tau.loc[:,'model'] = RCMIP_concs.loc[('World',ssp)].Model.unique()[0]\n",
    "CH4_tau.loc[:,'unit'] = 'yr'\n",
    "CH4_tau = CH4_tau.set_index(['climate_model','model','scenario','region','variable','unit','ensemble_member']).reset_index()\n",
    "\n",
    "output = pd.concat([T_out,RF_out,emms_out,cum_emms_out,atmos_pool_out,af_out,TCRE_out,CH4_tau],axis=0).loc[:,['climate_model','model','scenario','region','variable','unit','ensemble_member']+list(save_period)]\n",
    "\n",
    "output.to_hdf(r'/home/leachl/Documents/Simple_models/FaIR_v2-0/GIR/GIR_output/RCMIP/RCMIP_esm-hist_FaIRv2.0.0-alpha.h5', key='stage', mode='w')"
   ]
  },
  {
   "cell_type": "markdown",
   "metadata": {},
   "source": [
    "## Saving memory"
   ]
  },
  {
   "cell_type": "code",
   "execution_count": 27,
   "metadata": {},
   "outputs": [],
   "source": [
    "## reduce variables saved\n",
    "\n",
    "choose_variable = ['Surface Air Temperature Change',\\\n",
    "                   'Effective Radiative Forcing|Anthropogenic|F-Gases',\\\n",
    "                   'Effective Radiative Forcing|Anthropogenic|Montreal Gases',\\\n",
    "                   'Effective Radiative Forcing|Anthropogenic|CO2',\\\n",
    "                   'Effective Radiative Forcing|Anthropogenic|CH4',\\\n",
    "                   'Effective Radiative Forcing|Anthropogenic|N2O',\\\n",
    "                   'Effective Radiative Forcing|Anthropogenic|Tropospheric Ozone',\\\n",
    "                   'Effective Radiative Forcing|Anthropogenic|Stratospheric Ozone',\\\n",
    "                   'Effective Radiative Forcing|Anthropogenic|Aerosols|Aerosols-radiation Interactions',\\\n",
    "                   'Effective Radiative Forcing|Anthropogenic|Aerosols|Aerosols-cloud Interactions',\\\n",
    "                   'Effective Radiative Forcing',\\\n",
    "                   'Emissions|CO2',\\\n",
    "                   'Carbon Pool|Atmosphere']\n",
    "\n",
    "members = choose_mems[:5000]\n",
    "\n",
    "def reduce_file_size(file,variables,ensemble_members,save_extension='_v1',single=True,end_date=2300):\n",
    "    \n",
    "    data_in = pd.read_hdf(file)\n",
    "    \n",
    "    if single:\n",
    "        data_in.iloc[:,7:] = data_in.iloc[:,7:].astype(np.single)\n",
    "        \n",
    "    data_in = data_in.loc[(data_in.variable.isin(variables))&(data_in.ensemble_member.isin(ensemble_members))]\n",
    "    \n",
    "    data_in.replace('Surface Air Temperature Change','Surface Air Ocean Blended Temperature Change',inplace=True)\n",
    "    \n",
    "    data_in.loc[:,'ensemble_member'] = [x[3:] for x in data_in.loc[:,'ensemble_member']]\n",
    "    \n",
    "    final_data_date = data_in.columns[-1]\n",
    "    \n",
    "    if end_date<final_data_date:\n",
    "        data_in = data_in.reindex(['climate_model','model','scenario','region','variable','unit','ensemble_member']+list(range(data_in.columns[7],end_date+1)),axis=1)\n",
    "        \n",
    "    data_in.to_csv('.'.join(file.split('.')[:-1])+save_extension+'.csv.gz', compression='gzip',index=False)"
   ]
  },
  {
   "cell_type": "code",
   "execution_count": 109,
   "metadata": {},
   "outputs": [],
   "source": [
    "## also need to convert the surface air temp variable to blended surface air ocean temp\n",
    "\n",
    "files = glob.glob('/home/leachl/Documents/Simple_models/FaIR_v2-0/GIR/GIR_output/RCMIP/*a.h5')\n",
    "\n",
    "for file in files:\n",
    "    if not ('idealised' in file or 'metrics' in file):\n",
    "        reduce_file_size(file,choose_variable,members)\n",
    "    \n",
    "reduce_file_size('/home/leachl/Documents/Simple_models/FaIR_v2-0/GIR/GIR_output/RCMIP/RCMIP_idealised_FaIRv2.0.0-alpha.h5',choose_variable,members,end_date=150)"
   ]
  },
  {
   "cell_type": "markdown",
   "metadata": {},
   "source": [
    "# Check Output"
   ]
  },
  {
   "cell_type": "code",
   "execution_count": 147,
   "metadata": {},
   "outputs": [],
   "source": [
    "test = pd.read_csv('/home/leachl/Documents/Simple_models/FaIR_v2-0/GIR/GIR_output/RCMIP/upload/RCMIP_ssp245_FaIRv2.0.0-alpha_v1.csv.gz')"
   ]
  },
  {
   "cell_type": "code",
   "execution_count": 153,
   "metadata": {},
   "outputs": [
    {
     "data": {
      "text/plain": [
       "count    5000.000000\n",
       "mean        0.448323\n",
       "std         0.101359\n",
       "min         0.113393\n",
       "5%          0.288371\n",
       "17%         0.348234\n",
       "50%         0.444614\n",
       "83%         0.551179\n",
       "95%         0.617148\n",
       "max         0.850325\n",
       "dtype: float64"
      ]
     },
     "execution_count": 153,
     "metadata": {},
     "output_type": "execute_result"
    }
   ],
   "source": [
    "(test.loc[test.variable=='Surface Air Ocean Blended Temperature Change','2019']-test.loc[test.variable=='Surface Air Ocean Blended Temperature Change','2000']).describe(percentiles=[0.05,0.17,0.5,0.83,0.95])"
   ]
  },
  {
   "cell_type": "code",
   "execution_count": 134,
   "metadata": {},
   "outputs": [],
   "source": [
    "# test.rename(dict(zip([str(x) for x in range(1,151)],[str(x) for x in range(1850,2000)])),axis=1).to_csv('/home/leachl/Documents/Simple_models/FaIR_v2-0/GIR/GIR_output/RCMIP/RCMIP_idealised_FaIRv2.0.0-alpha_v1.csv.gz', compression='gzip',index=False)"
   ]
  },
  {
   "cell_type": "code",
   "execution_count": null,
   "metadata": {},
   "outputs": [],
   "source": []
  }
 ],
 "metadata": {
  "kernelspec": {
   "display_name": "Python 3",
   "language": "python",
   "name": "python3"
  },
  "language_info": {
   "codemirror_mode": {
    "name": "ipython",
    "version": 3
   },
   "file_extension": ".py",
   "mimetype": "text/x-python",
   "name": "python",
   "nbconvert_exporter": "python",
   "pygments_lexer": "ipython3",
   "version": "3.7.8"
  }
 },
 "nbformat": 4,
 "nbformat_minor": 4
}
