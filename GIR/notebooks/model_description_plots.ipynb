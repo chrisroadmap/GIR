{
 "cells": [
  {
   "cell_type": "code",
   "execution_count": 1,
   "metadata": {
    "jupyter": {
     "source_hidden": true
    }
   },
   "outputs": [
    {
     "name": "stderr",
     "output_type": "stream",
     "text": [
      "/home/leachl/miniconda3/lib/python3.7/site-packages/pandas/core/indexing.py:1762: PerformanceWarning: indexing past lexsort depth may impact performance.\n",
      "  return self._getitem_tuple(key)\n",
      "../tools/RCMIP.py:61: PerformanceWarning: indexing past lexsort depth may impact performance.\n",
      "  GIR_to_RCMIP_map.loc[RCMIP_to_GIR_map_concs.values(),'RCMIP_concs_unit'] = RCMIP_concs.loc[('World','ssp245')].reindex(RCMIP_to_GIR_map_concs.keys()).loc[:,'Unit'].values#.loc[('World','ssp245',RCMIP_to_GIR_map_concs.keys()),'Unit'].values\n"
     ]
    }
   ],
   "source": [
    "## Get dependencies ##\n",
    "\n",
    "import numpy as np\n",
    "import string\n",
    "import math\n",
    "import sys\n",
    "import pandas as pd\n",
    "import matplotlib.pyplot as plt\n",
    "import matplotlib\n",
    "sys.path.append('..')\n",
    "from GIR import *\n",
    "import scipy as sp\n",
    "import pickle\n",
    "import time\n",
    "import scipy as sp\n",
    "from scipy import signal\n",
    "from scipy.io.idl import readsav\n",
    "import os\n",
    "from mpl_toolkits.axes_grid1.inset_locator import inset_axes\n",
    "import glob\n",
    "import requests\n",
    "import ftplib\n",
    "import io\n",
    "import cmocean\n",
    "from bs4 import BeautifulSoup\n",
    "import urllib.request\n",
    "from io import StringIO, BytesIO\n",
    "from zipfile import ZipFile\n",
    "import tqdm\n",
    "import seaborn as sn\n",
    "import re\n",
    "\n",
    "## get SSP emissions\n",
    "from tools.RCMIP import *\n",
    "\n",
    "header = {\n",
    "  \"User-Agent\": \"Mozilla/5.0 (X11; Linux x86_64) AppleWebKit/537.36 (KHTML, like Gecko) Chrome/50.0.2661.75 Safari/537.36\",\n",
    "  \"X-Requested-With\": \"XMLHttpRequest\"\n",
    "}\n",
    "    \n",
    "## Matplotlib rcparams setup:\n",
    "\n",
    "matplotlib.rcParams['font.family']='Helvetica'\n",
    "matplotlib.rcParams['font.size']=11\n",
    "# matplotlib.rcParams['font.weight']=400\n",
    "\n",
    "matplotlib.rcParams['image.cmap']='cmo.ice'\n",
    "\n",
    "matplotlib.rcParams['axes.prop_cycle']=matplotlib.cycler('color',['011936','FF7D00','225560','BFACAA','D72638','788C9B','A33F00','7CAAB0','685655','EB767C'])\n",
    "matplotlib.rcParams['axes.formatter.limits']=-3,3\n",
    "# matplotlib.rcParams['axes.labelweight']=300\n",
    "\n",
    "matplotlib.rcParams['legend.frameon']=False\n",
    "\n",
    "matplotlib.rcParams['boxplot.whiskers']=(5,95)\n",
    "matplotlib.rcParams['boxplot.showfliers']=False\n",
    "matplotlib.rcParams['boxplot.showfliers']=False\n",
    "matplotlib.rcParams['boxplot.medianprops.color']='black'\n",
    "\n",
    "matplotlib.rcParams['errorbar.capsize']=5\n",
    "\n",
    "matplotlib.rcParams['hist.bins']='auto'\n",
    "\n",
    "plt.rcParams['pdf.fonttype'] = 42\n",
    "\n",
    "%matplotlib inline\n",
    "\n",
    "%load_ext line_profiler\n",
    "%load_ext memory_profiler"
   ]
  },
  {
   "cell_type": "code",
   "execution_count": null,
   "metadata": {},
   "outputs": [],
   "source": [
    "#### CH4 lifetime"
   ]
  },
  {
   "cell_type": "code",
   "execution_count": null,
   "metadata": {},
   "outputs": [],
   "source": [
    "#### Relation to beta and gamma in C4MIP"
   ]
  },
  {
   "cell_type": "code",
   "execution_count": null,
   "metadata": {},
   "outputs": [],
   "source": []
  },
  {
   "cell_type": "code",
   "execution_count": null,
   "metadata": {},
   "outputs": [],
   "source": []
  },
  {
   "cell_type": "code",
   "execution_count": null,
   "metadata": {},
   "outputs": [],
   "source": []
  },
  {
   "cell_type": "code",
   "execution_count": null,
   "metadata": {},
   "outputs": [],
   "source": []
  }
 ],
 "metadata": {
  "kernelspec": {
   "display_name": "Python 3",
   "language": "python",
   "name": "python3"
  },
  "language_info": {
   "codemirror_mode": {
    "name": "ipython",
    "version": 3
   },
   "file_extension": ".py",
   "mimetype": "text/x-python",
   "name": "python",
   "nbconvert_exporter": "python",
   "pygments_lexer": "ipython3",
   "version": "3.7.8"
  }
 },
 "nbformat": 4,
 "nbformat_minor": 4
}
