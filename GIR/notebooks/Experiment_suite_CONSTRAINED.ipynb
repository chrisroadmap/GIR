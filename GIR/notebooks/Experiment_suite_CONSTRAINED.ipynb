{
 "cells": [
  {
   "cell_type": "markdown",
   "metadata": {},
   "source": [
    "### Import dependencies"
   ]
  },
  {
   "cell_type": "code",
   "execution_count": 1,
   "metadata": {
    "jupyter": {
     "source_hidden": true
    }
   },
   "outputs": [
    {
     "name": "stderr",
     "output_type": "stream",
     "text": [
      "/home/leachl/miniconda3/lib/python3.7/site-packages/pandas/core/indexing.py:1762: PerformanceWarning: indexing past lexsort depth may impact performance.\n",
      "  return self._getitem_tuple(key)\n",
      "../tools/RCMIP.py:61: PerformanceWarning: indexing past lexsort depth may impact performance.\n",
      "  GIR_to_RCMIP_map.loc[RCMIP_to_GIR_map_concs.values(),'RCMIP_concs_unit'] = RCMIP_concs.loc[('World','ssp245')].reindex(RCMIP_to_GIR_map_concs.keys()).loc[:,'Unit'].values#.loc[('World','ssp245',RCMIP_to_GIR_map_concs.keys()),'Unit'].values\n"
     ]
    }
   ],
   "source": [
    "## Get dependencies ##\n",
    "\n",
    "import numpy as np\n",
    "import string\n",
    "import math\n",
    "import sys\n",
    "import pandas as pd\n",
    "import matplotlib.pyplot as plt\n",
    "import matplotlib\n",
    "sys.path.append('..')\n",
    "from GIR import *\n",
    "import scipy as sp\n",
    "import pickle\n",
    "import time\n",
    "import scipy as sp\n",
    "from scipy import signal\n",
    "from scipy.io.idl import readsav\n",
    "import os\n",
    "from mpl_toolkits.axes_grid1.inset_locator import inset_axes\n",
    "import glob\n",
    "import requests\n",
    "import ftplib\n",
    "import io\n",
    "import cmocean\n",
    "from bs4 import BeautifulSoup\n",
    "import urllib.request\n",
    "from io import StringIO, BytesIO\n",
    "from zipfile import ZipFile\n",
    "import tqdm\n",
    "import seaborn as sn\n",
    "import re\n",
    "\n",
    "## get SSP emissions\n",
    "from tools.RCMIP import *\n",
    "\n",
    "header = {\n",
    "  \"User-Agent\": \"Mozilla/5.0 (X11; Linux x86_64) AppleWebKit/537.36 (KHTML, like Gecko) Chrome/50.0.2661.75 Safari/537.36\",\n",
    "  \"X-Requested-With\": \"XMLHttpRequest\"\n",
    "}\n",
    "    \n",
    "## Matplotlib rcparams setup:\n",
    "\n",
    "matplotlib.rcParams['font.family']='Helvetica'\n",
    "matplotlib.rcParams['font.size']=11\n",
    "# matplotlib.rcParams['font.weight']=400\n",
    "\n",
    "matplotlib.rcParams['image.cmap']='cmo.ice'\n",
    "\n",
    "matplotlib.rcParams['axes.prop_cycle']=matplotlib.cycler('color',['011936','FF7D00','225560','BFACAA','D72638','788C9B','A33F00','7CAAB0','685655','EB767C'])\n",
    "matplotlib.rcParams['axes.formatter.limits']=-3,3\n",
    "# matplotlib.rcParams['axes.labelweight']=300\n",
    "\n",
    "matplotlib.rcParams['legend.frameon']=False\n",
    "\n",
    "matplotlib.rcParams['boxplot.whiskers']=(5,95)\n",
    "matplotlib.rcParams['boxplot.showfliers']=False\n",
    "matplotlib.rcParams['boxplot.showfliers']=False\n",
    "matplotlib.rcParams['boxplot.medianprops.color']='black'\n",
    "\n",
    "matplotlib.rcParams['errorbar.capsize']=5\n",
    "\n",
    "matplotlib.rcParams['hist.bins']='auto'\n",
    "\n",
    "plt.rcParams['pdf.fonttype'] = 42\n",
    "\n",
    "%matplotlib inline\n",
    "\n",
    "%load_ext line_profiler\n",
    "%load_ext memory_profiler"
   ]
  },
  {
   "cell_type": "code",
   "execution_count": 2,
   "metadata": {},
   "outputs": [],
   "source": [
    "FULL_probabilities = pd.read_hdf('../Parameter_Sets/NROY_GWI_informed/FULL_member_selection_probabilities.h5')\n",
    "GWI_constraint = FULL_probabilities>np.random.random(FULL_probabilities.size)\n",
    "\n",
    "def get_GWI_ensemble_parameters(ensemble_size=10000):\n",
    "\n",
    "    gas_param_ensemble = []\n",
    "    thermal_param_ensemble = []\n",
    "\n",
    "    gas_param_files = sorted(glob.glob('../Parameter_Sets/NROY_GWI_informed/gas_params*'))\n",
    "    response_param_files = sorted(glob.glob('../Parameter_Sets/NROY_GWI_informed/response_params*'))\n",
    "\n",
    "    mems_selected=0\n",
    "    i=0\n",
    "\n",
    "    while mems_selected <= ensemble_size:\n",
    "\n",
    "        unconstrained_data = pd.read_pickle(gas_param_files[i])\n",
    "        mems_constraint = GWI_constraint.reindex(unconstrained_data.columns.levels[0]).replace(False,np.nan).dropna().index\n",
    "        gas_param_ensemble += [unconstrained_data.reindex(mems_constraint,axis=1,level=0)]\n",
    "        unconstrained_data = pd.read_pickle(response_param_files[i])\n",
    "        thermal_param_ensemble += [unconstrained_data.reindex(mems_constraint,axis=1,level=0)]\n",
    "\n",
    "        mems_selected += mems_constraint.size\n",
    "\n",
    "        i+=1\n",
    "\n",
    "    thermal_param_ensemble = pd.concat(thermal_param_ensemble,axis=1)\n",
    "    gas_param_ensemble = pd.concat(gas_param_ensemble,axis=1)\n",
    "    \n",
    "    return gas_param_ensemble,thermal_param_ensemble"
   ]
  },
  {
   "cell_type": "markdown",
   "metadata": {},
   "source": [
    "## Construct parameter sets"
   ]
  },
  {
   "cell_type": "code",
   "execution_count": 3,
   "metadata": {},
   "outputs": [],
   "source": [
    "gas_param_ensemble,thermal_param_ensemble = get_GWI_ensemble_parameters(ensemble_size=50000)"
   ]
  },
  {
   "cell_type": "code",
   "execution_count": 4,
   "metadata": {},
   "outputs": [],
   "source": [
    "gas_param_ensemble = gas_param_ensemble.reindex(['carbon_dioxide'],axis=1,level=1)\n",
    "gas_param_ensemble.loc['PI_conc'] = 284"
   ]
  },
  {
   "cell_type": "code",
   "execution_count": 5,
   "metadata": {},
   "outputs": [
    {
     "name": "stdout",
     "output_type": "stream",
     "text": [
      "# members : 50328\n"
     ]
    }
   ],
   "source": [
    "print('# members :',gas_param_ensemble.columns.levels[0].size)"
   ]
  },
  {
   "cell_type": "markdown",
   "metadata": {},
   "source": [
    "## Construct scenarios & scenario-specific parameter sets\n",
    "\n",
    "#### All experiments:\n",
    "- 1pctCO2\n",
    "- 1pctCO2-4xext\n",
    "- 1pctCO2-bgc\n",
    "- 1pctCO2-cdr\n",
    "- 1pctCO2-rad\n",
    "- abrupt-0p5xCO2\n",
    "- abrupt-2xCO2\n",
    "- abrupt-4xCO2\n",
    "- esm-1pct-brch-1000PgC\n",
    "- esm-1pct-brch-2000PgC\n",
    "- esm-1pct-brch-750PgC\n",
    "- esm-bell-1000PgC\n",
    "- esm-bell-2000PgC\n",
    "- esm-bell-750PgC\n",
    "- esm-pi-cdr-pulse\n",
    "- esm-pi-CO2-pulse\n",
    "\n",
    "#### Future experiments\n",
    "\n",
    "- esm-yr2010CO2-cdr-pulse\n",
    "- esm-yr2010CO2-CO2pulse\n",
    "- esm-yr2010CO2-control\n",
    "- esm-yr2010CO2-noemit"
   ]
  },
  {
   "cell_type": "code",
   "execution_count": 6,
   "metadata": {},
   "outputs": [],
   "source": [
    "# concentration-driven, standard params\n",
    "\n",
    "## Create the scenarios\n",
    "conc_driven_experiments = pd.DataFrame(index = np.arange(400), columns = pd.MultiIndex.from_product([['1pctCO2'],['carbon_dioxide']]))\n",
    "\n",
    "conc_driven_experiments.loc[:399,('1pctCO2','carbon_dioxide')] = 284*1.01**(np.arange(1,401))\n",
    "conc_driven_experiments.loc[:299,('1pctCO2-4xext','carbon_dioxide')] = 284*1.01**(np.arange(1,301))\n",
    "conc_driven_experiments.loc[139:,('1pctCO2-4xext','carbon_dioxide')] = 284*4\n",
    "\n",
    "conc_driven_experiments.loc[:399,('abrupt-4xCO2','carbon_dioxide')] = np.full(400,284*4)\n",
    "conc_driven_experiments.loc[:399,('abrupt-2xCO2','carbon_dioxide')] = np.full(400,284*2)\n",
    "conc_driven_experiments.loc[:399,('abrupt-0p5xCO2','carbon_dioxide')] = np.full(400,284*0.5)\n",
    "\n",
    "# CDRMIP\n",
    "\n",
    "conc_driven_experiments.loc[:138,('1pctCO2-cdr','carbon_dioxide')] = 284*1.01**(np.arange(1,140))\n",
    "conc_driven_experiments.loc[139:277,('1pctCO2-cdr','carbon_dioxide')] = 284*4*1.01**(-np.arange(139)-(140-np.log(4)/np.log(1.01)))\n",
    "conc_driven_experiments.loc[278:,('1pctCO2-cdr','carbon_dioxide')] = 284"
   ]
  },
  {
   "cell_type": "code",
   "execution_count": 7,
   "metadata": {},
   "outputs": [
    {
     "name": "stdout",
     "output_type": "stream",
     "text": [
      "Integrating 6 scenarios, 50328 gas cycle parameter sets, 1 thermal response parameter sets, over ['carbon_dioxide'] forcing agents, between 0 and 399...\n"
     ]
    },
    {
     "name": "stderr",
     "output_type": "stream",
     "text": [
      "100%|██████████| 399/399 [00:58<00:00,  6.79 timestep/s]\n"
     ]
    }
   ],
   "source": [
    "## run the conc-driven experiments since some emms are branched\n",
    "conc_driven_experiment_results = run_GIR(concentrations_in=conc_driven_experiments,gas_parameters=gas_param_ensemble,thermal_parameters=thermal_param_ensemble)"
   ]
  },
  {
   "cell_type": "code",
   "execution_count": 8,
   "metadata": {},
   "outputs": [
    {
     "name": "stdout",
     "output_type": "stream",
     "text": [
      "Integrating 1 scenarios, 50328 gas cycle parameter sets, 1 thermal response parameter sets, over ['carbon_dioxide'] forcing agents, between 0 and 399...\n"
     ]
    },
    {
     "name": "stderr",
     "output_type": "stream",
     "text": [
      "100%|██████████| 399/399 [00:09<00:00, 40.77 timestep/s]\n"
     ]
    }
   ],
   "source": [
    "## run the additional bgc and rad experiments (rad = cou - bgc)\n",
    "\n",
    "conc_driven_1pct_bgc = conc_driven_experiments[['1pctCO2']].rename({'1pctCO2':'1pctCO2-bgc'},axis=1,level=0)\n",
    "\n",
    "gas_params_bgc = gas_param_ensemble.copy()\n",
    "gas_params_bgc.loc['rT'] = 0\n",
    "\n",
    "conc_driven_experiment_bgc_results = run_GIR(concentrations_in=conc_driven_1pct_bgc,gas_parameters=gas_params_bgc,thermal_parameters=thermal_param_ensemble)"
   ]
  },
  {
   "cell_type": "markdown",
   "metadata": {},
   "source": [
    "### Historical run (for future)"
   ]
  },
  {
   "cell_type": "code",
   "execution_count": 9,
   "metadata": {
    "jupyter": {
     "source_hidden": true
    }
   },
   "outputs": [],
   "source": [
    "# ## get historical concs\n",
    "\n",
    "# CMIP6_conc_ftp = ftplib.FTP('data.iac.ethz.ch','anonymous')\n",
    "# CMIP6_conc_ftp.cwd('CMIP6/input4MIPs/UoM/GHGConc/CMIP/yr/atmos/UoM-CMIP-1-1-0/GHGConc/gr3-GMNHSH/v20160701')\n",
    "# CMIP6_ftp_list = [x for x in CMIP6_conc_ftp.nlst() if x[-3:]=='csv']\n",
    "# WMGHG_concs = pd.DataFrame(dict(zip(['_'.join(x.split('_')[3:-8]) for x in CMIP6_ftp_list],[pd.read_csv('ftp://data.iac.ethz.ch/CMIP6/input4MIPs/UoM/GHGConc/CMIP/yr/atmos/UoM-CMIP-1-1-0/GHGConc/gr3-GMNHSH/v20160701/'+x,usecols=[0,1],index_col=0).iloc[:,0] for x in CMIP6_ftp_list])))\n",
    "# WMGHG_concs = WMGHG_concs[[x for x in WMGHG_concs.columns if x[-2:]!='eq']] # remove \"equivalent\" concentrations\n",
    "\n",
    "# WMGHG_concs['halon1202'] = 0\n",
    "# WMGHG_concs.loc[1765:2014,'halon1202'] = pd.read_csv('http://www.pik-potsdam.de/~mmalte/rcps/data/RCP45_MIDYEAR_CONCENTRATIONS.DAT',skiprows=38,delim_whitespace=True,index_col=0)['HALON1202'].loc[1765:2014].values"
   ]
  },
  {
   "cell_type": "code",
   "execution_count": 10,
   "metadata": {
    "jupyter": {
     "source_hidden": true
    }
   },
   "outputs": [],
   "source": [
    "# ## get historical ERFs\n",
    "\n",
    "# erf_ar6 = pd.read_csv('https://raw.githubusercontent.com/Priestley-Centre/ssp_erf/master/SSPs/ERF_ssp245_1750-2500.csv',index_col=0,dtype=float)\n",
    "# hist_forc = pd.concat([pd.concat([(erf_ar6.loc[:2014,'total']-erf_ar6.loc[:2014,'co2'])],axis=1,keys=['forcing'])],axis=1,keys=['historical'])\n",
    "# hist_forc = hist_forc.loc[1850:] - hist_forc.loc[1850]\n",
    "# hist_concs = pd.concat([WMGHG_concs.loc[1850:,['carbon_dioxide']]],axis=1,keys=['historical'])"
   ]
  },
  {
   "cell_type": "code",
   "execution_count": 11,
   "metadata": {
    "jupyter": {
     "source_hidden": true
    }
   },
   "outputs": [],
   "source": [
    "# ## historical run\n",
    "\n",
    "# conc_driven_historical = run_GIR(concentrations_in=hist_concs,forcing_in=hist_forc,gas_parameters=gas_params_bgc,thermal_parameters=thermal_param_ensemble)"
   ]
  },
  {
   "cell_type": "code",
   "execution_count": 12,
   "metadata": {},
   "outputs": [],
   "source": [
    "# emms driven, single form standard params\n",
    "\n",
    "emms_driven_experiments = pd.DataFrame(index = np.arange(400), columns = pd.MultiIndex.from_product([['esm-bell-1000PgC'],['carbon_dioxide']]))\n",
    "\n",
    "emms_driven_experiments.loc[:199,('esm-bell-1000PgC','carbon_dioxide')] = pd.read_csv('http://c4mip.net/fileadmin/user_upload/c4mip/template/ZEC-MIP_Bellcurve_1000PgC.csv',skiprows=4,index_col=0).values.flatten()\n",
    "emms_driven_experiments.loc[199:,('esm-bell-1000PgC','carbon_dioxide')] = 0\n",
    "emms_driven_experiments.loc[:199,('esm-bell-750PgC','carbon_dioxide')] = pd.read_csv('http://c4mip.net/fileadmin/user_upload/c4mip/template/ZEC-MIP_Bellcurve_750PgC.csv',skiprows=4,index_col=0).values.flatten()\n",
    "emms_driven_experiments.loc[199:,('esm-bell-750PgC','carbon_dioxide')] = 0\n",
    "emms_driven_experiments.loc[:199,('esm-bell-2000PgC','carbon_dioxide')] = pd.read_csv('http://c4mip.net/fileadmin/user_upload/c4mip/template/ZEC-MIP_Bellcurve_2000PgC.csv',skiprows=4,index_col=0).values.flatten()\n",
    "emms_driven_experiments.loc[199:,('esm-bell-2000PgC','carbon_dioxide')] = 0\n",
    "\n",
    "emms_driven_experiments.loc[0,('esm-pi-cdr-pulse','carbon_dioxide')] = -100\n",
    "emms_driven_experiments.loc[1:,('esm-pi-cdr-pulse','carbon_dioxide')] = 0\n",
    "emms_driven_experiments.loc[0,('esm-pi-CO2-pulse','carbon_dioxide')] = 100\n",
    "emms_driven_experiments.loc[1:,('esm-pi-CO2-pulse','carbon_dioxide')] = 0"
   ]
  },
  {
   "cell_type": "code",
   "execution_count": 13,
   "metadata": {},
   "outputs": [
    {
     "name": "stdout",
     "output_type": "stream",
     "text": [
      "Integrating 5 scenarios, 50328 gas cycle parameter sets, 1 thermal response parameter sets, over ['carbon_dioxide'] forcing agents, between 0 and 399...\n"
     ]
    },
    {
     "name": "stderr",
     "output_type": "stream",
     "text": [
      "100%|██████████| 399/399 [00:14<00:00, 27.42 timestep/s]\n"
     ]
    }
   ],
   "source": [
    "emms_driven_experiment_results = run_GIR(emissions_in=emms_driven_experiments.astype(float),gas_parameters=gas_param_ensemble,thermal_parameters=thermal_param_ensemble)"
   ]
  },
  {
   "cell_type": "code",
   "execution_count": 14,
   "metadata": {},
   "outputs": [],
   "source": [
    "# emms driven, member-specific emissions:\n",
    "\n",
    "brch_base_1000_1pct = conc_driven_experiment_results['Emissions']['1pctCO2'].apply(lambda x: x * (np.cumsum(x)<1000).astype(int))\n",
    "brch_base_2000_1pct = conc_driven_experiment_results['Emissions']['1pctCO2'].apply(lambda x: x * (np.cumsum(x)<2000).astype(int))\n",
    "brch_base_750_1pct = conc_driven_experiment_results['Emissions']['1pctCO2'].apply(lambda x: x * (np.cumsum(x)<750).astype(int))"
   ]
  },
  {
   "cell_type": "code",
   "execution_count": 15,
   "metadata": {},
   "outputs": [
    {
     "name": "stdout",
     "output_type": "stream",
     "text": [
      "Integrating 50328 scenarios, 1 gas cycle parameter sets, 1 thermal response parameter sets, over ['carbon_dioxide'] forcing agents, between 0 and 399...\n"
     ]
    },
    {
     "name": "stderr",
     "output_type": "stream",
     "text": [
      "100%|██████████| 399/399 [00:04<00:00, 93.32 timestep/s] \n"
     ]
    },
    {
     "name": "stdout",
     "output_type": "stream",
     "text": [
      "Integrating 50328 scenarios, 1 gas cycle parameter sets, 1 thermal response parameter sets, over ['carbon_dioxide'] forcing agents, between 0 and 399...\n"
     ]
    },
    {
     "name": "stderr",
     "output_type": "stream",
     "text": [
      "100%|██████████| 399/399 [00:04<00:00, 98.74 timestep/s] \n"
     ]
    },
    {
     "name": "stdout",
     "output_type": "stream",
     "text": [
      "Integrating 50328 scenarios, 1 gas cycle parameter sets, 1 thermal response parameter sets, over ['carbon_dioxide'] forcing agents, between 0 and 399...\n"
     ]
    },
    {
     "name": "stderr",
     "output_type": "stream",
     "text": [
      "100%|██████████| 399/399 [00:04<00:00, 99.39 timestep/s] \n"
     ]
    }
   ],
   "source": [
    "emms_driven_brch_1000 = run_GIR(emissions_in=brch_base_1000_1pct,gas_parameters=gas_param_ensemble,thermal_parameters=thermal_param_ensemble)\n",
    "emms_driven_brch_2000 = run_GIR(emissions_in=brch_base_2000_1pct,gas_parameters=gas_param_ensemble,thermal_parameters=thermal_param_ensemble)\n",
    "emms_driven_brch_750 = run_GIR(emissions_in=brch_base_750_1pct,gas_parameters=gas_param_ensemble,thermal_parameters=thermal_param_ensemble)"
   ]
  },
  {
   "cell_type": "code",
   "execution_count": 16,
   "metadata": {},
   "outputs": [],
   "source": [
    "### collect results\n",
    "\n",
    "experiments = ['1pctCO2',\n",
    "'1pctCO2-4xext',\n",
    "'1pctCO2-bgc',\n",
    "'1pctCO2-cdr',\n",
    "'1pctCO2-rad',\n",
    "'abrupt-0p5xCO2',\n",
    "'abrupt-2xCO2',\n",
    "'abrupt-4xCO2',\n",
    "'esm-1pct-brch-1000PgC',\n",
    "'esm-1pct-brch-2000PgC',\n",
    "'esm-1pct-brch-750PgC',\n",
    "'esm-bell-1000PgC',\n",
    "'esm-bell-2000PgC',\n",
    "'esm-bell-750PgC',\n",
    "'esm-pi-cdr-pulse',\n",
    "'esm-pi-CO2-pulse']"
   ]
  },
  {
   "cell_type": "code",
   "execution_count": 17,
   "metadata": {},
   "outputs": [],
   "source": [
    "member_index = gas_param_ensemble.columns.levels[0]"
   ]
  },
  {
   "cell_type": "code",
   "execution_count": 18,
   "metadata": {},
   "outputs": [],
   "source": [
    "for exp in conc_driven_experiment_results['Emissions'].columns.levels[0]:\n",
    "\n",
    "    E = conc_driven_experiment_results['Emissions'][exp].droplevel(axis=1,level=1).reindex(member_index,axis=1)\n",
    "    E.loc[-1] = 0\n",
    "    C = pd.DataFrame(data=np.array([conc_driven_experiment_results['C'][exp]['carbon_dioxide'].values]*member_index.size).T,index=np.arange(400),columns=member_index)\n",
    "    C.loc[-1] = 284\n",
    "    RF = conc_driven_experiment_results['RF'][exp].xs('Total',axis=1,level=1).reindex(member_index,axis=1)\n",
    "    RF.loc[-1] = 0\n",
    "    T = conc_driven_experiment_results['T'][exp].reindex(member_index,axis=1)\n",
    "    T.loc[-1] = 0\n",
    "    \n",
    "    pd.concat([E,C,RF,T],axis=1,keys=['E','C','RF','T']).sort_index().to_hdf(r'../../../FaIR_projection_interactive/idealised_experiments/'+exp+'.h5', key='stage', mode='w')"
   ]
  },
  {
   "cell_type": "code",
   "execution_count": 19,
   "metadata": {},
   "outputs": [],
   "source": [
    "exp= '1pctCO2-bgc'\n",
    "E = conc_driven_experiment_bgc_results['Emissions'][exp].droplevel(axis=1,level=1).reindex(member_index,axis=1)\n",
    "E.loc[-1] = 0\n",
    "C = pd.DataFrame(data=np.array([conc_driven_experiment_bgc_results['C'][exp]['carbon_dioxide'].values]*member_index.size).T,index=np.arange(400),columns=member_index)\n",
    "C.loc[-1] = 284\n",
    "RF = conc_driven_experiment_bgc_results['RF'][exp].xs('Total',axis=1,level=1).reindex(member_index,axis=1)\n",
    "RF.loc[-1] = 0\n",
    "T = conc_driven_experiment_bgc_results['T'][exp].reindex(member_index,axis=1)\n",
    "T.loc[-1] = 0\n",
    "pd.concat([E,C,RF,T],axis=1,keys=['E','C','RF','T']).sort_index().to_hdf(r'../../../FaIR_projection_interactive/idealised_experiments/'+exp+'.h5', key='stage', mode='w')"
   ]
  },
  {
   "cell_type": "code",
   "execution_count": 20,
   "metadata": {},
   "outputs": [],
   "source": [
    "exp= '1pctCO2-rad'\n",
    "E = conc_driven_experiment_results['Emissions']['1pctCO2'].droplevel(axis=1,level=1).reindex(member_index,axis=1) - conc_driven_experiment_bgc_results['Emissions']['1pctCO2-bgc'].droplevel(axis=1,level=1).reindex(member_index,axis=1)\n",
    "E.loc[-1] = 0\n",
    "C = pd.DataFrame(data=np.array([conc_driven_experiment_results['C']['1pctCO2']['carbon_dioxide'].values]*member_index.size).T,index=np.arange(400),columns=member_index)\n",
    "C.loc[-1] = 284\n",
    "RF = conc_driven_experiment_results['RF']['1pctCO2'].xs('Total',axis=1,level=1).reindex(member_index,axis=1)\n",
    "RF.loc[-1] = 0\n",
    "T = conc_driven_experiment_results['T']['1pctCO2'].reindex(member_index,axis=1)\n",
    "T.loc[-1] = 0\n",
    "pd.concat([E,C,RF,T],axis=1,keys=['E','C','RF','T']).sort_index().to_hdf(r'../../../FaIR_projection_interactive/idealised_experiments/'+exp+'.h5', key='stage', mode='w')"
   ]
  },
  {
   "cell_type": "code",
   "execution_count": 21,
   "metadata": {},
   "outputs": [],
   "source": [
    "for exp in emms_driven_experiment_results['Emissions'].columns.levels[0]:\n",
    "\n",
    "    E = pd.DataFrame(data=np.array([emms_driven_experiment_results['Emissions'][exp]['carbon_dioxide'].values]*member_index.size).T,index=np.arange(400),columns=member_index)\n",
    "    E.loc[-1] = 0\n",
    "    C = emms_driven_experiment_results['C'][exp].droplevel(axis=1,level=1).reindex(member_index,axis=1)\n",
    "    C.loc[-1] = 284\n",
    "    RF = emms_driven_experiment_results['RF'][exp].xs('Total',axis=1,level=1).reindex(member_index,axis=1)\n",
    "    RF.loc[-1] = 0\n",
    "    T = emms_driven_experiment_results['T'][exp].reindex(member_index,axis=1)\n",
    "    T.loc[-1] = 0\n",
    "    \n",
    "    pd.concat([E,C,RF,T],axis=1,keys=['E','C','RF','T']).sort_index().to_hdf(r'../../../FaIR_projection_interactive/idealised_experiments/'+exp+'.h5', key='stage', mode='w')"
   ]
  },
  {
   "cell_type": "code",
   "execution_count": 22,
   "metadata": {},
   "outputs": [],
   "source": [
    "exp = 'esm-1pct-brch-1000PgC'\n",
    "\n",
    "E = emms_driven_brch_1000['Emissions'].droplevel(axis=1,level=1).reindex(member_index,axis=1)\n",
    "C = emms_driven_brch_1000['C'].droplevel(axis=1,level=1).reindex(member_index,axis=1)\n",
    "RF = emms_driven_brch_1000['RF'].xs('Total',axis=1,level=1).reindex(member_index,axis=1)\n",
    "T = emms_driven_brch_1000['T'].copy()\n",
    "T.columns = [x[0] for x in T.columns]\n",
    "E.loc[-1] = 0\n",
    "C.loc[-1] = 284\n",
    "RF.loc[-1] = 0\n",
    "T.loc[-1] = 0\n",
    "\n",
    "pd.concat([E,C,RF,T],axis=1,keys=['E','C','RF','T']).sort_index().to_hdf(r'../../../FaIR_projection_interactive/idealised_experiments/'+exp+'.h5', key='stage', mode='w')\n",
    "\n",
    "exp = 'esm-1pct-brch-2000PgC'\n",
    "\n",
    "E = emms_driven_brch_2000['Emissions'].droplevel(axis=1,level=1).reindex(member_index,axis=1)\n",
    "C = emms_driven_brch_2000['C'].droplevel(axis=1,level=1).reindex(member_index,axis=1)\n",
    "RF = emms_driven_brch_2000['RF'].xs('Total',axis=1,level=1).reindex(member_index,axis=1)\n",
    "T = emms_driven_brch_2000['T'].copy()\n",
    "T.columns = [x[0] for x in T.columns]\n",
    "E.loc[-1] = 0\n",
    "C.loc[-1] = 284\n",
    "RF.loc[-1] = 0\n",
    "T.loc[-1] = 0\n",
    "\n",
    "pd.concat([E,C,RF,T],axis=1,keys=['E','C','RF','T']).sort_index().to_hdf(r'../../../FaIR_projection_interactive/idealised_experiments/'+exp+'.h5', key='stage', mode='w')\n",
    "\n",
    "exp = 'esm-1pct-brch-750PgC'\n",
    "\n",
    "E = emms_driven_brch_750['Emissions'].droplevel(axis=1,level=1).reindex(member_index,axis=1)\n",
    "C = emms_driven_brch_750['C'].droplevel(axis=1,level=1).reindex(member_index,axis=1)\n",
    "RF = emms_driven_brch_750['RF'].xs('Total',axis=1,level=1).reindex(member_index,axis=1)\n",
    "T = emms_driven_brch_750['T'].copy()\n",
    "T.columns = [x[0] for x in T.columns]\n",
    "E.loc[-1] = 0\n",
    "C.loc[-1] = 284\n",
    "RF.loc[-1] = 0\n",
    "T.loc[-1] = 0\n",
    "\n",
    "pd.concat([E,C,RF,T],axis=1,keys=['E','C','RF','T']).sort_index().to_hdf(r'../../../FaIR_projection_interactive/idealised_experiments/'+exp+'.h5', key='stage', mode='w')"
   ]
  },
  {
   "cell_type": "markdown",
   "metadata": {},
   "source": [
    "### reindexing on emissions / concentrations"
   ]
  },
  {
   "cell_type": "code",
   "execution_count": 37,
   "metadata": {},
   "outputs": [],
   "source": [
    "def reindex_on_emms(fname):\n",
    "\n",
    "    dataset = pd.read_hdf(fname)\n",
    "    index_var='E'\n",
    "    \n",
    "#     if not monotonic, don't index\n",
    "    if (dataset.loc[:,index_var].mean(axis=1)<0).sum() > 0:\n",
    "        return None\n",
    "\n",
    "    index = np.linspace(dataset[index_var].cumsum().min().quantile(0.1),dataset[index_var].cumsum().max().quantile(0.9),400)\n",
    "\n",
    "    members = dataset.columns.levels[1]\n",
    "\n",
    "    reindexed_list = []\n",
    "    \n",
    "    all_vars = ['C','RF','T','E']\n",
    "    all_vars.remove(index_var)\n",
    "\n",
    "    for var in all_vars:\n",
    "\n",
    "        reindex_on_emms = pd.DataFrame(columns=members,index=index)\n",
    "\n",
    "        for mem in members:\n",
    "            reindex_on_emms.loc[:,mem] = sp.interpolate.interp1d(dataset.loc[:,(index_var,mem)].cumsum(),dataset.loc[:,(var,mem)],kind='linear',bounds_error=False,fill_value=np.nan)(index)\n",
    "\n",
    "        reindexed_list += [reindex_on_emms]\n",
    "\n",
    "    reindexed_list += [pd.DataFrame(data = np.array([index]*members.size).T,columns=members,index=index)]\n",
    "\n",
    "    reindexed_dataset = pd.concat(reindexed_list,axis=1,keys=all_vars+[index_var]).astype(float)\n",
    "    \n",
    "    reindexed_dataset.to_hdf(fname[:-3]+'_reindex-'+index_var+'.h5', key='stage', mode='w')\n",
    "\n",
    "def reindex_on_var(fname,index_var):\n",
    "\n",
    "    dataset = pd.read_hdf(fname)\n",
    "    \n",
    "    # if not monotonic, don't reindex\n",
    "    if (dataset.loc[:,index_var].diff().mean(axis=1)<0).sum() > 0:\n",
    "        return None\n",
    "\n",
    "    index = np.linspace(np.floor(dataset[index_var].min().quantile(0.1)),dataset[index_var].max().quantile(0.9),400)\n",
    "\n",
    "    members = dataset.columns.levels[1]\n",
    "\n",
    "    reindexed_list = []\n",
    "    \n",
    "    all_vars = ['C','RF','T','E']\n",
    "    all_vars.remove(index_var)\n",
    "\n",
    "    for var in all_vars:\n",
    "\n",
    "        reindex_on_emms = pd.DataFrame(columns=members,index=index)\n",
    "\n",
    "        for mem in members:\n",
    "            reindex_on_emms.loc[:,mem] = sp.interpolate.interp1d(dataset.loc[:,(index_var,mem)],dataset.loc[:,(var,mem)],kind='linear',bounds_error=False,fill_value=np.nan)(index)\n",
    "\n",
    "        reindexed_list += [reindex_on_emms]\n",
    "\n",
    "    reindexed_list += [pd.DataFrame(data = np.array([index]*members.size).T,columns=members,index=index)]\n",
    "\n",
    "    reindexed_dataset = pd.concat(reindexed_list,axis=1,keys=all_vars+[index_var]).astype(float)\n",
    "    \n",
    "    reindexed_dataset.to_hdf(fname[:-3]+'_reindex-'+index_var+'.h5', key='stage', mode='w')"
   ]
  },
  {
   "cell_type": "code",
   "execution_count": 38,
   "metadata": {},
   "outputs": [],
   "source": [
    "experiment_fnames = [x for x in glob.glob('../../../FaIR_projection_interactive/idealised_experiments/*') if not 'reindex' in x]"
   ]
  },
  {
   "cell_type": "code",
   "execution_count": 39,
   "metadata": {},
   "outputs": [],
   "source": [
    "def reindex_all_exp(exp_fname):\n",
    "    print('reindexing '+exp_fname)\n",
    "    reindex_on_emms(exp_fname)\n",
    "    reindex_on_var(exp_fname,'C')\n",
    "    reindex_on_var(exp_fname,'RF')"
   ]
  },
  {
   "cell_type": "code",
   "execution_count": 40,
   "metadata": {},
   "outputs": [
    {
     "name": "stdout",
     "output_type": "stream",
     "text": [
      "reindexing ../../../FaIR_projection_interactive/idealised_experiments/esm-bell-1000PgC.h5reindexing ../../../FaIR_projection_interactive/idealised_experiments/1pctCO2-4xext.h5reindexing ../../../FaIR_projection_interactive/idealised_experiments/abrupt-0p5xCO2.h5reindexing ../../../FaIR_projection_interactive/idealised_experiments/esm-bell-750PgC.h5\n",
      "\n",
      "\n",
      "\n",
      "reindexing ../../../FaIR_projection_interactive/idealised_experiments/1pctCO2-bgc.h5\n",
      "reindexing ../../../FaIR_projection_interactive/idealised_experiments/esm-bell-2000PgC.h5\n",
      "reindexing ../../../FaIR_projection_interactive/idealised_experiments/abrupt-4xCO2.h5\n",
      "reindexing ../../../FaIR_projection_interactive/idealised_experiments/esm-pi-CO2-pulse.h5\n",
      "reindexing ../../../FaIR_projection_interactive/idealised_experiments/esm-1pct-brch-2000PgC.h5\n",
      "reindexing ../../../FaIR_projection_interactive/idealised_experiments/esm-1pct-brch-750PgC.h5\n",
      "reindexing ../../../FaIR_projection_interactive/idealised_experiments/abrupt-2xCO2.h5\n",
      "reindexing ../../../FaIR_projection_interactive/idealised_experiments/1pctCO2-rad.h5\n",
      "reindexing ../../../FaIR_projection_interactive/idealised_experiments/esm-pi-cdr-pulse.h5\n",
      "reindexing ../../../FaIR_projection_interactive/idealised_experiments/1pctCO2.h5\n",
      "reindexing ../../../FaIR_projection_interactive/idealised_experiments/esm-1pct-brch-1000PgC.h5\n",
      "reindexing ../../../FaIR_projection_interactive/idealised_experiments/1pctCO2-cdr.h5\n"
     ]
    }
   ],
   "source": [
    "import multiprocessing\n",
    "P1=multiprocessing.Pool(processes=4)\n",
    "P1.map(reindex_all_exp,experiment_fnames)\n",
    "P1.close()"
   ]
  },
  {
   "cell_type": "code",
   "execution_count": null,
   "metadata": {},
   "outputs": [],
   "source": []
  }
 ],
 "metadata": {
  "kernelspec": {
   "display_name": "Python 3",
   "language": "python",
   "name": "python3"
  },
  "language_info": {
   "codemirror_mode": {
    "name": "ipython",
    "version": 3
   },
   "file_extension": ".py",
   "mimetype": "text/x-python",
   "name": "python",
   "nbconvert_exporter": "python",
   "pygments_lexer": "ipython3",
   "version": "3.7.8"
  }
 },
 "nbformat": 4,
 "nbformat_minor": 4
}
