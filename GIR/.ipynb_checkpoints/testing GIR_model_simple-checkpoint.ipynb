{
 "cells": [
  {
   "cell_type": "code",
   "execution_count": 2,
   "metadata": {},
   "outputs": [],
   "source": [
    "import numpy as np\n",
    "import pandas as pd\n",
    "from matplotlib import pyplot as plt\n",
    "\n",
    "from GIR_model_simple import *"
   ]
  },
  {
   "cell_type": "code",
   "execution_count": 3,
   "metadata": {},
   "outputs": [
    {
     "name": "stdout",
     "output_type": "stream",
     "text": [
      "GIR run over  1  scenario,  1  gas parameter sets,  1  thermal parameter sets,  3  gases, and  736  years...\n",
      "GIR run over  1  scenario,  1  gas parameter sets,  1  thermal parameter sets,  3  gases, and  736  years...\n"
     ]
    }
   ],
   "source": [
    "a = np.array([[[[[0.2173,0.2240,0.2824,0.2763],[1.0,0.0,0.0,0.0],[1.0,0.0,0.0,0.0]]]]])\n",
    "tau = np.array([[[[[1000000,394.4,36.54,4.304],[9.15,1.0,1.0,1.0],[116.0,1.0,1.0,1.0]]]]])\n",
    "r = np.array([[[[[28.627296,0.019773,4.334433,0.0],[9.078874,0.0,-0.287247,0.000343],[67.843356,0.0,0.0,-0.000999]]]]])\n",
    "PI_conc = np.array([[[[278.0,733.822081,271.258492]]]])\n",
    "emis2conc = np.array([[[[0.468952,0.351714,0.200980]]]])\n",
    "f = np.array([[[[[5.754389,0.001215,-0.069598],[0.061736,-0.000049,0.038416],[-0.054407,0.000157,0.106208]]]]])\n",
    "\n",
    "d = np.array([[[[283.0,9.88,0.85]]]])\n",
    "q = np.array([[[[0.311333,0.165417,0.242]]]])\n",
    "\n",
    "dim_scens = 1\n",
    "dim_thermal_param_sets = 1\n",
    "dim_gas_param_sets = 1\n",
    "dim_gases = 3\n",
    "n_year = 2501-1765\n",
    "\n",
    "\n",
    "emissions = np.zeros((dim_scens,dim_gas_param_sets,dim_thermal_param_sets,dim_gases,n_year))\n",
    "emissions[0,0,0,0,:] = np.arange(0,10,10/n_year)\n",
    "emissions[0,0,0,1,:] = np.arange(0,10,10/n_year)\n",
    "emissions[0,0,0,1,200:] = 0.0\n",
    "emissions[0,0,0,2,:] = np.arange(0,5,5/n_year)\n",
    "\n",
    "E_out, C_out, RF_out, T_out, alpha_out = GIR_model(emissions=emissions, a=a, tau=tau, r=r, PI_conc=PI_conc, emis2conc=emis2conc, f=f, d=d, q=q, dim_scens=dim_scens, dim_gas_param_sets=dim_gas_param_sets, dim_thermal_param_sets=dim_thermal_param_sets, dim_gases=dim_gases)\n",
    "\n",
    "\n",
    "concs = np.zeros((dim_scens,dim_gas_param_sets,dim_thermal_param_sets,dim_gases,n_year))\n",
    "concs[0,0,0,0,:] = np.arange(278.0,450.0,(450.0-278.0)/n_year)\n",
    "concs[0,0,0,1,:] = np.arange(733.0,1000.0,(1000.0-733.0)/n_year)\n",
    "concs[0,0,0,2,:] = np.arange(271.2,350.0,(350.0-271.2)/n_year)\n",
    "\n",
    "E_out, C_out, RF_out, T_out, alpha_out = GIR_model(concentrations=concs, a=a, tau=tau, r=r, PI_conc=PI_conc, emis2conc=emis2conc, f=f, d=d, q=q, dim_scens=dim_scens, dim_gas_param_sets=dim_gas_param_sets, dim_thermal_param_sets=dim_thermal_param_sets, dim_gases=dim_gases)\n"
   ]
  },
  {
   "cell_type": "code",
   "execution_count": 4,
   "metadata": {},
   "outputs": [
    {
     "name": "stdout",
     "output_type": "stream",
     "text": [
      "Parameters outputted in form [num_scens, num_gas_params, num_thermal_params, num_gases]...\n",
      "input_array outputted in form [num_scens, num_gas_params, num_thermal_params, num_gases, num_years]...\n",
      "GIR run over  1  scenario,  1  gas parameter sets,  1  thermal parameter sets,  3  gases, and  736  years...\n"
     ]
    }
   ],
   "source": [
    "a = np.array([[0.2173,0.2240,0.2824,0.2763],[1.0,0.0,0.0,0.0],[1.0,0.0,0.0,0.0]])\n",
    "tau = np.array([[1000000,394.4,36.54,4.304],[9.15,1.0,1.0,1.0],[116.0,1.0,1.0,1.0]])\n",
    "r = np.array([[28.627296,0.019773,4.334433,0.0],[9.078874,0.0,-0.287247,0.000343],[67.843356,0.0,0.0,-0.000999]])\n",
    "PI_conc = np.array([278.0,733.822081,271.258492])\n",
    "emis2conc = np.array([0.468952,0.351714,0.200980])\n",
    "f = np.array([[5.754389,0.001215,-0.069598],[0.061736,-0.000049,0.038416],[-0.054407,0.000157,0.106208]])\n",
    "\n",
    "d = np.array([283.0,9.88,0.85])\n",
    "q = np.array([0.311333,0.165417,0.242])\n",
    "\n",
    "dim_scens = 1\n",
    "dim_thermal_param_sets = 1\n",
    "dim_gas_param_sets = 1\n",
    "dim_gases = 3\n",
    "n_year = 2501-1765\n",
    "\n",
    "a, tau, r, PI_conc, emis2conc, f, d, q = make_param_dimensions(a, tau, r, PI_conc, emis2conc, f, d, q, dim_scens, dim_gas_param_sets, dim_thermal_param_sets, dim_gases)\n",
    "\n",
    "emissions = np.zeros((dim_gases,n_year))\n",
    "emissions[0,:] = np.arange(0,10,10/n_year)\n",
    "emissions[1,:] = np.arange(0,10,10/n_year)\n",
    "emissions[1,200:] = 0.0\n",
    "emissions[2,:] = np.arange(0,5,5/n_year)\n",
    "\n",
    "emissions = make_input_dimensions(emissions, dim_scens, dim_gas_param_sets, dim_thermal_param_sets, dim_gases, n_year)\n",
    "\n",
    "E_out, C_out, RF_out, T_out, alpha_out = GIR_model(emissions=emissions, a=a, tau=tau, r=r, PI_conc=PI_conc, emis2conc=emis2conc, f=f, d=d, q=q, dim_scens=dim_scens, dim_gas_param_sets=dim_gas_param_sets, dim_thermal_param_sets=dim_thermal_param_sets, dim_gases=dim_gases)\n"
   ]
  },
  {
   "cell_type": "code",
   "execution_count": null,
   "metadata": {},
   "outputs": [],
   "source": []
  }
 ],
 "metadata": {
  "kernelspec": {
   "display_name": "Python (python37)",
   "language": "python",
   "name": "python37"
  },
  "language_info": {
   "codemirror_mode": {
    "name": "ipython",
    "version": 3
   },
   "file_extension": ".py",
   "mimetype": "text/x-python",
   "name": "python",
   "nbconvert_exporter": "python",
   "pygments_lexer": "ipython3",
   "version": "3.7.3"
  }
 },
 "nbformat": 4,
 "nbformat_minor": 2
}
