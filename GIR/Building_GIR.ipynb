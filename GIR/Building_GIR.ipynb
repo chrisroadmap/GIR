{
 "cells": [
  {
   "cell_type": "code",
   "execution_count": 1,
   "metadata": {},
   "outputs": [],
   "source": [
    "## Get dependencies ##\n",
    "\n",
    "import numpy as np\n",
    "import string\n",
    "import math\n",
    "import sys\n",
    "import pandas as pd\n",
    "import matplotlib.pyplot as plt\n",
    "import matplotlib\n",
    "import seaborn as sn\n",
    "from GIR import *\n",
    "import scipy as sp\n",
    "import pickle\n",
    "import time\n",
    "import scipy as sp\n",
    "from scipy import ndimage\n",
    "from scipy import signal\n",
    "import os\n",
    "import netCDF4\n",
    "from difflib import SequenceMatcher\n",
    "import statsmodels.api as sm\n",
    "from mpl_toolkits.axes_grid1.inset_locator import inset_axes\n",
    "import glob\n",
    "\n",
    "def similar(a, b):\n",
    "    return SequenceMatcher(None, a, b).ratio()\n",
    "    \n",
    "## Matplotlib rcparams setup:\n",
    "\n",
    "matplotlib.rcParams['font.family']='Helvetica'\n",
    "matplotlib.rcParams['font.size']=11\n",
    "# matplotlib.rcParams['font.weight']=400\n",
    "\n",
    "matplotlib.rcParams['image.cmap']='cmo.ice'\n",
    "\n",
    "matplotlib.rcParams['axes.prop_cycle']=matplotlib.cycler('color',['011936','FF7D00','225560','BFACAA','D72638','788C9B','A33F00','7CAAB0','685655','EB767C'])\n",
    "matplotlib.rcParams['axes.formatter.limits']=-3,3\n",
    "matplotlib.rcParams['axes.labelweight']=300\n",
    "\n",
    "matplotlib.rcParams['legend.frameon']=False\n",
    "\n",
    "matplotlib.rcParams['boxplot.whiskers']=(5,95)\n",
    "matplotlib.rcParams['boxplot.showfliers']=False\n",
    "matplotlib.rcParams['boxplot.showfliers']=False\n",
    "matplotlib.rcParams['boxplot.medianprops.color']='black'\n",
    "\n",
    "matplotlib.rcParams['errorbar.capsize']=5\n",
    "\n",
    "matplotlib.rcParams['hist.bins']='auto'\n",
    "\n",
    "plt.rcParams['pdf.fonttype'] = 42\n",
    "\n",
    "%matplotlib inline"
   ]
  },
  {
   "cell_type": "code",
   "execution_count": 2,
   "metadata": {},
   "outputs": [],
   "source": [
    "def OLSE_NORM(X,Y,add_intercept=True):\n",
    "    \n",
    "    ## computes a multiple OLS regression over a field against several indices. First dimension is time, second is features (X), or targets (Y)\n",
    "    \n",
    "    if add_intercept:\n",
    "    \n",
    "        X_1 = np.concatenate((np.ones(X.shape[0])[:,np.newaxis],X),axis=1)\n",
    "        \n",
    "    else:\n",
    "        \n",
    "        X_1 = X.copy()\n",
    "    \n",
    "    B = np.dot( np.linalg.inv( np.dot( X_1.T , X_1 ) ) , np.dot( X_1.T , Y ) )\n",
    "    \n",
    "    e = Y - np.dot(X_1,B)\n",
    "    \n",
    "    SSE = np.sum(e**2,axis=0)\n",
    "\n",
    "    MSE_var = SSE / (X_1.shape[0] - X_1.shape[-1])\n",
    "\n",
    "    SE_B = np.sqrt( np.diag( np.linalg.inv( np.dot( X_1.T , X_1 ) ) )[:,np.newaxis] * MSE_var[np.newaxis,:] )\n",
    "    \n",
    "    return {'coefs':B[1:],'coef_err':SE_B[1:],'res':e,'intercept':B[0],'intercept_err':SE_B[0]}"
   ]
  },
  {
   "cell_type": "markdown",
   "metadata": {},
   "source": [
    "## Emissions -> concentrations"
   ]
  },
  {
   "cell_type": "markdown",
   "metadata": {},
   "source": [
    "### CO2"
   ]
  },
  {
   "cell_type": "code",
   "execution_count": 3,
   "metadata": {},
   "outputs": [],
   "source": [
    "RCMIP_concs = pd.read_csv('/home/leachl/Documents/Datasets/RCMIP/rcmip/data/protocol/rcmip-concentrations-annual-means-v4-0-0.csv')\n",
    "RCMIP_emms = pd.read_csv('/home/leachl/Documents/Datasets/RCMIP/rcmip/data/protocol/rcmip-emissions-annual-means-v4-0-0.csv')\n",
    "RCMIP_forc = pd.read_csv('/home/leachl/Documents/Datasets/RCMIP/rcmip/data/protocol/rcmip-radiative-forcing-annual-means-v4-0-0.csv')"
   ]
  },
  {
   "cell_type": "code",
   "execution_count": 4,
   "metadata": {},
   "outputs": [
    {
     "data": {
      "text/plain": [
       "array(['ssp370', 'ssp370-lowNTCF-aerchemmip', 'ssp370-lowNTCF-gidden',\n",
       "       'historical', 'ssp434', 'ssp460', 'ssp119', 'ssp126', 'ssp245',\n",
       "       'ssp534-over', 'ssp585', 'esm-bell-1000PgC', 'esm-bell-2000PgC',\n",
       "       'esm-bell-750PgC', 'esm-pi-CO2pulse', 'esm-pi-cdr-pulse',\n",
       "       'esm-piControl'], dtype=object)"
      ]
     },
     "execution_count": 4,
     "metadata": {},
     "output_type": "execute_result"
    }
   ],
   "source": [
    "RCMIP_emms.loc[RCMIP_emms.Mip_Era=='CMIP6'].Scenario.unique()"
   ]
  },
  {
   "cell_type": "code",
   "execution_count": null,
   "metadata": {},
   "outputs": [
    {
     "name": "stderr",
     "output_type": "stream",
     "text": [
      "/home/leachl/miniconda3/lib/python3.7/site-packages/ipykernel_launcher.py:7: FutureWarning: Sorting because non-concatenation axis is not aligned. A future version\n",
      "of pandas will change to not sort by default.\n",
      "\n",
      "To accept the future behavior, pass 'sort=False'.\n",
      "\n",
      "To retain the current behavior and silence the warning, pass 'sort=True'.\n",
      "\n",
      "  import sys\n"
     ]
    }
   ],
   "source": [
    "# pd.read_csv('/home/leachl/Documents/Datasets/RCMIP/rcmip/data/results/phase-1/fair/rcmip_phase-1_fair-1.5-default-1pctCO2-4xext_v1-0-1.csv')\n",
    "\n",
    "cicero_scm = pd.read_csv('/home/leachl/Documents/Datasets/RCMIP/rcmip/data/results/phase-1/cicero-scm/rcmip_phase-1_cicero-scm_v5-0-0.csv')\n",
    "cicero_scm.iloc[:,6:] = cicero_scm.iloc[:,6:].apply(pd.to_numeric)\n",
    "cicero_scm.columns = list(cicero_scm.columns)[:6] + [int(x) for x in list(cicero_scm.columns)[6:]]\n",
    "\n",
    "fair_scm = pd.concat([pd.read_csv(x) for x in glob.glob('/home/leachl/Documents/Datasets/RCMIP/rcmip/data/results/phase-1/fair/*default*v1-0-1*')])\n",
    "fair_scm.columns = [str(x) for x in np.arange(1850,2501)]+list(fair_scm.columns[-6:])\n",
    "fair_scm = fair_scm.loc[:,list(fair_scm.columns[-6:])+[str(x) for x in np.arange(1850,2501)]]\n",
    "fair_scm.iloc[:,6:] = fair_scm.iloc[:,6:].apply(pd.to_numeric)\n",
    "fair_scm.columns = list(fair_scm.columns)[:6] + [int(x) for x in list(fair_scm.columns)[6:]]\n",
    "\n",
    "magicc_scm = pd.read_csv('/home/leachl/Documents/Datasets/RCMIP/rcmip/data/results/phase-1/magicc7/rcmip_phase-1_magicc7.1.0.beta_v1-0-0.csv')\n",
    "magicc_scm.iloc[:,6:] = magicc_scm.iloc[:,6:].apply(pd.to_numeric)\n",
    "magicc_scm.columns = list(magicc_scm.columns)[:6] + [int(x) for x in list(magicc_scm.columns)[6:]]\n",
    "\n",
    "ar5ir_scm = pd.read_csv('/home/leachl/Documents/Datasets/RCMIP/rcmip/data/results/phase-1/ar5ir/ar5ir-phase-1-results-v2-0-0.csv')\n",
    "ar5ir_scm = ar5ir_scm.loc[ar5ir_scm.Climatemodel=='ar5ir2box-ECS-3K']\n",
    "ar5ir_scm.iloc[:,6:] = ar5ir_scm.iloc[:,6:].apply(pd.to_numeric)\n",
    "ar5ir_scm.columns = list(ar5ir_scm.columns)[:6] + [int(x) for x in list(ar5ir_scm.columns)[6:]]\n",
    "\n",
    "hector_scm = pd.read_excel('/home/leachl/Documents/Datasets/RCMIP/rcmip/data/results/phase-1/hector/rcmip_phase-1_hector_v2-0-0.xlsx','your_data')\n",
    "\n",
    "greb_scm = pd.read_excel('/home/leachl/Documents/Datasets/RCMIP/rcmip/data/results/phase-1/greb/rcmip_phase-1_greb_v2-0-0.xlsx','your_data')\n",
    "\n",
    "escimo_scm = pd.read_excel('/home/leachl/Documents/Datasets/RCMIP/rcmip/data/results/phase-1/escimo/escimo-phase-1-v2-0-1.xlsx','your_data')\n",
    "\n",
    "oscar_scm = pd.concat([pd.read_excel(x,'your_data') for x in glob.glob('/home/leachl/Documents/Datasets/RCMIP/rcmip/data/results/phase-1/oscar/*v1-0-1*')])\n",
    "\n",
    "mce_scm = pd.concat([pd.read_excel(x,'your_data') for x in glob.glob('/home/leachl/Documents/Datasets/RCMIP/rcmip/data/results/phase-1/mce/*v3-0-0*')])\n",
    "\n",
    "wasp_scm = pd.concat([pd.read_excel(x,'your_data') for x in glob.glob('/home/leachl/Documents/Datasets/RCMIP/rcmip/data/results/phase-1/wasp/*v1-0-2*')])\n",
    "\n",
    "gir_scm = pd.concat([pd.read_csv(x) for x in glob.glob('/home/leachl/Documents/Datasets/RCMIP/rcmip/data/results/phase-1/gir/*v1-0-0*.csv')])\n",
    "gir_scm.iloc[:,6:] = gir_scm.iloc[:,6:].apply(pd.to_numeric)\n",
    "gir_scm.columns = list(gir_scm.columns)[:6] + [int(x) for x in list(gir_scm.columns)[6:]]"
   ]
  },
  {
   "cell_type": "code",
   "execution_count": null,
   "metadata": {},
   "outputs": [],
   "source": [
    "oscar_scm.Scenario.unique()"
   ]
  },
  {
   "cell_type": "code",
   "execution_count": null,
   "metadata": {},
   "outputs": [],
   "source": [
    "cicero_scm.Variable.unique()"
   ]
  },
  {
   "cell_type": "code",
   "execution_count": null,
   "metadata": {},
   "outputs": [],
   "source": [
    "labels = ['cicero','fair','magicc','ar5ir','hector','greb','escimo','oscar','mce','wasp','gir']\n",
    "scenario = 'esm-ssp370-allGHG'\n",
    "variable = 'Effective Radiative Forcing|Anthropogenic|Albedo Change'\n",
    "fig,ax = plt.subplots()\n",
    "[x.loc[(x.Scenario==scenario)&(x.Variable==variable)].iloc[0,6:].loc[range(1850,2300)].rename(labels[i]).plot(ax=ax,lw=1.2) for i,x in enumerate([cicero_scm,fair_scm,magicc_scm,ar5ir_scm,hector_scm,greb_scm,escimo_scm,oscar_scm,mce_scm,wasp_scm,gir_scm]) if (scenario in x.Scenario.unique()) and (variable in x.Variable.unique())]\n",
    "plt.legend()\n",
    "scenario = 'esm-ssp370-allGHG'\n",
    "variable = 'Atmospheric Concentrations|CO2'\n",
    "fig,ax = plt.subplots()\n",
    "[x.loc[(x.Scenario==scenario)&(x.Variable==variable)].iloc[0,6:].loc[range(1850,2300)].rename(labels[i]).plot(ax=ax,lw=1.2) for i,x in enumerate([cicero_scm,fair_scm,magicc_scm,ar5ir_scm,hector_scm,greb_scm,escimo_scm,oscar_scm,mce_scm,wasp_scm,gir_scm]) if (scenario in x.Scenario.unique()) and (variable in x.Variable.unique())]\n",
    "plt.legend()"
   ]
  },
  {
   "cell_type": "code",
   "execution_count": null,
   "metadata": {},
   "outputs": [],
   "source": [
    "## write up a basic version of GIR for CO2 only to start"
   ]
  },
  {
   "cell_type": "code",
   "execution_count": null,
   "metadata": {},
   "outputs": [],
   "source": [
    "RCP_data = {}\n",
    "RCP_data['RF'] = {}\n",
    "RCP_data['C'] = {}\n",
    "RCP_data['E'] = {}\n",
    "\n",
    "for RCP in ['3PD','45','6','85']:\n",
    "    RCP_data['C'][RCP] = pd.read_csv('/home/leachl/Documents/Datasets/RCP_data/RCP'+RCP+'_MIDYEAR_CONCENTRATIONS.csv',skiprows=37,index_col=0).loc[np.arange(1765,2201)]\n",
    "    RCP_data['RF'][RCP] = pd.read_csv('/home/leachl/Documents/Datasets/RCP_data/RCP'+RCP+'_MIDYEAR_RADFORCING.csv',skiprows=58,index_col=0).loc[np.arange(1765,2201)]\n",
    "    RCP_data['E'][RCP] = pd.read_csv('/home/leachl/Documents/Datasets/RCP_data/RCP'+RCP+'_EMISSIONS.csv',skiprows=36,index_col=0).loc[:2200]\n",
    "    RCP_data['E'][RCP]['CO2'] = RCP_data['E'][RCP][['FossilCO2','OtherCO2']].sum(axis=1)"
   ]
  },
  {
   "cell_type": "code",
   "execution_count": null,
   "metadata": {},
   "outputs": [],
   "source": [
    "## use to calculate q/d values\n",
    "tcr_ecs_to_q(pd.DataFrame(data=np.array([[4.1,239],[1.75,3]]),index=['d','tcr_ecs'],columns=[np.array(['default']*2),np.array([1,2])]))"
   ]
  },
  {
   "cell_type": "code",
   "execution_count": null,
   "metadata": {},
   "outputs": [],
   "source": [
    "param_dict = {'a':np.array([[0.2173,0.224,0.2824,0.2763]]),\n",
    "             'tau':np.array([[1e6,394.4,36.54,4.304]]),\n",
    "             'r':np.array([[28.627,0.019773,4.334433,0]]),\n",
    "             'emis2conc':0.468952,\n",
    "             'PI_conc':278,\n",
    "             'f':np.array([5.7544,0.001215,-0.069598]),\n",
    "             'd':np.array([[4.1,239]]),\n",
    "             'q':np.array([[0.435,0.346]])}\n",
    "\n",
    "def calculate_alpha_1(G,G_A,T,r,g0,g1,iirf100_max = 97.0):\n",
    "\n",
    "\talpha_val = r[...,0] * (1+G-G_A) ** r[...,1] * (1+T) ** r[...,2] * G_A ** r[...,3]\n",
    "\n",
    "\treturn alpha_val\n",
    "\n",
    "def GIR_bones(emissions,other_rf,param_dict,alpha_calc=calculate_alpha):\n",
    "    \n",
    "    a = param_dict['a']\n",
    "    tau = param_dict['tau']\n",
    "    r = param_dict['r']\n",
    "    emis2conc = param_dict['emis2conc']\n",
    "    PI_conc = param_dict['PI_conc']\n",
    "    f = param_dict['f']\n",
    "    d = param_dict['d']\n",
    "    q = param_dict['q']\n",
    "    \n",
    "    g1 = np.sum( a * tau * ( 1. - ( 1. + 100/tau ) * np.exp(-100/tau) ), axis=-1 )\n",
    "    g0 = ( np.sinh( np.sum( a * tau * ( 1. - np.exp(-100/tau) ) , axis=-1) / g1 ) )**(-1.)\n",
    "    \n",
    "    C = np.empty(emissions.size)\n",
    "    RF = np.empty(emissions.size)\n",
    "    T = np.empty(emissions.size)\n",
    "    alpha = np.empty(emissions.size)\n",
    "    G = np.cumsum(emissions)\n",
    "    \n",
    "    alpha[0] = alpha_calc(0,0,0,r,g0,g1)\n",
    "    C[0],R,G_A = step_concentration(R_old = np.zeros(a.shape),alpha=alpha[0],E=emissions[0],a=a,tau=tau,PI_conc=PI_conc,emis2conc=np.array([emis2conc]))\n",
    "    RF[0] = step_forcing(C=C[0],PI_conc=PI_conc,f=f)\n",
    "    S,T[0] = step_temperature(S_old=np.zeros(d.shape),F=RF[0]+other_rf[0],q=q,d=d)\n",
    "    \n",
    "    for t in np.arange(1,emissions.size):\n",
    "        alpha[t] = alpha_calc(G=G[t-1],G_A=G_A,T=np.sum(S),r=r,g0=g0,g1=g1)\n",
    "        C[t],R,G_A = step_concentration(R_old = R,alpha=alpha[t],E=emissions[t],a=a,tau=tau,PI_conc=PI_conc,emis2conc=np.array([emis2conc]))\n",
    "        RF[t] = step_forcing(C=C[t],PI_conc=PI_conc,f=f)\n",
    "        S,T[t] = step_temperature(S_old=S,F=RF[t]+other_rf[t],q=q,d=d)\n",
    "        \n",
    "    return pd.DataFrame(dict(zip(['alpha','C','RF','T'],[alpha,C,RF,T])))"
   ]
  },
  {
   "cell_type": "markdown",
   "metadata": {},
   "source": [
    "## Separating RF components"
   ]
  },
  {
   "cell_type": "code",
   "execution_count": null,
   "metadata": {},
   "outputs": [],
   "source": [
    "emissions_in = False\n",
    "concentrations_in = False\n",
    "forcing_in = False\n",
    "gas_parameters = get_gas_parameter_defaults()\n",
    "thermal_parameters = get_thermal_parameter_defaults()\n",
    "show_run_info = True\n",
    "\n",
    "# concentrations_in = return_empty_emissions(scen_names=['default'])\n",
    "# concentrations_in.loc[:] = np.array(list(gas_parameters.loc['PI_conc']))\n",
    "# concentrations_in.loc[1800]+=100\n",
    "\n",
    "emissions_in = return_empty_emissions(scen_names=['ems_a','ems_b'])\n",
    "emissions_in.loc[1800,'ems_a'] = 100\n",
    "emissions_in.loc[1765:1900,'ems_b'] = 1\n",
    "\n",
    "gas_parameters = get_gas_parameter_defaults()#['default']\n",
    "gas_parameters.loc[['f1','f2','f3'],('default','CH4|Trop_Ozone')] = [0,0.000182,0]\n",
    "# gas_parameters = pd.concat([gas_parameters]*2,axis=1,keys=['gas_a','gas_b'])\n",
    "# # gas_parameters.loc[['f1','f2','f3'],('gas_a','CH4|Trop_Ozone')] = [0,0.000182,0]\n",
    "# gas_parameters.loc[['f1','f2','f3'],('gas_b','CH4|Trop_Ozone')] = [0,0,0]\n",
    "\n",
    "thermal_parameters = tcr_ecs_to_q(pd.DataFrame(data=np.array([[4.1,239],[1.75,3]]),index=['d','tcr_ecs'],columns=[np.array(['default']*2),np.array([1,2])]))\n",
    "\n",
    "## GIR code:\n",
    "\n",
    "# Determine the number of scenario runs , parameter sets , gases , integration period, timesteps\n",
    "\n",
    "# There are 2 modes : emissions_driven , concentration_driven\n",
    "\n",
    "# The model will assume if both are given then emissions take priority\n",
    "\n",
    "if emissions_in is False: # check if concentration driven\n",
    "    concentration_driven = True\n",
    "    emissions_in = return_empty_emissions(concentrations_in,gases_in=concentrations_in.columns.levels[1])\n",
    "    time_index = concentrations_in.index\n",
    "else: # otherwise emissions driven\n",
    "    concentration_driven=False\n",
    "    time_index = emissions_in.index\n",
    "\n",
    "[(dim_scenario,scen_names),(dim_gas_param,gas_set_names),(dim_thermal_param,thermal_set_names)]=[(x.size,list(x)) for x in [emissions_in.columns.levels[0],gas_parameters.columns.levels[0],thermal_parameters.columns.levels[0]]]\n",
    "gas_names = [x for x in gas_parameters.columns.levels[1] if '|' not in x]\n",
    "n_gas = len(gas_names)\n",
    "n_forc,forc_names = gas_parameters.columns.levels[1].size,list(gas_parameters.columns.levels[1])\n",
    "n_year = time_index.size\n",
    "\n",
    "## map the concentrations onto the forcings \n",
    "gas_forc_map = [gas_names.index(forc_names[x].split('|')[0]) for x in np.arange(len(forc_names))]\n",
    "\n",
    "names_list = [scen_names,gas_set_names,thermal_set_names,gas_names]\n",
    "names_titles = ['Scenario','Gas cycle set','Thermal set','Gas name']\n",
    "forc_names_list = [scen_names,gas_set_names,thermal_set_names,forc_names]\n",
    "forc_names_titles = ['Scenario','Gas cycle set','Thermal set','Forcing component']\n",
    "\n",
    "timestep = np.append(np.diff(time_index),np.diff(time_index)[-1])\n",
    "\n",
    "emissions = emissions_in.loc[:,(scen_names,gas_names)].values.T.reshape(dim_scenario,1,1,n_gas,n_year)\n",
    "\n",
    "# check if no dimensions are degenerate\n",
    "if (set(scen_names) != set(gas_set_names))&(set(scen_names) != set(thermal_set_names))&(set(gas_set_names) != set(thermal_set_names)):\n",
    "    gas_shape, gas_slice = [1,dim_gas_param,1],gas_set_names\n",
    "    therm_shape, therm_slice = [1,1,dim_thermal_param],thermal_set_names\n",
    "# check if all degenerate\n",
    "elif (set(scen_names) == set(gas_set_names))&(set(scen_names) == set(thermal_set_names)):\n",
    "    gas_shape, gas_slice = [dim_scenario,1,1],scen_names\n",
    "    therm_shape, therm_slice = [dim_scenario,1,1],scen_names\n",
    "    dim_gas_param = 1\n",
    "    dim_thermal_param = 1\n",
    "    [x.pop(1) for x in [names_list,names_titles,forc_names_list,forc_names_titles]]\n",
    "    [x.pop(1) for x in [names_list,names_titles,forc_names_list,forc_names_titles]]\n",
    "# check other possibilities\n",
    "else:\n",
    "    if set(scen_names) == set(gas_set_names):\n",
    "        gas_shape, gas_slice = [dim_scenario,1,1],scen_names\n",
    "        therm_shape, therm_slice = [1,1,dim_thermal_param],thermal_set_names\n",
    "        dim_gas_param = 1\n",
    "        [x.pop(1) for x in [names_list,names_titles,forc_names_list,forc_names_titles]]\n",
    "    elif set(scen_names) == set(thermal_set_names):\n",
    "        gas_shape, gas_slice = [1,dim_gas_param,1],gas_set_names\n",
    "        therm_shape, therm_slice = [dim_scenario,1,1],scen_names\n",
    "        dim_thermal_param = 1\n",
    "        [x.pop(2) for x in [names_list,names_titles,forc_names_list,forc_names_titles]]\n",
    "    else:\n",
    "        gas_shape, gas_slice = [1,dim_gas_param,1],gas_set_names\n",
    "        therm_shape, therm_slice = [1,dim_gas_param,1],gas_set_names\n",
    "        dim_thermal_param = 1\n",
    "        [x.pop(2) for x in [names_list,names_titles,forc_names_list,forc_names_titles]]    \n",
    "\n",
    "a,tau,r,PI_conc,emis2conc=[gas_parameters.loc[x,(gas_slice,gas_names)].values.T.reshape(gas_shape+[n_gas,-1]) for x in [['a1','a2','a3','a4'],['tau1','tau2','tau3','tau4'],['r0','rC','rT','rA'],'PI_conc','emis2conc']]\n",
    "f = gas_parameters.loc['f1':'f3',(gas_slice,forc_names)].values.T.reshape(gas_shape+[n_forc,-1])\n",
    "d,q = [thermal_parameters.loc[[x],(therm_slice,slice(None))].values.T.reshape(therm_shape+[-1]) for x in ['d','q']]\n",
    "\n",
    "if show_run_info:\n",
    "    print('Integrating ' + str(dim_scenario) + ' scenarios, ' + str(dim_gas_param) + ' gas cycle parameter sets, ' + str(dim_thermal_param) + ' independent thermal response parameter sets, over ' + str(list(emissions_in.columns.levels[1])) + ', between ' + str(time_index[0]) + ' and ' + str(time_index[-1]) + '...')\n",
    "\n",
    "if forcing_in is False:\n",
    "    ext_forcing = np.zeros((dim_scenario,1,1,1,n_year))\n",
    "else:\n",
    "    forcing_in = forcing_in.reindex(scen_names,axis=1,level=0)\n",
    "    ext_forcing = forcing_in.loc[:,(scen_names,slice(None))].values.T.reshape(dim_scenario,1,1,1,n_year)\n",
    "\n",
    "# Dimensions : [scenario, gas params, thermal params, gas, time, (gas/thermal pools)]\n",
    "\n",
    "g1 = np.sum( a * tau * ( 1. - ( 1. + 100/tau ) * np.exp(-100/tau) ), axis=-1 )\n",
    "g0 = ( np.sinh( np.sum( a * tau * ( 1. - np.exp(-100/tau) ) , axis=-1) / g1 ) )**(-1.)\n",
    "\n",
    "# Create appropriate shape variable arrays / calculate RF if concentration driven\n",
    "\n",
    "C = np.zeros((dim_scenario,dim_gas_param,dim_thermal_param,n_gas,n_year))\n",
    "RF = np.zeros((dim_scenario,dim_gas_param,dim_thermal_param,n_forc,n_year))\n",
    "T = np.zeros((dim_scenario,dim_gas_param,dim_thermal_param,n_year))\n",
    "alpha = np.zeros((dim_scenario,dim_gas_param,dim_thermal_param,n_gas,n_year))\n",
    "alpha[...,0] = calculate_alpha(G=np.zeros(C[...,0].shape),G_A=np.zeros(C[...,0].shape),T=np.zeros(C[...,0].shape),r=r,g0=g0,g1=g1)\n",
    "\n",
    "if concentration_driven:\n",
    "\n",
    "    diagnosed_emissions = np.zeros((dim_scenario,dim_gas_param,dim_thermal_param,n_gas,n_year))\n",
    "    C[:] = input_to_numpy(concentrations_in.reindex(scen_names,axis=1,level=0).reindex(gas_names,axis=1,level=1))[:,np.newaxis,np.newaxis,...]\n",
    "    C_end = np.zeros(C.shape)\n",
    "    RF[:] = step_forcing(C[...,gas_forc_map,:],PI_conc[...,gas_forc_map,:],f[...,np.newaxis,:])\n",
    "    C_end[...,0] = C[...,0]*2 - PI_conc[...,0]\n",
    "    diagnosed_emissions[...,0],R,G_A = unstep_concentration(R_old=np.zeros(a.shape),C=C_end[...,0],alpha=alpha[...,0,np.newaxis],a=a,tau=tau,PI_conc=PI_conc[...,0],emis2conc=emis2conc[...,0],dt=timestep[0])\n",
    "    S,T[...,0] = step_temperature(S_old=np.zeros(d.shape),F=np.sum(RF[...,0],axis=-1)[...,np.newaxis]+ext_forcing[...,0],q=q,d=d,dt=timestep[0])\n",
    "    for t in np.arange(1,n_year):\n",
    "        G = np.sum(diagnosed_emissions,axis=-1)\n",
    "        alpha[...,t] = calculate_alpha(G=G,G_A=G_A,T=np.sum(S,axis=-1)[...,np.newaxis],r=r,g0=g0,g1=g1)\n",
    "        C_end[...,t] = C[...,t]*2 - C_end[...,t-1]\n",
    "        diagnosed_emissions[...,t],R,G_A = unstep_concentration(R_old=R,C=C_end[...,t],alpha=alpha[...,t,np.newaxis],a=a,tau=tau,PI_conc=PI_conc[...,0],emis2conc=emis2conc[...,0],dt=timestep[t])\n",
    "        S,T[...,t] = step_temperature(S_old=S,F=np.sum(RF[...,t],axis=-1)[...,np.newaxis]+ext_forcing[...,t],q=q,d=d,dt=timestep[t])\n",
    "\n",
    "    C_out = concentrations_in\n",
    "    E_out = pd.DataFrame(np.moveaxis(diagnosed_emissions,-1,0).reshape(diagnosed_emissions.shape[-1],-1),index = time_index,columns=pd.MultiIndex.from_product(names_list,names=names_titles))\n",
    "\n",
    "if not concentration_driven:\n",
    "    G = np.cumsum(emissions,axis=-1)\n",
    "    C[...,0],R,G_A = step_concentration(R_old = np.zeros(a.shape),alpha=alpha[...,0,np.newaxis],E=emissions[...,0,np.newaxis],a=a,tau=tau,PI_conc=PI_conc[...,0],emis2conc=emis2conc[...,0],dt=timestep[0])\n",
    "    RF[...,0] = step_forcing(C=C[...,gas_forc_map,0],PI_conc=PI_conc[...,gas_forc_map,0],f=f)\n",
    "    S,T[...,0] = step_temperature(S_old=np.zeros(d.shape),F=np.sum(RF[...,0],axis=-1)[...,np.newaxis]+ext_forcing[...,0],q=q,d=d,dt=timestep[0])\n",
    "\n",
    "    for t in np.arange(1,n_year):\n",
    "        alpha[...,t] = calculate_alpha(G=G[...,t-1],G_A=G_A,T=np.sum(S,axis=-1)[...,np.newaxis],r=r,g0=g0,g1=g1)\n",
    "        C[...,t],R,G_A = step_concentration(R_old = R,alpha=alpha[...,t,np.newaxis],E=emissions[...,t,np.newaxis],a=a,tau=tau,PI_conc=PI_conc[...,0],emis2conc=emis2conc[...,0],dt=timestep[t])\n",
    "        RF[...,t] = step_forcing(C=C[...,gas_forc_map,t],PI_conc=PI_conc[...,gas_forc_map,0],f=f)\n",
    "        S,T[...,t] = step_temperature(S_old=S,F=np.sum(RF[...,t],axis=-1)[...,np.newaxis]+ext_forcing[...,t],q=q,d=d,dt=timestep[t])\n",
    "\n",
    "    C_out = pd.DataFrame(np.moveaxis(C,-1,0).reshape(C.shape[-1],-1),index = time_index,columns=pd.MultiIndex.from_product(names_list,names=names_titles))\n",
    "    E_out = emissions_in\n",
    "\n",
    "ext_forcing = np.zeros(np.sum(RF,axis=-2)[...,np.newaxis,:].shape) + ext_forcing\n",
    "RF = np.concatenate((RF,ext_forcing),axis=-2)\n",
    "RF = np.concatenate((RF,np.sum(RF,axis=-2)[...,np.newaxis,:]),axis=-2)\n",
    "\n",
    "alpha_out = pd.DataFrame(np.moveaxis(alpha,-1,0).reshape(alpha.shape[-1],-1),index = time_index,columns=pd.MultiIndex.from_product(names_list,names=names_titles))\n",
    "RF_out = pd.DataFrame(np.moveaxis(RF,-1,0).reshape(RF.shape[-1],-1),index = time_index,columns=pd.MultiIndex.from_product([x+['External','Total']*(x==forc_names_list[-1]) for x in forc_names_list],names=forc_names_titles))\n",
    "T_out = pd.DataFrame(np.moveaxis(T,-1,0).reshape(T.shape[-1],-1),index = time_index,columns=pd.MultiIndex.from_product(names_list[:-1],names=names_titles[:-1]))\n",
    "\n",
    "out_dict = {'C':C_out, \\\n",
    "            'RF':RF_out, \\\n",
    "            'T':T_out, \\\n",
    "            'alpha':alpha_out, \\\n",
    "            'Emissions':E_out , \\\n",
    "            'gas_parameters':gas_parameters , \\\n",
    "            'thermal parameters':thermal_parameters}\n",
    "\n",
    "for axis in [x for x in list(out_dict.keys())[:-2] if type(x)==pd.core.frame.DataFrame]:\n",
    "    out_dict[axis].index = out_dict[axis].index.rename('Year')\n",
    "\n",
    "# return out_dict\n"
   ]
  },
  {
   "cell_type": "code",
   "execution_count": null,
   "metadata": {},
   "outputs": [],
   "source": [
    "out_dict['RF'].plot(subplots=True,layout=(4,6),figsize=(20,10),legend=False)"
   ]
  },
  {
   "cell_type": "markdown",
   "metadata": {},
   "source": [
    "## Collecting gas cycle parameters"
   ]
  },
  {
   "cell_type": "code",
   "execution_count": null,
   "metadata": {},
   "outputs": [],
   "source": [
    "print(get_gas_parameter_defaults(help=True))"
   ]
  },
  {
   "cell_type": "code",
   "execution_count": null,
   "metadata": {},
   "outputs": [],
   "source": [
    "## Included RFs:\n",
    "\n",
    "# direct forcings for the above PLUS:\n",
    "## CH4 | trop_ozone, strat_h2o, CO2 ox (not include- double counting)\n",
    "## CO | trop_ozone, CO2 ox (not include- double counting)\n",
    "## NOx | trop_ozone\n",
    "## NMVOC | trop_ozone, CO2 ox (not include- double counting)\n",
    "## All halides (CFC11,CFC12,CFC113,HALON1301,HALON1211,CARB_TET) | strat_ozone (divide ODP by lifetime, scale to match AR5)\n",
    "## CH4|Land_use ? f2 = -2e-4 (maybe not)\n",
    "\n",
    "## change REs for all other gases to be from the WMO Ozone report 2018\n",
    "\n",
    "## Maybe change N2O and Ch4 pi concs to be specified rather than fit for simplicity\n",
    "\n",
    "## Need to allow for temp & gas & scenarios to be degenerate."
   ]
  },
  {
   "cell_type": "markdown",
   "metadata": {},
   "source": [
    "#### Ozone parameterisation:\n",
    "\n",
    "method: scale AR5 values by conc/emms perturbation in 2011"
   ]
  },
  {
   "cell_type": "code",
   "execution_count": null,
   "metadata": {},
   "outputs": [],
   "source": [
    "# trop ozone (source = Holmes 2013):\n",
    "CH4_2011_pert = RCMIP_concs.loc[(RCMIP_concs.Scenario=='historical')&(RCMIP_concs.Variable=='Atmospheric Concentrations|CH4')&(RCMIP_concs.Region=='World')].iloc[0,7:].loc['2009']-725\n",
    "print('ozone CH4 forc = ',(0.15+0.082-0.017-0.02)/CH4_2011_pert,'W m$^{-2}$ ppb${-1}$')\n",
    "print('ozone H2O strat forc = ',(0.055)/CH4_2011_pert,'W m$^{-2}$ ppb${-1}$')"
   ]
  },
  {
   "cell_type": "code",
   "execution_count": null,
   "metadata": {},
   "outputs": [],
   "source": [
    "# source = AR5\n",
    "CO_2011_pert = RCMIP_emms.loc[(RCMIP_emms.Scenario=='historical')&(RCMIP_emms.Variable=='Emissions|CO')&(RCMIP_emms.Region=='World')].iloc[0,7:].loc[['1750','2011']].diff().iloc[1]\n",
    "print('ozone CO forc = ',(0.075)/CO_2011_pert,'W m$^{-2}$ Mt${-1}$')"
   ]
  },
  {
   "cell_type": "code",
   "execution_count": null,
   "metadata": {},
   "outputs": [],
   "source": [
    "# source = AR5\n",
    "NOx_2011_pert = RCMIP_emms.loc[(RCMIP_emms.Scenario=='historical')&(RCMIP_emms.Variable=='Emissions|NOx')&(RCMIP_emms.Region=='World')].iloc[0,7:].loc[['1750','2011']].diff().iloc[1]\n",
    "print('ozone NOx forc = ',(0.143)/(NOx_2011_pert/((14+32) / 14)),'W m$^{-2}$ MtN${-1}$')"
   ]
  },
  {
   "cell_type": "code",
   "execution_count": null,
   "metadata": {},
   "outputs": [],
   "source": [
    "# source = AR5\n",
    "VOC_2011_pert = RCMIP_emms.loc[(RCMIP_emms.Scenario=='historical')&(RCMIP_emms.Variable=='Emissions|VOC')&(RCMIP_emms.Region=='World')].iloc[0,7:].loc[['1750','2011']].diff().iloc[1]\n",
    "print('ozone VOC forc = ',(0.042)/VOC_2011_pert,'W m$^{-2}$ Mt${-1}$')"
   ]
  },
  {
   "cell_type": "code",
   "execution_count": null,
   "metadata": {},
   "outputs": [],
   "source": []
  },
  {
   "cell_type": "code",
   "execution_count": null,
   "metadata": {},
   "outputs": [],
   "source": []
  },
  {
   "cell_type": "code",
   "execution_count": null,
   "metadata": {},
   "outputs": [],
   "source": []
  },
  {
   "cell_type": "code",
   "execution_count": null,
   "metadata": {},
   "outputs": [],
   "source": [
    "fig,ax = plt.subplots(2,2,figsize=(10,10))\n",
    "[RCP_data['RF'][RCP]['LANDUSE_RF'].plot(ax=ax.flatten()[i]) for i,RCP in enumerate(RCP_data['RF'].keys())]\n",
    "[((RCP_data['C'][RCP]['CH4']-720)*-2e-4).plot(ax=ax.flatten()[i]) for i,RCP in enumerate(RCP_data['RF'].keys())]\n",
    "[(RCP_data['E'][RCP]['OtherCO2'].cumsum()*-1.14e-3).plot(ax=ax.flatten()[i]) for i,RCP in enumerate(RCP_data['RF'].keys())]\n",
    "plt.legend()\n",
    "[ax.flatten()[i].set_title(RCP) for i,RCP in enumerate(RCP_data['RF'].keys())]"
   ]
  },
  {
   "cell_type": "code",
   "execution_count": null,
   "metadata": {},
   "outputs": [],
   "source": [
    "fig,ax = plt.subplots(7,5,figsize=(20,10))\n",
    "[RCP_data['C'][RCP][species].plot(ax=ax.flatten()[i]) for RCP in RCP_data['C'].keys() for i,species in enumerate(RCP_data['C'][RCP].keys())]\n",
    "[ax.flatten()[i].set_title(species) for i,species in enumerate(RCP_data['C'][RCP].keys())]\n",
    "print()"
   ]
  },
  {
   "cell_type": "code",
   "execution_count": null,
   "metadata": {},
   "outputs": [],
   "source": [
    "fig,ax = plt.subplots(9,6,figsize=(20,10))\n",
    "[RCP_data['RF'][RCP][species].plot(ax=ax.flatten()[i]) for RCP in RCP_data['RF'].keys() for i,species in enumerate(RCP_data['RF'][RCP].keys())]\n",
    "[ax.flatten()[i].set_title(species) for i,species in enumerate(RCP_data['RF'][RCP].keys())]\n",
    "print()"
   ]
  },
  {
   "cell_type": "code",
   "execution_count": null,
   "metadata": {},
   "outputs": [],
   "source": [
    "fig,ax = plt.subplots(8,5,figsize=(20,10))\n",
    "[RCP_data['E'][RCP][species].plot(ax=ax.flatten()[i]) for RCP in RCP_data['E'].keys() for i,species in enumerate(RCP_data['E'][RCP].keys())]\n",
    "[ax.flatten()[i].set_title(species) for i,species in enumerate(RCP_data['E'][RCP].keys())]\n",
    "print()"
   ]
  },
  {
   "cell_type": "markdown",
   "metadata": {},
   "source": [
    "## Calculating alpha from emissions and concentrations:"
   ]
  },
  {
   "cell_type": "code",
   "execution_count": null,
   "metadata": {},
   "outputs": [],
   "source": [
    "fit_r0_rC_rT_rA(out_dict['C'].loc[:,('ems_b','default','CO2')].values,out_dict['Emissions'].loc[:,('ems_b','CO2')].values,out_dict['T'].loc[:,('ems_b','default')].values,a.squeeze()[0],tau.squeeze()[0],PI_conc.squeeze()[0],emis2conc.squeeze()[0],timestep=False,coefs=['r_U','r_T'])"
   ]
  },
  {
   "cell_type": "code",
   "execution_count": null,
   "metadata": {},
   "outputs": [],
   "source": [
    "out_dict['gas_parameters']"
   ]
  },
  {
   "cell_type": "code",
   "execution_count": null,
   "metadata": {},
   "outputs": [],
   "source": []
  }
 ],
 "metadata": {
  "kernelspec": {
   "display_name": "Python 3",
   "language": "python",
   "name": "python3"
  },
  "language_info": {
   "codemirror_mode": {
    "name": "ipython",
    "version": 3
   },
   "file_extension": ".py",
   "mimetype": "text/x-python",
   "name": "python",
   "nbconvert_exporter": "python",
   "pygments_lexer": "ipython3",
   "version": "3.7.3"
  }
 },
 "nbformat": 4,
 "nbformat_minor": 4
}
